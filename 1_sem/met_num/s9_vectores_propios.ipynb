{
 "cells": [
  {
   "cell_type": "markdown",
   "metadata": {
    "id": "tsN0kEO02R_c"
   },
   "source": [
    "## Vectores y Valores Propios\n",
    "\n",
    "En este cuaderno se verán algunos ejemplos de cómo obtener y calcular valores propios."
   ]
  },
  {
   "cell_type": "code",
   "execution_count": 1,
   "metadata": {
    "id": "XbLAC9bMoN-Z"
   },
   "outputs": [],
   "source": [
    "import numpy as np"
   ]
  },
  {
   "cell_type": "markdown",
   "metadata": {
    "id": "Bcgo2uSA2Yna"
   },
   "source": [
    "Comenzaremos generando una matriz aleatoria hola cuadrada. "
   ]
  },
  {
   "cell_type": "code",
   "execution_count": 2,
   "metadata": {
    "id": "WVEt6rtzlM6H"
   },
   "outputs": [
    {
     "data": {
      "text/plain": [
       "array([[1, 1, 8, 7],\n",
       "       [3, 3, 1, 3],\n",
       "       [4, 0, 4, 8],\n",
       "       [5, 5, 3, 6]])"
      ]
     },
     "execution_count": 2,
     "metadata": {},
     "output_type": "execute_result"
    }
   ],
   "source": [
    "A = np.random.randint(10, size=(4,4)) \n",
    "A"
   ]
  },
  {
   "cell_type": "markdown",
   "metadata": {
    "id": "rahcpB1b2c1o"
   },
   "source": [
    "El primer paso es calcular el polinomio característico de la matriz. "
   ]
  },
  {
   "cell_type": "code",
   "execution_count": 3,
   "metadata": {
    "id": "8AyX77wQmmrG"
   },
   "outputs": [
    {
     "name": "stdout",
     "output_type": "stream",
     "text": [
      "\n",
      "Ecuación característica:\n",
      "   4      3      2\n",
      "1 x - 14 x - 42 x + 40 x + 4\n"
     ]
    }
   ],
   "source": [
    "polinomio_caracteristico = np.poly(A)\n",
    "print(\"\\nEcuación característica:\")\n",
    "print(np.poly1d(polinomio_caracteristico))"
   ]
  },
  {
   "cell_type": "markdown",
   "metadata": {
    "id": "zyLAOB6I2f0Y"
   },
   "source": [
    "Calculamos las raíces del polinomio obtenido, estos serán los valores propios dados."
   ]
  },
  {
   "cell_type": "code",
   "execution_count": 4,
   "metadata": {
    "id": "3lS2zLAom8mG"
   },
   "outputs": [
    {
     "data": {
      "text/plain": [
       "array([16.40997364, -3.16133146,  0.84284008, -0.09148226])"
      ]
     },
     "execution_count": 4,
     "metadata": {},
     "output_type": "execute_result"
    }
   ],
   "source": [
    "raices = np.roots(polinomio_caracteristico)\n",
    "raices"
   ]
  },
  {
   "cell_type": "markdown",
   "metadata": {
    "id": "mKZ_hYjC2maj"
   },
   "source": [
    "Si tomamos, por ejemplo, el primer valor propio e intentamos resolver el sistema de ecuaciones, veremos que la solución es el vector nulo. \n",
    "\n",
    "Esta solución es correcta, veremos que el sistema tiene un número infinito de soluciones, por lo cual la solución deberá ser calculada de manera manual."
   ]
  },
  {
   "cell_type": "code",
   "execution_count": 5,
   "metadata": {
    "id": "dWVrc7VXpVYL"
   },
   "outputs": [
    {
     "data": {
      "text/plain": [
       "array([[-15.40997364,   1.        ,   8.        ,   7.        ],\n",
       "       [  3.        , -13.40997364,   1.        ,   3.        ],\n",
       "       [  4.        ,   0.        , -12.40997364,   8.        ],\n",
       "       [  5.        ,   5.        ,   3.        , -10.40997364]])"
      ]
     },
     "execution_count": 5,
     "metadata": {},
     "output_type": "execute_result"
    }
   ],
   "source": [
    "raiz = raices[0]\n",
    "sistema = A-(np.eye(4)*raiz)\n",
    "sistema"
   ]
  },
  {
   "cell_type": "code",
   "execution_count": 6,
   "metadata": {
    "id": "kTFxW_8BoT5R"
   },
   "outputs": [
    {
     "data": {
      "text/plain": [
       "array([[-0.],\n",
       "       [-0.],\n",
       "       [-0.],\n",
       "       [-0.]])"
      ]
     },
     "execution_count": 6,
     "metadata": {},
     "output_type": "execute_result"
    }
   ],
   "source": [
    "np.linalg.solve( sistema, np.zeros((4,1)))"
   ]
  },
  {
   "cell_type": "markdown",
   "metadata": {
    "id": "s-fJlemQ23Pj"
   },
   "source": [
    "Afortunadamente, en numpy ofrece métodos para calcular valores y vectores propios de manera directa, los cuales se muestran a continuación.\n",
    "\n"
   ]
  },
  {
   "cell_type": "code",
   "execution_count": 7,
   "metadata": {
    "id": "sKvxXahalhtX"
   },
   "outputs": [
    {
     "name": "stdout",
     "output_type": "stream",
     "text": [
      "Valores propios:\n",
      "16.409973643477727\n",
      "-3.1613314622797497\n",
      "0.8428400807481896\n",
      "-0.09148226194616565\n",
      "\n",
      "Vectores propios:\n",
      "[-0.55477694 -0.29010362 -0.5409015  -0.5616832 ]\n",
      "[-0.90095434  0.27064738  0.18755076  0.28258802]\n",
      "[-0.61870394  0.39019758 -0.46939053  0.49459459]\n",
      "[-0.671966    0.25286763 -0.42337773  0.55251331]\n"
     ]
    }
   ],
   "source": [
    "eigenvalues, eigenvectors = np.linalg.eig(A)\n",
    "\n",
    "print(\"Valores propios:\")\n",
    "for eigenvalue in eigenvalues:\n",
    "    print(eigenvalue)\n",
    "\n",
    "print(\"\\nVectores propios:\")\n",
    "for eigenvector in eigenvectors.T:\n",
    "    print(eigenvector)"
   ]
  },
  {
   "cell_type": "markdown",
   "metadata": {
    "id": "BkmrSwLc28O3"
   },
   "source": [
    "Podemos comprobar que estos vectores propios son correctos al multiplicar la matriz A por cada uno de los vectores propios, y esto debe ser igual al vector propio multiplicado por el valor propio."
   ]
  },
  {
   "cell_type": "code",
   "execution_count": 8,
   "metadata": {
    "id": "sDMLJgB-lojY"
   },
   "outputs": [
    {
     "name": "stdout",
     "output_type": "stream",
     "text": [
      "[-9.1038749  -4.76059275 -8.8761793  -9.21720644] == [-9.1038749  -4.76059275 -8.8761793  -9.21720644]\n",
      "[ 2.8482153  -0.85560606 -0.59291013 -0.8933544 ] == [ 2.8482153  -0.85560606 -0.59291013 -0.8933544 ]\n",
      "[-0.52146848  0.32887416 -0.39562115  0.41686415] == [-0.52146848  0.32887416 -0.39562115  0.41686415]\n",
      "[ 0.06147297 -0.0231329   0.03873155 -0.05054517] == [ 0.06147297 -0.0231329   0.03873155 -0.05054517]\n"
     ]
    }
   ],
   "source": [
    "for eigenvalue, eigenvector in zip(eigenvalues, eigenvectors.T):\n",
    "  print(f\"{np.matmul(A,eigenvector)} == {eigenvalue*eigenvector}\")"
   ]
  },
  {
   "cell_type": "markdown",
   "metadata": {
    "id": "WsVpFFJr3DUx"
   },
   "source": [
    "## Método de la potencia \n",
    "definimos un número de iteraciones y un vector propio inicial, \n",
    "El cuál iremos multiplicado por potencias de la matriz A hasta que encontremos convergencia en el vector valor propio dominante.\n"
   ]
  },
  {
   "cell_type": "code",
   "execution_count": 14,
   "metadata": {
    "id": "cAJpCl0KthFF"
   },
   "outputs": [
    {
     "data": {
      "text/plain": [
       "array([1, 0, 0, 0])"
      ]
     },
     "execution_count": 14,
     "metadata": {},
     "output_type": "execute_result"
    }
   ],
   "source": [
    "iteraciones = 50\n",
    "x = np.array([1,0,0,0])\n",
    "x"
   ]
  },
  {
   "cell_type": "code",
   "execution_count": 15,
   "metadata": {
    "id": "uxyAZBvlunx9"
   },
   "outputs": [
    {
     "name": "stdout",
     "output_type": "stream",
     "text": [
      "1.0 [1 3 4 5]\n",
      "71.0 [71 31 60 62]\n",
      "14.309859154929578 [1016  552 1020 1062]\n",
      "16.891732283464567 [17162  8910 16640 17272]\n",
      "16.320708542127957 [280096 146672 273384 283912]\n",
      "16.42731063635325 [4601224 2405424 4485216 4657464]\n",
      "16.406639624586848 [75490624 39477552 73605472 76433672]\n",
      "16.41061618460062 [1238847656  647811016 1207853760 1254259328]\n",
      "16.409849870999796 [20329304048 10630607760 19820880288 20582410608]\n",
      "16.40999748837049 [333603828368 174447847536 325260022208 337756663552]\n",
      "16.40996904985494 [5474428498432 2862685040576 5337508710720 5542578427456]\n",
      "16.40997452842627 [89835232216960 46976584610112 87588376256256 90953564391936]\n",
      "16.40997347299514 [1474193777620672  770884519913280 1437322949028352 1492545599255744]\n",
      "16.409973676320686 [24191481084550976 12650194639397440 23586431700642048 24492633930289280]\n",
      "16.409973637150635 [396981566841109760 207589360663355136 387052722583086336\n",
      " 401923477303403904]\n",
      "16.409973644696628 [6514457049292982912 3406535937006692736 6351524976124015616\n",
      " 6595553669092006912]\n",
      "-0.5800016693227767 [-3778395963321460736   560932721170408448 -6452106987853260288\n",
      " -2447602567834843136]\n",
      "-0.48153745469751197 [ 1819439175017169920 -5000560344101394944 -5162600126248974336\n",
      "  5210979639804553728]\n",
      "-4.399742959458153 [-8005064700444143616   926975285912011776 -8578294833909891072\n",
      "  -127528385340725760]\n",
      "0.351049066249548 [-2810170488358134272  6698339913890639360  6433311074696261632\n",
      " -6550269665306032128]\n",
      "3.1827156910237036 [-8943973707749178368 -1552989644624319488 -1016106829676644352\n",
      "  -560837640084882432]\n",
      "0.458961254896658 [-4104937396671278080  2703978340367318016 -7433535122963247104\n",
      " -3557930870278062080]\n",
      "-1.5734622997731964 [ 6458964236591386624 -3863460828999761920  -830360745924390912\n",
      "  4687246349050740736]\n",
      "-1.2587383930396203 [-8130146263867420672  2571144450293153792  4672152533945253888\n",
      "  1716424747070291968]\n",
      "-0.8535767149605454 [ 6939703540060704768 -6855578665566670848  -100576943126331392\n",
      " -3480002983613820928]\n",
      "-0.9559151113313673 [-6633767482103812096  8158532803223859200  -483517481173073920\n",
      " -2314380284882198528]\n",
      "0.014666243426959444 [  -97292448730382336 -2852362372459528192  8356050088963522560\n",
      " -7713007547212177408]\n",
      "87.76684239226022 [-8539051013676523520 -5185192942533189632  8224458330654244864\n",
      "   935319025087053824]\n",
      "-0.3839330199871272 [ 3278423643504967680  6751171684705370112  6224181468607315968\n",
      " -1442442491144404992]\n",
      "-1.712494537792067 [-5614282582070624256 -4907848167613988864  8024136445584343040\n",
      "  4825633878878552064]\n",
      "0.8519917427532847 [-4783322401407762432 -9065354166833840128 -7095745736045363200\n",
      "   415558861601275904]\n",
      "-1.2713435054373252 [ 6081245869442629632  7945133365162311680 -7298313509583192064\n",
      "  4196453488811311104]\n",
      "0.5692566503063329 [ 3461789653328134144 -7970047560463089664 -8190130797490864128\n",
      "  -371299717695209472]\n",
      "0.33467486471803065 [ 1158573983909871616 -4382059598271807488 -3437018244503044096\n",
      "  6000751986810028032]\n",
      "-6.180970603412691 [-7161111736425644032  4894780872841232384  1998750704688431104\n",
      " -8870714958168195072]\n",
      "-0.9731592725227807 [ 6968902287874326528  5481101386849714176   618556576253345792\n",
      " -3219459731737280512]\n",
      "-0.7372411931144023 [-5137761837410156544 -8583299742205476864  4594157602612445184\n",
      "  7895441564537454592]\n",
      "-0.8784591503141717 [ 4513313898207903744  5564041631087460352  5648883355980136448\n",
      " -7450185703016103936]\n",
      "0.6906504901556793 [ 3117122456023728128 -4916351238891634688  -505952533667119104\n",
      "  4185569422611054592]\n",
      "1.6057735629507361 [ 5005392832362971136  6653069385562324992  7035746922895769600\n",
      " -3847329053384114176]\n",
      "0.8230415110173734 [ 4119646079983550464 -6424341730899787776 -1060817479747502080\n",
      "   975345316880449536]\n",
      "-0.962174466877731 [-3963818270733107200 -5048868481854865408  1591332862278238208\n",
      " -8853858792540995584]\n",
      "0.7363615033946925 [-2918803181020381184  3331928448019988480 -6533835679309234176\n",
      " -1178867562803363840]\n",
      "1.6340262053235903 [-4769400885969158144 -8831062566720503808  8098736277383282688\n",
      " -6162342006040297472]\n",
      "-1.6884788921361795 [ 8053032724094517248  4150552122322059264   912093664753221632\n",
      " -6893184172702040064]\n",
      "1.0109896956692928 [ 8141533102947172352 -1603448387812720640  -838223752515813376\n",
      "  3948356116420755456]\n",
      "1.1083960873385195 [ 9024043436243681280 -6272389405269295104  5459854111962824704\n",
      " -1474343204479303680]\n",
      "-0.08681293010523697 [ -783403652097245184 -9154957482261479424 -9199387664137060352\n",
      "  2845029190175031296]\n",
      "10.566744069855023 [-8278025895101333504  6414104650730962944  1275812330172579840\n",
      " -4879561302025961472]\n",
      "0.8900198835838169 [-7367607643461910528  -507891235306864640  6741631618915500032\n",
      "  2123951103929221120]\n"
     ]
    }
   ],
   "source": [
    "for i in range(iteraciones):\n",
    "  x_new = np.matmul(A, x)\n",
    "  eigenvalue = x_new[0]/x[0]\n",
    "  x = x_new\n",
    "  print(eigenvalue, x)"
   ]
  },
  {
   "cell_type": "markdown",
   "metadata": {
    "id": "pjkkc2JB3Jg4"
   },
   "source": [
    "Podemos ver que los vectores propios crecen de manera exponencial, por lo que se recomienda normalizarlos. "
   ]
  },
  {
   "cell_type": "code",
   "execution_count": 16,
   "metadata": {
    "id": "35UcKl9CwvRh"
   },
   "outputs": [
    {
     "data": {
      "text/plain": [
       "array([-0.72072169, -0.04968346,  0.65948682,  0.20777133])"
      ]
     },
     "execution_count": 16,
     "metadata": {},
     "output_type": "execute_result"
    }
   ],
   "source": [
    "x/np.linalg.norm(x)"
   ]
  },
  {
   "cell_type": "markdown",
   "metadata": {
    "id": "HYbrmYn-3Lvt"
   },
   "source": [
    "Comparándolo con el valor propio del método anterior, vemos que son iguales."
   ]
  },
  {
   "cell_type": "code",
   "execution_count": 17,
   "metadata": {
    "id": "oKQ-n9E5xLRH"
   },
   "outputs": [
    {
     "data": {
      "text/plain": [
       "array([-0.55477694, -0.29010362, -0.5409015 , -0.5616832 ])"
      ]
     },
     "execution_count": 17,
     "metadata": {},
     "output_type": "execute_result"
    }
   ],
   "source": [
    "eigenvectors.T[0]/np.linalg.norm(eigenvectors.T[0])  "
   ]
  },
  {
   "cell_type": "code",
   "execution_count": null,
   "metadata": {},
   "outputs": [],
   "source": []
  }
 ],
 "metadata": {
  "colab": {
   "authorship_tag": "ABX9TyNAa0bj+fVpC/AumgJEjYLc",
   "provenance": []
  },
  "kernelspec": {
   "display_name": "Python 3 (ipykernel)",
   "language": "python",
   "name": "python3"
  },
  "language_info": {
   "codemirror_mode": {
    "name": "ipython",
    "version": 3
   },
   "file_extension": ".py",
   "mimetype": "text/x-python",
   "name": "python",
   "nbconvert_exporter": "python",
   "pygments_lexer": "ipython3",
   "version": "3.11.2"
  }
 },
 "nbformat": 4,
 "nbformat_minor": 1
}
