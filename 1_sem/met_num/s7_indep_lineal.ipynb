{
 "cells": [
  {
   "cell_type": "markdown",
   "metadata": {
    "id": "_VrE281Uj4oS"
   },
   "source": [
    "# Independencia lineal.\n",
    "\n",
    "En este cuaderno veremos algunos ejemplos de independencia lineal, cómo calcularlos, y conceptos relacionados.\n",
    "\n",
    "Comenzamos importando la librería numpy. Que nos ayudará a trabajar con matrices y vectores.\n"
   ]
  },
  {
   "cell_type": "code",
   "execution_count": 1,
   "metadata": {
    "id": "93e5D53_DpEN"
   },
   "outputs": [],
   "source": [
    "import numpy as np\n",
    "from numpy.linalg import LinAlgError"
   ]
  },
  {
   "cell_type": "markdown",
   "metadata": {
    "id": "aTtAlrhQj7m2"
   },
   "source": [
    "Definimos una función que nos ayudará A encontrar si un vector es linealmente independiente a un conjunto dado. \n",
    "\n",
    "Internamente, usa la implementación de resolución de sistemas de ecuaciones de numpy. Sin embargo, este implementación sólo admite matrices cuadradas. Por lo que si falla. Se utilizará mínimos cuadrados."
   ]
  },
  {
   "cell_type": "code",
   "execution_count": 2,
   "metadata": {
    "id": "0TPkwjLtEBmz"
   },
   "outputs": [],
   "source": [
    "def independencia_lineal(vector, conjunto):\n",
    "  A = np.array(conjunto).transpose()\n",
    "  ind = np.array(vector).transpose()\n",
    "  try:\n",
    "    x = np.linalg.solve(A,ind)\n",
    "  except LinAlgError:\n",
    "    print(\"Matriz no cuadrada, intentando con minimos cuadrados \")\n",
    "    x,res,rank,s = np.linalg.lstsq(A,ind,rcond=None)\n",
    "    #print(f\"Rango {rank}\")\n",
    "  return x"
   ]
  },
  {
   "cell_type": "markdown",
   "metadata": {
    "id": "j62URSpRj-ZW"
   },
   "source": [
    "Se crean 3 vectores aleatorios. Los cual es se utilizarán para probar la Independencia lineal."
   ]
  },
  {
   "cell_type": "code",
   "execution_count": 3,
   "metadata": {
    "id": "2bUxu-wGDqmb"
   },
   "outputs": [
    {
     "name": "stdout",
     "output_type": "stream",
     "text": [
      "[4 9 8 1] [4 0 2 0] [4 7 7 5]\n"
     ]
    }
   ],
   "source": [
    "a = np.random.randint(10, size=4)\n",
    "b = np.random.randint(10, size=4)\n",
    "c = np.random.randint(10, size=4)\n",
    "print(a,b,c)"
   ]
  },
  {
   "cell_type": "markdown",
   "metadata": {
    "id": "la7Vi5tLkCe4"
   },
   "source": [
    "Se ejecuta la función de independencia lineal. Para probar la Independencia del vector C contra el Grupo de A y B. La respuesta se usa para calcular la combinación lineal y se compara con el vector.\n",
    "\n",
    "Vemos que las diferencias son notables. Por lo tanto son linealmente independientes"
   ]
  },
  {
   "cell_type": "code",
   "execution_count": 5,
   "metadata": {
    "id": "ju_kTA_PHTHF"
   },
   "outputs": [
    {
     "name": "stdout",
     "output_type": "stream",
     "text": [
      "Matriz no cuadrada, intentando con minimos cuadrados \n",
      "[0.83032491 0.17148014]\n",
      "a\n"
     ]
    },
    {
     "data": {
      "text/plain": [
       "array([ 0.00722022,  0.47292419, -0.01444043, -4.16967509])"
      ]
     },
     "execution_count": 5,
     "metadata": {},
     "output_type": "execute_result"
    }
   ],
   "source": [
    "x = independencia_lineal(c, [a,b])\n",
    "print(x)\n",
    "print(\"a\")\n",
    "(x[0]*a + x[1]*b ) - c"
   ]
  },
  {
   "cell_type": "markdown",
   "metadata": {
    "id": "67Aw8E2lkGIw"
   },
   "source": [
    "Ahora creamos un elemento linealmente depenediente al definirlo como una combinación lineal."
   ]
  },
  {
   "cell_type": "code",
   "execution_count": 6,
   "metadata": {
    "id": "8Z8BIer7GUcK"
   },
   "outputs": [
    {
     "name": "stdout",
     "output_type": "stream",
     "text": [
      "[8 7 4 3]\n",
      "[0 7 1 3]\n",
      "[ 8 21  6  9]\n"
     ]
    }
   ],
   "source": [
    "a = np.random.randint(10, size=4)\n",
    "b = np.random.randint(10, size=4)\n",
    "c = a+2*b\n",
    "print(a)\n",
    "print(b)\n",
    "print(c)"
   ]
  },
  {
   "cell_type": "markdown",
   "metadata": {
    "id": "jTjF9j-ikKcZ"
   },
   "source": [
    "Calculamos los factores de su combinación lineal(que ya conocemos) y coparamos la combinación lineal con el vector. Vemos que la diferencia esta a nivel de maquina por lo que si es linealmente dependiente"
   ]
  },
  {
   "cell_type": "code",
   "execution_count": 7,
   "metadata": {
    "id": "kQP_kAaiHwBU"
   },
   "outputs": [
    {
     "name": "stdout",
     "output_type": "stream",
     "text": [
      "Matriz no cuadrada, intentando con minimos cuadrados \n",
      "[1. 2.]\n"
     ]
    },
    {
     "data": {
      "text/plain": [
       "array([1.06581410e-14, 1.42108547e-14, 6.21724894e-15, 7.10542736e-15])"
      ]
     },
     "execution_count": 7,
     "metadata": {},
     "output_type": "execute_result"
    }
   ],
   "source": [
    "x = independencia_lineal(c, [a,b])\n",
    "print(x)\n",
    "\n",
    "(x[0]*a + x[1]*b ) - c"
   ]
  },
  {
   "cell_type": "markdown",
   "metadata": {
    "id": "FwT6VUzpkRk3"
   },
   "source": [
    "## Conjuntos linealmente independientes\n",
    "Definimos una función que no ayuda a saber si un conjunto es linealmente independiente. Tomando un elmento y comparándolo contra los demás .\n"
   ]
  },
  {
   "cell_type": "code",
   "execution_count": 8,
   "metadata": {
    "id": "0B6ulqCBLuwr"
   },
   "outputs": [],
   "source": [
    "def concunto_li(conjunto):\n",
    "  c = conjunto[1:]\n",
    "  vec =  conjunto[0]\n",
    "  return independencia_lineal(vec, c)"
   ]
  },
  {
   "cell_type": "markdown",
   "metadata": {
    "id": "FPCKwtOnkTOm"
   },
   "source": [
    "Utilzando el ejemplo anterior, vemos que la diferencia es 0 por lo que este conjunto es linealmente dependiente"
   ]
  },
  {
   "cell_type": "code",
   "execution_count": 9,
   "metadata": {
    "id": "JFGGiEl8M4K2"
   },
   "outputs": [
    {
     "name": "stdout",
     "output_type": "stream",
     "text": [
      "Matriz no cuadrada, intentando con minimos cuadrados \n",
      "[-2.  1.]\n"
     ]
    },
    {
     "data": {
      "text/plain": [
       "array([-6.21724894e-15, -1.24344979e-14, -3.55271368e-15, -5.32907052e-15])"
      ]
     },
     "execution_count": 9,
     "metadata": {},
     "output_type": "execute_result"
    }
   ],
   "source": [
    "x = concunto_li([a,b,c])\n",
    "print(x)\n",
    "\n",
    "(x[0]*b + x[1]*c ) - a"
   ]
  },
  {
   "cell_type": "markdown",
   "metadata": {
    "id": "wc8FmfMakXkW"
   },
   "source": [
    "# Numero de soluciones de un sistema de ecuaciones \n",
    "Definimos un sistema de ecuaciones lineales en el cual la ultima fila de A es una combinación lineal de la primera. Sin embargo B es aleatorio independiente.\n"
   ]
  },
  {
   "cell_type": "code",
   "execution_count": 10,
   "metadata": {
    "id": "-HQ72_CzNLI3"
   },
   "outputs": [
    {
     "name": "stdout",
     "output_type": "stream",
     "text": [
      "[[ -7 -10  -7  -9   0]\n",
      " [ -2   4  -7  -8  -4]\n",
      " [  2   4 -10   3  -7]\n",
      " [ -7  -5  -5   3  -2]\n",
      " [-14 -20 -14 -18   0]]\n",
      "[[ 2]\n",
      " [ 4]\n",
      " [-9]\n",
      " [-7]\n",
      " [ 0]]\n",
      "[[  72]\n",
      " [ 131]\n",
      " [  89]\n",
      " [ -10]\n",
      " [-112]]\n",
      "[[  -7  -10   -7   -9    0   72]\n",
      " [  -2    4   -7   -8   -4  131]\n",
      " [   2    4  -10    3   -7   89]\n",
      " [  -7   -5   -5    3   -2  -10]\n",
      " [ -14  -20  -14  -18    0 -112]]\n"
     ]
    }
   ],
   "source": [
    "A = np.random.randint(20, size=(5,5)) - 10\n",
    "x = np.random.randint(20, size=(5,1)) - 10\n",
    "b = np.matmul(A,x)\n",
    "A[-1] = A[0]*2\n",
    "B = np.concatenate([A,b],1)\n",
    "print(A)\n",
    "print(x)\n",
    "print(b)\n",
    "print(B)"
   ]
  },
  {
   "cell_type": "markdown",
   "metadata": {
    "id": "v5N4G8SHkZS-"
   },
   "source": [
    "Calculamos el rango de la matriz A y de la matriz compuesta B, vemos que los rangos son distintos. Por lo queesperamos que el sistema no se pueda resolver."
   ]
  },
  {
   "cell_type": "code",
   "execution_count": 11,
   "metadata": {
    "id": "j4vpJV-1NzHD"
   },
   "outputs": [
    {
     "name": "stdout",
     "output_type": "stream",
     "text": [
      "Rango A: 4\n",
      "Rango B: 5\n"
     ]
    },
    {
     "ename": "LinAlgError",
     "evalue": "Singular matrix",
     "output_type": "error",
     "traceback": [
      "\u001b[0;31m---------------------------------------------------------------------------\u001b[0m",
      "\u001b[0;31mLinAlgError\u001b[0m                               Traceback (most recent call last)",
      "Cell \u001b[0;32mIn [11], line 5\u001b[0m\n\u001b[1;32m      1\u001b[0m \u001b[38;5;28mprint\u001b[39m(\u001b[38;5;124mf\u001b[39m\u001b[38;5;124m\"\u001b[39m\u001b[38;5;124mRango A: \u001b[39m\u001b[38;5;132;01m{\u001b[39;00mnp\u001b[38;5;241m.\u001b[39mlinalg\u001b[38;5;241m.\u001b[39mmatrix_rank(A)\u001b[38;5;132;01m}\u001b[39;00m\u001b[38;5;124m\"\u001b[39m)\n\u001b[1;32m      3\u001b[0m \u001b[38;5;28mprint\u001b[39m(\u001b[38;5;124mf\u001b[39m\u001b[38;5;124m\"\u001b[39m\u001b[38;5;124mRango B: \u001b[39m\u001b[38;5;132;01m{\u001b[39;00mnp\u001b[38;5;241m.\u001b[39mlinalg\u001b[38;5;241m.\u001b[39mmatrix_rank(B)\u001b[38;5;132;01m}\u001b[39;00m\u001b[38;5;124m\"\u001b[39m)\n\u001b[0;32m----> 5\u001b[0m \u001b[43mnp\u001b[49m\u001b[38;5;241;43m.\u001b[39;49m\u001b[43mlinalg\u001b[49m\u001b[38;5;241;43m.\u001b[39;49m\u001b[43msolve\u001b[49m\u001b[43m(\u001b[49m\u001b[43mA\u001b[49m\u001b[43m,\u001b[49m\u001b[43mb\u001b[49m\u001b[43m)\u001b[49m\n",
      "File \u001b[0;32m<__array_function__ internals>:200\u001b[0m, in \u001b[0;36msolve\u001b[0;34m(*args, **kwargs)\u001b[0m\n",
      "File \u001b[0;32m/usr/lib/python3/dist-packages/numpy/linalg/linalg.py:386\u001b[0m, in \u001b[0;36msolve\u001b[0;34m(a, b)\u001b[0m\n\u001b[1;32m    384\u001b[0m signature \u001b[38;5;241m=\u001b[39m \u001b[38;5;124m'\u001b[39m\u001b[38;5;124mDD->D\u001b[39m\u001b[38;5;124m'\u001b[39m \u001b[38;5;28;01mif\u001b[39;00m isComplexType(t) \u001b[38;5;28;01melse\u001b[39;00m \u001b[38;5;124m'\u001b[39m\u001b[38;5;124mdd->d\u001b[39m\u001b[38;5;124m'\u001b[39m\n\u001b[1;32m    385\u001b[0m extobj \u001b[38;5;241m=\u001b[39m get_linalg_error_extobj(_raise_linalgerror_singular)\n\u001b[0;32m--> 386\u001b[0m r \u001b[38;5;241m=\u001b[39m \u001b[43mgufunc\u001b[49m\u001b[43m(\u001b[49m\u001b[43ma\u001b[49m\u001b[43m,\u001b[49m\u001b[43m \u001b[49m\u001b[43mb\u001b[49m\u001b[43m,\u001b[49m\u001b[43m \u001b[49m\u001b[43msignature\u001b[49m\u001b[38;5;241;43m=\u001b[39;49m\u001b[43msignature\u001b[49m\u001b[43m,\u001b[49m\u001b[43m \u001b[49m\u001b[43mextobj\u001b[49m\u001b[38;5;241;43m=\u001b[39;49m\u001b[43mextobj\u001b[49m\u001b[43m)\u001b[49m\n\u001b[1;32m    388\u001b[0m \u001b[38;5;28;01mreturn\u001b[39;00m wrap(r\u001b[38;5;241m.\u001b[39mastype(result_t, copy\u001b[38;5;241m=\u001b[39m\u001b[38;5;28;01mFalse\u001b[39;00m))\n",
      "File \u001b[0;32m/usr/lib/python3/dist-packages/numpy/linalg/linalg.py:89\u001b[0m, in \u001b[0;36m_raise_linalgerror_singular\u001b[0;34m(err, flag)\u001b[0m\n\u001b[1;32m     88\u001b[0m \u001b[38;5;28;01mdef\u001b[39;00m \u001b[38;5;21m_raise_linalgerror_singular\u001b[39m(err, flag):\n\u001b[0;32m---> 89\u001b[0m     \u001b[38;5;28;01mraise\u001b[39;00m LinAlgError(\u001b[38;5;124m\"\u001b[39m\u001b[38;5;124mSingular matrix\u001b[39m\u001b[38;5;124m\"\u001b[39m)\n",
      "\u001b[0;31mLinAlgError\u001b[0m: Singular matrix"
     ]
    }
   ],
   "source": [
    "print(f\"Rango A: {np.linalg.matrix_rank(A)}\")\n",
    "\n",
    "print(f\"Rango B: {np.linalg.matrix_rank(B)}\")\n",
    "\n",
    "np.linalg.solve(A,b)"
   ]
  },
  {
   "cell_type": "markdown",
   "metadata": {
    "id": "TXtQh8LCkkm_"
   },
   "source": [
    "Ahora definimos un sistema de ecuaciones completamente aletatrorio y bien definido. "
   ]
  },
  {
   "cell_type": "code",
   "execution_count": 12,
   "metadata": {
    "id": "rftjJP6qPCv2"
   },
   "outputs": [
    {
     "name": "stdout",
     "output_type": "stream",
     "text": [
      "[[ -9   9  -3  -3   3]\n",
      " [ -7  -6  -2  -1   7]\n",
      " [ -2 -10  -7  -1   1]\n",
      " [  7   0  -3  -5   1]\n",
      " [  3   0   1  -6  -8]]\n",
      "[[-6]\n",
      " [ 7]\n",
      " [-5]\n",
      " [ 9]\n",
      " [-5]]\n",
      "[[ 90]\n",
      " [-34]\n",
      " [-37]\n",
      " [-77]\n",
      " [-37]]\n",
      "[[ -9   9  -3  -3   3  90]\n",
      " [ -7  -6  -2  -1   7 -34]\n",
      " [ -2 -10  -7  -1   1 -37]\n",
      " [  7   0  -3  -5   1 -77]\n",
      " [  3   0   1  -6  -8 -37]]\n"
     ]
    }
   ],
   "source": [
    "A = np.random.randint(20, size=(5,5)) - 10\n",
    "x = np.random.randint(20, size=(5,1)) - 10\n",
    "b = np.matmul(A,x)\n",
    "B = np.concatenate([A,b],1)\n",
    "print(A)\n",
    "print(x)\n",
    "print(b)\n",
    "print(B)"
   ]
  },
  {
   "cell_type": "markdown",
   "metadata": {
    "id": "iRtbPGfIkmdf"
   },
   "source": [
    "En este caso vemos que coincide el rango de A el rango de B y el numero de columnas po lo que la solución es única."
   ]
  },
  {
   "cell_type": "code",
   "execution_count": 13,
   "metadata": {
    "id": "8O6kBxVaPLfv"
   },
   "outputs": [
    {
     "name": "stdout",
     "output_type": "stream",
     "text": [
      "Rango A: 5\n",
      "Rango b: 5\n"
     ]
    },
    {
     "data": {
      "text/plain": [
       "5"
      ]
     },
     "execution_count": 13,
     "metadata": {},
     "output_type": "execute_result"
    }
   ],
   "source": [
    "print(f\"Rango A: {np.linalg.matrix_rank(A)}\")\n",
    "print(f\"Rango b: {np.linalg.matrix_rank(B)}\")\n",
    "A.shape[1]"
   ]
  },
  {
   "cell_type": "markdown",
   "metadata": {
    "id": "bXP4RWwLxFe7"
   },
   "source": [
    "Corroboramos esto al resolver el sistema y comparando el resultado."
   ]
  },
  {
   "cell_type": "code",
   "execution_count": 14,
   "metadata": {
    "id": "KS-UHuWIPUfw"
   },
   "outputs": [
    {
     "name": "stdout",
     "output_type": "stream",
     "text": [
      "[[-6.]\n",
      " [ 7.]\n",
      " [-5.]\n",
      " [ 9.]\n",
      " [-5.]]\n"
     ]
    },
    {
     "data": {
      "text/plain": [
       "array([[ 0.00000000e+00],\n",
       "       [ 0.00000000e+00],\n",
       "       [ 2.66453526e-15],\n",
       "       [-1.77635684e-15],\n",
       "       [ 0.00000000e+00]])"
      ]
     },
     "execution_count": 14,
     "metadata": {},
     "output_type": "execute_result"
    }
   ],
   "source": [
    "x2 = np.linalg.solve(A,b)\n",
    "print(x2)\n",
    "\n",
    "x2-x"
   ]
  },
  {
   "cell_type": "markdown",
   "metadata": {
    "id": "HooUjucQk3gY"
   },
   "source": [
    "Ahora vemos un ejemplo de un sistema de ecuaciones donde el rango de A y de B coinciden, pero son menores al numero de columnas. Por lo tanto el sistema tendrá infinitas soluciones"
   ]
  },
  {
   "cell_type": "code",
   "execution_count": 15,
   "metadata": {
    "id": "I4XA6qRpPj0q"
   },
   "outputs": [
    {
     "name": "stdout",
     "output_type": "stream",
     "text": [
      "[[  1  -1   3   5   8]\n",
      " [ -8   4  -9  -7 -10]\n",
      " [ -3   7  -2   2   2]\n",
      " [ -7   0  -8  -1  -9]\n",
      " [  2  -2   6  10  16]]\n",
      "[[-9]\n",
      " [-7]\n",
      " [ 4]\n",
      " [ 6]\n",
      " [-2]]\n",
      "[[ 24]\n",
      " [-14]\n",
      " [-22]\n",
      " [ 43]\n",
      " [ 48]]\n",
      "[[  1  -1   3   5   8  24]\n",
      " [ -8   4  -9  -7 -10 -14]\n",
      " [ -3   7  -2   2   2 -22]\n",
      " [ -7   0  -8  -1  -9  43]\n",
      " [  2  -2   6  10  16  48]]\n"
     ]
    }
   ],
   "source": [
    "A = np.random.randint(20, size=(5,5)) - 10\n",
    "x = np.random.randint(20, size=(5,1)) - 10\n",
    "A[-1] = A[0]*2\n",
    "b = np.matmul(A,x)\n",
    "B = np.concatenate([A,b],1)\n",
    "print(A)\n",
    "print(x)\n",
    "print(b)\n",
    "print(B)"
   ]
  },
  {
   "cell_type": "markdown",
   "metadata": {
    "id": "10-ojIgbk4r4"
   },
   "source": []
  },
  {
   "cell_type": "code",
   "execution_count": 16,
   "metadata": {
    "id": "naK_ZL4yPz5b"
   },
   "outputs": [
    {
     "name": "stdout",
     "output_type": "stream",
     "text": [
      "Rango A: 4\n",
      "Rango b: 4\n"
     ]
    },
    {
     "data": {
      "text/plain": [
       "5"
      ]
     },
     "execution_count": 16,
     "metadata": {},
     "output_type": "execute_result"
    }
   ],
   "source": [
    "print(f\"Rango A: {np.linalg.matrix_rank(A)}\")\n",
    "print(f\"Rango b: {np.linalg.matrix_rank(B)}\")\n",
    "A.shape[1]"
   ]
  },
  {
   "cell_type": "markdown",
   "metadata": {
    "id": "F80kVfvBk7y2"
   },
   "source": [
    "Como tiene infinitas soluciones el método da un error, lo que hacemos es calcular mediante mínimos cuadrados la respuesta .\n",
    "\n"
   ]
  },
  {
   "cell_type": "code",
   "execution_count": 17,
   "metadata": {
    "id": "iLUPWbOJP9Ld"
   },
   "outputs": [
    {
     "ename": "LinAlgError",
     "evalue": "Singular matrix",
     "output_type": "error",
     "traceback": [
      "\u001b[0;31m---------------------------------------------------------------------------\u001b[0m",
      "\u001b[0;31mLinAlgError\u001b[0m                               Traceback (most recent call last)",
      "Cell \u001b[0;32mIn [17], line 1\u001b[0m\n\u001b[0;32m----> 1\u001b[0m \u001b[43mnp\u001b[49m\u001b[38;5;241;43m.\u001b[39;49m\u001b[43mlinalg\u001b[49m\u001b[38;5;241;43m.\u001b[39;49m\u001b[43msolve\u001b[49m\u001b[43m(\u001b[49m\u001b[43mA\u001b[49m\u001b[43m,\u001b[49m\u001b[43mb\u001b[49m\u001b[43m)\u001b[49m\n",
      "File \u001b[0;32m<__array_function__ internals>:200\u001b[0m, in \u001b[0;36msolve\u001b[0;34m(*args, **kwargs)\u001b[0m\n",
      "File \u001b[0;32m/usr/lib/python3/dist-packages/numpy/linalg/linalg.py:386\u001b[0m, in \u001b[0;36msolve\u001b[0;34m(a, b)\u001b[0m\n\u001b[1;32m    384\u001b[0m signature \u001b[38;5;241m=\u001b[39m \u001b[38;5;124m'\u001b[39m\u001b[38;5;124mDD->D\u001b[39m\u001b[38;5;124m'\u001b[39m \u001b[38;5;28;01mif\u001b[39;00m isComplexType(t) \u001b[38;5;28;01melse\u001b[39;00m \u001b[38;5;124m'\u001b[39m\u001b[38;5;124mdd->d\u001b[39m\u001b[38;5;124m'\u001b[39m\n\u001b[1;32m    385\u001b[0m extobj \u001b[38;5;241m=\u001b[39m get_linalg_error_extobj(_raise_linalgerror_singular)\n\u001b[0;32m--> 386\u001b[0m r \u001b[38;5;241m=\u001b[39m \u001b[43mgufunc\u001b[49m\u001b[43m(\u001b[49m\u001b[43ma\u001b[49m\u001b[43m,\u001b[49m\u001b[43m \u001b[49m\u001b[43mb\u001b[49m\u001b[43m,\u001b[49m\u001b[43m \u001b[49m\u001b[43msignature\u001b[49m\u001b[38;5;241;43m=\u001b[39;49m\u001b[43msignature\u001b[49m\u001b[43m,\u001b[49m\u001b[43m \u001b[49m\u001b[43mextobj\u001b[49m\u001b[38;5;241;43m=\u001b[39;49m\u001b[43mextobj\u001b[49m\u001b[43m)\u001b[49m\n\u001b[1;32m    388\u001b[0m \u001b[38;5;28;01mreturn\u001b[39;00m wrap(r\u001b[38;5;241m.\u001b[39mastype(result_t, copy\u001b[38;5;241m=\u001b[39m\u001b[38;5;28;01mFalse\u001b[39;00m))\n",
      "File \u001b[0;32m/usr/lib/python3/dist-packages/numpy/linalg/linalg.py:89\u001b[0m, in \u001b[0;36m_raise_linalgerror_singular\u001b[0;34m(err, flag)\u001b[0m\n\u001b[1;32m     88\u001b[0m \u001b[38;5;28;01mdef\u001b[39;00m \u001b[38;5;21m_raise_linalgerror_singular\u001b[39m(err, flag):\n\u001b[0;32m---> 89\u001b[0m     \u001b[38;5;28;01mraise\u001b[39;00m LinAlgError(\u001b[38;5;124m\"\u001b[39m\u001b[38;5;124mSingular matrix\u001b[39m\u001b[38;5;124m\"\u001b[39m)\n",
      "\u001b[0;31mLinAlgError\u001b[0m: Singular matrix"
     ]
    }
   ],
   "source": [
    "np.linalg.solve(A,b)"
   ]
  },
  {
   "cell_type": "markdown",
   "metadata": {
    "id": "GMq30BlOlCwM"
   },
   "source": [
    "Si comparamos con la respuesta original, vemos que son significativamente diferentes.\n",
    "Sin abmargo al usarla en el sistema de ecauciones, vemos que es una solución correcta "
   ]
  },
  {
   "cell_type": "code",
   "execution_count": 18,
   "metadata": {
    "id": "mBMw7rbgQAft"
   },
   "outputs": [
    {
     "name": "stdout",
     "output_type": "stream",
     "text": [
      "[[-3.74993402]\n",
      " [-7.21575614]\n",
      " [-2.83227765]\n",
      " [ 5.78424386]\n",
      " [ 0.01372394]]\n",
      "[[ 5.25006598]\n",
      " [-0.21575614]\n",
      " [-6.83227765]\n",
      " [-0.21575614]\n",
      " [ 2.01372394]]\n"
     ]
    },
    {
     "data": {
      "text/plain": [
       "array([[ 7.10542736e-15],\n",
       "       [-3.55271368e-14],\n",
       "       [ 2.13162821e-14],\n",
       "       [-1.42108547e-14],\n",
       "       [ 1.42108547e-14]])"
      ]
     },
     "execution_count": 18,
     "metadata": {},
     "output_type": "execute_result"
    }
   ],
   "source": [
    "x2,res,rank,s = np.linalg.lstsq(A,b,rcond=None)\n",
    "print(x2)\n",
    "\n",
    "print(x2 -x)\n",
    "\n",
    "np.matmul(A,x2) - b"
   ]
  },
  {
   "cell_type": "markdown",
   "metadata": {
    "id": "vVgLHhsHlJe6"
   },
   "source": [
    "# Sistemas mal condicionados\n",
    "Ahora reproducciones el caso en un sistema de ecuaciones donde una fila es casi linealmente dependiente de otra. \n"
   ]
  },
  {
   "cell_type": "code",
   "execution_count": 19,
   "metadata": {
    "id": "G-_29IVHQXu4"
   },
   "outputs": [
    {
     "name": "stdout",
     "output_type": "stream",
     "text": [
      "[[  5.  -6.   8.  -1.  -7.]\n",
      " [-10. -10.   6.   6.   7.]\n",
      " [  2.  -1.  -8.   3.  -7.]\n",
      " [  0.   8.  -2.   5.  -7.]\n",
      " [ 10. -12.  16.  -2. -14.]]\n",
      "[[ 2.]\n",
      " [-1.]\n",
      " [ 7.]\n",
      " [-9.]\n",
      " [ 8.]]\n",
      "[[  25.]\n",
      " [  34.]\n",
      " [-134.]\n",
      " [-123.]\n",
      " [  41.]]\n",
      "[[   5.   -6.    8.   -1.   -7.   25.]\n",
      " [ -10.  -10.    6.    6.    7.   34.]\n",
      " [   2.   -1.   -8.    3.   -7. -134.]\n",
      " [   0.    8.   -2.    5.   -7. -123.]\n",
      " [  10.  -12.   16.   -2.  -14.   41.]]\n"
     ]
    }
   ],
   "source": [
    "A = (np.random.randint(20, size=(5,5)) - 10).astype(float)\n",
    "x = (np.random.randint(20, size=(5,1)) - 10).astype(float)\n",
    "b = np.matmul(A,x)\n",
    "A[-1] = A[0]*2\n",
    "A[-1][0] += 0.000000001\n",
    "B = np.concatenate([A,b],1)\n",
    "print(A)\n",
    "print(x)\n",
    "print(b)\n",
    "print(B)"
   ]
  },
  {
   "cell_type": "markdown",
   "metadata": {
    "id": "Rmqfq1jllLkR"
   },
   "source": [
    "Ya que en el sentido estricto, son linealmente independientes, los rangos se mantendrán completos por lo que este sistema tendrá una única solución."
   ]
  },
  {
   "cell_type": "code",
   "execution_count": 20,
   "metadata": {
    "id": "4kaMbOOHQso3"
   },
   "outputs": [
    {
     "name": "stdout",
     "output_type": "stream",
     "text": [
      "Rango A: 5\n",
      "Rango b: 5\n"
     ]
    },
    {
     "data": {
      "text/plain": [
       "5"
      ]
     },
     "execution_count": 20,
     "metadata": {},
     "output_type": "execute_result"
    }
   ],
   "source": [
    "print(f\"Rango A: {np.linalg.matrix_rank(A)}\")\n",
    "print(f\"Rango b: {np.linalg.matrix_rank(B)}\")\n",
    "A.shape[1]"
   ]
  },
  {
   "cell_type": "markdown",
   "metadata": {
    "id": "x4wFlJVdlOrx"
   },
   "source": [
    "Calculamos la solución, y la comparamos con la solución original. Vemos que las diferencias notables.\n",
    "\n",
    "Al resolver el sistema de ecuaciones vemos que si tiende a 0 pero esta lejos de la precisión de computadora"
   ]
  },
  {
   "cell_type": "code",
   "execution_count": 21,
   "metadata": {
    "id": "IX2uzUhTRqoR"
   },
   "outputs": [
    {
     "name": "stdout",
     "output_type": "stream",
     "text": [
      "[[-9.00000364e+09]\n",
      " [ 8.45070665e+06]\n",
      " [-3.25352237e+08]\n",
      " [-8.06197510e+09]\n",
      " [-5.65593789e+09]]\n",
      "[[ 9.00000364e+09]\n",
      " [-8.45070765e+06]\n",
      " [ 3.25352244e+08]\n",
      " [ 8.06197509e+09]\n",
      " [ 5.65593790e+09]]\n"
     ]
    },
    {
     "data": {
      "text/plain": [
       "array([[ 1.62124634e-05],\n",
       "       [-2.38418579e-05],\n",
       "       [ 8.58306885e-06],\n",
       "       [ 9.53674316e-07],\n",
       "       [ 3.24249268e-05]])"
      ]
     },
     "execution_count": 21,
     "metadata": {},
     "output_type": "execute_result"
    }
   ],
   "source": [
    "x2 = np.linalg.solve(A,b)\n",
    "print(x2)\n",
    "\n",
    "print(x-x2)\n",
    "\n",
    "np.matmul(A,x2) - b"
   ]
  },
  {
   "cell_type": "markdown",
   "metadata": {
    "id": "zLs1iNDClV3Z"
   },
   "source": []
  },
  {
   "cell_type": "code",
   "execution_count": 22,
   "metadata": {
    "id": "vEqIcMwVR19e"
   },
   "outputs": [],
   "source": [
    "def es_ortogonal(v1,v2):\n",
    "  return np.matmul(v1,v2.transpose()) == 0"
   ]
  },
  {
   "cell_type": "markdown",
   "metadata": {
    "id": "M-sRYCGNlZAQ"
   },
   "source": [
    "# Vectores ortogonales\n",
    "Definimos una función que nos ayuda a saber si dos vectores son ortogonales. \n",
    "Hacemos la prueba con dos vectores canónicos.\n"
   ]
  },
  {
   "cell_type": "code",
   "execution_count": 23,
   "metadata": {
    "id": "h1beItzbTKV4"
   },
   "outputs": [
    {
     "data": {
      "text/plain": [
       "True"
      ]
     },
     "execution_count": 23,
     "metadata": {},
     "output_type": "execute_result"
    }
   ],
   "source": [
    "a = np.array([1,0])\n",
    "b = np.array([0,1])\n",
    "es_ortogonal(a,b)"
   ]
  },
  {
   "cell_type": "markdown",
   "metadata": {
    "id": "dRAuzk6Vlep-"
   },
   "source": [
    "Si modificamos los vectores vemos que ya no son ortogonales"
   ]
  },
  {
   "cell_type": "code",
   "execution_count": 24,
   "metadata": {
    "id": "3hoItxw_TUyh"
   },
   "outputs": [
    {
     "data": {
      "text/plain": [
       "False"
      ]
     },
     "execution_count": 24,
     "metadata": {},
     "output_type": "execute_result"
    }
   ],
   "source": [
    "a = np.array([1,0])\n",
    "b = np.array([1,1])\n",
    "es_ortogonal(a,b)"
   ]
  },
  {
   "cell_type": "code",
   "execution_count": null,
   "metadata": {},
   "outputs": [],
   "source": []
  }
 ],
 "metadata": {
  "colab": {
   "authorship_tag": "ABX9TyOVEIPS5lKyi35Kt5EecUAD",
   "provenance": []
  },
  "kernelspec": {
   "display_name": "Python 3 (ipykernel)",
   "language": "python",
   "name": "python3"
  },
  "language_info": {
   "codemirror_mode": {
    "name": "ipython",
    "version": 3
   },
   "file_extension": ".py",
   "mimetype": "text/x-python",
   "name": "python",
   "nbconvert_exporter": "python",
   "pygments_lexer": "ipython3",
   "version": "3.11.2"
  }
 },
 "nbformat": 4,
 "nbformat_minor": 1
}
