{
 "cells": [
  {
   "cell_type": "markdown",
   "metadata": {
    "id": "_PmfoTet2b3u"
   },
   "source": [
    "# Determinantes\n",
    "\n",
    "En este cuaderno revisaremos como calcular el determinante de una matriz y revisaremos sus principales propiedades.\n",
    "\n",
    "Numpy ofrece una función para calcular estos determinantes de manera sencilla, la cual importaremos.\n"
   ]
  },
  {
   "cell_type": "code",
   "execution_count": 1,
   "metadata": {
    "id": "XDGOv13dv78L"
   },
   "outputs": [],
   "source": [
    "import numpy as np\n",
    "from numpy.linalg import det"
   ]
  },
  {
   "cell_type": "markdown",
   "metadata": {
    "id": "iG-jxtZm4gzj"
   },
   "source": [
    "\n",
    "## Determinante de matrices 2x2 \n",
    "Comenzamos revisando que la formula presentada si coincide con el determinante\n"
   ]
  },
  {
   "cell_type": "code",
   "execution_count": 4,
   "metadata": {
    "id": "ii7WA7vhwRPI"
   },
   "outputs": [
    {
     "data": {
      "text/plain": [
       "array([[9, 2],\n",
       "       [8, 4]])"
      ]
     },
     "execution_count": 4,
     "metadata": {},
     "output_type": "execute_result"
    }
   ],
   "source": [
    "A = np.random.randint(10, size=(2,2)) \n",
    "A"
   ]
  },
  {
   "cell_type": "code",
   "execution_count": 6,
   "metadata": {
    "id": "VzLJcSmew37U"
   },
   "outputs": [
    {
     "name": "stdout",
     "output_type": "stream",
     "text": [
      "20.000000000000007\n",
      "20\n"
     ]
    }
   ],
   "source": [
    "print(det(A))\n",
    "print(A[0,0]*A[1,1]-A[0,1]*A[1,0])"
   ]
  },
  {
   "cell_type": "markdown",
   "metadata": {
    "id": "eESVMBpG4k6a"
   },
   "source": [
    "# Determinante de renglones nulos \n",
    "Si una matriz tiene un renglón de ceros entonces su determinante será 0\n"
   ]
  },
  {
   "cell_type": "code",
   "execution_count": 7,
   "metadata": {
    "id": "ubcYDefAxbCp"
   },
   "outputs": [
    {
     "data": {
      "text/plain": [
       "array([[0, 0, 0, 0],\n",
       "       [6, 8, 0, 9],\n",
       "       [2, 2, 3, 6],\n",
       "       [3, 1, 3, 0]])"
      ]
     },
     "execution_count": 7,
     "metadata": {},
     "output_type": "execute_result"
    }
   ],
   "source": [
    "A = np.random.randint(10, size=(4,4)) \n",
    "A[0] = np.zeros_like(A[0])\n",
    "A"
   ]
  },
  {
   "cell_type": "code",
   "execution_count": 8,
   "metadata": {
    "id": "I1dG-eJZyGE8"
   },
   "outputs": [
    {
     "data": {
      "text/plain": [
       "0.0"
      ]
     },
     "execution_count": 8,
     "metadata": {},
     "output_type": "execute_result"
    }
   ],
   "source": [
    "det(A)"
   ]
  },
  {
   "cell_type": "markdown",
   "metadata": {
    "id": "1OqibA2s4oy2"
   },
   "source": [
    "# Intercambio de filas\n",
    "Si se intercambian dos filas el signo de determinante se invierte\n"
   ]
  },
  {
   "cell_type": "code",
   "execution_count": 9,
   "metadata": {
    "id": "Ugk-ETVYySIz"
   },
   "outputs": [
    {
     "name": "stdout",
     "output_type": "stream",
     "text": [
      "[[9 2 1 1]\n",
      " [3 2 4 4]\n",
      " [7 8 1 1]\n",
      " [9 7 2 6]]\n",
      "[[3 2 4 4]\n",
      " [9 2 1 1]\n",
      " [7 8 1 1]\n",
      " [9 7 2 6]]\n"
     ]
    }
   ],
   "source": [
    "A = np.random.randint(10, size=(4,4)) \n",
    "B = A.copy()\n",
    "fila = B[0].copy()\n",
    "B[0] = B[1]\n",
    "B[1] = fila\n",
    "print(A)\n",
    "print(B)"
   ]
  },
  {
   "cell_type": "code",
   "execution_count": 10,
   "metadata": {
    "id": "9CD2gWpezLIT"
   },
   "outputs": [
    {
     "name": "stdout",
     "output_type": "stream",
     "text": [
      "-840.0000000000007\n",
      "840.0000000000007\n"
     ]
    }
   ],
   "source": [
    "print(det(A))\n",
    "print(det(B))\n"
   ]
  },
  {
   "cell_type": "markdown",
   "metadata": {
    "id": "_WLbeCsA4srj"
   },
   "source": [
    "# Multiplicación escalar"
   ]
  },
  {
   "cell_type": "code",
   "execution_count": 11,
   "metadata": {
    "id": "BUG3OWygzTlx"
   },
   "outputs": [
    {
     "name": "stdout",
     "output_type": "stream",
     "text": [
      "[[5 6 1 7]\n",
      " [2 6 4 2]\n",
      " [9 0 7 2]\n",
      " [7 0 3 4]]\n",
      "[[25 30  5 35]\n",
      " [ 2  6  4  2]\n",
      " [ 9  0  7  2]\n",
      " [ 7  0  3  4]]\n"
     ]
    }
   ],
   "source": [
    "A = np.random.randint(10, size=(4,4))\n",
    "B = A.copy()\n",
    "B[0] = B[0]*5\n",
    "print(A)\n",
    "print(B)"
   ]
  },
  {
   "cell_type": "code",
   "execution_count": 12,
   "metadata": {
    "id": "fsz2d7nLzrVY"
   },
   "outputs": [
    {
     "name": "stdout",
     "output_type": "stream",
     "text": [
      "132.0000000000003\n",
      "660.0000000000016\n",
      "659.9999999999987\n"
     ]
    }
   ],
   "source": [
    "print(det(A))\n",
    "print(det(A)*5)\n",
    "print(det(B))"
   ]
  },
  {
   "cell_type": "markdown",
   "metadata": {
    "id": "LC_bUNVn4z2W"
   },
   "source": [
    "# Determinantes con el método de gauss\n",
    "Si se suma a una fila o a una columna de una matriz un múltiplo de otra fila o columna, el valor del determinante no cambia.\n"
   ]
  },
  {
   "cell_type": "code",
   "execution_count": 13,
   "metadata": {
    "id": "sUSncfoDzwJT"
   },
   "outputs": [
    {
     "name": "stdout",
     "output_type": "stream",
     "text": [
      "[[8 5 6 8]\n",
      " [6 2 6 6]\n",
      " [2 6 7 7]\n",
      " [0 6 3 3]]\n",
      "[[38 15 36 38]\n",
      " [ 6  2  6  6]\n",
      " [ 2  6  7  7]\n",
      " [ 0  6  3  3]]\n"
     ]
    }
   ],
   "source": [
    "A = np.random.randint(10, size=(4,4))\n",
    "B = A.copy()\n",
    "B[0] = B[0] + B[1]*5\n",
    "print(A)\n",
    "print(B)"
   ]
  },
  {
   "cell_type": "code",
   "execution_count": 14,
   "metadata": {
    "id": "kfaaJkoy0GOB"
   },
   "outputs": [
    {
     "name": "stdout",
     "output_type": "stream",
     "text": [
      "167.99999999999997\n",
      "167.99999999999997\n"
     ]
    }
   ],
   "source": [
    "print(det(A))\n",
    "print(det(B))"
   ]
  },
  {
   "cell_type": "markdown",
   "metadata": {
    "id": "4kDx0GoJ49I7"
   },
   "source": [
    "# Determinante de una matrix triangular\n",
    "El determinante es igual al producto de los elementos de la diagonal principal.\n"
   ]
  },
  {
   "cell_type": "code",
   "execution_count": 20,
   "metadata": {
    "id": "58nGgxw50L-a"
   },
   "outputs": [
    {
     "name": "stdout",
     "output_type": "stream",
     "text": [
      "[[1 4 1 8]\n",
      " [0 6 2 5]\n",
      " [0 0 3 8]\n",
      " [0 0 0 8]]\n"
     ]
    }
   ],
   "source": [
    "A = np.triu(np.random.randint(10, size=(4,4)))\n",
    "print(A)\n"
   ]
  },
  {
   "cell_type": "code",
   "execution_count": 21,
   "metadata": {
    "id": "sgKnIr500ohI"
   },
   "outputs": [
    {
     "name": "stdout",
     "output_type": "stream",
     "text": [
      "143.9999999999999\n",
      "144\n"
     ]
    }
   ],
   "source": [
    "print(det(A))\n",
    "print(np.prod( np.diag(A)))"
   ]
  },
  {
   "cell_type": "markdown",
   "metadata": {
    "id": "RKa4ApcP5Aqb"
   },
   "source": [
    "# Matrices mal condicionadas\n",
    "Otra manera de encontrar matrices mal condicionadas es si su determinante es muy pequeño pero distinto de 0 \n",
    "Matrices casi linealmente dependiente\n"
   ]
  },
  {
   "cell_type": "code",
   "execution_count": 37,
   "metadata": {
    "id": "dCReV1y11BPT"
   },
   "outputs": [
    {
     "name": "stdout",
     "output_type": "stream",
     "text": [
      "[[  8.  -2.   7.   2.  -6.]\n",
      " [  8.   7.  -7.   1.   9.]\n",
      " [  5.  -9.   7.  -1. -10.]\n",
      " [  4.  -1.   7.  -3.   6.]\n",
      " [ -9.  -5.  -7.   4.  -4.]]\n"
     ]
    }
   ],
   "source": [
    "A = (np.random.randint(20, size=(5,5)) - 10).astype(float)\n",
    "#A[-1] = A[0]*2\n",
    "#A[-1][0] += 0.000000001\n",
    "print(A)"
   ]
  },
  {
   "cell_type": "code",
   "execution_count": 38,
   "metadata": {
    "id": "xrUZT3Ow1E5d"
   },
   "outputs": [
    {
     "data": {
      "text/plain": [
       "48083.000000000044"
      ]
     },
     "execution_count": 38,
     "metadata": {},
     "output_type": "execute_result"
    }
   ],
   "source": [
    "det(A)"
   ]
  },
  {
   "cell_type": "code",
   "execution_count": 39,
   "metadata": {},
   "outputs": [
    {
     "data": {
      "text/plain": [
       "48082.99999948201"
      ]
     },
     "execution_count": 39,
     "metadata": {},
     "output_type": "execute_result"
    }
   ],
   "source": [
    "A[-1][0] += 0.000000001\n",
    "det(A)"
   ]
  },
  {
   "cell_type": "code",
   "execution_count": null,
   "metadata": {},
   "outputs": [],
   "source": []
  }
 ],
 "metadata": {
  "colab": {
   "authorship_tag": "ABX9TyN4KLet0WkUUu15u2cOWkiS",
   "provenance": []
  },
  "kernelspec": {
   "display_name": "Python 3 (ipykernel)",
   "language": "python",
   "name": "python3"
  },
  "language_info": {
   "codemirror_mode": {
    "name": "ipython",
    "version": 3
   },
   "file_extension": ".py",
   "mimetype": "text/x-python",
   "name": "python",
   "nbconvert_exporter": "python",
   "pygments_lexer": "ipython3",
   "version": "3.11.2"
  }
 },
 "nbformat": 4,
 "nbformat_minor": 1
}
