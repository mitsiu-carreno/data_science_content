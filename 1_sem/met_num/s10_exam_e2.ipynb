{
  "nbformat": 4,
  "nbformat_minor": 0,
  "metadata": {
    "colab": {
      "provenance": []
    },
    "kernelspec": {
      "name": "python3",
      "display_name": "Python 3"
    },
    "language_info": {
      "name": "python"
    }
  },
  "cells": [
    {
      "cell_type": "code",
      "execution_count": 29,
      "metadata": {
        "colab": {
          "base_uri": "https://localhost:8080/"
        },
        "id": "rHwqAYCPzOxm",
        "outputId": "003b7425-ee4f-4d96-f49e-179d07036ce5"
      },
      "outputs": [
        {
          "output_type": "stream",
          "name": "stdout",
          "text": [
            "L [[-0.77777778  0.57142857  1.        ]\n",
            " [ 0.22222222  1.          0.        ]\n",
            " [ 1.          0.          0.        ]]\n",
            "\n",
            " U [[ 9.         -3.         -6.        ]\n",
            " [ 0.         -2.33333333  2.33333333]\n",
            " [ 0.          0.         -8.        ]]\n",
            "Resultado de x\n",
            "[ -2. -10. -12.]\n",
            "[ 1.42108547e-14 -5.32907052e-15  0.00000000e+00]\n"
          ]
        }
      ],
      "source": [
        "## Mitsiu Alejandro Carreño Sarabia - E23S-18014\n",
        "### Ejercicio 2 - Descomposición LU\n",
        "\n",
        "import numpy as np\n",
        "import scipy\n",
        "\n",
        "A = np.array([[-7., 1., -2.],[2., -3., 1.],[9., -3., -6.]])\n",
        "b = np.array([28., 14., 84.])\n",
        "\n",
        "# Descomponer la matriz A en sus componentes LU\n",
        "L, U = scipy.linalg.lu(A, True)\n",
        "print(f\"L {L}\\n\\n U {U}\")\n",
        "\n",
        "# Una vez obtenidas las matrices L y U, resolvemos el sistema de ecuaciones de c = L | B  \n",
        "c = np.linalg.solve(L, b)\n",
        "# Con el resultado anterior podemos obtener los valores de nuestras incognitas resolviendo el sistema  U | c\n",
        "x = np.linalg.solve(U, c)\n",
        "\n",
        "print(\"Resultado de x\")\n",
        "print(x)\n",
        "\n",
        "# Corroboramos el resultado\n",
        "print(np.matmul(A, x) -b)"
      ]
    },
    {
      "cell_type": "code",
      "source": [],
      "metadata": {
        "id": "3dcfrf4Kz75N"
      },
      "execution_count": null,
      "outputs": []
    }
  ]
}