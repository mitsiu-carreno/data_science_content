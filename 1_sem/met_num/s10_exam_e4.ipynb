{
  "nbformat": 4,
  "nbformat_minor": 0,
  "metadata": {
    "colab": {
      "provenance": []
    },
    "kernelspec": {
      "name": "python3",
      "display_name": "Python 3"
    },
    "language_info": {
      "name": "python"
    }
  },
  "cells": [
    {
      "cell_type": "code",
      "execution_count": 1,
      "metadata": {
        "colab": {
          "base_uri": "https://localhost:8080/"
        },
        "id": "2VcFLgdtgPMU",
        "outputId": "57435264-caca-4111-e13c-da674e9c02e1"
      },
      "outputs": [
        {
          "output_type": "stream",
          "name": "stdout",
          "text": [
            "Intentando por minimos cuadrados\n",
            "Valores de x [ 1.  7. -6. -2.]\n",
            "Sustituyendo x en los vectores vemos que el resultado es 0 por lo que es linealmente dependiente\n",
            "[ 2.84217094e-14  1.38555833e-13 -1.20792265e-13 -7.10542736e-14\n",
            " -5.68434189e-14]\n"
          ]
        }
      ],
      "source": [
        "## Mitsiu Alejandro Carreño Sarabia - E23S-18014\n",
        "### Ejercicio 4 - Independencia lineal\n",
        "\n",
        "import numpy as np\n",
        "from numpy.linalg import LinAlgError\n",
        "\n",
        "\n",
        "a = np.array([-90,-12, 46, 50,271])\n",
        "b = np.array([  7,  1, 16,-13, -6])\n",
        "c = np.array([  5, 15,-10, -5, 19])\n",
        "d = np.array([ 18, 18,-10,-17,-18])\n",
        "e = np.array([ 12,  5,-20,  2,-18])\n",
        "\n",
        "x = None\n",
        "A = np.array([b,c,d,e]).transpose()\n",
        "indep = np.array(a).transpose()\n",
        "# Al comparar un vector contra el resto, terminamos con una matriz de 4x5 por lo que solve no va a funcionar (solo funciona para matrices cuadradas)\n",
        "try:\n",
        "   x = np.linalg.solve(A, indep)\n",
        "except LinAlgError:\n",
        "  print(\"Intentando por minimos cuadrados\")\n",
        "  x, res, rank, s = np.linalg.lstsq(A, indep, rcond=None)\n",
        "\n",
        "print(f\"Valores de x {x}\")\n",
        "\n",
        "print(\"Sustituyendo x en los vectores vemos que el resultado es 0 por lo que es linealmente dependiente\")\n",
        "print((x[0]*b + x[1]*c + x[2]*d + x[3]*e) -a )\n",
        "\n"
      ]
    },
    {
      "cell_type": "code",
      "source": [],
      "metadata": {
        "id": "-zZfpjHuhgDu"
      },
      "execution_count": null,
      "outputs": []
    }
  ]
}