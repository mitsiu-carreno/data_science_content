{
  "nbformat": 4,
  "nbformat_minor": 0,
  "metadata": {
    "colab": {
      "provenance": []
    },
    "kernelspec": {
      "name": "python3",
      "display_name": "Python 3"
    },
    "language_info": {
      "name": "python"
    }
  },
  "cells": [
    {
      "cell_type": "code",
      "execution_count": 17,
      "metadata": {
        "colab": {
          "base_uri": "https://localhost:8080/"
        },
        "id": "3tbI-JKspnPq",
        "outputId": "ada0f8c7-08f0-46a2-c68a-1ff3e1e0a8a5"
      },
      "outputs": [
        {
          "output_type": "stream",
          "name": "stdout",
          "text": [
            "Paso 1 - Iter: 1 vect_indep: [-25.  -1. 112. -64.]\n",
            "Paso 1 - Iter: 2 vect_indep: [-25.          -1.         112.94339623 -64.        ]\n",
            "Paso 1 - Iter: 3 vect_indep: [-25.          -1.         112.94339623  27.38931298]\n",
            "Paso 2 - Iter: 1 x: [  0.   0.   1. -12.]\n",
            "Paso 2 - Iter: 2 x: [ 0.00000000e+00 -1.67580834e-16  1.00000000e+00 -1.20000000e+01]\n",
            "Paso 2 - Iter: 3 x: [-5.00000000e+00 -1.67580834e-16  1.00000000e+00 -1.20000000e+01]\n",
            "Resultado de x\n",
            "[-5.00000000e+00 -1.67580834e-16  1.00000000e+00 -1.20000000e+01]\n",
            "[ True  True  True  True]\n"
          ]
        }
      ],
      "source": [
        "## Mitsiu Alejandro Carreño Sarabia - E23S-18014\n",
        "### Ejercicio 1 Método de Thomas\n",
        "\n",
        "import numpy as np\n",
        "\n",
        "def TriToVec(mat_tri):\n",
        "  '''\n",
        "  Descrip:\n",
        "    Function que descompone una matriz tridiagonal en tres vectores correspondientes a las tres diagonales\n",
        "  Input:\n",
        "    mat_tri - Matriz tridiagonal\n",
        "  Output:\n",
        "    a, b, c - Tres vectores (flotantes) con los valores correspondientes a cada diagonal\n",
        "  '''\n",
        "  a = np.concatenate((np.array([0]), np.diag(mat_tri, -1)))\n",
        "  b = np.diag(mat_tri, 0)\n",
        "  c = np.concatenate((np.diag(mat_tri, 1), np.array([0])))\n",
        "  return a.astype(float), b.astype(float), c.astype(float)\n",
        "\n",
        "def MetThomas(mat_tri, vect_indep):\n",
        "  '''\n",
        "  Descrip:\n",
        "    Aplica el método de Thomas a una matriz tridiagonal dada con su respectivo vector de resultados\n",
        "  Input:\n",
        "    mat_tri - Matriz tridiagonal\n",
        "    vect_indep - Vector de resultados de la matriz tridiagonal\n",
        "  Output:\n",
        "    x - Vector de valores de x que satisfacen las ecuaciones\n",
        "  '''\n",
        "  tri_a, tri_b, tri_c = TriToVec(mat_tri)\n",
        "  n = len(tri_a)\n",
        "  vectf_indep = vect_indep.astype(float)\n",
        "  \n",
        "  for i in range (len(tri_b)-1):\n",
        "    factor = tri_a[i+1]/tri_b[i]\n",
        "    tri_b[i+1] = tri_b[i+1] - factor * tri_c[i]\n",
        "    vectf_indep[i+1] = vectf_indep[i+1] - factor * vectf_indep[i]\n",
        "    print(f\"Paso 1 - Iter: {i+1} vect_indep: {vectf_indep}\")\n",
        "\n",
        "  x = np.zeros_like(vectf_indep, float)\n",
        "  x[n-1] = vectf_indep[n-1]/tri_b[n-1]\n",
        "\n",
        "  for i in range(n-2, -1, -1):\n",
        "    x[i] = (vectf_indep[i]-(tri_c[i] * x[i+1]))/tri_b[i]\n",
        "    print(f\"Paso 2 - Iter: {n-1 -i } x: {x}\")\n",
        "\n",
        "  return x\n",
        "\n",
        "A = np.diag(np.array([2, -10, -4]), -1) + np.diag(np.array([5, -7, 4, 5])) + np.diag(np.array([9, -1, -9]), 1)\n",
        "b = np.array([-25, -11, 112, -64])\n",
        "\n",
        "x = MetThomas(A, b)\n",
        "print(\"Resultado de x\")\n",
        "print(x)\n",
        "\n",
        "# Corroborar resultado\n",
        "print(np.matmul(A, x) - b == 0)"
      ]
    },
    {
      "cell_type": "code",
      "source": [],
      "metadata": {
        "id": "6U6DTOmktncB"
      },
      "execution_count": null,
      "outputs": []
    }
  ]
}