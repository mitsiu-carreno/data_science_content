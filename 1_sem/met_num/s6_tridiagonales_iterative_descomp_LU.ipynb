{
 "cells": [
  {
   "cell_type": "markdown",
   "metadata": {
    "id": "vOTYch1O0ARx"
   },
   "source": [
    "# Otros métodos para sistemas de ecuaciones\n",
    "En este cuaderno veremos algunos ejemplos de métodos para resolución de sistemas de ecuaciones lineales.\n",
    "\n",
    "En este cuaderno veremos los métodos de Thomas, gauss-seidel y Jacobi\n",
    "\n",
    "Comenzamos importando numpy y scypi, los cuales nos ayudan a trabajar con matrices y vectores\n"
   ]
  },
  {
   "cell_type": "code",
   "execution_count": 10,
   "metadata": {
    "executionInfo": {
     "elapsed": 80,
     "status": "ok",
     "timestamp": 1679078390709,
     "user": {
      "displayName": "Irving Gibrán Cabrera Zamora",
      "userId": "00600026942839119351"
     },
     "user_tz": 360
    },
    "id": "UUlEBLzA3sKy"
   },
   "outputs": [],
   "source": [
    "import numpy as np\n",
    "import scipy"
   ]
  },
  {
   "cell_type": "markdown",
   "metadata": {
    "id": "CT5LeJK-0ArK"
   },
   "source": [
    "## Matrices tridiagonales\n",
    "\n",
    "Recordemos que podemos definir una matriz tridiagonal solamente estableciendo sus 3 vectores diagonales.\n",
    "Con lo cual creamos estos de manera aleatoria. Se agrega uno para asegurar que ninguno de estos elementos sea cero y concatenamos un cero al final de a y c para que las longitudes de estos vectores coincidan\n"
   ]
  },
  {
   "cell_type": "code",
   "execution_count": 11,
   "metadata": {
    "colab": {
     "base_uri": "https://localhost:8080/"
    },
    "executionInfo": {
     "elapsed": 80,
     "status": "ok",
     "timestamp": 1679078390710,
     "user": {
      "displayName": "Irving Gibrán Cabrera Zamora",
      "userId": "00600026942839119351"
     },
     "user_tz": 360
    },
    "id": "ubV6cBkcCr5l",
    "outputId": "29a59b2e-dec8-4370-a36f-c837b635d2f9"
   },
   "outputs": [
    {
     "name": "stdout",
     "output_type": "stream",
     "text": [
      "[ 0  2 10  4  5] [4 4 7 6 9] [ 7  3  8 10  0]\n"
     ]
    }
   ],
   "source": [
    "a = np.concatenate((np.array([0]), np.random.randint(10, size=4) +1) )\n",
    "b = np.random.randint(10, size=5) +1 \n",
    "c = np.concatenate((np.random.randint(10, size=4) +1 , np.array([0])))\n",
    "print(a,b,c)"
   ]
  },
  {
   "cell_type": "markdown",
   "metadata": {
    "id": "xTaXJQtj0BCt"
   },
   "source": [
    "Definimos un par de funciones que nos pueden ayudar a transformar de la representación en 3 vectores a la representación matricial."
   ]
  },
  {
   "cell_type": "code",
   "execution_count": 12,
   "metadata": {
    "executionInfo": {
     "elapsed": 72,
     "status": "ok",
     "timestamp": 1679078390711,
     "user": {
      "displayName": "Irving Gibrán Cabrera Zamora",
      "userId": "00600026942839119351"
     },
     "user_tz": 360
    },
    "id": "Ox4kF8sk3vDS"
   },
   "outputs": [],
   "source": [
    "def trivector2tridiagonal(a,b,c):\n",
    "  matriz = np.diag(a[1:],-1) +  np.diag(b,0) +  np.diag(c[:-1],1)\n",
    "  return matriz\n",
    "\n",
    "def tridiagonal2trivector(matriz):\n",
    "  a = np.concatenate((np.array([0]),np.diag(matriz,-1)))\n",
    "  b = np.diag(matriz,0)\n",
    "  c = np.concatenate((np.diag(matriz,1), np.array([0])))\n",
    "  return a,b,c\n"
   ]
  },
  {
   "cell_type": "markdown",
   "metadata": {
    "id": "rpOqHBAF0Bg1"
   },
   "source": [
    "Podemos ver cómo pasar de la representación en 3 vectores a la representación matricial."
   ]
  },
  {
   "cell_type": "code",
   "execution_count": 13,
   "metadata": {
    "colab": {
     "base_uri": "https://localhost:8080/"
    },
    "executionInfo": {
     "elapsed": 73,
     "status": "ok",
     "timestamp": 1679078390713,
     "user": {
      "displayName": "Irving Gibrán Cabrera Zamora",
      "userId": "00600026942839119351"
     },
     "user_tz": 360
    },
    "id": "v6Q9TsefDY6X",
    "outputId": "9f9f906d-b8cd-4701-e200-03071cb7d612"
   },
   "outputs": [
    {
     "data": {
      "text/plain": [
       "array([[ 4,  7,  0,  0,  0],\n",
       "       [ 2,  4,  3,  0,  0],\n",
       "       [ 0, 10,  7,  8,  0],\n",
       "       [ 0,  0,  4,  6, 10],\n",
       "       [ 0,  0,  0,  5,  9]])"
      ]
     },
     "execution_count": 13,
     "metadata": {},
     "output_type": "execute_result"
    }
   ],
   "source": [
    "m = trivector2tridiagonal(a,b,c)\n",
    "m"
   ]
  },
  {
   "cell_type": "markdown",
   "metadata": {
    "id": "H0-lLMhc0B_h"
   },
   "source": [
    "Tenemos la transformación inversa donde con una matriz obtenemos los 3 vectores diagonales"
   ]
  },
  {
   "cell_type": "code",
   "execution_count": 14,
   "metadata": {
    "colab": {
     "base_uri": "https://localhost:8080/"
    },
    "executionInfo": {
     "elapsed": 62,
     "status": "ok",
     "timestamp": 1679078390713,
     "user": {
      "displayName": "Irving Gibrán Cabrera Zamora",
      "userId": "00600026942839119351"
     },
     "user_tz": 360
    },
    "id": "N5yoWw9ED1dJ",
    "outputId": "d5da162d-7f84-447d-bd40-d12ce5e9b627"
   },
   "outputs": [
    {
     "data": {
      "text/plain": [
       "(array([ 0,  2, 10,  4,  5]),\n",
       " array([4, 4, 7, 6, 9]),\n",
       " array([ 7,  3,  8, 10,  0]))"
      ]
     },
     "execution_count": 14,
     "metadata": {},
     "output_type": "execute_result"
    }
   ],
   "source": [
    "tridiagonal2trivector(m)"
   ]
  },
  {
   "cell_type": "markdown",
   "metadata": {
    "id": "n_Y9J9Cx0CUk"
   },
   "source": [
    "Definimos un sistema de ecuaciones aleatorio, dónde establecemos el valor de x al azar. Con esto podemos calcular el vector independiente de nuestro sistema de ecuaciones.\n",
    "\n",
    "Imaginemos que no conocemos el vector x y que lo queremos encontrar."
   ]
  },
  {
   "cell_type": "code",
   "execution_count": 15,
   "metadata": {
    "colab": {
     "base_uri": "https://localhost:8080/"
    },
    "executionInfo": {
     "elapsed": 52,
     "status": "ok",
     "timestamp": 1679078390714,
     "user": {
      "displayName": "Irving Gibrán Cabrera Zamora",
      "userId": "00600026942839119351"
     },
     "user_tz": 360
    },
    "id": "RKurjxnwD-h7",
    "outputId": "e6579fb8-831c-42f4-80b1-1bf3023f327f"
   },
   "outputs": [
    {
     "name": "stdout",
     "output_type": "stream",
     "text": [
      "[[ 0]\n",
      " [-5]\n",
      " [ 0]\n",
      " [ 2]\n",
      " [-4]] [[-35]\n",
      " [-20]\n",
      " [-34]\n",
      " [-28]\n",
      " [-26]]\n"
     ]
    }
   ],
   "source": [
    "x = np.random.randint(10, size=(5,1)) - 5\n",
    "\n",
    "vector_independiente = np.matmul(m,x)\n",
    "print(x,vector_independiente)"
   ]
  },
  {
   "cell_type": "markdown",
   "metadata": {
    "id": "A9-wLeD10DdL"
   },
   "source": [
    "### Método de Thomas\n",
    "\n",
    "Creamos la función método tomas dónde seguiremos la metodología de Thomas "
   ]
  },
  {
   "cell_type": "code",
   "execution_count": 16,
   "metadata": {
    "executionInfo": {
     "elapsed": 47,
     "status": "ok",
     "timestamp": 1679078390717,
     "user": {
      "displayName": "Irving Gibrán Cabrera Zamora",
      "userId": "00600026942839119351"
     },
     "user_tz": 360
    },
    "id": "p233utdQ5_6n"
   },
   "outputs": [],
   "source": [
    "def metodo_thomas(matriz_tridiagonal,vector_independiente):\n",
    "  a, b, c = tridiagonal2trivector(matriz_tridiagonal)\n",
    "  n = len(a)\n",
    "  d = vector_independiente.flatten()\n",
    "  a_ = np.zeros_like(a)\n",
    "  b_ = b.astype(float)\n",
    "  c_ = c.astype(float)\n",
    "  d_ = d.astype(float)\n",
    "\n",
    "  for i in range(len(b)-1):\n",
    "    factor = a[i+1]/b_[i]\n",
    "    b_[i+1] = b[i+1] - factor*c_[i]\n",
    "    d_[i+1] = d[i+1] - factor*d_[i]\n",
    "\n",
    "  x = np.zeros_like(d,float)\n",
    "  x[n-1] = d_[n-1]/b_[n-1]\n",
    "  for i in range(n-2,-1,-1):\n",
    "    x[i] = (d_[i]-(c_[i]*x[i+1]))/b_[i]\n",
    "\n",
    "  return x\n"
   ]
  },
  {
   "cell_type": "markdown",
   "metadata": {
    "id": "5ofsjxct0EGe"
   },
   "source": [
    "Aplicamos este método a el sistema de ecuaciones creado"
   ]
  },
  {
   "cell_type": "code",
   "execution_count": 17,
   "metadata": {
    "colab": {
     "base_uri": "https://localhost:8080/"
    },
    "executionInfo": {
     "elapsed": 47,
     "status": "ok",
     "timestamp": 1679078390718,
     "user": {
      "displayName": "Irving Gibrán Cabrera Zamora",
      "userId": "00600026942839119351"
     },
     "user_tz": 360
    },
    "id": "IlYoRFOX7pAx",
    "outputId": "4fd7fc73-8758-4f92-b8c6-7f58311c27d5"
   },
   "outputs": [
    {
     "data": {
      "text/plain": [
       "array([ 0., -5., -0.,  2., -4.])"
      ]
     },
     "execution_count": 17,
     "metadata": {},
     "output_type": "execute_result"
    }
   ],
   "source": [
    "metodo_thomas(m,vector_independiente)"
   ]
  },
  {
   "cell_type": "markdown",
   "metadata": {
    "id": "YKcEKdwk0I3q"
   },
   "source": [
    "## Descomposición LU\n",
    "Creamos un nuevo sistema de ecuaciones\n"
   ]
  },
  {
   "cell_type": "code",
   "execution_count": 18,
   "metadata": {
    "colab": {
     "base_uri": "https://localhost:8080/"
    },
    "executionInfo": {
     "elapsed": 39,
     "status": "ok",
     "timestamp": 1679078390719,
     "user": {
      "displayName": "Irving Gibrán Cabrera Zamora",
      "userId": "00600026942839119351"
     },
     "user_tz": 360
    },
    "id": "B5e08zMuUQrC",
    "outputId": "c8f2f8da-d712-4fed-b7b9-49c379ddceed"
   },
   "outputs": [
    {
     "name": "stdout",
     "output_type": "stream",
     "text": [
      "[[-7  0  3  4  8]\n",
      " [-5 -3 -4  1 -6]\n",
      " [ 9  3 -1  4  4]\n",
      " [ 8  9  9  2  1]\n",
      " [ 1 -3 -7 -3 -7]] [[ 1]\n",
      " [ 8]\n",
      " [ 9]\n",
      " [-1]\n",
      " [ 0]] [[ 16]\n",
      " [-66]\n",
      " [ 20]\n",
      " [159]\n",
      " [-83]]\n"
     ]
    }
   ],
   "source": [
    "A = np.random.randint(20, size=(5,5)) - 10\n",
    "x = np.random.randint(20, size=(5,1)) - 10\n",
    "b = np.matmul(A,x)\n",
    "\n",
    "print(A,x,b)"
   ]
  },
  {
   "cell_type": "markdown",
   "metadata": {
    "id": "lEypn2Y50WQY"
   },
   "source": [
    "Utilizamos scipy para generar la descomposición LU "
   ]
  },
  {
   "cell_type": "code",
   "execution_count": 21,
   "metadata": {
    "colab": {
     "base_uri": "https://localhost:8080/"
    },
    "executionInfo": {
     "elapsed": 454,
     "status": "ok",
     "timestamp": 1679078391141,
     "user": {
      "displayName": "Irving Gibrán Cabrera Zamora",
      "userId": "00600026942839119351"
     },
     "user_tz": 360
    },
    "id": "ciBMUquCUwS9",
    "outputId": "71ef2637-7373-4ce7-ff7b-d585afda82e1"
   },
   "outputs": [
    {
     "name": "stdout",
     "output_type": "stream",
     "text": [
      "[[-0.77777778  0.36842105  0.57446809 -0.96587031  1.        ]\n",
      " [-0.55555556 -0.21052632  1.          0.          0.        ]\n",
      " [ 1.          0.          0.          0.          0.        ]\n",
      " [ 0.88888889  1.          0.          0.          0.        ]\n",
      " [ 0.11111111 -0.52631579  0.68085106  1.          0.        ]] [[ 9.          3.         -1.          4.          4.        ]\n",
      " [ 0.          6.33333333  9.88888889 -1.55555556 -2.55555556]\n",
      " [ 0.          0.         -2.47368421  2.89473684 -4.31578947]\n",
      " [ 0.          0.          0.         -6.23404255 -5.85106383]\n",
      " [ 0.          0.          0.          0.          8.88054608]]\n"
     ]
    }
   ],
   "source": [
    "L,U = scipy.linalg.lu(A,True)\n",
    "print(L,U)\n",
    "#P,L,U = scipy.linalg.lu(A,False)\n",
    "#print(P,L,U)"
   ]
  },
  {
   "cell_type": "markdown",
   "metadata": {
    "id": "EijJRDRT0XTq"
   },
   "source": [
    "Note que L no es una matriz triangular inferior sino que está permutada para mejorar el desempeño y evitar errores numéricos.\n",
    "\n",
    "Resolvemos el sistema intermedio con la matriz inferior y el vector independiente y guardamos el resultado\n"
   ]
  },
  {
   "cell_type": "code",
   "execution_count": 22,
   "metadata": {
    "colab": {
     "base_uri": "https://localhost:8080/"
    },
    "executionInfo": {
     "elapsed": 48,
     "status": "ok",
     "timestamp": 1679078391142,
     "user": {
      "displayName": "Irving Gibrán Cabrera Zamora",
      "userId": "00600026942839119351"
     },
     "user_tz": 360
    },
    "id": "fPc4X9ymU6so",
    "outputId": "545c8a04-5fa7-4a06-9cdb-0a1205b973c0"
   },
   "outputs": [
    {
     "data": {
      "text/plain": [
       "array([[ 2.00000000e+01],\n",
       "       [ 1.41222222e+02],\n",
       "       [-2.51578947e+01],\n",
       "       [ 6.23404255e+00],\n",
       "       [-8.88178420e-15]])"
      ]
     },
     "execution_count": 22,
     "metadata": {},
     "output_type": "execute_result"
    }
   ],
   "source": [
    "c = np.linalg.solve(L,b)\n",
    "c"
   ]
  },
  {
   "cell_type": "markdown",
   "metadata": {
    "id": "oZkK9reX0Xvs"
   },
   "source": [
    "El resultado será el vector independiente para resolver respecto a la matriz triangular superior"
   ]
  },
  {
   "cell_type": "code",
   "execution_count": 23,
   "metadata": {
    "colab": {
     "base_uri": "https://localhost:8080/"
    },
    "executionInfo": {
     "elapsed": 45,
     "status": "ok",
     "timestamp": 1679078391143,
     "user": {
      "displayName": "Irving Gibrán Cabrera Zamora",
      "userId": "00600026942839119351"
     },
     "user_tz": 360
    },
    "id": "w4BSKgG_XihV",
    "outputId": "1f964689-abca-4fda-8e11-2e9f1d189449"
   },
   "outputs": [
    {
     "data": {
      "text/plain": [
       "array([[ 1.00000000e+00],\n",
       "       [ 8.00000000e+00],\n",
       "       [ 9.00000000e+00],\n",
       "       [-1.00000000e+00],\n",
       "       [-1.00013942e-15]])"
      ]
     },
     "execution_count": 23,
     "metadata": {},
     "output_type": "execute_result"
    }
   ],
   "source": [
    "y = np.linalg.solve(U,c)\n",
    "y"
   ]
  },
  {
   "cell_type": "markdown",
   "metadata": {
    "id": "xY4GCCKi2gw5"
   },
   "source": [
    "## Métodos Iterativos"
   ]
  },
  {
   "cell_type": "markdown",
   "metadata": {
    "id": "50EXlg_F0jQa"
   },
   "source": [
    "\n",
    "Creamos un sistema de ecuaciones aleatorio el cual vamos a incrementar su diagonal para asegurar la convergencia de los métodos."
   ]
  },
  {
   "cell_type": "code",
   "execution_count": 24,
   "metadata": {
    "colab": {
     "base_uri": "https://localhost:8080/"
    },
    "executionInfo": {
     "elapsed": 39,
     "status": "ok",
     "timestamp": 1679078391143,
     "user": {
      "displayName": "Irving Gibrán Cabrera Zamora",
      "userId": "00600026942839119351"
     },
     "user_tz": 360
    },
    "id": "PGLuRHTMjlah",
    "outputId": "1c35f872-58c9-4f96-bab8-85e7ecd5e9c1"
   },
   "outputs": [
    {
     "name": "stdout",
     "output_type": "stream",
     "text": [
      "[[-42  -1  -6  -2  -9]\n",
      " [  2 -36  -8  -1   2]\n",
      " [-10  -5  48   6   3]\n",
      " [ -7  -6 -10 -42  -8]\n",
      " [  7  -7   2  -9  12]] [[-7]\n",
      " [ 5]\n",
      " [-6]\n",
      " [ 7]\n",
      " [ 5]] [[ 266]\n",
      " [-143]\n",
      " [-186]\n",
      " [-255]\n",
      " [ -99]]\n"
     ]
    }
   ],
   "source": [
    "A = np.random.randint(20, size=(5,5)) - 10\n",
    "A += np.diag(np.diag(A))*5 #Incrementamos la diagonal para facilitar los cálculos\n",
    "x = np.random.randint(20, size=(5,1)) - 10\n",
    "b = np.matmul(A,x)\n",
    "print(A,x,b)"
   ]
  },
  {
   "cell_type": "markdown",
   "metadata": {
    "id": "EYVH1khV0aQq"
   },
   "source": [
    "\n",
    "### Método de Jacobi\n",
    "\n",
    "definimos la función la cual sigue la metodología de Jacobi realizando multiplicación de matrices\n"
   ]
  },
  {
   "cell_type": "code",
   "execution_count": 25,
   "metadata": {
    "executionInfo": {
     "elapsed": 31,
     "status": "ok",
     "timestamp": 1679078391144,
     "user": {
      "displayName": "Irving Gibrán Cabrera Zamora",
      "userId": "00600026942839119351"
     },
     "user_tz": 360
    },
    "id": "kaVHmPZKhedp"
   },
   "outputs": [],
   "source": [
    "def jacobi(A,b,L=25,x=None):\n",
    "  n = len(A[0])\n",
    "  if x is None:\n",
    "      x = np.zeros(n).reshape((n,1))\n",
    "\n",
    "  D = np.diag(A).reshape((n,1))\n",
    "  B = -A/D + np.eye(n)\n",
    "  c = b/D\n",
    "  for k in range(L):\n",
    "    print(k,np.transpose(x))\n",
    "    x = np.matmul(B,x) + c\n",
    "    \n",
    "  return x"
   ]
  },
  {
   "cell_type": "markdown",
   "metadata": {
    "id": "EdwjhmaK0mP_"
   },
   "source": [
    "Ejecutamos el método de Jacobi dónde nos da la aproximación del vector de incógnitas a cada paso."
   ]
  },
  {
   "cell_type": "code",
   "execution_count": 26,
   "metadata": {
    "colab": {
     "base_uri": "https://localhost:8080/"
    },
    "executionInfo": {
     "elapsed": 30,
     "status": "ok",
     "timestamp": 1679078391144,
     "user": {
      "displayName": "Irving Gibrán Cabrera Zamora",
      "userId": "00600026942839119351"
     },
     "user_tz": 360
    },
    "id": "VZzLW8QTaDr5",
    "outputId": "3d75b698-e015-4654-94a9-71da1a32b3c1"
   },
   "outputs": [
    {
     "name": "stdout",
     "output_type": "stream",
     "text": [
      "0 [[0. 0. 0. 0. 0.]]\n",
      "1 [[-6.33333333  3.97222222 -3.875       6.07142857 -8.25      ]]\n",
      "2 [[-4.39559713  3.85449735 -5.02397487  9.05357143  2.96097884]]\n",
      "3 [[-6.7730143   4.75747197 -5.70599687  6.88557414  4.19006283]]\n",
      "4 [[-6.85721916  4.90545827 -5.91305034  7.08108891  4.59129707]]\n",
      "5 [[-6.92645256  4.96365193 -5.96469427  7.04685503  4.90788691]]\n",
      "6 [[-6.98667092  4.98982133 -5.98856368  7.0020739   4.96515128]]\n",
      "7 [[-6.99402258  4.99620545 -5.99636458  7.0031475   4.98593652]]\n",
      "8 [[-6.99756528  4.99865547 -5.99866444  7.00135902  4.99605441]]\n",
      "9 [[-6.99937801  4.99958152 -5.9995561   7.00021984  4.99859211]]\n",
      "10 [[-6.99976223  4.99985159 -5.9998535   7.0001186   4.99948396]]\n",
      "11 [[-6.99991246  4.99994869 -5.9999485   7.00004499  4.99983926]]\n",
      "12 [[-6.99997383  4.99998324 -5.99998268  7.0000111   4.99994416]]\n",
      "13 [[-6.99999064  4.9999942  -5.99999419  7.00000455  4.99998039]]\n",
      "14 [[-6.99999671  4.99999801 -5.999998    7.00000162  4.99999359]]\n",
      "15 [[-6.99999894  4.99999934 -5.99999932  7.00000048  4.9999978 ]]\n",
      "16 [[-6.99999963  4.99999977 -5.99999977  7.00000018  4.99999924]]\n",
      "17 [[-6.99999987  4.99999992 -5.99999992  7.00000006  4.99999975]]\n",
      "18 [[-6.99999996  4.99999997 -5.99999997  7.00000002  4.99999991]]\n",
      "19 [[-6.99999999  4.99999999 -5.99999999  7.00000001  4.99999997]]\n",
      "20 [[-7.          5.         -6.          7.          4.99999999]]\n",
      "21 [[-7.  5. -6.  7.  5.]]\n",
      "22 [[-7.  5. -6.  7.  5.]]\n",
      "23 [[-7.  5. -6.  7.  5.]]\n",
      "24 [[-7.  5. -6.  7.  5.]]\n"
     ]
    },
    {
     "data": {
      "text/plain": [
       "array([[-7.],\n",
       "       [ 5.],\n",
       "       [-6.],\n",
       "       [ 7.],\n",
       "       [ 5.]])"
      ]
     },
     "execution_count": 26,
     "metadata": {},
     "output_type": "execute_result"
    }
   ],
   "source": [
    "jacobi(A,b)"
   ]
  },
  {
   "cell_type": "markdown",
   "metadata": {
    "id": "tpG3pEnz0nGq"
   },
   "source": [
    "### Método de Gauss-Seidel\n",
    "\n",
    "Ahora definimos la función para el método de gauss seidel la cual comparte en gran medida con la función de Jacobi.\n"
   ]
  },
  {
   "cell_type": "code",
   "execution_count": 27,
   "metadata": {
    "executionInfo": {
     "elapsed": 18,
     "status": "ok",
     "timestamp": 1679078391145,
     "user": {
      "displayName": "Irving Gibrán Cabrera Zamora",
      "userId": "00600026942839119351"
     },
     "user_tz": 360
    },
    "id": "iIH1HDtQnJU0"
   },
   "outputs": [],
   "source": [
    "def gauss_seidel(A,b,L=25,x=None):\n",
    "  n = len(A[0])\n",
    "  if x is None:\n",
    "      x = np.zeros(n)\n",
    "\n",
    "  D = np.diag(A).reshape((n,1))\n",
    "  B = -A/D + np.eye(n)\n",
    "  c = b/D\n",
    "  for k in range(L):\n",
    "    for i in range(n):\n",
    "      x[i] = np.matmul(B[i],x) + c[i]\n",
    "    print(k,np.transpose(x))\n",
    "    \n",
    "  return x"
   ]
  },
  {
   "cell_type": "markdown",
   "metadata": {
    "id": "rQqTO2Nw28j3"
   },
   "source": [
    "De la misma manera la utilizamos para resolver el sistema de ecuaciones, vemos que este converge de manera mas rápida. "
   ]
  },
  {
   "cell_type": "code",
   "execution_count": 28,
   "metadata": {
    "colab": {
     "base_uri": "https://localhost:8080/"
    },
    "executionInfo": {
     "elapsed": 18,
     "status": "ok",
     "timestamp": 1679078391146,
     "user": {
      "displayName": "Irving Gibrán Cabrera Zamora",
      "userId": "00600026942839119351"
     },
     "user_tz": 360
    },
    "id": "Qz_cY-CFazBp",
    "outputId": "8f873d48-f8ac-4257-ddf5-a748a506df9a"
   },
   "outputs": [
    {
     "name": "stdout",
     "output_type": "stream",
     "text": [
      "0 [-6.33333333  3.62037037 -4.81732253  7.75676991  4.17679169]\n",
      "1 [-6.99574048  4.67066424 -6.07656413  7.22136918  4.98419033]\n",
      "2 [-6.98837454  5.01063265 -6.02315351  7.00506758  5.00708046]\n",
      "3 [-6.99870407  5.00546981 -6.00023622  6.99771019  5.00075678]\n",
      "4 [-7.00014962  5.00014983 -5.99977664  6.9998062   4.9999921 ]\n",
      "5 [-7.00002456  4.99995394 -5.99998519  7.00000865  4.99999148]\n",
      "6 [-6.9999996   4.99999602 -6.00000088  7.00000234  4.99999935]\n",
      "7 [-6.99999975  5.00000011 -6.00000019  7.00000011  5.00000003]\n",
      "8 [-6.99999999  5.00000004 -6.00000001  6.99999999  5.00000001]\n",
      "9 [-7.  5. -6.  7.  5.]\n",
      "10 [-7.  5. -6.  7.  5.]\n",
      "11 [-7.  5. -6.  7.  5.]\n",
      "12 [-7.  5. -6.  7.  5.]\n",
      "13 [-7.  5. -6.  7.  5.]\n",
      "14 [-7.  5. -6.  7.  5.]\n",
      "15 [-7.  5. -6.  7.  5.]\n",
      "16 [-7.  5. -6.  7.  5.]\n",
      "17 [-7.  5. -6.  7.  5.]\n",
      "18 [-7.  5. -6.  7.  5.]\n",
      "19 [-7.  5. -6.  7.  5.]\n",
      "20 [-7.  5. -6.  7.  5.]\n",
      "21 [-7.  5. -6.  7.  5.]\n",
      "22 [-7.  5. -6.  7.  5.]\n",
      "23 [-7.  5. -6.  7.  5.]\n",
      "24 [-7.  5. -6.  7.  5.]\n"
     ]
    },
    {
     "data": {
      "text/plain": [
       "array([-7.,  5., -6.,  7.,  5.])"
      ]
     },
     "execution_count": 28,
     "metadata": {},
     "output_type": "execute_result"
    }
   ],
   "source": [
    "gauss_seidel(A,b)"
   ]
  }
 ],
 "metadata": {
  "colab": {
   "authorship_tag": "ABX9TyMXHcCLebpBvcWbcDlivb0d",
   "provenance": [],
   "toc_visible": true
  },
  "kernelspec": {
   "display_name": "Python 3 (ipykernel)",
   "language": "python",
   "name": "python3"
  },
  "language_info": {
   "codemirror_mode": {
    "name": "ipython",
    "version": 3
   },
   "file_extension": ".py",
   "mimetype": "text/x-python",
   "name": "python",
   "nbconvert_exporter": "python",
   "pygments_lexer": "ipython3",
   "version": "3.11.2"
  }
 },
 "nbformat": 4,
 "nbformat_minor": 1
}
