{
  "nbformat": 4,
  "nbformat_minor": 0,
  "metadata": {
    "colab": {
      "provenance": []
    },
    "kernelspec": {
      "name": "python3",
      "display_name": "Python 3"
    },
    "language_info": {
      "name": "python"
    }
  },
  "cells": [
    {
      "cell_type": "code",
      "execution_count": 1,
      "metadata": {
        "colab": {
          "base_uri": "https://localhost:8080/"
        },
        "id": "0_QvD6EqWHyM",
        "outputId": "b07cef22-db9c-47e9-a3b1-b8773c1d0583"
      },
      "outputs": [
        {
          "output_type": "stream",
          "name": "stdout",
          "text": [
            "Rango A: 4\n",
            "Rango B: 4\n",
            "[[ -7.68009518]\n",
            " [-17.34339914]\n",
            " [  0.71696216]\n",
            " [ 27.24335557]\n",
            " [ -6.        ]]\n",
            "[[ True]\n",
            " [ True]\n",
            " [ True]\n",
            " [ True]\n",
            " [ True]]\n",
            "[[-18.65046596]\n",
            " [ -3.70491095]\n",
            " [ -0.22840211]\n",
            " [ 12.41821249]\n",
            " [  3.22998485]]\n",
            "[[ True]\n",
            " [ True]\n",
            " [ True]\n",
            " [ True]\n",
            " [ True]]\n"
          ]
        }
      ],
      "source": [
        "## Mitsiu Alejandro Carreño Sarabia - E23S-18014\n",
        "### Ejercicio 5.1 - Rangos\n",
        "\n",
        "import numpy as np\n",
        "\n",
        "A = np.array([\n",
        "      [-14,16,-2,14,-18],\n",
        "      [-8, -13, -16, -10, -8],\n",
        "      [2,0,12,-1,2],\n",
        "      [11,19,8,-3,-19],\n",
        "      [6,95,0,7,-122]\n",
        "    ])\n",
        "\n",
        "b = np.array([318, 51, -46, -376, -771]).reshape(len(A), 1)\n",
        "\n",
        "print(f\"Rango A: {np.linalg.matrix_rank(A)}\")\n",
        "print(f\"Rango B: {np.linalg.matrix_rank(np.concatenate([A,b], 1))}\")\n",
        "\n",
        "# Tanto el rango de A como de B son iguales por lo que sabemos que el sistema es consistente y tiene solución\n",
        "# Los rangos son menores que el número de columnas de A, por ello sabemos que uno de los vectores es linealmente dependiente \n",
        "# Por ello sabemos que A y b tienen soluciones infinitas\n",
        "sol_a = np.linalg.solve(A, b)\n",
        "sol_b, res, rank, s = np.linalg.lstsq(A, b, rcond=None)\n",
        "\n",
        "print(sol_a)\n",
        "print(np.matmul(A, sol_a) - b < 0.000000000001 )\n",
        "print(sol_b)\n",
        "print(np.matmul(A, sol_b) - b < 0.000000000001)"
      ]
    },
    {
      "cell_type": "code",
      "source": [
        "### Ejercicio 5.2 - Matriz mal condicionada\n",
        "mA = (np.random.randint(20, size=(6,6))).astype(float)\n",
        "mx = (np.random.randint(20, size=(6,1))).astype(float)\n",
        "mb = np.matmul(mA, mx)\n",
        "# En este punto tenemos un sistema correcto\n",
        "\n",
        "\n",
        "# Aqui vamos a modificar ligeramente un valor para que sea muy cercano a un valor correcto, pero no igual\n",
        "mA[-1] = mA[0]*2\n",
        "mA[-1][0] += 0.0000001\n",
        "\n",
        "mmx = np.linalg.solve(mA, mb)\n",
        "print(mx)\n",
        "print (np.matmul(mA, mmx) - mb)\n",
        "\n",
        "## La diferencia que vemos entre los valores reales (mx) y los valores con la matriz mal condicionada (mmx) superan el rango de los provocados por error de precisión flotante que usualmente estan en e-13"
      ],
      "metadata": {
        "colab": {
          "base_uri": "https://localhost:8080/"
        },
        "id": "tkjta6TQWvvL",
        "outputId": "ecc87279-d9a7-4733-8276-e703f11fde77"
      },
      "execution_count": 2,
      "outputs": [
        {
          "output_type": "stream",
          "name": "stdout",
          "text": [
            "[[15.]\n",
            " [ 2.]\n",
            " [ 5.]\n",
            " [ 2.]\n",
            " [ 0.]\n",
            " [11.]]\n",
            "[[-1.52587891e-05]\n",
            " [-1.52587891e-05]\n",
            " [-6.10351562e-05]\n",
            " [ 0.00000000e+00]\n",
            " [-3.05175781e-05]\n",
            " [-3.05175781e-05]]\n"
          ]
        }
      ]
    },
    {
      "cell_type": "code",
      "source": [],
      "metadata": {
        "id": "oRLG9_AydHPo"
      },
      "execution_count": null,
      "outputs": []
    }
  ]
}