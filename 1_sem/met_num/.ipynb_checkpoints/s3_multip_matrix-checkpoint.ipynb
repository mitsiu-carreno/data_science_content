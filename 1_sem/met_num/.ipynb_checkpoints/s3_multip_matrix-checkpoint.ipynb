{
 "cells": [
  {
   "cell_type": "markdown",
   "metadata": {
    "id": "eNUlbvadIAfC"
   },
   "source": [
    "# Sesion 3\n",
    "\n",
    "## Multiplicación de Matrices\n",
    "\n",
    "Dos matrices A y B son conformes, si A tiene el mismo número de columnas que B tiene de filas. Se definirá la multiplicación sólo para matrices conformes. \n",
    "\n",
    "Dada una matriz A de m X n y una matriz B de n X p, el producto es una matriz C de m X p, cuyo elemento general C, se obtiene por la suma de los productos de los elementos de la i-ésima fila de A y la j-ésima columna de B. \n",
    "\n",
    "\n"
   ]
  },
  {
   "cell_type": "markdown",
   "metadata": {
    "id": "YbDFvm5RR7_k"
   },
   "source": [
    "![multiplicacion de matrices](https://www.mscroggs.co.uk/img/full/multiply_matrices.gif)"
   ]
  },
  {
   "cell_type": "code",
   "execution_count": 1,
   "metadata": {
    "executionInfo": {
     "elapsed": 6,
     "status": "ok",
     "timestamp": 1677322741875,
     "user": {
      "displayName": "Irving Cabrera",
      "userId": "03885390837589150252"
     },
     "user_tz": 360
    },
    "id": "IvY3REeuOadv"
   },
   "outputs": [],
   "source": [
    "import numpy as np"
   ]
  },
  {
   "cell_type": "code",
   "execution_count": 10,
   "metadata": {
    "executionInfo": {
     "elapsed": 106,
     "status": "ok",
     "timestamp": 1677324430171,
     "user": {
      "displayName": "Irving Cabrera",
      "userId": "03885390837589150252"
     },
     "user_tz": 360
    },
    "id": "pAtb5NCgH_am"
   },
   "outputs": [],
   "source": [
    "def multiplicar_matrices_leeeento(a,b):\n",
    "  if revisar_conformidad(a,b):\n",
    "    resultado = np.zeros((a.shape[0],b.shape[1]))\n",
    "    for fila in range(a.shape[0]):\n",
    "      for columna in range(b.shape[1]):\n",
    "        print(f\"Multiplicando fila {fila} de A por columna {columna} de B\")\n",
    "        \n",
    "        resultado[fila,columna] = multiplicar_fila_columna(a[fila,:],b[:,columna])\n",
    "    return resultado\n",
    "\n",
    "    pass\n",
    "def multiplicar_fila_columna(fila,columna):\n",
    "  print(f\"{fila} x {columna} = sum({fila*columna}) = {np.sum(fila*columna)}\")\n",
    "  return np.sum(fila*columna)\n",
    "\n",
    "\n",
    "def revisar_conformidad(a,b):\n",
    "  print(f\"Comparando columnas de A ({a.shape[1]}) con filas de B ({b.shape[0]})\")\n",
    "  if a.shape[1] == b.shape[0]:\n",
    "    print(\"Matrices conformes\")\n",
    "    return True\n",
    "  else:\n",
    "    print(\"Matrices no conformes\")\n",
    "    return False\n",
    "\n"
   ]
  },
  {
   "cell_type": "code",
   "execution_count": 2,
   "metadata": {
    "id": "x4ISzDJgU4Co"
   },
   "outputs": [
    {
     "name": "stdout",
     "output_type": "stream",
     "text": [
      "Matriz A \n",
      "[[6 7 2 5]\n",
      " [0 3 9 7]\n",
      " [5 9 6 7]]\n",
      "Matriz B \n",
      "[[1 4 6]\n",
      " [3 4 3]\n",
      " [0 4 8]\n",
      " [1 7 6]]\n"
     ]
    },
    {
     "ename": "NameError",
     "evalue": "name 'multiplicar_matrices_leeeento' is not defined",
     "output_type": "error",
     "traceback": [
      "\u001b[0;31m---------------------------------------------------------------------------\u001b[0m",
      "\u001b[0;31mNameError\u001b[0m                                 Traceback (most recent call last)",
      "\u001b[0;32m/tmp/ipykernel_5185/1933576814.py\u001b[0m in \u001b[0;36m<module>\u001b[0;34m\u001b[0m\n\u001b[1;32m      6\u001b[0m \u001b[0;34m\u001b[0m\u001b[0m\n\u001b[1;32m      7\u001b[0m \u001b[0;34m\u001b[0m\u001b[0m\n\u001b[0;32m----> 8\u001b[0;31m \u001b[0mmultiplicar_matrices_leeeento\u001b[0m\u001b[0;34m(\u001b[0m\u001b[0mmatrizA\u001b[0m\u001b[0;34m,\u001b[0m\u001b[0mmatrizB\u001b[0m\u001b[0;34m)\u001b[0m\u001b[0;34m\u001b[0m\u001b[0;34m\u001b[0m\u001b[0m\n\u001b[0m",
      "\u001b[0;31mNameError\u001b[0m: name 'multiplicar_matrices_leeeento' is not defined"
     ]
    }
   ],
   "source": [
    "matrizA = np.random.randint(10, size=(3, 4))\n",
    "matrizB = np.random.randint(10, size=(4, 3))\n",
    "\n",
    "print(f\"Matriz A \\n{matrizA}\")\n",
    "print(f\"Matriz B \\n{matrizB}\")\n",
    "\n",
    "\n",
    "multiplicar_matrices_leeeento(matrizA,matrizB)"
   ]
  },
  {
   "cell_type": "code",
   "execution_count": 3,
   "metadata": {
    "id": "wPMMuMIQU9f_"
   },
   "outputs": [
    {
     "data": {
      "text/plain": [
       "array([[ 32,  95, 103],\n",
       "       [ 16,  97, 123],\n",
       "       [ 39, 129, 147]])"
      ]
     },
     "execution_count": 3,
     "metadata": {},
     "output_type": "execute_result"
    }
   ],
   "source": [
    "np.matmul(matrizA,matrizB)"
   ]
  },
  {
   "cell_type": "markdown",
   "metadata": {
    "id": "6NSnN6AANEup"
   },
   "source": [
    "\n",
    "\n",
    "## Propiedades del producto de Matrices\n",
    "### Distributividad \n",
    "\n",
    "**A (B + C) = AB + AC**\n",
    "\n",
    "\n"
   ]
  },
  {
   "cell_type": "code",
   "execution_count": 4,
   "metadata": {
    "id": "I-qlJkuhUwZD"
   },
   "outputs": [
    {
     "name": "stdout",
     "output_type": "stream",
     "text": [
      "Matriz A \n",
      "[[4 6 9 9]\n",
      " [4 3 7 7]\n",
      " [3 1 9 1]]\n",
      "Matriz B \n",
      "[[2 3 8]\n",
      " [6 0 8]\n",
      " [0 0 2]\n",
      " [8 9 9]]\n",
      "Matriz C \n",
      "[[5 0 4]\n",
      " [7 7 5]\n",
      " [4 7 2]\n",
      " [9 4 9]]\n",
      "[[295 234 324]\n",
      " [214 173 241]\n",
      " [ 87  92 103]]\n",
      "     | | \n",
      "[[295 234 324]\n",
      " [214 173 241]\n",
      " [ 87  92 103]]\n",
      "[[ True  True  True]\n",
      " [ True  True  True]\n",
      " [ True  True  True]]\n"
     ]
    }
   ],
   "source": [
    "matrizA = np.random.randint(10, size=(3, 4))\n",
    "matrizB = np.random.randint(10, size=(4, 3))\n",
    "matrizC = np.random.randint(10, size=(4, 3))\n",
    "\n",
    "\n",
    "print(f\"Matriz A \\n{matrizA}\")\n",
    "print(f\"Matriz B \\n{matrizB}\")\n",
    "print(f\"Matriz C \\n{matrizC}\")\n",
    "\n",
    "print(np.matmul(matrizA,matrizB+matrizC))\n",
    "print(\"     | | \")\n",
    "print(np.matmul(matrizA,matrizB) + np.matmul(matrizA, matrizC))\n",
    "print(np.matmul(matrizA,matrizB+matrizC) == np.matmul(matrizA,matrizB) + np.matmul(matrizA, matrizC))\n"
   ]
  },
  {
   "cell_type": "markdown",
   "metadata": {
    "id": "SPcCJVjGXXK2"
   },
   "source": [
    "### Asociatividad\n",
    "\n",
    "**A(BC) = (AB)C**"
   ]
  },
  {
   "cell_type": "code",
   "execution_count": null,
   "metadata": {
    "id": "p-Fg6VepV5F_"
   },
   "outputs": [],
   "source": [
    "matrizA = np.random.randint(10, size=(4, 4))\n",
    "matrizB = np.random.randint(10, size=(4, 4))\n",
    "matrizC = np.random.randint(10, size=(4, 4))\n",
    "\n",
    "\n",
    "print(f\"Matriz A \\n{matrizA}\")\n",
    "print(f\"Matriz B \\n{matrizB}\")\n",
    "print(f\"Matriz C \\n{matrizC}\")\n",
    "\n",
    "print(np.matmul(np.matmul(matrizA,matrizB),matrizC))\n",
    "print(\"     | | \")\n",
    "print(np.matmul(matrizA,np.matmul(matrizB,matrizC)))\n",
    "print(np.matmul(np.matmul(matrizA,matrizB),matrizC) == np.matmul(matrizA,np.matmul(matrizB,matrizC)))\n"
   ]
  },
  {
   "cell_type": "markdown",
   "metadata": {
    "id": "3aApe6RyXZed"
   },
   "source": [
    "\n",
    "### Conmutatividad ?\n",
    "\n",
    "**AB = BA**"
   ]
  },
  {
   "cell_type": "code",
   "execution_count": null,
   "metadata": {
    "id": "y6mEBjwvWtT9"
   },
   "outputs": [],
   "source": [
    "matrizA = np.random.randint(10, size=(4, 3))\n",
    "matrizB = np.random.randint(10, size=(3, 4))\n",
    "\n",
    "\n",
    "print(f\"Matriz A \\n{matrizA}\")\n",
    "print(f\"Matriz B \\n{matrizB}\")\n",
    "\n",
    "print(np.matmul(matrizA,matrizB))\n",
    "print(\"     | | \")\n",
    "print(np.matmul(matrizB,matrizA))\n",
    "\n",
    "print(np.matmul(matrizA,matrizB) == np.matmul(matrizB,matrizA))"
   ]
  },
  {
   "cell_type": "code",
   "execution_count": null,
   "metadata": {
    "id": "w1LZ0w78Ynin"
   },
   "outputs": [],
   "source": []
  },
  {
   "cell_type": "markdown",
   "metadata": {
    "id": "CiGd5_WLZCnJ"
   },
   "source": [
    "## Operaciones con Matriz identidad y Matríz Nula.\n",
    "\n",
    "\n",
    "\n",
    "### Matriz identidad"
   ]
  },
  {
   "cell_type": "code",
   "execution_count": null,
   "metadata": {
    "id": "IpB_YpzUZm6Q"
   },
   "outputs": [],
   "source": [
    "matrizA = np.random.randint(10, size=(4, 3))\n",
    "matriz_identidad = np.eye(3)\n",
    "\n",
    "print(f\"Matriz A \\n{matrizA}\")\n",
    "print(f\"Matriz Identidad (I) \\n{matriz_identidad}\")\n",
    "\n",
    "print(f\"Matriz AI \\n{multiplicar_matrices_leeeento(matrizA,matriz_identidad)}\")"
   ]
  },
  {
   "cell_type": "markdown",
   "metadata": {
    "id": "f5kxPLV9bgW0"
   },
   "source": [
    "### Matriz Nula"
   ]
  },
  {
   "cell_type": "code",
   "execution_count": null,
   "metadata": {
    "id": "-zmsR-sJajE3"
   },
   "outputs": [],
   "source": [
    "matrizA = np.random.randint(10, size=(3, 3))\n",
    "matriz_0 = np.zeros_like(matrizA)\n",
    "\n",
    "print(f\"Matriz A \\n{matrizA}\")\n",
    "print(f\"Matriz Nula (0) \\n{matriz_0}\")\n",
    "\n",
    "print(f\"Matriz A0 \\n{multiplicar_matrices_leeeento(matrizA,matriz_0)}\")\n",
    "\n",
    "print(f\"Matriz A+0 \\n{matrizA+matriz_0}\")\n"
   ]
  },
  {
   "cell_type": "markdown",
   "metadata": {
    "id": "0klnG1j0dB9q"
   },
   "source": []
  }
 ],
 "metadata": {
  "colab": {
   "authorship_tag": "ABX9TyN9k9hrBWnnhAZnosGnPI0j",
   "provenance": []
  },
  "kernelspec": {
   "display_name": "Python 3 (ipykernel)",
   "language": "python",
   "name": "python3"
  },
  "language_info": {
   "codemirror_mode": {
    "name": "ipython",
    "version": 3
   },
   "file_extension": ".py",
   "mimetype": "text/x-python",
   "name": "python",
   "nbconvert_exporter": "python",
   "pygments_lexer": "ipython3",
   "version": "3.9.13"
  }
 },
 "nbformat": 4,
 "nbformat_minor": 1
}
