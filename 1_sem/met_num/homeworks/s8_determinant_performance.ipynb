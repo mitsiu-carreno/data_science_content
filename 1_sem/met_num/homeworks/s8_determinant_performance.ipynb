{
 "cells": [
  {
   "cell_type": "markdown",
   "id": "c647a7c1",
   "metadata": {},
   "source": [
    "# Mitsiu Alejandro Carreño Sarabia - E23S-18014\n",
    "\n",
    "Todos los elementos mostrados en clase son con matrices pequeñas. Realiza experimentos para calcular el determinante en matrices con la matriz más grande posible. También realiza experimentos cuando esta matriz es triangular o cuando tiene una fila o una columna de ceros.\n",
    "\n",
    "Toma nota de el tiempo que le toma obtener este determinante y la cantidad de memoria utilizada."
   ]
  },
  {
   "cell_type": "markdown",
   "id": "5c438692",
   "metadata": {},
   "source": [
    "Se realizaron dos tipos de mediciones, una de velocidad y la otra de manejo de memoria RAM.    \n",
    "Para ambas mediciones se generaron tres tamaños de matrices, (250x250, 500x500 y 1000x1000) con una de tres caracteristicas distintas:\n",
    "* una matriz con números aleatorios [0,10]\n",
    "* una matriz triangular superior\n",
    "* una matriz con su último renglon compuesto únicamente de ceros\n",
    "\n",
    "Para la evaluación de velocidad se repitió la operación de obtener la determinante 10,000 con el objetivo de redicir el impacto de eventos fuera de la prueba (Scualquier evento que impacta en el CPU y que queda fuera del control del programa (canneo de antivirus, búsqueda de actualizaciones, procesos y demonios del sistema operativo)). "
   ]
  },
  {
   "cell_type": "markdown",
   "id": "6d3931f2",
   "metadata": {},
   "source": [
    "## Medición de tiempo"
   ]
  },
  {
   "cell_type": "markdown",
   "id": "6923d37a",
   "metadata": {},
   "source": [
    "| Size      | Randint | Triangular      | Renglón ceros |\n",
    "| ----------- | ----------- | ----------- | ----------- |\n",
    "| (250x250)   | 0.00102s       | 0.00083s      | 0.00099s       |\n",
    "| (500x500)   | 0.00507s       | 0.00359s   | 0.00445s        |\n",
    "| (1000x1000) | 0.01942s       | 0.01548s   | 0.01896s        |"
   ]
  },
  {
   "cell_type": "markdown",
   "id": "a0df78f0",
   "metadata": {},
   "source": [
    "### Randint"
   ]
  },
  {
   "cell_type": "code",
   "execution_count": 2,
   "id": "d1c9149d",
   "metadata": {},
   "outputs": [
    {
     "name": "stdout",
     "output_type": "stream",
     "text": [
      "Segundos total de procesamiento=10.235528048000006,\n",
      "Segundos promedio para obtener determinante (250x250)=0.0010235528048000006\n"
     ]
    }
   ],
   "source": [
    "############ Matriz de 250 * 250\n",
    "import timeit\n",
    "setup = '''\n",
    "import numpy as np\n",
    "from numpy.linalg import det\n",
    "A = np.random.randint(10, size=(250,250))\n",
    "'''\n",
    "\n",
    "determin= \"det(A)\"\n",
    "tot_time = timeit.timeit(setup=setup,\n",
    "                    stmt=determin,\n",
    "                    number=10000)\n",
    "print(f\"Segundos total de procesamiento={tot_time},\\nSegundos promedio para obtener determinante (250x250)={tot_time/10000}\")"
   ]
  },
  {
   "cell_type": "code",
   "execution_count": 3,
   "id": "a108b05f",
   "metadata": {},
   "outputs": [
    {
     "name": "stdout",
     "output_type": "stream",
     "text": [
      "Segundos total de procesamiento=50.73195542600001,\n",
      "Segundos promedio para obtener determinante (500x500)=0.005073195542600001\n"
     ]
    }
   ],
   "source": [
    "############ Matriz de 500 * 500\n",
    "import timeit\n",
    "setup = '''\n",
    "import numpy as np\n",
    "from numpy.linalg import det\n",
    "A = np.random.randint(10, size=(500,500))\n",
    "'''\n",
    "\n",
    "determin= \"det(A)\"\n",
    "tot_time = timeit.timeit(setup=setup,\n",
    "                    stmt=determin,\n",
    "                    number=10000)\n",
    "print(f\"Segundos total de procesamiento={tot_time},\\nSegundos promedio para obtener determinante (500x500)={tot_time/10000}\")"
   ]
  },
  {
   "cell_type": "code",
   "execution_count": 4,
   "id": "3a0f7a67",
   "metadata": {},
   "outputs": [
    {
     "name": "stdout",
     "output_type": "stream",
     "text": [
      "Segundos total de procesamiento=194.210596926,\n",
      "Segundos promedio para obtener determinante (1000x1000)=0.0194210596926\n"
     ]
    }
   ],
   "source": [
    "############ Matriz de 1000 * 1000\n",
    "import timeit\n",
    "setup = '''\n",
    "import numpy as np\n",
    "from numpy.linalg import det\n",
    "A = np.random.randint(10, size=(1000,1000))\n",
    "'''\n",
    "\n",
    "determin= \"det(A)\"\n",
    "tot_time = timeit.timeit(setup=setup,\n",
    "                    stmt=determin,\n",
    "                    number=10000)\n",
    "print(f\"Segundos total de procesamiento={tot_time},\\nSegundos promedio para obtener determinante (1000x1000)={tot_time/10000}\")"
   ]
  },
  {
   "cell_type": "markdown",
   "id": "b60d9206",
   "metadata": {},
   "source": [
    "### Triangular"
   ]
  },
  {
   "cell_type": "code",
   "execution_count": 5,
   "id": "ed418c2c",
   "metadata": {},
   "outputs": [
    {
     "name": "stdout",
     "output_type": "stream",
     "text": [
      "Segundos total de procesamiento=8.336109309999983,\n",
      "Segundos promedio para obtener determinante (250x250)=0.0008336109309999984\n"
     ]
    }
   ],
   "source": [
    "############ Matriz de 250 * 250\n",
    "import timeit\n",
    "setup = '''\n",
    "import numpy as np\n",
    "from numpy.linalg import det\n",
    "A = np.triu(np.random.randint(10, size=(250,250)))\n",
    "'''\n",
    "\n",
    "determin= \"det(A)\"\n",
    "tot_time = timeit.timeit(setup=setup,\n",
    "                    stmt=determin,\n",
    "                    number=10000)\n",
    "print(f\"Segundos total de procesamiento={tot_time},\\nSegundos promedio para obtener determinante (250x250)={tot_time/10000}\")"
   ]
  },
  {
   "cell_type": "code",
   "execution_count": 6,
   "id": "82f27605",
   "metadata": {},
   "outputs": [
    {
     "name": "stdout",
     "output_type": "stream",
     "text": [
      "Segundos total de procesamiento=35.90497599700001,\n",
      "Segundos promedio para obtener determinante (500x500)=0.003590497599700001\n"
     ]
    }
   ],
   "source": [
    "############ Matriz de 500 * 500\n",
    "import timeit\n",
    "setup = '''\n",
    "import numpy as np\n",
    "from numpy.linalg import det\n",
    "A = np.triu(np.random.randint(10, size=(500,500)))\n",
    "'''\n",
    "\n",
    "determin= \"det(A)\"\n",
    "tot_time = timeit.timeit(setup=setup,\n",
    "                    stmt=determin,\n",
    "                    number=10000)\n",
    "print(f\"Segundos total de procesamiento={tot_time},\\nSegundos promedio para obtener determinante (500x500)={tot_time/10000}\")"
   ]
  },
  {
   "cell_type": "code",
   "execution_count": 7,
   "id": "437abea5",
   "metadata": {},
   "outputs": [
    {
     "name": "stdout",
     "output_type": "stream",
     "text": [
      "Segundos total de procesamiento=154.87368896599997,\n",
      "Segundos promedio para obtener determinante (1000x1000)=0.015487368896599997\n"
     ]
    }
   ],
   "source": [
    "############ Matriz de 1000 * 1000\n",
    "import timeit\n",
    "setup = '''\n",
    "import numpy as np\n",
    "from numpy.linalg import det\n",
    "A = np.triu(np.random.randint(10, size=(1000,1000)))\n",
    "'''\n",
    "\n",
    "determin= \"det(A)\"\n",
    "tot_time = timeit.timeit(setup=setup,\n",
    "                    stmt=determin,\n",
    "                    number=10000)\n",
    "print(f\"Segundos total de procesamiento={tot_time},\\nSegundos promedio para obtener determinante (1000x1000)={tot_time/10000}\")"
   ]
  },
  {
   "cell_type": "markdown",
   "id": "84fc1761",
   "metadata": {},
   "source": [
    "### Renglón ceros"
   ]
  },
  {
   "cell_type": "code",
   "execution_count": 8,
   "id": "47d6b96a",
   "metadata": {},
   "outputs": [
    {
     "name": "stdout",
     "output_type": "stream",
     "text": [
      "Segundos total de procesamiento=9.902303467000024,\n",
      "Segundos promedio para obtener determinante (250x250)=0.0009902303467000024\n"
     ]
    }
   ],
   "source": [
    "############ Matriz de 250 * 250\n",
    "import timeit\n",
    "setup = '''\n",
    "import numpy as np\n",
    "from numpy.linalg import det\n",
    "A = np.random.randint(10, size=(250,250))\n",
    "A[249] = np.zeros_like(A[249])\n",
    "'''\n",
    "\n",
    "determin= \"det(A)\"\n",
    "tot_time = timeit.timeit(setup=setup,\n",
    "                    stmt=determin,\n",
    "                    number=10000)\n",
    "print(f\"Segundos total de procesamiento={tot_time},\\nSegundos promedio para obtener determinante (250x250)={tot_time/10000}\")"
   ]
  },
  {
   "cell_type": "code",
   "execution_count": 10,
   "id": "ea4db848",
   "metadata": {},
   "outputs": [
    {
     "name": "stdout",
     "output_type": "stream",
     "text": [
      "Segundos total de procesamiento=44.58122521200005,\n",
      "Segundos promedio para obtener determinante (500x500)=0.004458122521200005\n"
     ]
    }
   ],
   "source": [
    "############ Matriz de 500 * 500\n",
    "import timeit\n",
    "setup = '''\n",
    "import numpy as np\n",
    "from numpy.linalg import det\n",
    "A = np.random.randint(10, size=(500,500))\n",
    "A[499] = np.zeros_like(A[499])\n",
    "'''\n",
    "\n",
    "determin= \"det(A)\"\n",
    "tot_time = timeit.timeit(setup=setup,\n",
    "                    stmt=determin,\n",
    "                    number=10000)\n",
    "print(f\"Segundos total de procesamiento={tot_time},\\nSegundos promedio para obtener determinante (500x500)={tot_time/10000}\")"
   ]
  },
  {
   "cell_type": "code",
   "execution_count": 11,
   "id": "fd31cc56",
   "metadata": {},
   "outputs": [
    {
     "name": "stdout",
     "output_type": "stream",
     "text": [
      "Segundos total de procesamiento=189.69985248900002,\n",
      "Segundos promedio para obtener determinante (1000x1000)=0.018969985248900003\n"
     ]
    }
   ],
   "source": [
    "############ Matriz de 1000 * 1000\n",
    "import timeit\n",
    "setup = '''\n",
    "import numpy as np\n",
    "from numpy.linalg import det\n",
    "A = np.random.randint(10, size=(1000,1000))\n",
    "A[999] = np.zeros_like(A[999])\n",
    "'''\n",
    "\n",
    "determin= \"det(A)\"\n",
    "tot_time = timeit.timeit(setup=setup,\n",
    "                    stmt=determin,\n",
    "                    number=10000)\n",
    "print(f\"Segundos total de procesamiento={tot_time},\\nSegundos promedio para obtener determinante (1000x1000)={tot_time/10000}\")"
   ]
  },
  {
   "cell_type": "markdown",
   "id": "5d9f74df",
   "metadata": {},
   "source": [
    "## Medición de memoria"
   ]
  },
  {
   "cell_type": "markdown",
   "id": "6564d1b0",
   "metadata": {},
   "source": [
    "| Size      | Randint | Triangular      | Renglón ceros |\n",
    "| ----------- | ----------- | ----------- | ----------- |\n",
    "| (250x250)   | 501777       | 501337      | 501849       |\n",
    "| (500x500)   | 2001777        | 2001337   | 2001337        |\n",
    "| (1000x1000) | 8001777        | 8001337   | 8001337        |"
   ]
  },
  {
   "cell_type": "markdown",
   "id": "6409f8cc",
   "metadata": {},
   "source": [
    "### Rand int"
   ]
  },
  {
   "cell_type": "code",
   "execution_count": 12,
   "id": "3e5dfaca",
   "metadata": {},
   "outputs": [
    {
     "name": "stdout",
     "output_type": "stream",
     "text": [
      "Memoria actual=968,\n",
      "Máximo memoria para obtener determinante (250x250)=501777\n"
     ]
    }
   ],
   "source": [
    "############ Matriz de 250 * 250\n",
    "import tracemalloc\n",
    "import numpy as np\n",
    "from numpy.linalg import det\n",
    "A = np.random.randint(10, size=(250,250))\n",
    "tracemalloc.start()\n",
    "det(A)\n",
    "current, peak = tracemalloc.get_traced_memory()\n",
    "tracemalloc.stop()\n",
    "print(f\"Memoria actual={current},\\nMáximo memoria para obtener determinante (250x250)={peak}\")"
   ]
  },
  {
   "cell_type": "code",
   "execution_count": 13,
   "id": "92c5eafd",
   "metadata": {},
   "outputs": [
    {
     "name": "stdout",
     "output_type": "stream",
     "text": [
      "Memoria actual=968,\n",
      "Máximo memoria para obtener determinante (500x500)=2001777\n"
     ]
    }
   ],
   "source": [
    "############ Matriz de 500 * 500\n",
    "import tracemalloc\n",
    "import numpy as np\n",
    "from numpy.linalg import det\n",
    "A = np.random.randint(10, size=(500,500))\n",
    "\n",
    "tracemalloc.start()\n",
    "det(A)\n",
    "current, peak = tracemalloc.get_traced_memory()\n",
    "tracemalloc.stop()\n",
    "print(f\"Memoria actual={current},\\nMáximo memoria para obtener determinante (500x500)={peak}\")"
   ]
  },
  {
   "cell_type": "code",
   "execution_count": 14,
   "id": "313fafe3",
   "metadata": {},
   "outputs": [
    {
     "name": "stdout",
     "output_type": "stream",
     "text": [
      "Memoria actual=913,\n",
      "Máximo memoria para obtener determinante (1000x1000)=8001777\n"
     ]
    }
   ],
   "source": [
    "############ Matriz de 1000 * 1000\n",
    "import tracemalloc\n",
    "import numpy as np\n",
    "from numpy.linalg import det\n",
    "A = np.random.randint(10, size=(1000,1000))\n",
    "\n",
    "tracemalloc.start()\n",
    "det(A)\n",
    "current, peak = tracemalloc.get_traced_memory()\n",
    "tracemalloc.stop()\n",
    "print(f\"Memoria actual={current},\\nMáximo memoria para obtener determinante (1000x1000)={peak}\")"
   ]
  },
  {
   "cell_type": "markdown",
   "id": "ee8f340f",
   "metadata": {},
   "source": [
    "### Triangular"
   ]
  },
  {
   "cell_type": "code",
   "execution_count": 15,
   "id": "492022b4",
   "metadata": {},
   "outputs": [
    {
     "name": "stdout",
     "output_type": "stream",
     "text": [
      "Memoria actual=1169,\n",
      "Máximo memoria para obtener determinante (250x250)=501337\n"
     ]
    }
   ],
   "source": [
    "############ Matriz de 250 * 250\n",
    "import tracemalloc\n",
    "import numpy as np\n",
    "from numpy.linalg import det\n",
    "A = np.triu(np.random.randint(10, size=(250,250)))\n",
    "\n",
    "tracemalloc.start()\n",
    "det(A)\n",
    "current, peak = tracemalloc.get_traced_memory()\n",
    "tracemalloc.stop()\n",
    "print(f\"Memoria actual={current},\\nMáximo memoria para obtener determinante (250x250)={peak}\")"
   ]
  },
  {
   "cell_type": "code",
   "execution_count": 16,
   "id": "b577117d",
   "metadata": {},
   "outputs": [
    {
     "name": "stdout",
     "output_type": "stream",
     "text": [
      "Memoria actual=1459,\n",
      "Máximo memoria para obtener determinante (500x500)=2001337\n"
     ]
    }
   ],
   "source": [
    "############ Matriz de 500 * 500\n",
    "import tracemalloc\n",
    "import numpy as np\n",
    "from numpy.linalg import det\n",
    "A = np.triu(np.random.randint(10, size=(500,500)))\n",
    "\n",
    "tracemalloc.start()\n",
    "det(A)\n",
    "current, peak = tracemalloc.get_traced_memory()\n",
    "tracemalloc.stop()\n",
    "print(f\"Memoria actual={current},\\nMáximo memoria para obtener determinante (500x500)={peak}\")"
   ]
  },
  {
   "cell_type": "code",
   "execution_count": 17,
   "id": "1429051e",
   "metadata": {},
   "outputs": [
    {
     "name": "stdout",
     "output_type": "stream",
     "text": [
      "Memoria actual=968,\n",
      "Máximo memoria para obtener determinante (1000x1000)=8001337\n"
     ]
    }
   ],
   "source": [
    "############ Matriz de 1000 * 1000\n",
    "import tracemalloc\n",
    "import numpy as np\n",
    "from numpy.linalg import det\n",
    "A = np.triu(np.random.randint(10, size=(1000,1000)))\n",
    "\n",
    "tracemalloc.start()\n",
    "det(A)\n",
    "current, peak = tracemalloc.get_traced_memory()\n",
    "tracemalloc.stop()\n",
    "print(f\"Memoria actual={current},\\nMáximo memoria para obtener determinante (1000x1000)={peak}\")"
   ]
  },
  {
   "cell_type": "markdown",
   "id": "5f0eb18b",
   "metadata": {},
   "source": [
    "### Renglón ceros"
   ]
  },
  {
   "cell_type": "code",
   "execution_count": 18,
   "id": "39120e9e",
   "metadata": {},
   "outputs": [
    {
     "name": "stdout",
     "output_type": "stream",
     "text": [
      "Memoria actual=2137,\n",
      "Máximo memoria para obtener determinante (250x250)=501849\n"
     ]
    }
   ],
   "source": [
    "############ Matriz de 250 * 250\n",
    "import tracemalloc\n",
    "import numpy as np\n",
    "from numpy.linalg import det\n",
    "A = np.random.randint(10, size=(250,250))\n",
    "A[249] = np.zeros_like(A[249])\n",
    "\n",
    "tracemalloc.start()\n",
    "det(A)\n",
    "current, peak = tracemalloc.get_traced_memory()\n",
    "tracemalloc.stop()\n",
    "print(f\"Memoria actual={current},\\nMáximo memoria para obtener determinante (250x250)={peak}\")"
   ]
  },
  {
   "cell_type": "code",
   "execution_count": 19,
   "id": "4330c388",
   "metadata": {},
   "outputs": [
    {
     "name": "stdout",
     "output_type": "stream",
     "text": [
      "Memoria actual=1284,\n",
      "Máximo memoria para obtener determinante (500x500)=2001337\n"
     ]
    }
   ],
   "source": [
    "############ Matriz de 500 * 500\n",
    "import tracemalloc\n",
    "import numpy as np\n",
    "from numpy.linalg import det\n",
    "A = np.random.randint(10, size=(500,500))\n",
    "A[499] = np.zeros_like(A[499])\n",
    "\n",
    "tracemalloc.start()\n",
    "det(A)\n",
    "current, peak = tracemalloc.get_traced_memory()\n",
    "tracemalloc.stop()\n",
    "print(f\"Memoria actual={current},\\nMáximo memoria para obtener determinante (500x500)={peak}\")"
   ]
  },
  {
   "cell_type": "code",
   "execution_count": 20,
   "id": "98cae164",
   "metadata": {},
   "outputs": [
    {
     "name": "stdout",
     "output_type": "stream",
     "text": [
      "Memoria actual=968,\n",
      "Máximo memoria para obtener determinante (1000x1000)=8001337\n"
     ]
    }
   ],
   "source": [
    "############ Matriz de 1000 * 1000\n",
    "import tracemalloc\n",
    "import numpy as np\n",
    "from numpy.linalg import det\n",
    "A = np.random.randint(10, size=(1000,1000))\n",
    "A[999] = np.zeros_like(A[999])\n",
    "\n",
    "tracemalloc.start()\n",
    "det(A)\n",
    "current, peak = tracemalloc.get_traced_memory()\n",
    "tracemalloc.stop()\n",
    "print(f\"Memoria actual={current},\\nMáximo memoria para obtener determinante (1000x1000)={peak}\")"
   ]
  },
  {
   "cell_type": "code",
   "execution_count": null,
   "id": "793581cc",
   "metadata": {},
   "outputs": [],
   "source": []
  }
 ],
 "metadata": {
  "kernelspec": {
   "display_name": "Python 3 (ipykernel)",
   "language": "python",
   "name": "python3"
  },
  "language_info": {
   "codemirror_mode": {
    "name": "ipython",
    "version": 3
   },
   "file_extension": ".py",
   "mimetype": "text/x-python",
   "name": "python",
   "nbconvert_exporter": "python",
   "pygments_lexer": "ipython3",
   "version": "3.11.2"
  }
 },
 "nbformat": 4,
 "nbformat_minor": 5
}
