{
 "cells": [
  {
   "cell_type": "markdown",
   "id": "8362ce9b",
   "metadata": {},
   "source": [
    "## Mitsiu Alejandro Carreño Sarabia - E23S-18014\n",
    "Integra de manera numérica la función\n",
    "\n",
    "$f(x,y) = \\left\\lbrace\\begin{matrix} 1 & si \\ x^2+ y^2 \\leq 1 \\\\  0 & si \\ x^2+ y^2 >1  \\end{matrix}  \\right.$\n",
    "\n",
    "\n",
    "la cual es la función del circulo de radio 1. \n",
    "\n",
    "Utiliza el resultado y la formula del area del circulo para estimar el valor de π"
   ]
  },
  {
   "cell_type": "code",
   "execution_count": 1,
   "id": "887e5ecc",
   "metadata": {},
   "outputs": [],
   "source": [
    "import numpy as np\n",
    "import scipy.integrate as integrate"
   ]
  },
  {
   "cell_type": "code",
   "execution_count": 2,
   "id": "4739e13c",
   "metadata": {},
   "outputs": [
    {
     "name": "stderr",
     "output_type": "stream",
     "text": [
      "/usr/lib/python3/dist-packages/scipy/integrate/_quadpack_py.py:1225: IntegrationWarning: The maximum number of subdivisions (50) has been achieved.\n",
      "  If increasing the limit yields no improvement it is advised to analyze \n",
      "  the integrand in order to determine the difficulties.  If the position of a \n",
      "  local difficulty can be determined (singularity, discontinuity) one will \n",
      "  probably gain from splitting up the interval and calling the integrator \n",
      "  on the subranges.  Perhaps a special-purpose integrator should be used.\n",
      "  quad_r = quad(f, low, high, args=args, full_output=self.full_output,\n"
     ]
    },
    {
     "name": "stdout",
     "output_type": "stream",
     "text": [
      "El área bajo la curva para el segmento -1, 1 es:3.1421278363209537 el error es: 0.0002045333175209052\n"
     ]
    }
   ],
   "source": [
    "def piFunc(x, y):\n",
    "    if x**2 + y**2 <= 1:\n",
    "        return 1\n",
    "    if x**2 + y**2 > 1:\n",
    "        return 0\n",
    "\n",
    "integ = integrate.dblquad(piFunc, -1, 1, -1, 1)\n",
    "print(f\"El área bajo la curva para el segmento -1, 1 es:{integ[0]} el error es: {integ[1]}\")\n"
   ]
  },
  {
   "cell_type": "markdown",
   "id": "7182c6fe",
   "metadata": {},
   "source": [
    "La formula del área del circulo es\n",
    "$A = \\pi r^2$\n",
    "\n",
    "Y con la integral obtuvimos el área del circulo unitario, y el radio es conocido por lo que podemos despejar $\\pi$\n",
    "\n",
    "$\\frac {A}{r^2} = \\pi$\n",
    "\n",
    "Donde:\n",
    "r = 1        \n"
   ]
  },
  {
   "cell_type": "code",
   "execution_count": 3,
   "id": "0bb1e442",
   "metadata": {},
   "outputs": [
    {
     "name": "stdout",
     "output_type": "stream",
     "text": [
      "Sustituyendo:\n",
      "pi = 3.1421278363209537 / 1**2\n"
     ]
    }
   ],
   "source": [
    "print(f\"Sustituyendo:\\npi = {integ[0]} / 1**2\")"
   ]
  },
  {
   "cell_type": "code",
   "execution_count": 4,
   "id": "dc0fc981",
   "metadata": {},
   "outputs": [
    {
     "name": "stdout",
     "output_type": "stream",
     "text": [
      "pi = 3.1421278363209537\n"
     ]
    }
   ],
   "source": [
    "print(f\"pi = {integ[0]/1**2}\")"
   ]
  },
  {
   "cell_type": "code",
   "execution_count": null,
   "id": "de2749c8",
   "metadata": {},
   "outputs": [],
   "source": []
  }
 ],
 "metadata": {
  "kernelspec": {
   "display_name": "Python 3 (ipykernel)",
   "language": "python",
   "name": "python3"
  },
  "language_info": {
   "codemirror_mode": {
    "name": "ipython",
    "version": 3
   },
   "file_extension": ".py",
   "mimetype": "text/x-python",
   "name": "python",
   "nbconvert_exporter": "python",
   "pygments_lexer": "ipython3",
   "version": "3.11.2"
  }
 },
 "nbformat": 4,
 "nbformat_minor": 5
}
