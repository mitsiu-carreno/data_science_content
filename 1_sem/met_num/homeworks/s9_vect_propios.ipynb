{
 "cells": [
  {
   "cell_type": "markdown",
   "id": "643b172b",
   "metadata": {},
   "source": [
    "# Mitsiu Alejandro Carreño Sarabia - E23S-18014\n",
    "\n",
    "Experimenta que sucede cuando calculas vectores y valores propios en matrices \n",
    "\n",
    "    no son linealmente independientes\n",
    "    están mal condicionadas\n",
    "    diagonales\n",
    "    tridiagonaes\n",
    "    tringulares"
   ]
  },
  {
   "cell_type": "code",
   "execution_count": 1,
   "id": "648f503c",
   "metadata": {},
   "outputs": [],
   "source": [
    "import numpy as np\n",
    "\n",
    "def GetEigenVs(A):\n",
    "    eigenvals, eigenvecs = np.linalg.eig(A)\n",
    "    \n",
    "    print(\"Valores propios\")\n",
    "    for eigenval in eigenvals:\n",
    "        print(eigenval)\n",
    "        \n",
    "    print(\"Vectores propios\")\n",
    "    for eigenvec in eigenvecs.T:\n",
    "        print(eigenvec)\n",
    "        \n",
    "    print(\"Comprobando\")\n",
    "    for eigenval, eigenvec in zip(eigenvals, eigenvecs.T):\n",
    "        print(f\"{np.matmul(A, eigenvec)} - {eigenval * eigenvec} = \\n \\\n",
    "            {(np.matmul(A, eigenvec) - (eigenval * eigenvec))}\")\n",
    "        "
   ]
  },
  {
   "cell_type": "markdown",
   "id": "1e4108cb",
   "metadata": {},
   "source": [
    "## No son linealmente independientes"
   ]
  },
  {
   "cell_type": "code",
   "execution_count": 2,
   "id": "3f122eec",
   "metadata": {},
   "outputs": [
    {
     "name": "stdout",
     "output_type": "stream",
     "text": [
      "Matriz\n",
      "[array([4, 7, 3]), array([3, 6, 2]), array([19, 37, 13])]\n",
      "Valores propios\n",
      "22.912712210513316\n",
      "-6.412842594192754e-15\n",
      "0.08728778948667838\n",
      "Vectores propios\n",
      "[-0.2092642  -0.15136187 -0.96607354]\n",
      "[-0.78446454  0.19611614  0.58834841]\n",
      "[ 0.83775115 -0.2632333  -0.47841535]\n",
      "Comprobando\n",
      "[ -4.79481049  -3.46811089 -22.13536492] - [ -4.79481049  -3.46811089 -22.13536492] = \n",
      "             [ 1.77635684e-15 -2.66453526e-15 -1.42108547e-14]\n",
      "[ 4.77395901e-15 -2.22044605e-16  4.32986980e-15] - [ 5.03064762e-15 -1.25766190e-15 -3.77298571e-15] = \n",
      "             [-2.56688613e-16  1.03561730e-15  8.10285551e-15]\n",
      "[ 0.07312545 -0.02297705 -0.04175982] - [ 0.07312545 -0.02297705 -0.04175982] = \n",
      "             [ 2.77555756e-17 -1.26287869e-15 -9.90180160e-15]\n"
     ]
    }
   ],
   "source": [
    "a_1 = np.random.randint(10, size=(3))\n",
    "b_1 = np.random.randint(10, size=(3))\n",
    "c_1 = a_1+5*b_1\n",
    "print(\"Matriz\")\n",
    "print([a_1, b_1, c_1])\n",
    "\n",
    "GetEigenVs(np.array([a_1, b_1, c_1]))\n",
    "## Podemos observar que las variaciones estan dentro del rango usual de los errores máquina"
   ]
  },
  {
   "cell_type": "markdown",
   "id": "a62109ff",
   "metadata": {},
   "source": [
    "## Mal condicionadas"
   ]
  },
  {
   "cell_type": "code",
   "execution_count": 5,
   "id": "0f58a99a",
   "metadata": {},
   "outputs": [
    {
     "name": "stdout",
     "output_type": "stream",
     "text": [
      "Matriz\n",
      "[[ 5.  1.  9. 66.]\n",
      " [ 3.  5.  7. 80.]\n",
      " [ 0.  5.  4. 59.]\n",
      " [20.  4. 36. 52.]]\n",
      "Valores propios\n",
      "(96.57915163493871+0j)\n",
      "(-32.39848415603561+0j)\n",
      "(0.9096662605484818+1.5571273892211843j)\n",
      "(0.9096662605484818-1.5571273892211843j)\n",
      "Vectores propios\n",
      "[-0.45968796+0.j -0.54808324+0.j -0.39635807+0.j -0.57549285+0.j]\n",
      "[ 0.49145524+0.j  0.62769429+0.j  0.48858871+0.j -0.35461627+0.j]\n",
      "[ 0.77142823+0.j          0.1234336 -0.418472j   -0.46220141+0.01518547j\n",
      "  0.01334818+0.02246992j]\n",
      "[ 0.77142823-0.j          0.1234336 +0.418472j   -0.46220141-0.01518547j\n",
      "  0.01334818-0.02246992j]\n",
      "Comprobando\n",
      "[-44.39627358+0.j -52.93341431+0.j -38.27992643+0.j -55.58061088+0.j] - [-44.39627358+0.j -52.93341431+0.j -38.27992643+0.j -55.58061088+0.j] = \n",
      "             [3.55271368e-14+0.j 1.06581410e-13+0.j 2.13162821e-14+0.j\n",
      " 2.13162821e-14+0.j]\n",
      "[-15.92240488+0.j -20.33634341+0.j -15.82953361+0.j  11.48902958+0.j] - [-15.92240488+0.j -20.33634341+0.j -15.82953361+0.j  11.48902958-0.j] = \n",
      "             [-3.55271368e-15+0.j  1.77635684e-14+0.j -7.10542736e-15+0.j\n",
      "  5.32907052e-15+0.j]\n",
      "[ 0.70174224+1.20121203j  0.76389759-0.18846801j -0.44409475-0.70589276j\n",
      " -0.02284614+0.04122495j] - [ 0.70174224+1.20121203j  0.76389759-0.18846801j -0.44409475-0.70589276j\n",
      " -0.02284614+0.04122495j] = \n",
      "             [5.55111512e-16-3.55271368e-15j 1.05471187e-14-2.91433544e-15j\n",
      " 1.66533454e-15-7.77156117e-16j 8.72912853e-15-8.46545056e-16j]\n",
      "[ 0.70174224-1.20121203j  0.76389759+0.18846801j -0.44409475+0.70589276j\n",
      " -0.02284614-0.04122495j] - [ 0.70174224-1.20121203j  0.76389759+0.18846801j -0.44409475+0.70589276j\n",
      " -0.02284614-0.04122495j] = \n",
      "             [5.55111512e-16+3.55271368e-15j 1.05471187e-14+2.91433544e-15j\n",
      " 1.66533454e-15+7.77156117e-16j 8.72912853e-15+8.46545056e-16j]\n"
     ]
    }
   ],
   "source": [
    "a_2 = np.random.randint(10, size=(4,3)).astype(float)\n",
    "x_2 = np.random.randint(10, size=(3,1)).astype(float)\n",
    "b_2 = np.matmul(a_2, x_2)\n",
    "a_2[-1] = a_2[0]*4\n",
    "a_2[-1][0] += 0.000000001\n",
    "m_2 = np.concatenate([a_2, b_2], 1)\n",
    "print(\"Matriz\")\n",
    "print(m_2)\n",
    "\n",
    "## Podemos observar que las variaciones estan dentro del rango usual de los errores máquina \n",
    "GetEigenVs(m_2)"
   ]
  },
  {
   "cell_type": "markdown",
   "id": "3ecad8b8",
   "metadata": {},
   "source": [
    "## Diagonales"
   ]
  },
  {
   "cell_type": "code",
   "execution_count": 6,
   "id": "76c1925f",
   "metadata": {},
   "outputs": [
    {
     "name": "stdout",
     "output_type": "stream",
     "text": [
      "Matriz\n",
      "[[0 0 0 0]\n",
      " [0 6 0 0]\n",
      " [0 0 1 0]\n",
      " [0 0 0 5]]\n",
      "Valores propios\n",
      "0.0\n",
      "6.0\n",
      "1.0\n",
      "5.0\n",
      "Vectores propios\n",
      "[1. 0. 0. 0.]\n",
      "[0. 1. 0. 0.]\n",
      "[0. 0. 1. 0.]\n",
      "[0. 0. 0. 1.]\n",
      "Comprobando\n",
      "[0. 0. 0. 0.] - [0. 0. 0. 0.] = \n",
      "             [0. 0. 0. 0.]\n",
      "[0. 6. 0. 0.] - [0. 6. 0. 0.] = \n",
      "             [0. 0. 0. 0.]\n",
      "[0. 0. 1. 0.] - [0. 0. 1. 0.] = \n",
      "             [0. 0. 0. 0.]\n",
      "[0. 0. 0. 5.] - [0. 0. 0. 5.] = \n",
      "             [0. 0. 0. 0.]\n"
     ]
    }
   ],
   "source": [
    "m_3 = np.diag(np.random.randint(10, size=4))\n",
    "print(\"Matriz\")\n",
    "print(m_3)\n",
    "\n",
    "## Podemos observar que las variaciones estan dentro del rango usual de los errores máquina\n",
    "## y que los vectores propios estan compuestos de un único 1 por vector \n",
    "GetEigenVs(m_3)"
   ]
  },
  {
   "cell_type": "markdown",
   "id": "ffce0f55",
   "metadata": {},
   "source": [
    "## Tridiagonales"
   ]
  },
  {
   "cell_type": "code",
   "execution_count": 7,
   "id": "5d1c95d8",
   "metadata": {},
   "outputs": [
    {
     "name": "stdout",
     "output_type": "stream",
     "text": [
      "Matriz\n",
      "[[ 2  7  0  0  0]\n",
      " [ 6  1  8  0  0]\n",
      " [ 0  1  7  6  0]\n",
      " [ 0  0 10  3  7]\n",
      " [ 0  0  0  5  9]]\n",
      "Valores propios\n",
      "-6.087716677597932\n",
      "-3.8798479745237078\n",
      "15.704421020983672\n",
      "6.904232139673465\n",
      "9.358911491464468\n",
      "Vectores propios\n",
      "[ 0.62122432 -0.71775518  0.16998743 -0.25116537  0.08323505]\n",
      "[ 0.68405528 -0.57459158 -0.16255152  0.39052123 -0.15160165]\n",
      "[0.1678588  0.32862966 0.47814451 0.63889024 0.47646936]\n",
      "[-0.78310962 -0.54865019  0.18241245  0.08853016 -0.21121174]\n",
      "[-0.6309945  -0.66334753 -0.21986203  0.02411874  0.33599847]\n",
      "Comprobando\n",
      "[-3.78183765  4.3694902  -1.03483534  1.52902358 -0.50671139] - [-3.78183765  4.3694902  -1.03483534  1.52902358 -0.50671139] = \n",
      "             [ 2.66453526e-15 -1.77635684e-15 -6.66133815e-16 -2.66453526e-15\n",
      "  0.00000000e+00]\n",
      "[-2.6540305   2.22932798  0.63067517 -1.515163    0.58819134] - [-2.6540305   2.22932798  0.63067517 -1.515163    0.58819134] = \n",
      "             [ 3.10862447e-15 -2.66453526e-15  0.00000000e+00  1.55431223e-15\n",
      "  2.44249065e-15]\n",
      "[ 2.6361252   5.16093851  7.5089827  10.03340139  7.4826755 ] - [ 2.6361252   5.16093851  7.5089827  10.03340139  7.4826755 ] = \n",
      "             [3.10862447e-15 0.00000000e+00 2.30926389e-14 0.00000000e+00\n",
      " 1.15463195e-14]\n",
      "[-5.40677059 -3.7880083   1.2594179   0.61123276 -1.45825492] - [-5.40677059 -3.7880083   1.2594179   0.61123276 -1.45825492] = \n",
      "             [-1.77635684e-15 -8.88178420e-16 -1.55431223e-15  6.66133815e-16\n",
      " -3.33066907e-15]\n",
      "[-5.90542169 -6.2082108  -2.0576693   0.22572517  3.14457991] - [-5.90542169 -6.2082108  -2.0576693   0.22572517  3.14457991] = \n",
      "             [-8.88178420e-16 -1.77635684e-15 -5.77315973e-15  1.13797860e-15\n",
      " -4.44089210e-15]\n"
     ]
    }
   ],
   "source": [
    "a_4 = np.concatenate((np.array([0]), np.random.randint(10, size=4)+1))\n",
    "b_4 = np.random.randint(10, size=5) +1\n",
    "c_4 = np.concatenate((np.random.randint(10, size=4)+1, np.array([0])))\n",
    "\n",
    "m_4 = np.diag(a_4[1:], -1) + np.diag(b_4, 0) + np.diag(c_4[:-1], 1)\n",
    "\n",
    "print(\"Matriz\")\n",
    "print(m_4)\n",
    "\n",
    "## Podemos observar que las variaciones estan dentro del rango usual de los errores máquina\n",
    "GetEigenVs(m_4)"
   ]
  },
  {
   "cell_type": "markdown",
   "id": "8b583bd9",
   "metadata": {},
   "source": [
    "## Triangulares"
   ]
  },
  {
   "cell_type": "code",
   "execution_count": 9,
   "id": "ee164251",
   "metadata": {},
   "outputs": [
    {
     "name": "stdout",
     "output_type": "stream",
     "text": [
      "Matriz\n",
      "[[7 7 6 4]\n",
      " [0 2 5 0]\n",
      " [0 0 9 5]\n",
      " [0 0 0 0]]\n",
      "Valores propios\n",
      "7.0\n",
      "2.0\n",
      "9.0\n",
      "0.0\n",
      "Vectores propios\n",
      "[1. 0. 0. 0.]\n",
      "[-0.81373347  0.58123819  0.          0.        ]\n",
      "[0.97593535 0.12674485 0.17744279 0.        ]\n",
      "[-0.6362974   0.59546548 -0.23818619  0.42873514]\n",
      "Comprobando\n",
      "[7. 0. 0. 0.] - [7. 0. 0. 0.] = \n",
      "             [0. 0. 0. 0.]\n",
      "[-1.62746694  1.16247639  0.          0.        ] - [-1.62746694  1.16247639  0.          0.        ] = \n",
      "             [0. 0. 0. 0.]\n",
      "[8.78341811 1.14070365 1.59698511 0.        ] - [8.78341811 1.14070365 1.59698511 0.        ] = \n",
      "             [0. 0. 0. 0.]\n",
      "[ 0.00000000e+00 -2.22044605e-16 -4.44089210e-16  0.00000000e+00] - [-0.  0. -0.  0.] = \n",
      "             [ 0.00000000e+00 -2.22044605e-16 -4.44089210e-16  0.00000000e+00]\n"
     ]
    }
   ],
   "source": [
    "m_5 = np.triu(np.random.randint(10, size=(4,4)))\n",
    "\n",
    "print(\"Matriz\")\n",
    "print(m_5)\n",
    "\n",
    "## Podemos observar que las variaciones estan dentro del rango usual de los errores máquina\n",
    "## y que los vectores propios generan una matriz triangular de orientación inversa\n",
    "## la matriz es un triangular superior y el conjunto de vectores propios genera un triangular inferior\n",
    "GetEigenVs(m_5)"
   ]
  }
 ],
 "metadata": {
  "kernelspec": {
   "display_name": "Python 3 (ipykernel)",
   "language": "python",
   "name": "python3"
  },
  "language_info": {
   "codemirror_mode": {
    "name": "ipython",
    "version": 3
   },
   "file_extension": ".py",
   "mimetype": "text/x-python",
   "name": "python",
   "nbconvert_exporter": "python",
   "pygments_lexer": "ipython3",
   "version": "3.11.2"
  }
 },
 "nbformat": 4,
 "nbformat_minor": 5
}
