{
  "nbformat": 4,
  "nbformat_minor": 0,
  "metadata": {
    "colab": {
      "provenance": []
    },
    "kernelspec": {
      "name": "python3",
      "display_name": "Python 3"
    },
    "language_info": {
      "name": "python"
    }
  },
  "cells": [
    {
      "cell_type": "markdown",
      "source": [
        "## Mitsiu Alejandro Carreño Sarabia E23S-18014\n",
        "\n",
        "## Dependencia Lineal\n",
        "Revisa si los siguientes conjuntos son linealmente independientes\n",
        "\n",
        "    [2 1 5 2] [7 6 3 2] [9 4 0 6]\n",
        "    \n",
        "    \n",
        "    \n",
        "    [5 7 8 7] [3 1 3 1] [ 1 11 7 11]"
      ],
      "metadata": {
        "id": "qgteWC3XCYA6"
      }
    },
    {
      "cell_type": "code",
      "execution_count": 1,
      "metadata": {
        "colab": {
          "base_uri": "https://localhost:8080/",
          "height": 142
        },
        "id": "xlGxf6-vBEXd",
        "outputId": "31dc0421-c8ca-45a3-bec1-be4c800d37ad"
      },
      "outputs": [
        {
          "output_type": "stream",
          "name": "stdout",
          "text": [
            "Matriz no cuadrada, intentando con minimos cuadrados \n",
            "Rango 2\n",
            "[ 0.56325394 -0.16362512]\n",
            "-------\n",
            "Ejercicio uno tiene una diferencia mayor a 0 por lo tanto es línealmente independiente\n"
          ]
        },
        {
          "output_type": "execute_result",
          "data": {
            "text/plain": [
              "'\\n#Found on the internet, but must check\\n_, indexes = sympy.Matrix(e_one).T.rref()  # T is for transpose\\nprint(indexes)\\n\\nprint(e_one[indexes,:])\\n\\n\\nif len(indexes) == 2:\\n    print(\"linearly independant\")\\nelse:\\n    print(\"linearly dependant\") \\n'"
            ],
            "application/vnd.google.colaboratory.intrinsic+json": {
              "type": "string"
            }
          },
          "metadata": {},
          "execution_count": 1
        }
      ],
      "source": [
        "import numpy as np\n",
        "from numpy.linalg import LinAlgError\n",
        "import sympy \n",
        "\n",
        "def independencia_lineal(vector, conjunto):\n",
        "  A = np.array(conjunto).transpose()\n",
        "  ind = np.array(vector).transpose()\n",
        "  try:\n",
        "    x = np.linalg.solve(A,ind)\n",
        "  except LinAlgError:\n",
        "    print(\"Matriz no cuadrada, intentando con minimos cuadrados \")\n",
        "    x,res,rank,s = np.linalg.lstsq(A,ind,rcond=None)\n",
        "    print(f\"Rango {rank}\")\n",
        "  return x\n",
        "\n",
        "def concunto_li(conjunto):\n",
        "  c = conjunto[1:]\n",
        "  vec =  conjunto[0]\n",
        "  return independencia_lineal(vec, c)\n",
        "\n",
        "e_one = np.array([[2,1,5,2],[7,6,3,2],[9,4,0,6]])\n",
        "\n",
        "found_x = concunto_li(e_one)\n",
        "#found_x = independencia_lineal(one[2], [one[0], one[1]])\n",
        "print(found_x)\n",
        "\n",
        "print(\"-------\")\n",
        "\n",
        "#(x[0]*b + x[1]*c ) - a\n",
        "(found_x[0]*e_one[1] + found_x[1]*e_one[2] ) - e_one[0]\n",
        "\n",
        "print(\"Ejercicio uno tiene una diferencia mayor a 0 por lo tanto es línealmente independiente\")\n",
        "\n",
        "'''\n",
        "#Found on the internet, but must check\n",
        "_, indexes = sympy.Matrix(e_one).T.rref()  # T is for transpose\n",
        "print(indexes)\n",
        "\n",
        "print(e_one[indexes,:])\n",
        "\n",
        "\n",
        "if len(indexes) == 2:\n",
        "    print(\"linearly independant\")\n",
        "else:\n",
        "    print(\"linearly dependant\") \n",
        "'''"
      ]
    },
    {
      "cell_type": "code",
      "source": [
        "e_two = np.array([[5,7,8,7],[3,1,3,1],[1,11,7,11]])\n",
        "found_x = concunto_li(e_two)\n",
        "print(found_x)\n",
        "\n",
        "print(\"-\"*10)\n",
        "                \n",
        "print((found_x[0]*e_two[1] + found_x[1]*e_two[2] ) - e_two[0])\n",
        "\n",
        "print(\"Ejercicio dos tiene una diferencia muy cerca de 0 por lo tanto es línealmente dependiente\")\n"
      ],
      "metadata": {
        "colab": {
          "base_uri": "https://localhost:8080/"
        },
        "id": "74GuePDPChrs",
        "outputId": "0b994577-ce67-455b-d4a8-49bd455852c9"
      },
      "execution_count": 2,
      "outputs": [
        {
          "output_type": "stream",
          "name": "stdout",
          "text": [
            "Matriz no cuadrada, intentando con minimos cuadrados \n",
            "Rango 2\n",
            "[1.5 0.5]\n",
            "----------\n",
            "[-3.55271368e-15  0.00000000e+00 -2.66453526e-15  0.00000000e+00]\n",
            "Ejercicio dos tiene una diferencia muy cerca de 0 por lo tanto es línealmente dependiente\n"
          ]
        }
      ]
    },
    {
      "cell_type": "markdown",
      "source": [
        "## Cantidad de soluciones\n",
        "\n",
        "Calcula la cantidad de soluciones de los sistemas\n",
        "\n",
        "    A = [[ -6 3 -8 -8 -2] [ 7 7 8 -1 -1] [ 2 -2 -9 8 6] [ 0 -10 -4 8 0] [ 6 4 -10 -1 0]]\n",
        "    b = [[ 116] [ 26] [-117] [-132] [ -14]]\n",
        "    A = [[ -2 4 -5 8 -6] [ 5 1 9 9 -2] [ -2 3 -6 1 -1] [ -7 2 -9 -5 1] [ -4 8 -10 16 -12]]\n",
        "    b = [[ 21] [ 173] [ -66] [-179] [ 42]]\n",
        "    A = [[-10 1 5 -1 2] [ -8 -10 -7 -6 6] [ 5 -5 -8 -6 6] [-10 -7 5 1 9] [-20 2 10 -2 4]]\n",
        "    b = [[110] [116] [-59] [100] [ -4]]"
      ],
      "metadata": {
        "id": "_sp4f73FCkug"
      }
    },
    {
      "cell_type": "code",
      "source": [
        "def num_sols(A, b):\n",
        "    r_a = np.linalg.matrix_rank(A)\n",
        "    r_b = np.linalg.matrix_rank(b)\n",
        "    print(r_a, r_b)\n",
        "    if(r_a != r_b):\n",
        "        print(\"Sistema inconsistente, no tiene solucion\")\n",
        "    elif (r_a == len(A[0])):\n",
        "        print(\"Solución única\")\n",
        "    elif (r_a < len(A[0])):\n",
        "        print(\"Soluciones infinitas\")\n",
        "    else:\n",
        "        print(\"Err, esto no debería de pasar\")\n",
        "        \n",
        "    try:\n",
        "        solve = np.linalg.solve(A,b)\n",
        "        return solve\n",
        "    except:\n",
        "        print(\"El sistema no se puede calcular\")\n",
        "        \n",
        "        \n",
        "a_one = np.array([[ -6,3,-8,-8,-2], [ 7,7,8,-1,-1], [ 2,-2,-9,8,6], [ 0,-10,-4,8,0], [ 6,4,-10,-1,0]])\n",
        "b_one = np.array([[ 116], [ 26], [-117], [-132], [ -14]])\n",
        "B_one = np.concatenate([a_one,b_one],1)\n",
        "\n",
        "x_one = num_sols(a_one, B_one)\n",
        "print(x_one)\n",
        "\n",
        "a_two = np.array([[ -2,4,-5,8,-6],[ 5,1,9,9,-2],[ -2,3,-6,1,-1],[ -7,2,-9,-5,1],[ -4,8,-10,16,-12]])\n",
        "b_two = np.array([[ 21], [ 173], [ -66], [-179], [ 42]])\n",
        "B_two = np.concatenate([a_two,b_two],1)\n",
        "\n",
        "x_two = num_sols(a_two, B_two)\n",
        "print(x_two)\n",
        "\n",
        "a_three = np.array([[-10,1,5,-1,2],[ -8,-10,-7,-6,6],[ 5,-5,-8,-6,6],[-10,-7,5,1,9],[-20,2,10,-2,4]])\n",
        "b_three = np.array([[110],[116],[-59],[100],[ -4]])\n",
        "B_three = np.concatenate([a_three,b_three],1)\n",
        "\n",
        "x_three = num_sols(a_three, B_three)\n",
        "print(x_three)"
      ],
      "metadata": {
        "colab": {
          "base_uri": "https://localhost:8080/"
        },
        "id": "KjkiteP3ClSK",
        "outputId": "25edcb09-73fe-4452-b49a-9cb8c09895c0"
      },
      "execution_count": 3,
      "outputs": [
        {
          "output_type": "stream",
          "name": "stdout",
          "text": [
            "5 5\n",
            "Solución única\n",
            "[[ 1.00000000e+00  0.00000000e+00  0.00000000e+00 -1.25369974e-16\n",
            "   0.00000000e+00 -7.00000000e+00]\n",
            " [-0.00000000e+00  1.00000000e+00 -0.00000000e+00  1.88698404e-16\n",
            "  -0.00000000e+00  8.00000000e+00]\n",
            " [-0.00000000e+00 -0.00000000e+00  1.00000000e+00 -2.76568013e-17\n",
            "  -0.00000000e+00  1.00000000e+00]\n",
            " [ 0.00000000e+00  0.00000000e+00  0.00000000e+00  1.00000000e+00\n",
            "   0.00000000e+00 -6.00000000e+00]\n",
            " [-0.00000000e+00 -0.00000000e+00 -0.00000000e+00 -0.00000000e+00\n",
            "   1.00000000e+00 -5.00000000e+00]]\n",
            "4 4\n",
            "Soluciones infinitas\n",
            "El sistema no se puede calcular\n",
            "None\n",
            "4 5\n",
            "Sistema inconsistente, no tiene solucion\n",
            "El sistema no se puede calcular\n",
            "None\n"
          ]
        }
      ]
    },
    {
      "cell_type": "markdown",
      "source": [
        "## Vectores ortogonales\n",
        "\n",
        "Encuentra si los siguientes conjuntos de vectores son ortogonales\n",
        "\n",
        "    [[1,2,3],[4,5,6]]\n",
        "    [[1,0,-1],[1,√2,-1],[1,-√2,1]]"
      ],
      "metadata": {
        "id": "QXyoxmphCrpl"
      }
    },
    {
      "cell_type": "code",
      "source": [
        "\n",
        "def es_ortogonal(v1,v2):\n",
        "  return np.matmul(v1,v2.transpose()) == 0\n",
        "\n",
        "or_one = np.array([1,2,3])\n",
        "or_two = np.array([4,5,6])\n",
        "\n",
        "print(es_ortogonal(or_one, or_two))\n",
        "\n",
        "or_three = np.array([1,0,-1])\n",
        "or_four = np.array([1, np.sqrt(2), -1])\n",
        "or_five = np.array([1, -1*np.sqrt(2), 1])\n",
        "\n",
        "if es_ortogonal(or_three, or_four):\n",
        "    print(es_ortogonal(or_four, or_five))\n",
        "else:\n",
        "    print(False)"
      ],
      "metadata": {
        "colab": {
          "base_uri": "https://localhost:8080/"
        },
        "id": "cApNB3B-Cs8j",
        "outputId": "8d9d3cd1-5793-4a93-e54d-9f8e73ef1077"
      },
      "execution_count": 4,
      "outputs": [
        {
          "output_type": "stream",
          "name": "stdout",
          "text": [
            "False\n",
            "False\n"
          ]
        }
      ]
    }
  ]
}