{
 "cells": [
  {
   "cell_type": "markdown",
   "id": "87d6d63e",
   "metadata": {},
   "source": [
    "# Métodos iterativos"
   ]
  },
  {
   "cell_type": "code",
   "execution_count": 108,
   "id": "71460788",
   "metadata": {},
   "outputs": [
    {
     "name": "stdout",
     "output_type": "stream",
     "text": [
      "Coeficientes:\n",
      "[[-42  -7  -8  -9   1]\n",
      " [ -4   6  -2   1  -3]\n",
      " [  4  -8  54  -2  -2]\n",
      " [ -7  -1   6 -36  -3]\n",
      " [ -2   6  -5  -3 -42]]\n",
      "Incognitas\n",
      "[[ -1]\n",
      " [  1]\n",
      " [-10]\n",
      " [  6]\n",
      " [  4]]\n",
      "Dependientes\n",
      "[[  65]\n",
      " [  24]\n",
      " [-572]\n",
      " [-282]\n",
      " [-128]]\n"
     ]
    }
   ],
   "source": [
    "import numpy as np\n",
    "\n",
    "A = np.random.randint(20, size=(5,5)) - 10\n",
    "A += np.diag(np.diag(A)) * 5\n",
    "x = np.random.randint(20, size=(5,1)) - 10\n",
    "b = np.matmul(A,x)\n",
    "\n",
    "print(f\"Coeficientes:\\n{A}\")\n",
    "print(f\"Incognitas\\n{x}\")\n",
    "print(f\"Dependientes\\n{b}\")\n"
   ]
  },
  {
   "cell_type": "code",
   "execution_count": 109,
   "id": "f6cd7c1a",
   "metadata": {},
   "outputs": [],
   "source": [
    "def StopByDiff(new_x, x, epsilon=0.01):\n",
    "    '''\n",
    "    Description: \n",
    "        Checks the difference between previous x values with current x values\n",
    "    Inputs:\n",
    "        new_x [vector]: with x values gotten from current iteration\n",
    "        x [vector]: with x values from previous iteration\n",
    "        epsilon: The minimum acceptable difference between new_x values and x\n",
    "    Outputs:\n",
    "        boolean If the difference between new_x and x is lesser than the epsilon\n",
    "    '''\n",
    "    diff = np.absolute(new_x - x)\n",
    "    if (diff < epsilon).all():\n",
    "        print(\"----Diff-----\")\n",
    "        print(diff)\n",
    "        return True\n",
    "    return False  "
   ]
  },
  {
   "cell_type": "code",
   "execution_count": 110,
   "id": "73686c60",
   "metadata": {},
   "outputs": [],
   "source": [
    "def StopByProduct(A, x, b, epsilon=0.01):\n",
    "    '''\n",
    "    Description:\n",
    "        Checks the difference between the given x multiplied by the A matrix and the expected values b\n",
    "    Input:\n",
    "        A [matrix]: The coeficient matrix\n",
    "        x [vector]: The calculated x values\n",
    "        b [vector]: The expected dependent values\n",
    "        epsilon: The minimum acceptable difference between real dependen values  and calculated dependent values\n",
    "    Output:\n",
    "        boolean If the difference between the real dependen values and the calculated dependent values is lesser than epsilon\n",
    "    '''\n",
    "    diff = np.absolute(b-np.matmul(A,x))\n",
    "    if (diff < epsilon).all():\n",
    "        print(\"---Product-----\")\n",
    "        print(diff)\n",
    "        return True\n",
    "    return False"
   ]
  },
  {
   "cell_type": "code",
   "execution_count": 111,
   "id": "6cd12fd5",
   "metadata": {},
   "outputs": [],
   "source": [
    "def StopByDiagDominant(A):\n",
    "    '''\n",
    "    Description:\n",
    "        Checks if the given matrix A has a dominant diagonal\n",
    "    Input:\n",
    "        A [vector]: The coeficient matrix\n",
    "    Output:\n",
    "        boolean If the matrix has or not a dominant diagonal\n",
    "    '''\n",
    "    abs_a = np.absolute(A).copy()\n",
    "    diag = np.diag(abs_a)\n",
    "    tot_y = abs_a.sum(axis=0)\n",
    "    tot_x = abs_a.sum(axis=1)\n",
    "    flag = True\n",
    "    for i, diag_elem in enumerate(diag):\n",
    "        #print(f\"--{i}--\")\n",
    "        #print(f\"{diag_elem} > ({tot_y[i]} - {diag_elem}) and {diag_elem} > ({tot_x[i]} - {diag_elem})\")\n",
    "        #print(f\"{diag_elem} > ({tot_y[i] - diag_elem}) and {diag_elem} > ({tot_x[i] - diag_elem})\")\n",
    "        if (diag_elem <= (tot_y[i] - diag_elem) or diag_elem <= (tot_x[i] - diag_elem) ):\n",
    "            flag = False\n",
    "    \n",
    "    if(flag):\n",
    "        print(\"---DominantDiag-----\")\n",
    "        print(abs_a)\n",
    "        return True\n",
    "    return False\n",
    "    "
   ]
  },
  {
   "cell_type": "markdown",
   "id": "8294f4e8",
   "metadata": {},
   "source": [
    "### Método de Jacobi"
   ]
  },
  {
   "cell_type": "code",
   "execution_count": 112,
   "id": "8db1e84b",
   "metadata": {},
   "outputs": [],
   "source": [
    "def jacobi(A, b, L=100, x=None):\n",
    "    n = len(A[0])\n",
    "    if x is None:\n",
    "        x = np.zeros(n).reshape((n,1))\n",
    "      \n",
    "    print(f\"Iteration 0\")\n",
    "    print(np.transpose(x))\n",
    "    diag = np.diag(A).reshape((n,1))\n",
    "    new_b = -A/diag + np.eye(n)\n",
    "    c = b/diag\n",
    "    # Método de paro k > L\n",
    "    for k in range(1,L):\n",
    "        old_x = x\n",
    "        x = np.matmul(new_b,old_x) + c\n",
    "        print(f\"Iteration {k}\")\n",
    "        print(np.transpose(x))\n",
    "        if StopByDiff(x, old_x) or StopByProduct(A, x, b) or StopByDiagDominant(A):\n",
    "            return x\n",
    "\n",
    "    return x"
   ]
  },
  {
   "cell_type": "code",
   "execution_count": 113,
   "id": "bfc8af9d",
   "metadata": {},
   "outputs": [
    {
     "name": "stdout",
     "output_type": "stream",
     "text": [
      "Iteration 0\n",
      "[[0. 0. 0. 0. 0.]]\n",
      "Iteration 1\n",
      "[[ -1.54761905   4.         -10.59259259   7.83333333   3.04761905]]\n",
      "Iteration 2\n",
      "[[-1.8026581  -0.34435626 -9.48236332  6.0037478   4.39424288]]\n",
      "Iteration 3\n",
      "[[ -0.86595445   0.83393697 -10.12496734   6.24683485   3.78427981]]\n",
      "Iteration 4\n",
      "[[ -1.0065489    0.89870868 -10.03337884   5.97569724   3.96713959]]\n",
      "Iteration 5\n",
      "[[ -0.9723349    0.97212804 -10.01663817   6.00126227   3.99155125]]\n",
      "Iteration 6\n",
      "[[ -0.99265715   1.00846259 -10.00644461   5.99332593   3.99659148]]\n",
      "Iteration 7\n",
      "[[-0.99883388  1.00215512 -9.99966363  5.99754709  4.00210322]]\n",
      "----Diff-----\n",
      "[[0.00617674]\n",
      " [0.00630747]\n",
      " [0.00678098]\n",
      " [0.00422116]\n",
      " [0.00551174]]\n"
     ]
    },
    {
     "data": {
      "text/plain": [
       "array([[-0.99883388],\n",
       "       [ 1.00215512],\n",
       "       [-9.99966363],\n",
       "       [ 5.99754709],\n",
       "       [ 4.00210322]])"
      ]
     },
     "execution_count": 113,
     "metadata": {},
     "output_type": "execute_result"
    }
   ],
   "source": [
    "jacobi(A,b)"
   ]
  },
  {
   "cell_type": "markdown",
   "id": "0f763638",
   "metadata": {},
   "source": [
    "### Método Gauss-Seidel"
   ]
  },
  {
   "cell_type": "code",
   "execution_count": 114,
   "id": "6edff1da",
   "metadata": {},
   "outputs": [],
   "source": [
    "def gauss_seidel(A,b,L=100,x=None):\n",
    "    n = len(A[0])\n",
    "    if x is None:\n",
    "        x = np.zeros(n).reshape((n,1))\n",
    "\n",
    "    print(f\"Iteration 0\")\n",
    "    print(np.transpose(x))\n",
    "    D = np.diag(A).reshape((n,1))\n",
    "    B = -A/D + np.eye(n)\n",
    "    c = b/D\n",
    "    # Método de paro k > L\n",
    "    for k in range(1,L):\n",
    "        old_x = x.copy()\n",
    "        for i in range(n):\n",
    "            x[[i]] = np.matmul(B[i],x) + c[i]\n",
    "        print(f\"Iteration {k}\")\n",
    "        print(np.transpose(x))\n",
    "        if StopByDiff(x, old_x) or StopByProduct(A, x, b) or StopByDiagDominant(A):\n",
    "            return x\n",
    "    \n",
    "    return x"
   ]
  },
  {
   "cell_type": "code",
   "execution_count": 115,
   "id": "eb0b36ca",
   "metadata": {},
   "outputs": [
    {
     "name": "stdout",
     "output_type": "stream",
     "text": [
      "Iteration 0\n",
      "[[0. 0. 0. 0. 0.]]\n",
      "Iteration 1\n",
      "[[ -1.54761905   2.96825397 -10.03821282   6.37877229   4.28475022]]\n",
      "Iteration 2\n",
      "[[-1.39514942  0.80307584 -9.97532871  6.06268742  3.98326989]]\n",
      "Iteration 3\n",
      "[[-0.98570995  0.9989375  -9.99951381  5.9987261   3.99920085]]\n",
      "Iteration 4\n",
      "[[ -0.99966157   1.00020042 -10.00007216   5.9999832    4.00002231]]\n",
      "Iteration 5\n",
      "[[ -1.00001553   0.99997955 -10.00000168   6.00000145   3.99999791]]\n",
      "----Diff-----\n",
      "[[3.53954163e-04]\n",
      " [2.20872591e-04]\n",
      " [7.04804226e-05]\n",
      " [1.82516645e-05]\n",
      " [2.43924840e-05]]\n"
     ]
    },
    {
     "data": {
      "text/plain": [
       "array([[ -1.00001553],\n",
       "       [  0.99997955],\n",
       "       [-10.00000168],\n",
       "       [  6.00000145],\n",
       "       [  3.99999791]])"
      ]
     },
     "execution_count": 115,
     "metadata": {},
     "output_type": "execute_result"
    }
   ],
   "source": [
    "gauss_seidel(A,b)"
   ]
  },
  {
   "cell_type": "code",
   "execution_count": null,
   "id": "e52b7d5f",
   "metadata": {},
   "outputs": [],
   "source": []
  }
 ],
 "metadata": {
  "kernelspec": {
   "display_name": "Python 3 (ipykernel)",
   "language": "python",
   "name": "python3"
  },
  "language_info": {
   "codemirror_mode": {
    "name": "ipython",
    "version": 3
   },
   "file_extension": ".py",
   "mimetype": "text/x-python",
   "name": "python",
   "nbconvert_exporter": "python",
   "pygments_lexer": "ipython3",
   "version": "3.9.13"
  }
 },
 "nbformat": 4,
 "nbformat_minor": 5
}
