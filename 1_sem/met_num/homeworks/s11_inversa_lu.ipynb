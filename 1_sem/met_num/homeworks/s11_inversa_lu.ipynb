{
 "cells": [
  {
   "cell_type": "markdown",
   "id": "4e7e678a",
   "metadata": {},
   "source": [
    "## Mitsiu Alejandro Carreño Sarabia - E23S-18014\n",
    "\n",
    "En algunos casos la descomposición LU nos puede ayudar a facilitar los cálculos matriciales. \n",
    "\n",
    "¿Cómo se calcula la inversa de una matriz descompuesta en LU? Genera el código para calcular la descomposición y la inversa.\n",
    "\n",
    "Revisa si en general hacer esto es mas rápido o mas preciso  que calcular la inversa directamente. Sobre todo para matrices grandes."
   ]
  },
  {
   "cell_type": "code",
   "execution_count": 1,
   "id": "e74a08cc",
   "metadata": {},
   "outputs": [],
   "source": [
    "import numpy as np\n",
    "import scipy"
   ]
  },
  {
   "cell_type": "code",
   "execution_count": 2,
   "id": "71e13a9f",
   "metadata": {},
   "outputs": [
    {
     "data": {
      "text/plain": [
       "array([[17,  4,  7, 16,  5,  8,  8, 19, 16,  6],\n",
       "       [16,  2, 19,  4,  4,  1,  3, 11, 11, 13],\n",
       "       [15,  9,  5,  8, 12,  0,  6, 10,  7,  9],\n",
       "       [10,  0, 16,  0, 18,  3,  5,  6,  1,  3],\n",
       "       [17, 18, 14,  2,  6,  8, 11, 16,  1, 12],\n",
       "       [ 8,  7, 13, 18,  0,  6,  5, 13,  4,  2],\n",
       "       [ 2,  4,  6,  3,  6,  3, 11,  3, 10, 18],\n",
       "       [ 9,  8,  8,  2,  8,  9, 10, 19, 11,  0],\n",
       "       [10, 15,  8, 16,  4,  3, 15,  3,  0,  8],\n",
       "       [12,  4,  0, 10,  1,  2,  7,  2, 17, 10]])"
      ]
     },
     "execution_count": 2,
     "metadata": {},
     "output_type": "execute_result"
    }
   ],
   "source": [
    "A = np.random.randint(20, size=(10,10))\n",
    "A"
   ]
  },
  {
   "cell_type": "code",
   "execution_count": 3,
   "id": "24c003e4",
   "metadata": {},
   "outputs": [
    {
     "name": "stdout",
     "output_type": "stream",
     "text": [
      "Shape L (10, 10)\n",
      "Shape U (10, 10)\n"
     ]
    }
   ],
   "source": [
    "#Descomposición LU de matriz A, permutamos PL para eliminar la matriz de pivote\n",
    "L, U = scipy.linalg.lu(A, True)\n",
    "print(f\"Shape L {L.shape}\")\n",
    "print(f\"Shape U {U.shape}\")"
   ]
  },
  {
   "cell_type": "code",
   "execution_count": 4,
   "id": "e77566c1",
   "metadata": {},
   "outputs": [
    {
     "data": {
      "text/plain": [
       "True"
      ]
     },
     "execution_count": 4,
     "metadata": {},
     "output_type": "execute_result"
    }
   ],
   "source": [
    "# Comprobamos que las matrices L y U son factores de A\n",
    "A2 = np.matmul(L, U)\n",
    "np.allclose(A, A2)"
   ]
  },
  {
   "cell_type": "code",
   "execution_count": 5,
   "id": "1bc801ea",
   "metadata": {},
   "outputs": [],
   "source": [
    "# Calculamos la inversa de L y U\n",
    "iL = np.linalg.inv(L)\n",
    "iU = np.linalg.inv(U)"
   ]
  },
  {
   "cell_type": "code",
   "execution_count": 6,
   "id": "b9e5b15e",
   "metadata": {},
   "outputs": [],
   "source": [
    "# De la regla (AB)^-1 = B^-1 A^-1\n",
    "# Calculamos la inversa de A\n",
    "iA = np.matmul(iU, iL)"
   ]
  },
  {
   "cell_type": "code",
   "execution_count": 7,
   "id": "64a5b67f",
   "metadata": {},
   "outputs": [],
   "source": [
    "# Obtenemos la inversa de A mediante linalg\n",
    "iA2 = np.linalg.inv(A)"
   ]
  },
  {
   "cell_type": "code",
   "execution_count": 8,
   "id": "d688c069",
   "metadata": {},
   "outputs": [
    {
     "data": {
      "text/plain": [
       "True"
      ]
     },
     "execution_count": 8,
     "metadata": {},
     "output_type": "execute_result"
    }
   ],
   "source": [
    "# Comparamos el resulado obtenido entre factores de A y linalg\n",
    "np.allclose(iA, iA2)"
   ]
  },
  {
   "cell_type": "code",
   "execution_count": 9,
   "id": "82484d14",
   "metadata": {},
   "outputs": [
    {
     "data": {
      "text/plain": [
       "array([[ 7.07299377e-02,  1.95082379e-02, -3.20284641e-02,\n",
       "         1.55667199e-02,  2.81948508e-02, -7.52207122e-02,\n",
       "        -5.24215085e-02, -3.98541034e-02,  3.27264929e-02,\n",
       "         5.74477225e-03],\n",
       "       [-1.42147351e-01, -3.81016351e-02,  6.07263775e-02,\n",
       "        -1.01555256e-02,  3.22070833e-02,  1.00835308e-01,\n",
       "        -1.16221589e-02,  4.04336189e-02, -5.47093907e-02,\n",
       "         8.90852911e-02],\n",
       "       [-6.17485266e-02,  3.83800864e-02, -2.04115868e-02,\n",
       "         1.56646334e-02, -1.33721786e-02,  4.23832736e-02,\n",
       "        -6.88924059e-03,  2.62849409e-02,  2.71571283e-03,\n",
       "         1.86240640e-02],\n",
       "       [ 1.03885703e-02, -2.47221480e-02,  1.93716401e-02,\n",
       "         5.40104042e-03, -1.48994910e-02,  4.82964884e-02,\n",
       "         8.78688477e-03, -2.95851806e-02, -2.69692077e-03,\n",
       "         1.41209758e-03],\n",
       "       [-3.32221358e-02, -5.36192361e-02,  5.18294513e-02,\n",
       "         4.61063057e-02, -4.88086444e-04,  4.03674597e-02,\n",
       "         1.75085334e-02, -3.36451015e-03, -4.27008245e-02,\n",
       "         2.43174018e-02],\n",
       "       [ 1.38449682e-02, -1.29676023e-01, -9.24076848e-02,\n",
       "         9.02217749e-02,  1.16515420e-01,  8.11876224e-02,\n",
       "         1.81630706e-02, -7.02559617e-02, -1.06020753e-01,\n",
       "         1.12439279e-01],\n",
       "       [ 9.36836288e-02,  7.12195802e-02, -5.80723359e-02,\n",
       "        -2.94405747e-02, -6.32813078e-02, -1.46339334e-01,\n",
       "         1.27553346e-05,  4.56955164e-02,  1.46895305e-01,\n",
       "        -1.00032124e-01],\n",
       "       [ 5.97203753e-02,  3.81766050e-02,  3.84592334e-02,\n",
       "        -5.58055018e-02, -2.82967364e-02, -3.79584878e-02,\n",
       "         1.72991024e-02,  2.36217298e-02,  1.92549921e-02,\n",
       "        -1.08328068e-01],\n",
       "       [-8.69573279e-02,  2.73903101e-03,  1.76387316e-02,\n",
       "        -1.91923274e-03, -2.26288122e-02,  5.14201006e-02,\n",
       "        -2.73049088e-03,  5.79600471e-02, -3.74726998e-02,\n",
       "         8.50781656e-02],\n",
       "       [ 3.24525068e-02, -1.42953351e-02,  1.10435024e-02,\n",
       "        -7.64168129e-03,  3.33538047e-02,  3.97503275e-03,\n",
       "         5.45574068e-02, -5.96189871e-02, -3.21910034e-02,\n",
       "        -2.18043179e-02]])"
      ]
     },
     "execution_count": 9,
     "metadata": {},
     "output_type": "execute_result"
    }
   ],
   "source": [
    "iA"
   ]
  },
  {
   "cell_type": "markdown",
   "id": "e9fad3e1",
   "metadata": {},
   "source": [
    "### Evaluación de performance"
   ]
  },
  {
   "cell_type": "code",
   "execution_count": 10,
   "id": "32de557e",
   "metadata": {},
   "outputs": [
    {
     "name": "stdout",
     "output_type": "stream",
     "text": [
      "Segundos total de procesamiento=530.0956498590003,\n",
      "Segundos promedio para obtener inversa (500x500)=0.05300956498590003\n"
     ]
    }
   ],
   "source": [
    "import timeit\n",
    "setup = '''\n",
    "import numpy as np\n",
    "import scipy\n",
    "from numpy.linalg import det\n",
    "A = np.random.randint(20, size=(500,500))\n",
    "'''\n",
    "\n",
    "determin= '''\n",
    "L, U = scipy.linalg.lu(A, True)\n",
    "iL = np.linalg.inv(L)\n",
    "iU = np.linalg.inv(U)\n",
    "iA = np.matmul(iU, iL)\n",
    "'''\n",
    "tot_time = timeit.timeit(setup=setup,\n",
    "                    stmt=determin,\n",
    "                    number=10000)\n",
    "print(f\"Segundos total de procesamiento={tot_time},\\nSegundos promedio para obtener inversa (500x500)={tot_time/10000}\")"
   ]
  },
  {
   "cell_type": "code",
   "execution_count": 11,
   "id": "68c0567e",
   "metadata": {},
   "outputs": [
    {
     "name": "stdout",
     "output_type": "stream",
     "text": [
      "Segundos total de procesamiento=202.120331954,\n",
      "Segundos promedio para obtener inversa (500x500)=0.0202120331954\n"
     ]
    }
   ],
   "source": [
    "import timeit\n",
    "setup = '''\n",
    "import numpy as np\n",
    "from numpy.linalg import det\n",
    "A = np.random.randint(20, size=(500,500))\n",
    "'''\n",
    "\n",
    "determin= '''\n",
    "iA = np.linalg.inv(A)\n",
    "'''\n",
    "tot_time = timeit.timeit(setup=setup,\n",
    "                    stmt=determin,\n",
    "                    number=10000)\n",
    "print(f\"Segundos total de procesamiento={tot_time},\\nSegundos promedio para obtener inversa (500x500)={tot_time/10000}\")"
   ]
  },
  {
   "cell_type": "markdown",
   "id": "d1fec554",
   "metadata": {},
   "source": [
    "En general parece ser más rápido usar la función directa de linalg.inv, mi suposición es que al ser una función directa, probablemente este mejor optimizada que obtener los componentes L y U y aparte realizar una multiplicacion de matrices, (recordando que L y U tienen tamaños iguales a la matriz original, entonces ahora estamos manejando dos matrices de 500,500)"
   ]
  }
 ],
 "metadata": {
  "kernelspec": {
   "display_name": "Python 3 (ipykernel)",
   "language": "python",
   "name": "python3"
  },
  "language_info": {
   "codemirror_mode": {
    "name": "ipython",
    "version": 3
   },
   "file_extension": ".py",
   "mimetype": "text/x-python",
   "name": "python",
   "nbconvert_exporter": "python",
   "pygments_lexer": "ipython3",
   "version": "3.11.2"
  }
 },
 "nbformat": 4,
 "nbformat_minor": 5
}
