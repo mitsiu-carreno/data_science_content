{
 "cells": [
  {
   "cell_type": "code",
   "execution_count": 3,
   "id": "239c6e9a",
   "metadata": {},
   "outputs": [],
   "source": [
    "import matplotlib.pyplot as plt\n",
    "import numpy as np\n",
    "from scipy.special import expit\n",
    "from sklearn.linear_model import LinearRegression, LogisticRegression\n",
    "from sklearn.metrics import confusion_matrix, ConfusionMatrixDisplay\n",
    "from sklearn import metrics\n",
    "from sklearn.model_selection import train_test_split\n",
    "\n",
    "\n",
    "import pandas as pd\n",
    "pd.set_option('display.float_format', '{:20,.2f}'.format)"
   ]
  },
  {
   "cell_type": "code",
   "execution_count": 1,
   "id": "1f168d03",
   "metadata": {},
   "outputs": [],
   "source": [
    "#Explorando los datos\n"
   ]
  },
  {
   "cell_type": "code",
   "execution_count": 2,
   "id": "5a83f04c",
   "metadata": {},
   "outputs": [],
   "source": [
    "#Correlaciones\n"
   ]
  },
  {
   "cell_type": "code",
   "execution_count": 7,
   "id": "7463117d",
   "metadata": {},
   "outputs": [],
   "source": [
    "# Seleccionando solo Absences G1-G3"
   ]
  },
  {
   "cell_type": "code",
   "execution_count": 8,
   "id": "5b30b772",
   "metadata": {},
   "outputs": [],
   "source": [
    "#Seleccionando y"
   ]
  },
  {
   "cell_type": "code",
   "execution_count": 4,
   "id": "c3b41e8a",
   "metadata": {},
   "outputs": [],
   "source": [
    "#Instanciando el modelo\n"
   ]
  },
  {
   "cell_type": "code",
   "execution_count": 5,
   "id": "6b5d7118",
   "metadata": {},
   "outputs": [],
   "source": [
    "#30% para test y 70% para train\n",
    "\n",
    "#Entrenando el modelo\n"
   ]
  },
  {
   "cell_type": "code",
   "execution_count": 33,
   "id": "934ad94b",
   "metadata": {},
   "outputs": [],
   "source": [
    "#Calculo de las predicciones en Train y Test\n"
   ]
  },
  {
   "cell_type": "code",
   "execution_count": 6,
   "id": "63f2df53",
   "metadata": {},
   "outputs": [],
   "source": [
    "#los betas\n"
   ]
  },
  {
   "cell_type": "code",
   "execution_count": 8,
   "id": "b758b606",
   "metadata": {},
   "outputs": [],
   "source": [
    "#los nombres de las variables (features)\n"
   ]
  },
  {
   "cell_type": "code",
   "execution_count": 9,
   "id": "7c4a52c2",
   "metadata": {},
   "outputs": [],
   "source": [
    "#Plotting the weights"
   ]
  },
  {
   "cell_type": "markdown",
   "id": "d72d5398",
   "metadata": {},
   "source": [
    "# las predicciones"
   ]
  },
  {
   "cell_type": "code",
   "execution_count": 10,
   "id": "410cdb0c",
   "metadata": {},
   "outputs": [],
   "source": [
    "# Con qué probabilidad de dice que es cero o uno, pasó o no el examen\n"
   ]
  },
  {
   "cell_type": "markdown",
   "id": "28a7b695",
   "metadata": {},
   "source": [
    "# Cómo testeamos nuestro modelo?"
   ]
  },
  {
   "cell_type": "code",
   "execution_count": null,
   "id": "fce99d08",
   "metadata": {},
   "outputs": [],
   "source": []
  }
 ],
 "metadata": {
  "kernelspec": {
   "display_name": "Python 3 (ipykernel)",
   "language": "python",
   "name": "python3"
  },
  "language_info": {
   "codemirror_mode": {
    "name": "ipython",
    "version": 3
   },
   "file_extension": ".py",
   "mimetype": "text/x-python",
   "name": "python",
   "nbconvert_exporter": "python",
   "pygments_lexer": "ipython3",
   "version": "3.10.10"
  }
 },
 "nbformat": 4,
 "nbformat_minor": 5
}
