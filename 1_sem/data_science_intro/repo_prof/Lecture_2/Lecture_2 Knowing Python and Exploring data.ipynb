{
 "cells": [
  {
   "cell_type": "markdown",
   "id": "25f890e7",
   "metadata": {},
   "source": [
    "# Clase 2: Conociendo Python\n",
    "\n",
    "\n",
    "\n",
    "Jupyter notebook es un visor de Python, la belleza de este radica en lo amigable de su uso y lo visual del mismo, sin embargo, contiene todas las propiedades del lenguaje de programación.\n",
    "Para comenzar no puede faltar nuestro \"Hello world\".\n",
    "\n",
    "Para regresar a la consola o pantalla algo, el comando es print(). </br>\n",
    "\n",
    "Les recomiendo que se aprendan los atajos de teclado o keyboard shortcuts (vea Help) de Jupyter, por ejemplo, para ejecutar lo escrito en una celda Ctrl+Enter."
   ]
  },
  {
   "cell_type": "code",
   "execution_count": 1,
   "id": "4c3ae420",
   "metadata": {},
   "outputs": [
    {
     "name": "stdout",
     "output_type": "stream",
     "text": [
      "Hello World!\n"
     ]
    }
   ],
   "source": [
    "print(\"Hello World!\")"
   ]
  },
  {
   "cell_type": "markdown",
   "id": "617bbc4d",
   "metadata": {},
   "source": [
    "Listo, podemos comenzar. Primero, Python es sensitivo a Mayúsculas y minúsculas."
   ]
  },
  {
   "cell_type": "code",
   "execution_count": 1,
   "id": "ade77994",
   "metadata": {},
   "outputs": [
    {
     "name": "stdout",
     "output_type": "stream",
     "text": [
      "is 'a' equal to 'A', response: False\n"
     ]
    }
   ],
   "source": [
    "# En programación \"=\" no significa lo que usualmente conocemos,\n",
    "# sino que es la función asignación, \n",
    "# a la variable \"a\" se le asigna el valor 1.\n",
    "a=1  \n",
    "A=2\n",
    "\n",
    "#Para imprimir variables dentro de un String, basta con poner f al principio\n",
    "# y la variable entre llaves como lo muestro a continuación\n",
    "print(f\"is \\'a\\' equal to \\'A\\', response: {a==A}\")\n",
    "\n",
    "# \"==\" Es el operador lógico que nos indicará si el objeto \"a\" es igual\n",
    "# al objeto \"A\". En este caso es falso"
   ]
  },
  {
   "cell_type": "markdown",
   "id": "b57c0c2e",
   "metadata": {},
   "source": [
    "Es importante entender los tipos de datos que existen en Python, veremos las principales estructuras (para mayor detalle sigue este [link](https://docs.python.org/3/tutorial/datastructures.html)):"
   ]
  },
  {
   "cell_type": "code",
   "execution_count": 4,
   "id": "812442fe",
   "metadata": {},
   "outputs": [
    {
     "name": "stdout",
     "output_type": "stream",
     "text": [
      "Rafael Davila Bugarin\n"
     ]
    }
   ],
   "source": [
    "#Int: Enteros\n",
    "n=4\n",
    "#Float: Flotantes, decimales\n",
    "d=1.5\n",
    "#Strings: o cadenas de caracteres\n",
    "name='Rafael'\n",
    "#Booleano\n",
    "z=True\n",
    "x=False\n",
    "#Pueden llevar comillas sencillas o dobles\n",
    "lastname1=\"Rafael Dávila\"\n",
    "#Concatenemos strings con \"+\"\n",
    "print(lastname1 + \" Bugarín\")"
   ]
  },
  {
   "cell_type": "markdown",
   "id": "2de340aa",
   "metadata": {},
   "source": [
    "También tenemos arrays, matrices, series, fechas (este lo veremos con un poco de más calma), tuplas, listas y diccionarios. <br/>\n",
    "\n",
    "Para el caso de los arrays y los arreglos matriciales utilizaremos las librerías más importantes de Python, [Pandas](https://pandas.pydata.org/docs/) y [Numpy](https://numpy.org/doc/)."
   ]
  },
  {
   "cell_type": "code",
   "execution_count": 3,
   "id": "6102169f",
   "metadata": {},
   "outputs": [],
   "source": [
    "#importemos las librerías\n",
    "#Esto suele hacerse siempre al principio de los códigos que escriban\n",
    "\n",
    "import numpy as np\n",
    "import pandas as pd\n",
    "\n",
    "#Ahora sí\n",
    "#Arreglo\n",
    "vector=np.array([1,2,3])\n",
    "vector2=np.array([\"Rafa\",\"Carlos\",\"Alex\",\"Ramíro\"])\n",
    "#lista\n",
    "lista=[12,34,45]\n",
    "#Series\n",
    "serie=pd.Series([1,2,3])"
   ]
  },
  {
   "cell_type": "markdown",
   "id": "202225cc",
   "metadata": {},
   "source": [
    "Es importante mencionar que los valores o índices de la ubicación dentro de una arregelo o una matriz comienza en 0 y no en 1. Por ejemplo, para imprimir el número 12 de la lista llamada \"lista\" accedemos así:"
   ]
  },
  {
   "cell_type": "code",
   "execution_count": 7,
   "id": "724326b1",
   "metadata": {},
   "outputs": [
    {
     "name": "stdout",
     "output_type": "stream",
     "text": [
      "12\n"
     ]
    }
   ],
   "source": [
    "print(lista[0])"
   ]
  },
  {
   "cell_type": "markdown",
   "id": "eaab174d",
   "metadata": {},
   "source": [
    "Ejercicio C2.1\n",
    "\n",
    "Del vector llamado \"vector2\" imprima el nombre de Carlos y Ramíro"
   ]
  },
  {
   "cell_type": "code",
   "execution_count": null,
   "id": "ae4ac671",
   "metadata": {},
   "outputs": [],
   "source": [
    "#Escribe aquí tu código\n",
    "\n"
   ]
  },
  {
   "cell_type": "code",
   "execution_count": 7,
   "id": "2526a22f",
   "metadata": {
    "tags": [
     "hide-cell"
    ]
   },
   "outputs": [
    {
     "name": "stdout",
     "output_type": "stream",
     "text": [
      "Carlos\n",
      "Ramíro\n"
     ]
    }
   ],
   "source": [
    "print(vector2[1])\n",
    "print(vector2[3])"
   ]
  },
  {
   "cell_type": "markdown",
   "id": "1776178a",
   "metadata": {},
   "source": [
    "Este tipo de estructuras tienen sentido para organizar mejor los datos, ser más eficiente al momento de manipularlos tanto en términos de memoria como en términos de tiempo o poder de cómputo. Veámos ahora los pandas</br> \n",
    "\n",
    "# Pandas\n",
    "\n",
    "Panda es la librería de Python que trabaja con Datos Tabulados o Tablas y tiene muchísimos métodos de utilidad. Pero antes haré una breve introducción a los diccionarios de dónde generaremos una tabla. </br>\n",
    "\n",
    "Los diccionarios son otra estructura útil de datos que tienen mayor flexibilidad porque no obligan a tener los campos completos. </br>\n",
    "\n",
    "Por ejemplo, si queremos un diccionario de estudiantes pero no tenemos el dato de la calificación de alguno de ellos, aún así se puede construir el diccionario, distinto con una estructura tabulada."
   ]
  },
  {
   "cell_type": "code",
   "execution_count": 19,
   "id": "c0f3f5ff",
   "metadata": {},
   "outputs": [
    {
     "name": "stdout",
     "output_type": "stream",
     "text": [
      "El diccionario se ve así:\n",
      "\n",
      " {'student1': {'id': 1, 'name': 'Alma', 'grades': 10}, 'student2': {'id': 2, 'name': 'José'}}\n"
     ]
    }
   ],
   "source": [
    "# diccionario\n",
    "# Haremos un diccionario con IDs, Nombres y \n",
    "# Calificaciones a partir de listas\n",
    "\n",
    "#diccionarios\n",
    "\n",
    "alumno1={\"id\":1,\"name\":\"Alma\",\"grades\":10}\n",
    "alumno2={\"id\":2,\"name\":\"José\"}\n",
    "\n",
    "dictionary={\"student1\":alumno1,\"student2\":alumno2}\n",
    "\n",
    "print(f\"El diccionario se ve así:\\n\\n {dictionary}\")"
   ]
  },
  {
   "cell_type": "markdown",
   "id": "64045012",
   "metadata": {},
   "source": [
    "En este caso todo diccionario tiene llaves (keys) y valores (values) veamos cuales son en nuestro ejemplo."
   ]
  },
  {
   "cell_type": "code",
   "execution_count": 13,
   "id": "084cbaef",
   "metadata": {},
   "outputs": [
    {
     "data": {
      "text/plain": [
       "dict_keys(['student1', 'student2'])"
      ]
     },
     "execution_count": 13,
     "metadata": {},
     "output_type": "execute_result"
    }
   ],
   "source": [
    "dictionary.keys()"
   ]
  },
  {
   "cell_type": "code",
   "execution_count": 14,
   "id": "47e081cb",
   "metadata": {},
   "outputs": [
    {
     "data": {
      "text/plain": [
       "dict_keys(['id', 'name', 'grades'])"
      ]
     },
     "execution_count": 14,
     "metadata": {},
     "output_type": "execute_result"
    }
   ],
   "source": [
    "dictionary[\"student1\"].keys()"
   ]
  },
  {
   "cell_type": "code",
   "execution_count": 15,
   "id": "4eab5235",
   "metadata": {},
   "outputs": [
    {
     "data": {
      "text/plain": [
       "'Alma'"
      ]
     },
     "execution_count": 15,
     "metadata": {},
     "output_type": "execute_result"
    }
   ],
   "source": [
    "dictionary[\"student1\"][\"name\"]"
   ]
  },
  {
   "cell_type": "markdown",
   "id": "9a7ef3d8",
   "metadata": {},
   "source": [
    "Ahora, construyamos un DataFrame (o tabla) con un diccionario:"
   ]
  },
  {
   "cell_type": "code",
   "execution_count": 17,
   "id": "5cafcb67",
   "metadata": {},
   "outputs": [
    {
     "data": {
      "text/html": [
       "<div>\n",
       "<style scoped>\n",
       "    .dataframe tbody tr th:only-of-type {\n",
       "        vertical-align: middle;\n",
       "    }\n",
       "\n",
       "    .dataframe tbody tr th {\n",
       "        vertical-align: top;\n",
       "    }\n",
       "\n",
       "    .dataframe thead th {\n",
       "        text-align: right;\n",
       "    }\n",
       "</style>\n",
       "<table border=\"1\" class=\"dataframe\">\n",
       "  <thead>\n",
       "    <tr style=\"text-align: right;\">\n",
       "      <th></th>\n",
       "      <th>ID</th>\n",
       "      <th>name</th>\n",
       "      <th>grade</th>\n",
       "    </tr>\n",
       "  </thead>\n",
       "  <tbody>\n",
       "    <tr>\n",
       "      <th>0</th>\n",
       "      <td>1</td>\n",
       "      <td>Alma</td>\n",
       "      <td>10.0</td>\n",
       "    </tr>\n",
       "    <tr>\n",
       "      <th>1</th>\n",
       "      <td>2</td>\n",
       "      <td>José</td>\n",
       "      <td>9.0</td>\n",
       "    </tr>\n",
       "    <tr>\n",
       "      <th>2</th>\n",
       "      <td>3</td>\n",
       "      <td>Alan</td>\n",
       "      <td>5.7</td>\n",
       "    </tr>\n",
       "    <tr>\n",
       "      <th>3</th>\n",
       "      <td>4</td>\n",
       "      <td>Pedro</td>\n",
       "      <td>8.0</td>\n",
       "    </tr>\n",
       "    <tr>\n",
       "      <th>4</th>\n",
       "      <td>5</td>\n",
       "      <td>Andrea</td>\n",
       "      <td>7.0</td>\n",
       "    </tr>\n",
       "    <tr>\n",
       "      <th>5</th>\n",
       "      <td>6</td>\n",
       "      <td>Ana</td>\n",
       "      <td>9.0</td>\n",
       "    </tr>\n",
       "  </tbody>\n",
       "</table>\n",
       "</div>"
      ],
      "text/plain": [
       "   ID    name  grade\n",
       "0   1    Alma   10.0\n",
       "1   2    José    9.0\n",
       "2   3    Alan    5.7\n",
       "3   4   Pedro    8.0\n",
       "4   5  Andrea    7.0\n",
       "5   6     Ana    9.0"
      ]
     },
     "execution_count": 17,
     "metadata": {},
     "output_type": "execute_result"
    }
   ],
   "source": [
    "ids=[1,2,3,4,5,6]\n",
    "names=[\"Alma\",\"José\",\"Alan\",\"Pedro\",\"Andrea\",\"Ana\"]\n",
    "grades=[10,9,5.7,8,7,9]\n",
    "\n",
    "# Noten que al momento de reusar (o volver a asignar) el dato de \"dictionary\"\n",
    "# se borrará y tendrá el nuevo valor que le asigne\n",
    "dictionary={\"ID\":ids, \"name\":names,\"grade\":grades}\n",
    "\n",
    "#Convirtamos a un DataFrame\n",
    "data=pd.DataFrame(dictionary)\n",
    "\n",
    "data"
   ]
  },
  {
   "cell_type": "markdown",
   "id": "ad988cfb",
   "metadata": {},
   "source": [
    "## Primeras exploraciones"
   ]
  },
  {
   "cell_type": "code",
   "execution_count": 20,
   "id": "53f097c6",
   "metadata": {},
   "outputs": [
    {
     "data": {
      "text/html": [
       "<div>\n",
       "<style scoped>\n",
       "    .dataframe tbody tr th:only-of-type {\n",
       "        vertical-align: middle;\n",
       "    }\n",
       "\n",
       "    .dataframe tbody tr th {\n",
       "        vertical-align: top;\n",
       "    }\n",
       "\n",
       "    .dataframe thead th {\n",
       "        text-align: right;\n",
       "    }\n",
       "</style>\n",
       "<table border=\"1\" class=\"dataframe\">\n",
       "  <thead>\n",
       "    <tr style=\"text-align: right;\">\n",
       "      <th></th>\n",
       "      <th>ID</th>\n",
       "      <th>grade</th>\n",
       "    </tr>\n",
       "  </thead>\n",
       "  <tbody>\n",
       "    <tr>\n",
       "      <th>count</th>\n",
       "      <td>6.000000</td>\n",
       "      <td>6.000000</td>\n",
       "    </tr>\n",
       "    <tr>\n",
       "      <th>mean</th>\n",
       "      <td>3.500000</td>\n",
       "      <td>8.116667</td>\n",
       "    </tr>\n",
       "    <tr>\n",
       "      <th>std</th>\n",
       "      <td>1.870829</td>\n",
       "      <td>1.562583</td>\n",
       "    </tr>\n",
       "    <tr>\n",
       "      <th>min</th>\n",
       "      <td>1.000000</td>\n",
       "      <td>5.700000</td>\n",
       "    </tr>\n",
       "    <tr>\n",
       "      <th>25%</th>\n",
       "      <td>2.250000</td>\n",
       "      <td>7.250000</td>\n",
       "    </tr>\n",
       "    <tr>\n",
       "      <th>50%</th>\n",
       "      <td>3.500000</td>\n",
       "      <td>8.500000</td>\n",
       "    </tr>\n",
       "    <tr>\n",
       "      <th>75%</th>\n",
       "      <td>4.750000</td>\n",
       "      <td>9.000000</td>\n",
       "    </tr>\n",
       "    <tr>\n",
       "      <th>max</th>\n",
       "      <td>6.000000</td>\n",
       "      <td>10.000000</td>\n",
       "    </tr>\n",
       "  </tbody>\n",
       "</table>\n",
       "</div>"
      ],
      "text/plain": [
       "             ID      grade\n",
       "count  6.000000   6.000000\n",
       "mean   3.500000   8.116667\n",
       "std    1.870829   1.562583\n",
       "min    1.000000   5.700000\n",
       "25%    2.250000   7.250000\n",
       "50%    3.500000   8.500000\n",
       "75%    4.750000   9.000000\n",
       "max    6.000000  10.000000"
      ]
     },
     "execution_count": 20,
     "metadata": {},
     "output_type": "execute_result"
    }
   ],
   "source": [
    "data.describe()"
   ]
  },
  {
   "cell_type": "markdown",
   "id": "7c4740d2",
   "metadata": {},
   "source": [
    "# INEGI\n",
    "\n",
    "Para ver algún ejercicio práctico bajaremos los datos del CENSO de población y viviendo del [INEGI 2020] (https://www.inegi.org.mx/programas/ccpv/2020/#Datos_abiertos).\n",
    "\n",
    "Aquí recomiendo que creen una carpeta con con el orden que estamos llevando en el Drive, es decir, Lecture_2/data/\n",
    "y ahí guarden las bases de datos"
   ]
  },
  {
   "cell_type": "code",
   "execution_count": 11,
   "id": "5f4acf4a",
   "metadata": {},
   "outputs": [],
   "source": [
    "#Librería de Operative System\n",
    "import os\n",
    "\n",
    "\n",
    "#En qué parte del directorio estamos\n",
    "os.getcwd()\n",
    "#Ahora lo cambiaré dónde está guardada la base, aquí deben de poner su\n",
    "os.chdir('~/data/iter_00_cpv2020/conjunto_de_datos')\n"
   ]
  },
  {
   "cell_type": "markdown",
   "id": "5d70eb55",
   "metadata": {},
   "source": [
    "La librería de pandas puede importar casi todo tipo de archivos, para mayor info [aquí](https://pandas.pydata.org/docs/user_guide/io.html)"
   ]
  },
  {
   "cell_type": "code",
   "execution_count": 15,
   "id": "f5a3af8d",
   "metadata": {},
   "outputs": [
    {
     "name": "stderr",
     "output_type": "stream",
     "text": [
      "/var/folders/qq/17cwmxhd3jv_w07w8pf57y5r0000gn/T/ipykernel_6125/1231191476.py:3: DtypeWarning: Columns (8) have mixed types. Specify dtype option on import or set low_memory=False.\n",
      "  data=pd.read_csv('conjunto_de_datos_iter_00CSV20.csv')\n"
     ]
    }
   ],
   "source": [
    "#Importemos los datos\n",
    "\n",
    "data=pd.read_csv('conjunto_de_datos_iter_00CSV20.csv')"
   ]
  },
  {
   "cell_type": "markdown",
   "id": "a291cb88",
   "metadata": {},
   "source": [
    "Usemos el método \"head\" para ver las primeras 5 filas:"
   ]
  },
  {
   "cell_type": "code",
   "execution_count": 18,
   "id": "6e1dd1d2",
   "metadata": {},
   "outputs": [
    {
     "data": {
      "text/html": [
       "<div>\n",
       "<style scoped>\n",
       "    .dataframe tbody tr th:only-of-type {\n",
       "        vertical-align: middle;\n",
       "    }\n",
       "\n",
       "    .dataframe tbody tr th {\n",
       "        vertical-align: top;\n",
       "    }\n",
       "\n",
       "    .dataframe thead th {\n",
       "        text-align: right;\n",
       "    }\n",
       "</style>\n",
       "<table border=\"1\" class=\"dataframe\">\n",
       "  <thead>\n",
       "    <tr style=\"text-align: right;\">\n",
       "      <th></th>\n",
       "      <th>ENTIDAD</th>\n",
       "      <th>NOM_ENT</th>\n",
       "      <th>MUN</th>\n",
       "      <th>NOM_MUN</th>\n",
       "      <th>LOC</th>\n",
       "      <th>NOM_LOC</th>\n",
       "      <th>LONGITUD</th>\n",
       "      <th>LATITUD</th>\n",
       "      <th>ALTITUD</th>\n",
       "      <th>POBTOT</th>\n",
       "      <th>...</th>\n",
       "      <th>VPH_CEL</th>\n",
       "      <th>VPH_INTER</th>\n",
       "      <th>VPH_STVP</th>\n",
       "      <th>VPH_SPMVPI</th>\n",
       "      <th>VPH_CVJ</th>\n",
       "      <th>VPH_SINRTV</th>\n",
       "      <th>VPH_SINLTC</th>\n",
       "      <th>VPH_SINCINT</th>\n",
       "      <th>VPH_SINTIC</th>\n",
       "      <th>TAMLOC</th>\n",
       "    </tr>\n",
       "  </thead>\n",
       "  <tbody>\n",
       "    <tr>\n",
       "      <th>0</th>\n",
       "      <td>0</td>\n",
       "      <td>Total nacional</td>\n",
       "      <td>0</td>\n",
       "      <td>Total nacional</td>\n",
       "      <td>0</td>\n",
       "      <td>Total nacional</td>\n",
       "      <td>NaN</td>\n",
       "      <td>NaN</td>\n",
       "      <td>NaN</td>\n",
       "      <td>126014024</td>\n",
       "      <td>...</td>\n",
       "      <td>30775898</td>\n",
       "      <td>18307193</td>\n",
       "      <td>15211306</td>\n",
       "      <td>6616141</td>\n",
       "      <td>4047100</td>\n",
       "      <td>1788552</td>\n",
       "      <td>3170894</td>\n",
       "      <td>15108204</td>\n",
       "      <td>852871</td>\n",
       "      <td>*</td>\n",
       "    </tr>\n",
       "    <tr>\n",
       "      <th>1</th>\n",
       "      <td>0</td>\n",
       "      <td>Total nacional</td>\n",
       "      <td>0</td>\n",
       "      <td>Total nacional</td>\n",
       "      <td>9998</td>\n",
       "      <td>Localidades de una vivienda</td>\n",
       "      <td>NaN</td>\n",
       "      <td>NaN</td>\n",
       "      <td>NaN</td>\n",
       "      <td>250354</td>\n",
       "      <td>...</td>\n",
       "      <td>47005</td>\n",
       "      <td>8385</td>\n",
       "      <td>18981</td>\n",
       "      <td>1732</td>\n",
       "      <td>1113</td>\n",
       "      <td>12775</td>\n",
       "      <td>14143</td>\n",
       "      <td>51293</td>\n",
       "      <td>7154</td>\n",
       "      <td>*</td>\n",
       "    </tr>\n",
       "    <tr>\n",
       "      <th>2</th>\n",
       "      <td>0</td>\n",
       "      <td>Total nacional</td>\n",
       "      <td>0</td>\n",
       "      <td>Total nacional</td>\n",
       "      <td>9999</td>\n",
       "      <td>Localidades de dos viviendas</td>\n",
       "      <td>NaN</td>\n",
       "      <td>NaN</td>\n",
       "      <td>NaN</td>\n",
       "      <td>147125</td>\n",
       "      <td>...</td>\n",
       "      <td>25581</td>\n",
       "      <td>5027</td>\n",
       "      <td>11306</td>\n",
       "      <td>971</td>\n",
       "      <td>708</td>\n",
       "      <td>8247</td>\n",
       "      <td>10065</td>\n",
       "      <td>29741</td>\n",
       "      <td>5283</td>\n",
       "      <td>*</td>\n",
       "    </tr>\n",
       "    <tr>\n",
       "      <th>3</th>\n",
       "      <td>1</td>\n",
       "      <td>Aguascalientes</td>\n",
       "      <td>0</td>\n",
       "      <td>Total de la entidad Aguascalientes</td>\n",
       "      <td>0</td>\n",
       "      <td>Total de la Entidad</td>\n",
       "      <td>NaN</td>\n",
       "      <td>NaN</td>\n",
       "      <td>NaN</td>\n",
       "      <td>1425607</td>\n",
       "      <td>...</td>\n",
       "      <td>359895</td>\n",
       "      <td>236003</td>\n",
       "      <td>174089</td>\n",
       "      <td>98724</td>\n",
       "      <td>70126</td>\n",
       "      <td>6021</td>\n",
       "      <td>15323</td>\n",
       "      <td>128996</td>\n",
       "      <td>1711</td>\n",
       "      <td>*</td>\n",
       "    </tr>\n",
       "    <tr>\n",
       "      <th>4</th>\n",
       "      <td>1</td>\n",
       "      <td>Aguascalientes</td>\n",
       "      <td>0</td>\n",
       "      <td>Total de la entidad Aguascalientes</td>\n",
       "      <td>9998</td>\n",
       "      <td>Localidades de una vivienda</td>\n",
       "      <td>NaN</td>\n",
       "      <td>NaN</td>\n",
       "      <td>NaN</td>\n",
       "      <td>3697</td>\n",
       "      <td>...</td>\n",
       "      <td>732</td>\n",
       "      <td>205</td>\n",
       "      <td>212</td>\n",
       "      <td>48</td>\n",
       "      <td>41</td>\n",
       "      <td>39</td>\n",
       "      <td>62</td>\n",
       "      <td>530</td>\n",
       "      <td>20</td>\n",
       "      <td>*</td>\n",
       "    </tr>\n",
       "  </tbody>\n",
       "</table>\n",
       "<p>5 rows × 286 columns</p>\n",
       "</div>"
      ],
      "text/plain": [
       "   ENTIDAD         NOM_ENT  MUN                             NOM_MUN   LOC  \\\n",
       "0        0  Total nacional    0                      Total nacional     0   \n",
       "1        0  Total nacional    0                      Total nacional  9998   \n",
       "2        0  Total nacional    0                      Total nacional  9999   \n",
       "3        1  Aguascalientes    0  Total de la entidad Aguascalientes     0   \n",
       "4        1  Aguascalientes    0  Total de la entidad Aguascalientes  9998   \n",
       "\n",
       "                        NOM_LOC LONGITUD LATITUD ALTITUD     POBTOT  ...  \\\n",
       "0                Total nacional      NaN     NaN     NaN  126014024  ...   \n",
       "1   Localidades de una vivienda      NaN     NaN     NaN     250354  ...   \n",
       "2  Localidades de dos viviendas      NaN     NaN     NaN     147125  ...   \n",
       "3           Total de la Entidad      NaN     NaN     NaN    1425607  ...   \n",
       "4   Localidades de una vivienda      NaN     NaN     NaN       3697  ...   \n",
       "\n",
       "    VPH_CEL VPH_INTER  VPH_STVP VPH_SPMVPI  VPH_CVJ VPH_SINRTV VPH_SINLTC  \\\n",
       "0  30775898  18307193  15211306    6616141  4047100    1788552    3170894   \n",
       "1     47005      8385     18981       1732     1113      12775      14143   \n",
       "2     25581      5027     11306        971      708       8247      10065   \n",
       "3    359895    236003    174089      98724    70126       6021      15323   \n",
       "4       732       205       212         48       41         39         62   \n",
       "\n",
       "  VPH_SINCINT VPH_SINTIC TAMLOC  \n",
       "0    15108204     852871      *  \n",
       "1       51293       7154      *  \n",
       "2       29741       5283      *  \n",
       "3      128996       1711      *  \n",
       "4         530         20      *  \n",
       "\n",
       "[5 rows x 286 columns]"
      ]
     },
     "execution_count": 18,
     "metadata": {},
     "output_type": "execute_result"
    }
   ],
   "source": [
    "data.head()"
   ]
  },
  {
   "cell_type": "code",
   "execution_count": 22,
   "id": "faabd6b2",
   "metadata": {},
   "outputs": [
    {
     "data": {
      "text/plain": [
       "(195662, 286)"
      ]
     },
     "execution_count": 22,
     "metadata": {},
     "output_type": "execute_result"
    }
   ],
   "source": [
    "#Cuales son las dimensiones de nuestra base? \n",
    "data.shape"
   ]
  },
  {
   "attachments": {},
   "cell_type": "markdown",
   "id": "c60a895d",
   "metadata": {},
   "source": [
    "Aquí comienza la limpieza de la información, por ello es muy importante saber qué es lo que queremos responder con esta información.\n",
    "\n",
    "En este caso me haré 2 preguntas y dejaré las otras 2 de tarea:\n",
    "<ol>\n",
    "    <strong>Ejemplo:</strong>\n",
    "    <li> ¿Existe alguna relación entre estar afiliado a algún sistema de salud y la longevidad?</li>\n",
    "    <strong>Tarea:</strong>\n",
    "    <li> ¿Cuál es la relación entre el tamaño de un municipio (medido por habitantes) y el número de habitantes por vivienda?</li>\n",
    "    <li> Piensa en otra pregunta y respondela.</li>\n",
    "        </ol>\n",
    "\n",
    "Para responder la pregunta 1 necesitaremos las variables: POBTOT, P_85YMAS y PDER_SS, asimismo, para tener hacer un filtrado correcto usaremos ENTIDAD,MUN y LOC.\n",
    "\n",
    "<font color=\"red\"> <strong>Ojo!</strong></font>\n",
    "\n",
    "Aquí es dónde conocer el domain field es importante, revisemos las variables que ocuparemos:"
   ]
  },
  {
   "cell_type": "code",
   "execution_count": 46,
   "id": "53a4df50",
   "metadata": {},
   "outputs": [
    {
     "name": "stdout",
     "output_type": "stream",
     "text": [
      "ENTIDAD      int64\n",
      "MUN          int64\n",
      "LOC          int64\n",
      "POBTOT       int64\n",
      "P_85YMAS    object\n",
      "PDER_SS     object\n",
      "dtype: object\n"
     ]
    }
   ],
   "source": [
    "# Por practicidad haré una base que sea \n",
    "# subconjunto de la base principal (con bases pequeñas como esta no es necesario eliminarla, \n",
    "# más adelante veremos casos donde esto es ineficiente por la limitada memoria que tienen las PCs)\n",
    "\n",
    "#Aja! para filtrar un DataFrame (panda) basta con incorporar en corchetes una lista\n",
    "subset=data[[\"ENTIDAD\",\"MUN\",\"LOC\",\"POBTOT\",\"P_85YMAS\",\"PDER_SS\"]]\n",
    "\n",
    "print(subset.dtypes)"
   ]
  },
  {
   "cell_type": "markdown",
   "id": "cbb952b5",
   "metadata": {},
   "source": [
    "Notemos que tenemos 2 variables de tipo \"Object\", ¿Por qué? deberían ser números, veamos de nuevo la base con 20 observaciones.\n",
    "\n"
   ]
  },
  {
   "cell_type": "code",
   "execution_count": 25,
   "id": "583fb185",
   "metadata": {},
   "outputs": [
    {
     "data": {
      "text/html": [
       "<div>\n",
       "<style scoped>\n",
       "    .dataframe tbody tr th:only-of-type {\n",
       "        vertical-align: middle;\n",
       "    }\n",
       "\n",
       "    .dataframe tbody tr th {\n",
       "        vertical-align: top;\n",
       "    }\n",
       "\n",
       "    .dataframe thead th {\n",
       "        text-align: right;\n",
       "    }\n",
       "</style>\n",
       "<table border=\"1\" class=\"dataframe\">\n",
       "  <thead>\n",
       "    <tr style=\"text-align: right;\">\n",
       "      <th></th>\n",
       "      <th>ENTIDAD</th>\n",
       "      <th>MUN</th>\n",
       "      <th>LOC</th>\n",
       "      <th>POBTOT</th>\n",
       "      <th>P_85YMAS</th>\n",
       "      <th>PDER_SS</th>\n",
       "    </tr>\n",
       "  </thead>\n",
       "  <tbody>\n",
       "    <tr>\n",
       "      <th>0</th>\n",
       "      <td>0</td>\n",
       "      <td>0</td>\n",
       "      <td>0</td>\n",
       "      <td>126014024</td>\n",
       "      <td>1039551</td>\n",
       "      <td>92582812</td>\n",
       "    </tr>\n",
       "    <tr>\n",
       "      <th>1</th>\n",
       "      <td>0</td>\n",
       "      <td>0</td>\n",
       "      <td>9998</td>\n",
       "      <td>250354</td>\n",
       "      <td>2357</td>\n",
       "      <td>153663</td>\n",
       "    </tr>\n",
       "    <tr>\n",
       "      <th>2</th>\n",
       "      <td>0</td>\n",
       "      <td>0</td>\n",
       "      <td>9999</td>\n",
       "      <td>147125</td>\n",
       "      <td>1588</td>\n",
       "      <td>90057</td>\n",
       "    </tr>\n",
       "    <tr>\n",
       "      <th>3</th>\n",
       "      <td>1</td>\n",
       "      <td>0</td>\n",
       "      <td>0</td>\n",
       "      <td>1425607</td>\n",
       "      <td>8894</td>\n",
       "      <td>1161139</td>\n",
       "    </tr>\n",
       "    <tr>\n",
       "      <th>4</th>\n",
       "      <td>1</td>\n",
       "      <td>0</td>\n",
       "      <td>9998</td>\n",
       "      <td>3697</td>\n",
       "      <td>32</td>\n",
       "      <td>2472</td>\n",
       "    </tr>\n",
       "    <tr>\n",
       "      <th>5</th>\n",
       "      <td>1</td>\n",
       "      <td>0</td>\n",
       "      <td>9999</td>\n",
       "      <td>3021</td>\n",
       "      <td>11</td>\n",
       "      <td>1730</td>\n",
       "    </tr>\n",
       "    <tr>\n",
       "      <th>6</th>\n",
       "      <td>1</td>\n",
       "      <td>1</td>\n",
       "      <td>0</td>\n",
       "      <td>948990</td>\n",
       "      <td>5777</td>\n",
       "      <td>774363</td>\n",
       "    </tr>\n",
       "    <tr>\n",
       "      <th>7</th>\n",
       "      <td>1</td>\n",
       "      <td>1</td>\n",
       "      <td>1</td>\n",
       "      <td>863893</td>\n",
       "      <td>5346</td>\n",
       "      <td>707760</td>\n",
       "    </tr>\n",
       "    <tr>\n",
       "      <th>8</th>\n",
       "      <td>1</td>\n",
       "      <td>1</td>\n",
       "      <td>94</td>\n",
       "      <td>5</td>\n",
       "      <td>*</td>\n",
       "      <td>*</td>\n",
       "    </tr>\n",
       "    <tr>\n",
       "      <th>9</th>\n",
       "      <td>1</td>\n",
       "      <td>1</td>\n",
       "      <td>96</td>\n",
       "      <td>41</td>\n",
       "      <td>0</td>\n",
       "      <td>35</td>\n",
       "    </tr>\n",
       "    <tr>\n",
       "      <th>10</th>\n",
       "      <td>1</td>\n",
       "      <td>1</td>\n",
       "      <td>102</td>\n",
       "      <td>8</td>\n",
       "      <td>*</td>\n",
       "      <td>*</td>\n",
       "    </tr>\n",
       "    <tr>\n",
       "      <th>11</th>\n",
       "      <td>1</td>\n",
       "      <td>1</td>\n",
       "      <td>104</td>\n",
       "      <td>1</td>\n",
       "      <td>*</td>\n",
       "      <td>*</td>\n",
       "    </tr>\n",
       "    <tr>\n",
       "      <th>12</th>\n",
       "      <td>1</td>\n",
       "      <td>1</td>\n",
       "      <td>106</td>\n",
       "      <td>1169</td>\n",
       "      <td>4</td>\n",
       "      <td>995</td>\n",
       "    </tr>\n",
       "    <tr>\n",
       "      <th>13</th>\n",
       "      <td>1</td>\n",
       "      <td>1</td>\n",
       "      <td>112</td>\n",
       "      <td>41</td>\n",
       "      <td>0</td>\n",
       "      <td>10</td>\n",
       "    </tr>\n",
       "    <tr>\n",
       "      <th>14</th>\n",
       "      <td>1</td>\n",
       "      <td>1</td>\n",
       "      <td>120</td>\n",
       "      <td>1054</td>\n",
       "      <td>12</td>\n",
       "      <td>905</td>\n",
       "    </tr>\n",
       "    <tr>\n",
       "      <th>15</th>\n",
       "      <td>1</td>\n",
       "      <td>1</td>\n",
       "      <td>121</td>\n",
       "      <td>192</td>\n",
       "      <td>6</td>\n",
       "      <td>162</td>\n",
       "    </tr>\n",
       "    <tr>\n",
       "      <th>16</th>\n",
       "      <td>1</td>\n",
       "      <td>1</td>\n",
       "      <td>125</td>\n",
       "      <td>493</td>\n",
       "      <td>1</td>\n",
       "      <td>399</td>\n",
       "    </tr>\n",
       "    <tr>\n",
       "      <th>17</th>\n",
       "      <td>1</td>\n",
       "      <td>1</td>\n",
       "      <td>126</td>\n",
       "      <td>536</td>\n",
       "      <td>4</td>\n",
       "      <td>450</td>\n",
       "    </tr>\n",
       "    <tr>\n",
       "      <th>18</th>\n",
       "      <td>1</td>\n",
       "      <td>1</td>\n",
       "      <td>127</td>\n",
       "      <td>1225</td>\n",
       "      <td>15</td>\n",
       "      <td>965</td>\n",
       "    </tr>\n",
       "    <tr>\n",
       "      <th>19</th>\n",
       "      <td>1</td>\n",
       "      <td>1</td>\n",
       "      <td>128</td>\n",
       "      <td>256</td>\n",
       "      <td>5</td>\n",
       "      <td>249</td>\n",
       "    </tr>\n",
       "  </tbody>\n",
       "</table>\n",
       "</div>"
      ],
      "text/plain": [
       "    ENTIDAD  MUN   LOC     POBTOT P_85YMAS   PDER_SS\n",
       "0         0    0     0  126014024  1039551  92582812\n",
       "1         0    0  9998     250354     2357    153663\n",
       "2         0    0  9999     147125     1588     90057\n",
       "3         1    0     0    1425607     8894   1161139\n",
       "4         1    0  9998       3697       32      2472\n",
       "5         1    0  9999       3021       11      1730\n",
       "6         1    1     0     948990     5777    774363\n",
       "7         1    1     1     863893     5346    707760\n",
       "8         1    1    94          5        *         *\n",
       "9         1    1    96         41        0        35\n",
       "10        1    1   102          8        *         *\n",
       "11        1    1   104          1        *         *\n",
       "12        1    1   106       1169        4       995\n",
       "13        1    1   112         41        0        10\n",
       "14        1    1   120       1054       12       905\n",
       "15        1    1   121        192        6       162\n",
       "16        1    1   125        493        1       399\n",
       "17        1    1   126        536        4       450\n",
       "18        1    1   127       1225       15       965\n",
       "19        1    1   128        256        5       249"
      ]
     },
     "execution_count": 25,
     "metadata": {},
     "output_type": "execute_result"
    }
   ],
   "source": [
    "subset.head(20)"
   ]
  },
  {
   "cell_type": "markdown",
   "id": "369fe380",
   "metadata": {},
   "source": [
    "<strong>Ajá!</strong> Tenemos \"*\", INEGI nos presenta \"*\" como \"Missings\", \"NA\" (Not Applicable) o NaN (Not a Number). Entonces debemos de usar hacer un [<i>Cast</i>](https://pythonexamples.org/python-type-casting/) es decir, cambiar el tipo de la variable a entero para poder generar estadísticos."
   ]
  },
  {
   "cell_type": "code",
   "execution_count": 50,
   "id": "6bf892c3",
   "metadata": {},
   "outputs": [
    {
     "name": "stderr",
     "output_type": "stream",
     "text": [
      "/var/folders/qq/17cwmxhd3jv_w07w8pf57y5r0000gn/T/ipykernel_6125/1763982347.py:3: SettingWithCopyWarning: \n",
      "A value is trying to be set on a copy of a slice from a DataFrame.\n",
      "Try using .loc[row_indexer,col_indexer] = value instead\n",
      "\n",
      "See the caveats in the documentation: https://pandas.pydata.org/pandas-docs/stable/user_guide/indexing.html#returning-a-view-versus-a-copy\n",
      "  subset.loc[:,'P_85YMAS']=pd.to_numeric(subset['P_85YMAS'],errors='coerce')\n",
      "/var/folders/qq/17cwmxhd3jv_w07w8pf57y5r0000gn/T/ipykernel_6125/1763982347.py:5: SettingWithCopyWarning: \n",
      "A value is trying to be set on a copy of a slice from a DataFrame.\n",
      "Try using .loc[row_indexer,col_indexer] = value instead\n",
      "\n",
      "See the caveats in the documentation: https://pandas.pydata.org/pandas-docs/stable/user_guide/indexing.html#returning-a-view-versus-a-copy\n",
      "  subset.loc[:,'PDER_SS']=pd.to_numeric(subset['PDER_SS'],errors='coerce')\n"
     ]
    }
   ],
   "source": [
    "# Podemos castear de varias formas, esta es una de ellas:\n",
    "# Escogemos todos los renglones y por eso los dos puntos \":\" y solo la columna que nos interesa \"P_85YMAS\"\n",
    "subset.loc[:,'P_85YMAS']=pd.to_numeric(subset['P_85YMAS'],errors='coerce')\n",
    "#REPETIMOS EL PROCESO CON PDER_SS\n",
    "subset.loc[:,'PDER_SS']=pd.to_numeric(subset['PDER_SS'],errors='coerce')"
   ]
  },
  {
   "cell_type": "markdown",
   "id": "2a4ca905",
   "metadata": {},
   "source": [
    "El código presenta warnings, estos pueden ignorarse o bien seguir la sugerencia del warning."
   ]
  },
  {
   "cell_type": "code",
   "execution_count": 51,
   "id": "18ae46f5",
   "metadata": {},
   "outputs": [
    {
     "data": {
      "text/html": [
       "<div>\n",
       "<style scoped>\n",
       "    .dataframe tbody tr th:only-of-type {\n",
       "        vertical-align: middle;\n",
       "    }\n",
       "\n",
       "    .dataframe tbody tr th {\n",
       "        vertical-align: top;\n",
       "    }\n",
       "\n",
       "    .dataframe thead th {\n",
       "        text-align: right;\n",
       "    }\n",
       "</style>\n",
       "<table border=\"1\" class=\"dataframe\">\n",
       "  <thead>\n",
       "    <tr style=\"text-align: right;\">\n",
       "      <th></th>\n",
       "      <th>ENTIDAD</th>\n",
       "      <th>MUN</th>\n",
       "      <th>LOC</th>\n",
       "      <th>POBTOT</th>\n",
       "      <th>P_85YMAS</th>\n",
       "      <th>PDER_SS</th>\n",
       "    </tr>\n",
       "  </thead>\n",
       "  <tbody>\n",
       "    <tr>\n",
       "      <th>0</th>\n",
       "      <td>0</td>\n",
       "      <td>0</td>\n",
       "      <td>0</td>\n",
       "      <td>126014024</td>\n",
       "      <td>1,039,551.00</td>\n",
       "      <td>92,582,812.00</td>\n",
       "    </tr>\n",
       "    <tr>\n",
       "      <th>1</th>\n",
       "      <td>0</td>\n",
       "      <td>0</td>\n",
       "      <td>9998</td>\n",
       "      <td>250354</td>\n",
       "      <td>2,357.00</td>\n",
       "      <td>153,663.00</td>\n",
       "    </tr>\n",
       "    <tr>\n",
       "      <th>2</th>\n",
       "      <td>0</td>\n",
       "      <td>0</td>\n",
       "      <td>9999</td>\n",
       "      <td>147125</td>\n",
       "      <td>1,588.00</td>\n",
       "      <td>90,057.00</td>\n",
       "    </tr>\n",
       "    <tr>\n",
       "      <th>3</th>\n",
       "      <td>1</td>\n",
       "      <td>0</td>\n",
       "      <td>0</td>\n",
       "      <td>1425607</td>\n",
       "      <td>8,894.00</td>\n",
       "      <td>1,161,139.00</td>\n",
       "    </tr>\n",
       "    <tr>\n",
       "      <th>4</th>\n",
       "      <td>1</td>\n",
       "      <td>0</td>\n",
       "      <td>9998</td>\n",
       "      <td>3697</td>\n",
       "      <td>32.00</td>\n",
       "      <td>2,472.00</td>\n",
       "    </tr>\n",
       "    <tr>\n",
       "      <th>5</th>\n",
       "      <td>1</td>\n",
       "      <td>0</td>\n",
       "      <td>9999</td>\n",
       "      <td>3021</td>\n",
       "      <td>11.00</td>\n",
       "      <td>1,730.00</td>\n",
       "    </tr>\n",
       "    <tr>\n",
       "      <th>6</th>\n",
       "      <td>1</td>\n",
       "      <td>1</td>\n",
       "      <td>0</td>\n",
       "      <td>948990</td>\n",
       "      <td>5,777.00</td>\n",
       "      <td>774,363.00</td>\n",
       "    </tr>\n",
       "    <tr>\n",
       "      <th>7</th>\n",
       "      <td>1</td>\n",
       "      <td>1</td>\n",
       "      <td>1</td>\n",
       "      <td>863893</td>\n",
       "      <td>5,346.00</td>\n",
       "      <td>707,760.00</td>\n",
       "    </tr>\n",
       "    <tr>\n",
       "      <th>8</th>\n",
       "      <td>1</td>\n",
       "      <td>1</td>\n",
       "      <td>94</td>\n",
       "      <td>5</td>\n",
       "      <td>NaN</td>\n",
       "      <td>NaN</td>\n",
       "    </tr>\n",
       "    <tr>\n",
       "      <th>9</th>\n",
       "      <td>1</td>\n",
       "      <td>1</td>\n",
       "      <td>96</td>\n",
       "      <td>41</td>\n",
       "      <td>0.00</td>\n",
       "      <td>35.00</td>\n",
       "    </tr>\n",
       "    <tr>\n",
       "      <th>10</th>\n",
       "      <td>1</td>\n",
       "      <td>1</td>\n",
       "      <td>102</td>\n",
       "      <td>8</td>\n",
       "      <td>NaN</td>\n",
       "      <td>NaN</td>\n",
       "    </tr>\n",
       "    <tr>\n",
       "      <th>11</th>\n",
       "      <td>1</td>\n",
       "      <td>1</td>\n",
       "      <td>104</td>\n",
       "      <td>1</td>\n",
       "      <td>NaN</td>\n",
       "      <td>NaN</td>\n",
       "    </tr>\n",
       "    <tr>\n",
       "      <th>12</th>\n",
       "      <td>1</td>\n",
       "      <td>1</td>\n",
       "      <td>106</td>\n",
       "      <td>1169</td>\n",
       "      <td>4.00</td>\n",
       "      <td>995.00</td>\n",
       "    </tr>\n",
       "    <tr>\n",
       "      <th>13</th>\n",
       "      <td>1</td>\n",
       "      <td>1</td>\n",
       "      <td>112</td>\n",
       "      <td>41</td>\n",
       "      <td>0.00</td>\n",
       "      <td>10.00</td>\n",
       "    </tr>\n",
       "    <tr>\n",
       "      <th>14</th>\n",
       "      <td>1</td>\n",
       "      <td>1</td>\n",
       "      <td>120</td>\n",
       "      <td>1054</td>\n",
       "      <td>12.00</td>\n",
       "      <td>905.00</td>\n",
       "    </tr>\n",
       "    <tr>\n",
       "      <th>15</th>\n",
       "      <td>1</td>\n",
       "      <td>1</td>\n",
       "      <td>121</td>\n",
       "      <td>192</td>\n",
       "      <td>6.00</td>\n",
       "      <td>162.00</td>\n",
       "    </tr>\n",
       "    <tr>\n",
       "      <th>16</th>\n",
       "      <td>1</td>\n",
       "      <td>1</td>\n",
       "      <td>125</td>\n",
       "      <td>493</td>\n",
       "      <td>1.00</td>\n",
       "      <td>399.00</td>\n",
       "    </tr>\n",
       "    <tr>\n",
       "      <th>17</th>\n",
       "      <td>1</td>\n",
       "      <td>1</td>\n",
       "      <td>126</td>\n",
       "      <td>536</td>\n",
       "      <td>4.00</td>\n",
       "      <td>450.00</td>\n",
       "    </tr>\n",
       "    <tr>\n",
       "      <th>18</th>\n",
       "      <td>1</td>\n",
       "      <td>1</td>\n",
       "      <td>127</td>\n",
       "      <td>1225</td>\n",
       "      <td>15.00</td>\n",
       "      <td>965.00</td>\n",
       "    </tr>\n",
       "    <tr>\n",
       "      <th>19</th>\n",
       "      <td>1</td>\n",
       "      <td>1</td>\n",
       "      <td>128</td>\n",
       "      <td>256</td>\n",
       "      <td>5.00</td>\n",
       "      <td>249.00</td>\n",
       "    </tr>\n",
       "  </tbody>\n",
       "</table>\n",
       "</div>"
      ],
      "text/plain": [
       "    ENTIDAD  MUN   LOC     POBTOT             P_85YMAS              PDER_SS\n",
       "0         0    0     0  126014024         1,039,551.00        92,582,812.00\n",
       "1         0    0  9998     250354             2,357.00           153,663.00\n",
       "2         0    0  9999     147125             1,588.00            90,057.00\n",
       "3         1    0     0    1425607             8,894.00         1,161,139.00\n",
       "4         1    0  9998       3697                32.00             2,472.00\n",
       "5         1    0  9999       3021                11.00             1,730.00\n",
       "6         1    1     0     948990             5,777.00           774,363.00\n",
       "7         1    1     1     863893             5,346.00           707,760.00\n",
       "8         1    1    94          5                  NaN                  NaN\n",
       "9         1    1    96         41                 0.00                35.00\n",
       "10        1    1   102          8                  NaN                  NaN\n",
       "11        1    1   104          1                  NaN                  NaN\n",
       "12        1    1   106       1169                 4.00               995.00\n",
       "13        1    1   112         41                 0.00                10.00\n",
       "14        1    1   120       1054                12.00               905.00\n",
       "15        1    1   121        192                 6.00               162.00\n",
       "16        1    1   125        493                 1.00               399.00\n",
       "17        1    1   126        536                 4.00               450.00\n",
       "18        1    1   127       1225                15.00               965.00\n",
       "19        1    1   128        256                 5.00               249.00"
      ]
     },
     "execution_count": 51,
     "metadata": {},
     "output_type": "execute_result"
    }
   ],
   "source": [
    "#Revisemos de nuevo\n",
    "subset.head(20)"
   ]
  },
  {
   "cell_type": "code",
   "execution_count": 36,
   "id": "b9967cd9",
   "metadata": {},
   "outputs": [
    {
     "data": {
      "text/html": [
       "<div>\n",
       "<style scoped>\n",
       "    .dataframe tbody tr th:only-of-type {\n",
       "        vertical-align: middle;\n",
       "    }\n",
       "\n",
       "    .dataframe tbody tr th {\n",
       "        vertical-align: top;\n",
       "    }\n",
       "\n",
       "    .dataframe thead th {\n",
       "        text-align: right;\n",
       "    }\n",
       "</style>\n",
       "<table border=\"1\" class=\"dataframe\">\n",
       "  <thead>\n",
       "    <tr style=\"text-align: right;\">\n",
       "      <th></th>\n",
       "      <th>ENTIDAD</th>\n",
       "      <th>MUN</th>\n",
       "      <th>LOC</th>\n",
       "      <th>POBTOT</th>\n",
       "      <th>P_85YMAS</th>\n",
       "      <th>PDER_SS</th>\n",
       "    </tr>\n",
       "  </thead>\n",
       "  <tbody>\n",
       "    <tr>\n",
       "      <th>count</th>\n",
       "      <td>195,662.00</td>\n",
       "      <td>195,662.00</td>\n",
       "      <td>195,662.00</td>\n",
       "      <td>195,662.00</td>\n",
       "      <td>113,499.00</td>\n",
       "      <td>113,499.00</td>\n",
       "    </tr>\n",
       "    <tr>\n",
       "      <th>mean</th>\n",
       "      <td>16.81</td>\n",
       "      <td>59.70</td>\n",
       "      <td>623.57</td>\n",
       "      <td>2,582.25</td>\n",
       "      <td>36.71</td>\n",
       "      <td>3,267.12</td>\n",
       "    </tr>\n",
       "    <tr>\n",
       "      <th>std</th>\n",
       "      <td>8.94</td>\n",
       "      <td>81.37</td>\n",
       "      <td>1,502.61</td>\n",
       "      <td>293,148.59</td>\n",
       "      <td>3,175.54</td>\n",
       "      <td>282,369.78</td>\n",
       "    </tr>\n",
       "    <tr>\n",
       "      <th>min</th>\n",
       "      <td>0.00</td>\n",
       "      <td>0.00</td>\n",
       "      <td>0.00</td>\n",
       "      <td>1.00</td>\n",
       "      <td>0.00</td>\n",
       "      <td>0.00</td>\n",
       "    </tr>\n",
       "    <tr>\n",
       "      <th>25%</th>\n",
       "      <td>8.00</td>\n",
       "      <td>12.00</td>\n",
       "      <td>45.00</td>\n",
       "      <td>4.00</td>\n",
       "      <td>0.00</td>\n",
       "      <td>19.00</td>\n",
       "    </tr>\n",
       "    <tr>\n",
       "      <th>50%</th>\n",
       "      <td>16.00</td>\n",
       "      <td>33.00</td>\n",
       "      <td>162.00</td>\n",
       "      <td>16.00</td>\n",
       "      <td>1.00</td>\n",
       "      <td>75.00</td>\n",
       "    </tr>\n",
       "    <tr>\n",
       "      <th>75%</th>\n",
       "      <td>25.00</td>\n",
       "      <td>73.00</td>\n",
       "      <td>531.00</td>\n",
       "      <td>147.00</td>\n",
       "      <td>4.00</td>\n",
       "      <td>277.00</td>\n",
       "    </tr>\n",
       "    <tr>\n",
       "      <th>max</th>\n",
       "      <td>32.00</td>\n",
       "      <td>570.00</td>\n",
       "      <td>9,999.00</td>\n",
       "      <td>126,014,024.00</td>\n",
       "      <td>1,039,551.00</td>\n",
       "      <td>92,582,812.00</td>\n",
       "    </tr>\n",
       "  </tbody>\n",
       "</table>\n",
       "</div>"
      ],
      "text/plain": [
       "                   ENTIDAD                  MUN                  LOC  \\\n",
       "count           195,662.00           195,662.00           195,662.00   \n",
       "mean                 16.81                59.70               623.57   \n",
       "std                   8.94                81.37             1,502.61   \n",
       "min                   0.00                 0.00                 0.00   \n",
       "25%                   8.00                12.00                45.00   \n",
       "50%                  16.00                33.00               162.00   \n",
       "75%                  25.00                73.00               531.00   \n",
       "max                  32.00               570.00             9,999.00   \n",
       "\n",
       "                    POBTOT             P_85YMAS              PDER_SS  \n",
       "count           195,662.00           113,499.00           113,499.00  \n",
       "mean              2,582.25                36.71             3,267.12  \n",
       "std             293,148.59             3,175.54           282,369.78  \n",
       "min                   1.00                 0.00                 0.00  \n",
       "25%                   4.00                 0.00                19.00  \n",
       "50%                  16.00                 1.00                75.00  \n",
       "75%                 147.00                 4.00               277.00  \n",
       "max         126,014,024.00         1,039,551.00        92,582,812.00  "
      ]
     },
     "execution_count": 36,
     "metadata": {},
     "output_type": "execute_result"
    }
   ],
   "source": [
    "#Investigue qué hace el siguiente comando\n",
    "pd.set_option('display.float_format', '{:20,.2f}'.format)\n",
    "#Veámos los descriptivos\n",
    "subset.describe()"
   ]
  },
  {
   "cell_type": "markdown",
   "id": "22fe84a6",
   "metadata": {},
   "source": [
    "## <font color=\"red\"> Ojo!</font>\n",
    "\n",
    "Observen la información, ¿qué hay de extraño?\n",
    "Sí! los máximos, la población total tiene un máximo de 126 millones (la población de México como país) esto significa que están los totales de los estados, municipios y país (también el código en cero en los mínimos). Hay que eliminarlos y esto se puede hacer encontrando los valores de cero en las columnas ENTIDAD, MUN y LOC. Para ello usaremos operadores lógicos, si no están familiarizados con ellos, pueden revisarlos [aquí](https://www.freecodecamp.org/espanol/news/operadores-basicos-en-python-con-ejemplos/), además de las tablas de verdad que se pueden revisar [aquí](https://lamaquinaoraculo.com/matematicas/tablas-verdad-proposicional/)."
   ]
  },
  {
   "cell_type": "code",
   "execution_count": 52,
   "id": "88ef66c7",
   "metadata": {},
   "outputs": [
    {
     "name": "stdout",
     "output_type": "stream",
     "text": [
      "(195662, 6)\n"
     ]
    }
   ],
   "source": [
    "#veámos cuantos hay\n",
    "print(subset.shape)\n",
    "\n",
    "subset=subset.loc[np.array(subset[\"ENTIDAD\"]!=0)&np.array(subset[\"MUN\"]!=0)&np.array(subset[\"LOC\"]!=0)]"
   ]
  },
  {
   "cell_type": "code",
   "execution_count": 53,
   "id": "6459795f",
   "metadata": {},
   "outputs": [
    {
     "name": "stdout",
     "output_type": "stream",
     "text": [
      "(193094, 6)\n"
     ]
    }
   ],
   "source": [
    "#veámos cuantos se eliminaron\n",
    "print(subset.shape)"
   ]
  },
  {
   "cell_type": "code",
   "execution_count": 54,
   "id": "0825462a",
   "metadata": {},
   "outputs": [
    {
     "data": {
      "text/html": [
       "<div>\n",
       "<style scoped>\n",
       "    .dataframe tbody tr th:only-of-type {\n",
       "        vertical-align: middle;\n",
       "    }\n",
       "\n",
       "    .dataframe tbody tr th {\n",
       "        vertical-align: top;\n",
       "    }\n",
       "\n",
       "    .dataframe thead th {\n",
       "        text-align: right;\n",
       "    }\n",
       "</style>\n",
       "<table border=\"1\" class=\"dataframe\">\n",
       "  <thead>\n",
       "    <tr style=\"text-align: right;\">\n",
       "      <th></th>\n",
       "      <th>ENTIDAD</th>\n",
       "      <th>MUN</th>\n",
       "      <th>LOC</th>\n",
       "      <th>POBTOT</th>\n",
       "      <th>P_85YMAS</th>\n",
       "      <th>PDER_SS</th>\n",
       "    </tr>\n",
       "  </thead>\n",
       "  <tbody>\n",
       "    <tr>\n",
       "      <th>7</th>\n",
       "      <td>1</td>\n",
       "      <td>1</td>\n",
       "      <td>1</td>\n",
       "      <td>863893</td>\n",
       "      <td>5,346.00</td>\n",
       "      <td>707,760.00</td>\n",
       "    </tr>\n",
       "    <tr>\n",
       "      <th>8</th>\n",
       "      <td>1</td>\n",
       "      <td>1</td>\n",
       "      <td>94</td>\n",
       "      <td>5</td>\n",
       "      <td>NaN</td>\n",
       "      <td>NaN</td>\n",
       "    </tr>\n",
       "    <tr>\n",
       "      <th>9</th>\n",
       "      <td>1</td>\n",
       "      <td>1</td>\n",
       "      <td>96</td>\n",
       "      <td>41</td>\n",
       "      <td>0.00</td>\n",
       "      <td>35.00</td>\n",
       "    </tr>\n",
       "    <tr>\n",
       "      <th>10</th>\n",
       "      <td>1</td>\n",
       "      <td>1</td>\n",
       "      <td>102</td>\n",
       "      <td>8</td>\n",
       "      <td>NaN</td>\n",
       "      <td>NaN</td>\n",
       "    </tr>\n",
       "    <tr>\n",
       "      <th>11</th>\n",
       "      <td>1</td>\n",
       "      <td>1</td>\n",
       "      <td>104</td>\n",
       "      <td>1</td>\n",
       "      <td>NaN</td>\n",
       "      <td>NaN</td>\n",
       "    </tr>\n",
       "  </tbody>\n",
       "</table>\n",
       "</div>"
      ],
      "text/plain": [
       "    ENTIDAD  MUN  LOC  POBTOT             P_85YMAS              PDER_SS\n",
       "7         1    1    1  863893             5,346.00           707,760.00\n",
       "8         1    1   94       5                  NaN                  NaN\n",
       "9         1    1   96      41                 0.00                35.00\n",
       "10        1    1  102       8                  NaN                  NaN\n",
       "11        1    1  104       1                  NaN                  NaN"
      ]
     },
     "execution_count": 54,
     "metadata": {},
     "output_type": "execute_result"
    }
   ],
   "source": [
    "subset.head()"
   ]
  },
  {
   "cell_type": "markdown",
   "id": "271c88f2",
   "metadata": {},
   "source": [
    "Hay muchas localidades con NaN, hay distintas opciones para manejar estos datos, por esta ocasión los vamos a eliminar.\n"
   ]
  },
  {
   "cell_type": "code",
   "execution_count": 55,
   "id": "97763dd1",
   "metadata": {},
   "outputs": [
    {
     "name": "stdout",
     "output_type": "stream",
     "text": [
      "(193094, 6)\n",
      "(110931, 6)\n"
     ]
    }
   ],
   "source": [
    "print(subset.shape)\n",
    "subset.dropna(inplace=True)\n",
    "print(subset.shape)"
   ]
  },
  {
   "cell_type": "code",
   "execution_count": 57,
   "id": "6cb2d123",
   "metadata": {},
   "outputs": [
    {
     "data": {
      "text/html": [
       "<div>\n",
       "<style scoped>\n",
       "    .dataframe tbody tr th:only-of-type {\n",
       "        vertical-align: middle;\n",
       "    }\n",
       "\n",
       "    .dataframe tbody tr th {\n",
       "        vertical-align: top;\n",
       "    }\n",
       "\n",
       "    .dataframe thead th {\n",
       "        text-align: right;\n",
       "    }\n",
       "</style>\n",
       "<table border=\"1\" class=\"dataframe\">\n",
       "  <thead>\n",
       "    <tr style=\"text-align: right;\">\n",
       "      <th></th>\n",
       "      <th>ENTIDAD</th>\n",
       "      <th>MUN</th>\n",
       "      <th>LOC</th>\n",
       "      <th>POBTOT</th>\n",
       "      <th>P_85YMAS</th>\n",
       "      <th>PDER_SS</th>\n",
       "    </tr>\n",
       "  </thead>\n",
       "  <tbody>\n",
       "    <tr>\n",
       "      <th>count</th>\n",
       "      <td>110,931.00</td>\n",
       "      <td>110,931.00</td>\n",
       "      <td>110,931.00</td>\n",
       "      <td>110,931.00</td>\n",
       "      <td>110,931.00</td>\n",
       "      <td>110,931.00</td>\n",
       "    </tr>\n",
       "    <tr>\n",
       "      <th>mean</th>\n",
       "      <td>17.19</td>\n",
       "      <td>67.41</td>\n",
       "      <td>500.33</td>\n",
       "      <td>1,135.71</td>\n",
       "      <td>9.37</td>\n",
       "      <td>834.56</td>\n",
       "    </tr>\n",
       "    <tr>\n",
       "      <th>std</th>\n",
       "      <td>8.33</td>\n",
       "      <td>88.90</td>\n",
       "      <td>1,601.77</td>\n",
       "      <td>20,536.34</td>\n",
       "      <td>166.66</td>\n",
       "      <td>15,241.46</td>\n",
       "    </tr>\n",
       "    <tr>\n",
       "      <th>min</th>\n",
       "      <td>1.00</td>\n",
       "      <td>1.00</td>\n",
       "      <td>1.00</td>\n",
       "      <td>1.00</td>\n",
       "      <td>0.00</td>\n",
       "      <td>0.00</td>\n",
       "    </tr>\n",
       "    <tr>\n",
       "      <th>25%</th>\n",
       "      <td>11.00</td>\n",
       "      <td>15.00</td>\n",
       "      <td>26.00</td>\n",
       "      <td>27.00</td>\n",
       "      <td>0.00</td>\n",
       "      <td>18.00</td>\n",
       "    </tr>\n",
       "    <tr>\n",
       "      <th>50%</th>\n",
       "      <td>16.00</td>\n",
       "      <td>38.00</td>\n",
       "      <td>85.00</td>\n",
       "      <td>98.00</td>\n",
       "      <td>1.00</td>\n",
       "      <td>71.00</td>\n",
       "    </tr>\n",
       "    <tr>\n",
       "      <th>75%</th>\n",
       "      <td>24.00</td>\n",
       "      <td>83.00</td>\n",
       "      <td>269.00</td>\n",
       "      <td>336.00</td>\n",
       "      <td>4.00</td>\n",
       "      <td>252.00</td>\n",
       "    </tr>\n",
       "    <tr>\n",
       "      <th>max</th>\n",
       "      <td>32.00</td>\n",
       "      <td>570.00</td>\n",
       "      <td>9,999.00</td>\n",
       "      <td>1,835,486.00</td>\n",
       "      <td>17,011.00</td>\n",
       "      <td>1,339,811.00</td>\n",
       "    </tr>\n",
       "  </tbody>\n",
       "</table>\n",
       "</div>"
      ],
      "text/plain": [
       "                   ENTIDAD                  MUN                  LOC  \\\n",
       "count           110,931.00           110,931.00           110,931.00   \n",
       "mean                 17.19                67.41               500.33   \n",
       "std                   8.33                88.90             1,601.77   \n",
       "min                   1.00                 1.00                 1.00   \n",
       "25%                  11.00                15.00                26.00   \n",
       "50%                  16.00                38.00                85.00   \n",
       "75%                  24.00                83.00               269.00   \n",
       "max                  32.00               570.00             9,999.00   \n",
       "\n",
       "                    POBTOT             P_85YMAS              PDER_SS  \n",
       "count           110,931.00           110,931.00           110,931.00  \n",
       "mean              1,135.71                 9.37               834.56  \n",
       "std              20,536.34               166.66            15,241.46  \n",
       "min                   1.00                 0.00                 0.00  \n",
       "25%                  27.00                 0.00                18.00  \n",
       "50%                  98.00                 1.00                71.00  \n",
       "75%                 336.00                 4.00               252.00  \n",
       "max           1,835,486.00            17,011.00         1,339,811.00  "
      ]
     },
     "execution_count": 57,
     "metadata": {},
     "output_type": "execute_result"
    }
   ],
   "source": [
    "subset.describe()"
   ]
  },
  {
   "cell_type": "markdown",
   "id": "bdb18f57",
   "metadata": {},
   "source": [
    "# Gráficos Exploratorios\n",
    "\n",
    "Las librerías más útiles para los gráficos son [matplotlib](https://matplotlib.org/) y [seaborn](https://seaborn.pydata.org/). Primero, la distribución de las poblaciones."
   ]
  },
  {
   "cell_type": "code",
   "execution_count": 60,
   "id": "0105bde3",
   "metadata": {},
   "outputs": [
    {
     "data": {
      "image/png": "[encoded data removed]",
      "text/plain": [
       "<Figure size 432x288 with 1 Axes>"
      ]
     },
     "metadata": {
      "needs_background": "light"
     },
     "output_type": "display_data"
    }
   ],
   "source": [
    "import matplotlib.pyplot as plt\n",
    "\n",
    "plt.scatter(x=subset[\"P_85YMAS\"],y=subset['PDER_SS'])\n",
    "plt.show()"
   ]
  },
  {
   "cell_type": "markdown",
   "id": "bad932b4",
   "metadata": {},
   "source": [
    "Varias cosas sobre esta gráfica:\n",
    "    <ol>\n",
    "        <li>La gráfica por sí sola, no nos dice nada. ¿Por qué?, porque no tenemos nombres en los ejes ni conocemos las unidades.</li>\n",
    "        <li>Sin importar pareciera que hay una relación positiva, es decir, entre más +85 hay, más afiliados a algún sistema de salud hay, pero ¿este es el indicador que en verdad buscamos?</li>\n",
    "    </ol>\n",
    "    \n",
    "No! Lo que debería ser es en realidad la proporción de personas mayore y la proporción de personas afiliadas."
   ]
  },
  {
   "cell_type": "code",
   "execution_count": 61,
   "id": "d8c330b3",
   "metadata": {},
   "outputs": [],
   "source": [
    "subset['pct_85']=subset[\"P_85YMAS\"]/subset[\"POBTOT\"]\n",
    "subset['pct_ss']=subset[\"PDER_SS\"]/subset[\"POBTOT\"]"
   ]
  },
  {
   "cell_type": "code",
   "execution_count": 62,
   "id": "ac80fc74",
   "metadata": {},
   "outputs": [
    {
     "data": {
      "text/html": [
       "<div>\n",
       "<style scoped>\n",
       "    .dataframe tbody tr th:only-of-type {\n",
       "        vertical-align: middle;\n",
       "    }\n",
       "\n",
       "    .dataframe tbody tr th {\n",
       "        vertical-align: top;\n",
       "    }\n",
       "\n",
       "    .dataframe thead th {\n",
       "        text-align: right;\n",
       "    }\n",
       "</style>\n",
       "<table border=\"1\" class=\"dataframe\">\n",
       "  <thead>\n",
       "    <tr style=\"text-align: right;\">\n",
       "      <th></th>\n",
       "      <th>ENTIDAD</th>\n",
       "      <th>MUN</th>\n",
       "      <th>LOC</th>\n",
       "      <th>POBTOT</th>\n",
       "      <th>P_85YMAS</th>\n",
       "      <th>PDER_SS</th>\n",
       "      <th>pct_85</th>\n",
       "      <th>pct_ss</th>\n",
       "    </tr>\n",
       "  </thead>\n",
       "  <tbody>\n",
       "    <tr>\n",
       "      <th>7</th>\n",
       "      <td>1</td>\n",
       "      <td>1</td>\n",
       "      <td>1</td>\n",
       "      <td>863893</td>\n",
       "      <td>5,346.00</td>\n",
       "      <td>707,760.00</td>\n",
       "      <td>0.01</td>\n",
       "      <td>0.82</td>\n",
       "    </tr>\n",
       "    <tr>\n",
       "      <th>9</th>\n",
       "      <td>1</td>\n",
       "      <td>1</td>\n",
       "      <td>96</td>\n",
       "      <td>41</td>\n",
       "      <td>0.00</td>\n",
       "      <td>35.00</td>\n",
       "      <td>0.00</td>\n",
       "      <td>0.85</td>\n",
       "    </tr>\n",
       "    <tr>\n",
       "      <th>12</th>\n",
       "      <td>1</td>\n",
       "      <td>1</td>\n",
       "      <td>106</td>\n",
       "      <td>1169</td>\n",
       "      <td>4.00</td>\n",
       "      <td>995.00</td>\n",
       "      <td>0.00</td>\n",
       "      <td>0.85</td>\n",
       "    </tr>\n",
       "  </tbody>\n",
       "</table>\n",
       "</div>"
      ],
      "text/plain": [
       "    ENTIDAD  MUN  LOC  POBTOT             P_85YMAS              PDER_SS  \\\n",
       "7         1    1    1  863893             5,346.00           707,760.00   \n",
       "9         1    1   96      41                 0.00                35.00   \n",
       "12        1    1  106    1169                 4.00               995.00   \n",
       "\n",
       "                 pct_85               pct_ss  \n",
       "7                  0.01                 0.82  \n",
       "9                  0.00                 0.85  \n",
       "12                 0.00                 0.85  "
      ]
     },
     "execution_count": 62,
     "metadata": {},
     "output_type": "execute_result"
    }
   ],
   "source": [
    "subset.head(3)"
   ]
  },
  {
   "cell_type": "code",
   "execution_count": 63,
   "id": "c7e45308",
   "metadata": {},
   "outputs": [
    {
     "data": {
      "image/png": "[encoded data removed]",
      "text/plain": [
       "<Figure size 432x288 with 1 Axes>"
      ]
     },
     "metadata": {
      "needs_background": "light"
     },
     "output_type": "display_data"
    }
   ],
   "source": [
    "plt.scatter(x=subset[\"pct_85\"],y=subset['pct_ss'])\n",
    "plt.title(\"Relación entre porcentaje de personas mayores de 85 y afiliados a algún seguro\")\n",
    "plt.ylabel(\"Proporción con seguro\")\n",
    "plt.xlabel(\"Proporción 85+\")\n",
    "plt.show()"
   ]
  },
  {
   "cell_type": "code",
   "execution_count": 77,
   "id": "18ce0f7b",
   "metadata": {},
   "outputs": [
    {
     "name": "stderr",
     "output_type": "stream",
     "text": [
      "/var/folders/qq/17cwmxhd3jv_w07w8pf57y5r0000gn/T/ipykernel_6125/3424367046.py:6: UserWarning: FixedFormatter should only be used together with FixedLocator\n",
      "  plt.gca().set_yticklabels(['{:,.0f}'.format(x) for x in current_values])\n"
     ]
    },
    {
     "data": {
      "image/png": "[encoded data removed]",
      "text/plain": [
       "<Figure size 432x288 with 1 Axes>"
      ]
     },
     "metadata": {
      "needs_background": "light"
     },
     "output_type": "display_data"
    }
   ],
   "source": [
    "# Veámos una tercer dimensión con el tamaño\n",
    "\n",
    "\n",
    "plt.scatter(x=subset[\"pct_85\"],y=subset['POBTOT'],alpha=0.5)\n",
    "current_values = plt.gca().get_yticks()\n",
    "plt.gca().set_yticklabels(['{:,.0f}'.format(x) for x in current_values])\n",
    "plt.title(\"Relación entre porcentaje de personas mayores de 85 y el tamaño de la localidad\\n\")\n",
    "plt.ylabel(\"Población total\")\n",
    "plt.xlabel(\"Proporción 85+\")\n",
    "plt.show()"
   ]
  },
  {
   "cell_type": "code",
   "execution_count": 78,
   "id": "b640bac4",
   "metadata": {},
   "outputs": [
    {
     "name": "stderr",
     "output_type": "stream",
     "text": [
      "/var/folders/qq/17cwmxhd3jv_w07w8pf57y5r0000gn/T/ipykernel_6125/3921360056.py:6: UserWarning: FixedFormatter should only be used together with FixedLocator\n",
      "  plt.gca().set_yticklabels(['{:,.0f}'.format(x) for x in current_values])\n"
     ]
    },
    {
     "data": {
      "image/png": "[encoded data removed]",
      "text/plain": [
       "<Figure size 432x288 with 1 Axes>"
      ]
     },
     "metadata": {
      "needs_background": "light"
     },
     "output_type": "display_data"
    }
   ],
   "source": [
    "# Veámos una tercer dimensión con el tamaño\n",
    "\n",
    "\n",
    "plt.scatter(x=subset[\"pct_ss\"],y=subset['POBTOT'],alpha=0.5)\n",
    "current_values = plt.gca().get_yticks()\n",
    "plt.gca().set_yticklabels(['{:,.0f}'.format(x) for x in current_values])\n",
    "plt.title(\"Relación entre porcentaje de con seguro y el tamaño de la localidad\\n\")\n",
    "plt.ylabel(\"Población total\")\n",
    "plt.xlabel(\"Proporción con seguro médico\")\n",
    "plt.show()"
   ]
  },
  {
   "cell_type": "markdown",
   "id": "52be11b7",
   "metadata": {},
   "source": [
    "# Veámos un boxplot para detectar Outliers"
   ]
  },
  {
   "cell_type": "code",
   "execution_count": 84,
   "id": "7149d349",
   "metadata": {},
   "outputs": [
    {
     "data": {
      "image/png": "[encoded data removed]",
      "text/plain": [
       "<Figure size 432x288 with 1 Axes>"
      ]
     },
     "metadata": {
      "needs_background": "light"
     },
     "output_type": "display_data"
    }
   ],
   "source": [
    "plt.boxplot(subset[\"POBTOT\"])\n",
    "plt.show()"
   ]
  },
  {
   "cell_type": "markdown",
   "id": "6ea703f9",
   "metadata": {},
   "source": [
    "Hasta ahora, las gráficas no han sido de mucha utilidad por lo que nos quedaremos solo con los estadísticos."
   ]
  },
  {
   "cell_type": "code",
   "execution_count": 85,
   "id": "d4be047a",
   "metadata": {},
   "outputs": [
    {
     "data": {
      "text/html": [
       "<div>\n",
       "<style scoped>\n",
       "    .dataframe tbody tr th:only-of-type {\n",
       "        vertical-align: middle;\n",
       "    }\n",
       "\n",
       "    .dataframe tbody tr th {\n",
       "        vertical-align: top;\n",
       "    }\n",
       "\n",
       "    .dataframe thead th {\n",
       "        text-align: right;\n",
       "    }\n",
       "</style>\n",
       "<table border=\"1\" class=\"dataframe\">\n",
       "  <thead>\n",
       "    <tr style=\"text-align: right;\">\n",
       "      <th></th>\n",
       "      <th>POBTOT</th>\n",
       "    </tr>\n",
       "  </thead>\n",
       "  <tbody>\n",
       "    <tr>\n",
       "      <th>count</th>\n",
       "      <td>110,931.00</td>\n",
       "    </tr>\n",
       "    <tr>\n",
       "      <th>mean</th>\n",
       "      <td>1,135.71</td>\n",
       "    </tr>\n",
       "    <tr>\n",
       "      <th>std</th>\n",
       "      <td>20,536.34</td>\n",
       "    </tr>\n",
       "    <tr>\n",
       "      <th>min</th>\n",
       "      <td>1.00</td>\n",
       "    </tr>\n",
       "    <tr>\n",
       "      <th>25%</th>\n",
       "      <td>27.00</td>\n",
       "    </tr>\n",
       "    <tr>\n",
       "      <th>50%</th>\n",
       "      <td>98.00</td>\n",
       "    </tr>\n",
       "    <tr>\n",
       "      <th>75%</th>\n",
       "      <td>336.00</td>\n",
       "    </tr>\n",
       "    <tr>\n",
       "      <th>max</th>\n",
       "      <td>1,835,486.00</td>\n",
       "    </tr>\n",
       "  </tbody>\n",
       "</table>\n",
       "</div>"
      ],
      "text/plain": [
       "                    POBTOT\n",
       "count           110,931.00\n",
       "mean              1,135.71\n",
       "std              20,536.34\n",
       "min                   1.00\n",
       "25%                  27.00\n",
       "50%                  98.00\n",
       "75%                 336.00\n",
       "max           1,835,486.00"
      ]
     },
     "execution_count": 85,
     "metadata": {},
     "output_type": "execute_result"
    }
   ],
   "source": [
    "subset[[\"POBTOT\"]].describe()"
   ]
  },
  {
   "cell_type": "markdown",
   "id": "b6d4b087",
   "metadata": {},
   "source": [
    "Existe mucha disparidad en el tamaño de las localidades, la mayoría de ellas son pequeñas, pero existe una cantidad considerable que no permite tener visualizaciones apropiadas tal y como lo indica la desviación estándar."
   ]
  },
  {
   "cell_type": "markdown",
   "id": "30cdcc5b",
   "metadata": {},
   "source": [
    "# Grafiquemos el 75% de los datos"
   ]
  },
  {
   "cell_type": "code",
   "execution_count": 90,
   "id": "96f955f9",
   "metadata": {},
   "outputs": [
    {
     "data": {
      "text/plain": [
       "<seaborn.axisgrid.FacetGrid at 0x3b4d9e460>"
      ]
     },
     "execution_count": 90,
     "metadata": {},
     "output_type": "execute_result"
    },
    {
     "data": {
      "image/png": "[encoded data removed]",
      "text/plain": [
       "<Figure size 360x360 with 1 Axes>"
      ]
     },
     "metadata": {
      "needs_background": "light"
     },
     "output_type": "display_data"
    }
   ],
   "source": [
    "sns.displot(subset.loc[subset[\"POBTOT\"]<=336], x=\"POBTOT\", kind=\"kde\")"
   ]
  },
  {
   "cell_type": "code",
   "execution_count": 108,
   "id": "7c503a76",
   "metadata": {},
   "outputs": [
    {
     "name": "stdout",
     "output_type": "stream",
     "text": [
      "\n",
      "El porcentaje de localidades que están por encima de 3std es 0.18%\n"
     ]
    },
    {
     "data": {
      "text/html": [
       "<div>\n",
       "<style scoped>\n",
       "    .dataframe tbody tr th:only-of-type {\n",
       "        vertical-align: middle;\n",
       "    }\n",
       "\n",
       "    .dataframe tbody tr th {\n",
       "        vertical-align: top;\n",
       "    }\n",
       "\n",
       "    .dataframe thead th {\n",
       "        text-align: right;\n",
       "    }\n",
       "</style>\n",
       "<table border=\"1\" class=\"dataframe\">\n",
       "  <thead>\n",
       "    <tr style=\"text-align: right;\">\n",
       "      <th></th>\n",
       "      <th>ENTIDAD</th>\n",
       "      <th>MUN</th>\n",
       "      <th>LOC</th>\n",
       "      <th>POBTOT</th>\n",
       "      <th>P_85YMAS</th>\n",
       "      <th>PDER_SS</th>\n",
       "      <th>pct_85</th>\n",
       "      <th>pct_ss</th>\n",
       "    </tr>\n",
       "  </thead>\n",
       "  <tbody>\n",
       "    <tr>\n",
       "      <th>count</th>\n",
       "      <td>200.00</td>\n",
       "      <td>200.00</td>\n",
       "      <td>200.00</td>\n",
       "      <td>200.00</td>\n",
       "      <td>200.00</td>\n",
       "      <td>200.00</td>\n",
       "      <td>200.00</td>\n",
       "      <td>200.00</td>\n",
       "    </tr>\n",
       "    <tr>\n",
       "      <th>mean</th>\n",
       "      <td>16.45</td>\n",
       "      <td>43.54</td>\n",
       "      <td>8.90</td>\n",
       "      <td>326,589.36</td>\n",
       "      <td>2,450.70</td>\n",
       "      <td>242,937.76</td>\n",
       "      <td>0.01</td>\n",
       "      <td>0.74</td>\n",
       "    </tr>\n",
       "    <tr>\n",
       "      <th>std</th>\n",
       "      <td>8.05</td>\n",
       "      <td>49.11</td>\n",
       "      <td>61.32</td>\n",
       "      <td>354,114.66</td>\n",
       "      <td>3,044.29</td>\n",
       "      <td>262,506.61</td>\n",
       "      <td>0.00</td>\n",
       "      <td>0.08</td>\n",
       "    </tr>\n",
       "    <tr>\n",
       "      <th>min</th>\n",
       "      <td>1.00</td>\n",
       "      <td>1.00</td>\n",
       "      <td>1.00</td>\n",
       "      <td>62,038.00</td>\n",
       "      <td>111.00</td>\n",
       "      <td>33,959.00</td>\n",
       "      <td>0.00</td>\n",
       "      <td>0.48</td>\n",
       "    </tr>\n",
       "    <tr>\n",
       "      <th>25%</th>\n",
       "      <td>10.00</td>\n",
       "      <td>10.00</td>\n",
       "      <td>1.00</td>\n",
       "      <td>94,141.25</td>\n",
       "      <td>620.25</td>\n",
       "      <td>67,406.50</td>\n",
       "      <td>0.00</td>\n",
       "      <td>0.69</td>\n",
       "    </tr>\n",
       "    <tr>\n",
       "      <th>50%</th>\n",
       "      <td>15.00</td>\n",
       "      <td>27.00</td>\n",
       "      <td>1.00</td>\n",
       "      <td>174,666.50</td>\n",
       "      <td>1,133.50</td>\n",
       "      <td>130,259.00</td>\n",
       "      <td>0.01</td>\n",
       "      <td>0.74</td>\n",
       "    </tr>\n",
       "    <tr>\n",
       "      <th>75%</th>\n",
       "      <td>23.00</td>\n",
       "      <td>57.25</td>\n",
       "      <td>1.00</td>\n",
       "      <td>414,866.25</td>\n",
       "      <td>3,009.00</td>\n",
       "      <td>299,030.25</td>\n",
       "      <td>0.01</td>\n",
       "      <td>0.81</td>\n",
       "    </tr>\n",
       "    <tr>\n",
       "      <th>max</th>\n",
       "      <td>32.00</td>\n",
       "      <td>385.00</td>\n",
       "      <td>822.00</td>\n",
       "      <td>1,835,486.00</td>\n",
       "      <td>17,011.00</td>\n",
       "      <td>1,339,811.00</td>\n",
       "      <td>0.02</td>\n",
       "      <td>0.91</td>\n",
       "    </tr>\n",
       "  </tbody>\n",
       "</table>\n",
       "</div>"
      ],
      "text/plain": [
       "                   ENTIDAD                  MUN                  LOC  \\\n",
       "count               200.00               200.00               200.00   \n",
       "mean                 16.45                43.54                 8.90   \n",
       "std                   8.05                49.11                61.32   \n",
       "min                   1.00                 1.00                 1.00   \n",
       "25%                  10.00                10.00                 1.00   \n",
       "50%                  15.00                27.00                 1.00   \n",
       "75%                  23.00                57.25                 1.00   \n",
       "max                  32.00               385.00               822.00   \n",
       "\n",
       "                    POBTOT             P_85YMAS              PDER_SS  \\\n",
       "count               200.00               200.00               200.00   \n",
       "mean            326,589.36             2,450.70           242,937.76   \n",
       "std             354,114.66             3,044.29           262,506.61   \n",
       "min              62,038.00               111.00            33,959.00   \n",
       "25%              94,141.25               620.25            67,406.50   \n",
       "50%             174,666.50             1,133.50           130,259.00   \n",
       "75%             414,866.25             3,009.00           299,030.25   \n",
       "max           1,835,486.00            17,011.00         1,339,811.00   \n",
       "\n",
       "                    pct_85               pct_ss  \n",
       "count               200.00               200.00  \n",
       "mean                  0.01                 0.74  \n",
       "std                   0.00                 0.08  \n",
       "min                   0.00                 0.48  \n",
       "25%                   0.00                 0.69  \n",
       "50%                   0.01                 0.74  \n",
       "75%                   0.01                 0.81  \n",
       "max                   0.02                 0.91  "
      ]
     },
     "execution_count": 108,
     "metadata": {},
     "output_type": "execute_result"
    }
   ],
   "source": [
    "# Veámos la info de las localidades mayores a 3std\n",
    "pct=subset.loc[subset[\"POBTOT\"]>3*20536.34].shape[0]*100/subset.shape[0]\n",
    "\n",
    "print(f\"\\nEl porcentaje de localidades que están por encima de 3std es {round(pct,2)}%\")\n",
    "subset.loc[subset[\"POBTOT\"]>3*20536.34].describe()"
   ]
  },
  {
   "cell_type": "markdown",
   "id": "fa5bd07f",
   "metadata": {},
   "source": [
    "¿Dónde están esas localidades?"
   ]
  },
  {
   "cell_type": "code",
   "execution_count": 104,
   "id": "4ef51485",
   "metadata": {
    "scrolled": true
   },
   "outputs": [
    {
     "data": {
      "text/html": [
       "<div>\n",
       "<style scoped>\n",
       "    .dataframe tbody tr th:only-of-type {\n",
       "        vertical-align: middle;\n",
       "    }\n",
       "\n",
       "    .dataframe tbody tr th {\n",
       "        vertical-align: top;\n",
       "    }\n",
       "\n",
       "    .dataframe thead th {\n",
       "        text-align: right;\n",
       "    }\n",
       "</style>\n",
       "<table border=\"1\" class=\"dataframe\">\n",
       "  <thead>\n",
       "    <tr style=\"text-align: right;\">\n",
       "      <th></th>\n",
       "      <th>ENTIDAD</th>\n",
       "      <th>LOC</th>\n",
       "    </tr>\n",
       "  </thead>\n",
       "  <tbody>\n",
       "    <tr>\n",
       "      <th>0</th>\n",
       "      <td>1</td>\n",
       "      <td>2</td>\n",
       "    </tr>\n",
       "    <tr>\n",
       "      <th>1</th>\n",
       "      <td>2</td>\n",
       "      <td>5</td>\n",
       "    </tr>\n",
       "    <tr>\n",
       "      <th>2</th>\n",
       "      <td>3</td>\n",
       "      <td>3</td>\n",
       "    </tr>\n",
       "    <tr>\n",
       "      <th>3</th>\n",
       "      <td>4</td>\n",
       "      <td>2</td>\n",
       "    </tr>\n",
       "    <tr>\n",
       "      <th>4</th>\n",
       "      <td>5</td>\n",
       "      <td>7</td>\n",
       "    </tr>\n",
       "    <tr>\n",
       "      <th>5</th>\n",
       "      <td>6</td>\n",
       "      <td>4</td>\n",
       "    </tr>\n",
       "    <tr>\n",
       "      <th>6</th>\n",
       "      <td>7</td>\n",
       "      <td>4</td>\n",
       "    </tr>\n",
       "    <tr>\n",
       "      <th>7</th>\n",
       "      <td>8</td>\n",
       "      <td>6</td>\n",
       "    </tr>\n",
       "    <tr>\n",
       "      <th>8</th>\n",
       "      <td>9</td>\n",
       "      <td>15</td>\n",
       "    </tr>\n",
       "    <tr>\n",
       "      <th>9</th>\n",
       "      <td>10</td>\n",
       "      <td>3</td>\n",
       "    </tr>\n",
       "    <tr>\n",
       "      <th>10</th>\n",
       "      <td>11</td>\n",
       "      <td>11</td>\n",
       "    </tr>\n",
       "    <tr>\n",
       "      <th>11</th>\n",
       "      <td>12</td>\n",
       "      <td>4</td>\n",
       "    </tr>\n",
       "    <tr>\n",
       "      <th>12</th>\n",
       "      <td>13</td>\n",
       "      <td>2</td>\n",
       "    </tr>\n",
       "    <tr>\n",
       "      <th>13</th>\n",
       "      <td>14</td>\n",
       "      <td>12</td>\n",
       "    </tr>\n",
       "    <tr>\n",
       "      <th>14</th>\n",
       "      <td>15</td>\n",
       "      <td>26</td>\n",
       "    </tr>\n",
       "    <tr>\n",
       "      <th>15</th>\n",
       "      <td>16</td>\n",
       "      <td>9</td>\n",
       "    </tr>\n",
       "    <tr>\n",
       "      <th>16</th>\n",
       "      <td>17</td>\n",
       "      <td>5</td>\n",
       "    </tr>\n",
       "    <tr>\n",
       "      <th>17</th>\n",
       "      <td>18</td>\n",
       "      <td>1</td>\n",
       "    </tr>\n",
       "    <tr>\n",
       "      <th>18</th>\n",
       "      <td>19</td>\n",
       "      <td>12</td>\n",
       "    </tr>\n",
       "    <tr>\n",
       "      <th>19</th>\n",
       "      <td>20</td>\n",
       "      <td>5</td>\n",
       "    </tr>\n",
       "    <tr>\n",
       "      <th>20</th>\n",
       "      <td>21</td>\n",
       "      <td>8</td>\n",
       "    </tr>\n",
       "    <tr>\n",
       "      <th>21</th>\n",
       "      <td>22</td>\n",
       "      <td>3</td>\n",
       "    </tr>\n",
       "    <tr>\n",
       "      <th>22</th>\n",
       "      <td>23</td>\n",
       "      <td>4</td>\n",
       "    </tr>\n",
       "    <tr>\n",
       "      <th>23</th>\n",
       "      <td>24</td>\n",
       "      <td>4</td>\n",
       "    </tr>\n",
       "    <tr>\n",
       "      <th>24</th>\n",
       "      <td>25</td>\n",
       "      <td>5</td>\n",
       "    </tr>\n",
       "    <tr>\n",
       "      <th>25</th>\n",
       "      <td>26</td>\n",
       "      <td>9</td>\n",
       "    </tr>\n",
       "    <tr>\n",
       "      <th>26</th>\n",
       "      <td>27</td>\n",
       "      <td>2</td>\n",
       "    </tr>\n",
       "    <tr>\n",
       "      <th>27</th>\n",
       "      <td>28</td>\n",
       "      <td>10</td>\n",
       "    </tr>\n",
       "    <tr>\n",
       "      <th>28</th>\n",
       "      <td>29</td>\n",
       "      <td>1</td>\n",
       "    </tr>\n",
       "    <tr>\n",
       "      <th>29</th>\n",
       "      <td>30</td>\n",
       "      <td>11</td>\n",
       "    </tr>\n",
       "    <tr>\n",
       "      <th>30</th>\n",
       "      <td>31</td>\n",
       "      <td>2</td>\n",
       "    </tr>\n",
       "    <tr>\n",
       "      <th>31</th>\n",
       "      <td>32</td>\n",
       "      <td>3</td>\n",
       "    </tr>\n",
       "  </tbody>\n",
       "</table>\n",
       "</div>"
      ],
      "text/plain": [
       "    ENTIDAD  LOC\n",
       "0         1    2\n",
       "1         2    5\n",
       "2         3    3\n",
       "3         4    2\n",
       "4         5    7\n",
       "5         6    4\n",
       "6         7    4\n",
       "7         8    6\n",
       "8         9   15\n",
       "9        10    3\n",
       "10       11   11\n",
       "11       12    4\n",
       "12       13    2\n",
       "13       14   12\n",
       "14       15   26\n",
       "15       16    9\n",
       "16       17    5\n",
       "17       18    1\n",
       "18       19   12\n",
       "19       20    5\n",
       "20       21    8\n",
       "21       22    3\n",
       "22       23    4\n",
       "23       24    4\n",
       "24       25    5\n",
       "25       26    9\n",
       "26       27    2\n",
       "27       28   10\n",
       "28       29    1\n",
       "29       30   11\n",
       "30       31    2\n",
       "31       32    3"
      ]
     },
     "execution_count": 104,
     "metadata": {},
     "output_type": "execute_result"
    }
   ],
   "source": [
    "subset[[\"ENTIDAD\",\"LOC\"]].loc[subset[\"POBTOT\"]>3*20536.34].groupby('ENTIDAD',as_index=False).count()"
   ]
  },
  {
   "cell_type": "markdown",
   "id": "548c58d7",
   "metadata": {},
   "source": [
    "# ¿Existe alguna correlación?\n",
    "\n",
    "No todas las correlaciones se aplican para las mismas variables, es decir, hay correlaciones para variables continuas pero también hay variables que son dicotomicas o categóricas y estas también puede tener correlación. En nuestro caso como son variables continuas entre 0 y 1 podemos usar la correlación de Spearman."
   ]
  },
  {
   "cell_type": "code",
   "execution_count": 107,
   "id": "c99775f4",
   "metadata": {},
   "outputs": [
    {
     "data": {
      "text/plain": [
       "SpearmanrResult(correlation=0.027519747702620827, pvalue=4.843667474839383e-20)"
      ]
     },
     "execution_count": 107,
     "metadata": {},
     "output_type": "execute_result"
    }
   ],
   "source": [
    "import scipy.stats\n",
    "\n",
    "scipy.stats.spearmanr(subset[\"pct_85\"],subset[\"pct_ss\"])\n"
   ]
  },
  {
   "cell_type": "markdown",
   "id": "f13673c1",
   "metadata": {},
   "source": [
    "Este ejercicio muestra lo difícil y tardado que puede ser comenzar a revisar información en general, pensemos que aquí hasta ahora nos hemos enfocado solo en un par de variables, la base tenía +200 🤯"
   ]
  }
 ],
 "metadata": {
  "kernelspec": {
   "display_name": "Python 3 (ipykernel)",
   "language": "python",
   "name": "python3"
  },
  "language_info": {
   "codemirror_mode": {
    "name": "ipython",
    "version": 3
   },
   "file_extension": ".py",
   "mimetype": "text/x-python",
   "name": "python",
   "nbconvert_exporter": "python",
   "pygments_lexer": "ipython3",
   "version": "3.9.12"
  }
 },
 "nbformat": 4,
 "nbformat_minor": 5
}
