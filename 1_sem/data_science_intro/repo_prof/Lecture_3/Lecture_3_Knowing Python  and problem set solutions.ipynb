{
 "cells": [
  {
   "cell_type": "markdown",
   "id": "c86bcd80",
   "metadata": {},
   "source": [
    "# Lecture 2: Part 2\n",
    "\n",
    "En esta sesión seguiremos explorando datos y veremos los sentencias importantes de la programación y su sintáxis <strong>for, if-elif-else, while,do-while </strong> y las <strong>funciones</strong>."
   ]
  },
  {
   "cell_type": "code",
   "execution_count": 35,
   "id": "44325b97",
   "metadata": {},
   "outputs": [],
   "source": [
    "import pandas as pd\n",
    "import numpy as np\n",
    "import matplotlib.pyplot as plt\n",
    "import seaborn as sns\n",
    "import os\n",
    "pd.set_option('display.float_format', '{:20,.2f}'.format)"
   ]
  },
  {
   "cell_type": "markdown",
   "id": "142c3416",
   "metadata": {},
   "source": [
    "Los datos observados pueden divirse en categóricos (ordinal, nominal) y numéricos (discreto y continuo).\n",
    "\n",
    "Por ejemplo, categoricos nominal puede ser el Sexo legal de los individuos, ordinal pueden ser el orden de llegada al banco, etc."
   ]
  },
  {
   "cell_type": "markdown",
   "id": "2477117e",
   "metadata": {},
   "source": [
    "## For loop\n",
    "\n",
    "For es un comando para repetir N veces una instrucción.\n",
    "Por ejemplo, si queremos imprimir los números del 1 al 10, hacemos lo siguiente:"
   ]
  },
  {
   "cell_type": "code",
   "execution_count": 18,
   "id": "3523102d",
   "metadata": {},
   "outputs": [
    {
     "name": "stdout",
     "output_type": "stream",
     "text": [
      "1\n",
      "2\n",
      "3\n",
      "4\n"
     ]
    }
   ],
   "source": [
    "for i in range(1,5):\n",
    "    print(i)"
   ]
  },
  {
   "cell_type": "markdown",
   "id": "5354be98",
   "metadata": {},
   "source": [
    "varias cosas nuevas que vale la pena remarcar:\n",
    "    <ol> \n",
    "    <li>Valores identados después de los \":\"</li>\n",
    "    <li> el uso de range ¿qué es?</li>\n",
    "    <li><strong>for</strong> trabaja sobre listas, tuplas, diccionarios, conjuntos y cadenas</li>\n",
    "    </ol>\n",
    "    \n",
    "Veámos algunos otros ejemplos:"
   ]
  },
  {
   "cell_type": "code",
   "execution_count": 3,
   "id": "e6320bfb",
   "metadata": {},
   "outputs": [
    {
     "data": {
      "text/plain": [
       "range"
      ]
     },
     "execution_count": 3,
     "metadata": {},
     "output_type": "execute_result"
    }
   ],
   "source": [
    "type(range(10))"
   ]
  },
  {
   "cell_type": "code",
   "execution_count": 5,
   "id": "5589f099",
   "metadata": {},
   "outputs": [
    {
     "data": {
      "text/plain": [
       "[0, 2, 4, 6, 8]"
      ]
     },
     "execution_count": 5,
     "metadata": {},
     "output_type": "execute_result"
    }
   ],
   "source": [
    "list(range(0,10,2))"
   ]
  },
  {
   "cell_type": "code",
   "execution_count": 2,
   "id": "acecb99d",
   "metadata": {},
   "outputs": [
    {
     "name": "stdout",
     "output_type": "stream",
     "text": [
      "Ramíro es un buen alumno.\n",
      "Ramíro entrega a tiempo su tarea\n",
      "Marco es un buen alumno.\n",
      "Marco entrega a tiempo su tarea\n",
      "Juan es un buen alumno.\n",
      "Juan entrega a tiempo su tarea\n"
     ]
    }
   ],
   "source": [
    "alumnos=[\"Ramíro\",\"Marco\",\"Juan\"]\n",
    "\n",
    "for alumno in alumnos:\n",
    "    print(f\"{alumno} es un buen alumno.\")\n",
    "    print(alumno+\" entrega a tiempo su tarea.\")"
   ]
  },
  {
   "cell_type": "code",
   "execution_count": 19,
   "id": "8eb9afc6",
   "metadata": {},
   "outputs": [
    {
     "name": "stdout",
     "output_type": "stream",
     "text": [
      "R\n",
      "a\n",
      "f\n",
      "a\n"
     ]
    }
   ],
   "source": [
    "nombre=\"Rafa\"\n",
    "\n",
    "for letter in nombre:\n",
    "    print(letter)"
   ]
  },
  {
   "cell_type": "markdown",
   "id": "929aced8",
   "metadata": {},
   "source": [
    "### Ejercicio C2.2: "
   ]
  },
  {
   "cell_type": "code",
   "execution_count": 118,
   "id": "72093057",
   "metadata": {},
   "outputs": [
    {
     "name": "stdout",
     "output_type": "stream",
     "text": [
      "-\n",
      "--\n",
      "---\n",
      "----\n",
      "-----\n"
     ]
    }
   ],
   "source": [
    "# Ejercicio: Imprimir guiones de tal forma \n",
    "# que en el primer renglón de arriba a abajo haya 1, en el segundo renglón, haya 2, así hasta 5\n",
    "for i in range(5):\n",
    "        #print('-'+'-'*i)\n",
    "        print('-'*(i+1))"
   ]
  },
  {
   "cell_type": "code",
   "execution_count": 114,
   "id": "a1041b05",
   "metadata": {},
   "outputs": [
    {
     "name": "stdout",
     "output_type": "stream",
     "text": [
      "i:0,j:0\n",
      "i:0,j:1\n",
      "i:0,j:2\n",
      "i:1,j:0\n",
      "i:1,j:1\n",
      "i:1,j:2\n",
      "i:2,j:0\n",
      "i:2,j:1\n",
      "i:2,j:2\n"
     ]
    }
   ],
   "source": [
    "# loops anidados\n",
    "\n",
    "for i in range(3):\n",
    "    for j in range(3):\n",
    "        print(f\"i:{i},j:{j}\")"
   ]
  },
  {
   "cell_type": "markdown",
   "id": "a542b632",
   "metadata": {},
   "source": [
    "# if-elif-else"
   ]
  },
  {
   "cell_type": "code",
   "execution_count": 6,
   "id": "9b2c33c5",
   "metadata": {},
   "outputs": [
    {
     "name": "stdout",
     "output_type": "stream",
     "text": [
      "5 mayor a 4\n"
     ]
    }
   ],
   "source": [
    "a=5\n",
    "b=4\n",
    "\n",
    "if a<b:\n",
    "    print(f\"{a} menor que {b}\")\n",
    "elif a>b:\n",
    "    print(f\"{a} mayor a {b}\")\n",
    "else:\n",
    "    print(\"Por la tricotomía de los números, a es igual a b\")"
   ]
  },
  {
   "cell_type": "code",
   "execution_count": 11,
   "id": "b34acc51",
   "metadata": {},
   "outputs": [
    {
     "name": "stdout",
     "output_type": "stream",
     "text": [
      "dime tu edad: 21\n",
      "Eres mayor de edad\n"
     ]
    }
   ],
   "source": [
    "edad=input(\"dime tu edad: \")\n",
    "\n",
    "\n",
    "\n",
    "if edad<18:\n",
    "    print(\"Eres menor de edad\")\n",
    "else:\n",
    "    print(\"Eres mayor de edad\")"
   ]
  },
  {
   "cell_type": "markdown",
   "id": "f975f868",
   "metadata": {},
   "source": [
    "# While & Do while\n"
   ]
  },
  {
   "cell_type": "code",
   "execution_count": 116,
   "id": "ae929781",
   "metadata": {},
   "outputs": [],
   "source": [
    "#![coyote.png](attachment:coyote.png)"
   ]
  },
  {
   "cell_type": "code",
   "execution_count": 17,
   "id": "99f0bdbd",
   "metadata": {},
   "outputs": [
    {
     "name": "stdout",
     "output_type": "stream",
     "text": [
      "i: 5\n",
      " j: 10\n",
      " k: 5 \n"
     ]
    }
   ],
   "source": [
    "#While\n",
    "\n",
    "i=0\n",
    "j=0\n",
    "k=10\n",
    "\n",
    "while i<5:\n",
    "    i=i+1\n",
    "    j+=2\n",
    "    k-=1\n",
    "    \n",
    "print(f\"i: {i}\\n j: {j}\\n k: {k} \")"
   ]
  },
  {
   "cell_type": "code",
   "execution_count": 115,
   "id": "f577f7e6",
   "metadata": {
    "scrolled": true
   },
   "outputs": [
    {
     "name": "stdout",
     "output_type": "stream",
     "text": [
      "0\n",
      "1\n",
      "0\n",
      "1\n"
     ]
    }
   ],
   "source": [
    "#While\n",
    "\n",
    "i=0\n",
    "\n",
    "while i<2:\n",
    "    print(i)\n",
    "    i+=1\n",
    " \n",
    "i=0\n",
    "\n",
    "#Do while\n",
    "\n",
    "while True:\n",
    "    print(i)\n",
    "    i+=1\n",
    "    if(i==2):\n",
    "        break\n",
    "    if(i==8):\n",
    "        break\n",
    "    \n",
    "    "
   ]
  },
  {
   "cell_type": "markdown",
   "id": "f5369e8e",
   "metadata": {},
   "source": [
    "### Tarea C2.2: \n",
    "Imprime los números impares del 1 a 20 que no sean divisibles por 3, <strong>hint</strong>: usen el operador modulo <strong>%</strong> que arroja el residuo de la división de 2 números A%B, ejemplo 17%3=2 porque 5*3=15 y 17-15=2."
   ]
  },
  {
   "cell_type": "code",
   "execution_count": 32,
   "id": "47ed93cf",
   "metadata": {},
   "outputs": [
    {
     "data": {
      "text/plain": [
       "2"
      ]
     },
     "execution_count": 32,
     "metadata": {},
     "output_type": "execute_result"
    }
   ],
   "source": [
    "17%3"
   ]
  },
  {
   "cell_type": "code",
   "execution_count": 42,
   "id": "f66a5be7",
   "metadata": {},
   "outputs": [
    {
     "name": "stdout",
     "output_type": "stream",
     "text": [
      "1\n",
      "5\n",
      "7\n",
      "11\n",
      "13\n",
      "17\n",
      "19\n"
     ]
    }
   ],
   "source": [
    "for i in range(21):\n",
    "    if i%2!=0 and i%3!=0:\n",
    "        print(i)"
   ]
  },
  {
   "cell_type": "markdown",
   "id": "36faa713",
   "metadata": {},
   "source": [
    "# Funciones\n",
    "\n",
    "\n",
    "Input -> process -> output\n",
    "\n",
    "También puede verse como una receta de cocina, es una guía estructurada de instrucciones que realizarán un proceso y nos darán un resultado.\n",
    "\n"
   ]
  },
  {
   "cell_type": "code",
   "execution_count": 63,
   "id": "835b3e77",
   "metadata": {},
   "outputs": [],
   "source": [
    "def promedio(n=3):\n",
    "    califs=np.array([None]*n)\n",
    "    for i in range(n):\n",
    "        #¿Por qué no llenarlo de ceros?\n",
    "        califs[i]=int(input(f\"Escribe la calificación {i+1}: \"))\n",
    "    suma=np.sum(califs)\n",
    "    return suma/n\n",
    "        "
   ]
  },
  {
   "cell_type": "code",
   "execution_count": 64,
   "id": "79c7834e",
   "metadata": {},
   "outputs": [
    {
     "name": "stdout",
     "output_type": "stream",
     "text": [
      "Escribe la calificación 1: 4\n",
      "Escribe la calificación 2: 10\n",
      "Escribe la calificación 3: 10\n"
     ]
    },
    {
     "data": {
      "text/plain": [
       "8.0"
      ]
     },
     "execution_count": 64,
     "metadata": {},
     "output_type": "execute_result"
    }
   ],
   "source": [
    "promedio()"
   ]
  },
  {
   "cell_type": "markdown",
   "id": "0a45d2f7",
   "metadata": {},
   "source": [
    "### Ejercicio C2.4\n",
    "\n",
    "Utiliza el comando <strong>if</strong> para poner validaciones, es decir, la calificación no puede ser menor a cero o mayor a 10."
   ]
  },
  {
   "cell_type": "code",
   "execution_count": 65,
   "id": "c2b2eb53",
   "metadata": {},
   "outputs": [],
   "source": [
    "# Escriba su código aquí"
   ]
  },
  {
   "cell_type": "markdown",
   "id": "2c83bede",
   "metadata": {},
   "source": [
    "### Tarea C2.2\n",
    "\n",
    "Ejercicio 1\n",
    "Crear una matriz nxn con n={2,5,10} que vaya de de 1 en uno la \n",
    "primer fila, de 2 en 2 la segunda y así sucesivamente y con el primer elemento\n",
    "de cada fila conectado con el último por diferencia de 1.\n",
    "    \n",
    "\n",
    "Ejemplo n=2    \n",
    "\n",
    "$$\n",
    "\\begin{bmatrix}\n",
    "1 & 2  \\\\\n",
    "3 & 5 \n",
    "\\end{bmatrix}\n",
    "$$\n",
    "\n",
    "\n",
    "Ejemplo n=3\n",
    "\n",
    "$$\n",
    "\\begin{bmatrix}\n",
    "1 & 2 & 3 \\\\\n",
    "4 & 6 & 8 \\\\\n",
    "9 & 12 & 15\n",
    "\\end{bmatrix}\n",
    "$$"
   ]
  },
  {
   "cell_type": "code",
   "execution_count": 26,
   "id": "a1fe6266",
   "metadata": {},
   "outputs": [],
   "source": [
    "def tarea2(n):\n",
    "    '''\n",
    "    input:\n",
    "            n: the matrix dimension\n",
    "    \n",
    "    This program create a vector that is transformed in a Matrix NxN\n",
    "    where everytime the row changes the next item only increases by one, but the next item increase\n",
    "    considering the number of the row\n",
    "    \n",
    "    '''\n",
    "    vector=[None]*(n*n)\n",
    "    iterator=1\n",
    "    vector[0]=1\n",
    "    for i in range(1,len(vector)):\n",
    "        #Si comienza línea significa que está en el elemento n+1 por lo tanto al dividir por n, tendría que sobrar 1.\n",
    "        if (i+1)%n==1:\n",
    "            iterator+=1\n",
    "            vector[i]=vector[i-1]+1\n",
    "        else:\n",
    "            vector[i]=vector[i-1]+iterator\n",
    "\n",
    "    return np.array(vector).reshape((n,n))"
   ]
  },
  {
   "cell_type": "code",
   "execution_count": 38,
   "id": "80c9b4ce",
   "metadata": {},
   "outputs": [
    {
     "data": {
      "text/plain": [
       "array([[ 1,  2,  3],\n",
       "       [ 4,  6,  8],\n",
       "       [ 9, 12, 15]])"
      ]
     },
     "execution_count": 38,
     "metadata": {},
     "output_type": "execute_result"
    }
   ],
   "source": [
    "tarea2(3)"
   ]
  },
  {
   "cell_type": "markdown",
   "id": "bf395298",
   "metadata": {},
   "source": [
    "### Ejercicio C3.1\n",
    "\n",
    "Hacer una función que calcule el índice de masa corporal (IMC) siguiendo las indicaciones de esta página [link](https://www.texasheart.org/heart-health/heart-information-center/topics/calculadora-del-indice-de-masa-corporal-imc/) y de acuerdo al índice de imprimir el estado del paciente.\n",
    "\n"
   ]
  },
  {
   "cell_type": "code",
   "execution_count": 46,
   "id": "290bf35b",
   "metadata": {},
   "outputs": [],
   "source": [
    "def BMI(h,w):\n",
    "    '''\n",
    "    Description:\n",
    "        This function compute the Body Mass Index\n",
    "    Input:\n",
    "        height in m\n",
    "        weight in km\n",
    "        \n",
    "    Output:\n",
    "        The BMI status\n",
    "    '''\n",
    "    bmi=w/h**2\n",
    "    \n",
    "    if bmi<18.5:\n",
    "        print(\"Peso inferior al normal\")\n",
    "    elif (bmi>=18.5) & (bmi<24.9):\n",
    "        print(\"Peso normal\")\n",
    "    elif (bmi<29.9) & (bmi>=24.9):\n",
    "        print(\"Peso superior al normal\")\n",
    "    else:\n",
    "        print(\"Obesidad\")\n",
    "    "
   ]
  },
  {
   "cell_type": "code",
   "execution_count": 49,
   "id": "fccf5469",
   "metadata": {},
   "outputs": [
    {
     "name": "stdout",
     "output_type": "stream",
     "text": [
      "Peso normal\n"
     ]
    }
   ],
   "source": [
    "BMI(1.80,76)"
   ]
  }
 ],
 "metadata": {
  "kernelspec": {
   "display_name": "Python 3 (ipykernel)",
   "language": "python",
   "name": "python3"
  },
  "language_info": {
   "codemirror_mode": {
    "name": "ipython",
    "version": 3
   },
   "file_extension": ".py",
   "mimetype": "text/x-python",
   "name": "python",
   "nbconvert_exporter": "python",
   "pygments_lexer": "ipython3",
   "version": "3.9.12"
  }
 },
 "nbformat": 4,
 "nbformat_minor": 5
}
