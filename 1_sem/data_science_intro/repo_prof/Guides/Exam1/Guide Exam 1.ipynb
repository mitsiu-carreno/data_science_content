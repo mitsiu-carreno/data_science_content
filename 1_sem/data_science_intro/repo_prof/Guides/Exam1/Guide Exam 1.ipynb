{
 "cells": [
  {
   "cell_type": "markdown",
   "id": "81ad36fd",
   "metadata": {},
   "source": [
    "# UCA 2023\n",
    "# Introducción a Ciencia de Datos\n",
    "\n",
    "## Guía para primer parcial\n",
    "______________________________________________________________________________________________________________________"
   ]
  },
  {
   "cell_type": "markdown",
   "id": "af325824",
   "metadata": {},
   "source": [
    "1. Resuelva el siguiente ejercicio:"
   ]
  },
  {
   "cell_type": "markdown",
   "id": "3d4a6f3e",
   "metadata": {},
   "source": [
    "![Task 1](fig/task1.png)\n",
    "![Task 2](fig/task2.png)\n",
    "![Task 3](fig/task3.png)"
   ]
  },
  {
   "cell_type": "markdown",
   "id": "f19e5e94",
   "metadata": {},
   "source": [
    "Responda las siguientes preguntas:\n",
    "\n",
    "1. ¿Qué es la derivada?\n",
    "2. ¿Qué sucede cuando la derivada es igual a cero?\n",
    "3. ¿Explique de forma general el problema de regresión lineal?\n",
    "4. ¿Qué significa SSR?"
   ]
  },
  {
   "cell_type": "code",
   "execution_count": 1,
   "id": "8a304bd9",
   "metadata": {},
   "outputs": [],
   "source": [
    "import pandas as pd\n",
    "import numpy as np\n",
    "import matplotlib.pyplot as plt\n",
    "import seaborn as sns\n",
    "import os\n",
    "pd.set_option('display.float_format', '{:20,.2f}'.format)"
   ]
  },
  {
   "cell_type": "code",
   "execution_count": 4,
   "id": "3668a9d0",
   "metadata": {},
   "outputs": [],
   "source": [
    "#Nuestra función para graficar rectas\n",
    "\n",
    "def lineplot(a,b):\n",
    "    \"\"\"\n",
    "    inputs: \n",
    "        a: vector de pendientes\n",
    "        b: vector de interceptos\n",
    "    output:\n",
    "        Gráfica de rectas\n",
    "    \"\"\"\n",
    "    for i in range(len(a)):\n",
    "        x=list(range(1,10))\n",
    "        y=a[i]*np.array(x)+b[i]\n",
    "        plt.plot(x,y,label=f\"y={a[i]}x+{b[i]}\")\n",
    "        plt.legend()\n",
    "    plt.show()"
   ]
  },
  {
   "cell_type": "markdown",
   "id": "9baa42e7",
   "metadata": {},
   "source": [
    "5. El siguiente código es el que generé para la clase anterior, aquí pueden ver los valores reales de $\\beta_0$ y $\\beta_1$ como $a$ y $b$. Note que la ecuación del precio tiene un término llamado **error** a qué se refiere. Hint: recuerde el problema de Bias & Variance."
   ]
  },
  {
   "cell_type": "code",
   "execution_count": 5,
   "id": "1dddb2bc",
   "metadata": {},
   "outputs": [
    {
     "data": {
      "image/png": "[encoded data removed]",
      "text/plain": [
       "<Figure size 432x288 with 1 Axes>"
      ]
     },
     "metadata": {
      "needs_background": "light"
     },
     "output_type": "display_data"
    }
   ],
   "source": [
    "import random\n",
    "\n",
    "a=-900\n",
    "b=10000\n",
    "\n",
    "error=np.random.normal(size=20)*800\n",
    "\n",
    "km_disp=list(range(10))\n",
    "\n",
    "distancia=np.array([random.uniform(0,10) for i in range(20)])\n",
    "\n",
    "precio=a*distancia+error+b\n",
    "\n",
    "plt.scatter(distancia, precio,color='red')\n",
    "plt.xlabel(\"Km far from the beach\")\n",
    "plt.ylabel(\"Price in thousands\")\n",
    "lineplot([a],[b])\n"
   ]
  },
  {
   "cell_type": "markdown",
   "id": "930df7f9",
   "metadata": {},
   "source": [
    "## La curva de Laffer\n",
    "\n",
    "\n",
    "</br>\n",
    "<div style=\"text-align: justify\"> En EEUU una discusión que existió en los 70s fue acerca de los impuestos que el gobierno debería recaudar a los empresarios, un reconocido economista de la Universidad de Chicago Arthur Laffer, introdujo la curva que ven en la siguiente celda. ¿Qué dice? que si un país tiene unos impuestos muy altos decincentivará a los empresarios a generar riqueza y ser taxados. Esta idea la compró Jude Wanniski editor del Wall Street Journal en aquellos años que eventualmente se convirtió en asesor económico del republicano Ronald Reagan. Durante aquellos años se garantizó que EEUU se encontraba en la parte descendente de la curva (el impuesto más alto era de 70%) por lo que los impuestos deberían bajar. El resto es historia. Actualmente EEUU es uno de los países donde más taxes se perdonan a los multimillonarios. </div>\n",
    "\n"
   ]
  },
  {
   "cell_type": "code",
   "execution_count": 6,
   "id": "2be450a1",
   "metadata": {},
   "outputs": [
    {
     "data": {
      "image/png": "[encoded data removed]",
      "text/plain": [
       "<Figure size 432x288 with 1 Axes>"
      ]
     },
     "metadata": {
      "needs_background": "light"
     },
     "output_type": "display_data"
    }
   ],
   "source": [
    "# Taxes vs Government Revenue (Laffer Curve)\n",
    "\n",
    "\n",
    "error=np.random.normal(size=40)*200\n",
    "\n",
    "taxes=np.array([random.uniform(0,100) for i in range(40)])\n",
    "\n",
    "revenue=-1*taxes**2+100*taxes+error+0\n",
    "\n",
    "plt.scatter(taxes, revenue,color='red')\n",
    "\n",
    "plt.axvline(x = 70, color = 'b', label = '-')\n",
    "plt.show()"
   ]
  },
  {
   "cell_type": "markdown",
   "id": "0e84baea",
   "metadata": {},
   "source": [
    "6. Es evidente que el modelo que mejor describiría estos datos no sería una recta sino una función cuadrática. Debes de calcular los coeficientes que describen estos datos usando las variables generadas de **taxes** y **revenues**\n",
    "Recuerda que además de $taxes$ debes usar $taxes^2$."
   ]
  },
  {
   "cell_type": "code",
   "execution_count": 2,
   "id": "c98f802d",
   "metadata": {},
   "outputs": [],
   "source": [
    "#Escriba su código aquí"
   ]
  },
  {
   "cell_type": "markdown",
   "id": "59118c6d",
   "metadata": {},
   "source": [
    "7. Calcule una regresión lineal para los siguientes datos, posteriormente calcule el $R^2$, ahora, transforme los datos para mejorar el $R^2$"
   ]
  },
  {
   "cell_type": "code",
   "execution_count": 11,
   "id": "ddc560a0",
   "metadata": {},
   "outputs": [
    {
     "data": {
      "image/png": "[encoded data removed]",
      "text/plain": [
       "<Figure size 432x288 with 1 Axes>"
      ]
     },
     "metadata": {
      "needs_background": "light"
     },
     "output_type": "display_data"
    }
   ],
   "source": [
    "#Ejercicio 7.1\n",
    "import math\n",
    "\n",
    "error=np.random.normal(size=40)*0.1\n",
    "\n",
    "x=np.array([random.uniform(0,100) for i in range(40)])\n",
    "\n",
    "y=np.array([math.log(i) for i in x])+error\n",
    "\n",
    "e_y=np.array([math.exp(i) for i in y])\n",
    "\n",
    "plt.scatter(x,e_y)\n",
    "plt.show()"
   ]
  },
  {
   "cell_type": "code",
   "execution_count": 44,
   "id": "05c2cd2c",
   "metadata": {},
   "outputs": [
    {
     "data": {
      "image/png": "[encoded data removed]",
      "text/plain": [
       "<Figure size 432x288 with 1 Axes>"
      ]
     },
     "metadata": {
      "needs_background": "light"
     },
     "output_type": "display_data"
    }
   ],
   "source": [
    "#Ejercicio 7.2 (Calcular R2 con regresión lineal y con transformación)\n",
    "\n",
    "error=np.random.normal(size=40)*0.1\n",
    "\n",
    "x=np.array([random.uniform(0,5) for i in range(40)])\n",
    "\n",
    "y=np.array([np.exp(i) for i in x])\n",
    "plt.scatter(x, y,color='red')\n",
    "plt.show()"
   ]
  },
  {
   "cell_type": "code",
   "execution_count": 37,
   "id": "9d02d2a2",
   "metadata": {},
   "outputs": [
    {
     "data": {
      "image/png": "[encoded data removed]",
      "text/plain": [
       "<Figure size 432x288 with 1 Axes>"
      ]
     },
     "metadata": {
      "needs_background": "light"
     },
     "output_type": "display_data"
    }
   ],
   "source": [
    "#Ejercicio 7.3\n",
    "# Polinomial\n",
    "\n",
    "\n",
    "error=np.random.normal(size=40)*6000\n",
    "\n",
    "x=np.array([random.uniform(0,100) for i in range(40)])\n",
    "\n",
    "y=(x-40)**3+100+error\n",
    "\n",
    "\n",
    "\n",
    "plt.scatter(x, y,color='red')\n",
    "plt.show()"
   ]
  },
  {
   "cell_type": "markdown",
   "id": "d9717f63",
   "metadata": {},
   "source": [
    "La función de este polinomio es de la forma   $y=x^3- 120 x^2+4800 x-63900+\\epsilon$ o bien $$\\beta_3=1$$\n",
    "$$\\beta_2=-120$$\n",
    "$$\\beta_1=4,200$$ \n",
    "$$\\beta_0=-63,900$$"
   ]
  },
  {
   "cell_type": "markdown",
   "id": "b4c8cf00",
   "metadata": {},
   "source": [
    "Mediante una regresión polinómica confirme estime los parámetros $\\beta_i$ y compruebe que son los descritos anteriormente, cálcule el $R^2$"
   ]
  },
  {
   "cell_type": "markdown",
   "id": "8b6730ca",
   "metadata": {},
   "source": [
    "8. Explique Overfitting & Underfitting (si puede, hágalo con gráficas)\n",
    "9. Explique qué es el Training set, Dev set y Test Set\n",
    "10. Porque una regresión lineal no es buena para calcular un modelo de clasificación, en específico, para calcular la probabilidad de que algo sea por ejemplo, alguien que va ser moroso ante una deuda o no."
   ]
  }
 ],
 "metadata": {
  "kernelspec": {
   "display_name": "Python 3 (ipykernel)",
   "language": "python",
   "name": "python3"
  },
  "language_info": {
   "codemirror_mode": {
    "name": "ipython",
    "version": 3
   },
   "file_extension": ".py",
   "mimetype": "text/x-python",
   "name": "python",
   "nbconvert_exporter": "python",
   "pygments_lexer": "ipython3",
   "version": "3.9.12"
  }
 },
 "nbformat": 4,
 "nbformat_minor": 5
}
