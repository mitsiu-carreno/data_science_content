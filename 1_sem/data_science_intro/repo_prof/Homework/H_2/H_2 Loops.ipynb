{
 "cells": [
  {
   "cell_type": "markdown",
   "id": "80262655",
   "metadata": {},
   "source": [
    "## Tarea 2: Loops\n",
    "## Profesor: Rafael Dávila Bugarín\n",
    "## Clase: Introducción a Ciencia de Datos\n",
    "\n",
    "\n",
    "\n",
    "Descargue este notebook en su computadora y resuelva los siguientes ejercicios:<br>\n",
    "\n",
    "1. En su código tiene que usar la fución <strong>input()</strong> que tenga como input un entero <strong>n</strong>, posteriormente para todo entero no negativo $i<n$ imprime en una línea distinta $i^2$. Ejemplo: $n=3$, $[0,1,2]$ imprime:<br>\n",
    "0<br>\n",
    "1<br>\n",
    "4<br>\n",
    "\n",
    "Este ejercicio es recogido de [hackerrank](https://www.hackerrank.com/).\n",
    "\n",
    "\n",
    "2. Imprime los números impares del 1 a 20 que no sean divisibles por 3, <strong>hint</strong>: usen el operador modulo <strong>%</strong> que arroja el residuo de la división de 2 números A%B, ejemplo 17%3=2 porque 5*3=15 y 17-15=2.\n",
    "\n",
    "### El ejercicio 3 es opcional pero recomendado\n",
    "\n",
    "3. Crear una matriz nxn con n={2,5,10} que vaya de uno en uno la \n",
    "primer fila, de 2 en 2 la segunda y así sucesivamente y con el primer elemento\n",
    "de cada fila conectado con el último por diferencia de 1. Este ejercicio ocupará [matrices](https://www.programiz.com/python-programming/matrix)\n",
    "    \n",
    "\n",
    "Ejemplo n=2    \n",
    "\n",
    "$$\n",
    "\\begin{bmatrix}\n",
    "1 & 2  \\\\\n",
    "3 & 5 \n",
    "\\end{bmatrix}\n",
    "$$\n",
    "\n",
    "\n",
    "Ejemplo n=3\n",
    "\n",
    "$$\n",
    "\\begin{bmatrix}\n",
    "1 & 2 & 3 \\\\\n",
    "4 & 6 & 8 \\\\\n",
    "9 & 12 & 15\n",
    "\\end{bmatrix}\n",
    "$$"
   ]
  }
 ],
 "metadata": {
  "kernelspec": {
   "display_name": "Python 3 (ipykernel)",
   "language": "python",
   "name": "python3"
  },
  "language_info": {
   "codemirror_mode": {
    "name": "ipython",
    "version": 3
   },
   "file_extension": ".py",
   "mimetype": "text/x-python",
   "name": "python",
   "nbconvert_exporter": "python",
   "pygments_lexer": "ipython3",
   "version": "3.9.12"
  }
 },
 "nbformat": 4,
 "nbformat_minor": 5
}
