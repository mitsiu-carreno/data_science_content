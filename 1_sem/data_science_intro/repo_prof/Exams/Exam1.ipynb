{
 "cells": [
  {
   "cell_type": "markdown",
   "id": "81ad36fd",
   "metadata": {},
   "source": [
    "# UCA 2023\n",
    "# Introducción a Ciencia de Datos\n",
    "\n",
    "## primer parcial\n",
    "### Rafael Dávila\n",
    "______________________________________________________________________________________________________________________"
   ]
  },
  {
   "cell_type": "markdown",
   "id": "af325824",
   "metadata": {},
   "source": [
    "1. Resuelva el siguiente ejercicio de [hackerrank](www.hackerrank.com):"
   ]
  },
  {
   "cell_type": "markdown",
   "id": "3d4a6f3e",
   "metadata": {},
   "source": [
    "![Task 1](figures/task1.png)\n",
    "![Task 2](figures/task2.png)"
   ]
  },
  {
   "cell_type": "code",
   "execution_count": null,
   "id": "89e2d18b",
   "metadata": {},
   "outputs": [],
   "source": [
    "#Escriba su código aquí\n",
    "\n",
    "n = int(input())\n",
    "#La función map aplica la función que toma como parámetro \n",
    "#(en el caso siguiente cambiar de string a int) y la aplica a un array\n",
    "arr = map(int, input().split())"
   ]
  },
  {
   "cell_type": "markdown",
   "id": "f19e5e94",
   "metadata": {},
   "source": [
    "Responda las siguientes preguntas:\n",
    "\n",
    "2. ¿Qué es la derivada?\n",
    "3. ¿Qué sucede cuando la derivada es igual a cero?\n",
    "4. ¿Explique de forma general el problema de regresión lineal?\n",
    "5. ¿Qué significa $R^2$ en un modelo?"
   ]
  },
  {
   "cell_type": "markdown",
   "id": "9baa42e7",
   "metadata": {},
   "source": [
    "6.Importe los datos del csv llamados **data1.csv** donde están el precio en miles de pesos y la distancia al mar en kilometros. Encuentre $\\beta_0$ y $\\beta_1$. ¿Cuál sería el precio según este modelo si la casa estuviera a 1km de distancia del mar?Grafique la recta"
   ]
  },
  {
   "cell_type": "markdown",
   "id": "e3d62b12",
   "metadata": {},
   "source": [
    "7.Importe los datos del csv llamados **data2.csv** donde están el precio en miles de pesos y la distancia al mar en kilometros. Encuentre $\\beta_0$ y $\\beta_1$. ¿Cuál sería el precio según este modelo si la casa estuviera a 1km de distancia del mar? Grafique la recta</br>\n",
    "¿Porqué son diferentes los valores de $\\beta_0$ y $\\beta_1$ al ejercicio 6?"
   ]
  },
  {
   "cell_type": "markdown",
   "id": "930df7f9",
   "metadata": {},
   "source": [
    "## La curva de Laffer\n",
    "\n",
    "\n",
    "</br>\n",
    "<div style=\"text-align: justify\"> En EEUU una discusión que existió en los 70s fue acerca de los impuestos que el gobierno debería recaudar a los empresarios, un reconocido economista de la Universidad de Chicago Arthur Laffer, introdujo la curva que ven en la siguiente celda. ¿Qué dice? que si un país tiene unos impuestos muy altos decincentivará a los empresarios a generar riqueza y ser taxados. Esta idea la compró Jude Wanniski editor del Wall Street Journal en aquellos años que eventualmente se convirtió en asesor económico del republicano Ronald Reagan. Durante aquellos años se garantizó que EEUU se encontraba en la parte descendente de la curva (el impuesto más alto era de 70%) por lo que los impuestos deberían bajar. El resto es historia. Actualmente EEUU es uno de los países donde más taxes se perdonan a los multimillonarios. </div></br>\n",
    "\n",
    "Importe la base **data3.csv** y grafique los puntos entre los taxes y el revenue.</br>\n",
    "\n",
    "8. ¿Qué tipo de relación hay?</br>\n",
    "\n",
    "Encuentre el modelo de ajuste e indique cuanto sería el revenue si los impuestos fueran 50%.\n",
    "\n"
   ]
  },
  {
   "cell_type": "markdown",
   "id": "59118c6d",
   "metadata": {},
   "source": [
    "9. Calcule una regresión lineal entre $X$ y $y$ que están en **data4.csv**, posteriormente calcule el $R^2$, ahora, transforme los datos a su forma lineal y vuelva a calcular el $R^2$\n",
    "\n",
    "</br>\n",
    "\n",
    "¿Por qué mejoró el $R^2$?"
   ]
  },
  {
   "cell_type": "markdown",
   "id": "8b6730ca",
   "metadata": {},
   "source": [
    "10. Explique Overfitting & Underfitting (si puede, use gráficas)"
   ]
  }
 ],
 "metadata": {
  "kernelspec": {
   "display_name": "Python 3 (ipykernel)",
   "language": "python",
   "name": "python3"
  },
  "language_info": {
   "codemirror_mode": {
    "name": "ipython",
    "version": 3
   },
   "file_extension": ".py",
   "mimetype": "text/x-python",
   "name": "python",
   "nbconvert_exporter": "python",
   "pygments_lexer": "ipython3",
   "version": "3.9.12"
  }
 },
 "nbformat": 4,
 "nbformat_minor": 5
}
