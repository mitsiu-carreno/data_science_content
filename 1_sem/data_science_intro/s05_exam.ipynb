{
  "nbformat": 4,
  "nbformat_minor": 0,
  "metadata": {
    "colab": {
      "provenance": []
    },
    "kernelspec": {
      "name": "python3",
      "display_name": "Python 3"
    },
    "language_info": {
      "name": "python"
    }
  },
  "cells": [
    {
      "cell_type": "markdown",
      "source": [
        "## Mitsiu Alejandro Carreño Sarabia - E23S-18014"
      ],
      "metadata": {
        "id": "7amQ24XASkdV"
      }
    },
    {
      "cell_type": "code",
      "execution_count": null,
      "metadata": {
        "colab": {
          "base_uri": "https://localhost:8080/"
        },
        "id": "JqbeCi7ASeie",
        "outputId": "0e94dbcd-a679-4ccf-bd15-508e837af557"
      },
      "outputs": [
        {
          "output_type": "stream",
          "name": "stdout",
          "text": [
            "Enter the number of participants: 5\n",
            "Enter the score for each participant, separated by spaces (2 3 6 6 5): 2 3 6 6 5\n",
            "The score for the runner up is: 5\n"
          ]
        }
      ],
      "source": [
        "## Ejercicio 1\n",
        "def function(n, arr):\n",
        "    '''\n",
        "    Description:\n",
        "        Get the runner-up from a list of scores\n",
        "    Inputs:\n",
        "        n (number)\n",
        "        arr (string) list of scores separated by a space\n",
        "    Outputs:\n",
        "        number: The score of the runner-up\n",
        "    '''\n",
        "    arr = arr.split(\" \")\n",
        "\n",
        "    arr =  [int(x) for x in arr]\n",
        "\n",
        "\n",
        "    if n != len(arr):\n",
        "        raise ValueError(f\"Invalid number of elements received {len(arr)} expected {n}\")\n",
        "\n",
        "    # Remove duplicates\n",
        "    arr = list(set(arr))\n",
        "\n",
        "    if n < 2 or n > 100:\n",
        "        raise ValueError(f\"Invalid n={n}, 2<=n<=100\")\n",
        "    for score in arr:\n",
        "        if int(score) < -100 or int(score) > 100:\n",
        "            raise ValueError(f\"Invalid score={score}, -100 <= score <= 100\")\n",
        "\n",
        "\n",
        "    #Order array\n",
        "    arr.sort(reverse=True)\n",
        "\n",
        "    if n > 1:\n",
        "        return arr[1]\n",
        "    else:\n",
        "        raise ValueError(\"Only one participant, no runner-up\")\n",
        "\n",
        "\n",
        "\n",
        "while True:\n",
        "    try:\n",
        "        n = int(input(\"Enter the number of participants: \"))\n",
        "        arr = input(\"Enter the score for each participant, separated by spaces (2 3 6 6 5): \")\n",
        "        runner = function(n, arr)\n",
        "        print(f\"The score for the runner up is: {runner}\")\n",
        "        break\n",
        "    except ValueError as e:\n",
        "        print(e);\n",
        "    except:\n",
        "        print(\"Internal error, try again\")\n"
      ]
    },
    {
      "cell_type": "markdown",
      "source": [
        "2.¿Qué es la derivada?     \n",
        "La derivada es la pendiente de un punto en una función.  \n",
        "    \n",
        "3.¿Qué sucede cuando la derivada es igual a cero?   \n",
        "Significa que la pendiente para ese punto es cero (una línea horizontal), significa que encontramos un valor en que nuestra función tiene un valór mínimo, máximo o un punto silla    \n",
        "     \n",
        "4.¿Explique de forma general el problema de regresión lineal?    \n",
        "El problema de regresión líneal encuentra la línea que mejor se ajusta a una serie de datos, dicha línea puede ser recta o curva (polinomial), de esta manera basados en la línea que mejor se ajuste a los datos, es posible predecir o estimar valores que no forman parte de nuestros datos originales   \n",
        "\n",
        "5.¿Qué significa R2 en un modelo?  \n",
        "R2 es un valor que nos permite estimar que tan correctamente esta estimando nuestro modelo los datos, queremos que nuestro modelo abstraiga la relación de nuestros datos."
      ],
      "metadata": {
        "id": "p4DMWiImXrQO"
      }
    },
    {
      "cell_type": "code",
      "source": [
        "## Ejercicio 6\n",
        "import pandas as pd\n",
        "import numpy as np\n",
        "import matplotlib.pyplot as plt\n",
        "from sklearn.linear_model import LinearRegression\n",
        "\n",
        "data=pd.read_csv('data1.csv')\n",
        "\n",
        "#print(data.head())\n",
        "X = np.array(data[\"distancia\"])\n",
        "\n",
        "reg = LinearRegression().fit(X.reshape(-1,1), data[\"precio\"])\n",
        "y_predicted = reg.predict(X.reshape(-1,1))\n",
        "\n",
        "plt.scatter(data[\"distancia\"], data[\"precio\"], color='red')\n",
        "plt.plot(data[\"distancia\"], y_predicted, label=f'y={reg.coef_}x+{reg.intercept_}')\n",
        "plt.xlabel(\"Km al mar\")\n",
        "plt.ylabel(\"Precio (miles de pesos)\")\n",
        "\n",
        "b0 = reg.intercept_\n",
        "b1 = reg.coef_\n",
        "print(f\"B0={b0}\")\n",
        "print(f\"B1={b1}\")\n",
        "print(f\"y = {b1[0]}x + {b0}\")\n",
        "prediction = reg.predict(np.array([[1]]))\n",
        "print(f\"Si la casa estuviera a 1 km el precio estimado es: {prediction}\")\n",
        "\n"
      ],
      "metadata": {
        "colab": {
          "base_uri": "https://localhost:8080/",
          "height": 350
        },
        "id": "T_fsFi8fSjy6",
        "outputId": "066d8918-9924-4b6d-a693-76f69428a669"
      },
      "execution_count": null,
      "outputs": [
        {
          "output_type": "stream",
          "name": "stdout",
          "text": [
            "B0=9827.581739701121\n",
            "B1=[-894.44878821]\n",
            "y = -894.4487882069839x + 9827.581739701121\n",
            "Si la casa estuviera a 1 km el precio estimado es: [8933.13295149]\n"
          ]
        },
        {
          "output_type": "display_data",
          "data": {
            "text/plain": [
              "<Figure size 432x288 with 1 Axes>"
            ],
            "image/png": "[encoded data removed]"
          },
          "metadata": {
            "needs_background": "light"
          }
        }
      ]
    },
    {
      "cell_type": "code",
      "source": [
        "## Ejercicio 7\n",
        "import pandas as pd\n",
        "import numpy as np\n",
        "import matplotlib.pyplot as plt\n",
        "from sklearn.linear_model import LinearRegression\n",
        "\n",
        "data=pd.read_csv('data2.csv')\n",
        "\n",
        "#print(data.head())\n",
        "X = np.array(data[\"distancia\"])\n",
        "\n",
        "reg = LinearRegression().fit(X.reshape(-1,1), data[\"precio\"])\n",
        "y_predicted = reg.predict(X.reshape(-1,1))\n",
        "\n",
        "plt.scatter(data[\"distancia\"], data[\"precio\"], color='red')\n",
        "plt.plot(data[\"distancia\"], y_predicted, label=f'y={reg.coef_}x+{reg.intercept_}')\n",
        "plt.xlabel(\"Km al mar\")\n",
        "plt.ylabel(\"Precio (miles de pesos)\")\n",
        "\n",
        "b0 = reg.intercept_\n",
        "b1 = reg.coef_\n",
        "print(f\"B0={b0}\")\n",
        "print(f\"B1={b1}\")\n",
        "print(f\"y = {b1[0]}x + {b0}\")\n",
        "prediction = reg.predict(np.array([[1]]))\n",
        "print(f\"Si la casa estuviera a 1 km el precio estimado es: {prediction}\")\n",
        "\n"
      ],
      "metadata": {
        "colab": {
          "base_uri": "https://localhost:8080/",
          "height": 350
        },
        "id": "335RB3eMZ4Md",
        "outputId": "0707ff33-1406-4d75-d4ca-3e4ee0508e86"
      },
      "execution_count": null,
      "outputs": [
        {
          "output_type": "stream",
          "name": "stdout",
          "text": [
            "B0=8563.653419174912\n",
            "B1=[-725.54772445]\n",
            "y = -725.5477244509086x + 8563.653419174912\n",
            "Si la casa estuviera a 1 km el precio estimado es: [7838.10569472]\n"
          ]
        },
        {
          "output_type": "display_data",
          "data": {
            "text/plain": [
              "<Figure size 432x288 with 1 Axes>"
            ],
            "image/png": "[encoded data removed]"
          },
          "metadata": {
            "needs_background": "light"
          }
        }
      ]
    },
    {
      "cell_type": "markdown",
      "source": [
        "7.- Los valores son distintos del ejercicio 6 porque existe una casa que esta a 2 km del mar y solo cuesta 1000 (una ganga) este punto, va en contra de la tendencia de casas, y nuestro modelo intenta encontrar la recta que menor error tenga en sus estimaciones, por ello este punto en especifico \"jala la recta\" y abarata las estimaciones  "
      ],
      "metadata": {
        "id": "l5c0Aq5pdvDy"
      }
    },
    {
      "cell_type": "code",
      "source": [
        "## Ejercicio 8\n",
        "import pandas as pd\n",
        "import numpy as np\n",
        "import math\n",
        "import matplotlib.pyplot as plt\n",
        "from sklearn.linear_model import LinearRegression\n",
        "from sklearn.preprocessing import PolynomialFeatures\n",
        "\n",
        "data=pd.read_csv('data3.csv')\n",
        "\n",
        "#print(data.head())\n",
        "\n",
        "X = np.array(data[\"taxes\"])\n",
        "y = np.array(data[\"revenue\"])\n",
        "\n",
        "\n",
        "plt.scatter(X, y, color='red')\n",
        "\n",
        "\n",
        "print(\"La relación entre taxes (x) y revenue (y) sigue una tendencia similar a \")\n",
        "print(\"y = -x^2\")\n",
        "\n",
        "#### Ajuste polinomial\n",
        "\n",
        "poly = PolynomialFeatures(degree=2, include_bias=False)\n",
        "poly_features = poly.fit_transform(X.reshape(-1,1))\n",
        "\n",
        "poly_reg = LinearRegression().fit(poly_features, y)\n",
        "\n",
        "#plt.scatter(taxes, revenue,color='red')\n",
        "y_predicted = poly_reg.predict(poly_features)\n",
        "plt.scatter(X, y_predicted, color=\"black\")\n",
        "plt.show()\n",
        "\n",
        "print(f\"y = {poly_reg.coef_[1]}x^2 + {poly_reg.coef_[0]}x + {poly_reg.intercept_}\")\n",
        "\n",
        "prediction = poly_reg.predict(np.array([[50, 50**2]]))\n",
        "print(f\"El valor predecido para el 50% es: {prediction[0]}\")\n"
      ],
      "metadata": {
        "colab": {
          "base_uri": "https://localhost:8080/",
          "height": 336
        },
        "id": "xcJqtEzrejne",
        "outputId": "f726e18c-ffd4-4b82-a358-fba3213a2d97"
      },
      "execution_count": null,
      "outputs": [
        {
          "output_type": "stream",
          "name": "stdout",
          "text": [
            "La relación entre taxes (x) y revenue (y) sigue una tendencia similar a \n",
            "y = -x^2\n"
          ]
        },
        {
          "output_type": "display_data",
          "data": {
            "text/plain": [
              "<Figure size 432x288 with 1 Axes>"
            ],
            "image/png": "[encoded data removed]"
          },
          "metadata": {
            "needs_background": "light"
          }
        },
        {
          "output_type": "stream",
          "name": "stdout",
          "text": [
            "y = -1.0031508266542577x^2 + 84.44825541383669x + 8232.719778344703\n",
            "El valor predecido para el 50% es: 9947.255482400893\n"
          ]
        }
      ]
    },
    {
      "cell_type": "code",
      "source": [
        "## Ejercicio 9\n",
        "import pandas as pd\n",
        "import numpy as np\n",
        "import math\n",
        "import matplotlib.pyplot as plt\n",
        "from sklearn.linear_model import LinearRegression\n",
        "\n",
        "data=pd.read_csv('data4.csv')\n",
        "\n",
        "#print(data.head())\n",
        "\n",
        "X = np.array(data[\"X\"])\n",
        "\n",
        "reg = LinearRegression().fit(X.reshape(-1,1), data[\"y\"])\n",
        "y_predicted = reg.predict(X.reshape(-1,1))\n",
        "\n",
        "plt.scatter(X, data[\"y\"], color='red')\n",
        "plt.plot(X, y_predicted, label=f'y={reg.coef_}x+{reg.intercept_}')\n",
        "\n",
        "\n",
        "r2 = reg.score(X.reshape(-1,1), data[\"y\"])\n",
        "print(f\"Con los datos originales R2: {r2}\")\n",
        "plt.show()\n",
        "\n",
        "####### Linealizando datos\n",
        "\n",
        "e_y = np.array([math.exp(i) for i in data[\"y\"]])\n",
        "reg_2 = LinearRegression().fit(X.reshape(-1,1), e_y)\n",
        "\n",
        "y_predict_2 = reg_2.predict(X.reshape(-1,1))\n",
        "\n",
        "plt.scatter(X, e_y, color='red')\n",
        "plt.plot(X, y_predict_2)\n",
        "\n",
        "r2_2 = reg_2.score(X.reshape(-1,1), e_y)\n",
        "print(f\"Con los datos linealizados R2: {r2_2}\")\n",
        "\n",
        "plt.show()\n",
        "\n",
        "print(\"Los datos originales tienen un comportamiento de una funcion logaritmica, con un crecimiento acelerado al inicio, para luego estabilizarse\")\n",
        "print(\"Si a los datos originales, le aplicamos una funcion exponencial, es decir\")\n",
        "print(\"y=log(x) ---> exp(y) = x\")\n",
        "print(\"Mantenemos la relación entre los datos, pero mediante esta transformación los datos se acercan más a una línea recta, por ello es posible realizar una mejor predicción/estimación\")"
      ],
      "metadata": {
        "colab": {
          "base_uri": "https://localhost:8080/",
          "height": 624
        },
        "id": "tJjsOAtqe31S",
        "outputId": "2ff2c04d-1f68-48e5-cc2b-a88e1ed1f26d"
      },
      "execution_count": null,
      "outputs": [
        {
          "output_type": "stream",
          "name": "stdout",
          "text": [
            "Con los datos originales R2: 0.7087225881641541\n"
          ]
        },
        {
          "output_type": "display_data",
          "data": {
            "text/plain": [
              "<Figure size 432x288 with 1 Axes>"
            ],
            "image/png": "[encoded data removed]"
          },
          "metadata": {
            "needs_background": "light"
          }
        },
        {
          "output_type": "stream",
          "name": "stdout",
          "text": [
            "Con los datos linealizados R2: 0.9272292005709035\n"
          ]
        },
        {
          "output_type": "display_data",
          "data": {
            "text/plain": [
              "<Figure size 432x288 with 1 Axes>"
            ],
            "image/png": "[encoded data removed]"
          },
          "metadata": {
            "needs_background": "light"
          }
        },
        {
          "output_type": "stream",
          "name": "stdout",
          "text": [
            "Los datos originales tienen un comportamiento de una funcion logaritmica, con un crecimiento acelerado al inicio, para luego estabilizarse\n",
            "Si a los datos originales, le aplicamos una funcion exponencial, es decir\n",
            "y=log(x) ---> exp(y) = x\n",
            "Mantenemos la relación entre los datos, pero mediante esta transformación los datos se acercan más a una línea recta, por ello es posible realizar una mejor predicción/estimación\n"
          ]
        }
      ]
    },
    {
      "cell_type": "code",
      "source": [
        "## Ejercicio 10\n",
        "\n",
        "import numpy as np\n",
        "import pandas as pd\n",
        "import matplotlib.pyplot as plt\n",
        "from sklearn.preprocessing import PolynomialFeatures\n",
        "from sklearn.linear_model import LinearRegression\n",
        "\n",
        "x = np.arange(0, 30)\n",
        "y = [3, 4, 5, 7, 10, 8, 9, 10, 10, 23, 27, 44, 50, 63, 67, 60, 62, 70, 75, 88, 81, 87, 95, 100, 108, 135, 151, 160, 169, 179]\n",
        "\n",
        "## Crear un polinomio de grado 10 para exagerar la similitud con los datos\n",
        "\n",
        "poly = PolynomialFeatures(degree=10, include_bias=False)\n",
        "poly_features = poly.fit_transform(x.reshape(-1, 1).copy())\n",
        "\n",
        "poly_reg_model = LinearRegression()\n",
        "poly_reg_model.fit(poly_features, y)\n",
        "y_predicted = poly_reg_model.predict(poly_features)\n",
        "\n",
        "\n",
        "## Crear una regresión lineal para no acercarnos a muchos datos\n",
        "reg = LinearRegression().fit(x.reshape(-1,1).copy(), y)\n",
        "y_linear_predicted = reg.predict(x.reshape(-1,1).copy())\n",
        "\n",
        "\n",
        "plt.figure(figsize=(10,6))\n",
        "plt.scatter(x,y)\n",
        "plt.plot(x, y_predicted, c=\"red\", label=\"Overfitting\")\n",
        "plt.plot(x, y_linear_predicted, c=\"green\", label=\"Underfitting\")\n",
        "plt.show()\n",
        "\n",
        "print(\"Overfitting (rojo) se apega demasiado a los datos de entrenamiento, lo cual no abstrae realmente las relaciones entre los datos, sino que los \\\"calca\\\" forzando la línea\")\n",
        "print(\"Underfitting (verde) es lo contrario de overfitting, abstrae demasiado y solo dá una vaga idea del comportamiento, sin realmente capturar sus relaciones especificas\")"
      ],
      "metadata": {
        "colab": {
          "base_uri": "https://localhost:8080/",
          "height": 410
        },
        "id": "fDrZHtqme8aq",
        "outputId": "49d0d31c-fb4d-441d-d223-956e30166d66"
      },
      "execution_count": null,
      "outputs": [
        {
          "output_type": "display_data",
          "data": {
            "text/plain": [
              "<Figure size 720x432 with 1 Axes>"
            ],
            "image/png": "[encoded data removed]"
          },
          "metadata": {
            "needs_background": "light"
          }
        },
        {
          "output_type": "stream",
          "name": "stdout",
          "text": [
            "Overfitting (rojo) se apega demasiado a los datos de entrenamiento, lo cual no abstrae realmente las relaciones entre los datos, sino que los \"calca\" forzando la línea\n",
            "Underfitting (verde) es lo contrario de overfitting, abstrae demasiado y solo dá una vaga idea del comportamiento, sin realmente capturar sus relaciones especificas\n"
          ]
        }
      ]
    },
    {
      "cell_type": "code",
      "source": [],
      "metadata": {
        "id": "Nvoc4nlJfajZ"
      },
      "execution_count": null,
      "outputs": []
    }
  ]
}