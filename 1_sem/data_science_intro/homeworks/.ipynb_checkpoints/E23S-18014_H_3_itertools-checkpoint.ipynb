{
 "cells": [
  {
   "cell_type": "markdown",
   "id": "e22d3f28",
   "metadata": {},
   "source": [
    "# Excercise \n",
    "## E23S-18014 - Mitsiu Alejandro Carreño Sarabia\n",
    "\n",
    "This excercise comes from [hackerrank](https://www.hackerrank.com/). This is a website where you can taste your skills programming in python and more languages."
   ]
  },
  {
   "cell_type": "markdown",
   "id": "730aa27e",
   "metadata": {},
   "source": [
    "**itertools.combinations_with_replacement(iterable, r)**</br></br>\n",
    "This tool returns  length subsequences of elements from the input iterable allowing individual elements to be repeated more than once.\n",
    "\n",
    "Combinations are emitted in lexicographic sorted order. So, if the input iterable is sorted, the combination tuples will be produced in sorted order.\n",
    "\n",
    "#### Sample Code\n"
   ]
  },
  {
   "cell_type": "code",
   "execution_count": 1,
   "id": "b49a01ca",
   "metadata": {},
   "outputs": [
    {
     "name": "stdout",
     "output_type": "stream",
     "text": [
      "[('1', '1'), ('1', '2'), ('1', '3'), ('1', '4'), ('1', '5'), ('2', '2'), ('2', '3'), ('2', '4'), ('2', '5'), ('3', '3'), ('3', '4'), ('3', '5'), ('4', '4'), ('4', '5'), ('5', '5')]\n",
      "------------------------------\n",
      "[(1, 1), (1, 3), (1, 3), (1, 3), (1, 3), (1, 3), (1, 3), (3, 3), (3, 3), (3, 3)]\n"
     ]
    }
   ],
   "source": [
    "from itertools import combinations_with_replacement\n",
    "from itertools import combinations\n",
    "\n",
    "print(list(combinations_with_replacement('12345',2)))\n",
    "\n",
    "print('-'*30)\n",
    "\n",
    "A = [1,1,3,3,3]\n",
    "print(list(combinations(A,2)))\n"
   ]
  },
  {
   "cell_type": "markdown",
   "id": "a96bc30f",
   "metadata": {},
   "source": [
    "## Task\n",
    "\n",
    "You are given a string $S$.\n",
    "Your task is to print all possible size $k$ replacement combinations of the string in lexicographic sorted order.\n",
    "\n",
    "#### Input Format\n",
    "\n",
    "A single line containing the string $S$ and integer value $k$ separated by a space.\n",
    "\n",
    "#### Constraints\n",
    "\n",
    "$0<k\\leq len(S)$\n",
    "\n",
    "The string contains only UPPERCASE characters.\n",
    "\n",
    "#### Output Format\n",
    "\n",
    "Print the combinations with their replacements of string $S$ on separate lines.\n",
    "\n",
    "#### Sample function start\n"
   ]
  },
  {
   "cell_type": "code",
   "execution_count": 15,
   "id": "679d64fd",
   "metadata": {},
   "outputs": [],
   "source": [
    "def function(S=\"HACK\",k=2):\n",
    "    #Write your code here\n",
    "    \n",
    "    print(\"Print the results\") #change this return to the expected result \n"
   ]
  },
  {
   "cell_type": "markdown",
   "id": "072d3837",
   "metadata": {},
   "source": [
    "### Sample Output\n",
    "\n",
    "\n",
    "AA</br>\n",
    "AC</br>\n",
    "AH</br>\n",
    "AK</br>\n",
    "CC</br>\n",
    "CH</br>\n",
    "CK</br>\n",
    "HH</br>\n",
    "HK</br>\n",
    "KK</br>\n",
    "\n"
   ]
  },
  {
   "cell_type": "code",
   "execution_count": 7,
   "id": "fe63afda",
   "metadata": {},
   "outputs": [
    {
     "name": "stdout",
     "output_type": "stream",
     "text": [
      "Enter a string to get combinations and the number of elements in each group (HACK 2): HACK 2\n",
      "AA\n",
      "AC\n",
      "AH\n",
      "AK\n",
      "CC\n",
      "CH\n",
      "CK\n",
      "HH\n",
      "HK\n",
      "KK\n"
     ]
    }
   ],
   "source": [
    "from itertools import combinations_with_replacement\n",
    "\n",
    "\n",
    "def function(S=\"HACK\", k=2):\n",
    "    '''\n",
    "    Description: \n",
    "        Receive a string and the number of elements by combination and get all posible combinations in sorted order.\n",
    "    Input:\n",
    "        S: string(optional) The string to search combinations into\n",
    "        k: number(optional) The number of groups in each combination\n",
    "    Returns:\n",
    "        none\n",
    "    '''\n",
    "    \n",
    "    if 0 > k or k > len(S):\n",
    "        raise ValueError(\"Invalid number of elements in each combination group, (0 < k <= len(string)\")\n",
    "    \n",
    "    #Order string lexicography (enforce the UPPERCASE constraint)\n",
    "    ordered_string = \"\".join(sorted(S.upper()))\n",
    "    \n",
    "    s_combinations = list(combinations_with_replacement(ordered_string, k))\n",
    "    for combination in s_combinations:\n",
    "        print(\"\".join(combination))\n",
    "    \n",
    "while True:\n",
    "    try:  \n",
    "        user_input = input(\"Enter a string to get combinations and the number of elements in each group (HACK 2): \")\n",
    "        user_input = user_input.split();\n",
    "        if len(user_input) != 2:\n",
    "            raise ValueError(\"Invalid input enter a string and number of elements in each combination group separated by a single space\")\n",
    "        user_input[1] = int(user_input[1])\n",
    "        function(user_input[0], user_input[1])\n",
    "        break\n",
    "    except ValueError as e:\n",
    "        print(e);\n",
    "    except:\n",
    "        print(\"Internal error, try again\")\n",
    "        \n"
   ]
  },
  {
   "cell_type": "code",
   "execution_count": null,
   "id": "e570cd3a",
   "metadata": {},
   "outputs": [],
   "source": []
  }
 ],
 "metadata": {
  "kernelspec": {
   "display_name": "Python 3 (ipykernel)",
   "language": "python",
   "name": "python3"
  },
  "language_info": {
   "codemirror_mode": {
    "name": "ipython",
    "version": 3
   },
   "file_extension": ".py",
   "mimetype": "text/x-python",
   "name": "python",
   "nbconvert_exporter": "python",
   "pygments_lexer": "ipython3",
   "version": "3.9.13"
  }
 },
 "nbformat": 4,
 "nbformat_minor": 5
}
