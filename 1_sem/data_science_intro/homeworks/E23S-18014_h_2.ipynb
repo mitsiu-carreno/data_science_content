{
 "cells": [
  {
   "cell_type": "markdown",
   "id": "569a890e",
   "metadata": {},
   "source": [
    "## Tarea 2: Loops\n",
    "## Profesor: Rafael Dávila Bugarín\n",
    "## Clase: Introducción a Ciencia de Datos\n",
    "\n",
    "\n",
    "\n",
    "Descargue este notebook en su computadora y resuelva los siguientes ejercicios:<br>\n",
    "\n",
    "1. En su código tiene que usar la fución <strong>input()</strong> que tenga como input un entero <strong>n</strong>, posteriormente para todo entero no negativo $i<n$ imprime en una línea distinta $i^2$. Ejemplo: $n=3$, $[0,1,2]$ imprime:<br>\n",
    "0<br>\n",
    "1<br>\n",
    "4<br>\n",
    "\n",
    "Este ejercicio es recogido de [hackerrank](https://www.hackerrank.com/).\n",
    "\n",
    "\n",
    "2. Imprime los números impares del 1 a 20 que no sean divisibles por 3, <strong>hint</strong>: usen el operador modulo <strong>%</strong> que arroja el residuo de la división de 2 números A%B, ejemplo 17%3=2 porque 5*3=15 y 17-15=2.\n",
    "\n",
    "### El ejercicio 3 es opcional pero recomendado\n",
    "\n",
    "3. Crear una matriz nxn con n={2,5,10} que vaya de uno en uno la \n",
    "primer fila, de 2 en 2 la segunda y así sucesivamente y con el primer elemento\n",
    "de cada fila conectado con el último por diferencia de 1. Este ejercicio ocupará [matrices](https://www.programiz.com/python-programming/matrix)\n",
    "    \n",
    "\n",
    "Ejemplo n=2    \n",
    "\n",
    "$$\n",
    "\\begin{bmatrix}\n",
    "1 & 2  \\\\\n",
    "3 & 5 \n",
    "\\end{bmatrix}\n",
    "$$\n",
    "\n",
    "\n",
    "Ejemplo n=3\n",
    "\n",
    "$$\n",
    "\\begin{bmatrix}\n",
    "1 & 2 & 3 \\\\\n",
    "4 & 6 & 8 \\\\\n",
    "9 & 12 & 15\n",
    "\\end{bmatrix}\n",
    "$$"
   ]
  },
  {
   "cell_type": "code",
   "execution_count": 30,
   "id": "c0f6bbbc",
   "metadata": {},
   "outputs": [
    {
     "name": "stdout",
     "output_type": "stream",
     "text": [
      "Ingresa un número entero: 3\n",
      "0\n",
      "1\n",
      "4\n"
     ]
    }
   ],
   "source": [
    "# Ejercicio 1\n",
    "import math\n",
    "while(True):\n",
    "    try:\n",
    "        n = int(input(\"Ingresa un número entero: \"))\n",
    "        break\n",
    "    except:\n",
    "        print(\"Numero entero no valido\");\n",
    "for i in range(n):\n",
    "    print(int(math.pow(i,2)))"
   ]
  },
  {
   "cell_type": "code",
   "execution_count": 35,
   "id": "a50956b6",
   "metadata": {},
   "outputs": [
    {
     "name": "stdout",
     "output_type": "stream",
     "text": [
      "1\n",
      "5\n",
      "7\n",
      "11\n",
      "13\n",
      "17\n",
      "19\n"
     ]
    }
   ],
   "source": [
    "# Ejercicio 2\n",
    "for i in range(1,21):\n",
    "    if i%2 == 1 and i%3 != 0:\n",
    "        print(i)"
   ]
  },
  {
   "cell_type": "code",
   "execution_count": 29,
   "id": "11fbab82",
   "metadata": {},
   "outputs": [
    {
     "name": "stdout",
     "output_type": "stream",
     "text": [
      "[[1. 2.]\n",
      " [3. 5.]]\n",
      "[[ 1.  2.  3.  4.  5.]\n",
      " [ 6.  8. 10. 12. 14.]\n",
      " [15. 18. 21. 24. 27.]\n",
      " [28. 32. 36. 40. 44.]\n",
      " [45. 50. 55. 60. 65.]]\n",
      "[[  1.   2.   3.   4.   5.   6.   7.   8.   9.  10.]\n",
      " [ 11.  13.  15.  17.  19.  21.  23.  25.  27.  29.]\n",
      " [ 30.  33.  36.  39.  42.  45.  48.  51.  54.  57.]\n",
      " [ 58.  62.  66.  70.  74.  78.  82.  86.  90.  94.]\n",
      " [ 95. 100. 105. 110. 115. 120. 125. 130. 135. 140.]\n",
      " [141. 147. 153. 159. 165. 171. 177. 183. 189. 195.]\n",
      " [196. 203. 210. 217. 224. 231. 238. 245. 252. 259.]\n",
      " [260. 268. 276. 284. 292. 300. 308. 316. 324. 332.]\n",
      " [333. 342. 351. 360. 369. 378. 387. 396. 405. 414.]\n",
      " [415. 425. 435. 445. 455. 465. 475. 485. 495. 505.]]\n",
      "\n",
      "--With Nested loops--\n",
      "\n",
      "[[1. 2.]\n",
      " [3. 5.]]\n",
      "[[ 1.  2.  3.  4.  5.]\n",
      " [ 6.  8. 10. 12. 14.]\n",
      " [15. 18. 21. 24. 27.]\n",
      " [28. 32. 36. 40. 44.]\n",
      " [45. 50. 55. 60. 65.]]\n",
      "[[  1.   2.   3.   4.   5.   6.   7.   8.   9.  10.]\n",
      " [ 11.  13.  15.  17.  19.  21.  23.  25.  27.  29.]\n",
      " [ 30.  33.  36.  39.  42.  45.  48.  51.  54.  57.]\n",
      " [ 58.  62.  66.  70.  74.  78.  82.  86.  90.  94.]\n",
      " [ 95. 100. 105. 110. 115. 120. 125. 130. 135. 140.]\n",
      " [141. 147. 153. 159. 165. 171. 177. 183. 189. 195.]\n",
      " [196. 203. 210. 217. 224. 231. 238. 245. 252. 259.]\n",
      " [260. 268. 276. 284. 292. 300. 308. 316. 324. 332.]\n",
      " [333. 342. 351. 360. 369. 378. 387. 396. 405. 414.]\n",
      " [415. 425. 435. 445. 455. 465. 475. 485. 495. 505.]]\n"
     ]
    }
   ],
   "source": [
    "# Ejercicio 3\n",
    "import numpy as np\n",
    "import math\n",
    "\n",
    "for n in [2, 5, 10]:\n",
    "    elems = np.array([])\n",
    "    cont = 0\n",
    "    \n",
    "    for elem in range(int(math.pow(n, 2))):\n",
    "        if elem%n == 0: # if we start a new row increment by one\n",
    "            cont +=1 \n",
    "        else:            # else we increment by the row number (starting on 1)\n",
    "            cont += (elem//n) + 1\n",
    "        elems = np.append(elems, cont)\n",
    "        \n",
    "    mat = np.array(elems).reshape(n, n)    \n",
    "    print(mat)\n",
    "\n",
    "print(\"\\n--With Nested loops--\\n\")\n",
    "for n in [2, 5, 10]:\n",
    "    elems = np.array([])\n",
    "    cont = 0\n",
    "    \n",
    "    for row in range(1, n+1):   # set row to start on 1\n",
    "        new_row = np.array([])\n",
    "        cont += 1               # at start of new row increment by one\n",
    "        new_row = np.append(new_row, cont)\n",
    "        for col in range(1,n):  # the first col is set, so go from 2 to n\n",
    "            cont += row         # all cols except first will increment by row number\n",
    "            new_row = np.append(new_row, cont)\n",
    "        elems = np.append(elems, new_row);\n",
    "    mat = np.array(elems).reshape(n, n)    \n",
    "    print(mat)"
   ]
  },
  {
   "cell_type": "code",
   "execution_count": null,
   "id": "78dfe5bd",
   "metadata": {},
   "outputs": [],
   "source": []
  }
 ],
 "metadata": {
  "kernelspec": {
   "display_name": "Python 3 (ipykernel)",
   "language": "python",
   "name": "python3"
  },
  "language_info": {
   "codemirror_mode": {
    "name": "ipython",
    "version": 3
   },
   "file_extension": ".py",
   "mimetype": "text/x-python",
   "name": "python",
   "nbconvert_exporter": "python",
   "pygments_lexer": "ipython3",
   "version": "3.9.13"
  }
 },
 "nbformat": 4,
 "nbformat_minor": 5
}
