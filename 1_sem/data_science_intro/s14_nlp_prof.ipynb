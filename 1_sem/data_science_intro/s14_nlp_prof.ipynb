{
 "cells": [
  {
   "cell_type": "code",
   "execution_count": 1,
   "id": "c603ccf4",
   "metadata": {},
   "outputs": [],
   "source": [
    "import nltk\n",
    "from bs4 import BeautifulSoup"
   ]
  },
  {
   "cell_type": "code",
   "execution_count": 2,
   "id": "a89e076f",
   "metadata": {},
   "outputs": [],
   "source": [
    "import requests\n",
    "#resp = requests.get('https://presidente.gob.mx/23-06-23-version-estenografica-de-la-conferencia-de-prensa-matutina-del-presidente-andres-manuel-lopez-obrador-desde-chiapas/')\n",
    "resp = requests.get('https://www.gob.mx/presidencia/articulos/discurso-de-andres-manuel-lopez-obrador-presidente-de-los-estados-unidos-mexicanos?idiom=es')\n",
    "txt = resp.text"
   ]
  },
  {
   "cell_type": "code",
   "execution_count": 3,
   "id": "be807265",
   "metadata": {},
   "outputs": [
    {
     "name": "stdout",
     "output_type": "stream",
     "text": [
      "Presidencia de la República  | 01 de diciembre de 2018\n",
      "Aquí en el Zócalo de la Ciudad de México, principal plaza pública del país, luego de recibir el bastón de mando de los pueblos originarios de nuestra gran nación, reafirmo el compromiso de no mentir, no robar y no traicionar al pueblo.\n",
      "Hoy hable en el Congreso sobre el antiguo régimen y de la nueva política para llevar a cabo la Cuarta Transformación de la vida pública de México; ahora quiero expresar lo que ya hemos hecho y estamos por iniciar; lo que bien podríamos llamar, una modernidad forjada desde abajo y para todos.\n",
      "Reafirmo nuestros compromisos, puntualmente:\n",
      "1. En primer lugar, vamos a darle atención especial a los pueblos indígenas de México; es una ignominia que nuestros pueblos originarios vivan desde hace siglos bajo la opresión y el racismo, con la pobreza y la marginación a cuestas. Todos los programas del gobierno tendrán como población preferente a los pueblos indígenas de las diversas culturas del país. \n",
      "2. Se atenderá a todos los mexicanos sin importar creencias, clases, organizaciones, sexo, partidos, sectores económicos o culturales, pero se aplicará el principio de que, por el bien de todos, primero los pobres.\n",
      "3. Se mantendrán las estancias infantiles de la antigua Secretaría de Desarrollo Social y se regularizarán los CENDIS promovidos por el Partido del Trabajo; ambos programas tendrán recursos garantizados en el presupuesto y pasarán a formar parte de las secretarías de Bienestar y de Educación Pública.\n",
      "4. Los estudiantes de Primaria y Secundaria que provengan de familias de escasos recursos económicos recibirán becas educativas.\n",
      "5. Todos los estudiantes de los Colegios de Bachilleres, escuelas técnicas, vocacionales y preparatorias públicas, recibirán una beca de 800 pesos mensuales.\n",
      "6. Trescientos mil jóvenes, en condiciones de pobreza, que ingresen o estén estudiando en universidades, tendrán derecho a una beca de 2400 pesos mensuales.\n",
      "7. En 2019 estarán funcionando 100 universidades públicas, con carreras acordes a cada región del país para atender con educación de calidad y sin pago de colegiatura a 64 mil estudiantes del nivel superior.\n",
      "8. Se protegerá el patrimonio cultural de México. Se impulsará la formación artística desde la educación básica y se apoyará a creadores y promotores culturales.\n",
      "9. Se promoverá la investigación científica y tecnológica; se apoyará a estudiantes y académicos con becas y otros estímulos en bien del conocimiento. El CONAHCYT coordinará el Plan Nacional para la Innovación en beneficio de la sociedad y del desarrollo nacional con la participación de universidades, pueblos, científicos y empresas.\n",
      "10. Se cancelará la llamada Reforma Educativa, se establecerá en el Artículo 3º de la Constitución el derecho a la educación gratuita en todos los niveles de escolaridad y el gobierno no agraviará nunca más a maestras y maestros.\n",
      "11. Hoy comienza el plan para apoyar a los damnificados de los sismos con trabajo, vivienda y servicios públicos . Esto incluye un programa de construcción y reconstrucción de escuelas, centros de salud, edificios públicos y templos que forman parte del patrimonio cultural del país.\n",
      "12. También hoy comienza un programa de mejoramiento urbano en colonias marginadas de la frontera norte: Tijuana, Mexicali, San Luis Río Colorado, Nogales, Ciudad Juárez, Acuña, Piedras Negras, Nuevo Laredo, Reynosa y Matamoros.\n",
      "13. Se hará realidad el derecho a la salud. El propósito es garantizar a los mexicanos atención médica y medicamentos gratuitos; comenzaremos en las unidades médicas del Seguro Social ubicadas en las zonas más pobres del país y poco a poco ser irá ampliando el programa hasta que logremos, a mediados del sexenio, establecer un sistema de salud de primera, como en Canadá o en los países nórdicos.\n",
      "14. Bajarán los sueldos de los altos funcionarios y aumentaran proporcionalmente los sueldos de los trabajadores de base y sindicalizados que ganan menos de 20 mil pesos al mes.\n",
      "15. Se aumentará la pensión a los adultos mayores en todo el país; es decir, se le entregará a cada uno  mil 274 pesos mensuales.\n",
      "16. También recibirán este apoyo un millón de discapacitados pobres, en especial, niñas y niños de pueblos y colonias marginadas.\n",
      "17. Dos millones 300 mil jóvenes desempleados serán contratados para trabajar como aprendices en actividades productivas en el campo y la ciudad, y ganarán un sueldo de 3 mil 600 pesos mensuales.\n",
      "18. En este mes iniciamos la construcción de caminos de concreto en municipios olvidados de Oaxaca, Guerrero y otros estados. Estos caminos se van a construir con trabajadores de las mismas comunidades para lograr un efecto multiplicador: el presupuesto quedará allí mismo, se reactivará la economía desde abajo, se crearán empleos con salarios justos y se harán las obras en beneficio de los pueblos.\n",
      "19. Los pequeños productores del campo, ejidatarios, comuneros o pequeños propietarios recibirán un apoyo económico semestral para la siembra de alimentos.\n",
      "20. Iniciará un programa de entrega de fertilizantes cuidando que no se dañen los suelos, en beneficio de productores agrícolas; el año próximo, este programa se aplicará de manera gratuita en apoyo a todos los campesinos del estado de Guerrero y así iremos ampliándolo en el resto del país. Además, pronto tendremos materia prima suficiente e iniciará la operación de la planta de fertilizante de Coatzacoalcos, Veracruz.\n",
      "21. A los pequeños productores de maíz, frijol, arroz, trigo y leche se les comprarán estos alimentos a precios de garantía en almacenes o depósitos de Diconsa y Liconsa.\n",
      "22. Se fomentará la actividad pesquera para mejorar la vida de las comunidades costeras y ribereñas. Los pescadores de atún y sardina recibirán un precio justo por sus productos.\n",
      "23. Ya comenzaron los preparativos para plantar en los próximos dos años árboles frutales y maderables en un millón de hectáreas, con el objetivo de producir alimentos, reforestar, mejorar el medio ambiente, crear 400 mil empleos y arraigar a la gente en sus comunidades de origen.\n",
      "24. Se unirán Diconsa y Liconsa en una sola empresa para el abasto y la distribución de alimentos de consumo popular. Se llamará Seguridad Alimentaria Mexicana (SEGALMEX). En los almacenes, tiendas y lecherías de esta nueva dependencia se distribuirá una canasta de alimentos básicos a precios bajos para combatir la desnutrición y el hambre del pueblo.\n",
      "25. Se otorgará créditos a la palabra y sin intereses a ejidatarios, comuneros y pequeños propietarios para la adquisición de novillonas, vacas y sementales.\n",
      "26. Los artesanos, dueños de talleres, tiendas y pequeñas empresas, también recibirán créditos a la palabra, baratos y sin tantos trámites y pérdida de tiempo.\n",
      "27. Se transferirá  a las comunidades mineras el impuesto que se cobra a las empresas por la extracción del mineral.\n",
      "28. No aumentará el precio de las gasolinas, el gas, el diésel y la luz, solo se le aplicará el componente de inflación; es decir, no habrá gasolinazos.\n",
      "29. Los apoyos que otorgue el gobierno al pueblo se entregarán de manera directa, sin intermediarios, para evitar “moches”, corrupción y manipulación política. Por eso se está levantando un censo casa por casa para identificar a cada beneficiario, entregarle una tarjeta y que él mismo retire sus apoyos.\n",
      "30. Se creará el Banco del Bienestar para que la gente pobre, hasta en los pueblos más apartados, pueda cobrar la ayuda del gobierno y en esa misma cuenta pueda también recibir remesas y otros ingresos, así como mantener sus ahorros con rendimientos y garantías de seguridad.\n",
      "31. El incremento del presupuesto para financiar los programas del bienestar se obtendrán de ahorros por no permitir la corrupción y gobernar con austeridad republicana.\n",
      "32. No aumentarán los impuestos más allá de la inflación y no se crearán nuevos impuestos. Tampoco aumentaremos la deuda pública. No gastaremos más de lo que ingrese a la Hacienda Pública.\n",
      "33. Seremos respetuosos de la autonomía del Banco de México y de sus políticas para evitar que haya inflación o devaluaciones.\n",
      "34. Se aplicará una estricta política de austeridad republicana. No habrá amiguismo, nepotismo e influyentismo, ninguna de esas lacras de la política. Serán transparentes la nómina y los bienes de los funcionarios públicos y de sus familiares cercanos; haremos pocos, muy pocos, viajes al extranjero y solo por causa justificada; no sé comprarán vehículos nuevos para funcionarios; únicamente tendrán escoltas los funcionarios responsables de tareas de seguridad; solo habrá tres asesores por secretaría; no habrá atención médica privada, ni cajas de ahorro exclusivas para funcionarios.\n",
      "35. No se comprarán sistemas de cómputo en el primer año de gobierno.\n",
      "36. Solo tendrán secretarios particulares los funcionarios integrantes del gabinete ampliado.\n",
      "37. Se cancelarán fideicomisos o cualquier otro mecanismo utilizado para ocultar fondos públicos y evadir la legalidad y la transparencia.\n",
      "38. Se suprimen todas las estructuras y programas duplicados (oficialías mayores, oficinas de prensa, publicaciones, defensorías jurídicas, compras, contraloría interna y otras) y estas funciones o programas se centralizarán en una sola unidad o coordinación, dependiente de la secretaría relacionada con los asuntos en cuestión.\n",
      "39. Se reducirá en 50 por ciento el gasto de publicidad del gobierno.\n",
      "40. Los funcionarios de Hacienda, Comunicaciones, Energía y otras dependencias, no podrán convivir en fiestas, comidas, juegos deportivos o viajar con contratistas, grandes contribuyentes, proveedores o inversionistas vinculados a la función pública.\n",
      "41. Ningún funcionario público podrá ocupar en su domicilio a trabajadores al servicio del Estado, si no lo tiene permitido o no cuenta con autorización para ello.\n",
      "42. Ningún funcionario, sin causa de emergencia, podrá ordenar cerrar calles, detener el tráfico o pasarse los altos o estacionarse en lugares prohibidos.\n",
      "43. No se comprará ninguna mercancía que exista en los almacenes públicos en cantidad suficiente.\n",
      "44. No se remodelarán oficinas, ni se comprará mobiliario de lujo.\n",
      "45. Sólo tendrán apoyo de choferes los secretarios y subsecretarios.\n",
      "46. Salvo plena justificación, los policías y militares de las distintas corporaciones no estarán al servicio de funcionarios o particulares.\n",
      "47. Se eliminarán partidas para vestuario o cualquier gasto de protocolo y ceremonial dedicado al Presidente, a sus colaboradores cercanos y a familiares.\n",
      "48. Se cuidarán los bienes de las oficinas a disposición de servidores públicos para proteger el patrimonio colectivo.\n",
      "49. Se evitarán gastos innecesarios en el extranjero. Las únicas oficinas del gobierno serán las embajadas y los consulados. Solo habrá una delegación del gobierno federal en los estados y en todas las oficinas se ahorrará energía eléctrica, agua, servicios telefónicos, de internet, gasolinas y otros insumos pagados por el erario.\n",
      "50. Se tratará con amabilidad a los ciudadanos en las oficinas públicas y en cualquier lugar, aceptando con humildad que ellos son los mandantes de nosotros, los servidores públicos.\n",
      "51. Las compras del gobierno se harán de manera consolidada; mediante convocatoria y con observación ciudadana y de la oficina de transparencia de la ONU.\n",
      "52. Los contratos de obra del gobierno se llevarán a cabo con la participación de ciudadanos y de observadores de la ONU.\n",
      "53. No se autorizará la contratación de despachos para elaborar proyectos de ley, planes de desarrollo o cualquier tipo de análisis, recomendaciones, informes y otros documentos que puedan elaborarse con el trabajo y la capacidad profesional de los servidores públicos.\n",
      "54. Se descentralizará el gobierno federal y las secretarías van a estar ubicadas en distintos estados de la república, porque todo el país es México. Este proceso se llevará a cabo de manera voluntaria, sin afectar a los trabajadores al servicio del Estado; por el contrario, tendrán oportunidades para la adquisición de viviendas, educación para sus hijos, atención médica y seguridad social.\n",
      "55. Habrá un auténtico estado de derecho. A nadie le estará permitido violar la Constitución y las leyes, y no habrá impunidad, fueros ni privilegios.\n",
      "56. Se acabará la impunidad; se reformará el Artículo 108 de la Constitución para juzgar al Presidente en funciones por cualquier delito que cometa, igual que a cualquier ciudadano.\n",
      "57. Estará prohibido y se convertirá en delito grave, sin derecho a fianza, la corrupción, el robo de combustible, la portación ilegal de armas de fuego, la falsificación de facturas para la evasión fiscal, el fraude electoral, la compra de votos y el uso de presupuesto para favorecer a candidatos y partidos.\n",
      "58. No habrá partidas en el presupuesto a disposición de diputados o senadores. Se acabará la vergonzosa práctica de los llamados “moches”.\n",
      "59. Ningún funcionario público podrá recibir regalos cuyo valor exceda los 5 mil pesos.\n",
      "60. En las relaciones comerciales o financieras con empresas internacionales se dará preferencia a aquellas originarias de países cuyos gobiernos se caractericen por su honestidad y castiguen sin tolerancia alguna las prácticas de sobornos o de corrupción.\n",
      "61. Desde hoy están abiertas las puertas de Los Pinos, que ha dejado de ser la residencia oficial del presidente para convertirse en un espacio dedicado a la recreación, el arte y la cultura del pueblo.\n",
      "62. Ya el Estado Mayor presidencial pasó a formar parte de la Secretaría de la Defensa; de la misma manera desaparece el CISEN. No habrá espionaje a opositores ni a ciudadanos y la oficina sucesora tendrá como única encomienda hacer labores de inteligencia para garantizar la paz y preservar la seguridad nacional.\n",
      "63. Está en venta el avión presidencial y toda la flotilla de aviones y helicópteros que eran utilizados para el traslado de altos funcionarios públicos.\n",
      "64. Ya no recibirán pensión los expresidentes, ni tendrán a su servicio funcionarios púbicos sean civiles o militares.\n",
      "65. No habrá inspectores de vía pública para estar supervisando a establecimientos comerciales, empresariales o de servicios. Vamos a confiar en los ciudadanos y se implementará un programa de vigilancia por sorteo. Se evitará el soborno o la mordida;  otorgaremos confianza a los ciudadanos, quienes bajo protesta de decir verdad actuarán con rectitud y cumplirán con sus responsabilidades.\n",
      "66. Reiteramos: no estamos en contra de quienes invierten generan empleos y se comprometen con el desarrollo de México, sino de la riqueza mal habida.\n",
      "67. Se fomentará el turismo para impulsar el desarrollo y crear empleos; también, desde este mes, iniciará un programa de mejoramiento urbano en las colonias marginadas de cinco centros turísticos: Los Cabos, Puerto Vallarta, Bahía de Banderas, Acapulco y Solidaridad.\n",
      "68. Se construirá el Tren Maya para comunicar por este medio de transporte rápido y moderno a turistas y pasajeros nacionales en los estados de Chiapas, Tabasco, Campeche, Yucatán y Quintana Roo.\n",
      "69. Se creará un corredor económico y comercial en el Istmo de Tehuantepec que comunicará Asia y la costa este de EU. Se construirá una vía ferroviaria para contenedores; se ampliará la carretera; se rehabilitarán los puertos de Salina Cruz y Coatzacoalcos; se aprovecharán petróleo, gas, agua, viento y electricidad de la región; se instalarán plantas de ensamblaje y manufactureras, y habrá subsidios fiscales para promover la inversión y crear empleos.\n",
      "70. Vamos a destinar mayor inversión pública para producir con urgencia más petróleo, gas y energía eléctrica y así enfrentar la crisis que dejaron los políticos neoliberales y los responsables de la llamada reforma energética. Llamo a los técnicos y obreros petroleros, en activo o jubilados, para actuar con patriotismo como se hizo en los tiempos del general Lázaro Cárdenas, y a que volvamos a rescatar la industria petrolera nacional.\n",
      "71. Se rehabilitarán las seis refinerías existentes y se iniciará, en unos días más, la construcción de una nueva refinería en Dos Bocas, Paraíso, Tabasco, para lograr que en tres años se produzca en México toda la gasolina que consumimos.\n",
      "72. Se detendrá el plan de desmantelamiento de la Comisión Federal de Electricidad; ni una planta más será cerrada, por el contrario, se modernizarán las existentes y se le dará atención especial a las hidroeléctricas para producir más energía limpia y de menor costo.\n",
      "73. Impulsaremos el desarrollo de fuentes de energía alternativas renovables, como la eólica, la solar, la geotérmica y la mareomotriz.\n",
      "74. Protegeremos la diversidad biológica y cultural de México. Impulsaremos prácticas agroecológicas que aumenten la productividad sin dañar a la naturaleza. No se permitirá la introducción y el uso de semillas transgénicas.\n",
      "75. No usaremos métodos de extracción de materias primas que afecten la naturaleza y agoten las vertientes de agua como el fracking.\n",
      "76. No se permitirá ningún proyecto económico, productivo, comercial o turístico que afecte el medio ambiente. Se evitará la contaminación del suelo, agua y aire y se protegerá la flora y la fauna. No se privatizará el agua.\n",
      "77. Habrá cobertura universal en telecomunicaciones y se conectará al país con internet utilizando la infraestructura y las líneas de la Comisión Federal de Electricidad. Este servicio será gratuito en carreteras, plazas, escuelas, hospitales e instalaciones públicas.\n",
      "78. En tres años quedará solucionado en definitiva el problema de la saturación del actual aeropuerto de la Ciudad de México; para entonces ya estarán funcionando las vialidades, dos pistas nuevas y la terminal de pasajeros en la base aérea de Santa Lucía, con lo cual se salvará el Lago de Texcoco y nos habremos ahorrado 100 mil millones de pesos.\n",
      "79.Desde el 1 de enero se creará la zona libre en los 3 mil 180 kilómetros de frontera con Estados Unidos; es decir, el año entrante en esa franja de nuestro país se impulsarán actividades productivas, se promoverá la inversión, se crearán empleos, bajará el IVA del 16 al 8 por ciento y el Impuesto Sobre la Renta será del 20 por ciento. Costarán lo mismo los combustibles de este y de aquel lado de frontera y aumentará al doble el salario mínimo.\n",
      "80. El salario mínimo nunca se fijará por debajo de la inflación, como llegó a suceder en el periodo neoliberal.\n",
      "81. Se reformará el Artículo 35 de la Constitución para quitar todos los obstáculos y candados en la celebración de consultas ciudadanas, a fin de que el pueblo tenga siempre el derecho a  participar en las decisiones de interés público.\n",
      "82. Cumpliré el compromiso de someterme a la revocación del mandato; el primer domingo de julio de 2021, habrá una consulta para preguntarle a los mexicanos si continúo en la presidencia o si renuncio, porque como lo creo y lo he dicho muchas veces, el pueblo pone y el pueblo quita, el pueblo es soberano.\n",
      "83. No habrá divorcio entre el poder y el pueblo, nunca perderé la comunicación con ustedes, con la gente; estaré cinco  días a la semana  en municipios y estados del país recogiendo los sentimientos del pueblo y resolviendo problemas y evaluando el avance de los programas de desarrollo y bienestar.\n",
      "84. Todos los días, a partir del lunes próximo, desde las 6 de la mañana encabezaré en el Palacio Nacional, la reunión del Gabinete de Seguridad para garantizar la paz y la tranquilidad a los mexicanos.\n",
      "85. Se creará, si lo aprueban el pueblo y el Congreso, una Guardia Nacional para garantizar la seguridad pública en el país.\n",
      "86. Se van a constituir 266 coordinaciones de seguridad pública en todo el país atendidas por la guardia nacional para proteger a los ciudadanos que son víctimas de asesinatos, secuestros, robos y otros delitos.\n",
      "87. El presidente de la República, de conformidad con la ley, es el Comandante Supremo de las Fuerzas Armadas, y nunca dará la orden de que el Ejército o la Marina masacren al pueblo. Se acabará la guerra; construiremos la paz y buscaremos la hermandad entre todos los mexicanos.\n",
      "88. Hoy inició el proceso de amnistía para dejar en libertad a presos políticos o víctimas de represalias de caciques, funcionarios o gobernantes del antiguo régimen autoritario. Se cancelarán las acusaciones penales fabricadas en contra de activistas y luchadores sociales. La Secretaría de Gobernación tiene a su cargo hacer realidad esta determinación.\n",
      "89. Se investigará a fondo la desaparición de los jóvenes de Ayotzinapa; se conocerá la verdad y se castigará a los responsables.\n",
      "90. Se respetará la libertad de expresión; nunca el gobierno aplicará censura a ningún periodista o medio de comunicación.\n",
      "91. La Fiscalía General contará, en los hechos, con absoluta autonomía; no recibirá consigna del Presidente de la República y sus prácticas se apegarán al principio del derecho liberal, según el cual, “al margen de la ley, nada y por encima de la ley, nadie”.\n",
      "92. Mantendremos relaciones  respetuosas con el Poder Legislativo y con el Poder Judicial y el Poder Ejecutivo dejará de ser el poder de los poderes.\n",
      "93. Desde anoche entró en vigor el Plan de Protección Civil; el ABC para los casos de inundaciones, incendios, temblores y otros desastres.\n",
      "94. La política exterior se sustentará en la cautela diplomática y en los principios de autodeterminación de los pueblos, no intervención, solución pacífica de controversias, igualdad jurídica de los estados, cooperación para el desarrollo, la amistad, la paz, la defensa de los derechos humanos, la protección del medio ambiente y el respeto a los derechos de los migrantes; los nuestros, los centroamericanos y los de todos los países y continentes.\n",
      "95. La relación con el gobierno de Estados Unidos será de respeto, beneficio mutuo y buena vecindad. Es momento de cambiar la relación bilateral hacia la cooperación para el desarrollo. Crear empleos en México y en Centroamérica es la alternativa a la migración, no las medidas coercitivas.\n",
      "96. Como nos comprometimos, los 50 consulados que México tiene en Estado Unidos se van a convertir en defensorías para la defensa de migrantes. Vamos a defender los derechos humanos de nuestros paisanos.\n",
      "97. Se logrará el renacimiento de México haciendo realidad el progreso con justicia y una manera de vivir sustentada en el amor a la familia, al prójimo, a la naturaleza, a la patria y a la humanidad. Promoveremos el bienestar material y el bienestar del alma.\n",
      "98. Se garantizará la libre manifestación de ideas y de creencias religiosas y la libertad de prensa. Estamos por el diálogo, la tolerancia, la diversidad y el respeto a los derechos humanos.\n",
      "99. Vamos a convocar a maestros, antropólogos, psicólogos, sociólogos, filósofos y profesionales de otras disciplinas, así como a religiosos, librepensadores, ancianos respetables y ciudadanos en general para la celebración de un congreso en el cual se elabore una Constitución Moral, que ayude a fortalecer valores nacionales, culturales y espirituales.\n",
      "100.Asimismo, vamos a preservar nuestra memoria histórica. Se promoverá la lectura en general y particularmente de la historia, el civismo, la ética; nunca se olvidará de dónde venimos; por eso se exaltarán nuestras culturas originarias, las transformaciones históricas y el sacrificio de nuestros héroes; por ejemplo, el año próximo que se cumplen 100 años del asesinato de Emiliano Zapata, en toda la papelería del gobierno se recordará su nombre y su lema  “Tierra y Libertad”.\n",
      "Amigas y amigos:\n",
      "Les invito a que ayudemos todos convertir en realidad estos compromisos y que cada año, aquí en el Zócalo, los repasemos uno por uno y podamos saber si ya se han cumplido o siguen pendientes.\n",
      "Discutamos  en todas las plazas públicas de México si avanzamos o no, con el propósito de que haya transparencia y acabar con la corrupción y la impunidad. Analicemos en las casas, calles y plazas si mejora o empeora la situación económica y social de nuestro pueblo y tomemos siempre entre todos los acuerdos que más convengan a la sociedad y a la nación.\n",
      "No dejemos de encontrarnos: mantengamos siempre la comunicación. No habrá divorcio entre pueblo y gobierno. Yo les necesito, porque como decía Juárez “con el pueblo todo, sin el pueblo nada”. No me dejen solo porque sin ustedes no valgo nada o casi nada; sin ustedes, los conservadores me avasallarían fácilmente. Yo les pido apoyo, porque reitero el compromiso de no fallarles; primero muerto que traicionarles.\n",
      "Pero por encima de todo, actuemos con optimismo y alegría porque tenemos la dicha enorme de vivir tiempos interesantes; estamos ante un momento estelar de la historia porque entre todos empezamos a construir la  justicia y la felicidad que nuestro pueblo se merece y una nueva vida a nuestra gran nación.\n",
      "¡Viva México!\n",
      "¡Viva México!\n",
      "¡Viva México!\n",
      "Zócalo de la Ciudad de México, 1 de diciembre, 2018\n",
      " \n",
      " \n",
      " \n",
      " \n",
      " \n",
      "Puedes seleccionar más de uno.\n",
      "Puedes seleccionar más de una opción.\n",
      "Gracias por tu opinión.\n",
      "\n",
      "          La legalidad, veracidad y la calidad de la información es estricta responsabilidad de la dependencia, entidad o empresa productiva del Estado que la proporcionó en virtud de sus atribuciones y/o facultades normativas.\n",
      "        \n",
      "Es el portal único de trámites, información y participación ciudadana.  Leer más \n"
     ]
    }
   ],
   "source": [
    "# parsing the html file\n",
    "htmlParse = BeautifulSoup(txt, 'html.parser')\n",
    "  \n",
    "corpus=[]\n",
    "# getting all the paragraphs\n",
    "for para in htmlParse.find_all(\"p\"):\n",
    "    print(para.get_text())\n",
    "    corpus.extend(para)"
   ]
  },
  {
   "cell_type": "code",
   "execution_count": 4,
   "id": "398dd285",
   "metadata": {},
   "outputs": [],
   "source": [
    "pattern = r'''(?x)                 # set flag to allow verbose regexps\n",
    "              (?:[A-Z]\\.)+         # abbreviations, e.g. U.S.A.\n",
    "              | \\w+(?:-\\w+)*       # words with optional internal hyphens\n",
    "              | \\$?\\d+(?:\\.\\d+)?%? # currency and percentages, e.g. $12.40, 82%\n",
    "              | \\.\\.\\.             # ellipsis\n",
    "              | [][.,;\"'?():-_`]   # these are separate tokens; includes ], [\n",
    "'''"
   ]
  },
  {
   "cell_type": "code",
   "execution_count": 5,
   "id": "803f6792",
   "metadata": {},
   "outputs": [],
   "source": [
    "flatten=[]\n",
    "for s in corpus:\n",
    "    try:\n",
    "        flatten.extend(nltk.regexp_tokenize(s, pattern))\n",
    "    except:\n",
    "        continue"
   ]
  },
  {
   "cell_type": "code",
   "execution_count": 6,
   "id": "6af765cc",
   "metadata": {},
   "outputs": [
    {
     "data": {
      "text/plain": [
       "0.347816545973228"
      ]
     },
     "execution_count": 6,
     "metadata": {},
     "output_type": "execute_result"
    }
   ],
   "source": [
    "# luego definimos la medida de riqueza léxica:\n",
    "rl = len(set(flatten))/len(flatten)\n",
    "rl"
   ]
  },
  {
   "cell_type": "code",
   "execution_count": 7,
   "id": "70460844",
   "metadata": {},
   "outputs": [
    {
     "data": {
      "text/plain": [
       "0.10972130787798991"
      ]
     },
     "execution_count": 7,
     "metadata": {},
     "output_type": "execute_result"
    }
   ],
   "source": [
    "# podemos definir funciones en python para estas medidas léxicas:\n",
    "def riqueza_lexica(texto):\n",
    "    return len(set(texto))/len(texto)\n",
    "\n",
    "def porcentaje_palabra(palabra, texto):\n",
    "    return 100*texto.count(palabra)/len(texto)\n",
    "\n",
    "# podemos calcular el porcentaje de texto que ocupa una palabra en una cadena larga de texto.\n",
    "porcentaje_palabra('corrupción', flatten)"
   ]
  },
  {
   "cell_type": "code",
   "execution_count": 8,
   "id": "a2df8f73",
   "metadata": {},
   "outputs": [],
   "source": [
    "#Palabras\n",
    "palabras={}\n",
    "\n",
    "def word_count(dic,string):\n",
    "    string=string.replace('.','')\n",
    "    words=string.split()\n",
    "    for word in words:\n",
    "        if word in dic.keys():\n",
    "            dic[word]+=1\n",
    "        else:\n",
    "            dic[word]=1\n",
    "    return dic"
   ]
  },
  {
   "cell_type": "code",
   "execution_count": 9,
   "id": "13b72548",
   "metadata": {},
   "outputs": [
    {
     "data": {
      "text/plain": [
       "[('de', 271),\n",
       " ('.', 256),\n",
       " (',', 244),\n",
       " ('y', 188),\n",
       " ('la', 175),\n",
       " ('el', 123),\n",
       " ('a', 97),\n",
       " ('en', 95),\n",
       " ('los', 88),\n",
       " ('se', 68),\n",
       " ('para', 54),\n",
       " ('del', 51),\n",
       " ('que', 44),\n",
       " ('Se', 43),\n",
       " (';', 41),\n",
       " ('con', 40),\n",
       " ('las', 37),\n",
       " ('o', 36),\n",
       " ('por', 28),\n",
       " ('no', 23)]"
      ]
     },
     "execution_count": 9,
     "metadata": {},
     "output_type": "execute_result"
    }
   ],
   "source": [
    "# NLTK tiene un metodo muy eficiente\n",
    "fdist = nltk.FreqDist(flatten)\n",
    "\n",
    "fdist.most_common(20)"
   ]
  },
  {
   "cell_type": "code",
   "execution_count": 10,
   "id": "458b8c08",
   "metadata": {},
   "outputs": [
    {
     "name": "stderr",
     "output_type": "stream",
     "text": [
      "[nltk_data] Downloading package stopwords to\n",
      "[nltk_data]     /Users/rafaeldavila/nltk_data...\n",
      "[nltk_data]   Package stopwords is already up-to-date!\n"
     ]
    }
   ],
   "source": [
    "#Download and import list of stopwords\n",
    "\n",
    "nltk.download(\"stopwords\")\n",
    "from nltk.corpus import stopwords\n",
    "\n",
    "#list of stopwords\n",
    "stopwords_list = stopwords.words(\"spanish\")"
   ]
  },
  {
   "cell_type": "code",
   "execution_count": 11,
   "id": "6b773a30",
   "metadata": {},
   "outputs": [],
   "source": [
    "stopwords_list.extend(['2016',\n",
    "                       '2017',\n",
    "                       '2018',\n",
    "                       '2019',\n",
    "                       '2020',\n",
    "                       '2021',\n",
    "                       'enero',\n",
    "                      'febrero',\n",
    "                      'marzo',\n",
    "                      'abril',\n",
    "                      'mayo',\n",
    "                      'junio',\n",
    "                      'julio',\n",
    "                       'agosto',\n",
    "                      'septiembre',\n",
    "                       'octubre',\n",
    "                      'noviembre',\n",
    "                      'diciembre'\n",
    "                      ])"
   ]
  },
  {
   "cell_type": "code",
   "execution_count": 12,
   "id": "5cff3714",
   "metadata": {},
   "outputs": [],
   "source": [
    "import pandas as pd\n",
    "palabra=fdist.keys()\n",
    "pcount=fdist.values()\n",
    "\n",
    "wcount=pd.DataFrame({'palabra':palabra,'pcount':pcount})"
   ]
  },
  {
   "cell_type": "code",
   "execution_count": 13,
   "id": "51c74a96",
   "metadata": {},
   "outputs": [
    {
     "data": {
      "text/plain": [
       "1585"
      ]
     },
     "execution_count": 13,
     "metadata": {},
     "output_type": "execute_result"
    }
   ],
   "source": [
    "len(palabra)"
   ]
  },
  {
   "cell_type": "code",
   "execution_count": null,
   "id": "d24b5cce",
   "metadata": {},
   "outputs": [],
   "source": [
    "wcount=wcount.loc[([len(word)>3 and word not in stopwords_list for word in wcount['palabra']])]\n",
    "wcount=wcount.reset_index(drop=True)\n",
    "clean_words_string=\"\"\n",
    "for i in list(range(len(wcount.palabra))):\n",
    "    clean_words_string=clean_words_string+((wcount.palabra[i]+' ')*wcount.pcount[i])"
   ]
  },
  {
   "cell_type": "code",
   "execution_count": null,
   "id": "0bed3260",
   "metadata": {},
   "outputs": [],
   "source": [
    "wcount.shape"
   ]
  },
  {
   "cell_type": "code",
   "execution_count": null,
   "id": "07407622",
   "metadata": {},
   "outputs": [],
   "source": [
    "wcount.sort_values('pcount',ascending=False).reset_index(drop=True).loc[:30,:]"
   ]
  },
  {
   "cell_type": "code",
   "execution_count": null,
   "id": "1ea24711",
   "metadata": {},
   "outputs": [],
   "source": [
    "from wordcloud import WordCloud\n",
    "import matplotlib.pyplot as plt"
   ]
  },
  {
   "cell_type": "code",
   "execution_count": null,
   "id": "0b517ef5",
   "metadata": {},
   "outputs": [],
   "source": [
    "#generating the wordcloud\n",
    "#wordcloud = WordCloud(background_color=\"white\",  collocations=False).generate(clean_words_string)\n",
    "\n",
    "#plot the wordcloud\n",
    "#plt.figure(figsize = (15, 15))\n",
    "#plt.imshow(wordcloud)\n",
    "\n",
    "#to remove the axis value\n",
    "#plt.axis(\"off\")\n",
    "#plt.show()"
   ]
  },
  {
   "cell_type": "code",
   "execution_count": 16,
   "id": "03c8b2b2",
   "metadata": {},
   "outputs": [
    {
     "ename": "NameError",
     "evalue": "name 'bigrams' is not defined",
     "output_type": "error",
     "traceback": [
      "\u001b[0;31m---------------------------------------------------------------------------\u001b[0m",
      "\u001b[0;31mNameError\u001b[0m                                 Traceback (most recent call last)",
      "Cell \u001b[0;32mIn[16], line 1\u001b[0m\n\u001b[0;32m----> 1\u001b[0m md_bigrams \u001b[38;5;241m=\u001b[39m \u001b[38;5;28mlist\u001b[39m(\u001b[43mbigrams\u001b[49m(flatten))\n\u001b[1;32m      2\u001b[0m fdist \u001b[38;5;241m=\u001b[39m FreqDist(md_bigrams)\n\u001b[1;32m      3\u001b[0m md_bigrams[:\u001b[38;5;241m10\u001b[39m]\n",
      "\u001b[0;31mNameError\u001b[0m: name 'bigrams' is not defined"
     ]
    }
   ],
   "source": [
    "\n",
    "md_bigrams = list(bigrams(flatten))\n",
    "fdist = FreqDist(md_bigrams)\n",
    "md_bigrams[:10]"
   ]
  }
 ],
 "metadata": {
  "kernelspec": {
   "display_name": "Python 3 (ipykernel)",
   "language": "python",
   "name": "python3"
  },
  "language_info": {
   "codemirror_mode": {
    "name": "ipython",
    "version": 3
   },
   "file_extension": ".py",
   "mimetype": "text/x-python",
   "name": "python",
   "nbconvert_exporter": "python",
   "pygments_lexer": "ipython3",
   "version": "3.11.2"
  }
 },
 "nbformat": 4,
 "nbformat_minor": 5
}
