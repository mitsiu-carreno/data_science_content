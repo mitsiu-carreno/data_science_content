{
 "cells": [
  {
   "cell_type": "markdown",
   "metadata": {
    "id": "tRHyN7N81xCS"
   },
   "source": [
    "<font color=\"green\">*To start working on this notebook, or any other notebook that we will use in the Moringa Data Science Course, we will need to save our own copy of it. We can do this by clicking File > Save a Copy in Drive. We will then be able to make edits to our own copy of this notebook.*</font> \n",
    "\n"
   ]
  },
  {
   "cell_type": "markdown",
   "metadata": {
    "id": "_brgSPnC2ClB"
   },
   "source": [
    "# SQL Programming - Getting Started with Databases"
   ]
  },
  {
   "cell_type": "markdown",
   "metadata": {},
   "source": [
    "# IMPORTANT -- USE COLAB OR SEE --\n",
    "https://www.anaconda.com/blog/anaconda-easy-button-microsoft-sql-server-and-python"
   ]
  },
  {
   "cell_type": "markdown",
   "metadata": {
    "id": "_D8JbTh02GDA"
   },
   "source": [
    "## 1.1 Overview "
   ]
  },
  {
   "cell_type": "markdown",
   "metadata": {
    "id": "ueOY-njw3bzC"
   },
   "source": [
    "Structured Query Language (SQL) is the language that is used to store, manipulate and retrieve data from many databases. It is the standard language for many relational database management systems which are a type of databases used by organisations across the world. These type of relational database management systems are used to store data in tables and examples of such include SQLite, MySQL, Postgres, Oracle etc. \n",
    "\n",
    "During the Moringa DataScience Prep, we will learn about SQL since as Data Scientists, we may be required to interact with this data through the use of SQL.\n",
    "\n",
    "In this notebook, we will use SQL to learn how tables in databases are created. More specifically, we will learn how the structure of tables is defined which is critical in determining the quality of data. The better the structure, the easier it becomes to clean data."
   ]
  },
  {
   "cell_type": "markdown",
   "metadata": {
    "id": "D6BU_C0d3dMo"
   },
   "source": [
    "## 1.2 Connecting to our Database"
   ]
  },
  {
   "cell_type": "markdown",
   "metadata": {
    "id": "7JK1sBqVKNUm"
   },
   "source": []
  },
  {
   "cell_type": "code",
   "execution_count": 1,
   "metadata": {
    "colab": {
     "base_uri": "https://localhost:8080/",
     "height": 34
    },
    "id": "PDk968tq3v43",
    "outputId": "707d8283-cc86-4ddc-ae18-fbd1ba5b559c"
   },
   "outputs": [
    {
     "ename": "ModuleNotFoundError",
     "evalue": "No module named 'sql'",
     "output_type": "error",
     "traceback": [
      "\u001b[0;31m---------------------------------------------------------------------------\u001b[0m",
      "\u001b[0;31mModuleNotFoundError\u001b[0m                       Traceback (most recent call last)",
      "\u001b[0;32m/tmp/ipykernel_780/1580316272.py\u001b[0m in \u001b[0;36m<module>\u001b[0;34m\u001b[0m\n\u001b[1;32m      2\u001b[0m \u001b[0;31m# This extension will allow us to work with sql on Colaboratory\u001b[0m\u001b[0;34m\u001b[0m\u001b[0;34m\u001b[0m\u001b[0m\n\u001b[1;32m      3\u001b[0m \u001b[0;31m#\u001b[0m\u001b[0;34m\u001b[0m\u001b[0;34m\u001b[0m\u001b[0m\n\u001b[0;32m----> 4\u001b[0;31m \u001b[0mget_ipython\u001b[0m\u001b[0;34m(\u001b[0m\u001b[0;34m)\u001b[0m\u001b[0;34m.\u001b[0m\u001b[0mrun_line_magic\u001b[0m\u001b[0;34m(\u001b[0m\u001b[0;34m'load_ext'\u001b[0m\u001b[0;34m,\u001b[0m \u001b[0;34m'sql'\u001b[0m\u001b[0;34m)\u001b[0m\u001b[0;34m\u001b[0m\u001b[0;34m\u001b[0m\u001b[0m\n\u001b[0m\u001b[1;32m      5\u001b[0m \u001b[0;34m\u001b[0m\u001b[0m\n\u001b[1;32m      6\u001b[0m \u001b[0;31m# We will then connect to our in memory sqlite database\u001b[0m\u001b[0;34m\u001b[0m\u001b[0;34m\u001b[0m\u001b[0m\n",
      "\u001b[0;32m~/anaconda3/lib/python3.9/site-packages/IPython/core/interactiveshell.py\u001b[0m in \u001b[0;36mrun_line_magic\u001b[0;34m(self, magic_name, line, _stack_depth)\u001b[0m\n\u001b[1;32m   2362\u001b[0m                 \u001b[0mkwargs\u001b[0m\u001b[0;34m[\u001b[0m\u001b[0;34m'local_ns'\u001b[0m\u001b[0;34m]\u001b[0m \u001b[0;34m=\u001b[0m \u001b[0mself\u001b[0m\u001b[0;34m.\u001b[0m\u001b[0mget_local_scope\u001b[0m\u001b[0;34m(\u001b[0m\u001b[0mstack_depth\u001b[0m\u001b[0;34m)\u001b[0m\u001b[0;34m\u001b[0m\u001b[0;34m\u001b[0m\u001b[0m\n\u001b[1;32m   2363\u001b[0m             \u001b[0;32mwith\u001b[0m \u001b[0mself\u001b[0m\u001b[0;34m.\u001b[0m\u001b[0mbuiltin_trap\u001b[0m\u001b[0;34m:\u001b[0m\u001b[0;34m\u001b[0m\u001b[0;34m\u001b[0m\u001b[0m\n\u001b[0;32m-> 2364\u001b[0;31m                 \u001b[0mresult\u001b[0m \u001b[0;34m=\u001b[0m \u001b[0mfn\u001b[0m\u001b[0;34m(\u001b[0m\u001b[0;34m*\u001b[0m\u001b[0margs\u001b[0m\u001b[0;34m,\u001b[0m \u001b[0;34m**\u001b[0m\u001b[0mkwargs\u001b[0m\u001b[0;34m)\u001b[0m\u001b[0;34m\u001b[0m\u001b[0;34m\u001b[0m\u001b[0m\n\u001b[0m\u001b[1;32m   2365\u001b[0m             \u001b[0;32mreturn\u001b[0m \u001b[0mresult\u001b[0m\u001b[0;34m\u001b[0m\u001b[0;34m\u001b[0m\u001b[0m\n\u001b[1;32m   2366\u001b[0m \u001b[0;34m\u001b[0m\u001b[0m\n",
      "\u001b[0;32m~/anaconda3/lib/python3.9/site-packages/decorator.py\u001b[0m in \u001b[0;36mfun\u001b[0;34m(*args, **kw)\u001b[0m\n\u001b[1;32m    230\u001b[0m             \u001b[0;32mif\u001b[0m \u001b[0;32mnot\u001b[0m \u001b[0mkwsyntax\u001b[0m\u001b[0;34m:\u001b[0m\u001b[0;34m\u001b[0m\u001b[0;34m\u001b[0m\u001b[0m\n\u001b[1;32m    231\u001b[0m                 \u001b[0margs\u001b[0m\u001b[0;34m,\u001b[0m \u001b[0mkw\u001b[0m \u001b[0;34m=\u001b[0m \u001b[0mfix\u001b[0m\u001b[0;34m(\u001b[0m\u001b[0margs\u001b[0m\u001b[0;34m,\u001b[0m \u001b[0mkw\u001b[0m\u001b[0;34m,\u001b[0m \u001b[0msig\u001b[0m\u001b[0;34m)\u001b[0m\u001b[0;34m\u001b[0m\u001b[0;34m\u001b[0m\u001b[0m\n\u001b[0;32m--> 232\u001b[0;31m             \u001b[0;32mreturn\u001b[0m \u001b[0mcaller\u001b[0m\u001b[0;34m(\u001b[0m\u001b[0mfunc\u001b[0m\u001b[0;34m,\u001b[0m \u001b[0;34m*\u001b[0m\u001b[0;34m(\u001b[0m\u001b[0mextras\u001b[0m \u001b[0;34m+\u001b[0m \u001b[0margs\u001b[0m\u001b[0;34m)\u001b[0m\u001b[0;34m,\u001b[0m \u001b[0;34m**\u001b[0m\u001b[0mkw\u001b[0m\u001b[0;34m)\u001b[0m\u001b[0;34m\u001b[0m\u001b[0;34m\u001b[0m\u001b[0m\n\u001b[0m\u001b[1;32m    233\u001b[0m     \u001b[0mfun\u001b[0m\u001b[0;34m.\u001b[0m\u001b[0m__name__\u001b[0m \u001b[0;34m=\u001b[0m \u001b[0mfunc\u001b[0m\u001b[0;34m.\u001b[0m\u001b[0m__name__\u001b[0m\u001b[0;34m\u001b[0m\u001b[0;34m\u001b[0m\u001b[0m\n\u001b[1;32m    234\u001b[0m     \u001b[0mfun\u001b[0m\u001b[0;34m.\u001b[0m\u001b[0m__doc__\u001b[0m \u001b[0;34m=\u001b[0m \u001b[0mfunc\u001b[0m\u001b[0;34m.\u001b[0m\u001b[0m__doc__\u001b[0m\u001b[0;34m\u001b[0m\u001b[0;34m\u001b[0m\u001b[0m\n",
      "\u001b[0;32m~/anaconda3/lib/python3.9/site-packages/IPython/core/magic.py\u001b[0m in \u001b[0;36m<lambda>\u001b[0;34m(f, *a, **k)\u001b[0m\n\u001b[1;32m    185\u001b[0m     \u001b[0;31m# but it's overkill for just that one bit of state.\u001b[0m\u001b[0;34m\u001b[0m\u001b[0;34m\u001b[0m\u001b[0m\n\u001b[1;32m    186\u001b[0m     \u001b[0;32mdef\u001b[0m \u001b[0mmagic_deco\u001b[0m\u001b[0;34m(\u001b[0m\u001b[0marg\u001b[0m\u001b[0;34m)\u001b[0m\u001b[0;34m:\u001b[0m\u001b[0;34m\u001b[0m\u001b[0;34m\u001b[0m\u001b[0m\n\u001b[0;32m--> 187\u001b[0;31m         \u001b[0mcall\u001b[0m \u001b[0;34m=\u001b[0m \u001b[0;32mlambda\u001b[0m \u001b[0mf\u001b[0m\u001b[0;34m,\u001b[0m \u001b[0;34m*\u001b[0m\u001b[0ma\u001b[0m\u001b[0;34m,\u001b[0m \u001b[0;34m**\u001b[0m\u001b[0mk\u001b[0m\u001b[0;34m:\u001b[0m \u001b[0mf\u001b[0m\u001b[0;34m(\u001b[0m\u001b[0;34m*\u001b[0m\u001b[0ma\u001b[0m\u001b[0;34m,\u001b[0m \u001b[0;34m**\u001b[0m\u001b[0mk\u001b[0m\u001b[0;34m)\u001b[0m\u001b[0;34m\u001b[0m\u001b[0;34m\u001b[0m\u001b[0m\n\u001b[0m\u001b[1;32m    188\u001b[0m \u001b[0;34m\u001b[0m\u001b[0m\n\u001b[1;32m    189\u001b[0m         \u001b[0;32mif\u001b[0m \u001b[0mcallable\u001b[0m\u001b[0;34m(\u001b[0m\u001b[0marg\u001b[0m\u001b[0;34m)\u001b[0m\u001b[0;34m:\u001b[0m\u001b[0;34m\u001b[0m\u001b[0;34m\u001b[0m\u001b[0m\n",
      "\u001b[0;32m~/anaconda3/lib/python3.9/site-packages/IPython/core/magics/extension.py\u001b[0m in \u001b[0;36mload_ext\u001b[0;34m(self, module_str)\u001b[0m\n\u001b[1;32m     31\u001b[0m         \u001b[0;32mif\u001b[0m \u001b[0;32mnot\u001b[0m \u001b[0mmodule_str\u001b[0m\u001b[0;34m:\u001b[0m\u001b[0;34m\u001b[0m\u001b[0;34m\u001b[0m\u001b[0m\n\u001b[1;32m     32\u001b[0m             \u001b[0;32mraise\u001b[0m \u001b[0mUsageError\u001b[0m\u001b[0;34m(\u001b[0m\u001b[0;34m'Missing module name.'\u001b[0m\u001b[0;34m)\u001b[0m\u001b[0;34m\u001b[0m\u001b[0;34m\u001b[0m\u001b[0m\n\u001b[0;32m---> 33\u001b[0;31m         \u001b[0mres\u001b[0m \u001b[0;34m=\u001b[0m \u001b[0mself\u001b[0m\u001b[0;34m.\u001b[0m\u001b[0mshell\u001b[0m\u001b[0;34m.\u001b[0m\u001b[0mextension_manager\u001b[0m\u001b[0;34m.\u001b[0m\u001b[0mload_extension\u001b[0m\u001b[0;34m(\u001b[0m\u001b[0mmodule_str\u001b[0m\u001b[0;34m)\u001b[0m\u001b[0;34m\u001b[0m\u001b[0;34m\u001b[0m\u001b[0m\n\u001b[0m\u001b[1;32m     34\u001b[0m \u001b[0;34m\u001b[0m\u001b[0m\n\u001b[1;32m     35\u001b[0m         \u001b[0;32mif\u001b[0m \u001b[0mres\u001b[0m \u001b[0;34m==\u001b[0m \u001b[0;34m'already loaded'\u001b[0m\u001b[0;34m:\u001b[0m\u001b[0;34m\u001b[0m\u001b[0;34m\u001b[0m\u001b[0m\n",
      "\u001b[0;32m~/anaconda3/lib/python3.9/site-packages/IPython/core/extensions.py\u001b[0m in \u001b[0;36mload_extension\u001b[0;34m(self, module_str)\u001b[0m\n\u001b[1;32m     78\u001b[0m             \u001b[0;32mif\u001b[0m \u001b[0mmodule_str\u001b[0m \u001b[0;32mnot\u001b[0m \u001b[0;32min\u001b[0m \u001b[0msys\u001b[0m\u001b[0;34m.\u001b[0m\u001b[0mmodules\u001b[0m\u001b[0;34m:\u001b[0m\u001b[0;34m\u001b[0m\u001b[0;34m\u001b[0m\u001b[0m\n\u001b[1;32m     79\u001b[0m                 \u001b[0;32mwith\u001b[0m \u001b[0mprepended_to_syspath\u001b[0m\u001b[0;34m(\u001b[0m\u001b[0mself\u001b[0m\u001b[0;34m.\u001b[0m\u001b[0mipython_extension_dir\u001b[0m\u001b[0;34m)\u001b[0m\u001b[0;34m:\u001b[0m\u001b[0;34m\u001b[0m\u001b[0;34m\u001b[0m\u001b[0m\n\u001b[0;32m---> 80\u001b[0;31m                     \u001b[0mmod\u001b[0m \u001b[0;34m=\u001b[0m \u001b[0mimport_module\u001b[0m\u001b[0;34m(\u001b[0m\u001b[0mmodule_str\u001b[0m\u001b[0;34m)\u001b[0m\u001b[0;34m\u001b[0m\u001b[0;34m\u001b[0m\u001b[0m\n\u001b[0m\u001b[1;32m     81\u001b[0m                     \u001b[0;32mif\u001b[0m \u001b[0mmod\u001b[0m\u001b[0;34m.\u001b[0m\u001b[0m__file__\u001b[0m\u001b[0;34m.\u001b[0m\u001b[0mstartswith\u001b[0m\u001b[0;34m(\u001b[0m\u001b[0mself\u001b[0m\u001b[0;34m.\u001b[0m\u001b[0mipython_extension_dir\u001b[0m\u001b[0;34m)\u001b[0m\u001b[0;34m:\u001b[0m\u001b[0;34m\u001b[0m\u001b[0;34m\u001b[0m\u001b[0m\n\u001b[1;32m     82\u001b[0m                         print((\"Loading extensions from {dir} is deprecated. \"\n",
      "\u001b[0;32m~/anaconda3/lib/python3.9/importlib/__init__.py\u001b[0m in \u001b[0;36mimport_module\u001b[0;34m(name, package)\u001b[0m\n\u001b[1;32m    125\u001b[0m                 \u001b[0;32mbreak\u001b[0m\u001b[0;34m\u001b[0m\u001b[0;34m\u001b[0m\u001b[0m\n\u001b[1;32m    126\u001b[0m             \u001b[0mlevel\u001b[0m \u001b[0;34m+=\u001b[0m \u001b[0;36m1\u001b[0m\u001b[0;34m\u001b[0m\u001b[0;34m\u001b[0m\u001b[0m\n\u001b[0;32m--> 127\u001b[0;31m     \u001b[0;32mreturn\u001b[0m \u001b[0m_bootstrap\u001b[0m\u001b[0;34m.\u001b[0m\u001b[0m_gcd_import\u001b[0m\u001b[0;34m(\u001b[0m\u001b[0mname\u001b[0m\u001b[0;34m[\u001b[0m\u001b[0mlevel\u001b[0m\u001b[0;34m:\u001b[0m\u001b[0;34m]\u001b[0m\u001b[0;34m,\u001b[0m \u001b[0mpackage\u001b[0m\u001b[0;34m,\u001b[0m \u001b[0mlevel\u001b[0m\u001b[0;34m)\u001b[0m\u001b[0;34m\u001b[0m\u001b[0;34m\u001b[0m\u001b[0m\n\u001b[0m\u001b[1;32m    128\u001b[0m \u001b[0;34m\u001b[0m\u001b[0m\n\u001b[1;32m    129\u001b[0m \u001b[0;34m\u001b[0m\u001b[0m\n",
      "\u001b[0;32m~/anaconda3/lib/python3.9/importlib/_bootstrap.py\u001b[0m in \u001b[0;36m_gcd_import\u001b[0;34m(name, package, level)\u001b[0m\n",
      "\u001b[0;32m~/anaconda3/lib/python3.9/importlib/_bootstrap.py\u001b[0m in \u001b[0;36m_find_and_load\u001b[0;34m(name, import_)\u001b[0m\n",
      "\u001b[0;32m~/anaconda3/lib/python3.9/importlib/_bootstrap.py\u001b[0m in \u001b[0;36m_find_and_load_unlocked\u001b[0;34m(name, import_)\u001b[0m\n",
      "\u001b[0;31mModuleNotFoundError\u001b[0m: No module named 'sql'"
     ]
    }
   ],
   "source": [
    "# We will first load an sql extension into our environment\n",
    "# This extension will allow us to work with sql on Colaboratory\n",
    "#\n",
    "%load_ext sql\n",
    "\n",
    "# We will then connect to our in memory sqlite database\n",
    "# NB: This database will cease to exist as soon as the database connection is closed.\n",
    "# We will learn more about how databases are created later in prep.\n",
    "#\n",
    "%sql sqlite://"
   ]
  },
  {
   "cell_type": "markdown",
   "metadata": {
    "id": "TjMtC5JN7ZoI"
   },
   "source": [
    "## 1.3 Creating a Table"
   ]
  },
  {
   "cell_type": "code",
   "execution_count": null,
   "metadata": {
    "colab": {
     "base_uri": "https://localhost:8080/",
     "height": 91
    },
    "id": "ee0bJxIKPQvK",
    "outputId": "e272b74c-17e1-4deb-f77e-734691ca0e0b"
   },
   "outputs": [
    {
     "name": "stdout",
     "output_type": "stream",
     "text": [
      " * sqlite://\n",
      "Done.\n",
      "Done.\n"
     ]
    },
    {
     "data": {
      "text/html": [
       "<table>\n",
       "    <tr>\n",
       "        <th>PersonID</th>\n",
       "        <th>LastName</th>\n",
       "        <th>FirstName</th>\n",
       "        <th>Phone</th>\n",
       "        <th>Residence</th>\n",
       "    </tr>\n",
       "</table>"
      ],
      "text/plain": [
       "[]"
      ]
     },
     "execution_count": 86,
     "metadata": {
      "tags": []
     },
     "output_type": "execute_result"
    }
   ],
   "source": [
    "# Example 1\n",
    "# We will now define and create a table Classmates in our database (if it doesn't exist).\n",
    "# This table will have fields: PersonID, LastName, FirstName, Phone and Residence as shown below.\n",
    "# We will then fetch all records from the table.\n",
    "#\n",
    "%%sql \n",
    "CREATE TABLE if not exists Classmates (\n",
    "    PersonID, \n",
    "    LastName, \n",
    "    FirstName, \n",
    "    Phone, \n",
    "    Residence\n",
    "); \n",
    "\n",
    "SELECT * From Classmates;"
   ]
  },
  {
   "cell_type": "code",
   "execution_count": null,
   "metadata": {
    "colab": {
     "base_uri": "https://localhost:8080/",
     "height": 91
    },
    "id": "a5-4ih-ea37Z",
    "outputId": "d31c67ee-5b89-4bf1-c016-b891679c36d0"
   },
   "outputs": [
    {
     "name": "stdout",
     "output_type": "stream",
     "text": [
      " * sqlite://\n",
      "Done.\n",
      "Done.\n"
     ]
    },
    {
     "data": {
      "text/html": [
       "<table>\n",
       "    <tr>\n",
       "        <th>Id</th>\n",
       "        <th>Name</th>\n",
       "        <th>Age</th>\n",
       "        <th>Address</th>\n",
       "        <th>Salary</th>\n",
       "    </tr>\n",
       "</table>"
      ],
      "text/plain": [
       "[]"
      ]
     },
     "execution_count": 94,
     "metadata": {
      "tags": []
     },
     "output_type": "execute_result"
    }
   ],
   "source": [
    "# Example 2\n",
    "# In this example, we will create a table named Customers \n",
    "# with the columns Id, Name, Age, Address, Salary. \n",
    "# This kind of a table structure can be used by Sacco Management system.\n",
    "# Then later fetch all records in the table.\n",
    "# \n",
    "%%sql\n",
    "CREATE TABLE if not exists Customers(\n",
    "   Id,   \n",
    "   Name,  \n",
    "   Age,\n",
    "   Address,  \n",
    "   Salary\n",
    ");\n",
    "\n",
    "SELECT * From Customers;"
   ]
  },
  {
   "cell_type": "code",
   "execution_count": null,
   "metadata": {
    "id": "0FmFgfaTbZO6"
   },
   "outputs": [],
   "source": [
    "# Example 3\n",
    "# In this example, we will create a Students table for a student management system.\n",
    "# This will contain the following fields,\n",
    "# AdmissionsNo, FirstName, MiddleName, LastName, DateOfBirth and DateOfAdmission.\n",
    "# Then fetch all records from Students table.\n",
    "#\n",
    "%%sql\n",
    "CREATE TABLE if not exists Students(\n",
    "    AdmissionsNo,\n",
    "    FirstName,\n",
    "    MiddleName,\n",
    "    LastName,\n",
    "    DateOfBirth,\n",
    "    DateOfAdmission\n",
    ");\n",
    " \n",
    "SELECT * from Students;"
   ]
  },
  {
   "cell_type": "markdown",
   "metadata": {
    "id": "oxISLcTfPSqn"
   },
   "source": [
    "### <font color=\"green\"> 1.3 Challenges</font>"
   ]
  },
  {
   "cell_type": "code",
   "execution_count": null,
   "metadata": {
    "colab": {
     "base_uri": "https://localhost:8080/",
     "height": 91
    },
    "id": "SbRfVF-IPa7y",
    "outputId": "b9e87e2e-3e64-4548-ebfe-c25c0f275c3f"
   },
   "outputs": [
    {
     "name": "stdout",
     "output_type": "stream",
     "text": [
      " * sqlite://\n",
      "Done.\n",
      "Done.\n"
     ]
    },
    {
     "data": {
      "text/html": [
       "<table>\n",
       "    <tr>\n",
       "        <th>Code</th>\n",
       "        <th>Model</th>\n",
       "        <th>Speed</th>\n",
       "        <th>RAM</th>\n",
       "        <th>HD</th>\n",
       "        <th>CD</th>\n",
       "        <th>Price</th>\n",
       "    </tr>\n",
       "</table>"
      ],
      "text/plain": [
       "[]"
      ]
     },
     "execution_count": 20,
     "metadata": {
      "tags": []
     },
     "output_type": "execute_result"
    }
   ],
   "source": [
    "# Challenge 1\n",
    "# Let us create a table name PC with the following fields; \n",
    "# Code, model, speed, RAM, HD, CD and Price.\n",
    "# We also specify the appropriate data types to our table, then display it.\n",
    "%%sql \n",
    " CREATE TABLE if not exists PC(\n",
    "    Code,\n",
    "    Model,\n",
    "    Speed,\n",
    "    RAM,\n",
    "    HD,\n",
    "    CD,\n",
    "    Price\n",
    ");\n",
    "SELECT * from PC;\n"
   ]
  },
  {
   "cell_type": "code",
   "execution_count": null,
   "metadata": {
    "colab": {
     "base_uri": "https://localhost:8080/",
     "height": 91
    },
    "id": "raslfjbEPa6h",
    "outputId": "e78a3279-9578-4730-9dc3-fab8c46b0f29"
   },
   "outputs": [
    {
     "name": "stdout",
     "output_type": "stream",
     "text": [
      " * sqlite://\n",
      "Done.\n",
      "Done.\n"
     ]
    },
    {
     "data": {
      "text/html": [
       "<table>\n",
       "    <tr>\n",
       "        <th>Code</th>\n",
       "        <th>Model</th>\n",
       "        <th>Speed</th>\n",
       "        <th>Type</th>\n",
       "        <th>Price</th>\n",
       "    </tr>\n",
       "</table>"
      ],
      "text/plain": [
       "[]"
      ]
     },
     "execution_count": 21,
     "metadata": {
      "tags": []
     },
     "output_type": "execute_result"
    }
   ],
   "source": [
    "# Challenge 2\n",
    "# Let us create a table named Printer with \n",
    "# the following code, model, speed, type and Price.\n",
    "%%sql\n",
    "CREATE TABLE if not exists Printer(\n",
    "    Code,\n",
    "    Model,\n",
    "    Speed,\n",
    "    Type,\n",
    "    Price\n",
    ");\n",
    "SELECT * from Printer;"
   ]
  },
  {
   "cell_type": "code",
   "execution_count": null,
   "metadata": {
    "colab": {
     "base_uri": "https://localhost:8080/",
     "height": 91
    },
    "id": "mJd7ytpJPav_",
    "outputId": "15480760-0c28-4c3f-89ea-649ff7cea1c4"
   },
   "outputs": [
    {
     "name": "stdout",
     "output_type": "stream",
     "text": [
      " * sqlite://\n",
      "Done.\n",
      "Done.\n"
     ]
    },
    {
     "data": {
      "text/html": [
       "<table>\n",
       "    <tr>\n",
       "        <th>Id</th>\n",
       "        <th>Title</th>\n",
       "        <th>Director</th>\n",
       "        <th>Year</th>\n",
       "        <th>Length_minutes</th>\n",
       "    </tr>\n",
       "</table>"
      ],
      "text/plain": [
       "[]"
      ]
     },
     "execution_count": 27,
     "metadata": {
      "tags": []
     },
     "output_type": "execute_result"
    }
   ],
   "source": [
    "# Challenge 3\n",
    "# We can now write another table called Movies with the columns \n",
    "# id, title, director, year and length_minutes\n",
    "# \n",
    "%%sql\n",
    "CREATE TABLE if not exists Movies(\n",
    "    Id,\n",
    "    Title,\n",
    "    Director,\n",
    "    Year,\n",
    "    Length_minutes\n",
    ");\n",
    "SELECT *from Movies;\n",
    "\n"
   ]
  },
  {
   "cell_type": "markdown",
   "metadata": {
    "id": "tsDIChSD7eZA"
   },
   "source": [
    "## 1.4 Specifying Column Data Types"
   ]
  },
  {
   "cell_type": "code",
   "execution_count": null,
   "metadata": {
    "colab": {
     "base_uri": "https://localhost:8080/",
     "height": 91
    },
    "id": "LR9UX1XnbPEJ",
    "outputId": "93bae64c-50e2-4ab4-eff9-f07e55cd9094"
   },
   "outputs": [
    {
     "name": "stdout",
     "output_type": "stream",
     "text": [
      " * sqlite://\n",
      "Done.\n",
      "Done.\n"
     ]
    },
    {
     "data": {
      "text/html": [
       "<table>\n",
       "    <tr>\n",
       "        <th>NationalID</th>\n",
       "        <th>FirstName</th>\n",
       "        <th>MiddleName</th>\n",
       "        <th>PostalAddress</th>\n",
       "        <th>Residence</th>\n",
       "    </tr>\n",
       "</table>"
      ],
      "text/plain": [
       "[]"
      ]
     },
     "execution_count": 30,
     "metadata": {
      "tags": []
     },
     "output_type": "execute_result"
    }
   ],
   "source": [
    "# Example 1\n",
    "# While defining our table, we should specify different data types. \n",
    "# These datatypes will ensure that the particular column stores only\n",
    "# records of that type i.e. The NationalID column in the defined Citizens table \n",
    "# below will only take integer values. These are values between  -2,147,483,648 to 2,147,483,647.\n",
    "# If one would require to store much smaller or bigger values than the range above then\n",
    "# they can use a different datatype i.e. tinyint or bigint.\n",
    "# The datatype varchar will hold letters and numbers upto the specified limit\n",
    "# in the brackets.\n",
    "#\n",
    "%%sql\n",
    "CREATE TABLE IF NOT EXISTS Citizens (\n",
    "    NationalID int,\n",
    "    FirstName varchar(255),\n",
    "    MiddleName varchar(255),\n",
    "    PostalAddress varchar(255),\n",
    "    Residence varchar(255));\n",
    "SELECT * from Citizens;"
   ]
  },
  {
   "cell_type": "code",
   "execution_count": null,
   "metadata": {
    "colab": {
     "base_uri": "https://localhost:8080/",
     "height": 91
    },
    "id": "xD0OhRTmdFW5",
    "outputId": "ceff9648-f676-44b4-a45d-0b6116ce7c4b"
   },
   "outputs": [
    {
     "name": "stdout",
     "output_type": "stream",
     "text": [
      " * sqlite://\n",
      "Done.\n",
      "Done.\n"
     ]
    },
    {
     "data": {
      "text/html": [
       "<table>\n",
       "    <tr>\n",
       "        <th>artist_id</th>\n",
       "        <th>artist_name</th>\n",
       "        <th>place_of_birth</th>\n",
       "        <th>STUDIO</th>\n",
       "    </tr>\n",
       "</table>"
      ],
      "text/plain": [
       "[]"
      ]
     },
     "execution_count": 96,
     "metadata": {
      "tags": []
     },
     "output_type": "execute_result"
    }
   ],
   "source": [
    "# Example 2\n",
    "# Specifying column data types will ensure that \n",
    "# the data that is stored within that table of the correct type.\n",
    "# The data type date would ensure that the data stored is in the format YYYY-MM-DD.\t\n",
    "# The data type boolean supports the storage of two values: TRUE or FALSE.\n",
    "# No other data of a different nature would be accepted to the table \n",
    "# than the one it was specified to have.\n",
    "#\n",
    "%%sql\n",
    "CREATE TABLE IF NOT EXISTS artists(\n",
    "    Artist_Id int,\n",
    "    Artist_Name varchar(60),\n",
    "    Artist_DOB date,\n",
    "    Posters_In_Stock boolean);\n",
    "\n",
    "SELECT * from artists;"
   ]
  },
  {
   "cell_type": "code",
   "execution_count": null,
   "metadata": {
    "id": "FOWSIAvGZpE-"
   },
   "outputs": [],
   "source": [
    "# Example 3\n",
    "# The data type text accepts upto 2,147,483,647 characters\n",
    "# The data type float accepts floating point numbers i.e 183.3 as shown\n",
    "# \n",
    "%%sql\n",
    "CREATE TABLE IF NOT EXISTS Players (\n",
    "    id int,\n",
    "    name text,\n",
    "    age integer,\n",
    "    height float);\n",
    "\n",
    "SELECT * from Players;"
   ]
  },
  {
   "cell_type": "markdown",
   "metadata": {
    "id": "LMP7zZY2dGuV"
   },
   "source": [
    "### <font color=\"green\"> 1.4 Challenges</font>"
   ]
  },
  {
   "cell_type": "code",
   "execution_count": null,
   "metadata": {
    "colab": {
     "base_uri": "https://localhost:8080/",
     "height": 91
    },
    "id": "8g9IjuQDdKP5",
    "outputId": "41b7e2d4-c90a-4bf2-d8ff-94e82c85773d"
   },
   "outputs": [
    {
     "name": "stdout",
     "output_type": "stream",
     "text": [
      " * sqlite://\n",
      "Done.\n",
      "Done.\n"
     ]
    },
    {
     "data": {
      "text/html": [
       "<table>\n",
       "    <tr>\n",
       "        <th>Cust_ID</th>\n",
       "        <th>Lastname</th>\n",
       "        <th>Fisrtname</th>\n",
       "    </tr>\n",
       "</table>"
      ],
      "text/plain": [
       "[]"
      ]
     },
     "execution_count": 37,
     "metadata": {
      "tags": []
     },
     "output_type": "execute_result"
    }
   ],
   "source": [
    "# Challenge 1\n",
    "# Let's create a table customer with CustID with datatype Integer, LastName \n",
    "# with datatype character(25), FirstName with datatype Character(20)\n",
    "#\n",
    "%%sql\n",
    "CREATE TABLE IF NOT EXISTS CUSTOMER(\n",
    "    Cust_ID int,\n",
    "    Last_name varchar(25),\n",
    "    Fisrt_name varchar(20)\n",
    " );\n",
    "SELECT * from CUSTOMER;"
   ]
  },
  {
   "cell_type": "code",
   "execution_count": null,
   "metadata": {
    "colab": {
     "base_uri": "https://localhost:8080/",
     "height": 91
    },
    "id": "mhbYzTUqgcT6",
    "outputId": "6e4ab3e9-5d69-4205-ac5a-5a6c48d1b705"
   },
   "outputs": [
    {
     "name": "stdout",
     "output_type": "stream",
     "text": [
      " * sqlite://\n",
      "Done.\n",
      "Done.\n"
     ]
    },
    {
     "data": {
      "text/html": [
       "<table>\n",
       "    <tr>\n",
       "        <th>SalesID</th>\n",
       "        <th>CustomerID</th>\n",
       "        <th>Name</th>\n",
       "        <th>Address</th>\n",
       "    </tr>\n",
       "</table>"
      ],
      "text/plain": [
       "[]"
      ]
     },
     "execution_count": 42,
     "metadata": {
      "tags": []
     },
     "output_type": "execute_result"
    }
   ],
   "source": [
    "# Challenge 3\n",
    "# Create a table called sales that stores sales ID, customer ID, name, and address information.\n",
    "# using also the appropriate data types\n",
    "# \n",
    "%%sql\n",
    "CREATE TABLE IF NOT EXISTS SALES(\n",
    "    SalesID varchar,\n",
    "    CustomerID int,\n",
    "    Name text,\n",
    "    Address varchar\n",
    ");\n",
    "SELECT * from SALES;"
   ]
  },
  {
   "cell_type": "code",
   "execution_count": null,
   "metadata": {
    "colab": {
     "base_uri": "https://localhost:8080/",
     "height": 91
    },
    "id": "dusTkcdWuv3E",
    "outputId": "5a06c1f4-ae58-475b-a0ce-39d705c1c6e7"
   },
   "outputs": [
    {
     "name": "stdout",
     "output_type": "stream",
     "text": [
      " * sqlite://\n",
      "Done.\n",
      "Done.\n"
     ]
    },
    {
     "data": {
      "text/html": [
       "<table>\n",
       "    <tr>\n",
       "        <th>Employee</th>\n",
       "        <th>Employeename</th>\n",
       "        <th>Department</th>\n",
       "        <th>salary</th>\n",
       "    </tr>\n",
       "</table>"
      ],
      "text/plain": [
       "[]"
      ]
     },
     "execution_count": 43,
     "metadata": {
      "tags": []
     },
     "output_type": "execute_result"
    }
   ],
   "source": [
    "# Challenge 4\n",
    "# Create a table called employees that stores employee number, employee name, \n",
    "# department, and salary information using appropriate data types\n",
    "#\n",
    "%%sql\n",
    "CREATE TABLE IF NOT EXISTS EMPLOYEES(\n",
    "    Employee number int,\n",
    "    Employeename text,\n",
    "    Department text,\n",
    "    salary varchar\n",
    "    \n",
    ");\n",
    "SELECT* from EMPLOYEES;"
   ]
  },
  {
   "cell_type": "markdown",
   "metadata": {
    "id": "ASFyzyDc9hth"
   },
   "source": [
    "## 1.5 Specifying Column Default Values"
   ]
  },
  {
   "cell_type": "code",
   "execution_count": null,
   "metadata": {
    "colab": {
     "base_uri": "https://localhost:8080/",
     "height": 68
    },
    "id": "mkNyTl37gfeM",
    "outputId": "3d0014ac-cb67-465e-8e62-67c3a1d27c66"
   },
   "outputs": [
    {
     "name": "stdout",
     "output_type": "stream",
     "text": [
      " * sqlite://\n",
      "Done.\n"
     ]
    },
    {
     "data": {
      "text/plain": [
       "[]"
      ]
     },
     "execution_count": 9,
     "metadata": {
      "tags": []
     },
     "output_type": "execute_result"
    }
   ],
   "source": [
    "# Example 1\n",
    "# To specify column default values, let's define a table named artists \n",
    "# which contains three columns artist_id, artist_name and place_of_birth. \n",
    "# - artist_id will be of the type int\n",
    "# - artist_name of the type varchar(60) \n",
    "# - place_of_birth varchar(60) with default 'Unknown'.\n",
    "# NB: Changing the case of our data type definition will not have any effect.\n",
    "#\n",
    "%%sql \n",
    "CREATE TABLE Artists (\n",
    "    artist_id INT, \n",
    "    artist_name VARCHAR(60), \n",
    "    place_of_birth VARCHAR(60)\n",
    ");"
   ]
  },
  {
   "cell_type": "code",
   "execution_count": null,
   "metadata": {
    "colab": {
     "base_uri": "https://localhost:8080/",
     "height": 68
    },
    "id": "_ut68z0BgfW9",
    "outputId": "d0d84a23-590f-4df6-da7b-6f9d5be1e2fe"
   },
   "outputs": [
    {
     "name": "stdout",
     "output_type": "stream",
     "text": [
      " * sqlite://\n",
      "Done.\n"
     ]
    },
    {
     "data": {
      "text/plain": [
       "[]"
      ]
     },
     "execution_count": 77,
     "metadata": {
      "tags": []
     },
     "output_type": "execute_result"
    }
   ],
   "source": [
    "# Example 2\n",
    "# To specify default values for the fields in a new table TeamMembers,\n",
    "# We do the following as shown below.\n",
    "# \n",
    "%%sql\n",
    "CREATE TABLE IF NOT EXISTS TeamMembers (\n",
    "    id INTEGER PRIMARY KEY,\n",
    "    name TEXT,\n",
    "    age INTEGER DEFAULT 'Unknown',\n",
    "    height REAL);"
   ]
  },
  {
   "cell_type": "markdown",
   "metadata": {
    "id": "Xr_iw9O1gynX"
   },
   "source": [
    "### <font color=\"green\"> 1.5 Challenges</font>"
   ]
  },
  {
   "cell_type": "code",
   "execution_count": null,
   "metadata": {
    "colab": {
     "base_uri": "https://localhost:8080/",
     "height": 68
    },
    "id": "H0X577pGgxuY",
    "outputId": "8608571e-eccc-41d9-eb69-4eca236b33b0"
   },
   "outputs": [
    {
     "name": "stdout",
     "output_type": "stream",
     "text": [
      " * sqlite://\n",
      "Done.\n"
     ]
    },
    {
     "data": {
      "text/plain": [
       "[]"
      ]
     },
     "execution_count": 47,
     "metadata": {
      "tags": []
     },
     "output_type": "execute_result"
    }
   ],
   "source": [
    "# Challenge 1\n",
    "# Let's create a new table called latest_players with similar fields to\n",
    "# the already created Players table but specify the default value to unknown\n",
    "#\n",
    "%%sql\n",
    "CREATE TABLE IF NOT EXISTS latest_players(\n",
    "    id INTEGER PRIMARY KEY,\n",
    "    name TEXT,\n",
    "    age INTEGER DEFAULT 'Unknown',\n",
    "    height REAL);  \n",
    "\n"
   ]
  },
  {
   "cell_type": "code",
   "execution_count": null,
   "metadata": {
    "colab": {
     "base_uri": "https://localhost:8080/",
     "height": 68
    },
    "id": "1LEzaO5ggpCt",
    "outputId": "36d21156-dcae-4614-9173-143a64a26e8e"
   },
   "outputs": [
    {
     "name": "stdout",
     "output_type": "stream",
     "text": [
      " * sqlite://\n",
      "Done.\n"
     ]
    },
    {
     "data": {
      "text/plain": [
       "[]"
      ]
     },
     "execution_count": 58,
     "metadata": {
      "tags": []
     },
     "output_type": "execute_result"
    }
   ],
   "source": [
    "# Challenge 2\n",
    "# Let's create a new table called restaurants with the fields\n",
    "# - name: string\n",
    "# - description: text \n",
    "# - address: string, default value is unknown\n",
    "# - user_id: integer\n",
    "# - last_orders_at: date\n",
    "# We can perform data type external research if need be\n",
    "#\n",
    "%%sql\n",
    "CREATE TABLE IF NOT EXISTS restaurants(\n",
    "    name text,\n",
    "    description text,\n",
    "    address varchar default\"Unknown\",\n",
    "    user_id int,\n",
    "    last_orders_at date\n",
    ");\n",
    "\n"
   ]
  },
  {
   "cell_type": "markdown",
   "metadata": {
    "id": "fbqK98Ve9qUw"
   },
   "source": [
    "## 1.6 Altering SQL Tables"
   ]
  },
  {
   "cell_type": "code",
   "execution_count": null,
   "metadata": {
    "id": "hX5YD-_dhEra"
   },
   "outputs": [],
   "source": [
    "# Example 1: Adding a Column\n",
    "# To add a column Gender to the Classmates table, we do the following, \n",
    "# then preview the table to see the changes\n",
    "#\n",
    "%%sql \n",
    "ALTER TABLE Classmates ADD Gender;\n",
    " \n",
    "SELECT * FROM Classmates;"
   ]
  },
  {
   "cell_type": "markdown",
   "metadata": {},
   "source": [
    "## The following statement fails (https://github.com/v1a0/sqllex/issues/35)"
   ]
  },
  {
   "cell_type": "code",
   "execution_count": null,
   "metadata": {
    "id": "IGZSdFj2hGbP"
   },
   "outputs": [],
   "source": [
    "# Example 2: Deleting a Column\n",
    "# To delete a column Phone in a table above we do the following,\n",
    "# Then fetch records from the table to confirm the changes\n",
    "#\n",
    "%%sql \n",
    "ALTER TABLE Classmates drop column Residence;\n"
   ]
  },
  {
   "cell_type": "code",
   "execution_count": null,
   "metadata": {
    "id": "sHLkllxhhH3v"
   },
   "outputs": [],
   "source": [
    "# Example 3\n",
    "# We can change the name of the Classmates table to Schoolmates by doing the following,\n",
    "# Then fetching the records from the table to confirm the changes\n",
    "#\n",
    "%%sql  \n",
    "ALTER TABLE Classmates RENAME TO Schoolmates;\n",
    "\n"
   ]
  },
  {
   "cell_type": "markdown",
   "metadata": {
    "id": "f20THWRqhJC-"
   },
   "source": [
    "### <font color=\"green\"> 1.6 Challenges</font>"
   ]
  },
  {
   "cell_type": "code",
   "execution_count": null,
   "metadata": {
    "colab": {
     "base_uri": "https://localhost:8080/",
     "height": 91
    },
    "id": "6Nrsden-hJ7u",
    "outputId": "c7219a51-ccc1-412f-9c4e-f7c26c221d42"
   },
   "outputs": [
    {
     "name": "stdout",
     "output_type": "stream",
     "text": [
      " * sqlite://\n",
      "Done.\n",
      "Done.\n"
     ]
    },
    {
     "data": {
      "text/html": [
       "<table>\n",
       "    <tr>\n",
       "        <th>id</th>\n",
       "        <th>name</th>\n",
       "        <th>age</th>\n",
       "        <th>height</th>\n",
       "        <th>DOB</th>\n",
       "    </tr>\n",
       "</table>"
      ],
      "text/plain": [
       "[]"
      ]
     },
     "execution_count": 78,
     "metadata": {
      "tags": []
     },
     "output_type": "execute_result"
    }
   ],
   "source": [
    "# Challenge 1\n",
    "# We can add a column DOB with the data type DATE to the TeamMembers table by;\n",
    "# Hint: The data type comes after the column name\n",
    "%%sql \n",
    "ALTER TABLE TeamMembers ADD DOB date;\n",
    "\n",
    "SELECT *FROM TeamMembers;\n"
   ]
  },
  {
   "cell_type": "code",
   "execution_count": null,
   "metadata": {
    "id": "2hwkJkSNlIyd"
   },
   "outputs": [],
   "source": [
    "# Example 4: Confirmation\n",
    "# Let's check our data type\n",
    "%%sql\n",
    "PRAGMA table_info(TeamMembers);\n"
   ]
  },
  {
   "cell_type": "code",
   "execution_count": null,
   "metadata": {
    "colab": {
     "base_uri": "https://localhost:8080/",
     "height": 68
    },
    "id": "iLNLtWBFhLCS",
    "outputId": "90e12b12-dcb4-48a0-f0dc-3baf053973a8"
   },
   "outputs": [
    {
     "name": "stdout",
     "output_type": "stream",
     "text": [
      " * sqlite://\n",
      "Done.\n"
     ]
    },
    {
     "data": {
      "text/plain": [
       "[]"
      ]
     },
     "execution_count": 81,
     "metadata": {
      "tags": []
     },
     "output_type": "execute_result"
    }
   ],
   "source": [
    "# Challenge 2\n",
    "# Let's now add a column STUDIO with the data type TEXT to the Artists table \n",
    "#\n",
    "%%sql\n",
    "ALTER TABLE Artists ADD STUDIO TEXT;\n"
   ]
  },
  {
   "cell_type": "code",
   "execution_count": null,
   "metadata": {
    "colab": {
     "base_uri": "https://localhost:8080/",
     "height": 68
    },
    "id": "16L-Ex_ehKzt",
    "outputId": "8f0a145a-b4cc-41ec-b097-0003eb8cacae"
   },
   "outputs": [
    {
     "name": "stdout",
     "output_type": "stream",
     "text": [
      " * sqlite://\n",
      "Done.\n"
     ]
    },
    {
     "data": {
      "text/plain": [
       "[]"
      ]
     },
     "execution_count": 10,
     "metadata": {
      "tags": []
     },
     "output_type": "execute_result"
    }
   ],
   "source": [
    "# Challenge 3\n",
    "# We then rename the table Artists to MusicArtists\n",
    "#\n",
    "%%sql\n",
    "ALTER TABLE Artists RENAME TO MusicArtists;"
   ]
  },
  {
   "cell_type": "markdown",
   "metadata": {
    "id": "N5323tiC9u5B"
   },
   "source": [
    "## 1.7 Dropping SQL Tables"
   ]
  },
  {
   "cell_type": "markdown",
   "metadata": {
    "id": "Lyy1XQCy_rIm"
   },
   "source": [
    "### 1.71 Truncating a Table\n"
   ]
  },
  {
   "cell_type": "code",
   "execution_count": null,
   "metadata": {
    "colab": {
     "base_uri": "https://localhost:8080/",
     "height": 130
    },
    "id": "EF5WdMH1hj-8",
    "outputId": "1ebcfc09-8c54-47eb-9866-f8a98b36d6c8"
   },
   "outputs": [
    {
     "ename": "SyntaxError",
     "evalue": "ignored",
     "output_type": "error",
     "traceback": [
      "\u001b[0;36m  File \u001b[0;32m\"<ipython-input-98-7814f9e319a5>\"\u001b[0;36m, line \u001b[0;32m1\u001b[0m\n\u001b[0;31m    TRUNCATE TABLE Classmates;\u001b[0m\n\u001b[0m                 ^\u001b[0m\n\u001b[0;31mSyntaxError\u001b[0m\u001b[0;31m:\u001b[0m invalid syntax\n"
     ]
    }
   ],
   "source": [
    "# Example 1\n",
    "# We may have two options while thinking about dropping (deleting) database tables. \n",
    "# These are truncating or dropping.\n",
    "# We can use the TRUNCATE TABLE statement to delete the data inside \n",
    "# our table as shown below. Do note that this command retains the table itself.\n",
    "# We will get to confirm the effect of using this command later when we get \n",
    "# to insert data to the table.\n",
    "#\n",
    "TRUNCATE TABLE Classmates;"
   ]
  },
  {
   "cell_type": "markdown",
   "metadata": {
    "id": "018guVdKDwnu"
   },
   "source": [
    "### 1.72 Dropping a Table"
   ]
  },
  {
   "cell_type": "code",
   "execution_count": null,
   "metadata": {
    "colab": {
     "base_uri": "https://localhost:8080/",
     "height": 34
    },
    "id": "IBP2xlN4Dz8H",
    "outputId": "0cce34a2-90c2-4f9a-8c3b-a8f5922e6584"
   },
   "outputs": [
    {
     "name": "stderr",
     "output_type": "stream",
     "text": [
      "UsageError: %%sql is a cell magic, but the cell body is empty. Did you mean the line magic %sql (single %)?\n"
     ]
    }
   ],
   "source": [
    "# Example 1\n",
    "# We can drop our table by using the DROP TABLE statement as shown below\n",
    "#\n",
    "%%sql DROP TABLE Classmates;"
   ]
  },
  {
   "cell_type": "markdown",
   "metadata": {
    "id": "hK3Aff9bhkkE"
   },
   "source": [
    "### <font color=\"green\"> 1.7 Challenges</font>"
   ]
  },
  {
   "cell_type": "code",
   "execution_count": null,
   "metadata": {
    "cellView": "both",
    "colab": {
     "base_uri": "https://localhost:8080/",
     "height": 68
    },
    "id": "OhTHowBAhmF_",
    "outputId": "61ea7f0a-bdbd-4305-aff0-136377193ccf"
   },
   "outputs": [
    {
     "name": "stdout",
     "output_type": "stream",
     "text": [
      " * sqlite://\n",
      "Done.\n"
     ]
    },
    {
     "data": {
      "text/plain": [
       "[]"
      ]
     },
     "execution_count": 71,
     "metadata": {
      "tags": []
     },
     "output_type": "execute_result"
    }
   ],
   "source": [
    "# Challenge 1\n",
    "# Lets drop the Players table from our database\n",
    "#\n",
    "%%sql \n",
    "DROP TABLE latest_players;"
   ]
  },
  {
   "cell_type": "code",
   "execution_count": null,
   "metadata": {
    "colab": {
     "base_uri": "https://localhost:8080/",
     "height": 68
    },
    "id": "TupkeQYohmc9",
    "outputId": "003cc609-750e-424c-a623-116367b68a47"
   },
   "outputs": [
    {
     "name": "stdout",
     "output_type": "stream",
     "text": [
      " * sqlite://\n",
      "Done.\n"
     ]
    },
    {
     "data": {
      "text/plain": [
       "[]"
      ]
     },
     "execution_count": 95,
     "metadata": {
      "tags": []
     },
     "output_type": "execute_result"
    }
   ],
   "source": [
    "# Challenge 2\n",
    "# Lets drop the Customers table from our database \n",
    "#\n",
    "%%sql\n",
    "DROP TABLE Customers;"
   ]
  },
  {
   "cell_type": "code",
   "execution_count": null,
   "metadata": {
    "colab": {
     "base_uri": "https://localhost:8080/",
     "height": 68
    },
    "id": "5JA8Kr56hmPr",
    "outputId": "4699121f-42b5-4e13-b300-c9f319d8db27"
   },
   "outputs": [
    {
     "name": "stdout",
     "output_type": "stream",
     "text": [
      " * sqlite://\n",
      "0 rows affected.\n"
     ]
    },
    {
     "data": {
      "text/plain": [
       "[]"
      ]
     },
     "execution_count": 12,
     "metadata": {
      "tags": []
     },
     "output_type": "execute_result"
    }
   ],
   "source": [
    "# Challenge 3\n",
    "# And finally truncate and drop our Artists table from our database\n",
    "#\n",
    "%%sql\n",
    "DELETE from  MusicArtists;"
   ]
  },
  {
   "cell_type": "markdown",
   "metadata": {},
   "source": [
    "## Proc info ipython-sql \n",
    "Crear tablas, insertart en tablas, escribir en csv y leer csv"
   ]
  },
  {
   "cell_type": "code",
   "execution_count": null,
   "metadata": {},
   "outputs": [],
   "source": [
    "# We will first load an sql extension into our environment\n",
    "# This extension will allow us to work with sql on Colaboratory\n",
    "#\n",
    "%load_ext sql\n",
    "\n",
    "# We will then connect to our in memory sqlite database\n",
    "# NB: This database will cease to exist as soon as the database connection is closed.\n",
    "# We will learn more about how databases are created later in prep.\n",
    "#\n",
    "%sql sqlite://"
   ]
  },
  {
   "cell_type": "code",
   "execution_count": null,
   "metadata": {},
   "outputs": [],
   "source": [
    "%%sql\n",
    "\n",
    "DROP TABLE IF EXISTS clients;\n",
    "CREATE TABLE IF NOT EXISTS clients (\n",
    "    id int,\n",
    "    first_name varchar(255),\n",
    "    last_name varchar(255),\n",
    "    address varchar(255),\n",
    "    dob DATE,\n",
    "    PRIMARY KEY (id)\n",
    ");\n",
    "INSERT INTO clients (id, first_name, last_name, address, dob) VALUES \n",
    "(1, \"A\", \"B\", \"P sherman1\", 1993-01-06),\n",
    "(5, \"B\", \"C\", \"P sherman2\", 1993-02-06),\n",
    "(6, \"C\", \"D\", \"P sherman3\", 1993-03-06),\n",
    "(10, \"D\", \"E\", \"P sherman4\", 1993-04-06),\n",
    "(12, \"E\", \"F\", \"P sherman5\", 1993-05-06);\n",
    "\n",
    "\n",
    "SELECT * FROM clients;"
   ]
  },
  {
   "cell_type": "code",
   "execution_count": null,
   "metadata": {},
   "outputs": [],
   "source": [
    "%%sql\n",
    "\n",
    "DROP TABLE IF EXISTS orders;\n",
    "CREATE TABLE IF NOT EXISTS orders (\n",
    "    id int,\n",
    "    id_client int,\n",
    "    product varchar(225),\n",
    "    total real,\n",
    "    PRIMARY KEY (id)\n",
    "    FOREIGN KEY (id_client) REFERENCES clients(id) \n",
    ");\n",
    "\n",
    "\n",
    "INSERT INTO orders VALUES \n",
    "(1,1,\"Agua\",24),\n",
    "(2,1,\"Agua\",24),\n",
    "(100,6,\"Agua\",24),\n",
    "(200, 10,\"Agua\",24),\n",
    "(12,12,\"Agua\",24);\n",
    "\n",
    "SELECT * FROM orders;"
   ]
  },
  {
   "cell_type": "code",
   "execution_count": null,
   "metadata": {},
   "outputs": [],
   "source": [
    "import csv\n",
    "\n",
    "result = %sql SELECT * FROM clients LEFT JOIN orders ON clients.id = orders.id_client;\n",
    "print(result)\n",
    "\n",
    "\n",
    "with open('test.csv', 'w', newline='') as f_handle:\n",
    "    writer = csv.writer(f_handle)\n",
    "    # Add the header/column names\n",
    "    header = ['id', 'first_name', 'last_name', 'address', 'dob', \"id_1\", \"id_client\", \"product\", \"total\"]\n",
    "    writer.writerow(header)\n",
    "    # Iterate over `data`  and  write to the csv file\n",
    "    for row in result:\n",
    "        writer.writerow(row)"
   ]
  },
  {
   "cell_type": "code",
   "execution_count": null,
   "metadata": {},
   "outputs": [],
   "source": [
    "with open(\"test.csv\", \"r\") as f:\n",
    "  for row in f:\n",
    "    print(row)"
   ]
  }
 ],
 "metadata": {
  "accelerator": "GPU",
  "colab": {
   "collapsed_sections": [
    "_D8JbTh02GDA",
    "D6BU_C0d3dMo"
   ],
   "provenance": [],
   "toc_visible": true
  },
  "kernelspec": {
   "display_name": "Python 3 (ipykernel)",
   "language": "python",
   "name": "python3"
  },
  "language_info": {
   "codemirror_mode": {
    "name": "ipython",
    "version": 3
   },
   "file_extension": ".py",
   "mimetype": "text/x-python",
   "name": "python",
   "nbconvert_exporter": "python",
   "pygments_lexer": "ipython3",
   "version": "3.9.13"
  }
 },
 "nbformat": 4,
 "nbformat_minor": 1
}
