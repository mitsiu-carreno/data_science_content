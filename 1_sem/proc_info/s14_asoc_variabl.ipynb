{
 "cells": [
  {
   "cell_type": "markdown",
   "id": "ecaf29b8",
   "metadata": {},
   "source": [
    "## Mitsiu Alejandro Carreño Sarabia - E23S-18014\n",
    "Asociación de variables"
   ]
  },
  {
   "cell_type": "code",
   "execution_count": 1,
   "id": "bc6d2c35",
   "metadata": {},
   "outputs": [
    {
     "data": {
      "text/plain": [
       "'%.2f'"
      ]
     },
     "execution_count": 1,
     "metadata": {},
     "output_type": "execute_result"
    }
   ],
   "source": [
    "import numpy as np\n",
    "import pandas as pd\n",
    "import matplotlib.pyplot as plt\n",
    "\n",
    "%matplotlib inline\n",
    "\n",
    "params = {\n",
    "    'legend.fontsize': \"x-large\",\n",
    "    'figure.figsize': (10, 7.5),\n",
    "    'axes.labelsize': 'x-large',\n",
    "    'axes.titlesize': 'x-large',\n",
    "    'xtick.labelsize': 'x-large',\n",
    "    'ytick.labelsize': 'x-large'\n",
    "}\n",
    "plt.rcParams.update(params)\n",
    "\n",
    "np.set_printoptions(precision=2)\n",
    "%precision 2"
   ]
  },
  {
   "cell_type": "code",
   "execution_count": 2,
   "id": "c861ca05",
   "metadata": {},
   "outputs": [
    {
     "data": {
      "text/html": [
       "<div>\n",
       "<style scoped>\n",
       "    .dataframe tbody tr th:only-of-type {\n",
       "        vertical-align: middle;\n",
       "    }\n",
       "\n",
       "    .dataframe tbody tr th {\n",
       "        vertical-align: top;\n",
       "    }\n",
       "\n",
       "    .dataframe thead th {\n",
       "        text-align: right;\n",
       "    }\n",
       "</style>\n",
       "<table border=\"1\" class=\"dataframe\">\n",
       "  <thead>\n",
       "    <tr style=\"text-align: right;\">\n",
       "      <th></th>\n",
       "      <th>fecha</th>\n",
       "      <th>precio_USD</th>\n",
       "      <th>area_m2_util</th>\n",
       "      <th>area_m2_construida</th>\n",
       "      <th>habitaciones</th>\n",
       "      <th>baños</th>\n",
       "      <th>pisos</th>\n",
       "      <th>año_construida</th>\n",
       "    </tr>\n",
       "  </thead>\n",
       "  <tbody>\n",
       "    <tr>\n",
       "      <th>0</th>\n",
       "      <td>2014-05-29</td>\n",
       "      <td>485000.0</td>\n",
       "      <td>148.6</td>\n",
       "      <td>399.5</td>\n",
       "      <td>4</td>\n",
       "      <td>1.00</td>\n",
       "      <td>1.5</td>\n",
       "      <td>1916</td>\n",
       "    </tr>\n",
       "    <tr>\n",
       "      <th>1</th>\n",
       "      <td>2015-03-04</td>\n",
       "      <td>570000.0</td>\n",
       "      <td>117.1</td>\n",
       "      <td>309.2</td>\n",
       "      <td>3</td>\n",
       "      <td>1.75</td>\n",
       "      <td>1.0</td>\n",
       "      <td>1905</td>\n",
       "    </tr>\n",
       "    <tr>\n",
       "      <th>2</th>\n",
       "      <td>2014-06-26</td>\n",
       "      <td>518500.0</td>\n",
       "      <td>147.7</td>\n",
       "      <td>102.4</td>\n",
       "      <td>3</td>\n",
       "      <td>3.50</td>\n",
       "      <td>3.0</td>\n",
       "      <td>2010</td>\n",
       "    </tr>\n",
       "    <tr>\n",
       "      <th>3</th>\n",
       "      <td>2014-06-13</td>\n",
       "      <td>822500.0</td>\n",
       "      <td>215.5</td>\n",
       "      <td>460.8</td>\n",
       "      <td>5</td>\n",
       "      <td>3.50</td>\n",
       "      <td>2.0</td>\n",
       "      <td>1926</td>\n",
       "    </tr>\n",
       "    <tr>\n",
       "      <th>4</th>\n",
       "      <td>2014-11-04</td>\n",
       "      <td>511000.0</td>\n",
       "      <td>132.9</td>\n",
       "      <td>321.0</td>\n",
       "      <td>3</td>\n",
       "      <td>1.00</td>\n",
       "      <td>1.0</td>\n",
       "      <td>1947</td>\n",
       "    </tr>\n",
       "  </tbody>\n",
       "</table>\n",
       "</div>"
      ],
      "text/plain": [
       "        fecha  precio_USD  area_m2_util  area_m2_construida  habitaciones  \\\n",
       "0  2014-05-29    485000.0         148.6               399.5             4   \n",
       "1  2015-03-04    570000.0         117.1               309.2             3   \n",
       "2  2014-06-26    518500.0         147.7               102.4             3   \n",
       "3  2014-06-13    822500.0         215.5               460.8             5   \n",
       "4  2014-11-04    511000.0         132.9               321.0             3   \n",
       "\n",
       "   baños  pisos  año_construida  \n",
       "0   1.00    1.5            1916  \n",
       "1   1.75    1.0            1905  \n",
       "2   3.50    3.0            2010  \n",
       "3   3.50    2.0            1926  \n",
       "4   1.00    1.0            1947  "
      ]
     },
     "execution_count": 2,
     "metadata": {},
     "output_type": "execute_result"
    }
   ],
   "source": [
    "casas_file='s14_precios_casas.csv'\n",
    "casas = pd.read_csv(casas_file)\n",
    "casas.head()"
   ]
  },
  {
   "cell_type": "code",
   "execution_count": 3,
   "id": "f8a5e867",
   "metadata": {},
   "outputs": [
    {
     "name": "stdout",
     "output_type": "stream",
     "text": [
      "Número de casas: 602\n",
      "Número de habitaciones: [1, 2, 3, 4, 5, 6, 7, 9, 33]\n"
     ]
    }
   ],
   "source": [
    "print(\"Número de casas:\", len(casas))\n",
    "print(\"Número de habitaciones:\", sorted(casas[\"habitaciones\"].unique()))"
   ]
  },
  {
   "cell_type": "markdown",
   "id": "750b7583",
   "metadata": {},
   "source": [
    "La manera más efectiva de verificar si existe una relación entre dos variables es mediante el uso de visualizaciones, la visualización más empleada es el gráfico de puntos."
   ]
  },
  {
   "cell_type": "code",
   "execution_count": 4,
   "id": "d63d5966",
   "metadata": {},
   "outputs": [
    {
     "data": {
      "text/plain": [
       "Text(0.5, 1.0, 'Análisis de relación entre precio y área')"
      ]
     },
     "execution_count": 4,
     "metadata": {},
     "output_type": "execute_result"
    },
    {
     "data": {
      "image/png": "[encoded data removed]",
      "text/plain": [
       "<Figure size 1000x750 with 1 Axes>"
      ]
     },
     "metadata": {},
     "output_type": "display_data"
    }
   ],
   "source": [
    "casas.plot.scatter(x=\"area_m2_util\", y=\"precio_USD\", s=3);\n",
    "plt.xlabel(\"Area en metros cuadrados\")\n",
    "plt.ylabel(\"Precio de una casa (USD)\")\n",
    "plt.title(\"Análisis de relación entre precio y área\")"
   ]
  },
  {
   "cell_type": "markdown",
   "id": "0fc1959f",
   "metadata": {},
   "source": [
    "## Covarianza\n",
    "Indica el grado de variación conjunta de dos variables respecto a sus medias\n",
    "\n",
    "Dadas dos variables estadísticas x e y definiremos la covarianza $S_{xy}$ como\n",
    "\n",
    "$S_{xy} = \\frac{1}{n} \\sum_{i=1}^n (x_i - \\overline{x})(y_i - \\overline{y})$\n",
    "\n",
    "Donde:      \n",
    "n corresponde al total de registros      \n",
    "$\\overline{x}$ correspone a la media de x      \n",
    "$\\overline{y}$ corresponde a la media de y     \n",
    "\n",
    "Desarrollando algebraicamente la fórmula de covarianza podemos llegar a:       \n",
    "$S_{xy} = \\frac{1}{n} \\big(\\sum_{i=1}^n x_i\\cdot y_i \\big) - \\overline{x} \\cdot \\overline{y}$      \n",
    "    \n",
    "usaremos cov() (covarianza) de pandas"
   ]
  },
  {
   "cell_type": "code",
   "execution_count": 5,
   "id": "cab2a0b9",
   "metadata": {},
   "outputs": [
    {
     "data": {
      "text/html": [
       "<div>\n",
       "<style scoped>\n",
       "    .dataframe tbody tr th:only-of-type {\n",
       "        vertical-align: middle;\n",
       "    }\n",
       "\n",
       "    .dataframe tbody tr th {\n",
       "        vertical-align: top;\n",
       "    }\n",
       "\n",
       "    .dataframe thead th {\n",
       "        text-align: right;\n",
       "    }\n",
       "</style>\n",
       "<table border=\"1\" class=\"dataframe\">\n",
       "  <thead>\n",
       "    <tr style=\"text-align: right;\">\n",
       "      <th></th>\n",
       "      <th>precio_USD</th>\n",
       "      <th>area_m2_util</th>\n",
       "    </tr>\n",
       "  </thead>\n",
       "  <tbody>\n",
       "    <tr>\n",
       "      <th>precio_USD</th>\n",
       "      <td>4.366086e+10</td>\n",
       "      <td>9.069569e+06</td>\n",
       "    </tr>\n",
       "    <tr>\n",
       "      <th>area_m2_util</th>\n",
       "      <td>9.069569e+06</td>\n",
       "      <td>3.444799e+03</td>\n",
       "    </tr>\n",
       "  </tbody>\n",
       "</table>\n",
       "</div>"
      ],
      "text/plain": [
       "                precio_USD  area_m2_util\n",
       "precio_USD    4.366086e+10  9.069569e+06\n",
       "area_m2_util  9.069569e+06  3.444799e+03"
      ]
     },
     "execution_count": 5,
     "metadata": {},
     "output_type": "execute_result"
    }
   ],
   "source": [
    "casas[['precio_USD', 'area_m2_util']].cov()"
   ]
  },
  {
   "cell_type": "markdown",
   "id": "074b7b09",
   "metadata": {},
   "source": [
    "cov() devuelve una matriz que entrega la covarianza entre todas las variables de interés. El valor que nos interesa es fil 1 col 2 que corresponde a la covarianza entre los campos precio_USD y area_m2_util      \n",
    "       \n",
    "             \n",
    "<strong>Podemos notar que el valor de la covarianza es $9.07 \\times 10^6$ este valor es positivo y mucho mayor que cero, por lo que podemos concluir que existe una dependencia directa o positiva entre ambas variables</strong>"
   ]
  },
  {
   "cell_type": "code",
   "execution_count": 6,
   "id": "7ba6f450",
   "metadata": {},
   "outputs": [
    {
     "data": {
      "text/html": [
       "<div>\n",
       "<style scoped>\n",
       "    .dataframe tbody tr th:only-of-type {\n",
       "        vertical-align: middle;\n",
       "    }\n",
       "\n",
       "    .dataframe tbody tr th {\n",
       "        vertical-align: top;\n",
       "    }\n",
       "\n",
       "    .dataframe thead th {\n",
       "        text-align: right;\n",
       "    }\n",
       "</style>\n",
       "<table border=\"1\" class=\"dataframe\">\n",
       "  <thead>\n",
       "    <tr style=\"text-align: right;\">\n",
       "      <th></th>\n",
       "      <th>precio_USD</th>\n",
       "      <th>año_construida</th>\n",
       "    </tr>\n",
       "  </thead>\n",
       "  <tbody>\n",
       "    <tr>\n",
       "      <th>precio_USD</th>\n",
       "      <td>4.366086e+10</td>\n",
       "      <td>-1.213920e+06</td>\n",
       "    </tr>\n",
       "    <tr>\n",
       "      <th>año_construida</th>\n",
       "      <td>-1.213920e+06</td>\n",
       "      <td>1.725496e+03</td>\n",
       "    </tr>\n",
       "  </tbody>\n",
       "</table>\n",
       "</div>"
      ],
      "text/plain": [
       "                  precio_USD  año_construida\n",
       "precio_USD      4.366086e+10   -1.213920e+06\n",
       "año_construida -1.213920e+06    1.725496e+03"
      ]
     },
     "execution_count": 6,
     "metadata": {},
     "output_type": "execute_result"
    }
   ],
   "source": [
    "casas[['precio_USD', 'año_construida']].cov()"
   ]
  },
  {
   "cell_type": "markdown",
   "id": "1312f327",
   "metadata": {},
   "source": [
    "Podemos notar que el valor de la covarianza es $-1.21 \\times 10^6$ entre precio_usd y año_construida.    \n",
    "Este valor es negativo y mucho menor que cero, por lo cual podemos concluir que <strong>existe una dependencia inversa o negativa entre ambas partes</strong>"
   ]
  },
  {
   "cell_type": "markdown",
   "id": "e88ec150",
   "metadata": {},
   "source": [
    "## Correlación\n",
    "Si bien la covarianza cumple con el objetivo de medir el grado de asociació entre dos variables, está sufre de algunos inconvenientes. El primer inconveniente es que no tiene valores máximo ni mínimo, el segundo es que su valor depende de las unidades de medida de las variables.    \n",
    "Dada esta situación, es conveniente definir la correlacion y sus respectivos coeficientes.\n",
    "<strong>La correlación es la cantidad que indica la fuerza y la dirección de una relación líneal y proporcionalidad entre dos variables estadísticas</strong>"
   ]
  },
  {
   "cell_type": "markdown",
   "id": "7337d542",
   "metadata": {},
   "source": [
    "Dadas dos variables estadísticas x e y, el coeficiente de correlación de Pearson $r_{xy}$ se define como:      \n",
    "$r_{xy} = \\frac{S_{xy}}{S_x S_y}$"
   ]
  },
  {
   "cell_type": "markdown",
   "id": "ac54eb13",
   "metadata": {},
   "source": [
    "El coeficiente de correlación de Pearson se interpreta de modo análogo a la covarianza pero, al osilar entre -1 y 1 como máximo, la interpretación del mismo resulta más intuitiva a la vez que facilita el establecimiento de comparaciones entre dos coeficientes obtenidos para conjuntos de datos distintos\n",
    "\n",
    "Usaremos corr() (correlation) de pandas para determinar el coeficiente"
   ]
  },
  {
   "cell_type": "code",
   "execution_count": 7,
   "id": "7d11ece0",
   "metadata": {},
   "outputs": [
    {
     "data": {
      "text/html": [
       "<div>\n",
       "<style scoped>\n",
       "    .dataframe tbody tr th:only-of-type {\n",
       "        vertical-align: middle;\n",
       "    }\n",
       "\n",
       "    .dataframe tbody tr th {\n",
       "        vertical-align: top;\n",
       "    }\n",
       "\n",
       "    .dataframe thead th {\n",
       "        text-align: right;\n",
       "    }\n",
       "</style>\n",
       "<table border=\"1\" class=\"dataframe\">\n",
       "  <thead>\n",
       "    <tr style=\"text-align: right;\">\n",
       "      <th></th>\n",
       "      <th>precio_USD</th>\n",
       "      <th>area_m2_util</th>\n",
       "    </tr>\n",
       "  </thead>\n",
       "  <tbody>\n",
       "    <tr>\n",
       "      <th>precio_USD</th>\n",
       "      <td>1.000000</td>\n",
       "      <td>0.739535</td>\n",
       "    </tr>\n",
       "    <tr>\n",
       "      <th>area_m2_util</th>\n",
       "      <td>0.739535</td>\n",
       "      <td>1.000000</td>\n",
       "    </tr>\n",
       "  </tbody>\n",
       "</table>\n",
       "</div>"
      ],
      "text/plain": [
       "              precio_USD  area_m2_util\n",
       "precio_USD      1.000000      0.739535\n",
       "area_m2_util    0.739535      1.000000"
      ]
     },
     "execution_count": 7,
     "metadata": {},
     "output_type": "execute_result"
    }
   ],
   "source": [
    "casas[['precio_USD', 'area_m2_util']].corr()"
   ]
  },
  {
   "cell_type": "markdown",
   "id": "f933519e",
   "metadata": {},
   "source": [
    "El resultado corresponde a una matriz que entrega el coeficiente de correlación entre todas las variables de interés.Podemos notar que el valor del coeficiente de correlación es $0.74$. <strong>Este valor es positivo y cercano a uno, por lo cual podemos concluir que existe una relación directa entre ambas variables y su correlación es alta</strong>"
   ]
  },
  {
   "cell_type": "markdown",
   "id": "5a884f29",
   "metadata": {},
   "source": [
    "Analicemos la correlación entre precio_usd y año_construida"
   ]
  },
  {
   "cell_type": "code",
   "execution_count": 8,
   "id": "79fc9fcf",
   "metadata": {},
   "outputs": [
    {
     "data": {
      "text/html": [
       "<div>\n",
       "<style scoped>\n",
       "    .dataframe tbody tr th:only-of-type {\n",
       "        vertical-align: middle;\n",
       "    }\n",
       "\n",
       "    .dataframe tbody tr th {\n",
       "        vertical-align: top;\n",
       "    }\n",
       "\n",
       "    .dataframe thead th {\n",
       "        text-align: right;\n",
       "    }\n",
       "</style>\n",
       "<table border=\"1\" class=\"dataframe\">\n",
       "  <thead>\n",
       "    <tr style=\"text-align: right;\">\n",
       "      <th></th>\n",
       "      <th>precio_USD</th>\n",
       "      <th>año_construida</th>\n",
       "    </tr>\n",
       "  </thead>\n",
       "  <tbody>\n",
       "    <tr>\n",
       "      <th>precio_USD</th>\n",
       "      <td>1.000000</td>\n",
       "      <td>-0.139858</td>\n",
       "    </tr>\n",
       "    <tr>\n",
       "      <th>año_construida</th>\n",
       "      <td>-0.139858</td>\n",
       "      <td>1.000000</td>\n",
       "    </tr>\n",
       "  </tbody>\n",
       "</table>\n",
       "</div>"
      ],
      "text/plain": [
       "                precio_USD  año_construida\n",
       "precio_USD        1.000000       -0.139858\n",
       "año_construida   -0.139858        1.000000"
      ]
     },
     "execution_count": 8,
     "metadata": {},
     "output_type": "execute_result"
    }
   ],
   "source": [
    "casas[['precio_USD', 'año_construida']].corr()"
   ]
  },
  {
   "cell_type": "markdown",
   "id": "6f3b92e3",
   "metadata": {},
   "source": [
    "Podemos notar que el valor del coeficiente de correlación es -0.14. Este valor es negativo y más cercano al valor cero, por lo cual podemos concluir que existe una dependencia inversa entre ambas variables y su correlación es baja"
   ]
  },
  {
   "cell_type": "code",
   "execution_count": null,
   "id": "16878e1f",
   "metadata": {},
   "outputs": [],
   "source": []
  }
 ],
 "metadata": {
  "kernelspec": {
   "display_name": "Python 3 (ipykernel)",
   "language": "python",
   "name": "python3"
  },
  "language_info": {
   "codemirror_mode": {
    "name": "ipython",
    "version": 3
   },
   "file_extension": ".py",
   "mimetype": "text/x-python",
   "name": "python",
   "nbconvert_exporter": "python",
   "pygments_lexer": "ipython3",
   "version": "3.11.2"
  }
 },
 "nbformat": 4,
 "nbformat_minor": 5
}
