{
 "cells": [
  {
   "cell_type": "markdown",
   "metadata": {
    "id": "PYWd7ermjdtT"
   },
   "source": [
    "# sesión 3\n",
    "\n",
    "## Web scraping\n",
    "\n",
    "Para realizar web scraping hacemos uso del paquete  [Beautiful Soup](https://beautiful-soup-4.readthedocs.io/en/latest/)\n",
    "\n",
    "Importamos la librería\n",
    "\n"
   ]
  },
  {
   "cell_type": "code",
   "execution_count": null,
   "metadata": {
    "id": "cK_4cYq8j2UB"
   },
   "outputs": [],
   "source": [
    "from bs4 import BeautifulSoup\n",
    "import requests\n",
    "import time"
   ]
  },
  {
   "cell_type": "markdown",
   "metadata": {
    "id": "YBTI2P_pqGEG"
   },
   "source": [
    "\n",
    "\n",
    "\n",
    "---\n",
    "\n",
    "### Obtener información\n",
    "\n",
    "Hacemos una petición a Wikipedia en español\n"
   ]
  },
  {
   "cell_type": "code",
   "execution_count": null,
   "metadata": {
    "id": "6z9m46jelAVY"
   },
   "outputs": [],
   "source": [
    "respuesta = requests.get(\"https://es.wikipedia.org/wiki/Wikipedia:Portada\")"
   ]
  },
  {
   "cell_type": "markdown",
   "metadata": {
    "id": "ZOWib2m2qWg7"
   },
   "source": [
    "Revisamos la respuesta"
   ]
  },
  {
   "cell_type": "code",
   "execution_count": null,
   "metadata": {
    "id": "MU30PRWJk1Ke"
   },
   "outputs": [],
   "source": [
    "respuesta.ok"
   ]
  },
  {
   "cell_type": "markdown",
   "metadata": {
    "id": "YvCtM_-rqZ7A"
   },
   "source": [
    "Revisamos el contenido (texto)"
   ]
  },
  {
   "cell_type": "code",
   "execution_count": null,
   "metadata": {
    "id": "qsLZtOXQlMSE"
   },
   "outputs": [],
   "source": [
    "respuesta.text"
   ]
  },
  {
   "cell_type": "markdown",
   "metadata": {
    "id": "IfQPckR4qghJ"
   },
   "source": [
    "### Análisis de la información\n",
    "\n",
    "BeautifulSoup nos permite analizar el texto\n"
   ]
  },
  {
   "cell_type": "code",
   "execution_count": null,
   "metadata": {
    "id": "qp6-bsV1kqir"
   },
   "outputs": [],
   "source": [
    "soup = BeautifulSoup(respuesta.text, 'html.parser')"
   ]
  },
  {
   "cell_type": "markdown",
   "metadata": {
    "id": "2grWG30Cqmvr"
   },
   "source": [
    "Podemos ver una versión más \"humana\""
   ]
  },
  {
   "cell_type": "code",
   "execution_count": null,
   "metadata": {
    "id": "z9dxBcmBlZK-"
   },
   "outputs": [],
   "source": [
    "print(soup.prettify())"
   ]
  },
  {
   "cell_type": "markdown",
   "metadata": {
    "id": "UBo6Vhh8rXDN"
   },
   "source": [
    "### Acceso a la información\n",
    "\n",
    "Acceso a la etiqueta title\n"
   ]
  },
  {
   "cell_type": "code",
   "execution_count": null,
   "metadata": {
    "id": "3-8emGi-l0KK"
   },
   "outputs": [],
   "source": [
    "soup.title"
   ]
  },
  {
   "cell_type": "markdown",
   "metadata": {
    "id": "zUA6c1dwr3so"
   },
   "source": [
    "Acceso al nombre de la etiqueta"
   ]
  },
  {
   "cell_type": "code",
   "execution_count": null,
   "metadata": {
    "id": "JTyYJ3UFl9Tk"
   },
   "outputs": [],
   "source": [
    "soup.title.name\n"
   ]
  },
  {
   "cell_type": "markdown",
   "metadata": {
    "id": "6AywRex0r9pH"
   },
   "source": [
    "Acceso al texto dentro de la etiqueta"
   ]
  },
  {
   "cell_type": "code",
   "execution_count": null,
   "metadata": {
    "id": "rF38qZDxmAko"
   },
   "outputs": [],
   "source": [
    "soup.title.string"
   ]
  },
  {
   "cell_type": "markdown",
   "metadata": {
    "id": "qSC3hLImsE3S"
   },
   "source": [
    "Acceso al nodo padre"
   ]
  },
  {
   "cell_type": "code",
   "execution_count": null,
   "metadata": {
    "id": "X5p2QNfJmHyS"
   },
   "outputs": [],
   "source": [
    "soup.title.parent.name"
   ]
  },
  {
   "cell_type": "markdown",
   "metadata": {
    "id": "zN89CX6ksby_"
   },
   "source": [
    "Buscamos un solo elemento"
   ]
  },
  {
   "cell_type": "code",
   "execution_count": null,
   "metadata": {
    "id": "o1YMyzYOmKma"
   },
   "outputs": [],
   "source": [
    "soup.p\n"
   ]
  },
  {
   "cell_type": "markdown",
   "metadata": {
    "id": "AQ8Eiciysg5Y"
   },
   "source": [
    "Buscamos todos los elementos"
   ]
  },
  {
   "cell_type": "code",
   "execution_count": null,
   "metadata": {
    "id": "Ua667LMwmO2u"
   },
   "outputs": [],
   "source": [
    "soup.find_all('a')"
   ]
  },
  {
   "cell_type": "markdown",
   "metadata": {
    "id": "rj8bHFtrsq_-"
   },
   "source": [
    "Accedemos a subsecciones del documento\n",
    "\n",
    "Por ejemplo,  a la sección de otros proyectos\n"
   ]
  },
  {
   "cell_type": "code",
   "execution_count": null,
   "metadata": {
    "id": "G_E42GO2nU4U"
   },
   "outputs": [],
   "source": [
    "otros_proyectos = soup.find(id=\"main-wmfsp\")\n",
    "otros_proyectos"
   ]
  },
  {
   "cell_type": "markdown",
   "metadata": {
    "id": "Z_HmZ9-bsuMU"
   },
   "source": [
    "Podemos realizar las búsquedas sobre ese elemento"
   ]
  },
  {
   "cell_type": "code",
   "execution_count": null,
   "metadata": {
    "id": "bijxPimEny3a"
   },
   "outputs": [],
   "source": [
    "imagenes = otros_proyectos.find_all('img')\n",
    "\n",
    "imagenes"
   ]
  },
  {
   "cell_type": "markdown",
   "metadata": {
    "id": "536ybTCvs7jE"
   },
   "source": [
    "Podemos acceder a algún atributo particular de los elementos"
   ]
  },
  {
   "cell_type": "code",
   "execution_count": null,
   "metadata": {
    "id": "jzdzXYz1n7db"
   },
   "outputs": [],
   "source": [
    "for imagen in imagenes:\n",
    "  print(imagen.get('src'))\n",
    "  fuente = imagen.get('src')"
   ]
  },
  {
   "cell_type": "markdown",
   "metadata": {
    "id": "ACVKPd9-tFdG"
   },
   "source": [
    "Estos elementos extraídos se pueden convertir en nuevas peticiones "
   ]
  },
  {
   "cell_type": "code",
   "execution_count": null,
   "metadata": {
    "id": "WVgGnh5co0XA"
   },
   "outputs": [],
   "source": [
    "time.sleep(0.2)\n",
    "respuesta_img = requests.get(f\"https:{fuente}\")"
   ]
  },
  {
   "cell_type": "code",
   "execution_count": null,
   "metadata": {
    "id": "gYwod9PVpWdN"
   },
   "outputs": [],
   "source": [
    "respuesta_img.ok"
   ]
  },
  {
   "cell_type": "code",
   "execution_count": null,
   "metadata": {
    "id": "IH36rXAZplql"
   },
   "outputs": [],
   "source": [
    "nombre_archivo = \"logo.png\"\n",
    "with open(nombre_archivo, 'wb') as archivo:\n",
    "  archivo.write(respuesta_img.content)"
   ]
  },
  {
   "cell_type": "markdown",
   "metadata": {
    "id": "Cx6_Tr29p3mA"
   },
   "source": [
    "### Ejercicio\n",
    "\n",
    "¿Cómo podemos descargar todas las imágenes?\n"
   ]
  },
  {
   "cell_type": "code",
   "execution_count": null,
   "metadata": {
    "id": "oFc3Hj5AvmYo"
   },
   "outputs": [],
   "source": []
  },
  {
   "cell_type": "markdown",
   "metadata": {
    "id": "u92-pil3y8pm"
   },
   "source": [
    "\n",
    "\n",
    "---\n",
    "\n",
    "## Contenido Dinámico\n",
    "\n",
    "\n"
   ]
  },
  {
   "cell_type": "code",
   "execution_count": null,
   "metadata": {
    "id": "SIZU1HvOzH4-"
   },
   "outputs": [],
   "source": [
    "respuesta = requests.get(\"https://twitter.com\")"
   ]
  },
  {
   "cell_type": "code",
   "execution_count": null,
   "metadata": {
    "id": "evjlGKPuzLYt"
   },
   "outputs": [],
   "source": [
    "soup = BeautifulSoup(respuesta.text, 'html.parser')"
   ]
  },
  {
   "cell_type": "code",
   "execution_count": null,
   "metadata": {
    "id": "inZEU_xvzXfg"
   },
   "outputs": [],
   "source": [
    "print(soup.prettify())"
   ]
  },
  {
   "cell_type": "code",
   "execution_count": null,
   "metadata": {
    "id": "2tyD8NqzzcGp"
   },
   "outputs": [],
   "source": []
  }
 ],
 "metadata": {
  "colab": {
   "authorship_tag": "ABX9TyMfwq1rRJZoCi2tjtO9a/B1",
   "provenance": [],
   "toc_visible": true
  },
  "kernelspec": {
   "display_name": "Python 3 (ipykernel)",
   "language": "python",
   "name": "python3"
  },
  "language_info": {
   "codemirror_mode": {
    "name": "ipython",
    "version": 3
   },
   "file_extension": ".py",
   "mimetype": "text/x-python",
   "name": "python",
   "nbconvert_exporter": "python",
   "pygments_lexer": "ipython3",
   "version": "3.9.13"
  }
 },
 "nbformat": 4,
 "nbformat_minor": 1
}
