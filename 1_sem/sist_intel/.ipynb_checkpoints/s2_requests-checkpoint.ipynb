{
 "cells": [
  {
   "cell_type": "markdown",
   "metadata": {
    "id": "_n3nFXq6YM0x"
   },
   "source": [
    "# Cuaderno de ejemplos de Requests\n",
    "\n",
    "<img src=\"https://docs.python-requests.org/en/latest/_static/requests-sidebar.png\" alt=\"Requests logo\" width=\"200\"/>\n",
    "\n",
    "\n",
    "En este cuaderno vamos a ver algunos ejemplos de cómo utilizar la librería [requests](https://docs.python-requests.org/en/latest/index.html)  de Python para descargar y almacenar información. \n",
    "Como ejemplo se tomaran los microdatos de la [Encuesta de Ocupación y Empleo](https://www.inegi.org.mx/programas/enoe/15ymas/#Microdatos)  de [INEGI](https://www.inegi.org.mx/default.html)  \n",
    "\n",
    "Importamos la librería\n",
    "-\t**requests** nos va a permitir hacer las solicitudes y traer la informacion\n"
   ]
  },
  {
   "cell_type": "code",
   "execution_count": null,
   "metadata": {
    "id": "FDaa4CVSYFR4"
   },
   "outputs": [],
   "source": [
    "import requests"
   ]
  },
  {
   "cell_type": "markdown",
   "metadata": {
    "id": "Ol2n9J5odcbZ"
   },
   "source": [
    "Realizamos la solicitud para descargar el III Trimestre (ENOE_N) de 2022 en CSV "
   ]
  },
  {
   "cell_type": "code",
   "execution_count": null,
   "metadata": {
    "id": "OmlgBja3ZbeH"
   },
   "outputs": [],
   "source": [
    "respuesta = requests.get(\"https://www.inegi.org.mx/contenidos/programas/enoe/15ymas/microdatos/enoe_n_2022_trim3_csv.zip\")"
   ]
  },
  {
   "cell_type": "markdown",
   "metadata": {
    "id": "p1VMpxzsdQ_2"
   },
   "source": [
    "Revisamos el estado de la respuesta "
   ]
  },
  {
   "cell_type": "code",
   "execution_count": null,
   "metadata": {
    "colab": {
     "base_uri": "https://localhost:8080/"
    },
    "id": "HnUKofp6Z6MK",
    "outputId": "3353c6e7-d470-4874-fa7e-ec8f96103dc9"
   },
   "outputs": [
    {
     "data": {
      "text/plain": [
       "200"
      ]
     },
     "execution_count": 3,
     "metadata": {},
     "output_type": "execute_result"
    }
   ],
   "source": [
    "respuesta.status_code"
   ]
  },
  {
   "cell_type": "markdown",
   "metadata": {
    "id": "Cl7AlwQQdUnw"
   },
   "source": [
    "¿Es correcto ese estado?"
   ]
  },
  {
   "cell_type": "code",
   "execution_count": null,
   "metadata": {
    "colab": {
     "base_uri": "https://localhost:8080/"
    },
    "id": "Q3euT3yLaP3l",
    "outputId": "634933d2-684f-4af5-d2fc-a33e4e8844a7"
   },
   "outputs": [
    {
     "data": {
      "text/plain": [
       "True"
      ]
     },
     "execution_count": 4,
     "metadata": {},
     "output_type": "execute_result"
    }
   ],
   "source": [
    "respuesta.status_code == requests.codes.ok"
   ]
  },
  {
   "cell_type": "markdown",
   "metadata": {
    "id": "grRVm4DfdnKF"
   },
   "source": [
    "Abrimos un archivo y el resultado debe estar disponible en el disco "
   ]
  },
  {
   "cell_type": "code",
   "execution_count": null,
   "metadata": {
    "id": "dOVo-Z0CbVzR"
   },
   "outputs": [],
   "source": [
    "nombre_archivo = \"enoe_n_2022_trim3_csv.zip\"\n",
    "with open(nombre_archivo, 'wb') as archivo:\n",
    "  archivo.write(respuesta.content)"
   ]
  },
  {
   "cell_type": "markdown",
   "metadata": {
    "id": "YmX7LDA6eI6U"
   },
   "source": [
    "De esta manera podemos automatizar la descarga de archivos. Por ejemplo, descargar los CSV de 2021"
   ]
  },
  {
   "cell_type": "code",
   "execution_count": null,
   "metadata": {
    "colab": {
     "base_uri": "https://localhost:8080/"
    },
    "id": "cm3F8uiaeKw0",
    "outputId": "6f39dbd3-230d-4f1a-b4f7-abff63727ff7"
   },
   "outputs": [
    {
     "name": "stdout",
     "output_type": "stream",
     "text": [
      "200\n",
      "200\n",
      "200\n",
      "200\n"
     ]
    }
   ],
   "source": [
    "nombres_archivos = [\n",
    "  \"enoe_n_2021_trim4_csv.zip\",\n",
    "  \"enoe_n_2021_trim3_csv.zip\",\n",
    "  \"enoe_n_2021_trim2_csv.zip\",\n",
    "  \"enoe_n_2021_trim1_csv.zip\"\n",
    "]\n",
    "\n",
    "for nombre_archivo in nombres_archivos:\n",
    "  respuesta = requests.get(f\"https://www.inegi.org.mx/contenidos/programas/enoe/15ymas/microdatos/{nombre_archivo}\")\n",
    "  print(respuesta.status_code)\n",
    "  with open(nombre_archivo, 'wb') as archivo:\n",
    "    archivo.write(respuesta.content)"
   ]
  }
 ],
 "metadata": {
  "colab": {
   "provenance": []
  },
  "kernelspec": {
   "display_name": "Python 3 (ipykernel)",
   "language": "python",
   "name": "python3"
  },
  "language_info": {
   "codemirror_mode": {
    "name": "ipython",
    "version": 3
   },
   "file_extension": ".py",
   "mimetype": "text/x-python",
   "name": "python",
   "nbconvert_exporter": "python",
   "pygments_lexer": "ipython3",
   "version": "3.9.13"
  }
 },
 "nbformat": 4,
 "nbformat_minor": 1
}
