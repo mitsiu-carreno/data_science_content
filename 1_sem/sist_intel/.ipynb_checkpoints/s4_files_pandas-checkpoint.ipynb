{
 "cells": [
  {
   "cell_type": "markdown",
   "metadata": {
    "id": "Kn4iixAG8hdh"
   },
   "source": [
    "# Manejo de información en Python\n",
    "\n",
    "En este cuaderno mostraremos distintas maneras para manejar información en las que se puede usar Python para diversos formatos.\n"
   ]
  },
  {
   "cell_type": "code",
   "execution_count": null,
   "metadata": {
    "id": "C2dXlNBmByYW"
   },
   "outputs": [],
   "source": [
    "import pandas as pd\n",
    "import json\n",
    "import yaml\n",
    "from zipfile import ZipFile\n"
   ]
  },
  {
   "cell_type": "markdown",
   "metadata": {
    "id": "weaX_WGKbSRO"
   },
   "source": [
    "## Archivos zip\n",
    "\n",
    "\n",
    "Podemos trabajar con archivos zip con la libreria zipfile "
   ]
  },
  {
   "cell_type": "markdown",
   "metadata": {
    "id": "bS4i4jJGeWIo"
   },
   "source": [
    "Podemos listar los archivos "
   ]
  },
  {
   "cell_type": "code",
   "execution_count": null,
   "metadata": {
    "colab": {
     "base_uri": "https://localhost:8080/"
    },
    "id": "SKfA6nodd-pp",
    "outputId": "a5aa4f7f-a292-484f-e48b-5a61a96f2870"
   },
   "outputs": [
    {
     "name": "stdout",
     "output_type": "stream",
     "text": [
      "File Name                                             Modified             Size\n",
      "archivo_json.json                              2023-03-03 15:56:24          164\n",
      "archivo_texto.txt                              2023-03-03 15:53:36           30\n",
      "archivo_yaml.yaml                              2023-03-03 15:59:06          341\n",
      "penguins.csv                                   2023-03-03 00:35:00        15241\n",
      "penguins.parquet                               2023-03-03 16:01:00         8812\n"
     ]
    }
   ],
   "source": [
    "with ZipFile(\"datos.zip\", 'r') as zip:\n",
    "    # printing all the contents of the zip file\n",
    "    zip.printdir()"
   ]
  },
  {
   "cell_type": "markdown",
   "metadata": {
    "id": "KqZasIU8ebER"
   },
   "source": [
    "Podemos extraer todos los archivos"
   ]
  },
  {
   "cell_type": "code",
   "execution_count": null,
   "metadata": {
    "id": "Cgn5vwof58DW"
   },
   "outputs": [],
   "source": [
    "with ZipFile(\"datos.zip\", 'r') as zip:\n",
    "  zip.extract(\"penguins.csv\")"
   ]
  },
  {
   "cell_type": "markdown",
   "metadata": {
    "id": "9h_fGYYUe20I"
   },
   "source": [
    "Podemos extraer un solo archivo \n",
    "\n"
   ]
  },
  {
   "cell_type": "code",
   "execution_count": null,
   "metadata": {
    "id": "4zw_Eabqecbk"
   },
   "outputs": [],
   "source": [
    "with ZipFile(\"datos.zip\", 'r') as zip:\n",
    "    zip.extractall()"
   ]
  },
  {
   "cell_type": "markdown",
   "metadata": {
    "id": "1opp62yO8h6H"
   },
   "source": [
    "## Archivos básicos\n",
    "\n",
    "El ejemplo más común y básico es utilizar archivos de texto, los cuales se pueden abrir con la herramienta open y así acceder a su contenido."
   ]
  },
  {
   "cell_type": "code",
   "execution_count": null,
   "metadata": {
    "colab": {
     "base_uri": "https://localhost:8080/",
     "height": 35
    },
    "id": "ozq3hcF-B1Jf",
    "outputId": "60aa7500-3b8d-4249-fd57-4dfd12ca938e"
   },
   "outputs": [
    {
     "data": {
      "application/vnd.google.colaboratory.intrinsic+json": {
       "type": "string"
      },
      "text/plain": [
       "'primera linea\\nsegunda linea\\n'"
      ]
     },
     "execution_count": 6,
     "metadata": {},
     "output_type": "execute_result"
    }
   ],
   "source": [
    "with open('archivo_texto.txt',\"r\") as f:\n",
    "    read_data = f.read()\n",
    "read_data"
   ]
  },
  {
   "cell_type": "markdown",
   "metadata": {
    "id": "yFK5ntsb8izO"
   },
   "source": [
    "De la misma manera es posible escribir contenido en archivos y guardarlo para posterior uso.\n"
   ]
  },
  {
   "cell_type": "code",
   "execution_count": null,
   "metadata": {
    "colab": {
     "base_uri": "https://localhost:8080/"
    },
    "id": "0bBniFXVDIzh",
    "outputId": "a65775ea-3ba2-4f79-c6e1-d6364e5d2e77"
   },
   "outputs": [
    {
     "name": "stdout",
     "output_type": "stream",
     "text": [
      "primera linea\n",
      "segunda linea\n",
      "Tercera linea\n",
      "Tercera linea\n",
      "Tercera linea\n"
     ]
    }
   ],
   "source": [
    "with open('archivo_texto.txt',\"a\") as f:\n",
    "  f.write('Tercera linea\\n')\n",
    "  \n",
    "with open('archivo_texto.txt',\"r\") as f:\n",
    "    for linea in f:\n",
    "      print(linea, end='')"
   ]
  },
  {
   "cell_type": "markdown",
   "metadata": {
    "id": "zGfJCwao8jy6"
   },
   "source": [
    "Uno de los formatos soportados de manera nativa por Python es json. En el cual se abre el archivo de la misma manera que en formatos de texto y se lee el contenido con la función load. Lo que obtenemos de esta función es un diccionario de datos con el contenido del archivo."
   ]
  },
  {
   "cell_type": "code",
   "execution_count": null,
   "metadata": {
    "id": "7jFr9ESPDAJX"
   },
   "outputs": [],
   "source": [
    "with open('archivo_json.json',\"r\") as f:\n",
    "  datos_json = json.load(f)\n",
    "datos_json"
   ]
  },
  {
   "cell_type": "markdown",
   "metadata": {
    "id": "haBz20In8kbl"
   },
   "source": [
    "Con esto podemos acceder a elementos particulares del diccionario obtenido, así también podemos editar valores para después guardarlos en disco."
   ]
  },
  {
   "cell_type": "code",
   "execution_count": null,
   "metadata": {
    "id": "FhcmDTQbFzJq"
   },
   "outputs": [],
   "source": [
    "print(datos_json[\"nombre\"])\n"
   ]
  },
  {
   "cell_type": "code",
   "execution_count": null,
   "metadata": {
    "id": "pTfynQKzGSln"
   },
   "outputs": [],
   "source": [
    "datos_json[\"amigos\"] = [\"Solin\",\"Luigi Geovany\"]\n",
    "with open('archivo_json_2.json',\"w\") as f:\n",
    "  json.dump(datos_json,f)"
   ]
  },
  {
   "cell_type": "markdown",
   "metadata": {
    "id": "FiugIKvL8l8R"
   },
   "source": [
    "Un formato que ha ganado popularidad recientemente es el formato yaml el cual tiene la característica detener una mejor legibilidad por humanos.\n",
    "\n"
   ]
  },
  {
   "cell_type": "code",
   "execution_count": null,
   "metadata": {
    "id": "9nn0UWgKGlKK"
   },
   "outputs": [],
   "source": [
    "with open('archivo_yaml.yaml',\"r\") as f:\n",
    "  datos_yaml = yaml.safe_load(f)\n",
    "datos_yaml"
   ]
  },
  {
   "cell_type": "markdown",
   "metadata": {
    "id": "CQQZxeTH8mte"
   },
   "source": [
    "A través de la librería homónima, se puede obtener de este un diccionario de datos de la misma manera que json. Con la información la cual puede ser accedida y modificada. yaml también cuenta con una función para escribir en archivos de la misma manera que json."
   ]
  },
  {
   "cell_type": "code",
   "execution_count": null,
   "metadata": {
    "id": "QJfA3DRCIA7o"
   },
   "outputs": [],
   "source": [
    "datos_yaml['published']"
   ]
  },
  {
   "cell_type": "code",
   "execution_count": null,
   "metadata": {
    "id": "1ukTrDrlIV0r"
   },
   "outputs": [],
   "source": [
    "datos_yaml['autor'] = 'Irivng'\n",
    "\n",
    "with open('archivo_yaml_2.yaml',\"w\") as f:\n",
    "  yaml.dump(datos_yaml,f)"
   ]
  },
  {
   "cell_type": "markdown",
   "metadata": {
    "id": "EZOKMUIL8n-h"
   },
   "source": [
    "## Uso de pandas \n",
    "\n",
    "Uno de los formatos más ampliamente utilizados para almacenar información es el formato csv. Aunque puede ser leído de la misma manera como un archivo de texto la librería panda nos ayuda a obtener estos archivos y analizarlos de manera sencilla."
   ]
  },
  {
   "cell_type": "code",
   "execution_count": null,
   "metadata": {
    "id": "ylzXd0KVI7gx"
   },
   "outputs": [],
   "source": [
    "datos = pd.read_csv(\"penguins.csv\")"
   ]
  },
  {
   "cell_type": "markdown",
   "metadata": {
    "id": "610BPnMY8oRz"
   },
   "source": [
    "Pandas soporta también el acceso a otros formatos más especializados como es parquet, orc, Excel, stata, sas, html e incluso SQL."
   ]
  },
  {
   "cell_type": "code",
   "execution_count": null,
   "metadata": {
    "id": "bIGThU6FNQi_"
   },
   "outputs": [],
   "source": [
    "df_pinguinos = pd.read_parquet(\"penguins.parquet\")\n",
    "df_pinguinos"
   ]
  },
  {
   "cell_type": "markdown",
   "metadata": {
    "id": "7TqONz1u8pUB"
   },
   "source": [
    "El objeto obtenido de leer una fuente por pandas es llamado dataframe.\n",
    "Las columnas de datos pueden ser seleccionadas de manera sencilla al establecer las variables necesarias.\n"
   ]
  },
  {
   "cell_type": "code",
   "execution_count": null,
   "metadata": {
    "id": "Kqi3f0Q_NdhJ"
   },
   "outputs": [],
   "source": [
    "df_pinguinos_textos = df_pinguinos[['species', 'island','sex']]\n",
    "df_pinguinos_textos"
   ]
  },
  {
   "cell_type": "markdown",
   "metadata": {
    "id": "hj4wJDB68p-g"
   },
   "source": [
    "También es posible filtrar los registros respecto a uno o varios valores de columnas. Por ejemplo, en esta tabla nos concentramos sólo en los elementos con masa mayor a 4000."
   ]
  },
  {
   "cell_type": "code",
   "execution_count": null,
   "metadata": {
    "id": "KnwxI4aTgBbE"
   },
   "outputs": [],
   "source": [
    "df_pinguinos_gordos = df_pinguinos[df_pinguinos[\"body_mass_g\"] > 4000]\n",
    "df_pinguinos_gordos = df_pinguinos[df_pinguinos[\"body_mass_g\"] > 4000][['species', 'island']]\n",
    "df_pinguinos_gordos"
   ]
  },
  {
   "cell_type": "markdown",
   "metadata": {
    "id": "m4ieJKhD8qy6"
   },
   "source": [
    "La manera en que funciona esto es que primero se calcula un vector booleano donde verdadero son los datos incluidos en la tabla, y falso son los que serán omitidos."
   ]
  },
  {
   "cell_type": "code",
   "execution_count": null,
   "metadata": {
    "id": "aG2sBKZbgk6w"
   },
   "outputs": [],
   "source": [
    "df_pinguinos[\"body_mass_g\"] > 4000"
   ]
  },
  {
   "cell_type": "markdown",
   "metadata": {
    "id": "nmOypfQV8rQt"
   },
   "source": [
    "Las tablas de datos permiten también la creación de gráficos de manera rápida. Aunque para un control más fino y gráficos detallados, se recomiendan otras herramientas como matplotlib y seaborn."
   ]
  },
  {
   "cell_type": "code",
   "execution_count": null,
   "metadata": {
    "id": "Bday38lxg_bC"
   },
   "outputs": [],
   "source": [
    "df_pinguinos.plot.scatter(x=\"bill_depth_mm\", y=\"body_mass_g\", alpha=0.5)"
   ]
  },
  {
   "cell_type": "markdown",
   "metadata": {
    "id": "3IgIujKE8r1Y"
   },
   "source": [
    "Podemos calcular nuevas variables en base a las existentes a través de operaciones básicas que se realizan de manera eficiente. no se recomienda el uso en pandas de ciclos para atravesar la estructura de la tabla."
   ]
  },
  {
   "cell_type": "code",
   "execution_count": null,
   "metadata": {
    "id": "DsjIwHujibn9"
   },
   "outputs": [],
   "source": [
    "df_pinguinos[\"bill_area_mm2\"] = (df_pinguinos[\"bill_length_mm\"] * df_pinguinos[\"bill_depth_mm\"]\t) / 2\n",
    "df_pinguinos"
   ]
  },
  {
   "cell_type": "markdown",
   "metadata": {
    "id": "2j301Xqw8siu"
   },
   "source": [
    "También se tiene fácil acceso a funciones de agregación, por ejemplo la media la cual es calculada para las variables pertinentes."
   ]
  },
  {
   "cell_type": "code",
   "execution_count": null,
   "metadata": {
    "id": "zfcE4Bmb6ED0"
   },
   "outputs": [],
   "source": [
    "df_pinguinos.mean()"
   ]
  },
  {
   "cell_type": "markdown",
   "metadata": {
    "id": "KWyeT5eR8tW2"
   },
   "source": [
    "Una función muy útil es la de describe, la cual nos da una serie de agregaciones distintas para todas las variables disponibles."
   ]
  },
  {
   "cell_type": "code",
   "execution_count": null,
   "metadata": {
    "id": "-h7O7AVF5k48"
   },
   "outputs": [],
   "source": [
    "df_pinguinos.describe()"
   ]
  },
  {
   "cell_type": "markdown",
   "metadata": {
    "id": "yE2jErAc8t2p"
   },
   "source": [
    "Si es de nuestro interés calcular agregaciones por clases es también posible utilizando groupby."
   ]
  },
  {
   "cell_type": "code",
   "execution_count": null,
   "metadata": {
    "id": "84aV5c3d4_MP"
   },
   "outputs": [],
   "source": [
    "df_pinguinos.groupby([\"species\",\"island\"]).mean()"
   ]
  },
  {
   "cell_type": "markdown",
   "metadata": {
    "id": "HH89TIGL8ubf"
   },
   "source": [
    "Podemos tambien ordenar los registros respecto a alguna variable de interés."
   ]
  },
  {
   "cell_type": "code",
   "execution_count": null,
   "metadata": {
    "id": "UgtVEdUA56vh"
   },
   "outputs": [],
   "source": [
    "df_pinguinos_gordos.sort_values(\"body_mass_g\")"
   ]
  },
  {
   "cell_type": "markdown",
   "metadata": {
    "id": "sJsmbz6X8vCS"
   },
   "source": [
    "En algunos casos es necesario cambiar la estructura de la tabla y convertir, por ejemplo, valores y agregaciones de filas en columnas. Esto se logra a través de pivot_table."
   ]
  },
  {
   "cell_type": "code",
   "execution_count": null,
   "metadata": {
    "id": "ygGsDiRE6lze"
   },
   "outputs": [],
   "source": [
    "df_pinguinos.pivot_table(\n",
    "    values=\"bill_length_mm\", \n",
    "    index=\"year\", \n",
    "    columns=\"species\", \n",
    "    aggfunc=\"mean\",\n",
    "    margins=True\n",
    ")"
   ]
  },
  {
   "cell_type": "markdown",
   "metadata": {
    "id": "Vu3GOzzf8vmQ"
   },
   "source": [
    "El caso inverso es también posible al convertir valores de columnas en valores de registros a través de la función melt."
   ]
  },
  {
   "cell_type": "code",
   "execution_count": null,
   "metadata": {
    "id": "2N0fEidU7Xz2"
   },
   "outputs": [],
   "source": [
    "df_pinguinos[[\"species\",\t\"island\",\t\"bill_length_mm\",\t\"bill_depth_mm\",\t\"flipper_length_mm\"]].melt(\n",
    "    id_vars=[\"species\",\t\"island\",]\n",
    ")"
   ]
  }
 ],
 "metadata": {
  "colab": {
   "provenance": []
  },
  "kernelspec": {
   "display_name": "Python 3 (ipykernel)",
   "language": "python",
   "name": "python3"
  },
  "language_info": {
   "codemirror_mode": {
    "name": "ipython",
    "version": 3
   },
   "file_extension": ".py",
   "mimetype": "text/x-python",
   "name": "python",
   "nbconvert_exporter": "python",
   "pygments_lexer": "ipython3",
   "version": "3.9.13"
  }
 },
 "nbformat": 4,
 "nbformat_minor": 1
}
