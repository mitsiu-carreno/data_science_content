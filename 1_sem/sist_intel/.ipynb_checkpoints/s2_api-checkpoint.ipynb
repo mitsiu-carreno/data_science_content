{
 "cells": [
  {
   "cell_type": "markdown",
   "metadata": {
    "id": "OrpMuwjigzeI"
   },
   "source": [
    "# Cuaderno de ejemplos de APIs\n",
    "\n",
    "\n",
    "En este cuaderno vamos a ver algunos ejemplos de cómo utilizar la librería [requests](https://docs.python-requests.org/en/latest/index.html)  de Python para solicitar información de APId. \n",
    "\n",
    "Como ejemplo se tomara la [API del Banco de Indicadores](https://www.inegi.org.mx/servicios/api_indicadores.html)  de [INEGI](https://www.inegi.org.mx/default.html)  \n",
    "\n",
    "Importamos la librería\n",
    "-\t**requests** nos va a permitir hacer las solicitudes y traer la informacion\n",
    "- **json** nos facilita trabajar con este formato"
   ]
  },
  {
   "cell_type": "code",
   "execution_count": null,
   "metadata": {
    "id": "ZESoloIgghZx"
   },
   "outputs": [],
   "source": [
    "import requests\n",
    "import json"
   ]
  },
  {
   "cell_type": "markdown",
   "metadata": {
    "id": "nDolBiCWhccm"
   },
   "source": [
    "Establecemos el token para acceder a la API"
   ]
  },
  {
   "cell_type": "code",
   "execution_count": null,
   "metadata": {
    "id": "OKwMiKAlhbqJ"
   },
   "outputs": [],
   "source": [
    "TOKEN = ''"
   ]
  },
  {
   "cell_type": "markdown",
   "metadata": {
    "id": "_H-mODxRifHb"
   },
   "source": [
    "Tomamos como la serie de poblacion total.\n",
    "\n",
    "Nos podemos apoyar del *Constructor de Consultas* para construir la URL."
   ]
  },
  {
   "cell_type": "code",
   "execution_count": null,
   "metadata": {
    "id": "5R5i9bDCgp0G"
   },
   "outputs": [],
   "source": [
    "url=f'https://www.inegi.org.mx/app/api/indicadores/desarrolladores/jsonxml/INDICATOR/1002000001/es/0700/false/BISE/2.0/{TOKEN}?type=json'\n",
    "respuesta= requests.get(url)\n",
    "\n"
   ]
  },
  {
   "cell_type": "markdown",
   "metadata": {
    "id": "7P7tuGopjcFb"
   },
   "source": [
    "Revisamos el estado de la respuesta y si es correcto ese estado\n"
   ]
  },
  {
   "cell_type": "code",
   "execution_count": null,
   "metadata": {
    "id": "jRq3EhfojiHH"
   },
   "outputs": [],
   "source": [
    "respuesta.status_code"
   ]
  },
  {
   "cell_type": "code",
   "execution_count": null,
   "metadata": {
    "id": "OC5GpIJBji5z"
   },
   "outputs": [],
   "source": [
    "respuesta.status_code == requests.codes.ok"
   ]
  },
  {
   "cell_type": "markdown",
   "metadata": {
    "id": "JF7985evj3s1"
   },
   "source": [
    "\n",
    "Extraemos el contenido en formato json"
   ]
  },
  {
   "cell_type": "code",
   "execution_count": null,
   "metadata": {
    "id": "NBrYMLy-jtju"
   },
   "outputs": [],
   "source": [
    "contenido = json.loads(respuesta.content)"
   ]
  },
  {
   "cell_type": "markdown",
   "metadata": {
    "id": "aOofQikCm4Yj"
   },
   "source": [
    "Obtenemos las observaciones y las imprimimos"
   ]
  },
  {
   "cell_type": "code",
   "execution_count": null,
   "metadata": {
    "id": "IKJxujAElvmT"
   },
   "outputs": [],
   "source": [
    "observaciones = contenido['Series'][0]['OBSERVATIONS']"
   ]
  },
  {
   "cell_type": "code",
   "execution_count": null,
   "metadata": {
    "id": "pNIUAymtl9_b"
   },
   "outputs": [],
   "source": [
    "for obs in observaciones:\n",
    "  print(f\"{obs['TIME_PERIOD']}: {obs['OBS_VALUE']}\")"
   ]
  }
 ],
 "metadata": {
  "colab": {
   "provenance": []
  },
  "kernelspec": {
   "display_name": "Python 3 (ipykernel)",
   "language": "python",
   "name": "python3"
  },
  "language_info": {
   "codemirror_mode": {
    "name": "ipython",
    "version": 3
   },
   "file_extension": ".py",
   "mimetype": "text/x-python",
   "name": "python",
   "nbconvert_exporter": "python",
   "pygments_lexer": "ipython3",
   "version": "3.9.13"
  }
 },
 "nbformat": 4,
 "nbformat_minor": 1
}
