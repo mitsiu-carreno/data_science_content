{
  "cells": [
    {
      "cell_type": "markdown",
      "metadata": {
        "id": "5fCEDCU_qrC0"
      },
      "source": [
        "*traduccion del documento original* \n",
        "<div class=\"markdown-google-sans\">\n",
        "   <h1>¿Qué es Colab?</h1>\n",
        "</div>\n",
        "\n",
        "Colab, o \"Colaboration\", le permite escribir y ejecutar Python en su navegador, con\n",
        "- cero configuración requerida\n",
        "- Acceso a las GPU sin cargo\n",
        "- Fácil de compartir\n",
        "\n",
        "Tanto si es un **estudiante**, un **científico de datos** o un **investigador de inteligencia artificial**, Colab puede facilitarle el trabajo. Mire [Introducción a Colab](https://www.youtube.com/watch?v=inN8seMm7UI) para obtener más información, ¡o simplemente comience a continuación!"
      ]
    },
    {
      "cell_type": "markdown",
      "metadata": {
        "id": "GJBs_flRovLc"
      },
      "source": [
        "\n",
        "## **Empezando**\n",
        "</div>\n",
        "\n",
        "El documento que está leyendo no es una página web estática, sino un entorno interactivo denominado **Cuaderno de notas de Colab** que le permite escribir y ejecutar código.\n",
        "\n",
        "Por ejemplo, aquí hay una **celda de código** con un breve script de Python que calcula un valor, lo almacena en una variable e imprime el resultado:"
      ]
    },
    {
      "cell_type": "code",
      "execution_count": null,
      "metadata": {
        "colab": {
          "base_uri": "https://localhost:8080/"
        },
        "id": "gJr_9dXGpJ05",
        "outputId": "0b7acafd-6803-4f79-cdd7-718afb13077d"
      },
      "outputs": [
        {
          "output_type": "execute_result",
          "data": {
            "text/plain": [
              "86400"
            ]
          },
          "metadata": {},
          "execution_count": 3
        }
      ],
      "source": [
        "seconds_in_a_day = 24 * 60 * 60\n",
        "seconds_in_a_day"
      ]
    },
    {
      "cell_type": "markdown",
      "metadata": {
        "id": "2fhs6GZ4qFMx"
      },
      "source": [
        "Para ejecutar el código en la celda anterior, selecciónelo con un clic y luego presione el botón de reproducción a la izquierda del código, o use el atajo de teclado \"Comando/Ctrl+Enter\". Para editar el código, simplemente haga clic en la celda y comience a editar.\n",
        "\n",
        "Las variables que defina en una celda se pueden usar más adelante en otras celdas:"
      ]
    },
    {
      "cell_type": "code",
      "execution_count": null,
      "metadata": {
        "colab": {
          "base_uri": "https://localhost:8080/",
          "height": 34
        },
        "id": "-gE-Ez1qtyIA",
        "outputId": "94cb2224-0edf-457b-90b5-0ac3488d8a97"
      },
      "outputs": [
        {
          "data": {
            "text/plain": [
              "604800"
            ]
          },
          "execution_count": 0,
          "metadata": {
            "tags": []
          },
          "output_type": "execute_result"
        }
      ],
      "source": [
        "seconds_in_a_week = 7 * seconds_in_a_day\n",
        "seconds_in_a_week"
      ]
    },
    {
      "cell_type": "markdown",
      "metadata": {
        "id": "lSrWNr3MuFUS"
      },
      "source": [
        "Los cuadernos de Colab te permiten combinar **código ejecutable** y **texto enriquecido** en un solo documento, junto con **imágenes**, **HTML**, **LaTeX** y más. Cuando crea sus propios cuadernos de Colab, se almacenan en su cuenta de Google Drive. Puede compartir fácilmente sus cuadernos de Colab con compañeros de trabajo o amigos, permitiéndoles comentar sus cuadernos o incluso editarlos. Para obtener más información, consulte [Descripción general de Colab](/notebooks/basic_features_overview.ipynb). Para crear un nuevo cuaderno de Colab, puede usar el menú Archivo de arriba o usar el siguiente enlace: [crear un nuevo cuaderno de Colab](http://colab.research.google.com#create=true).\n",
        "\n",
        "Los cuadernos de Colab son cuadernos de Jupyter alojados por Colab. Para obtener más información sobre el proyecto Jupyter, consulte [jupyter.org](https://www.jupyter.org)."
      ]
    },
    {
      "cell_type": "markdown",
      "metadata": {
        "id": "UdRyKR44dcNI"
      },
      "source": [
        "<div class=\"markdown-google-sans\">\n",
        "\n",
        "## Ciencia de los datos\n",
        "</div>\n",
        "\n",
        "Con Colab, puede aprovechar todo el poder de las bibliotecas populares de Python para analizar y visualizar datos. La siguiente celda de código usa **numpy** para generar algunos datos aleatorios y usa **matplotlib** para visualizarlos. Para editar el código, simplemente haga clic en la celda y comience a editar."
      ]
    },
    {
      "cell_type": "code",
      "execution_count": null,
      "metadata": {
        "colab": {
          "base_uri": "https://localhost:8080/",
          "height": 281
        },
        "id": "C4HZx7Gndbrh",
        "outputId": "b738ee74-30f4-4aae-b0c8-a7e20f4fcbda"
      },
      "outputs": [
        {
          "output_type": "display_data",
          "data": {
            "text/plain": [
              "<Figure size 432x288 with 1 Axes>"
            ],
            "image/png": "[encoded data removed]"
          },
          "metadata": {
            "needs_background": "light"
          }
        }
      ],
      "source": [
        "import numpy as np\n",
        "from matplotlib import pyplot as plt\n",
        "\n",
        "ys = 200 + np.random.randn(100)\n",
        "# [] lista \n",
        "x = [x for x in range(len(ys))]\n",
        "\n",
        "plt.plot(x, ys, '-')\n",
        "plt.fill_between(x, ys, 195, where=(ys > 195), facecolor='g', alpha=0.6)\n",
        "\n",
        "plt.title(\"Sample Visualization\")\n",
        "plt.show()"
      ]
    },
    {
      "cell_type": "markdown",
      "metadata": {
        "id": "4_kCnsPUqS6o"
      },
      "source": [
        "Puede importar sus propios datos a los cuadernos de Colab desde su cuenta de Google Drive, incluso desde hojas de cálculo, así como desde Github y muchas otras fuentes. "
      ]
    },
    {
      "cell_type": "markdown",
      "metadata": {
        "id": "OwuxHmxllTwN"
      },
      "source": [
        "<div class=\"markdown-google-sans\">\n",
        "\n",
        "## Aprendizaje automático\n",
        "</div>\n",
        "\n",
        "Con Colab, puede importar un conjunto de datos de imágenes, entrenar un clasificador de imágenes en él y evaluar el modelo, todo en solo [unas pocas líneas de código] (https://colab.research.google.com/github/tensorflow/docs/ blob/master/site/en/tutorials/quickstart/beginner.ipynb). Las notebooks de Colab ejecutan código en los servidores en la nube de Google, lo que significa que puede aprovechar la potencia del hardware de Google, incluidas [GPU y TPU] (#using-accelerated-hardware), independientemente de la potencia de su máquina. Todo lo que necesita[link text](https://) es un navegador."
      ]
    },
    {
      "cell_type": "markdown",
      "metadata": {
        "id": "ufxBm1yRnruN"
      },
      "source": [
        "Colab se usa ampliamente en la comunidad de aprendizaje automático con aplicaciones que incluyen:\n",
        "- Primeros pasos con TensorFlow\n",
        "- Desarrollo y entrenamiento de redes neuronales.\n",
        "- Experimentando con TPU\n",
        "- Difundir la investigación en IA\n",
        "- Creación de tutoriales\n"
      ]
    }
  ],
  "metadata": {
    "colab": {
      "provenance": []
    },
    "kernelspec": {
      "display_name": "Python 3",
      "name": "python3"
    }
  },
  "nbformat": 4,
  "nbformat_minor": 0
}