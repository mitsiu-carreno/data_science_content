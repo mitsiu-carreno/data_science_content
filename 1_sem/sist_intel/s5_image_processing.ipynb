{
 "cells": [
  {
   "cell_type": "markdown",
   "metadata": {
    "id": "CmAUodXIw6BR"
   },
   "source": [
    "# Extracción de información de imágenes\n",
    "\n",
    "En este cuaderno veremos algunas herramientas para extracción de información de imágenes.\n",
    "\n",
    "Haremos uso de las librerías numpy, openCV y scikit image, además de matplotlib para mostrar gráficos de histogramas de color"
   ]
  },
  {
   "cell_type": "code",
   "execution_count": 1,
   "metadata": {
    "id": "8IQEXeGudshQ"
   },
   "outputs": [
    {
     "ename": "ModuleNotFoundError",
     "evalue": "No module named 'cv2'",
     "output_type": "error",
     "traceback": [
      "\u001b[0;31m---------------------------------------------------------------------------\u001b[0m",
      "\u001b[0;31mModuleNotFoundError\u001b[0m                       Traceback (most recent call last)",
      "\u001b[0;32m/tmp/ipykernel_25789/3616981988.py\u001b[0m in \u001b[0;36m<module>\u001b[0;34m\u001b[0m\n\u001b[1;32m      1\u001b[0m \u001b[0;32mimport\u001b[0m \u001b[0mmatplotlib\u001b[0m\u001b[0;34m.\u001b[0m\u001b[0mpyplot\u001b[0m \u001b[0;32mas\u001b[0m \u001b[0mplt\u001b[0m\u001b[0;34m\u001b[0m\u001b[0;34m\u001b[0m\u001b[0m\n\u001b[1;32m      2\u001b[0m \u001b[0;32mimport\u001b[0m \u001b[0mnumpy\u001b[0m \u001b[0;32mas\u001b[0m \u001b[0mnp\u001b[0m\u001b[0;34m\u001b[0m\u001b[0;34m\u001b[0m\u001b[0m\n\u001b[0;32m----> 3\u001b[0;31m \u001b[0;32mimport\u001b[0m \u001b[0mcv2\u001b[0m\u001b[0;34m\u001b[0m\u001b[0;34m\u001b[0m\u001b[0m\n\u001b[0m\u001b[1;32m      4\u001b[0m \u001b[0;32mfrom\u001b[0m \u001b[0mgoogle\u001b[0m\u001b[0;34m.\u001b[0m\u001b[0mcolab\u001b[0m\u001b[0;34m.\u001b[0m\u001b[0mpatches\u001b[0m \u001b[0;32mimport\u001b[0m \u001b[0mcv2_imshow\u001b[0m\u001b[0;34m\u001b[0m\u001b[0;34m\u001b[0m\u001b[0m\n\u001b[1;32m      5\u001b[0m \u001b[0;32mimport\u001b[0m \u001b[0mskimage\u001b[0m\u001b[0;34m.\u001b[0m\u001b[0mfeature\u001b[0m \u001b[0;32mas\u001b[0m \u001b[0mfeature\u001b[0m\u001b[0;34m\u001b[0m\u001b[0;34m\u001b[0m\u001b[0m\n",
      "\u001b[0;31mModuleNotFoundError\u001b[0m: No module named 'cv2'"
     ]
    }
   ],
   "source": [
    "import matplotlib.pyplot as plt\n",
    "import numpy as np\n",
    "import cv2\n",
    "from google.colab.patches import cv2_imshow\n",
    "import skimage.feature as feature\n"
   ]
  },
  {
   "cell_type": "markdown",
   "metadata": {
    "id": "Je3ILln1w6eD"
   },
   "source": [
    "Definimos una función para mostrar el histograma de color independiente del espacio."
   ]
  },
  {
   "cell_type": "code",
   "execution_count": null,
   "metadata": {
    "id": "ov3Dfukrfg0a"
   },
   "outputs": [],
   "source": [
    "def plot_histogram(image):\n",
    "  pixels = [image[:,:,i].flatten() for i in range(3)]\n",
    "  plt.hist(pixels[0], bins=256, density=False, color='red', alpha=0.5)\n",
    "  plt.hist(pixels[1], bins=256, density=False, color='green', alpha=0.4)\n",
    "  plt.hist(pixels[2], bins=256, density=False, color='blue', alpha=0.3)\n",
    "\n",
    "  plt.show()"
   ]
  },
  {
   "cell_type": "markdown",
   "metadata": {
    "id": "0QbNVhFHw62K"
   },
   "source": [
    "Cargamos la imagen inicial, la cual mostramos en pantalla. También calculamos histograma de color en el espacio RGB."
   ]
  },
  {
   "cell_type": "code",
   "execution_count": null,
   "metadata": {
    "id": "e4uSY-IXdu50"
   },
   "outputs": [],
   "source": [
    "imagefile = \"madeleine.jpg\""
   ]
  },
  {
   "cell_type": "code",
   "execution_count": null,
   "metadata": {
    "id": "ujO5REDAdylK"
   },
   "outputs": [],
   "source": [
    "image = cv2.imread(imagefile)\n",
    "gray = cv2.cvtColor(image, cv2.COLOR_BGR2GRAY)\n",
    "cv2_imshow(image)\n",
    "plot_histogram(image)"
   ]
  },
  {
   "cell_type": "markdown",
   "metadata": {
    "id": "sjquwG4Uw8GG"
   },
   "source": [
    "Mostramos una representación y el histograma de color en el espacio HSB\n",
    "\n"
   ]
  },
  {
   "cell_type": "code",
   "execution_count": null,
   "metadata": {
    "id": "n7Yb2svPecVR"
   },
   "outputs": [],
   "source": [
    "hsv_image = cv2.cvtColor(image, cv2.COLOR_BGR2HSV)\n",
    "cv2_imshow(hsv_image)\n",
    "plot_histogram(hsv_image)"
   ]
  },
  {
   "cell_type": "markdown",
   "metadata": {
    "id": "dORIhr_lw8ro"
   },
   "source": [
    "De igual manera, mostramos una representación e histograma en el espacio lab vemos que en este caso el color mucho más plano y será más difícil extraer una representación.\n"
   ]
  },
  {
   "cell_type": "code",
   "execution_count": null,
   "metadata": {
    "id": "N_zbtTriew4S"
   },
   "outputs": [],
   "source": [
    "lab_image = cv2.cvtColor(image, cv2.COLOR_BGR2LAB)\n",
    "cv2_imshow(lab_image)\n",
    "plot_histogram(lab_image)"
   ]
  },
  {
   "cell_type": "markdown",
   "metadata": {
    "id": "KZNHYsvQw9a2"
   },
   "source": [
    "\n",
    "Al igual que la anterior, la representación parece tener poca variabilidad lo cual podría afectar la buena representación de esta imagen."
   ]
  },
  {
   "cell_type": "code",
   "execution_count": null,
   "metadata": {
    "id": "iw431WsVgCjG"
   },
   "outputs": [],
   "source": [
    "ycrcb_image = cv2.cvtColor(image, cv2.COLOR_BGR2YCrCb)\n",
    "cv2_imshow(ycrcb_image)\n",
    "plot_histogram(ycrcb_image)"
   ]
  },
  {
   "cell_type": "markdown",
   "metadata": {
    "id": "gcCbhOXSgQgJ"
   },
   "source": [
    "Hacemos uso de la librería scikit image para calcular las propiedades de GLCM de toda la imagen."
   ]
  },
  {
   "cell_type": "code",
   "execution_count": null,
   "metadata": {
    "id": "5wg9-m0ihWsb"
   },
   "outputs": [],
   "source": [
    "graycom = feature.graycomatrix(gray, [1], [0, np.pi/4, np.pi/2, 3*np.pi/4], levels=256)\n",
    "\n",
    "contrast = feature.graycoprops(graycom, 'contrast')\n",
    "dissimilarity = feature.graycoprops(graycom, 'dissimilarity')\n",
    "homogeneity = feature.graycoprops(graycom, 'homogeneity')\n",
    "energy = feature.graycoprops(graycom, 'energy')\n",
    "correlation = feature.graycoprops(graycom, 'correlation')\n",
    "ASM = feature.graycoprops(graycom, 'ASM')\n",
    "\n",
    "print(\"Contrast: {}\".format(contrast))\n",
    "print(\"Dissimilarity: {}\".format(dissimilarity))\n",
    "print(\"Homogeneity: {}\".format(homogeneity))\n",
    "print(\"Energy: {}\".format(energy))\n",
    "print(\"Correlation: {}\".format(correlation))\n",
    "print(\"ASM: {}\".format(ASM))"
   ]
  },
  {
   "cell_type": "markdown",
   "metadata": {
    "id": "SIl5e4sYw_9R"
   },
   "source": [
    "Utilizamos el detector de esquinas de Harris para encontrar elementos de interés. Encontramos que identifica de manera correcta ojos y boca. Sin embargo por las texturas de la vestimenta, encuentra una serie de esquinas en esos elementos."
   ]
  },
  {
   "cell_type": "code",
   "execution_count": null,
   "metadata": {
    "id": "zTB73zWuhbtB"
   },
   "outputs": [],
   "source": [
    "img = image.copy()\n",
    "dst = cv2.cornerHarris(gray,2,3,0.04)\n",
    "#result is dilated for marking the corners, not important\n",
    "dst = cv2.dilate(dst,None)\n",
    "# Threshold for an optimal value, it may vary depending on the image.\n",
    "img[dst>0.10*dst.max()]=[255,0,0]\n",
    "cv2_imshow(img)"
   ]
  }
 ],
 "metadata": {
  "colab": {
   "authorship_tag": "ABX9TyMB/ApnxTXTV2vB51EIHwJM",
   "provenance": []
  },
  "kernelspec": {
   "display_name": "Python 3 (ipykernel)",
   "language": "python",
   "name": "python3"
  },
  "language_info": {
   "codemirror_mode": {
    "name": "ipython",
    "version": 3
   },
   "file_extension": ".py",
   "mimetype": "text/x-python",
   "name": "python",
   "nbconvert_exporter": "python",
   "pygments_lexer": "ipython3",
   "version": "3.11.2"
  }
 },
 "nbformat": 4,
 "nbformat_minor": 1
}
