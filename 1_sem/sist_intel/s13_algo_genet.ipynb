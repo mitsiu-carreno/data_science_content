{
 "cells": [
  {
   "cell_type": "markdown",
   "metadata": {
    "id": "Lc-WFu8guGrf"
   },
   "source": [
    "# Cuaderno de algoritmos genéticos\n",
    "En este cuaderno veremos un ejercicio resuelto por un algoritmo genético.\n",
    "Tenemos un conjunto de vectores de 1s y 0s, queremos encontrar el vector con mayor cantidad de 1s.\n",
    "## Importacion de librerías\n"
   ]
  },
  {
   "cell_type": "code",
   "execution_count": 1,
   "metadata": {
    "id": "v-6RnP-Zm12e"
   },
   "outputs": [],
   "source": [
    "import random"
   ]
  },
  {
   "cell_type": "markdown",
   "metadata": {
    "id": "BUk_hVTHuL_Z"
   },
   "source": [
    "## Población inicial\n",
    "Creamos una población inicial con individuos completamente aleatorios\n"
   ]
  },
  {
   "cell_type": "code",
   "execution_count": 5,
   "metadata": {
    "colab": {
     "base_uri": "https://localhost:8080/"
    },
    "executionInfo": {
     "elapsed": 307,
     "status": "ok",
     "timestamp": 1686892753138,
     "user": {
      "displayName": "Irving Gibrán Cabrera Zamora",
      "userId": "00600026942839119351"
     },
     "user_tz": 360
    },
    "id": "OA1Q2Gn4nkaJ",
    "outputId": "d30b2c47-0de1-4cad-c31d-2c89d1848375"
   },
   "outputs": [
    {
     "data": {
      "text/plain": [
       "['0100100101',\n",
       " '0101001010',\n",
       " '0011000101',\n",
       " '0001101010',\n",
       " '1100011100',\n",
       " '1111111101',\n",
       " '1110001111',\n",
       " '1101011011',\n",
       " '0001110101',\n",
       " '1111010010',\n",
       " '0111100011',\n",
       " '0010011100',\n",
       " '0111010001',\n",
       " '1001101010',\n",
       " '0101011000',\n",
       " '1101110010',\n",
       " '0110010010',\n",
       " '1010111011',\n",
       " '1101010010',\n",
       " '0010110110']"
      ]
     },
     "execution_count": 5,
     "metadata": {},
     "output_type": "execute_result"
    }
   ],
   "source": [
    "poblacion = [''.join(random.choice('01') for _ in range(10))\n",
    " for i in range(20)]\n",
    "poblacion"
   ]
  },
  {
   "cell_type": "markdown",
   "metadata": {
    "id": "5QSF39ATuQH-"
   },
   "source": [
    "## Evaluación\n",
    "Definimos nuestra función de evaluación y evaluamos a cada indiviuo, calculamos el promedio de esta generación\n"
   ]
  },
  {
   "cell_type": "code",
   "execution_count": 6,
   "metadata": {
    "colab": {
     "base_uri": "https://localhost:8080/"
    },
    "executionInfo": {
     "elapsed": 251,
     "status": "ok",
     "timestamp": 1686894482535,
     "user": {
      "displayName": "Irving Gibrán Cabrera Zamora",
      "userId": "00600026942839119351"
     },
     "user_tz": 360
    },
    "id": "i5mDLcWKodpx",
    "outputId": "a5fcbe69-4063-4730-aa19-820dde456a3a"
   },
   "outputs": [
    {
     "data": {
      "text/plain": [
       "[4, 4, 4, 4, 5, 9, 7, 7, 5, 6, 6, 4, 5, 5, 4, 6, 4, 7, 5, 5]"
      ]
     },
     "execution_count": 6,
     "metadata": {},
     "output_type": "execute_result"
    }
   ],
   "source": [
    "def fucnion_evaluacion(individuo):\n",
    "    return individuo.count('1')\n",
    "\n",
    "evaluaciones = [fucnion_evaluacion(individuo) for individuo in poblacion]\n",
    "evaluaciones"
   ]
  },
  {
   "cell_type": "code",
   "execution_count": 7,
   "metadata": {
    "colab": {
     "base_uri": "https://localhost:8080/"
    },
    "executionInfo": {
     "elapsed": 288,
     "status": "ok",
     "timestamp": 1686894485451,
     "user": {
      "displayName": "Irving Gibrán Cabrera Zamora",
      "userId": "00600026942839119351"
     },
     "user_tz": 360
    },
    "id": "1FqfVsi7uQKl",
    "outputId": "382785f3-ff3d-4370-85dd-cb9e622ad570"
   },
   "outputs": [
    {
     "data": {
      "text/plain": [
       "5.3"
      ]
     },
     "execution_count": 7,
     "metadata": {},
     "output_type": "execute_result"
    }
   ],
   "source": [
    "sum(evaluaciones)/len(evaluaciones)"
   ]
  },
  {
   "cell_type": "markdown",
   "metadata": {
    "id": "MgVUhQ9IuVbt"
   },
   "source": [
    "## Selección\n",
    "Con la evaluación, hacemos una selección aleatoria ponderada para favorecer a los elementos mejor puntuados.\n"
   ]
  },
  {
   "cell_type": "code",
   "execution_count": 8,
   "metadata": {
    "colab": {
     "base_uri": "https://localhost:8080/"
    },
    "executionInfo": {
     "elapsed": 233,
     "status": "ok",
     "timestamp": 1686894487626,
     "user": {
      "displayName": "Irving Gibrán Cabrera Zamora",
      "userId": "00600026942839119351"
     },
     "user_tz": 360
    },
    "id": "4TRNQLyGo3E4",
    "outputId": "22b03b17-a9b0-4e3a-d3b4-8a817f218cec"
   },
   "outputs": [
    {
     "data": {
      "text/plain": [
       "[0.03773584905660377,\n",
       " 0.03773584905660377,\n",
       " 0.03773584905660377,\n",
       " 0.03773584905660377,\n",
       " 0.04716981132075472,\n",
       " 0.08490566037735849,\n",
       " 0.0660377358490566,\n",
       " 0.0660377358490566,\n",
       " 0.04716981132075472,\n",
       " 0.05660377358490566,\n",
       " 0.05660377358490566,\n",
       " 0.03773584905660377,\n",
       " 0.04716981132075472,\n",
       " 0.04716981132075472,\n",
       " 0.03773584905660377,\n",
       " 0.05660377358490566,\n",
       " 0.03773584905660377,\n",
       " 0.0660377358490566,\n",
       " 0.04716981132075472,\n",
       " 0.04716981132075472]"
      ]
     },
     "execution_count": 8,
     "metadata": {},
     "output_type": "execute_result"
    }
   ],
   "source": [
    "suma_aptitudes = sum(evaluaciones)\n",
    "probabilidades = [evaluacion / suma_aptitudes for evaluacion in evaluaciones]\n",
    "probabilidades"
   ]
  },
  {
   "cell_type": "code",
   "execution_count": 9,
   "metadata": {
    "colab": {
     "base_uri": "https://localhost:8080/"
    },
    "executionInfo": {
     "elapsed": 425,
     "status": "ok",
     "timestamp": 1686894451261,
     "user": {
      "displayName": "Irving Gibrán Cabrera Zamora",
      "userId": "00600026942839119351"
     },
     "user_tz": 360
    },
    "id": "_L-TesiFpn6K",
    "outputId": "0b0c5d63-bcfc-4b3a-aca8-73cbe38fd3b8"
   },
   "outputs": [
    {
     "data": {
      "text/plain": [
       "['0001101010',\n",
       " '0110010010',\n",
       " '0110010010',\n",
       " '0001101010',\n",
       " '0100100101',\n",
       " '1101010010',\n",
       " '1101110010',\n",
       " '0011000101',\n",
       " '1101011011',\n",
       " '1010111011']"
      ]
     },
     "execution_count": 9,
     "metadata": {},
     "output_type": "execute_result"
    }
   ],
   "source": [
    "seleccionados = random.choices(poblacion, weights=probabilidades, k=int(len(poblacion)/2))\n",
    "seleccionados"
   ]
  },
  {
   "cell_type": "markdown",
   "metadata": {
    "id": "lI4nyL39ubez"
   },
   "source": [
    "## Cruce\n",
    "Combinamos los genes de cada pareja de elementos seleccionados\n"
   ]
  },
  {
   "cell_type": "code",
   "execution_count": 10,
   "metadata": {
    "id": "4UV7S7IYqI8H"
   },
   "outputs": [],
   "source": [
    "def cruce(individuo1, individuo2):\n",
    "    punto_cruce = random.randint(1, len(individuo1) - 1)\n",
    "    descendiente = individuo1[:punto_cruce] + individuo2[punto_cruce:]\n",
    "    return descendiente"
   ]
  },
  {
   "cell_type": "code",
   "execution_count": 11,
   "metadata": {
    "colab": {
     "base_uri": "https://localhost:8080/"
    },
    "executionInfo": {
     "elapsed": 354,
     "status": "ok",
     "timestamp": 1686894457426,
     "user": {
      "displayName": "Irving Gibrán Cabrera Zamora",
      "userId": "00600026942839119351"
     },
     "user_tz": 360
    },
    "id": "YWLrP_xerEGy",
    "outputId": "114fd9c3-4603-404a-94bd-1c0707c2bcd8"
   },
   "outputs": [
    {
     "data": {
      "text/plain": [
       "['0000010010',\n",
       " '0111101010',\n",
       " '0101010010',\n",
       " '1101110001',\n",
       " '1101011011',\n",
       " '0001101010',\n",
       " '0101101010',\n",
       " '0100100110',\n",
       " '1101110101',\n",
       " '1101011011']"
      ]
     },
     "execution_count": 11,
     "metadata": {},
     "output_type": "execute_result"
    }
   ],
   "source": [
    "cruzados = [cruce(sel1,sel2) for sel1,sel2 in zip(seleccionados[0::2], seleccionados[1::2])] + [cruce(sel1,sel2) for sel1,sel2 in zip(seleccionados[0::2], seleccionados[1::2])]\n",
    "cruzados"
   ]
  },
  {
   "cell_type": "code",
   "execution_count": 13,
   "metadata": {},
   "outputs": [],
   "source": [
    "## Debug\n",
    "#cruce('0000010010', '1101011011')"
   ]
  },
  {
   "cell_type": "markdown",
   "metadata": {
    "id": "NniQNHlfueVH"
   },
   "source": [
    "## Mutación\n",
    "Modificamos de manera aleatoria los individuos cruzados para aumentar la variedad\n"
   ]
  },
  {
   "cell_type": "code",
   "execution_count": 18,
   "metadata": {
    "id": "oMczBdNRs90H"
   },
   "outputs": [],
   "source": [
    "def mutacion(individuo):\n",
    "    mutado = ''\n",
    "    for bit in individuo:\n",
    "        if random.random() < 0.1: # Tasa mutación\n",
    "            mutado += '0' if bit == '1' else '1'\n",
    "        else:\n",
    "            mutado += bit\n",
    "    return mutado"
   ]
  },
  {
   "cell_type": "code",
   "execution_count": 19,
   "metadata": {
    "colab": {
     "base_uri": "https://localhost:8080/"
    },
    "executionInfo": {
     "elapsed": 291,
     "status": "ok",
     "timestamp": 1686894464038,
     "user": {
      "displayName": "Irving Gibrán Cabrera Zamora",
      "userId": "00600026942839119351"
     },
     "user_tz": 360
    },
    "id": "c7eKKRGftehe",
    "outputId": "e6dddfb2-aa19-4165-f5be-30cbe7138a44"
   },
   "outputs": [
    {
     "data": {
      "text/plain": [
       "['0000010010',\n",
       " '1111101010',\n",
       " '0011011010',\n",
       " '1101110001',\n",
       " '1101011011',\n",
       " '0011111110',\n",
       " '0101101010',\n",
       " '0000100100',\n",
       " '1100110101',\n",
       " '1000001111']"
      ]
     },
     "execution_count": 19,
     "metadata": {},
     "output_type": "execute_result"
    }
   ],
   "source": [
    "mutados = [mutacion(cruzado) for cruzado in cruzados]\n",
    "mutados"
   ]
  },
  {
   "cell_type": "markdown",
   "metadata": {
    "id": "ucAea-Piukgy"
   },
   "source": [
    "## Reemplazo\n",
    "Creamos la población con los individuos mutados y podemos volver a comenzar.\n"
   ]
  },
  {
   "cell_type": "code",
   "execution_count": 20,
   "metadata": {
    "colab": {
     "base_uri": "https://localhost:8080/"
    },
    "executionInfo": {
     "elapsed": 4,
     "status": "ok",
     "timestamp": 1686894465062,
     "user": {
      "displayName": "Irving Gibrán Cabrera Zamora",
      "userId": "00600026942839119351"
     },
     "user_tz": 360
    },
    "id": "UHZ2tOz5ttcs",
    "outputId": "fb6434b8-8852-49be-c0d8-cc21a484767c"
   },
   "outputs": [
    {
     "data": {
      "text/plain": [
       "['0000010010',\n",
       " '1111101010',\n",
       " '0011011010',\n",
       " '1101110001',\n",
       " '1101011011',\n",
       " '0011111110',\n",
       " '0101101010',\n",
       " '0000100100',\n",
       " '1100110101',\n",
       " '1000001111',\n",
       " '0001101010',\n",
       " '0110010010',\n",
       " '0110010010',\n",
       " '0001101010',\n",
       " '0100100101',\n",
       " '1101010010',\n",
       " '1101110010',\n",
       " '0011000101',\n",
       " '1101011011',\n",
       " '1010111011']"
      ]
     },
     "execution_count": 20,
     "metadata": {},
     "output_type": "execute_result"
    }
   ],
   "source": [
    "poblacion = mutados + seleccionados\n",
    "poblacion"
   ]
  },
  {
   "cell_type": "markdown",
   "metadata": {
    "id": "M7p6GLfbwCyZ"
   },
   "source": [
    "## Ejercicio\n",
    "\n",
    "Crea el \"ciclo de la vida\" incluye parametro de parada"
   ]
  },
  {
   "cell_type": "code",
   "execution_count": null,
   "metadata": {
    "id": "TB3pKm75t25c"
   },
   "outputs": [],
   "source": []
  }
 ],
 "metadata": {
  "colab": {
   "authorship_tag": "ABX9TyPtB9l/zbkWii+IugEyELJd",
   "provenance": []
  },
  "kernelspec": {
   "display_name": "Python 3 (ipykernel)",
   "language": "python",
   "name": "python3"
  },
  "language_info": {
   "codemirror_mode": {
    "name": "ipython",
    "version": 3
   },
   "file_extension": ".py",
   "mimetype": "text/x-python",
   "name": "python",
   "nbconvert_exporter": "python",
   "pygments_lexer": "ipython3",
   "version": "3.11.2"
  }
 },
 "nbformat": 4,
 "nbformat_minor": 1
}
