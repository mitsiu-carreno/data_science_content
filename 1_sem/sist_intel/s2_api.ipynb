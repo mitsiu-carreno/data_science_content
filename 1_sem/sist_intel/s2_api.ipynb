{
  "nbformat": 4,
  "nbformat_minor": 0,
  "metadata": {
    "colab": {
      "provenance": []
    },
    "kernelspec": {
      "name": "python3",
      "display_name": "Python 3"
    },
    "language_info": {
      "name": "python"
    }
  },
  "cells": [
    {
      "cell_type": "markdown",
      "source": [
        "# Cuaderno de ejemplos de APIs\n",
        "\n",
        "\n",
        "En este cuaderno vamos a ver algunos ejemplos de cómo utilizar la librería [requests](https://docs.python-requests.org/en/latest/index.html)  de Python para solicitar información de APId. \n",
        "\n",
        "Como ejemplo se tomara la [API del Banco de Indicadores](https://www.inegi.org.mx/servicios/api_indicadores.html)  de [INEGI](https://www.inegi.org.mx/default.html)  \n",
        "\n",
        "Importamos la librería\n",
        "-\t**requests** nos va a permitir hacer las solicitudes y traer la informacion\n",
        "- **json** nos facilita trabajar con este formato"
      ],
      "metadata": {
        "id": "OrpMuwjigzeI"
      }
    },
    {
      "cell_type": "code",
      "execution_count": null,
      "metadata": {
        "id": "ZESoloIgghZx"
      },
      "outputs": [],
      "source": [
        "import requests\n",
        "import json"
      ]
    },
    {
      "cell_type": "markdown",
      "source": [
        "Establecemos el token para acceder a la API"
      ],
      "metadata": {
        "id": "nDolBiCWhccm"
      }
    },
    {
      "cell_type": "code",
      "source": [
        "TOKEN = ''"
      ],
      "metadata": {
        "id": "OKwMiKAlhbqJ"
      },
      "execution_count": null,
      "outputs": []
    },
    {
      "cell_type": "markdown",
      "source": [
        "Tomamos como la serie de poblacion total.\n",
        "\n",
        "Nos podemos apoyar del *Constructor de Consultas* para construir la URL."
      ],
      "metadata": {
        "id": "_H-mODxRifHb"
      }
    },
    {
      "cell_type": "code",
      "source": [
        "url=f'https://www.inegi.org.mx/app/api/indicadores/desarrolladores/jsonxml/INDICATOR/1002000001/es/0700/false/BISE/2.0/{TOKEN}?type=json'\n",
        "respuesta= requests.get(url)\n",
        "\n"
      ],
      "metadata": {
        "id": "5R5i9bDCgp0G"
      },
      "execution_count": null,
      "outputs": []
    },
    {
      "cell_type": "markdown",
      "source": [
        "Revisamos el estado de la respuesta y si es correcto ese estado\n"
      ],
      "metadata": {
        "id": "7P7tuGopjcFb"
      }
    },
    {
      "cell_type": "code",
      "source": [
        "respuesta.status_code"
      ],
      "metadata": {
        "id": "jRq3EhfojiHH"
      },
      "execution_count": null,
      "outputs": []
    },
    {
      "cell_type": "code",
      "source": [
        "respuesta.status_code == requests.codes.ok"
      ],
      "metadata": {
        "id": "OC5GpIJBji5z"
      },
      "execution_count": null,
      "outputs": []
    },
    {
      "cell_type": "markdown",
      "source": [
        "\n",
        "Extraemos el contenido en formato json"
      ],
      "metadata": {
        "id": "JF7985evj3s1"
      }
    },
    {
      "cell_type": "code",
      "source": [
        "contenido = json.loads(respuesta.content)"
      ],
      "metadata": {
        "id": "NBrYMLy-jtju"
      },
      "execution_count": null,
      "outputs": []
    },
    {
      "cell_type": "markdown",
      "source": [
        "Obtenemos las observaciones y las imprimimos"
      ],
      "metadata": {
        "id": "aOofQikCm4Yj"
      }
    },
    {
      "cell_type": "code",
      "source": [
        "observaciones = contenido['Series'][0]['OBSERVATIONS']"
      ],
      "metadata": {
        "id": "IKJxujAElvmT"
      },
      "execution_count": null,
      "outputs": []
    },
    {
      "cell_type": "code",
      "source": [
        "for obs in observaciones:\n",
        "  print(f\"{obs['TIME_PERIOD']}: {obs['OBS_VALUE']}\")"
      ],
      "metadata": {
        "id": "pNIUAymtl9_b"
      },
      "execution_count": null,
      "outputs": []
    }
  ]
}