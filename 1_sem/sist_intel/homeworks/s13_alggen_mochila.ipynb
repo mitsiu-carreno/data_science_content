{
 "cells": [
  {
   "cell_type": "markdown",
   "id": "220d7918",
   "metadata": {},
   "source": [
    "## Mitsiu Alejandro Carreño Sarabia  - E23S-18014\n",
    "Investiga en que consiste el problema de la mochila.\n",
    "\n",
    "Intenta resolverlo con Algoritmos genéticos."
   ]
  },
  {
   "cell_type": "code",
   "execution_count": 12,
   "id": "beb4707d",
   "metadata": {},
   "outputs": [],
   "source": [
    "import random\n",
    "import itertools;"
   ]
  },
  {
   "cell_type": "code",
   "execution_count": 13,
   "id": "a39b03a3",
   "metadata": {},
   "outputs": [
    {
     "data": {
      "text/plain": [
       "[{'id': 0, 'value': 9, 'size': 3},\n",
       " {'id': 1, 'value': 10, 'size': 5},\n",
       " {'id': 2, 'value': 7, 'size': 5},\n",
       " {'id': 3, 'value': 4, 'size': 4},\n",
       " {'id': 4, 'value': 6, 'size': 4},\n",
       " {'id': 5, 'value': 8, 'size': 7},\n",
       " {'id': 6, 'value': 10, 'size': 7},\n",
       " {'id': 7, 'value': 2, 'size': 2},\n",
       " {'id': 8, 'value': 6, 'size': 4},\n",
       " {'id': 9, 'value': 7, 'size': 6}]"
      ]
     },
     "execution_count": 13,
     "metadata": {},
     "output_type": "execute_result"
    }
   ],
   "source": [
    "backpack_size_limit = 20;\n",
    "selected_backp_by_gen = 7;\n",
    "\n",
    "# Generando objectos dinamicos con valores y tamaños aleatorios\n",
    "objects = [dict(id =  x, value = random.randint(1,10), size = random.randint(1,10)) for x in range(10)]\n",
    "objects"
   ]
  },
  {
   "cell_type": "code",
   "execution_count": 14,
   "id": "9e5ff781",
   "metadata": {},
   "outputs": [],
   "source": [
    "def get_value_size(backpack):\n",
    "    tot_value = 0\n",
    "    tot_size = 0\n",
    "    for obj in backpack:\n",
    "        tot_value += obj[\"value\"]\n",
    "        tot_size += obj[\"size\"]\n",
    "    return tot_value, tot_size    "
   ]
  },
  {
   "cell_type": "code",
   "execution_count": 15,
   "id": "72afa2f1",
   "metadata": {},
   "outputs": [],
   "source": [
    "def eval_gen(backpacks):\n",
    "    val_evals = [ get_value_size(backpack)[0] for backpack in backpacks]\n",
    "    siz_evals = [ get_value_size(backpack)[1] for backpack in backpacks]\n",
    "    print(f\"Promedio de valores en mochilas {sum(val_evals)/len(val_evals)}\")\n",
    "    print(f\"Promedio de tamaño en mochilas {sum(siz_evals)/len(siz_evals)}\")"
   ]
  },
  {
   "cell_type": "code",
   "execution_count": 16,
   "id": "0a78c8fc",
   "metadata": {},
   "outputs": [
    {
     "data": {
      "text/plain": [
       "[[{'id': 4, 'value': 6, 'size': 4},\n",
       "  {'id': 8, 'value': 6, 'size': 4},\n",
       "  {'id': 7, 'value': 2, 'size': 2},\n",
       "  {'id': 3, 'value': 4, 'size': 4}],\n",
       " [{'id': 3, 'value': 4, 'size': 4},\n",
       "  {'id': 2, 'value': 7, 'size': 5},\n",
       "  {'id': 7, 'value': 2, 'size': 2},\n",
       "  {'id': 6, 'value': 10, 'size': 7}],\n",
       " [{'id': 5, 'value': 8, 'size': 7},\n",
       "  {'id': 4, 'value': 6, 'size': 4},\n",
       "  {'id': 1, 'value': 10, 'size': 5},\n",
       "  {'id': 7, 'value': 2, 'size': 2}],\n",
       " [{'id': 8, 'value': 6, 'size': 4},\n",
       "  {'id': 9, 'value': 7, 'size': 6},\n",
       "  {'id': 5, 'value': 8, 'size': 7}],\n",
       " [{'id': 8, 'value': 6, 'size': 4},\n",
       "  {'id': 6, 'value': 10, 'size': 7},\n",
       "  {'id': 7, 'value': 2, 'size': 2},\n",
       "  {'id': 9, 'value': 7, 'size': 6}],\n",
       " [{'id': 6, 'value': 10, 'size': 7},\n",
       "  {'id': 1, 'value': 10, 'size': 5},\n",
       "  {'id': 4, 'value': 6, 'size': 4},\n",
       "  {'id': 0, 'value': 9, 'size': 3}],\n",
       " [{'id': 7, 'value': 2, 'size': 2},\n",
       "  {'id': 8, 'value': 6, 'size': 4},\n",
       "  {'id': 3, 'value': 4, 'size': 4},\n",
       "  {'id': 2, 'value': 7, 'size': 5},\n",
       "  {'id': 4, 'value': 6, 'size': 4}],\n",
       " [{'id': 1, 'value': 10, 'size': 5},\n",
       "  {'id': 9, 'value': 7, 'size': 6},\n",
       "  {'id': 0, 'value': 9, 'size': 3}],\n",
       " [{'id': 3, 'value': 4, 'size': 4},\n",
       "  {'id': 4, 'value': 6, 'size': 4},\n",
       "  {'id': 0, 'value': 9, 'size': 3},\n",
       "  {'id': 6, 'value': 10, 'size': 7}],\n",
       " [{'id': 3, 'value': 4, 'size': 4},\n",
       "  {'id': 0, 'value': 9, 'size': 3},\n",
       "  {'id': 5, 'value': 8, 'size': 7},\n",
       "  {'id': 8, 'value': 6, 'size': 4}]]"
      ]
     },
     "execution_count": 16,
     "metadata": {},
     "output_type": "execute_result"
    }
   ],
   "source": [
    "# Creando población inicial\n",
    "backpacks = []\n",
    "for i in range(10):\n",
    "    backp = []\n",
    "    while(True):\n",
    "        new_o = objects[random.randint(0,len(objects)-1)] \n",
    "        if next((False for i, item in enumerate(backp) if item[\"id\"] == new_o[\"id\"]), True):\n",
    "            if get_value_size(backp)[1] + new_o[\"size\"] > backpack_size_limit:\n",
    "                break\n",
    "            backp.append(new_o)\n",
    "    backpacks.append(backp)\n",
    "backpacks\n",
    "\n"
   ]
  },
  {
   "cell_type": "code",
   "execution_count": 17,
   "id": "18c3ce91",
   "metadata": {},
   "outputs": [
    {
     "name": "stdout",
     "output_type": "stream",
     "text": [
      "Promedio de valores en mochilas 25.5\n",
      "Promedio de tamaño en mochilas 17.4\n"
     ]
    }
   ],
   "source": [
    "eval_gen(backpacks)"
   ]
  },
  {
   "cell_type": "code",
   "execution_count": 18,
   "id": "b525e08c",
   "metadata": {},
   "outputs": [
    {
     "data": {
      "text/plain": [
       "[[{'id': 6, 'value': 10, 'size': 7},\n",
       "  {'id': 1, 'value': 10, 'size': 5},\n",
       "  {'id': 4, 'value': 6, 'size': 4},\n",
       "  {'id': 0, 'value': 9, 'size': 3}],\n",
       " [{'id': 3, 'value': 4, 'size': 4},\n",
       "  {'id': 4, 'value': 6, 'size': 4},\n",
       "  {'id': 0, 'value': 9, 'size': 3},\n",
       "  {'id': 6, 'value': 10, 'size': 7}],\n",
       " [{'id': 5, 'value': 8, 'size': 7},\n",
       "  {'id': 4, 'value': 6, 'size': 4},\n",
       "  {'id': 1, 'value': 10, 'size': 5},\n",
       "  {'id': 7, 'value': 2, 'size': 2}],\n",
       " [{'id': 1, 'value': 10, 'size': 5},\n",
       "  {'id': 9, 'value': 7, 'size': 6},\n",
       "  {'id': 0, 'value': 9, 'size': 3}],\n",
       " [{'id': 8, 'value': 6, 'size': 4},\n",
       "  {'id': 6, 'value': 10, 'size': 7},\n",
       "  {'id': 7, 'value': 2, 'size': 2},\n",
       "  {'id': 9, 'value': 7, 'size': 6}],\n",
       " [{'id': 7, 'value': 2, 'size': 2},\n",
       "  {'id': 8, 'value': 6, 'size': 4},\n",
       "  {'id': 3, 'value': 4, 'size': 4},\n",
       "  {'id': 2, 'value': 7, 'size': 5},\n",
       "  {'id': 4, 'value': 6, 'size': 4}]]"
      ]
     },
     "execution_count": 18,
     "metadata": {},
     "output_type": "execute_result"
    }
   ],
   "source": [
    "def sort_gen(e):\n",
    "    return get_value_size(e)[0]\n",
    "\n",
    "def select_backpacks(backpacks):\n",
    "    backpacks.sort(key=sort_gen, reverse=True)\n",
    "    selected = [backpacks[i] for i in range(selected_backp_by_gen)]\n",
    "    # Remove random backpack\n",
    "    selected.pop(random.randint(0, len(selected)-1))\n",
    "    return selected\n",
    "        \n",
    "selected = select_backpacks(backpacks)\n",
    "selected"
   ]
  },
  {
   "cell_type": "code",
   "execution_count": 19,
   "id": "e6831472",
   "metadata": {},
   "outputs": [
    {
     "data": {
      "text/plain": [
       "[[{'id': 6, 'value': 10, 'size': 7},\n",
       "  {'id': 1, 'value': 10, 'size': 5},\n",
       "  {'id': 0, 'value': 9, 'size': 3},\n",
       "  {'id': 4, 'value': 6, 'size': 4}],\n",
       " [{'id': 6, 'value': 10, 'size': 7},\n",
       "  {'id': 1, 'value': 10, 'size': 5},\n",
       "  {'id': 0, 'value': 9, 'size': 3},\n",
       "  {'id': 4, 'value': 6, 'size': 4}],\n",
       " [{'id': 1, 'value': 10, 'size': 5},\n",
       "  {'id': 5, 'value': 8, 'size': 7},\n",
       "  {'id': 0, 'value': 9, 'size': 3},\n",
       "  {'id': 4, 'value': 6, 'size': 4}],\n",
       " [{'id': 1, 'value': 10, 'size': 5},\n",
       "  {'id': 6, 'value': 10, 'size': 7},\n",
       "  {'id': 0, 'value': 9, 'size': 3},\n",
       "  {'id': 7, 'value': 2, 'size': 2}],\n",
       " [{'id': 6, 'value': 10, 'size': 7},\n",
       "  {'id': 2, 'value': 7, 'size': 5},\n",
       "  {'id': 9, 'value': 7, 'size': 6},\n",
       "  {'id': 7, 'value': 2, 'size': 2}],\n",
       " [{'id': 6, 'value': 10, 'size': 7},\n",
       "  {'id': 0, 'value': 9, 'size': 3},\n",
       "  {'id': 9, 'value': 7, 'size': 6},\n",
       "  {'id': 4, 'value': 6, 'size': 4}],\n",
       " [{'id': 1, 'value': 10, 'size': 5},\n",
       "  {'id': 5, 'value': 8, 'size': 7},\n",
       "  {'id': 0, 'value': 9, 'size': 3},\n",
       "  {'id': 4, 'value': 6, 'size': 4}],\n",
       " [{'id': 1, 'value': 10, 'size': 5},\n",
       "  {'id': 0, 'value': 9, 'size': 3},\n",
       "  {'id': 5, 'value': 8, 'size': 7},\n",
       "  {'id': 7, 'value': 2, 'size': 2}],\n",
       " [{'id': 6, 'value': 10, 'size': 7},\n",
       "  {'id': 9, 'value': 7, 'size': 6},\n",
       "  {'id': 0, 'value': 9, 'size': 3},\n",
       "  {'id': 8, 'value': 6, 'size': 4}],\n",
       " [{'id': 2, 'value': 7, 'size': 5},\n",
       "  {'id': 6, 'value': 10, 'size': 7},\n",
       "  {'id': 8, 'value': 6, 'size': 4},\n",
       "  {'id': 4, 'value': 6, 'size': 4}]]"
      ]
     },
     "execution_count": 19,
     "metadata": {},
     "output_type": "execute_result"
    }
   ],
   "source": [
    "def sort_backpack(backpack):\n",
    "    return backpack[\"value\"]\n",
    "\n",
    "def cruce(backp1, backp2):\n",
    "    backp1.sort(key=sort_backpack, reverse=True)\n",
    "    backp2.sort(key=sort_backpack, reverse=True)\n",
    "    new_backpack = [];\n",
    "    for obj1, obj2 in itertools.zip_longest(backp1, backp2):\n",
    "        if obj1 and next((False for i, item in enumerate(new_backpack) if item[\"id\"] == obj1[\"id\"]), True):\n",
    "            curr_size = get_value_size(new_backpack)[1]\n",
    "            if curr_size + obj1[\"size\"] > backpack_size_limit:\n",
    "                #break\n",
    "                continue\n",
    "            new_backpack.append(obj1)\n",
    "        if obj2 and next((False for i, item in enumerate(new_backpack) if item[\"id\"] == obj2[\"id\"]), True):\n",
    "            curr_size = get_value_size(new_backpack)[1]\n",
    "            if curr_size + obj2[\"size\"] > backpack_size_limit:\n",
    "                #break\n",
    "                continue\n",
    "            new_backpack.append(obj2)\n",
    "    return new_backpack\n",
    "\n",
    "new_pob = [] \n",
    "for i in range(len(selected)-1):\n",
    "    new_pob.append(cruce(selected[i], selected[i+1]))\n",
    "for i in range(1,len(selected)):\n",
    "    new_pob.append(cruce(selected[i], selected[len(selected)-1-i]))\n",
    "\n",
    "new_pob\n"
   ]
  },
  {
   "cell_type": "code",
   "execution_count": 20,
   "id": "501363da",
   "metadata": {},
   "outputs": [
    {
     "data": {
      "text/plain": [
       "[[{'id': 6, 'value': 10, 'size': 7},\n",
       "  {'id': 1, 'value': 10, 'size': 5},\n",
       "  {'id': 0, 'value': 9, 'size': 3},\n",
       "  {'id': 4, 'value': 6, 'size': 4}],\n",
       " [{'id': 1, 'value': 10, 'size': 5},\n",
       "  {'id': 0, 'value': 9, 'size': 3},\n",
       "  {'id': 4, 'value': 6, 'size': 4}],\n",
       " [{'id': 1, 'value': 10, 'size': 5},\n",
       "  {'id': 5, 'value': 8, 'size': 7},\n",
       "  {'id': 0, 'value': 9, 'size': 3},\n",
       "  {'id': 4, 'value': 6, 'size': 4}],\n",
       " [{'id': 1, 'value': 10, 'size': 5},\n",
       "  {'id': 6, 'value': 10, 'size': 7},\n",
       "  {'id': 0, 'value': 9, 'size': 3},\n",
       "  {'id': 7, 'value': 2, 'size': 2}],\n",
       " [{'id': 6, 'value': 10, 'size': 7},\n",
       "  {'id': 2, 'value': 7, 'size': 5},\n",
       "  {'id': 9, 'value': 7, 'size': 6}],\n",
       " [{'id': 6, 'value': 10, 'size': 7},\n",
       "  {'id': 9, 'value': 7, 'size': 6},\n",
       "  {'id': 4, 'value': 6, 'size': 4}],\n",
       " [{'id': 5, 'value': 8, 'size': 7},\n",
       "  {'id': 0, 'value': 9, 'size': 3},\n",
       "  {'id': 4, 'value': 6, 'size': 4}],\n",
       " [{'id': 1, 'value': 10, 'size': 5},\n",
       "  {'id': 0, 'value': 9, 'size': 3},\n",
       "  {'id': 5, 'value': 8, 'size': 7},\n",
       "  {'id': 7, 'value': 2, 'size': 2}],\n",
       " [{'id': 6, 'value': 10, 'size': 7},\n",
       "  {'id': 9, 'value': 7, 'size': 6},\n",
       "  {'id': 0, 'value': 9, 'size': 3},\n",
       "  {'id': 8, 'value': 6, 'size': 4}],\n",
       " [{'id': 2, 'value': 7, 'size': 5},\n",
       "  {'id': 6, 'value': 10, 'size': 7},\n",
       "  {'id': 8, 'value': 6, 'size': 4},\n",
       "  {'id': 4, 'value': 6, 'size': 4}]]"
      ]
     },
     "execution_count": 20,
     "metadata": {},
     "output_type": "execute_result"
    }
   ],
   "source": [
    "def mutacion(backp):\n",
    "    # Quitar objetos random\n",
    "    mut_backp = [];\n",
    "    for obj in backp:\n",
    "        if random.random() > 0.1:\n",
    "            mut_backp.append(obj);\n",
    "    return mut_backp;\n",
    "\n",
    "mut_new_pob = []\n",
    "for backp in new_pob:\n",
    "    mut_new_pob.append(mutacion(backp))\n",
    "\n",
    "mut_new_pob"
   ]
  },
  {
   "cell_type": "code",
   "execution_count": 21,
   "id": "e597f083",
   "metadata": {},
   "outputs": [
    {
     "name": "stdout",
     "output_type": "stream",
     "text": [
      "Promedio de valores en mochilas 28.4\n",
      "Promedio de tamaño en mochilas 17.3\n"
     ]
    }
   ],
   "source": [
    "eval_gen(mut_new_pob)"
   ]
  },
  {
   "cell_type": "code",
   "execution_count": null,
   "id": "902f0b6b",
   "metadata": {},
   "outputs": [],
   "source": []
  }
 ],
 "metadata": {
  "kernelspec": {
   "display_name": "Python 3 (ipykernel)",
   "language": "python",
   "name": "python3"
  },
  "language_info": {
   "codemirror_mode": {
    "name": "ipython",
    "version": 3
   },
   "file_extension": ".py",
   "mimetype": "text/x-python",
   "name": "python",
   "nbconvert_exporter": "python",
   "pygments_lexer": "ipython3",
   "version": "3.11.2"
  }
 },
 "nbformat": 4,
 "nbformat_minor": 5
}
