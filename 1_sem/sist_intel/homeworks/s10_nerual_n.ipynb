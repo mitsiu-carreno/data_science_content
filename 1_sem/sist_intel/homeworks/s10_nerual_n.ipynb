{
 "cells": [
  {
   "cell_type": "markdown",
   "id": "22ac820e",
   "metadata": {},
   "source": [
    "## Mitsiu Alejandro Carreño Sarabia - E23S-18014\n",
    "\n",
    "Como pudiste apreciar en el ejemplo, el perceptrón multicapa no tuvo el desempeño esperado. \n",
    "Juega con la cantidad y tamaño de las capas ocultas para mejorarlo.\n",
    "Utiliza la documentación del modelo."
   ]
  },
  {
   "cell_type": "code",
   "execution_count": 1,
   "id": "eed816e8",
   "metadata": {},
   "outputs": [],
   "source": [
    "from sklearn.neural_network import MLPClassifier\n",
    "\n",
    "from sklearn.datasets import load_iris\n",
    "from sklearn.model_selection import train_test_split\n",
    "from sklearn.metrics import accuracy_score, recall_score, f1_score"
   ]
  },
  {
   "cell_type": "code",
   "execution_count": 231,
   "id": "52621c68",
   "metadata": {},
   "outputs": [
    {
     "data": {
      "text/plain": [
       "3.4695833333333335"
      ]
     },
     "execution_count": 231,
     "metadata": {},
     "output_type": "execute_result"
    }
   ],
   "source": [
    "data = load_iris()\n",
    "x_class = data.data\n",
    "y_class = data.target\n",
    "x_train, x_test, y_train, y_test = train_test_split(x_class, y_class, test_size=0.2)\n",
    "x_train.mean()"
   ]
  },
  {
   "cell_type": "code",
   "execution_count": 232,
   "id": "baea191c",
   "metadata": {},
   "outputs": [
    {
     "data": {
      "text/html": [
       "<style>#sk-container-id-61 {color: black;background-color: white;}#sk-container-id-61 pre{padding: 0;}#sk-container-id-61 div.sk-toggleable {background-color: white;}#sk-container-id-61 label.sk-toggleable__label {cursor: pointer;display: block;width: 100%;margin-bottom: 0;padding: 0.3em;box-sizing: border-box;text-align: center;}#sk-container-id-61 label.sk-toggleable__label-arrow:before {content: \"▸\";float: left;margin-right: 0.25em;color: #696969;}#sk-container-id-61 label.sk-toggleable__label-arrow:hover:before {color: black;}#sk-container-id-61 div.sk-estimator:hover label.sk-toggleable__label-arrow:before {color: black;}#sk-container-id-61 div.sk-toggleable__content {max-height: 0;max-width: 0;overflow: hidden;text-align: left;background-color: #f0f8ff;}#sk-container-id-61 div.sk-toggleable__content pre {margin: 0.2em;color: black;border-radius: 0.25em;background-color: #f0f8ff;}#sk-container-id-61 input.sk-toggleable__control:checked~div.sk-toggleable__content {max-height: 200px;max-width: 100%;overflow: auto;}#sk-container-id-61 input.sk-toggleable__control:checked~label.sk-toggleable__label-arrow:before {content: \"▾\";}#sk-container-id-61 div.sk-estimator input.sk-toggleable__control:checked~label.sk-toggleable__label {background-color: #d4ebff;}#sk-container-id-61 div.sk-label input.sk-toggleable__control:checked~label.sk-toggleable__label {background-color: #d4ebff;}#sk-container-id-61 input.sk-hidden--visually {border: 0;clip: rect(1px 1px 1px 1px);clip: rect(1px, 1px, 1px, 1px);height: 1px;margin: -1px;overflow: hidden;padding: 0;position: absolute;width: 1px;}#sk-container-id-61 div.sk-estimator {font-family: monospace;background-color: #f0f8ff;border: 1px dotted black;border-radius: 0.25em;box-sizing: border-box;margin-bottom: 0.5em;}#sk-container-id-61 div.sk-estimator:hover {background-color: #d4ebff;}#sk-container-id-61 div.sk-parallel-item::after {content: \"\";width: 100%;border-bottom: 1px solid gray;flex-grow: 1;}#sk-container-id-61 div.sk-label:hover label.sk-toggleable__label {background-color: #d4ebff;}#sk-container-id-61 div.sk-serial::before {content: \"\";position: absolute;border-left: 1px solid gray;box-sizing: border-box;top: 0;bottom: 0;left: 50%;z-index: 0;}#sk-container-id-61 div.sk-serial {display: flex;flex-direction: column;align-items: center;background-color: white;padding-right: 0.2em;padding-left: 0.2em;position: relative;}#sk-container-id-61 div.sk-item {position: relative;z-index: 1;}#sk-container-id-61 div.sk-parallel {display: flex;align-items: stretch;justify-content: center;background-color: white;position: relative;}#sk-container-id-61 div.sk-item::before, #sk-container-id-61 div.sk-parallel-item::before {content: \"\";position: absolute;border-left: 1px solid gray;box-sizing: border-box;top: 0;bottom: 0;left: 50%;z-index: -1;}#sk-container-id-61 div.sk-parallel-item {display: flex;flex-direction: column;z-index: 1;position: relative;background-color: white;}#sk-container-id-61 div.sk-parallel-item:first-child::after {align-self: flex-end;width: 50%;}#sk-container-id-61 div.sk-parallel-item:last-child::after {align-self: flex-start;width: 50%;}#sk-container-id-61 div.sk-parallel-item:only-child::after {width: 0;}#sk-container-id-61 div.sk-dashed-wrapped {border: 1px dashed gray;margin: 0 0.4em 0.5em 0.4em;box-sizing: border-box;padding-bottom: 0.4em;background-color: white;}#sk-container-id-61 div.sk-label label {font-family: monospace;font-weight: bold;display: inline-block;line-height: 1.2em;}#sk-container-id-61 div.sk-label-container {text-align: center;}#sk-container-id-61 div.sk-container {/* jupyter's `normalize.less` sets `[hidden] { display: none; }` but bootstrap.min.css set `[hidden] { display: none !important; }` so we also need the `!important` here to be able to override the default hidden behavior on the sphinx rendered scikit-learn.org. See: https://github.com/scikit-learn/scikit-learn/issues/21755 */display: inline-block !important;position: relative;}#sk-container-id-61 div.sk-text-repr-fallback {display: none;}</style><div id=\"sk-container-id-61\" class=\"sk-top-container\"><div class=\"sk-text-repr-fallback\"><pre>MLPClassifier(hidden_layer_sizes=(10, 8, 9, 10, 8), random_state=0,\n",
       "              solver=&#x27;lbfgs&#x27;)</pre><b>In a Jupyter environment, please rerun this cell to show the HTML representation or trust the notebook. <br />On GitHub, the HTML representation is unable to render, please try loading this page with nbviewer.org.</b></div><div class=\"sk-container\" hidden><div class=\"sk-item\"><div class=\"sk-estimator sk-toggleable\"><input class=\"sk-toggleable__control sk-hidden--visually\" id=\"sk-estimator-id-61\" type=\"checkbox\" checked><label for=\"sk-estimator-id-61\" class=\"sk-toggleable__label sk-toggleable__label-arrow\">MLPClassifier</label><div class=\"sk-toggleable__content\"><pre>MLPClassifier(hidden_layer_sizes=(10, 8, 9, 10, 8), random_state=0,\n",
       "              solver=&#x27;lbfgs&#x27;)</pre></div></div></div></div></div>"
      ],
      "text/plain": [
       "MLPClassifier(hidden_layer_sizes=(10, 8, 9, 10, 8), random_state=0,\n",
       "              solver='lbfgs')"
      ]
     },
     "execution_count": 232,
     "metadata": {},
     "output_type": "execute_result"
    }
   ],
   "source": [
    "#nn = MLPClassifier(solver=\"lbfgs\", hidden_layer_sizes=(8,10,10,3))\n",
    "nn = MLPClassifier(solver=\"lbfgs\", hidden_layer_sizes=(10,8,9,10,8), random_state=0)\n",
    "#nn = MLPClassifier(solver=\"lbfgs\", hidden_layer_sizes=(8,8,10,10,3), )\n",
    "nn.fit(x_train, y_train)"
   ]
  },
  {
   "cell_type": "code",
   "execution_count": 233,
   "id": "e5363ced",
   "metadata": {},
   "outputs": [
    {
     "data": {
      "text/plain": [
       "array([0, 1, 2, 0, 2, 0, 1, 1, 0, 1, 0, 1, 0, 2, 2, 1, 2, 0, 2, 0, 1, 1,\n",
       "       0, 2, 1, 0, 1, 0, 2, 1])"
      ]
     },
     "execution_count": 233,
     "metadata": {},
     "output_type": "execute_result"
    }
   ],
   "source": [
    "y_pred = nn.predict(x_test)\n",
    "y_pred"
   ]
  },
  {
   "cell_type": "code",
   "execution_count": 234,
   "id": "9e0b322a",
   "metadata": {},
   "outputs": [
    {
     "name": "stdout",
     "output_type": "stream",
     "text": [
      "redes neuronales\n",
      "      Accuracy 0.9666666666666667\n",
      "      Recall [1.         1.         0.88888889]\n",
      "      F1 [1.         0.95238095 0.94117647]\n",
      "      \n"
     ]
    }
   ],
   "source": [
    "print(f\"\"\"redes neuronales\n",
    "      Accuracy {accuracy_score(y_test, y_pred)}\n",
    "      Recall {recall_score(y_test, y_pred, average=None)}\n",
    "      F1 {f1_score(y_test, y_pred, average=None)}\n",
    "      \"\"\")"
   ]
  },
  {
   "cell_type": "markdown",
   "id": "4eeaaf25",
   "metadata": {},
   "source": [
    "Después de analizar el código, lo primero que noté fue que durante la sesión, yo obtuve un accuracy muy alto, pero usted comentó que había obtenido un resultado muy bajo, por lo que comencé por volver a correr mi código, y termine obteniendo resultados distintos entre la primera vez que lo corrí a la segunda, por lo que comencé por reducir la entropía del modelo agregando el parámetro random_state=0; el cuál hizo un poco por mantener los resultados similares entre distintas corridas, (también he de mencionar que el muestreo (x_train, y_train, x_test y_test) en cada corrida también lo rehacia). Finalmente creo que aumentar la cantidad de capas intermedias, así como neuronas por capa produce un mejor accuracy, con el mismo y nuevos muestreos."
   ]
  },
  {
   "cell_type": "code",
   "execution_count": null,
   "id": "99385a60",
   "metadata": {},
   "outputs": [],
   "source": []
  }
 ],
 "metadata": {
  "kernelspec": {
   "display_name": "Python 3 (ipykernel)",
   "language": "python",
   "name": "python3"
  },
  "language_info": {
   "codemirror_mode": {
    "name": "ipython",
    "version": 3
   },
   "file_extension": ".py",
   "mimetype": "text/x-python",
   "name": "python",
   "nbconvert_exporter": "python",
   "pygments_lexer": "ipython3",
   "version": "3.11.2"
  }
 },
 "nbformat": 4,
 "nbformat_minor": 5
}
