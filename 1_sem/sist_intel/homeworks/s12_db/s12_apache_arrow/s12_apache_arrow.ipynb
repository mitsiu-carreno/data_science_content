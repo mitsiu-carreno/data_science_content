{
 "cells": [
  {
   "cell_type": "code",
   "execution_count": 1,
   "id": "05675ce6",
   "metadata": {},
   "outputs": [
    {
     "name": "stdout",
     "output_type": "stream",
     "text": [
      "Defaulting to user installation because normal site-packages is not writeable\n",
      "Requirement already satisfied: pyarrow in /home/kincaid/.local/lib/python3.11/site-packages (12.0.1)\n",
      "Requirement already satisfied: numpy>=1.16.6 in /usr/lib/python3/dist-packages (from pyarrow) (1.24.2)\n"
     ]
    }
   ],
   "source": [
    "!pip install pyarrow"
   ]
  },
  {
   "cell_type": "markdown",
   "id": "d241031a",
   "metadata": {},
   "source": [
    "## Converting pandas dataframe to apache arrow table"
   ]
  },
  {
   "cell_type": "code",
   "execution_count": 2,
   "id": "4320b6c2",
   "metadata": {},
   "outputs": [],
   "source": [
    "import numpy as np\n",
    "import pandas as pd\n",
    "import pyarrow as pa\n",
    "\n",
    "df = pd.DataFrame({\n",
    "    'one': [20, np.nan, 2.5], \n",
    "    'two': ['january', 'february', 'march'], \n",
    "    'three':[True, False, True]}, index=list('abc')) \n",
    "table = pa.Table.from_pandas(df)"
   ]
  },
  {
   "cell_type": "markdown",
   "id": "591d24ef",
   "metadata": {},
   "source": [
    "## Pyarrow Table to pandas data frame"
   ]
  },
  {
   "cell_type": "code",
   "execution_count": 3,
   "id": "aadcd89e",
   "metadata": {},
   "outputs": [],
   "source": [
    "df_new = table.to_pandas()"
   ]
  },
  {
   "cell_type": "code",
   "execution_count": 4,
   "id": "71df6f44",
   "metadata": {},
   "outputs": [
    {
     "data": {
      "text/html": [
       "<div>\n",
       "<style scoped>\n",
       "    .dataframe tbody tr th:only-of-type {\n",
       "        vertical-align: middle;\n",
       "    }\n",
       "\n",
       "    .dataframe tbody tr th {\n",
       "        vertical-align: top;\n",
       "    }\n",
       "\n",
       "    .dataframe thead th {\n",
       "        text-align: right;\n",
       "    }\n",
       "</style>\n",
       "<table border=\"1\" class=\"dataframe\">\n",
       "  <thead>\n",
       "    <tr style=\"text-align: right;\">\n",
       "      <th></th>\n",
       "      <th>one</th>\n",
       "      <th>two</th>\n",
       "      <th>three</th>\n",
       "    </tr>\n",
       "  </thead>\n",
       "  <tbody>\n",
       "    <tr>\n",
       "      <th>a</th>\n",
       "      <td>20.0</td>\n",
       "      <td>january</td>\n",
       "      <td>True</td>\n",
       "    </tr>\n",
       "    <tr>\n",
       "      <th>b</th>\n",
       "      <td>NaN</td>\n",
       "      <td>february</td>\n",
       "      <td>False</td>\n",
       "    </tr>\n",
       "    <tr>\n",
       "      <th>c</th>\n",
       "      <td>2.5</td>\n",
       "      <td>march</td>\n",
       "      <td>True</td>\n",
       "    </tr>\n",
       "  </tbody>\n",
       "</table>\n",
       "</div>"
      ],
      "text/plain": [
       "    one       two  three\n",
       "a  20.0   january   True\n",
       "b   NaN  february  False\n",
       "c   2.5     march   True"
      ]
     },
     "execution_count": 4,
     "metadata": {},
     "output_type": "execute_result"
    }
   ],
   "source": [
    "df_new"
   ]
  },
  {
   "cell_type": "markdown",
   "id": "18d15d66",
   "metadata": {},
   "source": [
    "## Read csv"
   ]
  },
  {
   "cell_type": "code",
   "execution_count": 5,
   "id": "d669a26b",
   "metadata": {},
   "outputs": [],
   "source": [
    "from pyarrow import csv\n",
    "fn = '../../../lap.csv'\n",
    "table = csv.read_csv(fn)\n",
    "df = table.to_pandas()"
   ]
  },
  {
   "cell_type": "code",
   "execution_count": 6,
   "id": "06972960",
   "metadata": {},
   "outputs": [
    {
     "data": {
      "text/html": [
       "<div>\n",
       "<style scoped>\n",
       "    .dataframe tbody tr th:only-of-type {\n",
       "        vertical-align: middle;\n",
       "    }\n",
       "\n",
       "    .dataframe tbody tr th {\n",
       "        vertical-align: top;\n",
       "    }\n",
       "\n",
       "    .dataframe thead th {\n",
       "        text-align: right;\n",
       "    }\n",
       "</style>\n",
       "<table border=\"1\" class=\"dataframe\">\n",
       "  <thead>\n",
       "    <tr style=\"text-align: right;\">\n",
       "      <th></th>\n",
       "      <th>packetFormat</th>\n",
       "      <th>gameMajorVersion</th>\n",
       "      <th>gameMinorVersion</th>\n",
       "      <th>packetVersion</th>\n",
       "      <th>packetId</th>\n",
       "      <th>sessionUID</th>\n",
       "      <th>sessionTime</th>\n",
       "      <th>frameIdentifier</th>\n",
       "      <th>playerCarIndex</th>\n",
       "      <th>secondaryPlayerCarIndex</th>\n",
       "      <th>...</th>\n",
       "      <th>safetyCarDelta</th>\n",
       "      <th>carPosition</th>\n",
       "      <th>currentLapNum</th>\n",
       "      <th>pitStatus</th>\n",
       "      <th>sector</th>\n",
       "      <th>currentLapInvalid</th>\n",
       "      <th>penalties</th>\n",
       "      <th>gridPosition</th>\n",
       "      <th>driverStatus</th>\n",
       "      <th>resultStatus</th>\n",
       "    </tr>\n",
       "  </thead>\n",
       "  <tbody>\n",
       "    <tr>\n",
       "      <th>0</th>\n",
       "      <td>2020</td>\n",
       "      <td>1</td>\n",
       "      <td>18</td>\n",
       "      <td>1</td>\n",
       "      <td>2</td>\n",
       "      <td>6777929756610482444</td>\n",
       "      <td>0.019233</td>\n",
       "      <td>0</td>\n",
       "      <td>19</td>\n",
       "      <td>255</td>\n",
       "      <td>...</td>\n",
       "      <td>-0.0</td>\n",
       "      <td>10</td>\n",
       "      <td>1</td>\n",
       "      <td>0</td>\n",
       "      <td>2</td>\n",
       "      <td>0</td>\n",
       "      <td>0</td>\n",
       "      <td>10</td>\n",
       "      <td>4</td>\n",
       "      <td>2</td>\n",
       "    </tr>\n",
       "    <tr>\n",
       "      <th>1</th>\n",
       "      <td>2020</td>\n",
       "      <td>1</td>\n",
       "      <td>18</td>\n",
       "      <td>1</td>\n",
       "      <td>2</td>\n",
       "      <td>6777929756610482444</td>\n",
       "      <td>0.040277</td>\n",
       "      <td>1</td>\n",
       "      <td>19</td>\n",
       "      <td>255</td>\n",
       "      <td>...</td>\n",
       "      <td>-0.0</td>\n",
       "      <td>10</td>\n",
       "      <td>1</td>\n",
       "      <td>0</td>\n",
       "      <td>2</td>\n",
       "      <td>0</td>\n",
       "      <td>0</td>\n",
       "      <td>10</td>\n",
       "      <td>4</td>\n",
       "      <td>2</td>\n",
       "    </tr>\n",
       "    <tr>\n",
       "      <th>2</th>\n",
       "      <td>2020</td>\n",
       "      <td>1</td>\n",
       "      <td>18</td>\n",
       "      <td>1</td>\n",
       "      <td>2</td>\n",
       "      <td>6777929756610482444</td>\n",
       "      <td>0.072163</td>\n",
       "      <td>2</td>\n",
       "      <td>19</td>\n",
       "      <td>255</td>\n",
       "      <td>...</td>\n",
       "      <td>-0.0</td>\n",
       "      <td>10</td>\n",
       "      <td>1</td>\n",
       "      <td>0</td>\n",
       "      <td>2</td>\n",
       "      <td>0</td>\n",
       "      <td>0</td>\n",
       "      <td>10</td>\n",
       "      <td>4</td>\n",
       "      <td>2</td>\n",
       "    </tr>\n",
       "    <tr>\n",
       "      <th>3</th>\n",
       "      <td>2020</td>\n",
       "      <td>1</td>\n",
       "      <td>18</td>\n",
       "      <td>1</td>\n",
       "      <td>2</td>\n",
       "      <td>6777929756610482444</td>\n",
       "      <td>0.086520</td>\n",
       "      <td>3</td>\n",
       "      <td>19</td>\n",
       "      <td>255</td>\n",
       "      <td>...</td>\n",
       "      <td>-0.0</td>\n",
       "      <td>10</td>\n",
       "      <td>1</td>\n",
       "      <td>0</td>\n",
       "      <td>2</td>\n",
       "      <td>0</td>\n",
       "      <td>0</td>\n",
       "      <td>10</td>\n",
       "      <td>4</td>\n",
       "      <td>2</td>\n",
       "    </tr>\n",
       "    <tr>\n",
       "      <th>4</th>\n",
       "      <td>2020</td>\n",
       "      <td>1</td>\n",
       "      <td>18</td>\n",
       "      <td>1</td>\n",
       "      <td>2</td>\n",
       "      <td>6777929756610482444</td>\n",
       "      <td>0.116703</td>\n",
       "      <td>4</td>\n",
       "      <td>19</td>\n",
       "      <td>255</td>\n",
       "      <td>...</td>\n",
       "      <td>-0.0</td>\n",
       "      <td>10</td>\n",
       "      <td>1</td>\n",
       "      <td>0</td>\n",
       "      <td>2</td>\n",
       "      <td>0</td>\n",
       "      <td>0</td>\n",
       "      <td>10</td>\n",
       "      <td>4</td>\n",
       "      <td>2</td>\n",
       "    </tr>\n",
       "    <tr>\n",
       "      <th>...</th>\n",
       "      <td>...</td>\n",
       "      <td>...</td>\n",
       "      <td>...</td>\n",
       "      <td>...</td>\n",
       "      <td>...</td>\n",
       "      <td>...</td>\n",
       "      <td>...</td>\n",
       "      <td>...</td>\n",
       "      <td>...</td>\n",
       "      <td>...</td>\n",
       "      <td>...</td>\n",
       "      <td>...</td>\n",
       "      <td>...</td>\n",
       "      <td>...</td>\n",
       "      <td>...</td>\n",
       "      <td>...</td>\n",
       "      <td>...</td>\n",
       "      <td>...</td>\n",
       "      <td>...</td>\n",
       "      <td>...</td>\n",
       "      <td>...</td>\n",
       "    </tr>\n",
       "    <tr>\n",
       "      <th>9691</th>\n",
       "      <td>2020</td>\n",
       "      <td>1</td>\n",
       "      <td>18</td>\n",
       "      <td>1</td>\n",
       "      <td>2</td>\n",
       "      <td>6777929756610482444</td>\n",
       "      <td>237.774536</td>\n",
       "      <td>9804</td>\n",
       "      <td>19</td>\n",
       "      <td>255</td>\n",
       "      <td>...</td>\n",
       "      <td>-0.0</td>\n",
       "      <td>5</td>\n",
       "      <td>3</td>\n",
       "      <td>0</td>\n",
       "      <td>2</td>\n",
       "      <td>0</td>\n",
       "      <td>0</td>\n",
       "      <td>10</td>\n",
       "      <td>4</td>\n",
       "      <td>2</td>\n",
       "    </tr>\n",
       "    <tr>\n",
       "      <th>9692</th>\n",
       "      <td>2020</td>\n",
       "      <td>1</td>\n",
       "      <td>18</td>\n",
       "      <td>1</td>\n",
       "      <td>2</td>\n",
       "      <td>6777929756610482444</td>\n",
       "      <td>237.791290</td>\n",
       "      <td>9805</td>\n",
       "      <td>19</td>\n",
       "      <td>255</td>\n",
       "      <td>...</td>\n",
       "      <td>-0.0</td>\n",
       "      <td>5</td>\n",
       "      <td>3</td>\n",
       "      <td>0</td>\n",
       "      <td>2</td>\n",
       "      <td>0</td>\n",
       "      <td>0</td>\n",
       "      <td>10</td>\n",
       "      <td>4</td>\n",
       "      <td>2</td>\n",
       "    </tr>\n",
       "    <tr>\n",
       "      <th>9693</th>\n",
       "      <td>2020</td>\n",
       "      <td>1</td>\n",
       "      <td>18</td>\n",
       "      <td>1</td>\n",
       "      <td>2</td>\n",
       "      <td>6777929756610482444</td>\n",
       "      <td>237.824585</td>\n",
       "      <td>9806</td>\n",
       "      <td>19</td>\n",
       "      <td>255</td>\n",
       "      <td>...</td>\n",
       "      <td>-0.0</td>\n",
       "      <td>5</td>\n",
       "      <td>3</td>\n",
       "      <td>0</td>\n",
       "      <td>2</td>\n",
       "      <td>0</td>\n",
       "      <td>0</td>\n",
       "      <td>10</td>\n",
       "      <td>4</td>\n",
       "      <td>2</td>\n",
       "    </tr>\n",
       "    <tr>\n",
       "      <th>9694</th>\n",
       "      <td>2020</td>\n",
       "      <td>1</td>\n",
       "      <td>18</td>\n",
       "      <td>1</td>\n",
       "      <td>2</td>\n",
       "      <td>6777929756610482444</td>\n",
       "      <td>237.841248</td>\n",
       "      <td>9807</td>\n",
       "      <td>19</td>\n",
       "      <td>255</td>\n",
       "      <td>...</td>\n",
       "      <td>-0.0</td>\n",
       "      <td>5</td>\n",
       "      <td>4</td>\n",
       "      <td>0</td>\n",
       "      <td>0</td>\n",
       "      <td>0</td>\n",
       "      <td>0</td>\n",
       "      <td>10</td>\n",
       "      <td>4</td>\n",
       "      <td>2</td>\n",
       "    </tr>\n",
       "    <tr>\n",
       "      <th>9695</th>\n",
       "      <td>2020</td>\n",
       "      <td>1</td>\n",
       "      <td>18</td>\n",
       "      <td>1</td>\n",
       "      <td>2</td>\n",
       "      <td>6777929756610482444</td>\n",
       "      <td>237.858139</td>\n",
       "      <td>9808</td>\n",
       "      <td>19</td>\n",
       "      <td>255</td>\n",
       "      <td>...</td>\n",
       "      <td>-0.0</td>\n",
       "      <td>5</td>\n",
       "      <td>4</td>\n",
       "      <td>0</td>\n",
       "      <td>0</td>\n",
       "      <td>0</td>\n",
       "      <td>0</td>\n",
       "      <td>10</td>\n",
       "      <td>4</td>\n",
       "      <td>3</td>\n",
       "    </tr>\n",
       "  </tbody>\n",
       "</table>\n",
       "<p>9696 rows × 37 columns</p>\n",
       "</div>"
      ],
      "text/plain": [
       "      packetFormat  gameMajorVersion  gameMinorVersion  packetVersion  \\\n",
       "0             2020                 1                18              1   \n",
       "1             2020                 1                18              1   \n",
       "2             2020                 1                18              1   \n",
       "3             2020                 1                18              1   \n",
       "4             2020                 1                18              1   \n",
       "...            ...               ...               ...            ...   \n",
       "9691          2020                 1                18              1   \n",
       "9692          2020                 1                18              1   \n",
       "9693          2020                 1                18              1   \n",
       "9694          2020                 1                18              1   \n",
       "9695          2020                 1                18              1   \n",
       "\n",
       "      packetId           sessionUID  sessionTime  frameIdentifier  \\\n",
       "0            2  6777929756610482444     0.019233                0   \n",
       "1            2  6777929756610482444     0.040277                1   \n",
       "2            2  6777929756610482444     0.072163                2   \n",
       "3            2  6777929756610482444     0.086520                3   \n",
       "4            2  6777929756610482444     0.116703                4   \n",
       "...        ...                  ...          ...              ...   \n",
       "9691         2  6777929756610482444   237.774536             9804   \n",
       "9692         2  6777929756610482444   237.791290             9805   \n",
       "9693         2  6777929756610482444   237.824585             9806   \n",
       "9694         2  6777929756610482444   237.841248             9807   \n",
       "9695         2  6777929756610482444   237.858139             9808   \n",
       "\n",
       "      playerCarIndex  secondaryPlayerCarIndex  ...  safetyCarDelta  \\\n",
       "0                 19                      255  ...            -0.0   \n",
       "1                 19                      255  ...            -0.0   \n",
       "2                 19                      255  ...            -0.0   \n",
       "3                 19                      255  ...            -0.0   \n",
       "4                 19                      255  ...            -0.0   \n",
       "...              ...                      ...  ...             ...   \n",
       "9691              19                      255  ...            -0.0   \n",
       "9692              19                      255  ...            -0.0   \n",
       "9693              19                      255  ...            -0.0   \n",
       "9694              19                      255  ...            -0.0   \n",
       "9695              19                      255  ...            -0.0   \n",
       "\n",
       "      carPosition  currentLapNum  pitStatus  sector  currentLapInvalid  \\\n",
       "0              10              1          0       2                  0   \n",
       "1              10              1          0       2                  0   \n",
       "2              10              1          0       2                  0   \n",
       "3              10              1          0       2                  0   \n",
       "4              10              1          0       2                  0   \n",
       "...           ...            ...        ...     ...                ...   \n",
       "9691            5              3          0       2                  0   \n",
       "9692            5              3          0       2                  0   \n",
       "9693            5              3          0       2                  0   \n",
       "9694            5              4          0       0                  0   \n",
       "9695            5              4          0       0                  0   \n",
       "\n",
       "      penalties  gridPosition  driverStatus  resultStatus  \n",
       "0             0            10             4             2  \n",
       "1             0            10             4             2  \n",
       "2             0            10             4             2  \n",
       "3             0            10             4             2  \n",
       "4             0            10             4             2  \n",
       "...         ...           ...           ...           ...  \n",
       "9691          0            10             4             2  \n",
       "9692          0            10             4             2  \n",
       "9693          0            10             4             2  \n",
       "9694          0            10             4             2  \n",
       "9695          0            10             4             3  \n",
       "\n",
       "[9696 rows x 37 columns]"
      ]
     },
     "execution_count": 6,
     "metadata": {},
     "output_type": "execute_result"
    }
   ],
   "source": [
    "df"
   ]
  },
  {
   "cell_type": "markdown",
   "id": "bb4bdb99",
   "metadata": {},
   "source": [
    "## Writing parquet file"
   ]
  },
  {
   "cell_type": "code",
   "execution_count": 7,
   "id": "70f00074",
   "metadata": {},
   "outputs": [],
   "source": [
    "import pyarrow.parquet as pq\n",
    "pq.write_table(table, 'example.parquet')"
   ]
  },
  {
   "cell_type": "markdown",
   "id": "8273d753",
   "metadata": {},
   "source": [
    "## Reading a parquet file\n"
   ]
  },
  {
   "cell_type": "code",
   "execution_count": 8,
   "id": "392a2b29",
   "metadata": {
    "scrolled": true
   },
   "outputs": [
    {
     "data": {
      "text/plain": [
       "pyarrow.Table\n",
       "packetFormat: int64\n",
       "gameMajorVersion: int64\n",
       "gameMinorVersion: int64\n",
       "packetVersion: int64\n",
       "packetId: int64\n",
       "sessionUID: int64\n",
       "sessionTime: double\n",
       "frameIdentifier: int64\n",
       "playerCarIndex: int64\n",
       "secondaryPlayerCarIndex: int64\n",
       "lastLapTime: double\n",
       "currentLapTime: double\n",
       "sector1TimeInMS: int64\n",
       "sector2TimeInMS: int64\n",
       "bestLapTime: double\n",
       "bestLapNum: int64\n",
       "bestLapSector1TimeInMS: int64\n",
       "bestLapSector2TimeInMS: int64\n",
       "bestLapSector3TimeInMS: int64\n",
       "bestOverallSector1TimeInMS: int64\n",
       "bestOverallSector1LapNum: int64\n",
       "bestOverallSector2TimeInMS: int64\n",
       "bestOverallSector2LapNum: int64\n",
       "bestOverallSector3TimeInMS: int64\n",
       "bestOverallSector3LapNum: int64\n",
       "lapDistance: double\n",
       "totalDistance: double\n",
       "safetyCarDelta: double\n",
       "carPosition: int64\n",
       "currentLapNum: int64\n",
       "pitStatus: int64\n",
       "sector: int64\n",
       "currentLapInvalid: int64\n",
       "penalties: int64\n",
       "gridPosition: int64\n",
       "driverStatus: int64\n",
       "resultStatus: int64\n",
       "----\n",
       "packetFormat: [[2020,2020,2020,2020,2020,...,2020,2020,2020,2020,2020]]\n",
       "gameMajorVersion: [[1,1,1,1,1,...,1,1,1,1,1]]\n",
       "gameMinorVersion: [[18,18,18,18,18,...,18,18,18,18,18]]\n",
       "packetVersion: [[1,1,1,1,1,...,1,1,1,1,1]]\n",
       "packetId: [[2,2,2,2,2,...,2,2,2,2,2]]\n",
       "sessionUID: [[6777929756610482444,6777929756610482444,6777929756610482444,6777929756610482444,6777929756610482444,...,6777929756610482444,6777929756610482444,6777929756610482444,6777929756610482444,6777929756610482444]]\n",
       "sessionTime: [[0.019233,0.040277,0.072163,0.08652,0.116703,...,237.774536,237.79129,237.824585,237.841248,237.858139]]\n",
       "frameIdentifier: [[0,1,2,3,4,...,9804,9805,9806,9807,9808]]\n",
       "playerCarIndex: [[19,19,19,19,19,...,19,19,19,19,19]]\n",
       "secondaryPlayerCarIndex: [[255,255,255,255,255,...,255,255,255,255,255]]\n",
       "..."
      ]
     },
     "execution_count": 8,
     "metadata": {},
     "output_type": "execute_result"
    }
   ],
   "source": [
    "table2 = pq.read_table('example.parquet')\n",
    "table2"
   ]
  },
  {
   "cell_type": "markdown",
   "id": "1812d108",
   "metadata": {},
   "source": [
    "## Reading some columns from a parquet file"
   ]
  },
  {
   "cell_type": "code",
   "execution_count": 9,
   "id": "3f6ef774",
   "metadata": {},
   "outputs": [
    {
     "data": {
      "text/plain": [
       "pyarrow.Table\n",
       "sessionTime: double\n",
       "lapDistance: double\n",
       "----\n",
       "sessionTime: [[0.019233,0.040277,0.072163,0.08652,0.116703,...,237.774536,237.79129,237.824585,237.841248,237.858139]]\n",
       "lapDistance: [[-46.12793,-46.147949,-46.147949,-46.147949,-46.147949,...,4290.197266,4291.570312,4294.297852,1.257812,2.651367]]"
      ]
     },
     "execution_count": 9,
     "metadata": {},
     "output_type": "execute_result"
    }
   ],
   "source": [
    "table2 = pq.read_table('example.parquet', columns=['sessionTime', 'lapDistance'])\n",
    "table2"
   ]
  },
  {
   "cell_type": "markdown",
   "id": "0afb4afe",
   "metadata": {},
   "source": [
    "## Reading from file dataset"
   ]
  },
  {
   "cell_type": "code",
   "execution_count": 10,
   "id": "759f7216",
   "metadata": {},
   "outputs": [
    {
     "data": {
      "text/plain": [
       "pyarrow.Table\n",
       "packetFormat: int64\n",
       "gameMajorVersion: int64\n",
       "gameMinorVersion: int64\n",
       "packetVersion: int64\n",
       "packetId: int64\n",
       "sessionUID: int64\n",
       "sessionTime: double\n",
       "frameIdentifier: int64\n",
       "playerCarIndex: int64\n",
       "secondaryPlayerCarIndex: int64\n",
       "lastLapTime: double\n",
       "currentLapTime: double\n",
       "sector1TimeInMS: int64\n",
       "sector2TimeInMS: int64\n",
       "bestLapTime: double\n",
       "bestLapNum: int64\n",
       "bestLapSector1TimeInMS: int64\n",
       "bestLapSector2TimeInMS: int64\n",
       "bestLapSector3TimeInMS: int64\n",
       "bestOverallSector1TimeInMS: int64\n",
       "bestOverallSector1LapNum: int64\n",
       "bestOverallSector2TimeInMS: int64\n",
       "bestOverallSector2LapNum: int64\n",
       "bestOverallSector3TimeInMS: int64\n",
       "bestOverallSector3LapNum: int64\n",
       "lapDistance: double\n",
       "totalDistance: double\n",
       "safetyCarDelta: double\n",
       "carPosition: int64\n",
       "currentLapNum: int64\n",
       "pitStatus: int64\n",
       "sector: int64\n",
       "currentLapInvalid: int64\n",
       "penalties: int64\n",
       "gridPosition: int64\n",
       "driverStatus: int64\n",
       "resultStatus: int64\n",
       "----\n",
       "packetFormat: [[2020,2020,2020,2020,2020,...,2020,2020,2020,2020,2020]]\n",
       "gameMajorVersion: [[1,1,1,1,1,...,1,1,1,1,1]]\n",
       "gameMinorVersion: [[18,18,18,18,18,...,18,18,18,18,18]]\n",
       "packetVersion: [[1,1,1,1,1,...,1,1,1,1,1]]\n",
       "packetId: [[2,2,2,2,2,...,2,2,2,2,2]]\n",
       "sessionUID: [[6777929756610482444,6777929756610482444,6777929756610482444,6777929756610482444,6777929756610482444,...,6777929756610482444,6777929756610482444,6777929756610482444,6777929756610482444,6777929756610482444]]\n",
       "sessionTime: [[0.019233,0.040277,0.072163,0.08652,0.116703,...,237.774536,237.79129,237.824585,237.841248,237.858139]]\n",
       "frameIdentifier: [[0,1,2,3,4,...,9804,9805,9806,9807,9808]]\n",
       "playerCarIndex: [[19,19,19,19,19,...,19,19,19,19,19]]\n",
       "secondaryPlayerCarIndex: [[255,255,255,255,255,...,255,255,255,255,255]]\n",
       "..."
      ]
     },
     "execution_count": 10,
     "metadata": {},
     "output_type": "execute_result"
    }
   ],
   "source": [
    "## Dataset_name is created below weird ass tutorial\n",
    "dataset = pq.ParquetDataset('example.parquet')\n",
    "table = dataset.read()\n",
    "table"
   ]
  },
  {
   "cell_type": "markdown",
   "id": "aa9d2c37",
   "metadata": {},
   "source": [
    "## Transforming Parquet file into a pandas dataframe"
   ]
  },
  {
   "cell_type": "code",
   "execution_count": 11,
   "id": "c9266fc5",
   "metadata": {},
   "outputs": [
    {
     "data": {
      "text/html": [
       "<div>\n",
       "<style scoped>\n",
       "    .dataframe tbody tr th:only-of-type {\n",
       "        vertical-align: middle;\n",
       "    }\n",
       "\n",
       "    .dataframe tbody tr th {\n",
       "        vertical-align: top;\n",
       "    }\n",
       "\n",
       "    .dataframe thead th {\n",
       "        text-align: right;\n",
       "    }\n",
       "</style>\n",
       "<table border=\"1\" class=\"dataframe\">\n",
       "  <thead>\n",
       "    <tr style=\"text-align: right;\">\n",
       "      <th></th>\n",
       "      <th>sessionTime</th>\n",
       "    </tr>\n",
       "  </thead>\n",
       "  <tbody>\n",
       "    <tr>\n",
       "      <th>0</th>\n",
       "      <td>0.019233</td>\n",
       "    </tr>\n",
       "    <tr>\n",
       "      <th>1</th>\n",
       "      <td>0.040277</td>\n",
       "    </tr>\n",
       "    <tr>\n",
       "      <th>2</th>\n",
       "      <td>0.072163</td>\n",
       "    </tr>\n",
       "    <tr>\n",
       "      <th>3</th>\n",
       "      <td>0.086520</td>\n",
       "    </tr>\n",
       "    <tr>\n",
       "      <th>4</th>\n",
       "      <td>0.116703</td>\n",
       "    </tr>\n",
       "    <tr>\n",
       "      <th>...</th>\n",
       "      <td>...</td>\n",
       "    </tr>\n",
       "    <tr>\n",
       "      <th>9691</th>\n",
       "      <td>237.774536</td>\n",
       "    </tr>\n",
       "    <tr>\n",
       "      <th>9692</th>\n",
       "      <td>237.791290</td>\n",
       "    </tr>\n",
       "    <tr>\n",
       "      <th>9693</th>\n",
       "      <td>237.824585</td>\n",
       "    </tr>\n",
       "    <tr>\n",
       "      <th>9694</th>\n",
       "      <td>237.841248</td>\n",
       "    </tr>\n",
       "    <tr>\n",
       "      <th>9695</th>\n",
       "      <td>237.858139</td>\n",
       "    </tr>\n",
       "  </tbody>\n",
       "</table>\n",
       "<p>9696 rows × 1 columns</p>\n",
       "</div>"
      ],
      "text/plain": [
       "      sessionTime\n",
       "0        0.019233\n",
       "1        0.040277\n",
       "2        0.072163\n",
       "3        0.086520\n",
       "4        0.116703\n",
       "...           ...\n",
       "9691   237.774536\n",
       "9692   237.791290\n",
       "9693   237.824585\n",
       "9694   237.841248\n",
       "9695   237.858139\n",
       "\n",
       "[9696 rows x 1 columns]"
      ]
     },
     "execution_count": 11,
     "metadata": {},
     "output_type": "execute_result"
    }
   ],
   "source": [
    "pdf = pq.read_pandas('example.parquet', columns=['sessionTime']).to_pandas()\n",
    "pdf"
   ]
  },
  {
   "cell_type": "markdown",
   "id": "25186401",
   "metadata": {},
   "source": [
    "## Avoid pandas index"
   ]
  },
  {
   "cell_type": "code",
   "execution_count": 12,
   "id": "e4142fbe",
   "metadata": {},
   "outputs": [
    {
     "data": {
      "text/plain": [
       "pyarrow.Table\n",
       "packetFormat: int64\n",
       "gameMajorVersion: int64\n",
       "gameMinorVersion: int64\n",
       "packetVersion: int64\n",
       "packetId: int64\n",
       "sessionUID: int64\n",
       "sessionTime: double\n",
       "frameIdentifier: int64\n",
       "playerCarIndex: int64\n",
       "secondaryPlayerCarIndex: int64\n",
       "lastLapTime: double\n",
       "currentLapTime: double\n",
       "sector1TimeInMS: int64\n",
       "sector2TimeInMS: int64\n",
       "bestLapTime: double\n",
       "bestLapNum: int64\n",
       "bestLapSector1TimeInMS: int64\n",
       "bestLapSector2TimeInMS: int64\n",
       "bestLapSector3TimeInMS: int64\n",
       "bestOverallSector1TimeInMS: int64\n",
       "bestOverallSector1LapNum: int64\n",
       "bestOverallSector2TimeInMS: int64\n",
       "bestOverallSector2LapNum: int64\n",
       "bestOverallSector3TimeInMS: int64\n",
       "bestOverallSector3LapNum: int64\n",
       "lapDistance: double\n",
       "totalDistance: double\n",
       "safetyCarDelta: double\n",
       "carPosition: int64\n",
       "currentLapNum: int64\n",
       "pitStatus: int64\n",
       "sector: int64\n",
       "currentLapInvalid: int64\n",
       "penalties: int64\n",
       "gridPosition: int64\n",
       "driverStatus: int64\n",
       "resultStatus: int64\n",
       "----\n",
       "packetFormat: [[2020,2020,2020,2020,2020,...,2020,2020,2020,2020,2020]]\n",
       "gameMajorVersion: [[1,1,1,1,1,...,1,1,1,1,1]]\n",
       "gameMinorVersion: [[18,18,18,18,18,...,18,18,18,18,18]]\n",
       "packetVersion: [[1,1,1,1,1,...,1,1,1,1,1]]\n",
       "packetId: [[2,2,2,2,2,...,2,2,2,2,2]]\n",
       "sessionUID: [[6777929756610482444,6777929756610482444,6777929756610482444,6777929756610482444,6777929756610482444,...,6777929756610482444,6777929756610482444,6777929756610482444,6777929756610482444,6777929756610482444]]\n",
       "sessionTime: [[0.019233,0.040277,0.072163,0.08652,0.116703,...,237.774536,237.79129,237.824585,237.841248,237.858139]]\n",
       "frameIdentifier: [[0,1,2,3,4,...,9804,9805,9806,9807,9808]]\n",
       "playerCarIndex: [[19,19,19,19,19,...,19,19,19,19,19]]\n",
       "secondaryPlayerCarIndex: [[255,255,255,255,255,...,255,255,255,255,255]]\n",
       "..."
      ]
     },
     "execution_count": 12,
     "metadata": {},
     "output_type": "execute_result"
    }
   ],
   "source": [
    "table = pa.Table.from_pandas(df, preserve_index=False)\n",
    "pq.write_table(table, 'example_no_index.parquet')\n",
    "t = pq.read_table('example_no_index.parquet')\n",
    "t.to_pandas()\n",
    "t"
   ]
  },
  {
   "cell_type": "markdown",
   "id": "e70d6f46",
   "metadata": {},
   "source": [
    "## Check metadata"
   ]
  },
  {
   "cell_type": "code",
   "execution_count": 13,
   "id": "0be281bf",
   "metadata": {},
   "outputs": [
    {
     "data": {
      "text/plain": [
       "<pyarrow._parquet.FileMetaData object at 0x7f4755f42de0>\n",
       "  created_by: parquet-cpp-arrow version 12.0.0\n",
       "  num_columns: 37\n",
       "  num_rows: 9696\n",
       "  num_row_groups: 1\n",
       "  format_version: 2.6\n",
       "  serialized_size: 8324"
      ]
     },
     "execution_count": 13,
     "metadata": {},
     "output_type": "execute_result"
    }
   ],
   "source": [
    "parquet_file = pq.ParquetFile('example.parquet')\n",
    "parquet_file.metadata"
   ]
  },
  {
   "cell_type": "markdown",
   "id": "a47b80e0",
   "metadata": {},
   "source": [
    "## See data schema"
   ]
  },
  {
   "cell_type": "code",
   "execution_count": 14,
   "id": "3c595028",
   "metadata": {},
   "outputs": [
    {
     "data": {
      "text/plain": [
       "<pyarrow._parquet.ParquetSchema object at 0x7f4755f50e80>\n",
       "required group field_id=-1 schema {\n",
       "  optional int64 field_id=-1 packetFormat;\n",
       "  optional int64 field_id=-1 gameMajorVersion;\n",
       "  optional int64 field_id=-1 gameMinorVersion;\n",
       "  optional int64 field_id=-1 packetVersion;\n",
       "  optional int64 field_id=-1 packetId;\n",
       "  optional int64 field_id=-1 sessionUID;\n",
       "  optional double field_id=-1 sessionTime;\n",
       "  optional int64 field_id=-1 frameIdentifier;\n",
       "  optional int64 field_id=-1 playerCarIndex;\n",
       "  optional int64 field_id=-1 secondaryPlayerCarIndex;\n",
       "  optional double field_id=-1 lastLapTime;\n",
       "  optional double field_id=-1 currentLapTime;\n",
       "  optional int64 field_id=-1 sector1TimeInMS;\n",
       "  optional int64 field_id=-1 sector2TimeInMS;\n",
       "  optional double field_id=-1 bestLapTime;\n",
       "  optional int64 field_id=-1 bestLapNum;\n",
       "  optional int64 field_id=-1 bestLapSector1TimeInMS;\n",
       "  optional int64 field_id=-1 bestLapSector2TimeInMS;\n",
       "  optional int64 field_id=-1 bestLapSector3TimeInMS;\n",
       "  optional int64 field_id=-1 bestOverallSector1TimeInMS;\n",
       "  optional int64 field_id=-1 bestOverallSector1LapNum;\n",
       "  optional int64 field_id=-1 bestOverallSector2TimeInMS;\n",
       "  optional int64 field_id=-1 bestOverallSector2LapNum;\n",
       "  optional int64 field_id=-1 bestOverallSector3TimeInMS;\n",
       "  optional int64 field_id=-1 bestOverallSector3LapNum;\n",
       "  optional double field_id=-1 lapDistance;\n",
       "  optional double field_id=-1 totalDistance;\n",
       "  optional double field_id=-1 safetyCarDelta;\n",
       "  optional int64 field_id=-1 carPosition;\n",
       "  optional int64 field_id=-1 currentLapNum;\n",
       "  optional int64 field_id=-1 pitStatus;\n",
       "  optional int64 field_id=-1 sector;\n",
       "  optional int64 field_id=-1 currentLapInvalid;\n",
       "  optional int64 field_id=-1 penalties;\n",
       "  optional int64 field_id=-1 gridPosition;\n",
       "  optional int64 field_id=-1 driverStatus;\n",
       "  optional int64 field_id=-1 resultStatus;\n",
       "}"
      ]
     },
     "execution_count": 14,
     "metadata": {},
     "output_type": "execute_result"
    }
   ],
   "source": [
    "parquet_file.schema"
   ]
  },
  {
   "cell_type": "markdown",
   "id": "20b46664",
   "metadata": {},
   "source": [
    "## Timestamp\n",
    "Remeber Pandas use nanoseconds so you can truncate in milliseconds for compatibility"
   ]
  },
  {
   "cell_type": "code",
   "execution_count": 15,
   "id": "353394c8",
   "metadata": {},
   "outputs": [],
   "source": [
    "pq.write_table(table, \"example_timestamp.parquet\", coerce_timestamps='ms')\n",
    "pq.write_table(table, \"example_trunc_timestamp.parquet\", coerce_timestamps='ms', allow_truncated_timestamps=True)"
   ]
  },
  {
   "cell_type": "markdown",
   "id": "e6b88c52",
   "metadata": {},
   "source": [
    "## Compression\n",
    "By default, Apache arrow uses snappy compression (not so compressed but easier access), although other codecs are allowed"
   ]
  },
  {
   "cell_type": "code",
   "execution_count": 16,
   "id": "e999614d",
   "metadata": {},
   "outputs": [],
   "source": [
    "pq.write_table(table, \"example_snappy.parquet\", compression='snappy')\n",
    "pq.write_table(table, \"example_gzip.parquet\", compression='gzip')\n",
    "pq.write_table(table, \"example_brotli.parquet\", compression='brotli')\n",
    "pq.write_table(table, \"example_none.parquet\", compression='none')"
   ]
  },
  {
   "cell_type": "markdown",
   "id": "40ec440a",
   "metadata": {},
   "source": [
    "Also, its possible to use more than one compression table"
   ]
  },
  {
   "cell_type": "code",
   "execution_count": 17,
   "id": "30ee6598",
   "metadata": {},
   "outputs": [],
   "source": [
    "pq.write_table(table, 'example_diff_compr.parquet', \n",
    "               compression={b'sessionTime':'snappy', b'lapDistance':'gzip'})"
   ]
  },
  {
   "cell_type": "markdown",
   "id": "2f96fc08",
   "metadata": {},
   "source": [
    "## Write a partitioned parquet table"
   ]
  },
  {
   "cell_type": "code",
   "execution_count": 18,
   "id": "23e973b7",
   "metadata": {},
   "outputs": [],
   "source": [
    "df = pd.DataFrame(\n",
    "    {\n",
    "        'one': [1, 2.5, 3],\n",
    "        'two': ['Peru', 'Brazil', 'Canada'],\n",
    "        'three': [True, False, True]\n",
    "    },\n",
    "    index=list('abc')\n",
    ")\n",
    "table = pa.Table.from_pandas(df)\n",
    "pq.write_to_dataset(table, root_path='dataset_name', partition_cols=['one', 'two'])"
   ]
  },
  {
   "cell_type": "markdown",
   "id": "16de44d8",
   "metadata": {},
   "source": [
    "## Reading from partitioned dataset"
   ]
  },
  {
   "cell_type": "code",
   "execution_count": 19,
   "id": "d42add34",
   "metadata": {},
   "outputs": [
    {
     "data": {
      "text/plain": [
       "pyarrow.Table\n",
       "three: bool\n",
       "__index_level_0__: string\n",
       "one: dictionary<values=string, indices=int32, ordered=0>\n",
       "two: dictionary<values=string, indices=int32, ordered=0>\n",
       "----\n",
       "three: [[true],[true],...,[true],[true]]\n",
       "__index_level_0__: [[\"a\"],[\"a\"],...,[\"c\"],[\"c\"]]\n",
       "one: [  -- dictionary:\n",
       "[\"1\",\"2.5\",\"3\"]  -- indices:\n",
       "[0],  -- dictionary:\n",
       "[\"1\",\"2.5\",\"3\"]  -- indices:\n",
       "[0],...,  -- dictionary:\n",
       "[\"1\",\"2.5\",\"3\"]  -- indices:\n",
       "[2],  -- dictionary:\n",
       "[\"1\",\"2.5\",\"3\"]  -- indices:\n",
       "[2]]\n",
       "two: [  -- dictionary:\n",
       "[\"Peru\",\"Brazil\",\"Canada\"]  -- indices:\n",
       "[0],  -- dictionary:\n",
       "[\"Peru\",\"Brazil\",\"Canada\"]  -- indices:\n",
       "[0],...,  -- dictionary:\n",
       "[\"Peru\",\"Brazil\",\"Canada\"]  -- indices:\n",
       "[2],  -- dictionary:\n",
       "[\"Peru\",\"Brazil\",\"Canada\"]  -- indices:\n",
       "[2]]"
      ]
     },
     "execution_count": 19,
     "metadata": {},
     "output_type": "execute_result"
    }
   ],
   "source": [
    "## Dataset_name is created below weird ass tutorial\n",
    "dataset = pq.ParquetDataset('dataset_name')\n",
    "table = dataset.read()\n",
    "table"
   ]
  },
  {
   "cell_type": "markdown",
   "id": "b6490abb",
   "metadata": {},
   "source": [
    "## Apache arrow with apache spark\n",
    "Optimizing times, avoiding serialization and deserialization process\n",
    "Apache arrow uses:\n",
    "* Speeding conversion from pandas data frame to spark data frame\n",
    "* Speeding conversion from Spark Data Frame to Pandas data frame\n",
    "* Using with Pandas UDF (Vectorized UDF)\n",
    "* Optimizing R with apache spark\n"
   ]
  },
  {
   "cell_type": "markdown",
   "id": "c79a0ddc",
   "metadata": {},
   "source": [
    "Let's test the conversion among Pandas and Spark first without modifying anything and then with arrow"
   ]
  },
  {
   "cell_type": "code",
   "execution_count": 20,
   "id": "814ac574",
   "metadata": {},
   "outputs": [
    {
     "name": "stdout",
     "output_type": "stream",
     "text": [
      "Defaulting to user installation because normal site-packages is not writeable\n",
      "Requirement already satisfied: pyspark in /home/kincaid/.local/lib/python3.11/site-packages (3.4.0)\n",
      "Requirement already satisfied: py4j==0.10.9.7 in /home/kincaid/.local/lib/python3.11/site-packages (from pyspark) (0.10.9.7)\n"
     ]
    }
   ],
   "source": [
    "!pip install pyspark"
   ]
  },
  {
   "cell_type": "code",
   "execution_count": 21,
   "id": "4d011e0c",
   "metadata": {},
   "outputs": [
    {
     "name": "stderr",
     "output_type": "stream",
     "text": [
      "23/06/23 23:28:26 WARN Utils: Your hostname, MSI resolves to a loopback address: 127.0.1.1; using 172.19.207.62 instead (on interface eth0)\n",
      "23/06/23 23:28:26 WARN Utils: Set SPARK_LOCAL_IP if you need to bind to another address\n",
      "Setting default log level to \"WARN\".\n",
      "To adjust logging level use sc.setLogLevel(newLevel). For SparkR, use setLogLevel(newLevel).\n",
      "23/06/23 23:28:29 WARN NativeCodeLoader: Unable to load native-hadoop library for your platform... using builtin-java classes where applicable\n"
     ]
    }
   ],
   "source": [
    "from pyspark.sql import SparkSession\n",
    "warehouseLocation = '/home/kincaid/Documents/ucags/data_science_master/1_sem/sist_intel/homeworks/s12_db'\n",
    "spark = SparkSession \\\n",
    "    .builder.appName(\"demoSpark\") \\\n",
    "    .config(\"spark.sql.warehouse.dir\", warehouseLocation) \\\n",
    "    .enableHiveSupport() \\\n",
    "    .getOrCreate()\n"
   ]
  },
  {
   "cell_type": "code",
   "execution_count": 22,
   "id": "63bee084",
   "metadata": {},
   "outputs": [
    {
     "name": "stdout",
     "output_type": "stream",
     "text": [
      "root\n",
      " |-- id: long (nullable = false)\n",
      " |-- x: double (nullable = false)\n",
      "\n"
     ]
    }
   ],
   "source": [
    "# Create test Spark DataFrame\n",
    "from pyspark.sql.functions import rand\n",
    "df = spark.range(1 << 22).toDF(\"id\").withColumn(\"x\", rand())\n",
    "df.printSchema()"
   ]
  },
  {
   "cell_type": "code",
   "execution_count": 23,
   "id": "e3e3ae0a",
   "metadata": {},
   "outputs": [
    {
     "name": "stderr",
     "output_type": "stream",
     "text": [
      "                                                                                \r"
     ]
    },
    {
     "name": "stdout",
     "output_type": "stream",
     "text": [
      "CPU times: user 23.5 s, sys: 1.7 s, total: 25.2 s\n",
      "Wall time: 31.9 s\n"
     ]
    },
    {
     "name": "stderr",
     "output_type": "stream",
     "text": [
      "23/06/23 23:29:11 WARN SQLConf: The SQL config 'spark.sql.execution.arrow.enabled' has been deprecated in Spark v3.0 and may be removed in the future. Use 'spark.sql.execution.arrow.pyspark.enabled' instead of it.\n",
      "                                                                                \r"
     ]
    },
    {
     "name": "stdout",
     "output_type": "stream",
     "text": [
      "CPU times: user 225 ms, sys: 244 ms, total: 469 ms\n",
      "Wall time: 2.66 s\n"
     ]
    },
    {
     "data": {
      "text/html": [
       "<div>\n",
       "<style scoped>\n",
       "    .dataframe tbody tr th:only-of-type {\n",
       "        vertical-align: middle;\n",
       "    }\n",
       "\n",
       "    .dataframe tbody tr th {\n",
       "        vertical-align: top;\n",
       "    }\n",
       "\n",
       "    .dataframe thead th {\n",
       "        text-align: right;\n",
       "    }\n",
       "</style>\n",
       "<table border=\"1\" class=\"dataframe\">\n",
       "  <thead>\n",
       "    <tr style=\"text-align: right;\">\n",
       "      <th></th>\n",
       "      <th>id</th>\n",
       "      <th>x</th>\n",
       "    </tr>\n",
       "  </thead>\n",
       "  <tbody>\n",
       "    <tr>\n",
       "      <th>count</th>\n",
       "      <td>4.194304e+06</td>\n",
       "      <td>4.194304e+06</td>\n",
       "    </tr>\n",
       "    <tr>\n",
       "      <th>mean</th>\n",
       "      <td>2.097152e+06</td>\n",
       "      <td>4.999772e-01</td>\n",
       "    </tr>\n",
       "    <tr>\n",
       "      <th>std</th>\n",
       "      <td>1.210791e+06</td>\n",
       "      <td>2.887576e-01</td>\n",
       "    </tr>\n",
       "    <tr>\n",
       "      <th>min</th>\n",
       "      <td>0.000000e+00</td>\n",
       "      <td>2.844156e-09</td>\n",
       "    </tr>\n",
       "    <tr>\n",
       "      <th>25%</th>\n",
       "      <td>1.048576e+06</td>\n",
       "      <td>2.497804e-01</td>\n",
       "    </tr>\n",
       "    <tr>\n",
       "      <th>50%</th>\n",
       "      <td>2.097152e+06</td>\n",
       "      <td>4.998851e-01</td>\n",
       "    </tr>\n",
       "    <tr>\n",
       "      <th>75%</th>\n",
       "      <td>3.145727e+06</td>\n",
       "      <td>7.502333e-01</td>\n",
       "    </tr>\n",
       "    <tr>\n",
       "      <th>max</th>\n",
       "      <td>4.194303e+06</td>\n",
       "      <td>1.000000e+00</td>\n",
       "    </tr>\n",
       "  </tbody>\n",
       "</table>\n",
       "</div>"
      ],
      "text/plain": [
       "                 id             x\n",
       "count  4.194304e+06  4.194304e+06\n",
       "mean   2.097152e+06  4.999772e-01\n",
       "std    1.210791e+06  2.887576e-01\n",
       "min    0.000000e+00  2.844156e-09\n",
       "25%    1.048576e+06  2.497804e-01\n",
       "50%    2.097152e+06  4.998851e-01\n",
       "75%    3.145727e+06  7.502333e-01\n",
       "max    4.194303e+06  1.000000e+00"
      ]
     },
     "execution_count": 23,
     "metadata": {},
     "output_type": "execute_result"
    }
   ],
   "source": [
    "# Benchmark time\n",
    "%time pdf = df.toPandas()\n",
    "spark.conf.set(\"spark.sql.execution.arrow.enabled\", \"true\")\n",
    "%time pdf = df.toPandas()\n",
    "pdf.describe()"
   ]
  },
  {
   "cell_type": "markdown",
   "id": "3507e0be",
   "metadata": {},
   "source": [
    "test pandas to spark df"
   ]
  },
  {
   "cell_type": "code",
   "execution_count": 24,
   "id": "42a3d1de",
   "metadata": {},
   "outputs": [
    {
     "name": "stdout",
     "output_type": "stream",
     "text": [
      "CPU times: user 438 ms, sys: 172 ms, total: 610 ms\n",
      "Wall time: 789 ms\n"
     ]
    },
    {
     "name": "stderr",
     "output_type": "stream",
     "text": [
      "23/06/23 23:29:15 WARN SQLConf: The SQL config 'spark.sql.execution.arrow.enabled' has been deprecated in Spark v3.0 and may be removed in the future. Use 'spark.sql.execution.arrow.pyspark.enabled' instead of it.\n"
     ]
    },
    {
     "name": "stdout",
     "output_type": "stream",
     "text": [
      "CPU times: user 2min 15s, sys: 736 ms, total: 2min 16s\n",
      "Wall time: 2min 16s\n"
     ]
    },
    {
     "name": "stderr",
     "output_type": "stream",
     "text": [
      "23/06/23 23:31:32 WARN TaskSetManager: Stage 2 contains a task of very large size (3981 KiB). The maximum recommended task size is 1000 KiB.\n",
      "[Stage 2:>                                                        (0 + 16) / 16]\r"
     ]
    },
    {
     "name": "stdout",
     "output_type": "stream",
     "text": [
      "+-------+------------------+--------------------+\n",
      "|summary|                id|                   x|\n",
      "+-------+------------------+--------------------+\n",
      "|  count|           4194304|             4194304|\n",
      "|   mean|         2097151.5|  0.4999772238041727|\n",
      "| stddev|1210791.4160691209| 0.28875759087101494|\n",
      "|    min|                 0|2.844156021808430...|\n",
      "|    max|           4194303|  0.9999999749245246|\n",
      "+-------+------------------+--------------------+\n",
      "\n"
     ]
    },
    {
     "name": "stderr",
     "output_type": "stream",
     "text": [
      "\r",
      "                                                                                \r"
     ]
    }
   ],
   "source": [
    "%time df = spark.createDataFrame(pdf)\n",
    "spark.conf.set(\"spark.sql.execution.arrow.enabled\", \"false\")\n",
    "%time df = spark.createDataFrame(pdf)\n",
    "df.describe().show()"
   ]
  },
  {
   "cell_type": "markdown",
   "id": "2afc5ffd",
   "metadata": {},
   "source": [
    "\n",
    "# Cassandra"
   ]
  },
  {
   "cell_type": "code",
   "execution_count": 25,
   "id": "4be4c456",
   "metadata": {},
   "outputs": [
    {
     "name": "stdout",
     "output_type": "stream",
     "text": [
      "Defaulting to user installation because normal site-packages is not writeable\n",
      "Requirement already satisfied: cassandra-driver in /home/kincaid/.local/lib/python3.11/site-packages (3.28.0)\n",
      "Requirement already satisfied: six>=1.9 in /usr/lib/python3/dist-packages (from cassandra-driver) (1.16.0)\n",
      "Requirement already satisfied: geomet<0.3,>=0.1 in /home/kincaid/.local/lib/python3.11/site-packages (from cassandra-driver) (0.2.1.post1)\n",
      "Requirement already satisfied: click in /usr/lib/python3/dist-packages (from geomet<0.3,>=0.1->cassandra-driver) (8.1.3)\n"
     ]
    }
   ],
   "source": [
    "!pip install cassandra-driver"
   ]
  },
  {
   "cell_type": "code",
   "execution_count": 26,
   "id": "eb9a706d",
   "metadata": {},
   "outputs": [
    {
     "name": "stderr",
     "output_type": "stream",
     "text": [
      "WARNING:cassandra.cluster:Cluster.__init__ called with contact_points specified, but no load_balancing_policy. In the next major version, this will raise an error; please specify a load-balancing policy. (contact_points = ['0.0.0.0'], lbp = None)\n",
      "WARNING:cassandra.cluster:[control connection] Error connecting to 0.0.0.0:9042:\n",
      "Traceback (most recent call last):\n",
      "  File \"cassandra/cluster.py\", line 3541, in cassandra.cluster.ControlConnection._reconnect_internal\n",
      "  File \"cassandra/cluster.py\", line 3563, in cassandra.cluster.ControlConnection._try_connect\n",
      "  File \"cassandra/cluster.py\", line 1630, in cassandra.cluster.Cluster.connection_factory\n",
      "  File \"cassandra/connection.py\", line 850, in cassandra.connection.Connection.factory\n",
      "  File \"/home/kincaid/.local/lib/python3.11/site-packages/cassandra/io/asyncorereactor.py\", line 347, in __init__\n",
      "    self._connect_socket()\n",
      "  File \"cassandra/connection.py\", line 917, in cassandra.connection.Connection._connect_socket\n",
      "ConnectionRefusedError: [Errno 111] Tried connecting to [('0.0.0.0', 9042)]. Last error: Connection refused\n",
      "ERROR:cassandra.cluster:Control connection failed to connect, shutting down Cluster:\n",
      "Traceback (most recent call last):\n",
      "  File \"cassandra/cluster.py\", line 1700, in cassandra.cluster.Cluster.connect\n",
      "  File \"cassandra/cluster.py\", line 3507, in cassandra.cluster.ControlConnection.connect\n",
      "  File \"cassandra/cluster.py\", line 3552, in cassandra.cluster.ControlConnection._reconnect_internal\n",
      "cassandra.cluster.NoHostAvailable: ('Unable to connect to any servers', {'0.0.0.0:9042': ConnectionRefusedError(111, \"Tried connecting to [('0.0.0.0', 9042)]. Last error: Connection refused\")})\n"
     ]
    },
    {
     "ename": "NoHostAvailable",
     "evalue": "('Unable to connect to any servers', {'0.0.0.0:9042': ConnectionRefusedError(111, \"Tried connecting to [('0.0.0.0', 9042)]. Last error: Connection refused\")})",
     "output_type": "error",
     "traceback": [
      "\u001b[0;31m---------------------------------------------------------------------------\u001b[0m",
      "\u001b[0;31mNoHostAvailable\u001b[0m                           Traceback (most recent call last)",
      "Cell \u001b[0;32mIn [26], line 4\u001b[0m\n\u001b[1;32m      1\u001b[0m \u001b[38;5;28;01mfrom\u001b[39;00m \u001b[38;5;21;01mcassandra\u001b[39;00m\u001b[38;5;21;01m.\u001b[39;00m\u001b[38;5;21;01mcluster\u001b[39;00m \u001b[38;5;28;01mimport\u001b[39;00m Cluster\n\u001b[1;32m      3\u001b[0m cluster \u001b[38;5;241m=\u001b[39m Cluster([\u001b[38;5;124m'\u001b[39m\u001b[38;5;124m0.0.0.0\u001b[39m\u001b[38;5;124m'\u001b[39m],port\u001b[38;5;241m=\u001b[39m\u001b[38;5;241m9042\u001b[39m)\n\u001b[0;32m----> 4\u001b[0m session \u001b[38;5;241m=\u001b[39m \u001b[43mcluster\u001b[49m\u001b[38;5;241;43m.\u001b[39;49m\u001b[43mconnect\u001b[49m\u001b[43m(\u001b[49m\u001b[38;5;124;43m'\u001b[39;49m\u001b[38;5;124;43mf1_telem\u001b[39;49m\u001b[38;5;124;43m'\u001b[39;49m\u001b[43m,\u001b[49m\u001b[43mwait_for_all_pools\u001b[49m\u001b[38;5;241;43m=\u001b[39;49m\u001b[38;5;28;43;01mTrue\u001b[39;49;00m\u001b[43m)\u001b[49m\n\u001b[1;32m      5\u001b[0m session\u001b[38;5;241m.\u001b[39mexecute(\u001b[38;5;124m'\u001b[39m\u001b[38;5;124mUSE f1_telem\u001b[39m\u001b[38;5;124m'\u001b[39m)\n\u001b[1;32m      6\u001b[0m rows \u001b[38;5;241m=\u001b[39m session\u001b[38;5;241m.\u001b[39mexecute(\u001b[38;5;124m'\u001b[39m\u001b[38;5;124mSELECT * FROM telem\u001b[39m\u001b[38;5;124m'\u001b[39m)\n",
      "File \u001b[0;32m~/.local/lib/python3.11/site-packages/cassandra/cluster.py:1677\u001b[0m, in \u001b[0;36mcassandra.cluster.Cluster.connect\u001b[0;34m()\u001b[0m\n",
      "File \u001b[0;32m~/.local/lib/python3.11/site-packages/cassandra/cluster.py:1713\u001b[0m, in \u001b[0;36mcassandra.cluster.Cluster.connect\u001b[0;34m()\u001b[0m\n",
      "File \u001b[0;32m~/.local/lib/python3.11/site-packages/cassandra/cluster.py:1700\u001b[0m, in \u001b[0;36mcassandra.cluster.Cluster.connect\u001b[0;34m()\u001b[0m\n",
      "File \u001b[0;32m~/.local/lib/python3.11/site-packages/cassandra/cluster.py:3507\u001b[0m, in \u001b[0;36mcassandra.cluster.ControlConnection.connect\u001b[0;34m()\u001b[0m\n",
      "File \u001b[0;32m~/.local/lib/python3.11/site-packages/cassandra/cluster.py:3552\u001b[0m, in \u001b[0;36mcassandra.cluster.ControlConnection._reconnect_internal\u001b[0;34m()\u001b[0m\n",
      "\u001b[0;31mNoHostAvailable\u001b[0m: ('Unable to connect to any servers', {'0.0.0.0:9042': ConnectionRefusedError(111, \"Tried connecting to [('0.0.0.0', 9042)]. Last error: Connection refused\")})"
     ]
    }
   ],
   "source": [
    "from cassandra.cluster import Cluster\n",
    "\n",
    "cluster = Cluster(['0.0.0.0'],port=9042)\n",
    "session = cluster.connect('f1_telem',wait_for_all_pools=True)\n",
    "session.execute('USE f1_telem')\n",
    "rows = session.execute('SELECT * FROM telem')\n",
    "for row in rows:\n",
    "    print(row.sessiontime_x,row.speed,row.throttle)"
   ]
  },
  {
   "cell_type": "code",
   "execution_count": null,
   "id": "50dbbb4e",
   "metadata": {},
   "outputs": [],
   "source": []
  }
 ],
 "metadata": {
  "kernelspec": {
   "display_name": "Python 3 (ipykernel)",
   "language": "python",
   "name": "python3"
  },
  "language_info": {
   "codemirror_mode": {
    "name": "ipython",
    "version": 3
   },
   "file_extension": ".py",
   "mimetype": "text/x-python",
   "name": "python",
   "nbconvert_exporter": "python",
   "pygments_lexer": "ipython3",
   "version": "3.11.2"
  }
 },
 "nbformat": 4,
 "nbformat_minor": 5
}
