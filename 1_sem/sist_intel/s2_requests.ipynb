{
  "nbformat": 4,
  "nbformat_minor": 0,
  "metadata": {
    "colab": {
      "provenance": []
    },
    "kernelspec": {
      "name": "python3",
      "display_name": "Python 3"
    },
    "language_info": {
      "name": "python"
    }
  },
  "cells": [
    {
      "cell_type": "markdown",
      "source": [
        "# Cuaderno de ejemplos de Requests\n",
        "\n",
        "<img src=\"https://docs.python-requests.org/en/latest/_static/requests-sidebar.png\" alt=\"Requests logo\" width=\"200\"/>\n",
        "\n",
        "\n",
        "En este cuaderno vamos a ver algunos ejemplos de cómo utilizar la librería [requests](https://docs.python-requests.org/en/latest/index.html)  de Python para descargar y almacenar información. \n",
        "Como ejemplo se tomaran los microdatos de la [Encuesta de Ocupación y Empleo](https://www.inegi.org.mx/programas/enoe/15ymas/#Microdatos)  de [INEGI](https://www.inegi.org.mx/default.html)  \n",
        "\n",
        "Importamos la librería\n",
        "-\t**requests** nos va a permitir hacer las solicitudes y traer la informacion\n"
      ],
      "metadata": {
        "id": "_n3nFXq6YM0x"
      }
    },
    {
      "cell_type": "code",
      "execution_count": null,
      "metadata": {
        "id": "FDaa4CVSYFR4"
      },
      "outputs": [],
      "source": [
        "import requests"
      ]
    },
    {
      "cell_type": "markdown",
      "source": [
        "Realizamos la solicitud para descargar el III Trimestre (ENOE_N) de 2022 en CSV "
      ],
      "metadata": {
        "id": "Ol2n9J5odcbZ"
      }
    },
    {
      "cell_type": "code",
      "source": [
        "respuesta = requests.get(\"https://www.inegi.org.mx/contenidos/programas/enoe/15ymas/microdatos/enoe_n_2022_trim3_csv.zip\")"
      ],
      "metadata": {
        "id": "OmlgBja3ZbeH"
      },
      "execution_count": null,
      "outputs": []
    },
    {
      "cell_type": "markdown",
      "source": [
        "Revisamos el estado de la respuesta "
      ],
      "metadata": {
        "id": "p1VMpxzsdQ_2"
      }
    },
    {
      "cell_type": "code",
      "source": [
        "respuesta.status_code"
      ],
      "metadata": {
        "id": "HnUKofp6Z6MK",
        "colab": {
          "base_uri": "https://localhost:8080/"
        },
        "outputId": "3353c6e7-d470-4874-fa7e-ec8f96103dc9"
      },
      "execution_count": null,
      "outputs": [
        {
          "output_type": "execute_result",
          "data": {
            "text/plain": [
              "200"
            ]
          },
          "metadata": {},
          "execution_count": 3
        }
      ]
    },
    {
      "cell_type": "markdown",
      "source": [
        "¿Es correcto ese estado?"
      ],
      "metadata": {
        "id": "Cl7AlwQQdUnw"
      }
    },
    {
      "cell_type": "code",
      "source": [
        "respuesta.status_code == requests.codes.ok"
      ],
      "metadata": {
        "id": "Q3euT3yLaP3l",
        "colab": {
          "base_uri": "https://localhost:8080/"
        },
        "outputId": "634933d2-684f-4af5-d2fc-a33e4e8844a7"
      },
      "execution_count": null,
      "outputs": [
        {
          "output_type": "execute_result",
          "data": {
            "text/plain": [
              "True"
            ]
          },
          "metadata": {},
          "execution_count": 4
        }
      ]
    },
    {
      "cell_type": "markdown",
      "source": [
        "Abrimos un archivo y el resultado debe estar disponible en el disco "
      ],
      "metadata": {
        "id": "grRVm4DfdnKF"
      }
    },
    {
      "cell_type": "code",
      "source": [
        "nombre_archivo = \"enoe_n_2022_trim3_csv.zip\"\n",
        "with open(nombre_archivo, 'wb') as archivo:\n",
        "  archivo.write(respuesta.content)"
      ],
      "metadata": {
        "id": "dOVo-Z0CbVzR"
      },
      "execution_count": null,
      "outputs": []
    },
    {
      "cell_type": "markdown",
      "source": [
        "De esta manera podemos automatizar la descarga de archivos. Por ejemplo, descargar los CSV de 2021"
      ],
      "metadata": {
        "id": "YmX7LDA6eI6U"
      }
    },
    {
      "cell_type": "code",
      "source": [
        "nombres_archivos = [\n",
        "  \"enoe_n_2021_trim4_csv.zip\",\n",
        "  \"enoe_n_2021_trim3_csv.zip\",\n",
        "  \"enoe_n_2021_trim2_csv.zip\",\n",
        "  \"enoe_n_2021_trim1_csv.zip\"\n",
        "]\n",
        "\n",
        "for nombre_archivo in nombres_archivos:\n",
        "  respuesta = requests.get(f\"https://www.inegi.org.mx/contenidos/programas/enoe/15ymas/microdatos/{nombre_archivo}\")\n",
        "  print(respuesta.status_code)\n",
        "  with open(nombre_archivo, 'wb') as archivo:\n",
        "    archivo.write(respuesta.content)"
      ],
      "metadata": {
        "id": "cm3F8uiaeKw0",
        "colab": {
          "base_uri": "https://localhost:8080/"
        },
        "outputId": "6f39dbd3-230d-4f1a-b4f7-abff63727ff7"
      },
      "execution_count": null,
      "outputs": [
        {
          "output_type": "stream",
          "name": "stdout",
          "text": [
            "200\n",
            "200\n",
            "200\n",
            "200\n"
          ]
        }
      ]
    }
  ]
}