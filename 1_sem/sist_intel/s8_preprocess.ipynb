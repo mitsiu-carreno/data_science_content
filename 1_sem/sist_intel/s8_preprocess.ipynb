{
 "cells": [
  {
   "cell_type": "markdown",
   "metadata": {
    "id": "GiEf8t0_OAJI"
   },
   "source": [
    "# Preprocesamiento de datos - Parte 1\n",
    "\n",
    "En este documento, se presentarán algunas funciones útiles y metodologías ampliamente utilizadas para el procesamiento de información antes del análisis de datos o ciencia de datos.\n"
   ]
  },
  {
   "cell_type": "code",
   "execution_count": 1,
   "metadata": {
    "id": "39dyVDl7tZn5"
   },
   "outputs": [],
   "source": [
    "import pandas as pd\n",
    "from scipy.stats import zscore\n",
    "from sklearn import datasets, linear_model\n",
    "import matplotlib.pyplot as plt"
   ]
  },
  {
   "cell_type": "markdown",
   "metadata": {
    "id": "lf96n_zFOAmo"
   },
   "source": [
    "Comenzaremos importando nuestros datos de censo de población y vivienda 2020, en formato de microdatos. Al importar la información, notamos que todas las filas son de tipo objeto, lo que indica que no se ha realizado ningún análisis hasta el momento."
   ]
  },
  {
   "cell_type": "code",
   "execution_count": 2,
   "metadata": {
    "id": "BPp3shwTawxC"
   },
   "outputs": [
    {
     "data": {
      "text/html": [
       "<div>\n",
       "<style scoped>\n",
       "    .dataframe tbody tr th:only-of-type {\n",
       "        vertical-align: middle;\n",
       "    }\n",
       "\n",
       "    .dataframe tbody tr th {\n",
       "        vertical-align: top;\n",
       "    }\n",
       "\n",
       "    .dataframe thead th {\n",
       "        text-align: right;\n",
       "    }\n",
       "</style>\n",
       "<table border=\"1\" class=\"dataframe\">\n",
       "  <thead>\n",
       "    <tr style=\"text-align: right;\">\n",
       "      <th></th>\n",
       "      <th>ENT</th>\n",
       "      <th>MUN</th>\n",
       "      <th>LOC</th>\n",
       "      <th>AGEB</th>\n",
       "      <th>MZA</th>\n",
       "      <th>SEG</th>\n",
       "      <th>ID_VIV</th>\n",
       "      <th>ID_PERSONA</th>\n",
       "      <th>TIPO_REG</th>\n",
       "      <th>CLASE_VIV</th>\n",
       "      <th>...</th>\n",
       "      <th>ESCOACUM</th>\n",
       "      <th>ENT_PAIS_RES_5A</th>\n",
       "      <th>MUN_RES_5A</th>\n",
       "      <th>CAUSA_MIG_V</th>\n",
       "      <th>SITUA_CONYUGAL</th>\n",
       "      <th>CONACT</th>\n",
       "      <th>HIJOS_NAC_VIVOS</th>\n",
       "      <th>HIJOS_FALLECIDOS</th>\n",
       "      <th>TAMLOC</th>\n",
       "      <th>TAMLOC14</th>\n",
       "    </tr>\n",
       "  </thead>\n",
       "  <tbody>\n",
       "    <tr>\n",
       "      <th>0</th>\n",
       "      <td>21</td>\n",
       "      <td>108</td>\n",
       "      <td>0001</td>\n",
       "      <td>0017</td>\n",
       "      <td>001</td>\n",
       "      <td>N</td>\n",
       "      <td>211080000005</td>\n",
       "      <td>21108000000500001</td>\n",
       "      <td>0</td>\n",
       "      <td>02</td>\n",
       "      <td>...</td>\n",
       "      <td>15</td>\n",
       "      <td>021</td>\n",
       "      <td>108</td>\n",
       "      <td>NaN</td>\n",
       "      <td>8</td>\n",
       "      <td>10</td>\n",
       "      <td>NaN</td>\n",
       "      <td>NaN</td>\n",
       "      <td>5</td>\n",
       "      <td>13</td>\n",
       "    </tr>\n",
       "    <tr>\n",
       "      <th>1</th>\n",
       "      <td>21</td>\n",
       "      <td>108</td>\n",
       "      <td>0001</td>\n",
       "      <td>0017</td>\n",
       "      <td>001</td>\n",
       "      <td>N</td>\n",
       "      <td>211080000005</td>\n",
       "      <td>21108000000500003</td>\n",
       "      <td>0</td>\n",
       "      <td>02</td>\n",
       "      <td>...</td>\n",
       "      <td>5</td>\n",
       "      <td>023</td>\n",
       "      <td>009</td>\n",
       "      <td>0301</td>\n",
       "      <td>5</td>\n",
       "      <td>80</td>\n",
       "      <td>11</td>\n",
       "      <td>0</td>\n",
       "      <td>5</td>\n",
       "      <td>13</td>\n",
       "    </tr>\n",
       "    <tr>\n",
       "      <th>2</th>\n",
       "      <td>21</td>\n",
       "      <td>108</td>\n",
       "      <td>0001</td>\n",
       "      <td>0017</td>\n",
       "      <td>001</td>\n",
       "      <td>N</td>\n",
       "      <td>211080000005</td>\n",
       "      <td>21108000000500002</td>\n",
       "      <td>0</td>\n",
       "      <td>02</td>\n",
       "      <td>...</td>\n",
       "      <td>3</td>\n",
       "      <td>023</td>\n",
       "      <td>009</td>\n",
       "      <td>0301</td>\n",
       "      <td>5</td>\n",
       "      <td>80</td>\n",
       "      <td>NaN</td>\n",
       "      <td>NaN</td>\n",
       "      <td>5</td>\n",
       "      <td>13</td>\n",
       "    </tr>\n",
       "    <tr>\n",
       "      <th>3</th>\n",
       "      <td>14</td>\n",
       "      <td>086</td>\n",
       "      <td>0001</td>\n",
       "      <td>0017</td>\n",
       "      <td>003</td>\n",
       "      <td>N</td>\n",
       "      <td>140860001428</td>\n",
       "      <td>14086000142800003</td>\n",
       "      <td>0</td>\n",
       "      <td>03</td>\n",
       "      <td>...</td>\n",
       "      <td>NaN</td>\n",
       "      <td>014</td>\n",
       "      <td>086</td>\n",
       "      <td>NaN</td>\n",
       "      <td>NaN</td>\n",
       "      <td>NaN</td>\n",
       "      <td>NaN</td>\n",
       "      <td>NaN</td>\n",
       "      <td>5</td>\n",
       "      <td>13</td>\n",
       "    </tr>\n",
       "    <tr>\n",
       "      <th>4</th>\n",
       "      <td>14</td>\n",
       "      <td>086</td>\n",
       "      <td>0001</td>\n",
       "      <td>0017</td>\n",
       "      <td>003</td>\n",
       "      <td>N</td>\n",
       "      <td>140860001428</td>\n",
       "      <td>14086000142800001</td>\n",
       "      <td>0</td>\n",
       "      <td>03</td>\n",
       "      <td>...</td>\n",
       "      <td>9</td>\n",
       "      <td>014</td>\n",
       "      <td>086</td>\n",
       "      <td>NaN</td>\n",
       "      <td>1</td>\n",
       "      <td>10</td>\n",
       "      <td>1</td>\n",
       "      <td>0</td>\n",
       "      <td>5</td>\n",
       "      <td>13</td>\n",
       "    </tr>\n",
       "    <tr>\n",
       "      <th>...</th>\n",
       "      <td>...</td>\n",
       "      <td>...</td>\n",
       "      <td>...</td>\n",
       "      <td>...</td>\n",
       "      <td>...</td>\n",
       "      <td>...</td>\n",
       "      <td>...</td>\n",
       "      <td>...</td>\n",
       "      <td>...</td>\n",
       "      <td>...</td>\n",
       "      <td>...</td>\n",
       "      <td>...</td>\n",
       "      <td>...</td>\n",
       "      <td>...</td>\n",
       "      <td>...</td>\n",
       "      <td>...</td>\n",
       "      <td>...</td>\n",
       "      <td>...</td>\n",
       "      <td>...</td>\n",
       "      <td>...</td>\n",
       "      <td>...</td>\n",
       "    </tr>\n",
       "    <tr>\n",
       "      <th>1257501</th>\n",
       "      <td>14</td>\n",
       "      <td>065</td>\n",
       "      <td>0017</td>\n",
       "      <td>0049</td>\n",
       "      <td>800</td>\n",
       "      <td>N</td>\n",
       "      <td>140650001652</td>\n",
       "      <td>14065000165200004</td>\n",
       "      <td>0</td>\n",
       "      <td>01</td>\n",
       "      <td>...</td>\n",
       "      <td>6</td>\n",
       "      <td>014</td>\n",
       "      <td>065</td>\n",
       "      <td>NaN</td>\n",
       "      <td>8</td>\n",
       "      <td>50</td>\n",
       "      <td>0</td>\n",
       "      <td>NaN</td>\n",
       "      <td>1</td>\n",
       "      <td>01</td>\n",
       "    </tr>\n",
       "    <tr>\n",
       "      <th>1257502</th>\n",
       "      <td>14</td>\n",
       "      <td>009</td>\n",
       "      <td>0020</td>\n",
       "      <td>0053</td>\n",
       "      <td>800</td>\n",
       "      <td>N</td>\n",
       "      <td>140090000378</td>\n",
       "      <td>14009000037800001</td>\n",
       "      <td>0</td>\n",
       "      <td>01</td>\n",
       "      <td>...</td>\n",
       "      <td>1</td>\n",
       "      <td>014</td>\n",
       "      <td>009</td>\n",
       "      <td>NaN</td>\n",
       "      <td>2</td>\n",
       "      <td>10</td>\n",
       "      <td>NaN</td>\n",
       "      <td>NaN</td>\n",
       "      <td>1</td>\n",
       "      <td>01</td>\n",
       "    </tr>\n",
       "    <tr>\n",
       "      <th>1257503</th>\n",
       "      <td>21</td>\n",
       "      <td>210</td>\n",
       "      <td>0037</td>\n",
       "      <td>0034</td>\n",
       "      <td>002</td>\n",
       "      <td>N</td>\n",
       "      <td>212100000299</td>\n",
       "      <td>21210000029900003</td>\n",
       "      <td>0</td>\n",
       "      <td>01</td>\n",
       "      <td>...</td>\n",
       "      <td>1</td>\n",
       "      <td>021</td>\n",
       "      <td>210</td>\n",
       "      <td>NaN</td>\n",
       "      <td>NaN</td>\n",
       "      <td>NaN</td>\n",
       "      <td>NaN</td>\n",
       "      <td>NaN</td>\n",
       "      <td>1</td>\n",
       "      <td>01</td>\n",
       "    </tr>\n",
       "    <tr>\n",
       "      <th>1257504</th>\n",
       "      <td>21</td>\n",
       "      <td>210</td>\n",
       "      <td>0037</td>\n",
       "      <td>0034</td>\n",
       "      <td>002</td>\n",
       "      <td>N</td>\n",
       "      <td>212100000299</td>\n",
       "      <td>21210000029900002</td>\n",
       "      <td>0</td>\n",
       "      <td>01</td>\n",
       "      <td>...</td>\n",
       "      <td>6</td>\n",
       "      <td>021</td>\n",
       "      <td>210</td>\n",
       "      <td>NaN</td>\n",
       "      <td>7</td>\n",
       "      <td>60</td>\n",
       "      <td>1</td>\n",
       "      <td>0</td>\n",
       "      <td>1</td>\n",
       "      <td>01</td>\n",
       "    </tr>\n",
       "    <tr>\n",
       "      <th>1257505</th>\n",
       "      <td>21</td>\n",
       "      <td>210</td>\n",
       "      <td>0037</td>\n",
       "      <td>0034</td>\n",
       "      <td>002</td>\n",
       "      <td>N</td>\n",
       "      <td>212100000299</td>\n",
       "      <td>21210000029900001</td>\n",
       "      <td>0</td>\n",
       "      <td>01</td>\n",
       "      <td>...</td>\n",
       "      <td>6</td>\n",
       "      <td>021</td>\n",
       "      <td>210</td>\n",
       "      <td>NaN</td>\n",
       "      <td>7</td>\n",
       "      <td>10</td>\n",
       "      <td>NaN</td>\n",
       "      <td>NaN</td>\n",
       "      <td>1</td>\n",
       "      <td>01</td>\n",
       "    </tr>\n",
       "  </tbody>\n",
       "</table>\n",
       "<p>1257506 rows × 43 columns</p>\n",
       "</div>"
      ],
      "text/plain": [
       "        ENT  MUN   LOC  AGEB  MZA SEG        ID_VIV         ID_PERSONA  \\\n",
       "0        21  108  0001  0017  001   N  211080000005  21108000000500001   \n",
       "1        21  108  0001  0017  001   N  211080000005  21108000000500003   \n",
       "2        21  108  0001  0017  001   N  211080000005  21108000000500002   \n",
       "3        14  086  0001  0017  003   N  140860001428  14086000142800003   \n",
       "4        14  086  0001  0017  003   N  140860001428  14086000142800001   \n",
       "...      ..  ...   ...   ...  ...  ..           ...                ...   \n",
       "1257501  14  065  0017  0049  800   N  140650001652  14065000165200004   \n",
       "1257502  14  009  0020  0053  800   N  140090000378  14009000037800001   \n",
       "1257503  21  210  0037  0034  002   N  212100000299  21210000029900003   \n",
       "1257504  21  210  0037  0034  002   N  212100000299  21210000029900002   \n",
       "1257505  21  210  0037  0034  002   N  212100000299  21210000029900001   \n",
       "\n",
       "        TIPO_REG CLASE_VIV  ... ESCOACUM ENT_PAIS_RES_5A MUN_RES_5A  \\\n",
       "0              0        02  ...       15             021        108   \n",
       "1              0        02  ...        5             023        009   \n",
       "2              0        02  ...        3             023        009   \n",
       "3              0        03  ...      NaN             014        086   \n",
       "4              0        03  ...        9             014        086   \n",
       "...          ...       ...  ...      ...             ...        ...   \n",
       "1257501        0        01  ...        6             014        065   \n",
       "1257502        0        01  ...        1             014        009   \n",
       "1257503        0        01  ...        1             021        210   \n",
       "1257504        0        01  ...        6             021        210   \n",
       "1257505        0        01  ...        6             021        210   \n",
       "\n",
       "        CAUSA_MIG_V SITUA_CONYUGAL CONACT HIJOS_NAC_VIVOS HIJOS_FALLECIDOS  \\\n",
       "0               NaN              8     10             NaN              NaN   \n",
       "1              0301              5     80              11                0   \n",
       "2              0301              5     80             NaN              NaN   \n",
       "3               NaN            NaN    NaN             NaN              NaN   \n",
       "4               NaN              1     10               1                0   \n",
       "...             ...            ...    ...             ...              ...   \n",
       "1257501         NaN              8     50               0              NaN   \n",
       "1257502         NaN              2     10             NaN              NaN   \n",
       "1257503         NaN            NaN    NaN             NaN              NaN   \n",
       "1257504         NaN              7     60               1                0   \n",
       "1257505         NaN              7     10             NaN              NaN   \n",
       "\n",
       "        TAMLOC TAMLOC14  \n",
       "0            5       13  \n",
       "1            5       13  \n",
       "2            5       13  \n",
       "3            5       13  \n",
       "4            5       13  \n",
       "...        ...      ...  \n",
       "1257501      1       01  \n",
       "1257502      1       01  \n",
       "1257503      1       01  \n",
       "1257504      1       01  \n",
       "1257505      1       01  \n",
       "\n",
       "[1257506 rows x 43 columns]"
      ]
     },
     "execution_count": 2,
     "metadata": {},
     "output_type": "execute_result"
    }
   ],
   "source": [
    "personas = pd.read_csv(\"https://www.inegi.org.mx/contenidos/programas/ccpv/2020/microdatos/Censo2020_CPV_CB_Personas_ejemplo_csv.zip\",dtype=str)\n",
    "personas\n"
   ]
  },
  {
   "cell_type": "code",
   "execution_count": 3,
   "metadata": {
    "id": "cisRy7ERwqk4"
   },
   "outputs": [
    {
     "data": {
      "text/plain": [
       "[dtype('O'),\n",
       " dtype('O'),\n",
       " dtype('O'),\n",
       " dtype('O'),\n",
       " dtype('O'),\n",
       " dtype('O'),\n",
       " dtype('O'),\n",
       " dtype('O'),\n",
       " dtype('O'),\n",
       " dtype('O'),\n",
       " dtype('O'),\n",
       " dtype('O'),\n",
       " dtype('O'),\n",
       " dtype('O'),\n",
       " dtype('O'),\n",
       " dtype('O'),\n",
       " dtype('O'),\n",
       " dtype('O'),\n",
       " dtype('O'),\n",
       " dtype('O'),\n",
       " dtype('O'),\n",
       " dtype('O'),\n",
       " dtype('O'),\n",
       " dtype('O'),\n",
       " dtype('O'),\n",
       " dtype('O'),\n",
       " dtype('O'),\n",
       " dtype('O'),\n",
       " dtype('O'),\n",
       " dtype('O'),\n",
       " dtype('O'),\n",
       " dtype('O'),\n",
       " dtype('O'),\n",
       " dtype('O'),\n",
       " dtype('O'),\n",
       " dtype('O'),\n",
       " dtype('O'),\n",
       " dtype('O'),\n",
       " dtype('O'),\n",
       " dtype('O'),\n",
       " dtype('O'),\n",
       " dtype('O'),\n",
       " dtype('O')]"
      ]
     },
     "execution_count": 3,
     "metadata": {},
     "output_type": "execute_result"
    }
   ],
   "source": [
    "list(personas.dtypes)"
   ]
  },
  {
   "cell_type": "markdown",
   "metadata": {
    "id": "6a_jnohxOCy_"
   },
   "source": [
    "## Selección\n",
    "\n",
    "Una tarea común es seleccionar los datos que se utilizarán en nuestro análisis. Para ello, Pandas ofrece herramientas muy intuitivas para seleccionar filas. Además, podemos realizar conversiones en el formato de  de la columna para adaptarla mejor a nuestras necesidades."
   ]
  },
  {
   "cell_type": "code",
   "execution_count": 4,
   "metadata": {
    "id": "wWUMUBkyvguG"
   },
   "outputs": [
    {
     "data": {
      "text/html": [
       "<div>\n",
       "<style scoped>\n",
       "    .dataframe tbody tr th:only-of-type {\n",
       "        vertical-align: middle;\n",
       "    }\n",
       "\n",
       "    .dataframe tbody tr th {\n",
       "        vertical-align: top;\n",
       "    }\n",
       "\n",
       "    .dataframe thead th {\n",
       "        text-align: right;\n",
       "    }\n",
       "</style>\n",
       "<table border=\"1\" class=\"dataframe\">\n",
       "  <thead>\n",
       "    <tr style=\"text-align: right;\">\n",
       "      <th></th>\n",
       "      <th>ID_PERSONA</th>\n",
       "      <th>SEXO</th>\n",
       "      <th>PARENT</th>\n",
       "      <th>EDAD</th>\n",
       "      <th>ESCOACUM</th>\n",
       "    </tr>\n",
       "  </thead>\n",
       "  <tbody>\n",
       "    <tr>\n",
       "      <th>0</th>\n",
       "      <td>21108000000500001</td>\n",
       "      <td>1</td>\n",
       "      <td>01</td>\n",
       "      <td>35</td>\n",
       "      <td>15.0</td>\n",
       "    </tr>\n",
       "    <tr>\n",
       "      <th>1</th>\n",
       "      <td>21108000000500003</td>\n",
       "      <td>3</td>\n",
       "      <td>06</td>\n",
       "      <td>66</td>\n",
       "      <td>5.0</td>\n",
       "    </tr>\n",
       "    <tr>\n",
       "      <th>2</th>\n",
       "      <td>21108000000500002</td>\n",
       "      <td>1</td>\n",
       "      <td>06</td>\n",
       "      <td>78</td>\n",
       "      <td>3.0</td>\n",
       "    </tr>\n",
       "    <tr>\n",
       "      <th>3</th>\n",
       "      <td>14086000142800003</td>\n",
       "      <td>3</td>\n",
       "      <td>03</td>\n",
       "      <td>2</td>\n",
       "      <td>NaN</td>\n",
       "    </tr>\n",
       "    <tr>\n",
       "      <th>4</th>\n",
       "      <td>14086000142800001</td>\n",
       "      <td>3</td>\n",
       "      <td>01</td>\n",
       "      <td>18</td>\n",
       "      <td>9.0</td>\n",
       "    </tr>\n",
       "    <tr>\n",
       "      <th>...</th>\n",
       "      <td>...</td>\n",
       "      <td>...</td>\n",
       "      <td>...</td>\n",
       "      <td>...</td>\n",
       "      <td>...</td>\n",
       "    </tr>\n",
       "    <tr>\n",
       "      <th>1257501</th>\n",
       "      <td>14065000165200004</td>\n",
       "      <td>3</td>\n",
       "      <td>03</td>\n",
       "      <td>12</td>\n",
       "      <td>6.0</td>\n",
       "    </tr>\n",
       "    <tr>\n",
       "      <th>1257502</th>\n",
       "      <td>14009000037800001</td>\n",
       "      <td>1</td>\n",
       "      <td>01</td>\n",
       "      <td>85</td>\n",
       "      <td>1.0</td>\n",
       "    </tr>\n",
       "    <tr>\n",
       "      <th>1257503</th>\n",
       "      <td>21210000029900003</td>\n",
       "      <td>1</td>\n",
       "      <td>03</td>\n",
       "      <td>7</td>\n",
       "      <td>1.0</td>\n",
       "    </tr>\n",
       "    <tr>\n",
       "      <th>1257504</th>\n",
       "      <td>21210000029900002</td>\n",
       "      <td>3</td>\n",
       "      <td>02</td>\n",
       "      <td>38</td>\n",
       "      <td>6.0</td>\n",
       "    </tr>\n",
       "    <tr>\n",
       "      <th>1257505</th>\n",
       "      <td>21210000029900001</td>\n",
       "      <td>1</td>\n",
       "      <td>01</td>\n",
       "      <td>36</td>\n",
       "      <td>6.0</td>\n",
       "    </tr>\n",
       "  </tbody>\n",
       "</table>\n",
       "<p>1257506 rows × 5 columns</p>\n",
       "</div>"
      ],
      "text/plain": [
       "                ID_PERSONA SEXO PARENT  EDAD  ESCOACUM\n",
       "0        21108000000500001    1     01    35      15.0\n",
       "1        21108000000500003    3     06    66       5.0\n",
       "2        21108000000500002    1     06    78       3.0\n",
       "3        14086000142800003    3     03     2       NaN\n",
       "4        14086000142800001    3     01    18       9.0\n",
       "...                    ...  ...    ...   ...       ...\n",
       "1257501  14065000165200004    3     03    12       6.0\n",
       "1257502  14009000037800001    1     01    85       1.0\n",
       "1257503  21210000029900003    1     03     7       1.0\n",
       "1257504  21210000029900002    3     02    38       6.0\n",
       "1257505  21210000029900001    1     01    36       6.0\n",
       "\n",
       "[1257506 rows x 5 columns]"
      ]
     },
     "execution_count": 4,
     "metadata": {},
     "output_type": "execute_result"
    }
   ],
   "source": [
    "personas_interes = personas.loc[:,[\"ID_PERSONA\",\"SEXO\",\"PARENT\"]]\n",
    "personas_interes.loc[:,\"EDAD\"] = personas.loc[:,\"EDAD\"].astype(int)\n",
    "personas_interes.loc[:,\"ESCOACUM\"] = personas.loc[:,\"ESCOACUM\"].astype(float)\n",
    "personas_interes"
   ]
  },
  {
   "cell_type": "code",
   "execution_count": 5,
   "metadata": {
    "id": "I_9ZRChgeQie"
   },
   "outputs": [
    {
     "data": {
      "text/plain": [
       "ID_PERSONA     object\n",
       "SEXO           object\n",
       "PARENT         object\n",
       "EDAD            int64\n",
       "ESCOACUM      float64\n",
       "dtype: object"
      ]
     },
     "execution_count": 5,
     "metadata": {},
     "output_type": "execute_result"
    }
   ],
   "source": [
    "personas_interes.dtypes"
   ]
  },
  {
   "cell_type": "markdown",
   "metadata": {
    "id": "jTJE6ifwOErT"
   },
   "source": [
    "Una manera sencilla de seleccionar filas de interés en una tabla es utilizando la función query(), que acepta un filtro similar al utilizado en sentencias SQL. "
   ]
  },
  {
   "cell_type": "code",
   "execution_count": 6,
   "metadata": {
    "id": "1SwH70qFzSIB"
   },
   "outputs": [
    {
     "data": {
      "text/html": [
       "<div>\n",
       "<style scoped>\n",
       "    .dataframe tbody tr th:only-of-type {\n",
       "        vertical-align: middle;\n",
       "    }\n",
       "\n",
       "    .dataframe tbody tr th {\n",
       "        vertical-align: top;\n",
       "    }\n",
       "\n",
       "    .dataframe thead th {\n",
       "        text-align: right;\n",
       "    }\n",
       "</style>\n",
       "<table border=\"1\" class=\"dataframe\">\n",
       "  <thead>\n",
       "    <tr style=\"text-align: right;\">\n",
       "      <th></th>\n",
       "      <th>ID_PERSONA</th>\n",
       "      <th>SEXO</th>\n",
       "      <th>PARENT</th>\n",
       "      <th>EDAD</th>\n",
       "      <th>ESCOACUM</th>\n",
       "    </tr>\n",
       "  </thead>\n",
       "  <tbody>\n",
       "    <tr>\n",
       "      <th>0</th>\n",
       "      <td>21108000000500001</td>\n",
       "      <td>1</td>\n",
       "      <td>01</td>\n",
       "      <td>35</td>\n",
       "      <td>15.0</td>\n",
       "    </tr>\n",
       "    <tr>\n",
       "      <th>1</th>\n",
       "      <td>21108000000500003</td>\n",
       "      <td>3</td>\n",
       "      <td>06</td>\n",
       "      <td>66</td>\n",
       "      <td>5.0</td>\n",
       "    </tr>\n",
       "    <tr>\n",
       "      <th>2</th>\n",
       "      <td>21108000000500002</td>\n",
       "      <td>1</td>\n",
       "      <td>06</td>\n",
       "      <td>78</td>\n",
       "      <td>3.0</td>\n",
       "    </tr>\n",
       "    <tr>\n",
       "      <th>5</th>\n",
       "      <td>14086000142800002</td>\n",
       "      <td>1</td>\n",
       "      <td>02</td>\n",
       "      <td>21</td>\n",
       "      <td>9.0</td>\n",
       "    </tr>\n",
       "    <tr>\n",
       "      <th>6</th>\n",
       "      <td>14044000020100001</td>\n",
       "      <td>1</td>\n",
       "      <td>01</td>\n",
       "      <td>28</td>\n",
       "      <td>9.0</td>\n",
       "    </tr>\n",
       "    <tr>\n",
       "      <th>...</th>\n",
       "      <td>...</td>\n",
       "      <td>...</td>\n",
       "      <td>...</td>\n",
       "      <td>...</td>\n",
       "      <td>...</td>\n",
       "    </tr>\n",
       "    <tr>\n",
       "      <th>1257499</th>\n",
       "      <td>14065000165200002</td>\n",
       "      <td>3</td>\n",
       "      <td>02</td>\n",
       "      <td>45</td>\n",
       "      <td>9.0</td>\n",
       "    </tr>\n",
       "    <tr>\n",
       "      <th>1257500</th>\n",
       "      <td>14065000165200001</td>\n",
       "      <td>1</td>\n",
       "      <td>01</td>\n",
       "      <td>46</td>\n",
       "      <td>6.0</td>\n",
       "    </tr>\n",
       "    <tr>\n",
       "      <th>1257502</th>\n",
       "      <td>14009000037800001</td>\n",
       "      <td>1</td>\n",
       "      <td>01</td>\n",
       "      <td>85</td>\n",
       "      <td>1.0</td>\n",
       "    </tr>\n",
       "    <tr>\n",
       "      <th>1257504</th>\n",
       "      <td>21210000029900002</td>\n",
       "      <td>3</td>\n",
       "      <td>02</td>\n",
       "      <td>38</td>\n",
       "      <td>6.0</td>\n",
       "    </tr>\n",
       "    <tr>\n",
       "      <th>1257505</th>\n",
       "      <td>21210000029900001</td>\n",
       "      <td>1</td>\n",
       "      <td>01</td>\n",
       "      <td>36</td>\n",
       "      <td>6.0</td>\n",
       "    </tr>\n",
       "  </tbody>\n",
       "</table>\n",
       "<p>853114 rows × 5 columns</p>\n",
       "</div>"
      ],
      "text/plain": [
       "                ID_PERSONA SEXO PARENT  EDAD  ESCOACUM\n",
       "0        21108000000500001    1     01    35      15.0\n",
       "1        21108000000500003    3     06    66       5.0\n",
       "2        21108000000500002    1     06    78       3.0\n",
       "5        14086000142800002    1     02    21       9.0\n",
       "6        14044000020100001    1     01    28       9.0\n",
       "...                    ...  ...    ...   ...       ...\n",
       "1257499  14065000165200002    3     02    45       9.0\n",
       "1257500  14065000165200001    1     01    46       6.0\n",
       "1257502  14009000037800001    1     01    85       1.0\n",
       "1257504  21210000029900002    3     02    38       6.0\n",
       "1257505  21210000029900001    1     01    36       6.0\n",
       "\n",
       "[853114 rows x 5 columns]"
      ]
     },
     "execution_count": 6,
     "metadata": {},
     "output_type": "execute_result"
    }
   ],
   "source": [
    "personas_interes_2 = personas_interes.query(\"EDAD > 18\")\n",
    "personas_interes_2"
   ]
  },
  {
   "cell_type": "markdown",
   "metadata": {
    "id": "HCE1busmOFeD"
   },
   "source": [
    "También hay ocasiones en las que es conveniente realizar una muestra aleatoria de la tabla completa para reducir los costos computacionales en pruebas."
   ]
  },
  {
   "cell_type": "code",
   "execution_count": 7,
   "metadata": {
    "id": "nto9qVp_zjab"
   },
   "outputs": [
    {
     "data": {
      "text/html": [
       "<div>\n",
       "<style scoped>\n",
       "    .dataframe tbody tr th:only-of-type {\n",
       "        vertical-align: middle;\n",
       "    }\n",
       "\n",
       "    .dataframe tbody tr th {\n",
       "        vertical-align: top;\n",
       "    }\n",
       "\n",
       "    .dataframe thead th {\n",
       "        text-align: right;\n",
       "    }\n",
       "</style>\n",
       "<table border=\"1\" class=\"dataframe\">\n",
       "  <thead>\n",
       "    <tr style=\"text-align: right;\">\n",
       "      <th></th>\n",
       "      <th>ID_PERSONA</th>\n",
       "      <th>SEXO</th>\n",
       "      <th>PARENT</th>\n",
       "      <th>EDAD</th>\n",
       "      <th>ESCOACUM</th>\n",
       "    </tr>\n",
       "  </thead>\n",
       "  <tbody>\n",
       "    <tr>\n",
       "      <th>1088013</th>\n",
       "      <td>14117000041900003</td>\n",
       "      <td>1</td>\n",
       "      <td>04</td>\n",
       "      <td>21</td>\n",
       "      <td>9.0</td>\n",
       "    </tr>\n",
       "    <tr>\n",
       "      <th>168585</th>\n",
       "      <td>21117000027300003</td>\n",
       "      <td>1</td>\n",
       "      <td>03</td>\n",
       "      <td>8</td>\n",
       "      <td>2.0</td>\n",
       "    </tr>\n",
       "    <tr>\n",
       "      <th>565852</th>\n",
       "      <td>14076000006300001</td>\n",
       "      <td>3</td>\n",
       "      <td>01</td>\n",
       "      <td>63</td>\n",
       "      <td>14.0</td>\n",
       "    </tr>\n",
       "    <tr>\n",
       "      <th>704716</th>\n",
       "      <td>21079000038100006</td>\n",
       "      <td>1</td>\n",
       "      <td>08</td>\n",
       "      <td>0</td>\n",
       "      <td>NaN</td>\n",
       "    </tr>\n",
       "    <tr>\n",
       "      <th>113191</th>\n",
       "      <td>21077000061000002</td>\n",
       "      <td>3</td>\n",
       "      <td>03</td>\n",
       "      <td>29</td>\n",
       "      <td>15.0</td>\n",
       "    </tr>\n",
       "    <tr>\n",
       "      <th>...</th>\n",
       "      <td>...</td>\n",
       "      <td>...</td>\n",
       "      <td>...</td>\n",
       "      <td>...</td>\n",
       "      <td>...</td>\n",
       "    </tr>\n",
       "    <tr>\n",
       "      <th>443267</th>\n",
       "      <td>14025000031800003</td>\n",
       "      <td>1</td>\n",
       "      <td>03</td>\n",
       "      <td>40</td>\n",
       "      <td>6.0</td>\n",
       "    </tr>\n",
       "    <tr>\n",
       "      <th>112647</th>\n",
       "      <td>14082000129500003</td>\n",
       "      <td>1</td>\n",
       "      <td>03</td>\n",
       "      <td>36</td>\n",
       "      <td>11.0</td>\n",
       "    </tr>\n",
       "    <tr>\n",
       "      <th>127714</th>\n",
       "      <td>14035000019100010</td>\n",
       "      <td>1</td>\n",
       "      <td>04</td>\n",
       "      <td>0</td>\n",
       "      <td>NaN</td>\n",
       "    </tr>\n",
       "    <tr>\n",
       "      <th>604121</th>\n",
       "      <td>14009000159900001</td>\n",
       "      <td>1</td>\n",
       "      <td>01</td>\n",
       "      <td>38</td>\n",
       "      <td>9.0</td>\n",
       "    </tr>\n",
       "    <tr>\n",
       "      <th>1227413</th>\n",
       "      <td>14097000124900003</td>\n",
       "      <td>3</td>\n",
       "      <td>03</td>\n",
       "      <td>7</td>\n",
       "      <td>0.0</td>\n",
       "    </tr>\n",
       "  </tbody>\n",
       "</table>\n",
       "<p>125751 rows × 5 columns</p>\n",
       "</div>"
      ],
      "text/plain": [
       "                ID_PERSONA SEXO PARENT  EDAD  ESCOACUM\n",
       "1088013  14117000041900003    1     04    21       9.0\n",
       "168585   21117000027300003    1     03     8       2.0\n",
       "565852   14076000006300001    3     01    63      14.0\n",
       "704716   21079000038100006    1     08     0       NaN\n",
       "113191   21077000061000002    3     03    29      15.0\n",
       "...                    ...  ...    ...   ...       ...\n",
       "443267   14025000031800003    1     03    40       6.0\n",
       "112647   14082000129500003    1     03    36      11.0\n",
       "127714   14035000019100010    1     04     0       NaN\n",
       "604121   14009000159900001    1     01    38       9.0\n",
       "1227413  14097000124900003    3     03     7       0.0\n",
       "\n",
       "[125751 rows x 5 columns]"
      ]
     },
     "execution_count": 7,
     "metadata": {},
     "output_type": "execute_result"
    }
   ],
   "source": [
    "personas_interes_3 = personas_interes.sample(frac=0.1)\n",
    "personas_interes_3"
   ]
  },
  {
   "cell_type": "markdown",
   "metadata": {
    "id": "_bnvEvNMOH64"
   },
   "source": [
    "## Tratamiento de valores faltantes\n",
    "\n",
    "Con Pandas, podemos eliminar los registros que contengan valores faltantes o restringirnos solo a las columnas en las que se presenten."
   ]
  },
  {
   "cell_type": "code",
   "execution_count": 8,
   "metadata": {
    "id": "yrE2GVo_1UvD"
   },
   "outputs": [
    {
     "data": {
      "text/html": [
       "<div>\n",
       "<style scoped>\n",
       "    .dataframe tbody tr th:only-of-type {\n",
       "        vertical-align: middle;\n",
       "    }\n",
       "\n",
       "    .dataframe tbody tr th {\n",
       "        vertical-align: top;\n",
       "    }\n",
       "\n",
       "    .dataframe thead th {\n",
       "        text-align: right;\n",
       "    }\n",
       "</style>\n",
       "<table border=\"1\" class=\"dataframe\">\n",
       "  <thead>\n",
       "    <tr style=\"text-align: right;\">\n",
       "      <th></th>\n",
       "      <th>ID_PERSONA</th>\n",
       "      <th>SEXO</th>\n",
       "      <th>PARENT</th>\n",
       "      <th>EDAD</th>\n",
       "      <th>ESCOACUM</th>\n",
       "    </tr>\n",
       "  </thead>\n",
       "  <tbody>\n",
       "    <tr>\n",
       "      <th>0</th>\n",
       "      <td>21108000000500001</td>\n",
       "      <td>1</td>\n",
       "      <td>01</td>\n",
       "      <td>35</td>\n",
       "      <td>15.0</td>\n",
       "    </tr>\n",
       "    <tr>\n",
       "      <th>1</th>\n",
       "      <td>21108000000500003</td>\n",
       "      <td>3</td>\n",
       "      <td>06</td>\n",
       "      <td>66</td>\n",
       "      <td>5.0</td>\n",
       "    </tr>\n",
       "    <tr>\n",
       "      <th>2</th>\n",
       "      <td>21108000000500002</td>\n",
       "      <td>1</td>\n",
       "      <td>06</td>\n",
       "      <td>78</td>\n",
       "      <td>3.0</td>\n",
       "    </tr>\n",
       "    <tr>\n",
       "      <th>3</th>\n",
       "      <td>14086000142800003</td>\n",
       "      <td>3</td>\n",
       "      <td>03</td>\n",
       "      <td>2</td>\n",
       "      <td>NaN</td>\n",
       "    </tr>\n",
       "    <tr>\n",
       "      <th>4</th>\n",
       "      <td>14086000142800001</td>\n",
       "      <td>3</td>\n",
       "      <td>01</td>\n",
       "      <td>18</td>\n",
       "      <td>9.0</td>\n",
       "    </tr>\n",
       "    <tr>\n",
       "      <th>...</th>\n",
       "      <td>...</td>\n",
       "      <td>...</td>\n",
       "      <td>...</td>\n",
       "      <td>...</td>\n",
       "      <td>...</td>\n",
       "    </tr>\n",
       "    <tr>\n",
       "      <th>1257501</th>\n",
       "      <td>14065000165200004</td>\n",
       "      <td>3</td>\n",
       "      <td>03</td>\n",
       "      <td>12</td>\n",
       "      <td>6.0</td>\n",
       "    </tr>\n",
       "    <tr>\n",
       "      <th>1257502</th>\n",
       "      <td>14009000037800001</td>\n",
       "      <td>1</td>\n",
       "      <td>01</td>\n",
       "      <td>85</td>\n",
       "      <td>1.0</td>\n",
       "    </tr>\n",
       "    <tr>\n",
       "      <th>1257503</th>\n",
       "      <td>21210000029900003</td>\n",
       "      <td>1</td>\n",
       "      <td>03</td>\n",
       "      <td>7</td>\n",
       "      <td>1.0</td>\n",
       "    </tr>\n",
       "    <tr>\n",
       "      <th>1257504</th>\n",
       "      <td>21210000029900002</td>\n",
       "      <td>3</td>\n",
       "      <td>02</td>\n",
       "      <td>38</td>\n",
       "      <td>6.0</td>\n",
       "    </tr>\n",
       "    <tr>\n",
       "      <th>1257505</th>\n",
       "      <td>21210000029900001</td>\n",
       "      <td>1</td>\n",
       "      <td>01</td>\n",
       "      <td>36</td>\n",
       "      <td>6.0</td>\n",
       "    </tr>\n",
       "  </tbody>\n",
       "</table>\n",
       "<p>1253878 rows × 5 columns</p>\n",
       "</div>"
      ],
      "text/plain": [
       "                ID_PERSONA SEXO PARENT  EDAD  ESCOACUM\n",
       "0        21108000000500001    1     01    35      15.0\n",
       "1        21108000000500003    3     06    66       5.0\n",
       "2        21108000000500002    1     06    78       3.0\n",
       "3        14086000142800003    3     03     2       NaN\n",
       "4        14086000142800001    3     01    18       9.0\n",
       "...                    ...  ...    ...   ...       ...\n",
       "1257501  14065000165200004    3     03    12       6.0\n",
       "1257502  14009000037800001    1     01    85       1.0\n",
       "1257503  21210000029900003    1     03     7       1.0\n",
       "1257504  21210000029900002    3     02    38       6.0\n",
       "1257505  21210000029900001    1     01    36       6.0\n",
       "\n",
       "[1253878 rows x 5 columns]"
      ]
     },
     "execution_count": 8,
     "metadata": {},
     "output_type": "execute_result"
    }
   ],
   "source": [
    "personas_interes_4 = personas_interes.dropna(subset=\"PARENT\")  ## Na en columna PARENT\n",
    "personas_interes_4"
   ]
  },
  {
   "cell_type": "markdown",
   "metadata": {
    "id": "zwtdun-OOI17"
   },
   "source": [
    " También es posible insertar datos en los valores faltantes, ya sea utilizando un valor fijo para todos los faltantes o una lista detallada de valores.\n"
   ]
  },
  {
   "cell_type": "code",
   "execution_count": 9,
   "metadata": {
    "id": "WMKg6HHc8045"
   },
   "outputs": [
    {
     "data": {
      "text/plain": [
       "9"
      ]
     },
     "execution_count": 9,
     "metadata": {},
     "output_type": "execute_result"
    }
   ],
   "source": [
    "escolaridad_media = round(personas_interes[\"ESCOACUM\"].mean())\n",
    "escolaridad_media"
   ]
  },
  {
   "cell_type": "code",
   "execution_count": 10,
   "metadata": {
    "id": "qRPaNe392TgI"
   },
   "outputs": [
    {
     "data": {
      "text/html": [
       "<div>\n",
       "<style scoped>\n",
       "    .dataframe tbody tr th:only-of-type {\n",
       "        vertical-align: middle;\n",
       "    }\n",
       "\n",
       "    .dataframe tbody tr th {\n",
       "        vertical-align: top;\n",
       "    }\n",
       "\n",
       "    .dataframe thead th {\n",
       "        text-align: right;\n",
       "    }\n",
       "</style>\n",
       "<table border=\"1\" class=\"dataframe\">\n",
       "  <thead>\n",
       "    <tr style=\"text-align: right;\">\n",
       "      <th></th>\n",
       "      <th>ID_PERSONA</th>\n",
       "      <th>SEXO</th>\n",
       "      <th>PARENT</th>\n",
       "      <th>EDAD</th>\n",
       "      <th>ESCOACUM</th>\n",
       "    </tr>\n",
       "  </thead>\n",
       "  <tbody>\n",
       "    <tr>\n",
       "      <th>0</th>\n",
       "      <td>21108000000500001</td>\n",
       "      <td>1</td>\n",
       "      <td>01</td>\n",
       "      <td>35</td>\n",
       "      <td>15.0</td>\n",
       "    </tr>\n",
       "    <tr>\n",
       "      <th>1</th>\n",
       "      <td>21108000000500003</td>\n",
       "      <td>3</td>\n",
       "      <td>06</td>\n",
       "      <td>66</td>\n",
       "      <td>5.0</td>\n",
       "    </tr>\n",
       "    <tr>\n",
       "      <th>2</th>\n",
       "      <td>21108000000500002</td>\n",
       "      <td>1</td>\n",
       "      <td>06</td>\n",
       "      <td>78</td>\n",
       "      <td>3.0</td>\n",
       "    </tr>\n",
       "    <tr>\n",
       "      <th>3</th>\n",
       "      <td>14086000142800003</td>\n",
       "      <td>3</td>\n",
       "      <td>03</td>\n",
       "      <td>2</td>\n",
       "      <td>9.0</td>\n",
       "    </tr>\n",
       "    <tr>\n",
       "      <th>4</th>\n",
       "      <td>14086000142800001</td>\n",
       "      <td>3</td>\n",
       "      <td>01</td>\n",
       "      <td>18</td>\n",
       "      <td>9.0</td>\n",
       "    </tr>\n",
       "    <tr>\n",
       "      <th>...</th>\n",
       "      <td>...</td>\n",
       "      <td>...</td>\n",
       "      <td>...</td>\n",
       "      <td>...</td>\n",
       "      <td>...</td>\n",
       "    </tr>\n",
       "    <tr>\n",
       "      <th>1257501</th>\n",
       "      <td>14065000165200004</td>\n",
       "      <td>3</td>\n",
       "      <td>03</td>\n",
       "      <td>12</td>\n",
       "      <td>6.0</td>\n",
       "    </tr>\n",
       "    <tr>\n",
       "      <th>1257502</th>\n",
       "      <td>14009000037800001</td>\n",
       "      <td>1</td>\n",
       "      <td>01</td>\n",
       "      <td>85</td>\n",
       "      <td>1.0</td>\n",
       "    </tr>\n",
       "    <tr>\n",
       "      <th>1257503</th>\n",
       "      <td>21210000029900003</td>\n",
       "      <td>1</td>\n",
       "      <td>03</td>\n",
       "      <td>7</td>\n",
       "      <td>1.0</td>\n",
       "    </tr>\n",
       "    <tr>\n",
       "      <th>1257504</th>\n",
       "      <td>21210000029900002</td>\n",
       "      <td>3</td>\n",
       "      <td>02</td>\n",
       "      <td>38</td>\n",
       "      <td>6.0</td>\n",
       "    </tr>\n",
       "    <tr>\n",
       "      <th>1257505</th>\n",
       "      <td>21210000029900001</td>\n",
       "      <td>1</td>\n",
       "      <td>01</td>\n",
       "      <td>36</td>\n",
       "      <td>6.0</td>\n",
       "    </tr>\n",
       "  </tbody>\n",
       "</table>\n",
       "<p>1257506 rows × 5 columns</p>\n",
       "</div>"
      ],
      "text/plain": [
       "                ID_PERSONA SEXO PARENT  EDAD  ESCOACUM\n",
       "0        21108000000500001    1     01    35      15.0\n",
       "1        21108000000500003    3     06    66       5.0\n",
       "2        21108000000500002    1     06    78       3.0\n",
       "3        14086000142800003    3     03     2       9.0\n",
       "4        14086000142800001    3     01    18       9.0\n",
       "...                    ...  ...    ...   ...       ...\n",
       "1257501  14065000165200004    3     03    12       6.0\n",
       "1257502  14009000037800001    1     01    85       1.0\n",
       "1257503  21210000029900003    1     03     7       1.0\n",
       "1257504  21210000029900002    3     02    38       6.0\n",
       "1257505  21210000029900001    1     01    36       6.0\n",
       "\n",
       "[1257506 rows x 5 columns]"
      ]
     },
     "execution_count": 10,
     "metadata": {},
     "output_type": "execute_result"
    }
   ],
   "source": [
    "personas_interes_5 =  personas_interes.fillna({\"ESCOACUM\":escolaridad_media})\n",
    "personas_interes_5"
   ]
  },
  {
   "cell_type": "code",
   "execution_count": 11,
   "metadata": {
    "id": "3n1xLBMRhZPH"
   },
   "outputs": [
    {
     "data": {
      "text/html": [
       "<div>\n",
       "<style scoped>\n",
       "    .dataframe tbody tr th:only-of-type {\n",
       "        vertical-align: middle;\n",
       "    }\n",
       "\n",
       "    .dataframe tbody tr th {\n",
       "        vertical-align: top;\n",
       "    }\n",
       "\n",
       "    .dataframe thead th {\n",
       "        text-align: right;\n",
       "    }\n",
       "</style>\n",
       "<table border=\"1\" class=\"dataframe\">\n",
       "  <thead>\n",
       "    <tr style=\"text-align: right;\">\n",
       "      <th></th>\n",
       "      <th>ID_PERSONA</th>\n",
       "      <th>SEXO</th>\n",
       "      <th>PARENT</th>\n",
       "      <th>EDAD</th>\n",
       "      <th>ESCOACUM</th>\n",
       "    </tr>\n",
       "  </thead>\n",
       "  <tbody>\n",
       "    <tr>\n",
       "      <th>0</th>\n",
       "      <td>21108000000500001</td>\n",
       "      <td>1</td>\n",
       "      <td>01</td>\n",
       "      <td>35</td>\n",
       "      <td>15.000000</td>\n",
       "    </tr>\n",
       "    <tr>\n",
       "      <th>1</th>\n",
       "      <td>21108000000500003</td>\n",
       "      <td>3</td>\n",
       "      <td>06</td>\n",
       "      <td>66</td>\n",
       "      <td>5.000000</td>\n",
       "    </tr>\n",
       "    <tr>\n",
       "      <th>2</th>\n",
       "      <td>21108000000500002</td>\n",
       "      <td>1</td>\n",
       "      <td>06</td>\n",
       "      <td>78</td>\n",
       "      <td>3.000000</td>\n",
       "    </tr>\n",
       "    <tr>\n",
       "      <th>3</th>\n",
       "      <td>14086000142800003</td>\n",
       "      <td>3</td>\n",
       "      <td>03</td>\n",
       "      <td>2</td>\n",
       "      <td>7.958085</td>\n",
       "    </tr>\n",
       "    <tr>\n",
       "      <th>4</th>\n",
       "      <td>14086000142800001</td>\n",
       "      <td>3</td>\n",
       "      <td>01</td>\n",
       "      <td>18</td>\n",
       "      <td>9.000000</td>\n",
       "    </tr>\n",
       "    <tr>\n",
       "      <th>...</th>\n",
       "      <td>...</td>\n",
       "      <td>...</td>\n",
       "      <td>...</td>\n",
       "      <td>...</td>\n",
       "      <td>...</td>\n",
       "    </tr>\n",
       "    <tr>\n",
       "      <th>1257501</th>\n",
       "      <td>14065000165200004</td>\n",
       "      <td>3</td>\n",
       "      <td>03</td>\n",
       "      <td>12</td>\n",
       "      <td>6.000000</td>\n",
       "    </tr>\n",
       "    <tr>\n",
       "      <th>1257502</th>\n",
       "      <td>14009000037800001</td>\n",
       "      <td>1</td>\n",
       "      <td>01</td>\n",
       "      <td>85</td>\n",
       "      <td>1.000000</td>\n",
       "    </tr>\n",
       "    <tr>\n",
       "      <th>1257503</th>\n",
       "      <td>21210000029900003</td>\n",
       "      <td>1</td>\n",
       "      <td>03</td>\n",
       "      <td>7</td>\n",
       "      <td>1.000000</td>\n",
       "    </tr>\n",
       "    <tr>\n",
       "      <th>1257504</th>\n",
       "      <td>21210000029900002</td>\n",
       "      <td>3</td>\n",
       "      <td>02</td>\n",
       "      <td>38</td>\n",
       "      <td>6.000000</td>\n",
       "    </tr>\n",
       "    <tr>\n",
       "      <th>1257505</th>\n",
       "      <td>21210000029900001</td>\n",
       "      <td>1</td>\n",
       "      <td>01</td>\n",
       "      <td>36</td>\n",
       "      <td>6.000000</td>\n",
       "    </tr>\n",
       "  </tbody>\n",
       "</table>\n",
       "<p>1257506 rows × 5 columns</p>\n",
       "</div>"
      ],
      "text/plain": [
       "                ID_PERSONA SEXO PARENT  EDAD   ESCOACUM\n",
       "0        21108000000500001    1     01    35  15.000000\n",
       "1        21108000000500003    3     06    66   5.000000\n",
       "2        21108000000500002    1     06    78   3.000000\n",
       "3        14086000142800003    3     03     2   7.958085\n",
       "4        14086000142800001    3     01    18   9.000000\n",
       "...                    ...  ...    ...   ...        ...\n",
       "1257501  14065000165200004    3     03    12   6.000000\n",
       "1257502  14009000037800001    1     01    85   1.000000\n",
       "1257503  21210000029900003    1     03     7   1.000000\n",
       "1257504  21210000029900002    3     02    38   6.000000\n",
       "1257505  21210000029900001    1     01    36   6.000000\n",
       "\n",
       "[1257506 rows x 5 columns]"
      ]
     },
     "execution_count": 11,
     "metadata": {},
     "output_type": "execute_result"
    }
   ],
   "source": [
    "personas_interes_6 = personas_interes.copy()\n",
    "personas_interes_6['ESCOACUM'] = personas_interes_6['ESCOACUM'].fillna(personas_interes.groupby('PARENT')['ESCOACUM'].transform('mean'))\n",
    "personas_interes_6"
   ]
  },
  {
   "cell_type": "markdown",
   "metadata": {
    "id": "uQqTmsYcOLyv"
   },
   "source": [
    "\n",
    "Además, es posible interpolar el valor del elemento más cercano utilizando funciones como la interpolación lineal, cuadrática, entre otras.\n",
    "\n",
    "\n"
   ]
  },
  {
   "cell_type": "code",
   "execution_count": 17,
   "metadata": {
    "id": "gl5ovuRuiHV3"
   },
   "outputs": [
    {
     "name": "stdout",
     "output_type": "stream",
     "text": [
      "ID_PERSONA        0\n",
      "SEXO              0\n",
      "PARENT         3628\n",
      "EDAD              0\n",
      "ESCOACUM      57819\n",
      "dtype: int64\n"
     ]
    },
    {
     "data": {
      "text/plain": [
       "ID_PERSONA       0\n",
       "SEXO             0\n",
       "PARENT        3628\n",
       "EDAD             0\n",
       "ESCOACUM         0\n",
       "dtype: int64"
      ]
     },
     "execution_count": 17,
     "metadata": {},
     "output_type": "execute_result"
    }
   ],
   "source": [
    "personas_interes_7 = personas_interes.copy().sort_values([\"SEXO\",\"PARENT\",\"EDAD\"])\n",
    "\n",
    "print(personas_interes_7.isna().sum())\n",
    "\n",
    "personas_interes_7[\"ESCOACUM\"] = personas_interes_7[\"ESCOACUM\"].interpolate('nearest') ## Inputar por vecino más cercano\n",
    "personas_interes_7.isna().sum()\n",
    "#personas_interes_7.sort_index()\n"
   ]
  },
  {
   "cell_type": "markdown",
   "metadata": {
    "id": "rQRGW1w3OM6U"
   },
   "source": [
    "## Tratamiento de valores atípicos\n",
    "\n",
    "Comenzaremos generando una distribución de valores relacionados, como el conteo de viviendas y personas por clave de localidad. Es importante tener en cuenta que aquí no se incluye ni el municipio ni la entidad, por lo que localidades de distintos municipios se tratarán como una sola si comparten la misma clave de localidad.\n"
   ]
  },
  {
   "cell_type": "code",
   "execution_count": 13,
   "metadata": {
    "id": "6uZu43osjpdn"
   },
   "outputs": [
    {
     "data": {
      "text/html": [
       "<div>\n",
       "<style scoped>\n",
       "    .dataframe tbody tr th:only-of-type {\n",
       "        vertical-align: middle;\n",
       "    }\n",
       "\n",
       "    .dataframe tbody tr th {\n",
       "        vertical-align: top;\n",
       "    }\n",
       "\n",
       "    .dataframe thead th {\n",
       "        text-align: right;\n",
       "    }\n",
       "</style>\n",
       "<table border=\"1\" class=\"dataframe\">\n",
       "  <thead>\n",
       "    <tr style=\"text-align: right;\">\n",
       "      <th></th>\n",
       "      <th>ID_VIV</th>\n",
       "      <th>ID_PERSONA</th>\n",
       "    </tr>\n",
       "    <tr>\n",
       "      <th>LOC</th>\n",
       "      <th></th>\n",
       "      <th></th>\n",
       "    </tr>\n",
       "  </thead>\n",
       "  <tbody>\n",
       "    <tr>\n",
       "      <th>0001</th>\n",
       "      <td>233568</td>\n",
       "      <td>813073</td>\n",
       "    </tr>\n",
       "    <tr>\n",
       "      <th>0002</th>\n",
       "      <td>3070</td>\n",
       "      <td>11450</td>\n",
       "    </tr>\n",
       "    <tr>\n",
       "      <th>0003</th>\n",
       "      <td>3425</td>\n",
       "      <td>12867</td>\n",
       "    </tr>\n",
       "    <tr>\n",
       "      <th>0004</th>\n",
       "      <td>2297</td>\n",
       "      <td>8761</td>\n",
       "    </tr>\n",
       "    <tr>\n",
       "      <th>0005</th>\n",
       "      <td>2675</td>\n",
       "      <td>10027</td>\n",
       "    </tr>\n",
       "    <tr>\n",
       "      <th>...</th>\n",
       "      <td>...</td>\n",
       "      <td>...</td>\n",
       "    </tr>\n",
       "    <tr>\n",
       "      <th>5683</th>\n",
       "      <td>1</td>\n",
       "      <td>6</td>\n",
       "    </tr>\n",
       "    <tr>\n",
       "      <th>5695</th>\n",
       "      <td>1</td>\n",
       "      <td>2</td>\n",
       "    </tr>\n",
       "    <tr>\n",
       "      <th>5704</th>\n",
       "      <td>1</td>\n",
       "      <td>1</td>\n",
       "    </tr>\n",
       "    <tr>\n",
       "      <th>5711</th>\n",
       "      <td>1</td>\n",
       "      <td>1</td>\n",
       "    </tr>\n",
       "    <tr>\n",
       "      <th>5853</th>\n",
       "      <td>1</td>\n",
       "      <td>2</td>\n",
       "    </tr>\n",
       "  </tbody>\n",
       "</table>\n",
       "<p>1772 rows × 2 columns</p>\n",
       "</div>"
      ],
      "text/plain": [
       "      ID_VIV  ID_PERSONA\n",
       "LOC                     \n",
       "0001  233568      813073\n",
       "0002    3070       11450\n",
       "0003    3425       12867\n",
       "0004    2297        8761\n",
       "0005    2675       10027\n",
       "...      ...         ...\n",
       "5683       1           6\n",
       "5695       1           2\n",
       "5704       1           1\n",
       "5711       1           1\n",
       "5853       1           2\n",
       "\n",
       "[1772 rows x 2 columns]"
      ]
     },
     "execution_count": 13,
     "metadata": {},
     "output_type": "execute_result"
    }
   ],
   "source": [
    "conteos = personas.groupby([\"LOC\"])[[\"ID_VIV\",\"ID_PERSONA\"]].nunique()\n",
    "conteos"
   ]
  },
  {
   "cell_type": "markdown",
   "metadata": {
    "id": "0Wky9zQaOOCv"
   },
   "source": [
    "Al analizar el gráfico, encontramos que hay un elemento con conteos muy superiores: la clave \"01\" que se utiliza por defecto, lo que provoca que sus conteos sean mucho mayores. \n",
    "\n"
   ]
  },
  {
   "cell_type": "code",
   "execution_count": 14,
   "metadata": {
    "id": "VG1vlAQQlavL"
   },
   "outputs": [
    {
     "data": {
      "text/plain": [
       "<AxesSubplot: xlabel='ID_VIV', ylabel='ID_PERSONA'>"
      ]
     },
     "execution_count": 14,
     "metadata": {},
     "output_type": "execute_result"
    },
    {
     "data": {
      "image/png": "[encoded data removed]",
      "text/plain": [
       "<Figure size 640x480 with 1 Axes>"
      ]
     },
     "metadata": {},
     "output_type": "display_data"
    }
   ],
   "source": [
    "conteos.plot(x =\"ID_VIV\", y = \"ID_PERSONA\", kind=\"scatter\")"
   ]
  },
  {
   "cell_type": "markdown",
   "metadata": {
    "id": "C0T_9eo-OO7P"
   },
   "source": [
    "\n",
    "Generamos una segunda visualización eliminando este elemento, que claramente es un valor atípico.\n",
    "\n",
    "Observamos una clara correlación entre las variables, pero elegir el umbral donde los valores se consideran atípicos no es una tarea sencilla"
   ]
  },
  {
   "cell_type": "code",
   "execution_count": 15,
   "metadata": {
    "id": "2NQoxLI9ocOv"
   },
   "outputs": [
    {
     "data": {
      "text/plain": [
       "<AxesSubplot: xlabel='ID_VIV', ylabel='ID_PERSONA'>"
      ]
     },
     "execution_count": 15,
     "metadata": {},
     "output_type": "execute_result"
    },
    {
     "data": {
      "image/png": "[encoded data removed]",
      "text/plain": [
       "<Figure size 640x480 with 1 Axes>"
      ]
     },
     "metadata": {},
     "output_type": "display_data"
    }
   ],
   "source": [
    "conteos_2 = conteos.drop(index=\"0001\")\n",
    "conteos_2.plot(x =\"ID_VIV\", y = \"ID_PERSONA\", kind=\"scatter\")"
   ]
  },
  {
   "cell_type": "markdown",
   "metadata": {
    "id": "UBTE7moZOP_w"
   },
   "source": []
  },
  {
   "cell_type": "code",
   "execution_count": 16,
   "metadata": {
    "id": "ZzwiQXt5qIXJ"
   },
   "outputs": [
    {
     "data": {
      "text/plain": [
       "<AxesSubplot: >"
      ]
     },
     "execution_count": 16,
     "metadata": {},
     "output_type": "execute_result"
    },
    {
     "data": {
      "image/png": "[encoded data removed]",
      "text/plain": [
       "<Figure size 640x480 with 1 Axes>"
      ]
     },
     "metadata": {},
     "output_type": "display_data"
    }
   ],
   "source": [
    "conteos_2.plot(kind=\"box\")"
   ]
  },
  {
   "cell_type": "markdown",
   "metadata": {
    "id": "zS6ch6xQOWZP"
   },
   "source": [
    "Una aproximación común es utilizar la distancia intercuartílica (IQR) multiplicada por 1.5 o 2 para definir los valores normales."
   ]
  },
  {
   "cell_type": "code",
   "execution_count": 17,
   "metadata": {
    "id": "gcyL5GJwxkT3"
   },
   "outputs": [
    {
     "name": "stdout",
     "output_type": "stream",
     "text": [
      "1.0 19.0 18.0\n",
      "-26.0 46.0\n"
     ]
    }
   ],
   "source": [
    "Q1 = conteos[\"ID_VIV\"].quantile(0.25)\n",
    "Q3 = conteos[\"ID_VIV\"].quantile(0.75)\n",
    "IQR = Q3 -Q1\n",
    "print(Q1,Q3,IQR)\n",
    "limite_inferior = Q1 - 1.5 * IQR\n",
    "limite_superior = Q3 + 1.5 * IQR\n",
    "print(limite_inferior,limite_superior)"
   ]
  },
  {
   "cell_type": "code",
   "execution_count": 18,
   "metadata": {
    "id": "NY1lLtH0yTTE"
   },
   "outputs": [
    {
     "data": {
      "text/plain": [
       "LOC\n",
       "0195    35\n",
       "0208    45\n",
       "0215    37\n",
       "0226    39\n",
       "0229    34\n",
       "        ..\n",
       "5683     1\n",
       "5695     1\n",
       "5704     1\n",
       "5711     1\n",
       "5853     1\n",
       "Name: ID_VIV, Length: 1471, dtype: int64"
      ]
     },
     "execution_count": 18,
     "metadata": {},
     "output_type": "execute_result"
    }
   ],
   "source": [
    "conteos_3 = conteos[(conteos[\"ID_VIV\"] < limite_superior) & (limite_inferior < conteos[\"ID_VIV\"])][\"ID_VIV\"]\n",
    "conteos_3"
   ]
  },
  {
   "cell_type": "code",
   "execution_count": 19,
   "metadata": {
    "id": "ZILyYumVzJC9"
   },
   "outputs": [
    {
     "data": {
      "text/plain": [
       "<AxesSubplot: >"
      ]
     },
     "execution_count": 19,
     "metadata": {},
     "output_type": "execute_result"
    },
    {
     "data": {
      "image/png": "[encoded data removed]",
      "text/plain": [
       "<Figure size 640x480 with 1 Axes>"
      ]
     },
     "metadata": {},
     "output_type": "display_data"
    }
   ],
   "source": [
    "conteos_3.plot(kind=\"box\")"
   ]
  },
  {
   "cell_type": "markdown",
   "metadata": {
    "id": "WWnOiG3wOYs7"
   },
   "source": [
    "Otra aproximación es el cálculo del Z-score, que mide la desviación de un valor con respecto a una distribución normal estándar. Se consideran valores normales aquellos que se encuentran dentro de 3 desviaciones estándar de la media, que es cero.\n",
    "\n"
   ]
  },
  {
   "cell_type": "code",
   "execution_count": 20,
   "metadata": {
    "id": "hUoMUcKE12iJ"
   },
   "outputs": [
    {
     "data": {
      "text/plain": [
       "LOC\n",
       "0002    3070\n",
       "0003    3425\n",
       "0004    2297\n",
       "0005    2675\n",
       "0006    2110\n",
       "        ... \n",
       "5683       1\n",
       "5695       1\n",
       "5704       1\n",
       "5711       1\n",
       "5853       1\n",
       "Name: ID_VIV, Length: 1771, dtype: int64"
      ]
     },
     "execution_count": 20,
     "metadata": {},
     "output_type": "execute_result"
    }
   ],
   "source": [
    "conteos_4 = conteos [zscore(conteos[\"ID_VIV\"]).abs() < 3][\"ID_VIV\"]  ##Tres desviaciones estandar\n",
    "conteos_4"
   ]
  },
  {
   "cell_type": "code",
   "execution_count": 21,
   "metadata": {
    "id": "sIPEtYNG1-Tf"
   },
   "outputs": [
    {
     "data": {
      "text/plain": [
       "<AxesSubplot: >"
      ]
     },
     "execution_count": 21,
     "metadata": {},
     "output_type": "execute_result"
    },
    {
     "data": {
      "image/png": "[encoded data removed]",
      "text/plain": [
       "<Figure size 640x480 with 1 Axes>"
      ]
     },
     "metadata": {},
     "output_type": "display_data"
    }
   ],
   "source": [
    "conteos_4.plot(kind=\"box\")   \n",
    "## la cima esta cargada a la derecha, no cumple una desviación estandar, por ello el z-score no funcionó"
   ]
  },
  {
   "cell_type": "markdown",
   "metadata": {
    "id": "RTE9HcfVO1WX"
   },
   "source": [
    "También es posible encontrar valores atípicos en relación a otras variables. Una aproximación es generar una función utilizando regresión de mínimos cuadrados, que nos indica un valor esperado y podemos compararlo con el valor obtenido."
   ]
  },
  {
   "cell_type": "code",
   "execution_count": 22,
   "metadata": {
    "id": "MwyA7Nv94LWF"
   },
   "outputs": [],
   "source": [
    "X = conteos_2[\"ID_VIV\"].values.reshape(-1, 1)\n",
    "Y = conteos_2[\"ID_PERSONA\"].values.reshape(-1, 1)"
   ]
  },
  {
   "cell_type": "code",
   "execution_count": 23,
   "metadata": {
    "id": "2MLZFajQ6jrO"
   },
   "outputs": [
    {
     "data": {
      "image/png": "[encoded data removed]",
      "text/plain": [
       "<Figure size 640x480 with 1 Axes>"
      ]
     },
     "metadata": {},
     "output_type": "display_data"
    }
   ],
   "source": [
    "ax = conteos.drop(index=\"0001\").plot(x =\"ID_VIV\", y = \"ID_PERSONA\", kind=\"scatter\")"
   ]
  },
  {
   "cell_type": "code",
   "execution_count": 24,
   "metadata": {
    "id": "wDWhh3if39QJ"
   },
   "outputs": [
    {
     "name": "stdout",
     "output_type": "stream",
     "text": [
      "[-0.91457854] [[3.75465251]]\n"
     ]
    }
   ],
   "source": [
    "regr = linear_model.LinearRegression(fit_intercept= True, copy_X=True)\n",
    "regr.fit(X,Y)\n",
    "print(regr.intercept_,regr.coef_)"
   ]
  },
  {
   "cell_type": "code",
   "execution_count": 25,
   "metadata": {
    "id": "IpK1IbWp78OX"
   },
   "outputs": [
    {
     "data": {
      "image/png": "[encoded data removed]",
      "text/plain": [
       "<Figure size 640x480 with 1 Axes>"
      ]
     },
     "execution_count": 25,
     "metadata": {},
     "output_type": "execute_result"
    }
   ],
   "source": [
    "ax.plot(X,regr.predict(X),c=\"r\")\n",
    "ax.figure"
   ]
  },
  {
   "cell_type": "code",
   "execution_count": 26,
   "metadata": {
    "id": "w7XSno_78MGn"
   },
   "outputs": [
    {
     "data": {
      "text/html": [
       "<div>\n",
       "<style scoped>\n",
       "    .dataframe tbody tr th:only-of-type {\n",
       "        vertical-align: middle;\n",
       "    }\n",
       "\n",
       "    .dataframe tbody tr th {\n",
       "        vertical-align: top;\n",
       "    }\n",
       "\n",
       "    .dataframe thead th {\n",
       "        text-align: right;\n",
       "    }\n",
       "</style>\n",
       "<table border=\"1\" class=\"dataframe\">\n",
       "  <thead>\n",
       "    <tr style=\"text-align: right;\">\n",
       "      <th></th>\n",
       "      <th>ID_VIV</th>\n",
       "      <th>ID_PERSONA</th>\n",
       "      <th>pred_ID_PERSONA</th>\n",
       "      <th>diferencia</th>\n",
       "    </tr>\n",
       "    <tr>\n",
       "      <th>LOC</th>\n",
       "      <th></th>\n",
       "      <th></th>\n",
       "      <th></th>\n",
       "      <th></th>\n",
       "    </tr>\n",
       "  </thead>\n",
       "  <tbody>\n",
       "    <tr>\n",
       "      <th>0002</th>\n",
       "      <td>3070</td>\n",
       "      <td>11450</td>\n",
       "      <td>11525.868638</td>\n",
       "      <td>75.868638</td>\n",
       "    </tr>\n",
       "    <tr>\n",
       "      <th>0003</th>\n",
       "      <td>3425</td>\n",
       "      <td>12867</td>\n",
       "      <td>12858.770280</td>\n",
       "      <td>-8.229720</td>\n",
       "    </tr>\n",
       "    <tr>\n",
       "      <th>0004</th>\n",
       "      <td>2297</td>\n",
       "      <td>8761</td>\n",
       "      <td>8623.522245</td>\n",
       "      <td>-137.477755</td>\n",
       "    </tr>\n",
       "    <tr>\n",
       "      <th>0005</th>\n",
       "      <td>2675</td>\n",
       "      <td>10027</td>\n",
       "      <td>10042.780895</td>\n",
       "      <td>15.780895</td>\n",
       "    </tr>\n",
       "    <tr>\n",
       "      <th>0006</th>\n",
       "      <td>2110</td>\n",
       "      <td>8043</td>\n",
       "      <td>7921.402225</td>\n",
       "      <td>-121.597775</td>\n",
       "    </tr>\n",
       "    <tr>\n",
       "      <th>...</th>\n",
       "      <td>...</td>\n",
       "      <td>...</td>\n",
       "      <td>...</td>\n",
       "      <td>...</td>\n",
       "    </tr>\n",
       "    <tr>\n",
       "      <th>5683</th>\n",
       "      <td>1</td>\n",
       "      <td>6</td>\n",
       "      <td>2.840074</td>\n",
       "      <td>-3.159926</td>\n",
       "    </tr>\n",
       "    <tr>\n",
       "      <th>5695</th>\n",
       "      <td>1</td>\n",
       "      <td>2</td>\n",
       "      <td>2.840074</td>\n",
       "      <td>0.840074</td>\n",
       "    </tr>\n",
       "    <tr>\n",
       "      <th>5704</th>\n",
       "      <td>1</td>\n",
       "      <td>1</td>\n",
       "      <td>2.840074</td>\n",
       "      <td>1.840074</td>\n",
       "    </tr>\n",
       "    <tr>\n",
       "      <th>5711</th>\n",
       "      <td>1</td>\n",
       "      <td>1</td>\n",
       "      <td>2.840074</td>\n",
       "      <td>1.840074</td>\n",
       "    </tr>\n",
       "    <tr>\n",
       "      <th>5853</th>\n",
       "      <td>1</td>\n",
       "      <td>2</td>\n",
       "      <td>2.840074</td>\n",
       "      <td>0.840074</td>\n",
       "    </tr>\n",
       "  </tbody>\n",
       "</table>\n",
       "<p>1771 rows × 4 columns</p>\n",
       "</div>"
      ],
      "text/plain": [
       "      ID_VIV  ID_PERSONA  pred_ID_PERSONA  diferencia\n",
       "LOC                                                  \n",
       "0002    3070       11450     11525.868638   75.868638\n",
       "0003    3425       12867     12858.770280   -8.229720\n",
       "0004    2297        8761      8623.522245 -137.477755\n",
       "0005    2675       10027     10042.780895   15.780895\n",
       "0006    2110        8043      7921.402225 -121.597775\n",
       "...      ...         ...              ...         ...\n",
       "5683       1           6         2.840074   -3.159926\n",
       "5695       1           2         2.840074    0.840074\n",
       "5704       1           1         2.840074    1.840074\n",
       "5711       1           1         2.840074    1.840074\n",
       "5853       1           2         2.840074    0.840074\n",
       "\n",
       "[1771 rows x 4 columns]"
      ]
     },
     "execution_count": 26,
     "metadata": {},
     "output_type": "execute_result"
    }
   ],
   "source": [
    "conteos_5 = conteos_2.copy()\n",
    "conteos_5[\"pred_ID_PERSONA\"] = regr.predict(X)\n",
    "conteos_5[\"diferencia\"] = conteos_5[\"pred_ID_PERSONA\"] - conteos_5[\"ID_PERSONA\"]\n",
    "conteos_5"
   ]
  },
  {
   "cell_type": "code",
   "execution_count": 27,
   "metadata": {
    "id": "enwL2_TL9GAR"
   },
   "outputs": [
    {
     "data": {
      "text/plain": [
       "<AxesSubplot: ylabel='Frequency'>"
      ]
     },
     "execution_count": 27,
     "metadata": {},
     "output_type": "execute_result"
    },
    {
     "data": {
      "image/png": "[encoded data removed]",
      "text/plain": [
       "<Figure size 640x480 with 1 Axes>"
      ]
     },
     "metadata": {},
     "output_type": "display_data"
    }
   ],
   "source": [
    "conteos_5[\"diferencia\"].plot(kind=\"hist\")"
   ]
  },
  {
   "cell_type": "markdown",
   "metadata": {
    "id": "RM8r5fWdO6J3"
   },
   "source": [
    "Al igual que con los valores faltantes, podemos optar por eliminar los registros que contengan valores atípicos, o reemplazar estos valores por elementos dentro del rango de valores normales."
   ]
  },
  {
   "cell_type": "code",
   "execution_count": 29,
   "metadata": {
    "id": "Hc_CwsPB9fe0"
   },
   "outputs": [
    {
     "data": {
      "image/png": "[encoded data removed]",
      "text/plain": [
       "<Figure size 640x480 with 1 Axes>"
      ]
     },
     "execution_count": 29,
     "metadata": {},
     "output_type": "execute_result"
    }
   ],
   "source": [
    "conteos_5 [zscore(conteos_5[\"diferencia\"]).abs() > 3].plot(x =\"ID_VIV\", y = \"ID_PERSONA\", ax=ax, kind=\"scatter\", c=\"yellow\")\n",
    "ax.figure"
   ]
  },
  {
   "cell_type": "code",
   "execution_count": 30,
   "metadata": {
    "id": "cok4EbTA-V0b"
   },
   "outputs": [],
   "source": [
    "conteos_5.loc[zscore(conteos_5[\"diferencia\"]).abs() > 3,\"ID_PERSONA\"] = conteos_5.loc[zscore(conteos_5[\"diferencia\"]).abs() > 3,\"pred_ID_PERSONA\"]"
   ]
  },
  {
   "cell_type": "code",
   "execution_count": 31,
   "metadata": {
    "id": "5ygDjybg-8am"
   },
   "outputs": [
    {
     "data": {
      "text/plain": [
       "<AxesSubplot: xlabel='ID_VIV', ylabel='ID_PERSONA'>"
      ]
     },
     "execution_count": 31,
     "metadata": {},
     "output_type": "execute_result"
    },
    {
     "data": {
      "image/png": "[encoded data removed]",
      "text/plain": [
       "<Figure size 640x480 with 1 Axes>"
      ]
     },
     "metadata": {},
     "output_type": "display_data"
    }
   ],
   "source": [
    "conteos_5.plot(x =\"ID_VIV\", y = \"ID_PERSONA\", kind=\"scatter\")"
   ]
  },
  {
   "cell_type": "markdown",
   "metadata": {
    "id": "5fxquaKnPAwm"
   },
   "source": [
    "## Transformación de formatos\n",
    "Pandas ofrece el tipo de dato categórico para las columnas, el cual presenta algunas ventajas sobre los elementos de tipo entero o carácter. Una de las mayores ventajas es la reducción de la memoria utilizada para almacenar la tabla de datos."
   ]
  },
  {
   "cell_type": "code",
   "execution_count": 32,
   "metadata": {
    "id": "MteeEzDL-W0e"
   },
   "outputs": [],
   "source": [
    "personas_interes_8 = personas_interes.copy()\n",
    "personas_interes_8[\"SEXO\"] = pd.Categorical( personas_interes_8[\"SEXO\"])\n",
    "personas_interes_8[\"PARENT\"] = pd.Categorical( personas_interes_8[\"PARENT\"])"
   ]
  },
  {
   "cell_type": "code",
   "execution_count": 33,
   "metadata": {
    "id": "997Jt27Q_HU1"
   },
   "outputs": [
    {
     "name": "stdout",
     "output_type": "stream",
     "text": [
      "Index              132\n",
      "ID_PERSONA    10060048\n",
      "SEXO          10060048\n",
      "PARENT        10060048\n",
      "EDAD          10060048\n",
      "ESCOACUM      10060048\n",
      "dtype: int64\n",
      "Index              132\n",
      "ID_PERSONA    10060048\n",
      "SEXO           1257630\n",
      "PARENT         1257886\n",
      "EDAD          10060048\n",
      "ESCOACUM      10060048\n",
      "dtype: int64\n"
     ]
    }
   ],
   "source": [
    "print(personas_interes.memory_usage())\n",
    "print(personas_interes_8.memory_usage())"
   ]
  },
  {
   "cell_type": "code",
   "execution_count": 34,
   "metadata": {},
   "outputs": [
    {
     "name": "stdout",
     "output_type": "stream",
     "text": [
      "0          1\n",
      "1          3\n",
      "2          1\n",
      "3          3\n",
      "4          3\n",
      "          ..\n",
      "1257501    3\n",
      "1257502    1\n",
      "1257503    1\n",
      "1257504    3\n",
      "1257505    1\n",
      "Name: SEXO, Length: 1257506, dtype: category\n",
      "Categories (2, object): ['1', '3']\n"
     ]
    }
   ],
   "source": [
    "print(personas_interes_8['SEXO'])"
   ]
  },
  {
   "cell_type": "code",
   "execution_count": 40,
   "metadata": {},
   "outputs": [
    {
     "data": {
      "text/plain": [
       "ID_PERSONA      object\n",
       "SEXO          category\n",
       "PARENT        category\n",
       "EDAD             int64\n",
       "ESCOACUM       float64\n",
       "dtype: object"
      ]
     },
     "execution_count": 40,
     "metadata": {},
     "output_type": "execute_result"
    }
   ],
   "source": [
    "personas_interes_8.dtypes"
   ]
  },
  {
   "cell_type": "markdown",
   "metadata": {
    "id": "xdY0JjaAPCO0"
   },
   "source": [
    "Una vez que tenemos variables categóricas, es necesario transformarlas para que puedan ser aprovechadas en sistemas de aprendizaje automático. En el caso de variables en las que no importa el orden o la distancia entre valores, es necesario realizar una codificación especial llamada \"one-hot encoding\" (codificación one-hot). Esta técnica transforma los datos en una serie de columnas, cada una representando uno de los valores posibles de la variable. Un valor de 1 indica que el valor está presente en la variable, mientras que un valor de 0 indica lo contrario."
   ]
  },
  {
   "cell_type": "code",
   "execution_count": 41,
   "metadata": {
    "id": "nhXTGMra__he"
   },
   "outputs": [
    {
     "data": {
      "text/html": [
       "<div>\n",
       "<style scoped>\n",
       "    .dataframe tbody tr th:only-of-type {\n",
       "        vertical-align: middle;\n",
       "    }\n",
       "\n",
       "    .dataframe tbody tr th {\n",
       "        vertical-align: top;\n",
       "    }\n",
       "\n",
       "    .dataframe thead th {\n",
       "        text-align: right;\n",
       "    }\n",
       "</style>\n",
       "<table border=\"1\" class=\"dataframe\">\n",
       "  <thead>\n",
       "    <tr style=\"text-align: right;\">\n",
       "      <th></th>\n",
       "      <th>SEXO_1</th>\n",
       "      <th>SEXO_3</th>\n",
       "      <th>PARENT_01</th>\n",
       "      <th>PARENT_02</th>\n",
       "      <th>PARENT_03</th>\n",
       "      <th>PARENT_04</th>\n",
       "      <th>PARENT_05</th>\n",
       "      <th>PARENT_06</th>\n",
       "      <th>PARENT_07</th>\n",
       "      <th>PARENT_08</th>\n",
       "      <th>PARENT_09</th>\n",
       "      <th>PARENT_99</th>\n",
       "    </tr>\n",
       "  </thead>\n",
       "  <tbody>\n",
       "    <tr>\n",
       "      <th>0</th>\n",
       "      <td>1</td>\n",
       "      <td>0</td>\n",
       "      <td>1</td>\n",
       "      <td>0</td>\n",
       "      <td>0</td>\n",
       "      <td>0</td>\n",
       "      <td>0</td>\n",
       "      <td>0</td>\n",
       "      <td>0</td>\n",
       "      <td>0</td>\n",
       "      <td>0</td>\n",
       "      <td>0</td>\n",
       "    </tr>\n",
       "    <tr>\n",
       "      <th>1</th>\n",
       "      <td>0</td>\n",
       "      <td>1</td>\n",
       "      <td>0</td>\n",
       "      <td>0</td>\n",
       "      <td>0</td>\n",
       "      <td>0</td>\n",
       "      <td>0</td>\n",
       "      <td>1</td>\n",
       "      <td>0</td>\n",
       "      <td>0</td>\n",
       "      <td>0</td>\n",
       "      <td>0</td>\n",
       "    </tr>\n",
       "    <tr>\n",
       "      <th>2</th>\n",
       "      <td>1</td>\n",
       "      <td>0</td>\n",
       "      <td>0</td>\n",
       "      <td>0</td>\n",
       "      <td>0</td>\n",
       "      <td>0</td>\n",
       "      <td>0</td>\n",
       "      <td>1</td>\n",
       "      <td>0</td>\n",
       "      <td>0</td>\n",
       "      <td>0</td>\n",
       "      <td>0</td>\n",
       "    </tr>\n",
       "    <tr>\n",
       "      <th>3</th>\n",
       "      <td>0</td>\n",
       "      <td>1</td>\n",
       "      <td>0</td>\n",
       "      <td>0</td>\n",
       "      <td>1</td>\n",
       "      <td>0</td>\n",
       "      <td>0</td>\n",
       "      <td>0</td>\n",
       "      <td>0</td>\n",
       "      <td>0</td>\n",
       "      <td>0</td>\n",
       "      <td>0</td>\n",
       "    </tr>\n",
       "    <tr>\n",
       "      <th>4</th>\n",
       "      <td>0</td>\n",
       "      <td>1</td>\n",
       "      <td>1</td>\n",
       "      <td>0</td>\n",
       "      <td>0</td>\n",
       "      <td>0</td>\n",
       "      <td>0</td>\n",
       "      <td>0</td>\n",
       "      <td>0</td>\n",
       "      <td>0</td>\n",
       "      <td>0</td>\n",
       "      <td>0</td>\n",
       "    </tr>\n",
       "    <tr>\n",
       "      <th>...</th>\n",
       "      <td>...</td>\n",
       "      <td>...</td>\n",
       "      <td>...</td>\n",
       "      <td>...</td>\n",
       "      <td>...</td>\n",
       "      <td>...</td>\n",
       "      <td>...</td>\n",
       "      <td>...</td>\n",
       "      <td>...</td>\n",
       "      <td>...</td>\n",
       "      <td>...</td>\n",
       "      <td>...</td>\n",
       "    </tr>\n",
       "    <tr>\n",
       "      <th>1257501</th>\n",
       "      <td>0</td>\n",
       "      <td>1</td>\n",
       "      <td>0</td>\n",
       "      <td>0</td>\n",
       "      <td>1</td>\n",
       "      <td>0</td>\n",
       "      <td>0</td>\n",
       "      <td>0</td>\n",
       "      <td>0</td>\n",
       "      <td>0</td>\n",
       "      <td>0</td>\n",
       "      <td>0</td>\n",
       "    </tr>\n",
       "    <tr>\n",
       "      <th>1257502</th>\n",
       "      <td>1</td>\n",
       "      <td>0</td>\n",
       "      <td>1</td>\n",
       "      <td>0</td>\n",
       "      <td>0</td>\n",
       "      <td>0</td>\n",
       "      <td>0</td>\n",
       "      <td>0</td>\n",
       "      <td>0</td>\n",
       "      <td>0</td>\n",
       "      <td>0</td>\n",
       "      <td>0</td>\n",
       "    </tr>\n",
       "    <tr>\n",
       "      <th>1257503</th>\n",
       "      <td>1</td>\n",
       "      <td>0</td>\n",
       "      <td>0</td>\n",
       "      <td>0</td>\n",
       "      <td>1</td>\n",
       "      <td>0</td>\n",
       "      <td>0</td>\n",
       "      <td>0</td>\n",
       "      <td>0</td>\n",
       "      <td>0</td>\n",
       "      <td>0</td>\n",
       "      <td>0</td>\n",
       "    </tr>\n",
       "    <tr>\n",
       "      <th>1257504</th>\n",
       "      <td>0</td>\n",
       "      <td>1</td>\n",
       "      <td>0</td>\n",
       "      <td>1</td>\n",
       "      <td>0</td>\n",
       "      <td>0</td>\n",
       "      <td>0</td>\n",
       "      <td>0</td>\n",
       "      <td>0</td>\n",
       "      <td>0</td>\n",
       "      <td>0</td>\n",
       "      <td>0</td>\n",
       "    </tr>\n",
       "    <tr>\n",
       "      <th>1257505</th>\n",
       "      <td>1</td>\n",
       "      <td>0</td>\n",
       "      <td>1</td>\n",
       "      <td>0</td>\n",
       "      <td>0</td>\n",
       "      <td>0</td>\n",
       "      <td>0</td>\n",
       "      <td>0</td>\n",
       "      <td>0</td>\n",
       "      <td>0</td>\n",
       "      <td>0</td>\n",
       "      <td>0</td>\n",
       "    </tr>\n",
       "  </tbody>\n",
       "</table>\n",
       "<p>1257506 rows × 12 columns</p>\n",
       "</div>"
      ],
      "text/plain": [
       "         SEXO_1  SEXO_3  PARENT_01  PARENT_02  PARENT_03  PARENT_04  \\\n",
       "0             1       0          1          0          0          0   \n",
       "1             0       1          0          0          0          0   \n",
       "2             1       0          0          0          0          0   \n",
       "3             0       1          0          0          1          0   \n",
       "4             0       1          1          0          0          0   \n",
       "...         ...     ...        ...        ...        ...        ...   \n",
       "1257501       0       1          0          0          1          0   \n",
       "1257502       1       0          1          0          0          0   \n",
       "1257503       1       0          0          0          1          0   \n",
       "1257504       0       1          0          1          0          0   \n",
       "1257505       1       0          1          0          0          0   \n",
       "\n",
       "         PARENT_05  PARENT_06  PARENT_07  PARENT_08  PARENT_09  PARENT_99  \n",
       "0                0          0          0          0          0          0  \n",
       "1                0          1          0          0          0          0  \n",
       "2                0          1          0          0          0          0  \n",
       "3                0          0          0          0          0          0  \n",
       "4                0          0          0          0          0          0  \n",
       "...            ...        ...        ...        ...        ...        ...  \n",
       "1257501          0          0          0          0          0          0  \n",
       "1257502          0          0          0          0          0          0  \n",
       "1257503          0          0          0          0          0          0  \n",
       "1257504          0          0          0          0          0          0  \n",
       "1257505          0          0          0          0          0          0  \n",
       "\n",
       "[1257506 rows x 12 columns]"
      ]
     },
     "execution_count": 41,
     "metadata": {},
     "output_type": "execute_result"
    }
   ],
   "source": [
    "pd.get_dummies( personas_interes_8[[\"SEXO\",\"PARENT\"]])"
   ]
  },
  {
   "cell_type": "markdown",
   "metadata": {
    "id": "4QjQUDiePEoA"
   },
   "source": [
    "Además, podemos obtener información secundaria a partir de ciertas variables. Por ejemplo, podemos obtener la entidad a la que pertenece un registro, suponiendo que esta información no esté disponible inicialmente."
   ]
  },
  {
   "cell_type": "code",
   "execution_count": 42,
   "metadata": {
    "id": "7VajhdQzBZ4m"
   },
   "outputs": [
    {
     "data": {
      "text/plain": [
       "0          21\n",
       "1          21\n",
       "2          21\n",
       "3          14\n",
       "4          14\n",
       "           ..\n",
       "1257501    14\n",
       "1257502    14\n",
       "1257503    21\n",
       "1257504    21\n",
       "1257505    21\n",
       "Name: ID_PERSONA, Length: 1257506, dtype: object"
      ]
     },
     "execution_count": 42,
     "metadata": {},
     "output_type": "execute_result"
    }
   ],
   "source": [
    "personas_interes[\"ID_PERSONA\"].str.slice(0,2)"
   ]
  },
  {
   "cell_type": "markdown",
   "metadata": {
    "id": "xmHw8bn5yt2C"
   },
   "source": [
    "## Ejercicio\n",
    "\n",
    "Calcula el porcentaje de años estudiados por individuo"
   ]
  },
  {
   "cell_type": "code",
   "execution_count": null,
   "metadata": {
    "id": "Eb1YQT2vCuFo"
   },
   "outputs": [],
   "source": [
    "        "
   ]
  }
 ],
 "metadata": {
  "colab": {
   "authorship_tag": "ABX9TyOa/g61/XeUXA4MRC5RqLIa",
   "provenance": [],
   "toc_visible": true
  },
  "kernelspec": {
   "display_name": "Python 3 (ipykernel)",
   "language": "python",
   "name": "python3"
  },
  "language_info": {
   "codemirror_mode": {
    "name": "ipython",
    "version": 3
   },
   "file_extension": ".py",
   "mimetype": "text/x-python",
   "name": "python",
   "nbconvert_exporter": "python",
   "pygments_lexer": "ipython3",
   "version": "3.11.2"
  }
 },
 "nbformat": 4,
 "nbformat_minor": 1
}
