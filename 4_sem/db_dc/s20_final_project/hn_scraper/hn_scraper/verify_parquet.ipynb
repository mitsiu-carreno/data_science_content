{
 "cells": [
  {
   "cell_type": "code",
   "execution_count": 1,
   "id": "a6955d73-e3fa-436b-98ba-95bad5bc7328",
   "metadata": {},
   "outputs": [],
   "source": [
    "import pandas as pd\n"
   ]
  },
  {
   "cell_type": "code",
   "execution_count": 2,
   "id": "5daf60ba-f667-4d21-92ff-b89e61e07a4c",
   "metadata": {},
   "outputs": [],
   "source": [
    "df = pd.read_parquet(\"./parquet/part-00000-f9099435-0091-4e31-9be2-0552693ac8d9-c000.snappy.parquet\")"
   ]
  },
  {
   "cell_type": "code",
   "execution_count": 3,
   "id": "68029223-6fec-4779-a9a7-c7fcbc44ff27",
   "metadata": {},
   "outputs": [
    {
     "name": "stdout",
     "output_type": "stream",
     "text": [
      "<class 'pandas.core.frame.DataFrame'>\n",
      "RangeIndex: 4611 entries, 0 to 4610\n",
      "Data columns (total 14 columns):\n",
      " #   Column               Non-Null Count  Dtype \n",
      "---  ------               --------------  ----- \n",
      " 0   dc_creator           4611 non-null   object\n",
      " 1   description          4611 non-null   object\n",
      " 2   guid                 4611 non-null   object\n",
      " 3   id                   4611 non-null   int64 \n",
      " 4   link                 4611 non-null   object\n",
      " 5   pubDate              4611 non-null   object\n",
      " 6   title                4611 non-null   object\n",
      " 7   comment_dc_creator   4611 non-null   object\n",
      " 8   comment_description  4611 non-null   object\n",
      " 9   comment_guid         4611 non-null   object\n",
      " 10  comment_id           4611 non-null   int64 \n",
      " 11  comment_link         4611 non-null   object\n",
      " 12  comment_pubDate      4611 non-null   object\n",
      " 13  comment_title        4611 non-null   object\n",
      "dtypes: int64(2), object(12)\n",
      "memory usage: 504.5+ KB\n"
     ]
    }
   ],
   "source": [
    "df.info()"
   ]
  },
  {
   "cell_type": "code",
   "execution_count": 4,
   "id": "2b2612c6-80c6-4472-b9f4-365e1a982861",
   "metadata": {},
   "outputs": [
    {
     "data": {
      "text/html": [
       "<div>\n",
       "<style scoped>\n",
       "    .dataframe tbody tr th:only-of-type {\n",
       "        vertical-align: middle;\n",
       "    }\n",
       "\n",
       "    .dataframe tbody tr th {\n",
       "        vertical-align: top;\n",
       "    }\n",
       "\n",
       "    .dataframe thead th {\n",
       "        text-align: right;\n",
       "    }\n",
       "</style>\n",
       "<table border=\"1\" class=\"dataframe\">\n",
       "  <thead>\n",
       "    <tr style=\"text-align: right;\">\n",
       "      <th></th>\n",
       "      <th>dc_creator</th>\n",
       "      <th>description</th>\n",
       "      <th>guid</th>\n",
       "      <th>id</th>\n",
       "      <th>link</th>\n",
       "      <th>pubDate</th>\n",
       "      <th>title</th>\n",
       "      <th>comment_dc_creator</th>\n",
       "      <th>comment_description</th>\n",
       "      <th>comment_guid</th>\n",
       "      <th>comment_id</th>\n",
       "      <th>comment_link</th>\n",
       "      <th>comment_pubDate</th>\n",
       "      <th>comment_title</th>\n",
       "    </tr>\n",
       "  </thead>\n",
       "  <tbody>\n",
       "    <tr>\n",
       "      <th>200</th>\n",
       "      <td>Brajeshwar</td>\n",
       "      <td>\\n&lt;p&gt;Article URL: &lt;a href=\"https://rubenerd.co...</td>\n",
       "      <td>https://news.ycombinator.com/item?id=41475218</td>\n",
       "      <td>41475218</td>\n",
       "      <td>https://rubenerd.com/the-email-is-authenticati...</td>\n",
       "      <td>Sat, 07 Sep 2024 17:48:58 +0000</td>\n",
       "      <td>The \"email is authentication\" pattern</td>\n",
       "      <td>internet101010</td>\n",
       "      <td>\\n&lt;p&gt;Sometimes email is the best way. Like if ...</td>\n",
       "      <td>https://news.ycombinator.com/item?id=41481216</td>\n",
       "      <td>41481216</td>\n",
       "      <td>https://news.ycombinator.com/item?id=41481216</td>\n",
       "      <td>Sun, 08 Sep 2024 16:09:41 +0000</td>\n",
       "      <td>New comment by internet101010 in \"The \"email i...</td>\n",
       "    </tr>\n",
       "  </tbody>\n",
       "</table>\n",
       "</div>"
      ],
      "text/plain": [
       "     dc_creator                                        description  \\\n",
       "200  Brajeshwar  \\n<p>Article URL: <a href=\"https://rubenerd.co...   \n",
       "\n",
       "                                              guid        id  \\\n",
       "200  https://news.ycombinator.com/item?id=41475218  41475218   \n",
       "\n",
       "                                                  link  \\\n",
       "200  https://rubenerd.com/the-email-is-authenticati...   \n",
       "\n",
       "                             pubDate                                  title  \\\n",
       "200  Sat, 07 Sep 2024 17:48:58 +0000  The \"email is authentication\" pattern   \n",
       "\n",
       "    comment_dc_creator                                comment_description  \\\n",
       "200     internet101010  \\n<p>Sometimes email is the best way. Like if ...   \n",
       "\n",
       "                                      comment_guid  comment_id  \\\n",
       "200  https://news.ycombinator.com/item?id=41481216    41481216   \n",
       "\n",
       "                                      comment_link  \\\n",
       "200  https://news.ycombinator.com/item?id=41481216   \n",
       "\n",
       "                     comment_pubDate  \\\n",
       "200  Sun, 08 Sep 2024 16:09:41 +0000   \n",
       "\n",
       "                                         comment_title  \n",
       "200  New comment by internet101010 in \"The \"email i...  "
      ]
     },
     "execution_count": 4,
     "metadata": {},
     "output_type": "execute_result"
    }
   ],
   "source": [
    "df.take([200])\n"
   ]
  },
  {
   "cell_type": "code",
   "execution_count": null,
   "id": "8fac07d9-5cb7-4ceb-ba4f-d355a9faffbe",
   "metadata": {},
   "outputs": [],
   "source": []
  }
 ],
 "metadata": {
  "kernelspec": {
   "display_name": "Python 3 (ipykernel)",
   "language": "python",
   "name": "python3"
  },
  "language_info": {
   "codemirror_mode": {
    "name": "ipython",
    "version": 3
   },
   "file_extension": ".py",
   "mimetype": "text/x-python",
   "name": "python",
   "nbconvert_exporter": "python",
   "pygments_lexer": "ipython3",
   "version": "3.12.5"
  }
 },
 "nbformat": 4,
 "nbformat_minor": 5
}
