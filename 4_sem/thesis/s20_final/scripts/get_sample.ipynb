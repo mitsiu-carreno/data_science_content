{
 "cells": [
  {
   "cell_type": "code",
   "execution_count": 1,
   "id": "2b2efd78-557b-43c6-88d3-ebb7ece01bf0",
   "metadata": {},
   "outputs": [],
   "source": [
    "import pandas as pd\n",
    "import glob \n",
    "import os\n",
    "import matplotlib.pyplot as plt\n",
    "\n"
   ]
  },
  {
   "cell_type": "code",
   "execution_count": 2,
   "id": "30573df1-d84c-4fc9-b185-72e9df99a5eb",
   "metadata": {},
   "outputs": [],
   "source": [
    "path = './input'\n",
    "all_files = glob.glob(os.path.join(path, \"*\"))\n"
   ]
  },
  {
   "cell_type": "code",
   "execution_count": 3,
   "id": "e00af4ec-eab3-42ba-ba56-efcc23cd33cf",
   "metadata": {},
   "outputs": [
    {
     "data": {
      "text/plain": [
       "(28920, 14)"
      ]
     },
     "execution_count": 3,
     "metadata": {},
     "output_type": "execute_result"
    }
   ],
   "source": [
    "df_og = pd.DataFrame\n",
    "li = []\n",
    "\n",
    "for filename in all_files:\n",
    "    df_temp = pd.read_csv(filename,\n",
    "                sep=r\"(?P<remote_addr>(?:^|\\b(?<!\\.))(?:1?\\d\\d?|2[0-4]\\d|25[0-5])(?:\\.(?:1?\\d\\d?|2[0-4]\\d|25[0-5])){3}(?=$|[^\\w.]))\\s-\\s(?P<remote_usr>-|[A-z_][A-z0-9_]{0,30})\\s(?P<date_time>\\[(?P<date>[0-2][0-9]\\/\\w{3}\\/[12]\\d{3}):(?P<time>\\d\\d:\\d\\d:\\d\\d).*\\])\\s(?P<request>\\\"(?P<req_method>GET|POST|HEAD|PUT|DELETE|CONNECT|OPTIONS|TRACE|PATCH)\\s(?P<req_uri>\\/[^\\s]*)\\s(?P<http_ver>HTTP/\\d\\.\\d)\\\")\\s(?P<status>\\d{3})\\s(?P<body_byte_sent>\\d+)\\s\\\"(?P<http_referer>[^\\s]+)\\\"\\s\\\"(?P<user_agent>[^\\\"]+)\\\"\",\n",
    "                names=\"remote_addr remote_usr date_time date time request req_method req_uri http_ver status body_bytes_sent http_referer user_agent gzip_ratio\".split(),\n",
    "                header=None,\n",
    "                on_bad_lines=\"skip\",\n",
    "                engine='python')\n",
    "    li.append(df_temp)\n",
    "\n",
    "df_og = pd.concat(li, axis=0, ignore_index=True)\n",
    "\n",
    "df_og.shape"
   ]
  },
  {
   "cell_type": "code",
   "execution_count": 4,
   "id": "0b97b961-5eef-44ee-8322-dae11e37b891",
   "metadata": {},
   "outputs": [],
   "source": [
    "df = df_og.copy()"
   ]
  },
  {
   "cell_type": "code",
   "execution_count": 5,
   "id": "947c528b-f9ff-4238-a123-af2fb4b72228",
   "metadata": {},
   "outputs": [
    {
     "name": "stdout",
     "output_type": "stream",
     "text": [
      "remote_addr        0\n",
      "remote_usr         0\n",
      "date_time          0\n",
      "date               0\n",
      "time               0\n",
      "request            0\n",
      "req_method         0\n",
      "req_uri            0\n",
      "http_ver           0\n",
      "status             0\n",
      "body_bytes_sent    0\n",
      "http_referer       0\n",
      "user_agent         0\n",
      "dtype: int64\n"
     ]
    }
   ],
   "source": [
    "# Borrar elementos con IPv6\n",
    "df = df.drop(df[df.remote_addr.str.len() > 17].index)\n",
    "\n",
    "# Borrar registros con valores vacíos\n",
    "df.drop(columns=\"gzip_ratio\", inplace=True)\n",
    "df = df.dropna()\n",
    "print(df.isna().sum())"
   ]
  },
  {
   "cell_type": "code",
   "execution_count": 6,
   "id": "e4ba98ea-eefc-4ade-935b-7a1fedf6421b",
   "metadata": {},
   "outputs": [
    {
     "data": {
      "text/plain": [
       "(28878, 13)"
      ]
     },
     "execution_count": 6,
     "metadata": {},
     "output_type": "execute_result"
    }
   ],
   "source": [
    "df.shape"
   ]
  },
  {
   "cell_type": "code",
   "execution_count": 7,
   "id": "af9ea303-36c8-420a-b00c-7287295a6684",
   "metadata": {},
   "outputs": [],
   "source": [
    "# Decodificar url's ej, https%3A%2F%2Fmoodle.ucags.edu.mx => https://moodle.ucags.edu.mx\n",
    "\n",
    "import urllib.parse\n",
    "\n",
    "df[\"dec_req_uri\"] = df.loc[:, \"req_uri\"]\n",
    "\n",
    "df.loc[:, \"dec_req_uri\"] = df[\"dec_req_uri\"].apply(urllib.parse.unquote)"
   ]
  },
  {
   "cell_type": "code",
   "execution_count": 8,
   "id": "0d024c6f-0845-4f92-a828-c2b3503ff185",
   "metadata": {},
   "outputs": [],
   "source": [
    "# Extraer path (ruta de recurso solicitado), query (parametros adicionales en la url) y netloc (dominio al cuál se realiza la petición)\n",
    "\n",
    "df.loc[:, \"clean_path\"] = df[\"dec_req_uri\"].apply(lambda x: urllib.parse.urlparse(x).path)\n",
    "df.loc[:, \"clean_query_list\"] = df[\"dec_req_uri\"].apply(urllib.parse.urlparse).apply(lambda x: urllib.parse.parse_qsl(x.query))\n",
    "df.loc[:, \"domain\"] = df[\"http_referer\"].apply(lambda x: urllib.parse.urlparse(x).netloc)"
   ]
  },
  {
   "cell_type": "code",
   "execution_count": 9,
   "id": "e87cf39a-f05a-49fd-9ee6-901bb40147e5",
   "metadata": {},
   "outputs": [],
   "source": [
    "# Tratamiento de horas y fechas para aplicar tratamientos numéricos\n",
    "from datetime import datetime\n",
    "import time\n",
    "\n",
    "df.loc[:, \"fdate\"] = df[\"date\"].apply(lambda x: datetime.strptime(x, \"%d/%b/%Y\"))\n",
    "df.loc[:, \"dateunixtimest\"] = df[\"fdate\"].apply(lambda x: time.mktime(x.timetuple()))\n",
    "df.loc[:, \"ftime\"] = df[\"time\"].apply(lambda x: datetime.strptime(x, \"%H:%M:%S\").time())\n",
    "df.loc[:, \"fabstime\"] = df[\"ftime\"].apply(lambda x: x.hour+x.minute/60.0)\n"
   ]
  },
  {
   "cell_type": "code",
   "execution_count": 10,
   "id": "cdcc8039-d415-44e2-8c71-0bfc30a96aea",
   "metadata": {},
   "outputs": [
    {
     "data": {
      "text/html": [
       "<div>\n",
       "<style scoped>\n",
       "    .dataframe tbody tr th:only-of-type {\n",
       "        vertical-align: middle;\n",
       "    }\n",
       "\n",
       "    .dataframe tbody tr th {\n",
       "        vertical-align: top;\n",
       "    }\n",
       "\n",
       "    .dataframe thead th {\n",
       "        text-align: right;\n",
       "    }\n",
       "</style>\n",
       "<table border=\"1\" class=\"dataframe\">\n",
       "  <thead>\n",
       "    <tr style=\"text-align: right;\">\n",
       "      <th></th>\n",
       "      <th>remote_addr</th>\n",
       "      <th>remote_usr</th>\n",
       "      <th>date_time</th>\n",
       "      <th>date</th>\n",
       "      <th>time</th>\n",
       "      <th>request</th>\n",
       "      <th>req_method</th>\n",
       "      <th>req_uri</th>\n",
       "      <th>http_ver</th>\n",
       "      <th>status</th>\n",
       "      <th>body_bytes_sent</th>\n",
       "      <th>http_referer</th>\n",
       "      <th>user_agent</th>\n",
       "      <th>dec_req_uri</th>\n",
       "      <th>clean_path</th>\n",
       "      <th>clean_query_list</th>\n",
       "      <th>domain</th>\n",
       "      <th>fdate</th>\n",
       "      <th>dateunixtimest</th>\n",
       "      <th>ftime</th>\n",
       "      <th>fabstime</th>\n",
       "    </tr>\n",
       "  </thead>\n",
       "  <tbody>\n",
       "    <tr>\n",
       "      <th>200</th>\n",
       "      <td>201.141.19.215</td>\n",
       "      <td>-</td>\n",
       "      <td>[23/Aug/2024:00:02:46 +0000]</td>\n",
       "      <td>23/Aug/2024</td>\n",
       "      <td>00:02:46</td>\n",
       "      <td>\"GET /courses/11083/modules/items/962794 HTTP/1.1\"</td>\n",
       "      <td>GET</td>\n",
       "      <td>/courses/11083/modules/items/962794</td>\n",
       "      <td>HTTP/1.1</td>\n",
       "      <td>302.0</td>\n",
       "      <td>150.0</td>\n",
       "      <td>https://canvas.ieec.mx/courses/11083/modules</td>\n",
       "      <td>Mozilla/5.0 (Macintosh; Intel Mac OS X 10_15_7) AppleWebKit/537.36 (KHTML, like Gecko) Chrome/127.0.0.0 Safari/537.36</td>\n",
       "      <td>/courses/11083/modules/items/962794</td>\n",
       "      <td>/courses/11083/modules/items/962794</td>\n",
       "      <td>[]</td>\n",
       "      <td>canvas.ieec.mx</td>\n",
       "      <td>2024-08-23</td>\n",
       "      <td>1.724371e+09</td>\n",
       "      <td>00:02:46</td>\n",
       "      <td>0.033333</td>\n",
       "    </tr>\n",
       "    <tr>\n",
       "      <th>201</th>\n",
       "      <td>201.141.19.215</td>\n",
       "      <td>-</td>\n",
       "      <td>[23/Aug/2024:00:02:49 +0000]</td>\n",
       "      <td>23/Aug/2024</td>\n",
       "      <td>00:02:49</td>\n",
       "      <td>\"GET /courses/11083/quizzes/331378?module_item_id=962794 HTTP/1.1\"</td>\n",
       "      <td>GET</td>\n",
       "      <td>/courses/11083/quizzes/331378?module_item_id=962794</td>\n",
       "      <td>HTTP/1.1</td>\n",
       "      <td>200.0</td>\n",
       "      <td>11368.0</td>\n",
       "      <td>https://canvas.ieec.mx/courses/11083/modules</td>\n",
       "      <td>Mozilla/5.0 (Macintosh; Intel Mac OS X 10_15_7) AppleWebKit/537.36 (KHTML, like Gecko) Chrome/127.0.0.0 Safari/537.36</td>\n",
       "      <td>/courses/11083/quizzes/331378?module_item_id=962794</td>\n",
       "      <td>/courses/11083/quizzes/331378</td>\n",
       "      <td>[(module_item_id, 962794)]</td>\n",
       "      <td>canvas.ieec.mx</td>\n",
       "      <td>2024-08-23</td>\n",
       "      <td>1.724371e+09</td>\n",
       "      <td>00:02:49</td>\n",
       "      <td>0.033333</td>\n",
       "    </tr>\n",
       "    <tr>\n",
       "      <th>202</th>\n",
       "      <td>201.141.19.215</td>\n",
       "      <td>-</td>\n",
       "      <td>[23/Aug/2024:00:02:49 +0000]</td>\n",
       "      <td>23/Aug/2024</td>\n",
       "      <td>00:02:49</td>\n",
       "      <td>\"GET /api/v1/conversations/unread_count HTTP/1.1\"</td>\n",
       "      <td>GET</td>\n",
       "      <td>/api/v1/conversations/unread_count</td>\n",
       "      <td>HTTP/1.1</td>\n",
       "      <td>304.0</td>\n",
       "      <td>0.0</td>\n",
       "      <td>https://canvas.ieec.mx/courses/11083/quizzes/331378?module_item_id=962794</td>\n",
       "      <td>Mozilla/5.0 (Macintosh; Intel Mac OS X 10_15_7) AppleWebKit/537.36 (KHTML, like Gecko) Chrome/127.0.0.0 Safari/537.36</td>\n",
       "      <td>/api/v1/conversations/unread_count</td>\n",
       "      <td>/api/v1/conversations/unread_count</td>\n",
       "      <td>[]</td>\n",
       "      <td>canvas.ieec.mx</td>\n",
       "      <td>2024-08-23</td>\n",
       "      <td>1.724371e+09</td>\n",
       "      <td>00:02:49</td>\n",
       "      <td>0.033333</td>\n",
       "    </tr>\n",
       "  </tbody>\n",
       "</table>\n",
       "</div>"
      ],
      "text/plain": [
       "        remote_addr remote_usr                     date_time         date  \\\n",
       "200  201.141.19.215          -  [23/Aug/2024:00:02:46 +0000]  23/Aug/2024   \n",
       "201  201.141.19.215          -  [23/Aug/2024:00:02:49 +0000]  23/Aug/2024   \n",
       "202  201.141.19.215          -  [23/Aug/2024:00:02:49 +0000]  23/Aug/2024   \n",
       "\n",
       "         time  \\\n",
       "200  00:02:46   \n",
       "201  00:02:49   \n",
       "202  00:02:49   \n",
       "\n",
       "                                                                request  \\\n",
       "200                  \"GET /courses/11083/modules/items/962794 HTTP/1.1\"   \n",
       "201  \"GET /courses/11083/quizzes/331378?module_item_id=962794 HTTP/1.1\"   \n",
       "202                   \"GET /api/v1/conversations/unread_count HTTP/1.1\"   \n",
       "\n",
       "    req_method                                              req_uri  http_ver  \\\n",
       "200        GET                  /courses/11083/modules/items/962794  HTTP/1.1   \n",
       "201        GET  /courses/11083/quizzes/331378?module_item_id=962794  HTTP/1.1   \n",
       "202        GET                   /api/v1/conversations/unread_count  HTTP/1.1   \n",
       "\n",
       "     status  body_bytes_sent  \\\n",
       "200   302.0            150.0   \n",
       "201   200.0          11368.0   \n",
       "202   304.0              0.0   \n",
       "\n",
       "                                                                  http_referer  \\\n",
       "200                               https://canvas.ieec.mx/courses/11083/modules   \n",
       "201                               https://canvas.ieec.mx/courses/11083/modules   \n",
       "202  https://canvas.ieec.mx/courses/11083/quizzes/331378?module_item_id=962794   \n",
       "\n",
       "                                                                                                                user_agent  \\\n",
       "200  Mozilla/5.0 (Macintosh; Intel Mac OS X 10_15_7) AppleWebKit/537.36 (KHTML, like Gecko) Chrome/127.0.0.0 Safari/537.36   \n",
       "201  Mozilla/5.0 (Macintosh; Intel Mac OS X 10_15_7) AppleWebKit/537.36 (KHTML, like Gecko) Chrome/127.0.0.0 Safari/537.36   \n",
       "202  Mozilla/5.0 (Macintosh; Intel Mac OS X 10_15_7) AppleWebKit/537.36 (KHTML, like Gecko) Chrome/127.0.0.0 Safari/537.36   \n",
       "\n",
       "                                             dec_req_uri  \\\n",
       "200                  /courses/11083/modules/items/962794   \n",
       "201  /courses/11083/quizzes/331378?module_item_id=962794   \n",
       "202                   /api/v1/conversations/unread_count   \n",
       "\n",
       "                              clean_path            clean_query_list  \\\n",
       "200  /courses/11083/modules/items/962794                          []   \n",
       "201        /courses/11083/quizzes/331378  [(module_item_id, 962794)]   \n",
       "202   /api/v1/conversations/unread_count                          []   \n",
       "\n",
       "             domain      fdate  dateunixtimest     ftime  fabstime  \n",
       "200  canvas.ieec.mx 2024-08-23    1.724371e+09  00:02:46  0.033333  \n",
       "201  canvas.ieec.mx 2024-08-23    1.724371e+09  00:02:49  0.033333  \n",
       "202  canvas.ieec.mx 2024-08-23    1.724371e+09  00:02:49  0.033333  "
      ]
     },
     "execution_count": 10,
     "metadata": {},
     "output_type": "execute_result"
    }
   ],
   "source": [
    "pd.set_option('display.max_colwidth', None)\n",
    "pd.set_option('display.max_columns', None)\n",
    "\n",
    "df.iloc[200:203]"
   ]
  },
  {
   "cell_type": "code",
   "execution_count": 11,
   "id": "8861ba0f-be84-4c1d-91fc-28853b1348f5",
   "metadata": {},
   "outputs": [
    {
     "data": {
      "text/plain": [
       "(28878, 21)"
      ]
     },
     "execution_count": 11,
     "metadata": {},
     "output_type": "execute_result"
    }
   ],
   "source": [
    "df.shape"
   ]
  },
  {
   "cell_type": "code",
   "execution_count": 12,
   "id": "60386dc6-04c9-4d72-9dc1-aa45ba18708f",
   "metadata": {},
   "outputs": [],
   "source": [
    "import pyarrow.parquet as pq"
   ]
  },
  {
   "cell_type": "code",
   "execution_count": 13,
   "id": "68dbad23-bc65-441d-8040-a37b48b83d41",
   "metadata": {},
   "outputs": [],
   "source": [
    "df.to_parquet(\"./output/full.parquet\", engine='auto', compression='snappy')"
   ]
  },
  {
   "cell_type": "code",
   "execution_count": 14,
   "id": "91d02f3e-e880-4a4e-a24a-f49f84f432f8",
   "metadata": {},
   "outputs": [],
   "source": [
    "# Aplicando la formula de Cochran para calcular el tamaño de muestra\n",
    "\n",
    "# Z-score\n",
    "z= 1.96\n",
    "\n",
    "# Proporcion estimada de la población (50%)\n",
    "p= 0.5\n",
    "\n",
    "# Margen de error (5%)\n",
    "e= 0.05\n",
    "\n",
    "n0 = (z**2 * p * (1-p))/e**2"
   ]
  },
  {
   "cell_type": "code",
   "execution_count": 15,
   "id": "ba8d27bd-262e-4a28-b8b7-78cac3a8321c",
   "metadata": {},
   "outputs": [
    {
     "data": {
      "text/plain": [
       "384.1599999999999"
      ]
     },
     "execution_count": 15,
     "metadata": {},
     "output_type": "execute_result"
    }
   ],
   "source": [
    "n0"
   ]
  },
  {
   "cell_type": "code",
   "execution_count": 16,
   "id": "06fc60e7-647a-4ced-b440-c5ec21983d21",
   "metadata": {},
   "outputs": [],
   "source": [
    "# Ajustando a muestras pequeñas / finitas\n",
    "sample_size = (n0)/(1+((n0-1)/(df.shape[0])))"
   ]
  },
  {
   "cell_type": "code",
   "execution_count": 17,
   "id": "c94ae586-f474-4d8c-9ddf-226a37cd47ef",
   "metadata": {},
   "outputs": [
    {
     "data": {
      "text/plain": [
       "379.12962028846425"
      ]
     },
     "execution_count": 17,
     "metadata": {},
     "output_type": "execute_result"
    }
   ],
   "source": [
    "sample_size"
   ]
  },
  {
   "cell_type": "code",
   "execution_count": 18,
   "id": "f75154a4-572e-4ed0-b0ff-0d9fa826f1de",
   "metadata": {},
   "outputs": [],
   "source": [
    "import math\n",
    "\n",
    "sample = df.sample(n=math.ceil(sample_size))"
   ]
  },
  {
   "cell_type": "code",
   "execution_count": 19,
   "id": "7ea97a49-c45c-4ab5-96ad-49ea621add32",
   "metadata": {},
   "outputs": [
    {
     "data": {
      "text/plain": [
       "(380, 21)"
      ]
     },
     "execution_count": 19,
     "metadata": {},
     "output_type": "execute_result"
    }
   ],
   "source": [
    "sample.shape"
   ]
  },
  {
   "cell_type": "code",
   "execution_count": 20,
   "id": "06707cd8-f2f8-45e4-b48f-edaec3d54442",
   "metadata": {},
   "outputs": [
    {
     "data": {
      "text/html": [
       "<div>\n",
       "<style scoped>\n",
       "    .dataframe tbody tr th:only-of-type {\n",
       "        vertical-align: middle;\n",
       "    }\n",
       "\n",
       "    .dataframe tbody tr th {\n",
       "        vertical-align: top;\n",
       "    }\n",
       "\n",
       "    .dataframe thead th {\n",
       "        text-align: right;\n",
       "    }\n",
       "</style>\n",
       "<table border=\"1\" class=\"dataframe\">\n",
       "  <thead>\n",
       "    <tr style=\"text-align: right;\">\n",
       "      <th></th>\n",
       "      <th>date</th>\n",
       "      <th>time</th>\n",
       "    </tr>\n",
       "  </thead>\n",
       "  <tbody>\n",
       "    <tr>\n",
       "      <th>16140</th>\n",
       "      <td>23/Aug/2024</td>\n",
       "      <td>15:20:42</td>\n",
       "    </tr>\n",
       "    <tr>\n",
       "      <th>26070</th>\n",
       "      <td>23/Aug/2024</td>\n",
       "      <td>18:59:12</td>\n",
       "    </tr>\n",
       "    <tr>\n",
       "      <th>13858</th>\n",
       "      <td>23/Aug/2024</td>\n",
       "      <td>13:35:44</td>\n",
       "    </tr>\n",
       "    <tr>\n",
       "      <th>11707</th>\n",
       "      <td>23/Aug/2024</td>\n",
       "      <td>09:30:18</td>\n",
       "    </tr>\n",
       "    <tr>\n",
       "      <th>24365</th>\n",
       "      <td>23/Aug/2024</td>\n",
       "      <td>18:27:38</td>\n",
       "    </tr>\n",
       "    <tr>\n",
       "      <th>...</th>\n",
       "      <td>...</td>\n",
       "      <td>...</td>\n",
       "    </tr>\n",
       "    <tr>\n",
       "      <th>28709</th>\n",
       "      <td>23/Aug/2024</td>\n",
       "      <td>20:52:24</td>\n",
       "    </tr>\n",
       "    <tr>\n",
       "      <th>5411</th>\n",
       "      <td>23/Aug/2024</td>\n",
       "      <td>03:09:13</td>\n",
       "    </tr>\n",
       "    <tr>\n",
       "      <th>25782</th>\n",
       "      <td>23/Aug/2024</td>\n",
       "      <td>18:50:07</td>\n",
       "    </tr>\n",
       "    <tr>\n",
       "      <th>21830</th>\n",
       "      <td>23/Aug/2024</td>\n",
       "      <td>17:27:01</td>\n",
       "    </tr>\n",
       "    <tr>\n",
       "      <th>12550</th>\n",
       "      <td>23/Aug/2024</td>\n",
       "      <td>11:06:28</td>\n",
       "    </tr>\n",
       "  </tbody>\n",
       "</table>\n",
       "<p>380 rows × 2 columns</p>\n",
       "</div>"
      ],
      "text/plain": [
       "              date      time\n",
       "16140  23/Aug/2024  15:20:42\n",
       "26070  23/Aug/2024  18:59:12\n",
       "13858  23/Aug/2024  13:35:44\n",
       "11707  23/Aug/2024  09:30:18\n",
       "24365  23/Aug/2024  18:27:38\n",
       "...            ...       ...\n",
       "28709  23/Aug/2024  20:52:24\n",
       "5411   23/Aug/2024  03:09:13\n",
       "25782  23/Aug/2024  18:50:07\n",
       "21830  23/Aug/2024  17:27:01\n",
       "12550  23/Aug/2024  11:06:28\n",
       "\n",
       "[380 rows x 2 columns]"
      ]
     },
     "execution_count": 20,
     "metadata": {},
     "output_type": "execute_result"
    }
   ],
   "source": [
    "sample[[\"date\", \"time\"]]"
   ]
  },
  {
   "cell_type": "code",
   "execution_count": null,
   "id": "e661f81e-541f-425a-b368-7e68db51384f",
   "metadata": {},
   "outputs": [],
   "source": []
  }
 ],
 "metadata": {
  "kernelspec": {
   "display_name": "Python 3 (ipykernel)",
   "language": "python",
   "name": "python3"
  },
  "language_info": {
   "codemirror_mode": {
    "name": "ipython",
    "version": 3
   },
   "file_extension": ".py",
   "mimetype": "text/x-python",
   "name": "python",
   "nbconvert_exporter": "python",
   "pygments_lexer": "ipython3",
   "version": "3.11.0rc1"
  }
 },
 "nbformat": 4,
 "nbformat_minor": 5
}
