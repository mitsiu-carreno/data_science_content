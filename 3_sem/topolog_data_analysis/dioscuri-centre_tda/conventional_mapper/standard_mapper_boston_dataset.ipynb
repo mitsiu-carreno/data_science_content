{
 "cells": [
  {
   "cell_type": "markdown",
   "metadata": {},
   "source": [
    "In this exercise we will play with a classical Boston Property Dataset. We will see it also when working with Ball Mapper using R language.  \n",
    "It describes the prices of properties in Boston in '70. The task is to understand how they depend on multiple factors. Please consider the following URL for more details#https://www.cs.toronto.edu/~delve/data/boston/bostonDetail.html\n",
    "\n",
    "Note the list of considered variables. Varianble number 14:\n",
    "MEDV - Median value of owner-occupied homes in $1000's\n",
    "is the descriptive variable we want to understand.\n",
    "\n",
    "In the files we use for this demonstration file boston contains only first 13 variables (we will use those data to construct the Mapper graph). The last variable - the descriptive one is stored in boston_prices. "
   ]
  },
  {
   "cell_type": "code",
   "execution_count": 1,
   "metadata": {},
   "outputs": [],
   "source": [
    "import kmapper as km\n",
    "from kmapper import jupyter \n",
    "import numpy as np\n",
    "import sklearn\n",
    "\n",
    "import matplotlib.pyplot as plt\n",
    "%matplotlib inline"
   ]
  },
  {
   "cell_type": "code",
   "execution_count": 5,
   "metadata": {},
   "outputs": [
    {
     "name": "stdout",
     "output_type": "stream",
     "text": [
      "KeplerMapper(verbose=1)\n",
      "..Composing projection pipeline of length 1:\n",
      "\tProjections: TSNE()\n",
      "\tDistance matrices: False\n",
      "\tScalers: MinMaxScaler()\n",
      "..Projecting on data shaped (506, 13)\n",
      "\n",
      "..Projecting data using: \n",
      "\tTSNE(verbose=1)\n",
      "\n",
      "[t-SNE] Computing 91 nearest neighbors...\n",
      "[t-SNE] Indexed 506 samples in 0.002s...\n",
      "[t-SNE] Computed neighbors for 506 samples in 0.021s...\n",
      "[t-SNE] Computed conditional probabilities for sample 506 / 506\n",
      "[t-SNE] Mean sigma: 18.338454\n",
      "[t-SNE] KL divergence after 250 iterations with early exaggeration: 49.751736\n",
      "[t-SNE] KL divergence after 1000 iterations: 0.238333\n",
      "\n",
      "..Scaling with: MinMaxScaler()\n",
      "\n"
     ]
    }
   ],
   "source": [
    "mapper = km.KeplerMapper(verbose=1)\n",
    "\n",
    "boston_txt = np.loadtxt(\"boston\", dtype=str)\n",
    "boston_prices_txt = np.loadtxt(\"boston_prices\", dtype=str)\n",
    "\n",
    "boston = boston_txt.astype(float)\n",
    "boston_prices = boston_prices_txt.astype(float)\n",
    "boston_prices = boston_prices.reshape( [len(boston_prices),1] )\n",
    "\n",
    "#We have choosen the lens function based on stochastic neighbour embedding. Typically the choice of the lense function is the most difficult and involvinf in the process of creating Mapper graph. It often requires so called\n",
    "#expert knowledge. Here we do make an educative guess :)\n",
    "projected_data = mapper.fit_transform(boston,projection=sklearn.manifold.TSNE())"
   ]
  },
  {
   "cell_type": "code",
   "execution_count": 8,
   "metadata": {},
   "outputs": [
    {
     "name": "stdout",
     "output_type": "stream",
     "text": [
      "KeplerMapper(verbose=1)\n",
      "Mapping on data shaped (506, 13) using lens shaped (506, 2)\n",
      "\n",
      "Creating 100 hypercubes.\n",
      "\n",
      "Created 339 edges and 128 nodes in 0:00:00.365599.\n",
      "Wrote visualization to: boston_dataset.html\n"
     ]
    },
    {
     "data": {
      "text/html": [
       "<style>\n",
       "        .container { width:100% !important; }\n",
       "        .output_scroll {height: 800px !important;}\n",
       "        </style>"
      ],
      "text/plain": [
       "<IPython.core.display.HTML object>"
      ]
     },
     "metadata": {},
     "output_type": "display_data"
    },
    {
     "name": "stderr",
     "output_type": "stream",
     "text": [
      "/home/kincaid/.local/lib/python3.12/site-packages/IPython/core/display.py:431: UserWarning: Consider using IPython.display.IFrame instead\n",
      "  warnings.warn(\"Consider using IPython.display.IFrame instead\")\n"
     ]
    },
    {
     "data": {
      "text/html": [
       "<iframe src=boston_dataset.html width=100%% height=800 frameBorder=\"0\"></iframe>"
      ],
      "text/plain": [
       "<IPython.core.display.HTML object>"
      ]
     },
     "metadata": {},
     "output_type": "display_data"
    }
   ],
   "source": [
    "mapper = km.KeplerMapper(verbose=1)\n",
    "\n",
    "#Here is a process of creation of Mapper graph with different clustering function. You may plug in here anything from sklearn.cluster - I have provided \n",
    "#only a few examples. Play with it and see how the clustering method determine the output. \n",
    "graph = mapper.map(projected_data,boston,cover=km.Cover(10, 0.5)\n",
    "                   #,clusterer=sklearn.cluster.DBSCAN(eps=20, min_samples=3)\n",
    "                   ,clusterer=sklearn.cluster.KMeans(init=\"k-means++\", n_clusters=2)\n",
    "                   #,clusterer=sklearn.cluster.MeanShift(min_bin_freq=1, cluster_all=True, max_iter=300)\n",
    "                   #,clusterer=sklearn.cluster.AgglomerativeClustering(n_clusters=2, affinity='euclidean', compute_full_tree='auto', linkage='ward')\n",
    "                   #,clusterer=sklearn.cluster.SpectralClustering(n_clusters=8,n_init=10,n_neighbors=10)\n",
    "                  )\n",
    "\n",
    "# Visualize it\n",
    "html = mapper.visualize(graph,path_html=\"boston_dataset.html\",color_function=boston_prices, color_function_name=\"red\")\n",
    "\n",
    "jupyter.display(path_html=\"boston_dataset.html\")"
   ]
  },
  {
   "cell_type": "code",
   "execution_count": 9,
   "metadata": {},
   "outputs": [
    {
     "data": {
      "text/plain": [
       "<matplotlib.collections.PathCollection at 0x7f0120734680>"
      ]
     },
     "execution_count": 9,
     "metadata": {},
     "output_type": "execute_result"
    },
    {
     "data": {
      "image/png": "[encoded data removed]",
      "text/plain": [
       "<Figure size 640x480 with 1 Axes>"
      ]
     },
     "metadata": {},
     "output_type": "display_data"
    }
   ],
   "source": [
    "km.draw_matplotlib(graph, layout=\"spring\")"
   ]
  },
  {
   "cell_type": "code",
   "execution_count": null,
   "metadata": {},
   "outputs": [],
   "source": []
  }
 ],
 "metadata": {
  "kernelspec": {
   "display_name": "Python 3 (ipykernel)",
   "language": "python",
   "name": "python3"
  },
  "language_info": {
   "codemirror_mode": {
    "name": "ipython",
    "version": 3
   },
   "file_extension": ".py",
   "mimetype": "text/x-python",
   "name": "python",
   "nbconvert_exporter": "python",
   "pygments_lexer": "ipython3",
   "version": "3.12.2"
  }
 },
 "nbformat": 4,
 "nbformat_minor": 4
}
