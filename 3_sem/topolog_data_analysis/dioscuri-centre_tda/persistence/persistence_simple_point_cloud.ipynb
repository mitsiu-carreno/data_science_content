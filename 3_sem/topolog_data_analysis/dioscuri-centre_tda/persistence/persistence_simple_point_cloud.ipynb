{
 "cells": [
  {
   "cell_type": "markdown",
   "metadata": {},
   "source": [
    "In this notebook we will practice two important concepts:\n",
    "\n",
    "1) How to generate a toy point cloud and compute its persistent homology\n",
    "\n",
    "2) How persistent homology is affected by a noise (stability results we have discussed during the theoretical part)\n",
    "\n",
    "3) How to one standard distance between persistence diagram.\n",
    "\n",
    "For that aim, we will sample points (without and with a noise) from a unit circle, compute persistent homology of those two point clouds and compare them. We will observe that they are not farther away that the noise applied to the point cloud."
   ]
  },
  {
   "cell_type": "code",
   "execution_count": null,
   "metadata": {},
   "outputs": [],
   "source": [
    "import numpy as np\n",
    "import math\n",
    "import gudhi as gd\n",
    "import matplotlib.pyplot as plt\n",
    "%matplotlib inline"
   ]
  },
  {
   "cell_type": "code",
   "execution_count": null,
   "metadata": {},
   "outputs": [],
   "source": [
    "#Let us generate a point cloud sampled from a circle using ( sin(x) , cos(x) ) parametrization \n",
    "#for x \\in [0,2pi]\n",
    "\n",
    "number_of_points = 100\n",
    "dx = 2*math.pi/number_of_points\n",
    "\n",
    "pts = []\n",
    "for i in range(0,number_of_points):\n",
    "  point = [ np.sin( i*dx ) , np.cos(i*dx) ]\n",
    "  pts.append(point)"
   ]
  },
  {
   "cell_type": "code",
   "execution_count": null,
   "metadata": {},
   "outputs": [],
   "source": [
    "#Let us plot the resulting point cloud:\n",
    "points = np.array(pts)\n",
    "plt.scatter(points[:,0],points[:,1]);"
   ]
  },
  {
   "cell_type": "code",
   "execution_count": null,
   "metadata": {},
   "outputs": [],
   "source": [
    "maximal_radius = 1.8\n",
    "max_dim = 2\n",
    "rips_cmplx = gd.RipsComplex( points= pts,max_edge_length = maximal_radius ) \n",
    "simplex_tree = rips_cmplx.create_simplex_tree( max_dimension = max_dim )\n",
    "pers = simplex_tree.persistence()\n",
    "gd.plot_persistence_diagram( pers )"
   ]
  },
  {
   "cell_type": "code",
   "execution_count": null,
   "metadata": {},
   "outputs": [],
   "source": [
    "# Let us now add epsilon noise to the point cloud:\n",
    "epsilon = 0.5\n",
    "\n",
    "noisy_pts = []\n",
    "for i in range(0,number_of_points):\n",
    "  point = [ np.sin( i*dx ) + np.random.uniform(0,epsilon) , np.cos(i*dx) + np.random.uniform(0,epsilon) ]\n",
    "  noisy_pts.append(point)"
   ]
  },
  {
   "cell_type": "code",
   "execution_count": null,
   "metadata": {},
   "outputs": [],
   "source": [
    "#Let us plot the resulting point cloud:\n",
    "noisy_points = np.array(noisy_pts)\n",
    "plt.scatter(noisy_points[:,0],noisy_points[:,1])"
   ]
  },
  {
   "cell_type": "code",
   "execution_count": null,
   "metadata": {},
   "outputs": [],
   "source": [
    "noisy_rips_cmplx = gd.RipsComplex( points= noisy_pts,max_edge_length = maximal_radius ) \n",
    "noisy_simplex_tree = noisy_rips_cmplx.create_simplex_tree( max_dimension = max_dim )\n",
    "noisy_pers = noisy_simplex_tree.persistence()\n",
    "gd.plot_persistence_diagram( noisy_pers )"
   ]
  },
  {
   "cell_type": "code",
   "execution_count": null,
   "metadata": {},
   "outputs": [],
   "source": [
    "diag0 = simplex_tree.persistence_intervals_in_dimension(0)\n",
    "noisy_diag0 = noisy_simplex_tree.persistence_intervals_in_dimension(0) \n",
    "gd.bottleneck_distance(diag0,noisy_diag0)"
   ]
  },
  {
   "cell_type": "code",
   "execution_count": null,
   "metadata": {},
   "outputs": [],
   "source": [
    "diag1 = simplex_tree.persistence_intervals_in_dimension(1)\n",
    "noisy_diag1 = noisy_simplex_tree.persistence_intervals_in_dimension(1) \n",
    "gd.bottleneck_distance(diag1,noisy_diag1)"
   ]
  }
 ],
 "metadata": {
  "kernelspec": {
   "display_name": "Python 3 (ipykernel)",
   "language": "python",
   "name": "python3"
  },
  "language_info": {
   "codemirror_mode": {
    "name": "ipython",
    "version": 3
   },
   "file_extension": ".py",
   "mimetype": "text/x-python",
   "name": "python",
   "nbconvert_exporter": "python",
   "pygments_lexer": "ipython3",
   "version": "3.12.2"
  }
 },
 "nbformat": 4,
 "nbformat_minor": 4
}
