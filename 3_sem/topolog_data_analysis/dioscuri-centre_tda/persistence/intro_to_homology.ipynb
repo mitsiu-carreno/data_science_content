{
 "cells": [
  {
   "cell_type": "markdown",
   "metadata": {},
   "source": [
    "In this exercise we will build a topological space out of lego blocks - simplices. We will build a triangulation of a torus - given below. Your task is to fill in some missing parts of simplices and to compute homology of a torus. Note that torus have (1) one connected componet (2) two nontrivial cycle (3) it bounds a void inside. Can you read it off from its Betti numbers?"
   ]
  },
  {
   "cell_type": "code",
   "execution_count": 1,
   "metadata": {},
   "outputs": [],
   "source": [
    "import gudhi as gd"
   ]
  },
  {
   "cell_type": "markdown",
   "metadata": {},
   "source": [
    "#Now, let us construct a topogical space - one of the easiest, but nontrival one - a torus.\n",
    "#We will do it by explicitelly listing the simplices of the triangulation of a torus and \n",
    "#inputing them to so called simplex tree data structure (available in Gudhi)\n",
    "#Here is our triangulation:\n",
    "#   0-----3-----4-----0\n",
    "#   | \\   | \\   | \\   | \\   |\n",
    "#   |   \\ |   \\ |    \\|   \\ | \n",
    "#   1-----8-----7-----1\n",
    "#   | \\   | \\   | \\   | \\   |\n",
    "#   |   \\ |   \\ |   \\ |   \\ |\n",
    "#   2-----5-----6-----2\n",
    "#   | \\   | \\   | \\   | \\   |\n",
    "#   |   \\ |   \\ |   \\ |   \\ |\n",
    "#   0-----3-----4-----0"
   ]
  },
  {
   "cell_type": "code",
   "execution_count": 2,
   "metadata": {},
   "outputs": [
    {
     "name": "stdout",
     "output_type": "stream",
     "text": [
      "dimension= 2\n"
     ]
    }
   ],
   "source": [
    "st = gd.SimplexTree()\n",
    "st.insert([0,1,8])\n",
    "st.insert([0,3,8])\n",
    "st.insert([3,7,8])\n",
    "st.insert([3,4,7])\n",
    "st.insert([1,4,7])\n",
    "st.insert([0,1,4])\n",
    "st.insert([1,2,5])\n",
    "st.insert([1,5,8])\n",
    "st.insert([5,6,8])\n",
    "st.insert([6,7,8])\n",
    "st.insert([2,6,7])\n",
    "st.insert([1,2,7])\n",
    "st.insert([0,2,3])\n",
    "st.insert([2,3,5])\n",
    "st.insert([3,4,5])\n",
    "st.insert([4,5,6])\n",
    "st.insert([0,4,6])\n",
    "st.insert([0,2,6])\n",
    "\n",
    "print(\"dimension=\", st.dimension())\n"
   ]
  },
  {
   "cell_type": "code",
   "execution_count": 3,
   "metadata": {},
   "outputs": [
    {
     "name": "stdout",
     "output_type": "stream",
     "text": [
      "num_simplices= 54\n",
      "num_vertices= 9\n",
      "0-simplices  9\n",
      "1-simplices 27\n",
      "2-simplices 18\n"
     ]
    }
   ],
   "source": [
    "print(\"num_simplices=\", st.num_simplices())\n",
    "print(\"num_vertices=\", st.num_vertices())\n",
    "len( list(st.get_skeleton(0)) ) \n",
    "\n",
    "print(\"0-simplices \", len(list(st.get_skeleton(0))) )\n",
    "print(\"1-simplices\", len(list(st.get_skeleton(1))) - len(list(st.get_skeleton(0))) )\n",
    "print(\"2-simplices\", len(list(st.get_skeleton(2))) - len(list(st.get_skeleton(1))) )"
   ]
  },
  {
   "cell_type": "code",
   "execution_count": 4,
   "metadata": {},
   "outputs": [
    {
     "data": {
      "text/plain": [
       "[1, 2, 1]"
      ]
     },
     "execution_count": 4,
     "metadata": {},
     "output_type": "execute_result"
    }
   ],
   "source": [
    "#This is for Betti numbers computations:\n",
    "st.persistence(persistence_dim_max=True)\n",
    "st.betti_numbers()"
   ]
  },
  {
   "cell_type": "code",
   "execution_count": null,
   "metadata": {},
   "outputs": [],
   "source": []
  }
 ],
 "metadata": {
  "kernelspec": {
   "display_name": "Python 3 (ipykernel)",
   "language": "python",
   "name": "python3"
  },
  "language_info": {
   "codemirror_mode": {
    "name": "ipython",
    "version": 3
   },
   "file_extension": ".py",
   "mimetype": "text/x-python",
   "name": "python",
   "nbconvert_exporter": "python",
   "pygments_lexer": "ipython3",
   "version": "3.12.2"
  }
 },
 "nbformat": 4,
 "nbformat_minor": 4
}
