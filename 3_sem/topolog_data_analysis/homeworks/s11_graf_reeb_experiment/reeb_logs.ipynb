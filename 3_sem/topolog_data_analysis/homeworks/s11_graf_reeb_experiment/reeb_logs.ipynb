{
 "cells": [
  {
   "cell_type": "code",
   "execution_count": 1,
   "id": "6deef219-0a07-4919-956e-5bf5cb6bd9aa",
   "metadata": {},
   "outputs": [],
   "source": [
    "import pandas as pd\n",
    "import pyarrow.parquet as pq\n",
    "\n",
    "pd.set_option('display.max_rows', None)\n",
    "pd.set_option('display.max_colwidth', None)\n",
    "pd.set_option('display.max_columns', None)"
   ]
  },
  {
   "cell_type": "code",
   "execution_count": 2,
   "id": "4caf75db-2696-49de-bd74-40a62eec4f80",
   "metadata": {},
   "outputs": [
    {
     "data": {
      "text/plain": [
       "(1017176, 21)"
      ]
     },
     "execution_count": 2,
     "metadata": {},
     "output_type": "execute_result"
    }
   ],
   "source": [
    "df = pd.read_parquet(\"./full.parquet\")\n",
    "df.shape"
   ]
  },
  {
   "cell_type": "code",
   "execution_count": null,
   "id": "1c3af122-33ca-4807-9012-daa85bd2bf65",
   "metadata": {},
   "outputs": [],
   "source": [
    "df[\"date\"].unique()"
   ]
  },
  {
   "cell_type": "code",
   "execution_count": null,
   "id": "402ade30-bcda-4d1f-a779-91f2462dac5e",
   "metadata": {},
   "outputs": [],
   "source": [
    "ax = df.groupby(\"date\")[\"remote_addr\"].count().plot(figsize=(10,5))\n",
    "ax.set_xlabel(\"Fecha\")\n",
    "ax.set_ylabel(\"Num peticiones\")"
   ]
  },
  {
   "cell_type": "code",
   "execution_count": 6,
   "id": "bef0b848-fd12-4ff3-81a3-a1f2d4c2e7fe",
   "metadata": {},
   "outputs": [
    {
     "data": {
      "text/html": [
       "<div>\n",
       "<style scoped>\n",
       "    .dataframe tbody tr th:only-of-type {\n",
       "        vertical-align: middle;\n",
       "    }\n",
       "\n",
       "    .dataframe tbody tr th {\n",
       "        vertical-align: top;\n",
       "    }\n",
       "\n",
       "    .dataframe thead th {\n",
       "        text-align: right;\n",
       "    }\n",
       "</style>\n",
       "<table border=\"1\" class=\"dataframe\">\n",
       "  <thead>\n",
       "    <tr style=\"text-align: right;\">\n",
       "      <th></th>\n",
       "      <th>remote_addr</th>\n",
       "      <th>remote_usr</th>\n",
       "      <th>date_time</th>\n",
       "      <th>date</th>\n",
       "      <th>time</th>\n",
       "      <th>request</th>\n",
       "      <th>req_method</th>\n",
       "      <th>req_uri</th>\n",
       "      <th>http_ver</th>\n",
       "      <th>status</th>\n",
       "      <th>body_bytes_sent</th>\n",
       "      <th>http_referer</th>\n",
       "      <th>user_agent</th>\n",
       "      <th>dec_req_uri</th>\n",
       "      <th>clean_path</th>\n",
       "      <th>clean_query_list</th>\n",
       "      <th>domain</th>\n",
       "      <th>fdate</th>\n",
       "      <th>dateunixtimest</th>\n",
       "      <th>ftime</th>\n",
       "      <th>fabstime</th>\n",
       "      <th>fdatetime</th>\n",
       "    </tr>\n",
       "  </thead>\n",
       "  <tbody>\n",
       "    <tr>\n",
       "      <th>0</th>\n",
       "      <td>185.213.174.190</td>\n",
       "      <td>-</td>\n",
       "      <td>[27/Jun/2023:07:12:12 -0600]</td>\n",
       "      <td>27/Jun/2023</td>\n",
       "      <td>07:12:12</td>\n",
       "      <td>\"GET / HTTP/1.1\"</td>\n",
       "      <td>GET</td>\n",
       "      <td>/</td>\n",
       "      <td>HTTP/1.1</td>\n",
       "      <td>502.0</td>\n",
       "      <td>575.0</td>\n",
       "      <td>-</td>\n",
       "      <td>Mozilla/5.0 (Windows NT 10.0; Win64; x64) AppleWebKit/537.36 (KHTML, like Gecko) Chrome/106.0.0.0 Safari/537.36</td>\n",
       "      <td>/</td>\n",
       "      <td>/</td>\n",
       "      <td>[]</td>\n",
       "      <td></td>\n",
       "      <td>2023-06-27</td>\n",
       "      <td>1.687824e+09</td>\n",
       "      <td>07:12:12</td>\n",
       "      <td>7.2</td>\n",
       "      <td>2023-06-27 07:12:12</td>\n",
       "    </tr>\n",
       "    <tr>\n",
       "      <th>1</th>\n",
       "      <td>185.213.174.190</td>\n",
       "      <td>-</td>\n",
       "      <td>[27/Jun/2023:07:12:12 -0600]</td>\n",
       "      <td>27/Jun/2023</td>\n",
       "      <td>07:12:12</td>\n",
       "      <td>\"GET /index.php?s=/index/think%5Capp/invokeMethod&amp;method[0]=think%5Cview%5Cdriver%5CPhp&amp;method[1]=display&amp;vars[0]=%3C?php%20echo%20md5(%271f3870be274f6c49b3e31a0c6728957f%27); HTTP/1.1\"</td>\n",
       "      <td>GET</td>\n",
       "      <td>/index.php?s=/index/think%5Capp/invokeMethod&amp;method[0]=think%5Cview%5Cdriver%5CPhp&amp;method[1]=display&amp;vars[0]=%3C?php%20echo%20md5(%271f3870be274f6c49b3e31a0c6728957f%27);</td>\n",
       "      <td>HTTP/1.1</td>\n",
       "      <td>502.0</td>\n",
       "      <td>575.0</td>\n",
       "      <td>-</td>\n",
       "      <td>Mozilla/5.0 (Windows NT 10.0; Win64; x64) AppleWebKit/537.36 (KHTML, like Gecko) Chrome/106.0.0.0 Safari/537.36</td>\n",
       "      <td>/index.php?s=/index/think\\app/invokeMethod&amp;method[0]=think\\view\\driver\\Php&amp;method[1]=display&amp;vars[0]=&lt;?php echo md5('1f3870be274f6c49b3e31a0c6728957f');</td>\n",
       "      <td>/index.php</td>\n",
       "      <td>[[s, /index/think\\app/invokeMethod], [method[0], think\\view\\driver\\Php], [method[1], display], [vars[0], &lt;?php echo md5('1f3870be274f6c49b3e31a0c6728957f');]]</td>\n",
       "      <td></td>\n",
       "      <td>2023-06-27</td>\n",
       "      <td>1.687824e+09</td>\n",
       "      <td>07:12:12</td>\n",
       "      <td>7.2</td>\n",
       "      <td>2023-06-27 07:12:12</td>\n",
       "    </tr>\n",
       "    <tr>\n",
       "      <th>2</th>\n",
       "      <td>185.213.174.190</td>\n",
       "      <td>-</td>\n",
       "      <td>[27/Jun/2023:07:12:13 -0600]</td>\n",
       "      <td>27/Jun/2023</td>\n",
       "      <td>07:12:13</td>\n",
       "      <td>\"GET /index.php?s=/admin/think%5Capp/invokeMethod&amp;method[0]=think%5Cview%5Cdriver%5CPhp&amp;method[1]=display&amp;vars[0]=%3C?php%20echo%20md5(%271f3870be274f6c49b3e31a0c6728957f%27); HTTP/1.1\"</td>\n",
       "      <td>GET</td>\n",
       "      <td>/index.php?s=/admin/think%5Capp/invokeMethod&amp;method[0]=think%5Cview%5Cdriver%5CPhp&amp;method[1]=display&amp;vars[0]=%3C?php%20echo%20md5(%271f3870be274f6c49b3e31a0c6728957f%27);</td>\n",
       "      <td>HTTP/1.1</td>\n",
       "      <td>502.0</td>\n",
       "      <td>575.0</td>\n",
       "      <td>-</td>\n",
       "      <td>Mozilla/5.0 (Windows NT 10.0; Win64; x64) AppleWebKit/537.36 (KHTML, like Gecko) Chrome/106.0.0.0 Safari/537.36</td>\n",
       "      <td>/index.php?s=/admin/think\\app/invokeMethod&amp;method[0]=think\\view\\driver\\Php&amp;method[1]=display&amp;vars[0]=&lt;?php echo md5('1f3870be274f6c49b3e31a0c6728957f');</td>\n",
       "      <td>/index.php</td>\n",
       "      <td>[[s, /admin/think\\app/invokeMethod], [method[0], think\\view\\driver\\Php], [method[1], display], [vars[0], &lt;?php echo md5('1f3870be274f6c49b3e31a0c6728957f');]]</td>\n",
       "      <td></td>\n",
       "      <td>2023-06-27</td>\n",
       "      <td>1.687824e+09</td>\n",
       "      <td>07:12:13</td>\n",
       "      <td>7.2</td>\n",
       "      <td>2023-06-27 07:12:13</td>\n",
       "    </tr>\n",
       "    <tr>\n",
       "      <th>3</th>\n",
       "      <td>185.213.174.190</td>\n",
       "      <td>-</td>\n",
       "      <td>[27/Jun/2023:07:12:14 -0600]</td>\n",
       "      <td>27/Jun/2023</td>\n",
       "      <td>07:12:14</td>\n",
       "      <td>\"GET /index.php?s=/api/think%5Capp/invokeMethod&amp;method[0]=think%5Cview%5Cdriver%5CPhp&amp;method[1]=display&amp;vars[0]=%3C?php%20echo%20md5(%271f3870be274f6c49b3e31a0c6728957f%27); HTTP/1.1\"</td>\n",
       "      <td>GET</td>\n",
       "      <td>/index.php?s=/api/think%5Capp/invokeMethod&amp;method[0]=think%5Cview%5Cdriver%5CPhp&amp;method[1]=display&amp;vars[0]=%3C?php%20echo%20md5(%271f3870be274f6c49b3e31a0c6728957f%27);</td>\n",
       "      <td>HTTP/1.1</td>\n",
       "      <td>502.0</td>\n",
       "      <td>575.0</td>\n",
       "      <td>-</td>\n",
       "      <td>Mozilla/5.0 (Windows NT 10.0; Win64; x64) AppleWebKit/537.36 (KHTML, like Gecko) Chrome/106.0.0.0 Safari/537.36</td>\n",
       "      <td>/index.php?s=/api/think\\app/invokeMethod&amp;method[0]=think\\view\\driver\\Php&amp;method[1]=display&amp;vars[0]=&lt;?php echo md5('1f3870be274f6c49b3e31a0c6728957f');</td>\n",
       "      <td>/index.php</td>\n",
       "      <td>[[s, /api/think\\app/invokeMethod], [method[0], think\\view\\driver\\Php], [method[1], display], [vars[0], &lt;?php echo md5('1f3870be274f6c49b3e31a0c6728957f');]]</td>\n",
       "      <td></td>\n",
       "      <td>2023-06-27</td>\n",
       "      <td>1.687824e+09</td>\n",
       "      <td>07:12:14</td>\n",
       "      <td>7.2</td>\n",
       "      <td>2023-06-27 07:12:14</td>\n",
       "    </tr>\n",
       "    <tr>\n",
       "      <th>4</th>\n",
       "      <td>185.213.174.190</td>\n",
       "      <td>-</td>\n",
       "      <td>[27/Jun/2023:07:12:14 -0600]</td>\n",
       "      <td>27/Jun/2023</td>\n",
       "      <td>07:12:14</td>\n",
       "      <td>\"GET /index.php?s=/home/think%5Capp/invokeMethod&amp;method[0]=think%5Cview%5Cdriver%5CPhp&amp;method[1]=display&amp;vars[0]=%3C?php%20echo%20md5(%271f3870be274f6c49b3e31a0c6728957f%27); HTTP/1.1\"</td>\n",
       "      <td>GET</td>\n",
       "      <td>/index.php?s=/home/think%5Capp/invokeMethod&amp;method[0]=think%5Cview%5Cdriver%5CPhp&amp;method[1]=display&amp;vars[0]=%3C?php%20echo%20md5(%271f3870be274f6c49b3e31a0c6728957f%27);</td>\n",
       "      <td>HTTP/1.1</td>\n",
       "      <td>502.0</td>\n",
       "      <td>575.0</td>\n",
       "      <td>-</td>\n",
       "      <td>Mozilla/5.0 (Windows NT 10.0; Win64; x64) AppleWebKit/537.36 (KHTML, like Gecko) Chrome/106.0.0.0 Safari/537.36</td>\n",
       "      <td>/index.php?s=/home/think\\app/invokeMethod&amp;method[0]=think\\view\\driver\\Php&amp;method[1]=display&amp;vars[0]=&lt;?php echo md5('1f3870be274f6c49b3e31a0c6728957f');</td>\n",
       "      <td>/index.php</td>\n",
       "      <td>[[s, /home/think\\app/invokeMethod], [method[0], think\\view\\driver\\Php], [method[1], display], [vars[0], &lt;?php echo md5('1f3870be274f6c49b3e31a0c6728957f');]]</td>\n",
       "      <td></td>\n",
       "      <td>2023-06-27</td>\n",
       "      <td>1.687824e+09</td>\n",
       "      <td>07:12:14</td>\n",
       "      <td>7.2</td>\n",
       "      <td>2023-06-27 07:12:14</td>\n",
       "    </tr>\n",
       "  </tbody>\n",
       "</table>\n",
       "</div>"
      ],
      "text/plain": [
       "       remote_addr remote_usr                     date_time         date  \\\n",
       "0  185.213.174.190          -  [27/Jun/2023:07:12:12 -0600]  27/Jun/2023   \n",
       "1  185.213.174.190          -  [27/Jun/2023:07:12:12 -0600]  27/Jun/2023   \n",
       "2  185.213.174.190          -  [27/Jun/2023:07:12:13 -0600]  27/Jun/2023   \n",
       "3  185.213.174.190          -  [27/Jun/2023:07:12:14 -0600]  27/Jun/2023   \n",
       "4  185.213.174.190          -  [27/Jun/2023:07:12:14 -0600]  27/Jun/2023   \n",
       "\n",
       "       time  \\\n",
       "0  07:12:12   \n",
       "1  07:12:12   \n",
       "2  07:12:13   \n",
       "3  07:12:14   \n",
       "4  07:12:14   \n",
       "\n",
       "                                                                                                                                                                                     request  \\\n",
       "0                                                                                                                                                                           \"GET / HTTP/1.1\"   \n",
       "1  \"GET /index.php?s=/index/think%5Capp/invokeMethod&method[0]=think%5Cview%5Cdriver%5CPhp&method[1]=display&vars[0]=%3C?php%20echo%20md5(%271f3870be274f6c49b3e31a0c6728957f%27); HTTP/1.1\"   \n",
       "2  \"GET /index.php?s=/admin/think%5Capp/invokeMethod&method[0]=think%5Cview%5Cdriver%5CPhp&method[1]=display&vars[0]=%3C?php%20echo%20md5(%271f3870be274f6c49b3e31a0c6728957f%27); HTTP/1.1\"   \n",
       "3    \"GET /index.php?s=/api/think%5Capp/invokeMethod&method[0]=think%5Cview%5Cdriver%5CPhp&method[1]=display&vars[0]=%3C?php%20echo%20md5(%271f3870be274f6c49b3e31a0c6728957f%27); HTTP/1.1\"   \n",
       "4   \"GET /index.php?s=/home/think%5Capp/invokeMethod&method[0]=think%5Cview%5Cdriver%5CPhp&method[1]=display&vars[0]=%3C?php%20echo%20md5(%271f3870be274f6c49b3e31a0c6728957f%27); HTTP/1.1\"   \n",
       "\n",
       "  req_method  \\\n",
       "0        GET   \n",
       "1        GET   \n",
       "2        GET   \n",
       "3        GET   \n",
       "4        GET   \n",
       "\n",
       "                                                                                                                                                                      req_uri  \\\n",
       "0                                                                                                                                                                           /   \n",
       "1  /index.php?s=/index/think%5Capp/invokeMethod&method[0]=think%5Cview%5Cdriver%5CPhp&method[1]=display&vars[0]=%3C?php%20echo%20md5(%271f3870be274f6c49b3e31a0c6728957f%27);   \n",
       "2  /index.php?s=/admin/think%5Capp/invokeMethod&method[0]=think%5Cview%5Cdriver%5CPhp&method[1]=display&vars[0]=%3C?php%20echo%20md5(%271f3870be274f6c49b3e31a0c6728957f%27);   \n",
       "3    /index.php?s=/api/think%5Capp/invokeMethod&method[0]=think%5Cview%5Cdriver%5CPhp&method[1]=display&vars[0]=%3C?php%20echo%20md5(%271f3870be274f6c49b3e31a0c6728957f%27);   \n",
       "4   /index.php?s=/home/think%5Capp/invokeMethod&method[0]=think%5Cview%5Cdriver%5CPhp&method[1]=display&vars[0]=%3C?php%20echo%20md5(%271f3870be274f6c49b3e31a0c6728957f%27);   \n",
       "\n",
       "   http_ver  status  body_bytes_sent http_referer  \\\n",
       "0  HTTP/1.1   502.0            575.0            -   \n",
       "1  HTTP/1.1   502.0            575.0            -   \n",
       "2  HTTP/1.1   502.0            575.0            -   \n",
       "3  HTTP/1.1   502.0            575.0            -   \n",
       "4  HTTP/1.1   502.0            575.0            -   \n",
       "\n",
       "                                                                                                        user_agent  \\\n",
       "0  Mozilla/5.0 (Windows NT 10.0; Win64; x64) AppleWebKit/537.36 (KHTML, like Gecko) Chrome/106.0.0.0 Safari/537.36   \n",
       "1  Mozilla/5.0 (Windows NT 10.0; Win64; x64) AppleWebKit/537.36 (KHTML, like Gecko) Chrome/106.0.0.0 Safari/537.36   \n",
       "2  Mozilla/5.0 (Windows NT 10.0; Win64; x64) AppleWebKit/537.36 (KHTML, like Gecko) Chrome/106.0.0.0 Safari/537.36   \n",
       "3  Mozilla/5.0 (Windows NT 10.0; Win64; x64) AppleWebKit/537.36 (KHTML, like Gecko) Chrome/106.0.0.0 Safari/537.36   \n",
       "4  Mozilla/5.0 (Windows NT 10.0; Win64; x64) AppleWebKit/537.36 (KHTML, like Gecko) Chrome/106.0.0.0 Safari/537.36   \n",
       "\n",
       "                                                                                                                                                dec_req_uri  \\\n",
       "0                                                                                                                                                         /   \n",
       "1  /index.php?s=/index/think\\app/invokeMethod&method[0]=think\\view\\driver\\Php&method[1]=display&vars[0]=<?php echo md5('1f3870be274f6c49b3e31a0c6728957f');   \n",
       "2  /index.php?s=/admin/think\\app/invokeMethod&method[0]=think\\view\\driver\\Php&method[1]=display&vars[0]=<?php echo md5('1f3870be274f6c49b3e31a0c6728957f');   \n",
       "3    /index.php?s=/api/think\\app/invokeMethod&method[0]=think\\view\\driver\\Php&method[1]=display&vars[0]=<?php echo md5('1f3870be274f6c49b3e31a0c6728957f');   \n",
       "4   /index.php?s=/home/think\\app/invokeMethod&method[0]=think\\view\\driver\\Php&method[1]=display&vars[0]=<?php echo md5('1f3870be274f6c49b3e31a0c6728957f');   \n",
       "\n",
       "   clean_path  \\\n",
       "0           /   \n",
       "1  /index.php   \n",
       "2  /index.php   \n",
       "3  /index.php   \n",
       "4  /index.php   \n",
       "\n",
       "                                                                                                                                                 clean_query_list  \\\n",
       "0                                                                                                                                                              []   \n",
       "1  [[s, /index/think\\app/invokeMethod], [method[0], think\\view\\driver\\Php], [method[1], display], [vars[0], <?php echo md5('1f3870be274f6c49b3e31a0c6728957f');]]   \n",
       "2  [[s, /admin/think\\app/invokeMethod], [method[0], think\\view\\driver\\Php], [method[1], display], [vars[0], <?php echo md5('1f3870be274f6c49b3e31a0c6728957f');]]   \n",
       "3    [[s, /api/think\\app/invokeMethod], [method[0], think\\view\\driver\\Php], [method[1], display], [vars[0], <?php echo md5('1f3870be274f6c49b3e31a0c6728957f');]]   \n",
       "4   [[s, /home/think\\app/invokeMethod], [method[0], think\\view\\driver\\Php], [method[1], display], [vars[0], <?php echo md5('1f3870be274f6c49b3e31a0c6728957f');]]   \n",
       "\n",
       "  domain      fdate  dateunixtimest     ftime  fabstime           fdatetime  \n",
       "0        2023-06-27    1.687824e+09  07:12:12       7.2 2023-06-27 07:12:12  \n",
       "1        2023-06-27    1.687824e+09  07:12:12       7.2 2023-06-27 07:12:12  \n",
       "2        2023-06-27    1.687824e+09  07:12:13       7.2 2023-06-27 07:12:13  \n",
       "3        2023-06-27    1.687824e+09  07:12:14       7.2 2023-06-27 07:12:14  \n",
       "4        2023-06-27    1.687824e+09  07:12:14       7.2 2023-06-27 07:12:14  "
      ]
     },
     "execution_count": 6,
     "metadata": {},
     "output_type": "execute_result"
    }
   ],
   "source": [
    "df.head()"
   ]
  },
  {
   "cell_type": "code",
   "execution_count": 5,
   "id": "0e020fc5-e3ab-4395-bd8e-36907cc60855",
   "metadata": {},
   "outputs": [
    {
     "data": {
      "text/plain": [
       "['remote_addr',\n",
       " 'remote_usr',\n",
       " 'date_time',\n",
       " 'date',\n",
       " 'time',\n",
       " 'request',\n",
       " 'req_method',\n",
       " 'req_uri',\n",
       " 'http_ver',\n",
       " 'status',\n",
       " 'body_bytes_sent',\n",
       " 'http_referer',\n",
       " 'user_agent',\n",
       " 'dec_req_uri',\n",
       " 'clean_path',\n",
       " 'clean_query_list',\n",
       " 'domain',\n",
       " 'fdate',\n",
       " 'dateunixtimest',\n",
       " 'ftime',\n",
       " 'fabstime',\n",
       " 'fdatetime']"
      ]
     },
     "execution_count": 5,
     "metadata": {},
     "output_type": "execute_result"
    }
   ],
   "source": [
    "list(df)"
   ]
  },
  {
   "cell_type": "code",
   "execution_count": null,
   "id": "42875708-4192-43fb-893e-d3ed90681fb0",
   "metadata": {},
   "outputs": [],
   "source": [
    "df.dtypes"
   ]
  },
  {
   "cell_type": "code",
   "execution_count": null,
   "id": "d58d740c-1502-45a4-83f7-1e9f820e9cde",
   "metadata": {},
   "outputs": [],
   "source": [
    "cols_interest = [\"remote_usr\", \"http_ver\"]\n",
    "# Imprimimos los distintos valores que tiene cada columna\n",
    "print(pd.Series({col: df[col].unique() for col in cols_interest }))"
   ]
  },
  {
   "cell_type": "code",
   "execution_count": null,
   "id": "3677cfc6-26e0-404f-ad75-2c5265a9e9ff",
   "metadata": {},
   "outputs": [],
   "source": [
    "#print(df.groupby('http_referer')['http_referer'].count())"
   ]
  },
  {
   "cell_type": "code",
   "execution_count": null,
   "id": "489e7693-a017-407c-9775-d1e20e8b60d5",
   "metadata": {},
   "outputs": [],
   "source": [
    "df[\"http_referer\"].head(3000).unique()"
   ]
  },
  {
   "cell_type": "markdown",
   "id": "884f2a95-b75f-49cf-884a-b600354f3eb1",
   "metadata": {},
   "source": [
    "### One-Hot encoding req_method"
   ]
  },
  {
   "cell_type": "code",
   "execution_count": null,
   "id": "dd309be6-c058-49a5-8113-be4502b5d3a4",
   "metadata": {},
   "outputs": [],
   "source": [
    "df[\"dec_req_uri\"].head(300).unique()"
   ]
  },
  {
   "cell_type": "code",
   "execution_count": null,
   "id": "07b1d303-e109-4a90-8ce1-ee671bc9994c",
   "metadata": {},
   "outputs": [],
   "source": [
    "df[\"domain\"].unique()"
   ]
  },
  {
   "cell_type": "code",
   "execution_count": null,
   "id": "c0aa30cc-67e2-436b-ad95-05568a03ec04",
   "metadata": {},
   "outputs": [],
   "source": [
    "df.query(\"domain == ''\").head(100)"
   ]
  },
  {
   "cell_type": "code",
   "execution_count": null,
   "id": "bcf8c992-e061-4e60-9ec1-e61eb1a56365",
   "metadata": {},
   "outputs": [],
   "source": [
    "df.dtypes"
   ]
  },
  {
   "cell_type": "code",
   "execution_count": null,
   "id": "f96d9336-60a6-4296-a825-fd2a1937ad4a",
   "metadata": {},
   "outputs": [],
   "source": [
    "df.shape"
   ]
  },
  {
   "cell_type": "code",
   "execution_count": null,
   "id": "1a17a30c-fff7-4155-8ed5-30ab2cb63ef5",
   "metadata": {},
   "outputs": [],
   "source": [
    "df[\"date_time\"].nunique()\n"
   ]
  },
  {
   "cell_type": "code",
   "execution_count": 3,
   "id": "7e4b8809-5878-4c75-8165-64fa57955432",
   "metadata": {},
   "outputs": [],
   "source": [
    "from datetime import datetime\n",
    "df.loc[:, 'fdatetime'] = df['date_time'].apply(lambda x: datetime.strptime(x, '[%d/%b/%Y:%H:%M:%S -0600]'))"
   ]
  },
  {
   "cell_type": "code",
   "execution_count": null,
   "id": "7fe563d2-c7d0-49bc-bec2-9b43d76fba3e",
   "metadata": {},
   "outputs": [],
   "source": [
    "df[[\"fdatetime\", \"date_time\"]].head()"
   ]
  },
  {
   "cell_type": "code",
   "execution_count": null,
   "id": "699f9315-1833-41a7-a6ef-cc9bb211e817",
   "metadata": {},
   "outputs": [],
   "source": [
    "df[\"fdatetime\"].nunique()"
   ]
  },
  {
   "cell_type": "code",
   "execution_count": null,
   "id": "fcd398ad-f877-402b-a5f4-8cd53a6dfee5",
   "metadata": {},
   "outputs": [],
   "source": [
    "#df_test = df.groupby(['date_time']).size()"
   ]
  },
  {
   "cell_type": "code",
   "execution_count": null,
   "id": "1f27b448-2515-40cd-95d8-1968a5c78e9a",
   "metadata": {},
   "outputs": [],
   "source": [
    "#df_test"
   ]
  },
  {
   "cell_type": "code",
   "execution_count": null,
   "id": "6361d69f-e099-4fd3-8973-91352135f21a",
   "metadata": {},
   "outputs": [],
   "source": [
    "df.query(\"date_time == '[13/Jun/2023:05:06:49 -0600]'\")[[\"date_time\", \"fdatetime\", \"body_bytes_sent\"]]"
   ]
  },
  {
   "cell_type": "code",
   "execution_count": null,
   "id": "d380b6ef-e554-42fa-8cfd-3a1d803c8235",
   "metadata": {},
   "outputs": [],
   "source": [
    "df_test = df.groupby(['fdatetime'], as_index=False).sum([\"body_bytes_sent\"])"
   ]
  },
  {
   "cell_type": "code",
   "execution_count": null,
   "id": "d14c339d-4a3d-4f5a-b5b3-a26f8a2a3252",
   "metadata": {},
   "outputs": [],
   "source": [
    "df_test.head(250)"
   ]
  },
  {
   "cell_type": "code",
   "execution_count": null,
   "id": "df710238-43e5-482a-a500-35373b0fa195",
   "metadata": {},
   "outputs": [],
   "source": [
    "df[\"date\"].unique()"
   ]
  },
  {
   "cell_type": "code",
   "execution_count": null,
   "id": "4ffc3658-00c9-4459-97f2-9035509c888f",
   "metadata": {},
   "outputs": [],
   "source": [
    "#df.query(\"date == '24/Mar/2023'\")[\"date_time\"]"
   ]
  },
  {
   "cell_type": "code",
   "execution_count": null,
   "id": "caa856f3-4ecc-4593-9d17-b3cbc1b4c2ee",
   "metadata": {},
   "outputs": [],
   "source": [
    "df_test.query(\"fdatetime == '2023-06-13 05:06:49'\")"
   ]
  },
  {
   "cell_type": "code",
   "execution_count": null,
   "id": "a275f57d-2da3-4d29-b668-d4437459e4dd",
   "metadata": {},
   "outputs": [],
   "source": [
    "df_test.dtypes"
   ]
  },
  {
   "cell_type": "code",
   "execution_count": null,
   "id": "ac7a706b-1f7e-4dc6-9812-266a45f22ec9",
   "metadata": {},
   "outputs": [],
   "source": [
    "import matplotlib.pyplot as plt\n",
    "\n",
    "plt.xticks(rotation=90)\n",
    "plt.rcParams['figure.figsize'] = [18, 7]\n",
    "plt.locator_params(axis='y', nbins=10)\n",
    "plt.scatter(df_test.query(\"fdatetime > '2023-06-01 00:00:00'\")[\"fdatetime\"], \n",
    "            df_test.query(\"fdatetime > '2023-06-01 00:00:00'\")[\"body_bytes_sent\"])\n",
    "plt.title('Distribución de trafico por dia y hora')\n",
    "plt.xlabel('Fecha')\n",
    "plt.ylabel('Cantidad de bytes')"
   ]
  },
  {
   "cell_type": "code",
   "execution_count": null,
   "id": "05d31c6b-c218-47c8-a840-59e37042593c",
   "metadata": {},
   "outputs": [],
   "source": []
  },
  {
   "cell_type": "code",
   "execution_count": null,
   "id": "57977eb9-b35b-4d6d-8748-99e8ec57d69b",
   "metadata": {},
   "outputs": [],
   "source": [
    "\n",
    "plt.xticks(rotation=90)\n",
    "plt.rcParams['figure.figsize'] = [18, 12]\n",
    "plt.locator_params(axis='y', nbins=10)\n",
    "plt.scatter(df_test.query(\"fdatetime > '2023-06-14 00:00:00' and fdatetime < '2023-06-15 00:00:00'\")[\"fdatetime\"], \n",
    "            df_test.query(\"fdatetime > '2023-06-14 00:00:00' and fdatetime < '2023-06-15 00:00:00'\")[\"body_bytes_sent\"])\n",
    "plt.title('Distribución de trafico por dia y hora')\n",
    "plt.xlabel('Fecha')\n",
    "plt.ylabel('Hora (normalizada)')"
   ]
  },
  {
   "cell_type": "code",
   "execution_count": null,
   "id": "a00cb974-e2eb-4ef4-9e3f-be8c810b6d97",
   "metadata": {},
   "outputs": [],
   "source": [
    "max(df_test[\"body_bytes_sent\"])"
   ]
  },
  {
   "cell_type": "code",
   "execution_count": null,
   "id": "a70e7599-c891-464d-abda-f0c6048c7251",
   "metadata": {},
   "outputs": [],
   "source": [
    "min(df_test[\"body_bytes_sent\"])"
   ]
  },
  {
   "cell_type": "code",
   "execution_count": null,
   "id": "82f64a64-d643-4102-9121-5b68ac8ff31e",
   "metadata": {},
   "outputs": [],
   "source": [
    "import numpy as np\n",
    "np.quantile(df_test[\"body_bytes_sent\"], [0.25, 0.5, 0.75])"
   ]
  },
  {
   "cell_type": "code",
   "execution_count": null,
   "id": "b2767a0d-47db-40c1-98c7-49ca601926a7",
   "metadata": {},
   "outputs": [],
   "source": []
  },
  {
   "cell_type": "code",
   "execution_count": null,
   "id": "67fb9730-a9c4-4ce6-9248-2874bbcb7875",
   "metadata": {},
   "outputs": [],
   "source": [
    "pd.crosstab(df.query(\"domain == 'intranet.upa.edu.mx'\")[\"clean_path\"], df.query(\"domain == 'intranet.upa.edu.mx'\")[\"fdate\"])"
   ]
  },
  {
   "cell_type": "code",
   "execution_count": null,
   "id": "5278962b-3a3e-41d3-84dd-9f599140b568",
   "metadata": {},
   "outputs": [],
   "source": [
    "#pd.crosstab(df.query(\"domain == 'intranet.upa.edu.mx'\")[\"clean_path\"], df.query(\"domain == 'intranet.upa.edu.mx'\")[\"http_referer\"])"
   ]
  },
  {
   "cell_type": "code",
   "execution_count": null,
   "id": "7c2618ed-b53b-45fc-81df-c6074f748820",
   "metadata": {},
   "outputs": [],
   "source": [
    "pd.crosstab(df.query(\"domain == 'intranet.upa.edu.mx'\")[\"clean_path\"], df.query(\"domain == 'intranet.upa.edu.mx'\")[\"domain\"])"
   ]
  },
  {
   "cell_type": "markdown",
   "id": "b2ac28f5-c9a7-4e98-834b-06d8491da27e",
   "metadata": {},
   "source": [
    "Gráficando para visualizar tendencias"
   ]
  },
  {
   "cell_type": "code",
   "execution_count": null,
   "id": "3b9505f2-8907-4957-b21a-3e62a3a154d1",
   "metadata": {},
   "outputs": [],
   "source": [
    "cross1 = pd.crosstab(df.query(\"domain == 'intranet.upa.edu.mx'\")[\"clean_path\"], df.query(\"domain == 'intranet.upa.edu.mx'\")[\"fdate\"])"
   ]
  },
  {
   "cell_type": "code",
   "execution_count": null,
   "id": "9052599a-943b-4571-8f1c-4fcd86c43118",
   "metadata": {},
   "outputs": [],
   "source": [
    "pl = cross1.plot(kind=\"bar\", stacked=True, rot=0)"
   ]
  },
  {
   "cell_type": "code",
   "execution_count": null,
   "id": "dc88d769-ceba-4fce-8775-7777ab0a701c",
   "metadata": {},
   "outputs": [],
   "source": [
    "cross2 = pd.crosstab(df[\"domain\"], df[\"clean_path\"])"
   ]
  },
  {
   "cell_type": "code",
   "execution_count": null,
   "id": "7f3540e5-591e-43bd-9d0e-ba9af38b5a73",
   "metadata": {},
   "outputs": [],
   "source": [
    "#Too long\n",
    "#pl = cross2.plot(kind=\"bar\", stacked=True, rot=0)"
   ]
  },
  {
   "cell_type": "code",
   "execution_count": null,
   "id": "0d093b3d-2291-4847-805e-2683e9b39248",
   "metadata": {},
   "outputs": [],
   "source": []
  },
  {
   "cell_type": "code",
   "execution_count": null,
   "id": "9a31a2f0-0fa8-408c-98a0-f2454110521a",
   "metadata": {},
   "outputs": [],
   "source": []
  },
  {
   "cell_type": "code",
   "execution_count": null,
   "id": "2b837cad-7340-4986-a0e6-48a8d272a513",
   "metadata": {},
   "outputs": [],
   "source": []
  },
  {
   "cell_type": "code",
   "execution_count": null,
   "id": "3886e4b2-5908-4c01-81a7-308b98046f0f",
   "metadata": {},
   "outputs": [],
   "source": []
  },
  {
   "cell_type": "code",
   "execution_count": null,
   "id": "46ef0b1b-c3d4-4452-970d-318a58148de2",
   "metadata": {},
   "outputs": [],
   "source": []
  },
  {
   "cell_type": "code",
   "execution_count": null,
   "id": "74a46e64-a43f-4f6b-84a1-dde479045423",
   "metadata": {},
   "outputs": [],
   "source": []
  },
  {
   "cell_type": "code",
   "execution_count": 4,
   "id": "334e7100-f6f8-4876-af9d-54e7d136bc79",
   "metadata": {},
   "outputs": [],
   "source": [
    "import kmapper as km\n",
    "from kmapper import jupyter \n",
    "import numpy as np\n",
    "import sklearn\n",
    "import matplotlib.pyplot as plt"
   ]
  },
  {
   "cell_type": "code",
   "execution_count": 7,
   "id": "d03d9d70-b5a2-44e2-8155-f2480a6a2ab6",
   "metadata": {},
   "outputs": [],
   "source": [
    "data = df.query(\"fdatetime > '2023-06-14 00:00:00' and fdatetime < '2023-06-15 00:00:00' and domain == 'intranet.upa.edu.mx'\")[[\"fabstime\", \"body_bytes_sent\"]].to_numpy()"
   ]
  },
  {
   "cell_type": "code",
   "execution_count": 29,
   "id": "d2f8ff7f-3652-4e77-8551-c2c518632009",
   "metadata": {},
   "outputs": [],
   "source": [
    "data = df.query(\"fdatetime > '2023-06-14 00:00:00' and fdatetime < '2023-06-15 00:00:00'\")[[\"status\", \"body_bytes_sent\"]].to_numpy()"
   ]
  },
  {
   "cell_type": "code",
   "execution_count": 8,
   "id": "0965c8ac-aaaf-4077-a216-e1515325a301",
   "metadata": {},
   "outputs": [
    {
     "data": {
      "text/plain": [
       "5950"
      ]
     },
     "execution_count": 8,
     "metadata": {},
     "output_type": "execute_result"
    }
   ],
   "source": [
    "len(data)"
   ]
  },
  {
   "cell_type": "code",
   "execution_count": 9,
   "id": "285ab78f-858a-4024-84a2-0be429d6df6a",
   "metadata": {},
   "outputs": [
    {
     "name": "stdout",
     "output_type": "stream",
     "text": [
      "KeplerMapper(verbose=1)\n"
     ]
    }
   ],
   "source": [
    "# Initialize\n",
    "mapper = km.KeplerMapper(verbose=1)\n",
    "projected_data = data[:,0]\n",
    "#projected_data = mapper.fit_transform(data, projection=[0,1])\n",
    "colouring = data[:,1]"
   ]
  },
  {
   "cell_type": "code",
   "execution_count": 10,
   "id": "2f69250c-fad2-4df1-a23d-5c8162a28ddb",
   "metadata": {},
   "outputs": [
    {
     "data": {
      "image/png": "[encoded data removed]",
      "text/plain": [
       "<Figure size 640x480 with 1 Axes>"
      ]
     },
     "metadata": {},
     "output_type": "display_data"
    }
   ],
   "source": [
    "plot = plt.scatter( data[:,0],data[:,1] )"
   ]
  },
  {
   "cell_type": "code",
   "execution_count": 18,
   "id": "9527a515-7607-425c-b7c8-6d8c96a2fc46",
   "metadata": {},
   "outputs": [
    {
     "name": "stdout",
     "output_type": "stream",
     "text": [
      "Mapping on data shaped (5950, 2) using lens shaped (5950,)\n",
      "\n",
      "Creating 10 hypercubes.\n",
      "\n",
      "Created 106 edges and 161 nodes in 0:00:00.185726.\n",
      "Wrote visualization to: test.html\n"
     ]
    },
    {
     "data": {
      "text/html": [
       "<style>\n",
       "        .container { width:100% !important; }\n",
       "        .output_scroll {height: 800px !important;}\n",
       "        </style>"
      ],
      "text/plain": [
       "<IPython.core.display.HTML object>"
      ]
     },
     "metadata": {},
     "output_type": "display_data"
    },
    {
     "name": "stderr",
     "output_type": "stream",
     "text": [
      "/home/kincaid/.local/lib/python3.12/site-packages/IPython/core/display.py:431: UserWarning: Consider using IPython.display.IFrame instead\n",
      "  warnings.warn(\"Consider using IPython.display.IFrame instead\")\n"
     ]
    },
    {
     "data": {
      "text/html": [
       "<iframe src=test.html width=100%% height=800 frameBorder=\"0\"></iframe>"
      ],
      "text/plain": [
       "<IPython.core.display.HTML object>"
      ]
     },
     "metadata": {},
     "output_type": "display_data"
    }
   ],
   "source": [
    "graph = mapper.map(projected_data,data,\n",
    "                      clusterer=sklearn.cluster.DBSCAN(eps=10, min_samples=10),\n",
    "                      cover=km.Cover(n_cubes=10))\n",
    "\n",
    "# Visualize it\n",
    "html = mapper.visualize(graph, path_html=\"test.html\",\n",
    "                 title=\"Test\")\n",
    "jupyter.display(path_html=\"test.html\")"
   ]
  },
  {
   "cell_type": "code",
   "execution_count": null,
   "id": "7ee05bdc-0e88-4af6-a916-924d879a82ac",
   "metadata": {},
   "outputs": [],
   "source": []
  }
 ],
 "metadata": {
  "kernelspec": {
   "display_name": "Python 3 (ipykernel)",
   "language": "python",
   "name": "python3"
  },
  "language_info": {
   "codemirror_mode": {
    "name": "ipython",
    "version": 3
   },
   "file_extension": ".py",
   "mimetype": "text/x-python",
   "name": "python",
   "nbconvert_exporter": "python",
   "pygments_lexer": "ipython3",
   "version": "3.12.3"
  }
 },
 "nbformat": 4,
 "nbformat_minor": 5
}
