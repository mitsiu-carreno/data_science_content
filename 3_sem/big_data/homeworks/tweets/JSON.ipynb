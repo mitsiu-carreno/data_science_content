{
 "cells": [
  {
   "cell_type": "code",
   "execution_count": null,
   "id": "0f435061",
   "metadata": {},
   "outputs": [],
   "source": [
    "# Leer json con utf8"
   ]
  },
  {
   "cell_type": "code",
   "execution_count": 1,
   "id": "4ef4bad4",
   "metadata": {},
   "outputs": [],
   "source": [
    "import json\n",
    "tweet = 'twitter-2021.03.31.json'\n",
    "cadena = \" \"\n",
    "objeto_completo = []\n",
    "# Open the file and read it line by line\n",
    "with open(tweet, 'r', encoding = \"utf-8\",errors = \"ignore\") as f:\n",
    "    for line in f:\n",
    "        try:\n",
    "            cadena = line\n",
    "            # Decode each line as a JSON object\n",
    "            json_obj = json.loads(line)\n",
    "            objeto_completo.append(json_obj)\n",
    "     # or do something with the decoded JSON object\n",
    "        except json.JSONDecodeError as e:\n",
    "            print(\"Error decoding JSON:\", e)"
   ]
  },
  {
   "cell_type": "code",
   "execution_count": 2,
   "id": "0271246d",
   "metadata": {},
   "outputs": [
    {
     "name": "stdout",
     "output_type": "stream",
     "text": [
      "{\"created_at\":\"Wed Mar 31 23:59:58 +0000 2021\",\"id\":1377410372739735553,\"id_str\":\"1377410372739735553\",\"text\":\"@21Franchini u hungry? https://t.co/2rckzqpdKm\",\"display_text_range\":[0,22],\"source\":\"<a href=\\\"http://twitter.com/download/android\\\" rel=\\\"nofollow\\\">Twitter for Android</a>\",\"truncated\":false,\"in_reply_to_status_id\":null,\"in_reply_to_status_id_str\":null,\"in_reply_to_user_id\":114896005,\"in_reply_to_user_id_str\":\"114896005\",\"in_reply_to_screen_name\":\"21Franchini\",\"user\":{\"id\":34139961,\"id_str\":\"34139961\",\"name\":\"Gram\",\"screen_name\":\"spencergram\",\"location\":null,\"url\":null,\"description\":\"🙏🏼@21franchini MI ESPOSA🤟#LostatSea #toons #tunes #ShadeTreeWriter 🎸http://youtu.be/1XEOVl875d0📻\",\"translator_type\":\"none\",\"protected\":false,\"verified\":false,\"followers_count\":11017,\"friends_count\":12073,\"listed_count\":112,\"favourites_count\":171411,\"statuses_count\":185886,\"created_at\":\"Wed Apr 22 02:03:25 +0000 2009\",\"utc_offset\":null,\"time_zone\":null,\"geo_enabled\":true,\"lang\":null,\"contributors_enabled\":false,\"is_translator\":false,\"profile_background_color\":\"C0DEED\",\"profile_background_image_url\":\"http://abs.twimg.com/images/themes/theme1/bg.png\",\"profile_background_image_url_https\":\"https://abs.twimg.com/images/themes/theme1/bg.png\",\"profile_background_tile\":false,\"profile_link_color\":\"1DA1F2\",\"profile_sidebar_border_color\":\"C0DEED\",\"profile_sidebar_fill_color\":\"DDEEF6\",\"profile_text_color\":\"333333\",\"profile_use_background_image\":true,\"profile_image_url\":\"http://pbs.twimg.com/profile_images/1333834473226514432/_2yXY6eu_normal.jpg\",\"profile_image_url_https\":\"https://pbs.twimg.com/profile_images/1333834473226514432/_2yXY6eu_normal.jpg\",\"profile_banner_url\":\"https://pbs.twimg.com/profile_banners/34139961/1560494324\",\"default_profile\":true,\"default_profile_image\":false,\"following\":null,\"follow_request_sent\":null,\"notifications\":null},\"geo\":null,\"coordinates\":null,\"place\":{\"id\":\"4ec01c9dbc693497\",\"url\":\"https://api.twitter.com/1.1/geo/id/4ec01c9dbc693497.json\",\"place_type\":\"admin\",\"name\":\"Florida\",\"full_name\":\"Florida, USA\",\"country_code\":\"US\",\"country\":\"United States\",\"bounding_box\":{\"type\":\"Polygon\",\"coordinates\":[[[-87.634643,24.396308],[-87.634643,31.001056],[-79.974307,31.001056],[-79.974307,24.396308]]]},\"attributes\":{}},\"contributors\":null,\"quoted_status_id\":1377400659964739585,\"quoted_status_id_str\":\"1377400659964739585\",\"quoted_status\":{\"created_at\":\"Wed Mar 31 23:21:22 +0000 2021\",\"id\":1377400659964739585,\"id_str\":\"1377400659964739585\",\"text\":\"@spencergram https://t.co/jfFj2h1iFT\",\"display_text_range\":[12,12],\"source\":\"<a href=\\\"http://twitter.com/download/android\\\" rel=\\\"nofollow\\\">Twitter for Android</a>\",\"truncated\":false,\"in_reply_to_status_id\":1377399540802670592,\"in_reply_to_status_id_str\":\"1377399540802670592\",\"in_reply_to_user_id\":34139961,\"in_reply_to_user_id_str\":\"34139961\",\"in_reply_to_screen_name\":\"spencergram\",\"user\":{\"id\":114896005,\"id_str\":\"114896005\",\"name\":\"Franchini Nayelli\",\"screen_name\":\"21Franchini\",\"location\":\"México\",\"url\":null,\"description\":\"🇲🇽 🇮🇹🇹🇷 🇬🇧 🎶🇺🇲✨🌹✨👈👉👉\\nMY HUSBAND  @spencergram 🤟💕💕                                                            🚫 NO PORN 🚫  @juventusfc ⚽✨✨\",\"translator_type\":\"none\",\"protected\":false,\"verified\":false,\"followers_count\":7288,\"friends_count\":5870,\"listed_count\":143,\"favourites_count\":220000,\"statuses_count\":100752,\"created_at\":\"Tue Feb 16 23:41:00 +0000 2010\",\"utc_offset\":null,\"time_zone\":null,\"geo_enabled\":false,\"lang\":null,\"contributors_enabled\":false,\"is_translator\":false,\"profile_background_color\":\"000000\",\"profile_background_image_url\":\"http://abs.twimg.com/images/themes/theme1/bg.png\",\"profile_background_image_url_https\":\"https://abs.twimg.com/images/themes/theme1/bg.png\",\"profile_background_tile\":false,\"profile_link_color\":\"1B95E0\",\"profile_sidebar_border_color\":\"000000\",\"profile_sidebar_fill_color\":\"000000\",\"profile_text_color\":\"000000\",\"profile_use_background_image\":false,\"profile_image_url\":\"http://pbs.twimg.com/profile_images/1207762651318636544/_cKRI2VM_normal.jpg\",\"profile_image_url_https\":\"https://pbs.twimg.com/profile_images/1207762651318636544/_cKRI2VM_normal.jpg\",\"profile_banner_url\":\"https://pbs.twimg.com/profile_banners/114896005/1597886279\",\"default_profile\":false,\"default_profile_image\":false,\"following\":null,\"follow_request_sent\":null,\"notifications\":null},\"geo\":null,\"coordinates\":null,\"place\":null,\"contributors\":null,\"is_quote_status\":false,\"quote_count\":0,\"reply_count\":1,\"retweet_count\":0,\"favorite_count\":1,\"entities\":{\"hashtags\":[],\"urls\":[],\"user_mentions\":[{\"screen_name\":\"spencergram\",\"name\":\"Gram\",\"id\":34139961,\"id_str\":\"34139961\",\"indices\":[0,12]}],\"symbols\":[],\"media\":[{\"id\":1377400649655148546,\"id_str\":\"1377400649655148546\",\"indices\":[13,36],\"description\":\"Hiding Under Covers Tired GIF\",\"media_url\":\"http://pbs.twimg.com/tweet_video_thumb/Ex2Cl9QWYAIthA1.jpg\",\"media_url_https\":\"https://pbs.twimg.com/tweet_video_thumb/Ex2Cl9QWYAIthA1.jpg\",\"url\":\"https://t.co/jfFj2h1iFT\",\"display_url\":\"pic.twitter.com/jfFj2h1iFT\",\"expanded_url\":\"https://twitter.com/21Franchini/status/1377400659964739585/photo/1\",\"type\":\"photo\",\"sizes\":{\"medium\":{\"w\":220,\"h\":268,\"resize\":\"fit\"},\"thumb\":{\"w\":150,\"h\":150,\"resize\":\"crop\"},\"small\":{\"w\":220,\"h\":268,\"resize\":\"fit\"},\"large\":{\"w\":220,\"h\":268,\"resize\":\"fit\"}}}]},\"extended_entities\":{\"media\":[{\"id\":1377400649655148546,\"id_str\":\"1377400649655148546\",\"indices\":[13,36],\"description\":\"Hiding Under Covers Tired GIF\",\"media_url\":\"http://pbs.twimg.com/tweet_video_thumb/Ex2Cl9QWYAIthA1.jpg\",\"media_url_https\":\"https://pbs.twimg.com/tweet_video_thumb/Ex2Cl9QWYAIthA1.jpg\",\"url\":\"https://t.co/jfFj2h1iFT\",\"display_url\":\"pic.twitter.com/jfFj2h1iFT\",\"expanded_url\":\"https://twitter.com/21Franchini/status/1377400659964739585/photo/1\",\"type\":\"animated_gif\",\"video_info\":{\"aspect_ratio\":[55,67],\"variants\":[{\"bitrate\":0,\"content_type\":\"video/mp4\",\"url\":\"https://video.twimg.com/tweet_video/Ex2Cl9QWYAIthA1.mp4\"}]},\"sizes\":{\"medium\":{\"w\":220,\"h\":268,\"resize\":\"fit\"},\"thumb\":{\"w\":150,\"h\":150,\"resize\":\"crop\"},\"small\":{\"w\":220,\"h\":268,\"resize\":\"fit\"},\"large\":{\"w\":220,\"h\":268,\"resize\":\"fit\"}}}]},\"favorited\":false,\"retweeted\":false,\"possibly_sensitive\":false,\"filter_level\":\"low\",\"lang\":\"und\"},\"quoted_status_permalink\":{\"url\":\"https://t.co/ULUWr57wPd\",\"expanded\":\"https://twitter.com/21Franchini/status/1377400659964739585\",\"display\":\"twitter.com/21Franchini/st…\"},\"is_quote_status\":true,\"quote_count\":0,\"reply_count\":0,\"retweet_count\":0,\"favorite_count\":0,\"entities\":{\"hashtags\":[],\"urls\":[],\"user_mentions\":[{\"screen_name\":\"21Franchini\",\"name\":\"Franchini Nayelli\",\"id\":114896005,\"id_str\":\"114896005\",\"indices\":[0,12]}],\"symbols\":[],\"media\":[{\"id\":1377410366460805131,\"id_str\":\"1377410366460805131\",\"indices\":[23,46],\"description\":\"What's That? GIF\",\"media_url\":\"http://pbs.twimg.com/tweet_video_thumb/Ex2LbjLWQAsUeD8.jpg\",\"media_url_https\":\"https://pbs.twimg.com/tweet_video_thumb/Ex2LbjLWQAsUeD8.jpg\",\"url\":\"https://t.co/2rckzqpdKm\",\"display_url\":\"pic.twitter.com/2rckzqpdKm\",\"expanded_url\":\"https://twitter.com/spencergram/status/1377410372739735553/photo/1\",\"type\":\"photo\",\"sizes\":{\"small\":{\"w\":498,\"h\":306,\"resize\":\"fit\"},\"thumb\":{\"w\":150,\"h\":150,\"resize\":\"crop\"},\"large\":{\"w\":498,\"h\":306,\"resize\":\"fit\"},\"medium\":{\"w\":498,\"h\":306,\"resize\":\"fit\"}}}]},\"extended_entities\":{\"media\":[{\"id\":1377410366460805131,\"id_str\":\"1377410366460805131\",\"indices\":[23,46],\"description\":\"What's That? GIF\",\"media_url\":\"http://pbs.twimg.com/tweet_video_thumb/Ex2LbjLWQAsUeD8.jpg\",\"media_url_https\":\"https://pbs.twimg.com/tweet_video_thumb/Ex2LbjLWQAsUeD8.jpg\",\"url\":\"https://t.co/2rckzqpdKm\",\"display_url\":\"pic.twitter.com/2rckzqpdKm\",\"expanded_url\":\"https://twitter.com/spencergram/status/1377410372739735553/photo/1\",\"type\":\"animated_gif\",\"video_info\":{\"aspect_ratio\":[83,51],\"variants\":[{\"bitrate\":0,\"content_type\":\"video/mp4\",\"url\":\"https://video.twimg.com/tweet_video/Ex2LbjLWQAsUeD8.mp4\"}]},\"sizes\":{\"small\":{\"w\":498,\"h\":306,\"resize\":\"fit\"},\"thumb\":{\"w\":150,\"h\":150,\"resize\":\"crop\"},\"large\":{\"w\":498,\"h\":306,\"resize\":\"fit\"},\"medium\":{\"w\":498,\"h\":306,\"resize\":\"fit\"}}}]},\"favorited\":false,\"retweeted\":false,\"possibly_sensitive\":false,\"filter_level\":\"low\",\"lang\":\"en\",\"timestamp_ms\":\"1617235198565\",\"@version\":\"1\",\"@timestamp\":\"2021-03-31T23:59:58.000Z\"}\n",
      "\n",
      "97137\n"
     ]
    }
   ],
   "source": [
    "print(cadena)\n",
    "print(len(objeto_completo))"
   ]
  },
  {
   "cell_type": "code",
   "execution_count": null,
   "id": "d681ed21",
   "metadata": {},
   "outputs": [],
   "source": []
  }
 ],
 "metadata": {
  "kernelspec": {
   "display_name": "Python 3 (ipykernel)",
   "language": "python",
   "name": "python3"
  },
  "language_info": {
   "codemirror_mode": {
    "name": "ipython",
    "version": 3
   },
   "file_extension": ".py",
   "mimetype": "text/x-python",
   "name": "python",
   "nbconvert_exporter": "python",
   "pygments_lexer": "ipython3",
   "version": "3.12.3"
  }
 },
 "nbformat": 4,
 "nbformat_minor": 5
}
