{
 "cells": [
  {
   "cell_type": "markdown",
   "metadata": {
    "id": "6hwohUtz4xFU"
   },
   "source": [
    "![image.png](data:image/png;base64,iVBORw0KGgoAAAANSUhEUgAAAPgAAABYCAYAAADYzTrlAAAgAElEQVR4Ae1dD8hc1ZX/CCGEUkTENMn3RrFVpIRSyrpsrZXyMvdFxZVSihVZZAnLIlK64rqtm9ovmUMb3FKkhCJFihQRKSKyiEgJS1hEREIJEiRIECkhBAlFQhARkWyy/H7nnPvue/Nmvpkv33yZifeD+ebNe/fdP+fe3z3nnnvOuUtL+S9TIFMgUyBTIFMgUyBTIFMgUyBTIFMgUyBTIFMgUyBTIFMgUyBTIFMgUyBTIFMgUyBTIFPgsihQyual+Ck3L5X5ozSQzUtLsumyaJtfzhTIFMgUyBTIFJgZBXrVYF8R5PkiyLP54zQ48GxRyQvLu+X7SvjMyWc2AHPGM6EARc8iyFO9Si7lz2ga7AxyTwb5TMZgznSmFCj3bi2CHAO4i2rwSREGH+XP4KOikr/1KjkHmoA2y0F+zX6AniL/ZQosDAV2yZZeJW8Q4EGO7yjlpu1Bvrat3HfL9rDva1/ED9p+/XefWC6C3Ner5DOd/GSFfZoBvjBDO1cUFChlay/ImxjEvTD4SyZKTYGilG/1gnxK2lQifLIuAJ90LT9purrOw1frkcdwrrO/s5Z6r+WdaVuyEWVMW6cx6W9KAA5RfUzSL84jA3FRyu3OwXvrCvAvDilzS68wBTLAuzpAZ+kdffmH9Qb4tlK+vK2UW+zz5a7ScW+5lOuRBksm2ieMSjjmPsraXso3xiSZ20doe1FKb9IKbit/tqMIcuu2UnZM+s5U6UrZjL5Ava4t5dqp3r2SiTPAu6g/C4BrnstBHoxKzN3yAEtviP2argjyNCeXIB8U5RMTD/TYmlK2FpW8juVFVBDGh/N6EWn0g141ON8L8sGkE1QR5LUiyEVsa2rrNK/1aulyNbixqOR9KqL78gjzbfTbepW0zvlkgHcRVAfHunJwF/v7stfW9Jd6QR4aGiiWbrmSP2i6wXkMLq3l5IMWnCYp58RapYAWdTZNb9U3rs54ljy3tveCPON139mXfx2iEW803y0qeYvvBPnv0bRKymo1rPtnXQa4Nycd7DYFeZzpM8C7yTb/d3UgzALgADU5TZCLnQC3AV9U8nsMWHL7TlG1PVjrwej0NeOlY8tBfuD31vbdLstzGXXfn6ffnta/02e4lk0+CVE8D/JnGF4Ni8ND79OWI+4EVfKy5uzp/Dstr+ueP+9+BoCjL9gnfXmMqTPAnWiL9q2dPCuAO3caC/AgzzrAIwcv927FrkfK9XaU+7AuTNadyQDdJVuwDl9aWiIIeN16v9kzANnercu3yZccbP4cOgEoHZerwZ0AoN9P6xLftYc7guwCDfFunV6vCJhSbt9Zyt8366/P67r6m3W7APqdffm77eWTUb8QAR7kFb7RAJ9sWi7l60Nl3fYw2rnVS0jbgvU/0mPLGM9RR9hFZIDX1Frgq/kBOI1tjIMXQV4pgnxcBHl4uS939Sp5twhythfkDNbbGMRKdOWGRSVHsI73NXihXPEs0mJpVneQtldNlWnkc8RBSWBjsglyhluGQT6nVFHJEQDA8wAgKSajLn15rBfkRTec6lXyYVGpHQG3His5bHlcMCXmhyjb618EuZ/cMsgZTBJexvY7fvoVM6c+ZWA7t2P3yjHQogjyPzohNgEOEb8IchyGS0o7cmG5pvzPB0m3IMdSZR7a1KvkMOoMkZz1DPIKLBlJa0hVmYN7lyzq99wC/B0O4kpO47v9KSo57RwHHLgI+09a+j+iJ4pKDvo7AAV7xzhduiUIXwQ8A6BgG+HvFJVccMs+vTc4j/eQFlyVoKRFpAC4jfohT0wWChx9VgQBUD/0tIUpr4pET4EJAfmTgwY54Wlb35+Z5SH0GrYGX1rCxJamQ/39d11XWG/KrSijV0nZbF/ahsF5f5YBDmot9N+cArySo3GAVoP3it3yAAclnIRs8BaVEMwG8ONI74ClogicWO+9xC7aJVvw3evL73gfprlBvol7UQ8AE+ZKDoLTUTwGN6sG71ldDiMtODi5vAEbHLWo5J8hbUBiIIfvyyP6zuA86s3yS9lsOwtP8je2CCv5J62LXCjKJwnwXpDnrLxLkExgZYjlAnYbOPFAp0FjLXkV+SB/Tw9tPMrA0oLvqGSDfC4A6KALxPMiCCdQSBWg2c6+fM849yuW9+f4zgD3nlrY79kBHIM+GXjDWnRbL2OAWbpzLkIWBnBwKxdnncQQvzn4qsF713xHrrNB/m6vOhABjnuuncfA9i2o7XfIV8D9WZ5xQOThgAVA8Ru6AIDkum//2zW9II9q/QbnCRCYPPvkUcnRdD0b69jfT4BTdO/LY2iX19XTsN5BHmJbglzEOtt2enRiquSttn4AykStC6wxFeA+OVHMNikjllHu3YrljZYx+AjSgelbKHUUQQ7FtHaB5ZGXkQHeps7C/Z4dwMGdoEXn4OrLXpKmpRDCvWJPrWRLAM6tIAy2+J5xYAw6HbBy1pVyPYq0TYBDpHZuv9yXnyIfKPt88LrGHUqsXhByrPidiN2eB94DOAC6CPBw4CmrH5SCGkiEIr98BdzUy1I6YJ0rkDTENeaN+pQ//zolD/MJWA7y40beS0tLqWTiIrqtoy/duEeORFqppp66hyLIL5VeCnBweKvXZ1G3gLo7fYPc523OACdFF/nfDABu218UHQ04cNONg5XP662im+8++L86AOWUD/xkr/dFpW6dPgW4TwhDAEeUHkwekduD0xLgr1pZ70ATzjRqh68AN2UTFX66VXQuKqCqwScERAJwV+q1Oa3l24N0UgSBfuCcg4bl2xZXG+DQK5gy7lLcFwfwav1BL04cJoG40u3mew++jnI9bQRsJSvaZgW4lwnpApNbfMfKWA5SeR0ywEmdRf43C4ArPQDWqFgKcqa55aRpbr73v+6JA99ETgzQtQG8XoP7lpBzK4rKWMcbV40D10xlXWuM9S/Kh5IMn2vLx6697ttyDdpy/XdlGeI419iqNKst5wwczZGgtMU9TERYavj6GvXBcqG3W35oEw5FdMv7rN17rZnf0lKqlIsiepDnLf3Zm+9Ot/X07XpbzTh4NbgT6fWdQdQHeFmp8U2kU2f7/I05+b4qLNlA6MYH8eQuJ5barACu+UIcrQeTnHQFELS50CRzS8eUZi4yg/P4oMQWlA6fmoP7mhigjBy82q9r8OrA75neODj2uWF2aXXAFtaF9D2lHTn7izrg5WMM6uXyP673tTi4dBzoS0tLALxpxaG8OqjlNX3nyYmDnMDSAEB2CLh2nxMOQB/kBywX9aqVbFoXreuzmBjRTuW8VNqp1t4mROfIbGOQN6GNx+SE9bavz9XgyJRsZYklBrX0rIfpCCD+uzjvS5XY7gxw78IZfE9D3GnSsqqzArjRQbkx7cQNZFCEfYyB5b9tYD4TKZdy8Er+pPdrgGPQ4R0oz5pr8AYHj+th7EtbWfR3B4dinsnESBBhnz1yNjkL7XlaT0xOeA/c3BV1QyK60d+BZW07Y/vyb8f8qZyrdQIEYL1NdkuUKNBOBidJ6ua0c4lHJ0TsZ/t2HTTjx317zMVtXWroNplPLP6Opk0mD48NcNWZqurMD2so+wAAXM/RQioOwnEX9cCp8zGOMu615jMCr1EmgjNg6wMDDdwPSphe2P9Q0Zc+Nc1D4FbwNvNt/5oxwFFcWWJ76NfO9epBRYeJ9yOX8KopwI8wHURm/jUArhrqIKecg3uknjHgPWWGM2ejYsl0Ba4FBw2hRQcQvI74Rr2xRQWOiKoQ4LquHsnBUS9s47XzYn6VvOVafXJf1VOc83sog3Wh/qBRl3OQXopKXrZ66faf1YkGN0E+TuvOe2qM8ynaEW0HVD9xn9FNJz5t60nbuqPmfbkvPyH5h8YW787Xv9VEdIg2WPu1PzCAgFWRi3PdrVKgmPgI4rzh+SDIBGfUTk1yR24JMdHRy0EOWB6RwzQ60bhZEeRtKLPSgTK+zih7AwBuTQRAoMDh9hns1PvS79o6QnJwVCiAHMAplSB+oq9o+WW08vS6Tk5T67WJud9aLn9uFnDtNPVkiL1x7D3Tyqy/0kfEm2ZqNQdFHRz0zef1L/RFEVbux2S8XMm/YL857ROs8ZEP+8wt7pL+xzMY6uwMK/egDcgZNMEk5dKL9yGesbzd8gBoDGbAmsDbzullmvJYh12yBbsN2ANfDisVaMsygtwK+vtv5jPv/0YDXDvXtIcu5jS/g5xwrWRnO61TUgVFG4STBVIwwMGjJ8hzqYjIWRvrMqxZMevbJyqpUhGtkhd8QHTWN97cIIAngzYW7RfjnnmaDfuugd4ock11HJFXI+Mpf4ytx7TljUg/towp67uRyVcDuFkEfQbgUBmjyh+PU3Z0EoCbbzMmB5gUKhhtPQMjBbZ3FQJC/Fb7Y+7rwhMr1keVJWbJpCLVRd7zsmg/bXvP1eCTKGKNJLR28ro6m4wsy7Zw0H4sWVahQ8qZhrNEvdsDtP27/RafN5Y97RT625YDXs/ORF3ldyVM86r3yZspx+WVvN9o76i2jku/2ju6tRhp0CivWeO5/DUJwB2UAI1zTH4jxJOLN12ts8Fa9OW35Ny2/1tfH7g0CcBhWcR3lBtDWUIA2z01Uaw5dSplaH09fbP8WoE1VHft9A0D+FD5+UamwDpRYBqA98IBAAZRM2i0zxhulwVwaDjHc3DXvPokA1AX4cDFG5xTG5f250PfOildvGEPFUNadwM6DC66yfhFBDja3MXNRt3vply+O2cUWAPAaaSvQLtcDj4C4KZdj1s5Lo4TrANocJWDJ6J3wuFTDg7b5M89/Q177F1fr2OSMDfG5uD+ogG8BjaMSrD3i48bxnDIrrp0mLOBnaujFJg/gOtg61Ur9AZyjkzpIeHCuG+TzMe33POrN0yRJ9CuY0mgpoq6neJ5OND5bi2ufzaseNtggI9d164yUgm8GqCrpO56zPU3NNm2paRbZ+pV9gHo6ttI0MfQxNT3zLtym+qe1huT7I13yYdRN7JOk4mNiQ+xxaXVmoROtl6fqh1znHj+AK57xNjeIlc2IKYiuQEbXPzQzXeNjhpq+6aH4mSQcG7LA/be5bBia4MBfoXHB4CFyY/0VqnGFaEqDQX5nFtNlfqTg57Y92a1x04wowCF+zWQoqlqkKfrPJ0oni7NK732dPhOlWl0GdUDPRYpQEPanPW4niuA28xtfs5cCmDgNURrrr0HH2H7rm5/0rHIozXosJ/ZMK6A7bUHPKwzSa50AG2Ikg023n35CWwFqEVParHqJYxfgjweHTBWfSFJ4LQOcr8DG6aa3Jvuyx3L+NBoSD6AnzT2trGf3gsHnkH/JDlNcdkNTHeNbZq4dqftLqw7rXuUTSMZ0FgKXnZGn+7yFujuXAHc6OYdQ9G6pbnHVls0VqCCr7tzNSvZ5Fp+M0NETK3olhjTDPWX5jk7gCN/LQOcEM4nMIvE+jfWqTHAutsIm3KEUYLYXDeBaW3by8vpfh+eY7X9tRztMuBAvHEYniB/WqKVcjsNUHBjl2xhUIS+fK+uu9YEdvWYWF289/Yyj93yAEDnp7b6LkniXadeb7B8C3I/0yJwpBqn4N59bWMfs3N/CGlRLusb5DVMXmMBXtOZNDPLQizbkpj1Kf3Sa23rXP+fN4DTukrtjFNtfbyOhjHjtPcjKN6w6Ko7tiO1duLsAJ4UaU4OBKm5aiZPx19q7PPTWM6MT9h+qu2zuG4qKfWlz1RuOYYfLRqRo2M7EgZODnidgGEnwSgw/g6sHG0ZpGI30vdlb2ILTvHfPORoMx5t2GsfdQY5dAnDrCBprgtdi7cKZr0dxk+vJ6a6j1rbVj04ku8EOdNQMHpBi/g9RwCnHzLETQ4MbH8Nc+8Pu7jMlHSfzKgDgQTW9WQTBRVEXXAqCzv0kimujveqwV+3lT8m1zCuDo8zNe0Ncoha7XZDlQMj4OJRF+/BXU25hHdfYICHIIcAzvi6Abd2UJGTYwe07WokfXMUeZEb08ljcD5ydc/bItI4aCF1OVDhngqxXG3cozMIdkc4GdihjzoBaMDEg2rBWMdU84k+9Rqz4IoIN61rb1fEjliDsy9Ur3BYI7asQIl4DE4tkYNDStKIMW/Q7LmS37elkkjXebyYN4B7bDCanJrxiivJ0MlKw1mLSbPh4BB3o+81jml2DyiNAUaQYWAZV8OAP1kHPcQEkIZHBoeliA2vLJ4pp9Fa1CMN74JbRtpVwthppF8E4eBJgm61QyctfRfA9XDGYYC74swBDg09J+4gxxDM0bEA8TnWMchvcB+nlNhkcPimRKpRXYqe9uoc3MGMZV06SWEC8AklOu5YO1AGGEUdVw67LdGBBdaWpzV0dAkffEoMnJQ8ZFbikuvtmNvvuQG4idw+q3unk4vXhikPk5BJR82GsOsMcAeUa6FhYFMK4487EFzsNcccBk3QQbZ3qwc0WA6DJxrt19hiCDlMgLvuwpVu9PsOAikBk0X0snIxOhG5z0St+BBBaz3GNAD32G8OcIq+ldQRWZKlQBJrjn7kDjxfoxO4JkV4G8FVTQfBEFBw0jHaUBIkgM27jQpMPEQ/eF8En9zkOXLrci+OerLDJuQUdAZwhDHaHcJkCqwsh/0M7eQTjOsWhsg2LzfmBuAkfrnZZ2QAHODmx0QtV554J82OhusMcKsoxfJKLqScGNe00YeiTNfUL5DzqBiLPelTEN9toNWx2JAnBiW4SSVH4YGGmGgQU1P6UGRXgOu7CdGwBIkTqXv1YaKNQGhKSqMADpfTREQnwBKOzbBUqBfaEPekWY7aeSd9bgDXYBSxv71Oyt0Z/BCTHZY0phS7BOmFTbOJAxOWl9kAeB3UkvnA3dhJoksjxog7i3s++Xof+Df7J0pETRp5XnPzPU8AX77tYUQaYWhgB7iaxg7+j7/rWXpVZcnlEXg2AHfuU6/hEDBw303W1pMELP2lyXFfKfbIoVv+8VfP0ZY/yDNFf78GaXST0gTgHNCVQOF20ncOQAO4UDYmB3/XCOTgwuQQY6UnxMOWGDgZ86r1I1yDq5ir0VixveSvQZnpwEs4uIceZlhjT4u1uS9VPG1SJ1uSaWq1a9Djg5yDxvHSMjtmfICuNXjk4CrZxInJYq+jLpg0UaLpMhiplZp+eDLCL6Ivv0vb622Zy+95Ajg4h3euA/yq4OA2qBCqiGDDKSTV4EaGA7ITQBHG1waVhwx+1oH61XsPfo8+0+0RZFp0rNPtXQZPxPqTa3ndZvLgjbWIznx0EtMJwC3+GBP9VYAHeTDiioME21UWeRQ6AlfqQZGnE8jgI4Q2wsCn7sD1J6Y4g7htnA9a+9cZM51RZeLat1ayeXQaleKeBydXDTwPSjBT5AOCZrii0Oj6MpRumCgaOpxUyeYAjzHa5TB3bjT8k9Fv8FeMRY/wgh0BV7rRPsAPjWj3xzz+nhuAT7AG97VlKoLOhqaz4eBL1MjyWBwbpNxy+tRcX0/rIJJNHp0Eg/aWuw9+0ruLHP1seweBa2weSjB4j4MdwTnsgDwojXSJoxyPSqghYmk7yUV9vdrhlVeE/cfB6XCIgYH0Xe8DTlKtd23Z4CGeY4zxVPEVwQ5FoB04AO7IKpaC/Xkq5TwdvpmvifqYTLw5kdMmdYeizOPOeXhorzPf2/WjLa7viWUE+VRDOQ3O+46Gi+maxicjnugy/ZHOXuGN/J4G4PDiIqHrWf0y3UUbziYartcD/te24nQYsXI1eKCto2ZHpxkBHBXGwOJ+MEMHH7LoNA/SGMMmOeMeD1JRFeRFDNCb7sHpG60/WLIhGCJFaK0z1pQ8hUTPMXsKkgLe99hprRxi9BpMLhRrNaQxztp+DcCBoYkDAxFQjEs3lgqYeFCGbX2tcPsJUVf06CA9wcQKxloZ97mFF+QQA02OSoszyrBkCfIqwI9z0m3b7+m45rZ8GRVHTzl5AfljxwL3cF2Ho2q1XkM947TXZyF22yQGw5qGJRs4OdNw0hns86OOWrnN589pAG7uojSMIOBW9Qe3ONz9AyP8wTsAbqKTi+itCeUUondeHiUVCOPzmCHAxxd8hZ5OQBMTbYcrOMG7wy/lOxtFgakAXjU5ONd+znW6KlyvdyYBOBVniClmWmVq0Bt+3Gp2yNM4fH3aVezwPR2EbnLJ5yMHLJ7OGuCJ7Twrg/LaQEnSrFrX1rtI7x/kz/dbaVhu+5+Vybqk10m6UXl5eXxu6dPrmMWIdm1o2liZIQcV9sNQXUbUOc1mXq8nAbitES8UADi2rkxEx/YNNL8j22aE8vVU/R7Xnn5qxlDIJgRTdM6NdaRfm9RQb8mMm1y8UpbG3CE/oCjsHejfnjZ+KxjW15ItZp4vMgU2jgKjAa51gI2xKh4ISoD7Yq86EEEOs0KmBJAAmPTjWw8WW9sBnmrG43aDv6ea0b0AMycWepNRwZKWidDAPHVSa9maYRW40SQVaf3cLJssjsY91k5SZ4B3kiXfXDwKrAZwrHkdHF0ABRdvgq2mARQdyTlYNFy5oRpgDU+wWn6mhElESGhR/fRHM3hpi+r0oqpkpeFAUhfNq6j8cZNQKO4S5R2su6Dkar22ASJ6u0QXh9v3r+bf6O9Gn8/YtuFqpuWYtq0GcLzaq+RPLiaD+7bBZsYBz7tG1/ZCEWiBR9ICyLpl01zD47nvL8YqKveFPfJ9aZkweOlhcmgsEeLWyUtFGDyJbTR8qNHF/qwdZ5vm4+/HyaoafHLFI7rExueLTIF1psBYgLfA5iIz1uG9NHySrZMBpPbHwe0hl+w5wy5jC8OaE8Vp/a0ze4zGqs4YXB6kk4uDtF1m43crnhst47S+zSN7GnTV8jdoDb4J+gH1cX5iMfZWG7Raww/YdFe/uNNP8YSUiCXT5e+QrKEuV/srYwGeND4xCmDYYgAlgg2AMfGXgIYSLgXWnsElj8oSRWSerPkzHnuTFDN0CTHaJ4U4WewZuCthLep7eVZ2o/xKLrVCPmlc9yBDJ1VqBYYBHoMz2qQ3VNGpb2gZ6cES2HtePRt9j+nWrS7jSk3K60y22vP0JU0LiUn7dPBXPI2GKh7rrdEuvDNNGWl56jWG/e0hSbGRbLX8L68OjaI2+sekADezyr9FsDW5tmq63TmkflbH+fJJwLh8VM41OrOj9QiI4EsEywNidoNLq5WTOqZYHfjc0unyQCehyPVxSF0su93B+pscXK2boDfoPDGzo8YT3tIykomTSsXaKKO7ThNmPjpZbPPoJKsDql23Vl6rlOEAp928KlVh3nq2oXDtBHVXuUP3GtIgbNVtCXlrs5ZD79nj9H567W933fNnc/g9EcCtw1JttHNq56oOIgdf/I31t26ruUj8efQoWmUgpAPNQigr57U8u8qO5fpkk6T1SSFZGkSFWlfX7Cx/AUcNLdOdKVatc1dO7Xs6SABm0kt1BRrVpJI/MHVHOeZ5VqIf4LCCdnggCIi3w1xKNsEJhW6nSRWQFlyN55jZfZ6Hlm47qq/5N2k5ViZLh6ResOiCmWvqPOPFoFyzDIvAclNbpEdfOMBh14609YSruSA9Jll8/N00fyhx+buUzZg0Ui89HJRJ7zB45VVygcuBXT/SnZ44ecgm0MBMdWM9vQx8gy7oJ3xwfHL6bCGuJwI4W6KD0gYZlW4OGAItEY1Tcd3TsEOr/UdBTGaXDJRJCUVA1M4Zcb3PCcQ15OlSocXpt5e/OBLLH1uothWDW+tvhzOMfWeah5q/i6aIZGIGPmjTuRowmg452xnaOkmaXTbqxslKgy+egk95uo4FvWyCsuOG6ZyB88ep/NQ+kSM0A8VEaJMYFZwITJnqVIK86IciYoLxoBSeBhFRHITw1QZH9mcwNYXZLfoJTic2hiAVvc+2mXNJ6u8Ohxf3MtN6IpBF3Q+wreDJqOrc8o6ncXt2My+FpMfjsjSgw+C8B+tU6Wzwl1hH0LSSI6n7KAJaJoEg0DfISyW5abr7SqadHOBuEaW15ZllsM1V7hMHXotg4N4Q6w9rFFM7EH4N4E5nd4DU7KRPpoMgLZvXGpAQPtXPbw8rdRTWCcsn50hDHa1jR4Hz+uDxQVcEUc8vP4zB6ulOGnQk6cvvABi0jxMrT/P88Zc5+MLgo9RaD55Plu4Iqu6BI4w2ryLAQe2cIpewCwIpIDqqVHLQdkTexlICecC23Xcn9Kxw3a2gHzqem8ccdSDQnwR5TqO+qAIW0lsb4BYSCQCih1jdXjkLwPaC/MbLdNfVJOoLJQGjiUpbQR63Sego26ISJEJYHbH1+A5vN9rFyYTHEsP2Qj3zoAQk7XBMMmK+Ic9K3vewUus4FGab1VQA76gKZnWexc3oF4N9dHSoZMUGxn0uQtav1lypvjfpVevdUrZSdNKzwR/DwED5HGRwG6wGd3aJrZOWNpN0LdBiYHo50CT7oIJ4ifvgihiMADPa6mk56FMObn7M/h7SuQRCcCqXJ6eLUUYRd04nGg0o0ZdHEvH5VGIjENe15kqKyeV1dxkFYEHnRgAGOKnY3/byyW/owZFyCf7lDF2lExQ5uE8KzsGRllKZx6zHWeoW042uqmhbHanmFa8HHGNs8vrAGYJOQoNPXLogXSyyDiYfBNmg1KMebDpxwjBqt9zrE+FNHgPeG7RI32sHOMDWAtzIhk+TdmQmyYNp85s2fVLUxG1M3xl/jcEWY7NVssK1KrysVDJR0Rhx0i1gAzk1AisC8LfJl/BNfYiJlbDLN0XS2S6AYxLBIKa0E+RMHLAW/SSe/mplOng42egJJyd8UvBnEIHZSs2DE4BZPYKjHlPQ0YDHvQQ9dNT9IwHel59CRDZgfc42uQ7HlZ1B2EY3f3bph4DWABhYqnyOSYd0UlfWxuk1zv2NHjzaqhblLawUfO3NNZX1gfttJW/FMFJs/AL8WzvA08Z1mIqCU00oCqc5TX89ruxJJ6DpS13TG37mWn8/jkKOOoSuaxd5TePMQICMTWYF93bLD/Ee1r64ZeL+uXQNzmUUynGAB/kYS6bIzWWWizsAAAUOSURBVAzgrgtwECM/ckOexS6vR+4LDhnkGZQb3U+TPuZEpbqYE9FHwSUWX1YEGQtwRGpVetCf/VlwWQaVUNdVuJc+zQnNOHgE+JJs4vLClGopwAFk/21tY3QZWlnqkudFc0v9jYV7pnUl8qMkqkEtGKmVS4+GmbR1yLx+rQ/A57V1c1gvFZWPGTgRp+ywxWo74t9xbb5bvo8WeMBCDEKKu7vlXg+JRH/tJI2LuYhc6iGifP3sirFUUcSwzaoniQcEAOiJeI596kcVdIKz3xh0ECGEXRnI9S4GPSUJjaeGdatT3yKj6Pp49/4HADZrPw9scBHdlWhoG6SWKCXQp2HfLTH2uraXEkEEOMT42wQhv94HN3ZAQ/HIvKDcNcco1M3Kfx51Zj1L2cyoOfYbGvOiv/+RxoTpkWHXdUfFqTSj7wzwGRG2nW3NySwkE08y6TT0cS4Z15ul3N7QSjv3d8OQpaWlm+4RddBRjn3CJwkOZIRYApc3rm9gfRfhsXxbk/eCPLqtfPJb9hzSwZ8tJBMPIOCRRZigqsF7luYcz5Az8ZkcvI76QlGdz72+WreHIsArOY16wcwY+fnEg3BOSR2OMx657YhAcch3bDclOg0hxJKe9HKGednWXh0plXqM04w7p4EeTjAdtP1B3vToLxD9kb9HnDX9x8saN92cnjIHB4nyXxcFIGJi//dr9xx8nM8TEdeXNBDLjdu+AdAgnd1bMZEVYjO31MCBvZyv3v1LHCIIQGDQIgrKfdDM+9YR0oHju/EHOB13IxBkI8iJHXbm2HJ/P85KI+czEJwCl/VyGCgSJ5cgiivWyKpp/q1zTVOwQjr5zNbRB7nlpGefVaqDGPwF63nkiR0W0MQ15LjHba5K3lJtN8X1d8DhfXmhytzBe3VkFyzVGGX2JdBu+x3C2Oum70CwxJOspyn/sBvACDSUFhiLDhPDn6AHYfmIUoPIM4xqq8AmTRLlodNjrr8zB9/I7lGlE2i+aqnGkShCdqT3rSXEb2NeNlFAk+0gsPtboxjqCsNStkJ77oBEOu42JJMN8kEaiOG+/611rvUaeB9pGuVpIubXWUZSh0gHlAvlYSzfyihLGLBAQ7/DxWvL3mOcD9MRtOqgF7YPXUGZKodRd3gkdrUBZV3znX+/Du1gO297mArOWIdFuMgAn+9eopJNRUgFslWXASxUrOX+NAdtBIi3qQaj36lBFO8MXwzl07SBsBfi1hl/p++k13zYUY/hUpt3hvLorEPznZG/RpQ/VAbSJWmHnl9OHUZWbrYPMsBnS9/LzT3dW4Y4DZEdiiVXvLlxyETAXVNlkgG/pvevhpdawF+kJmWAz3NvKbio6Y7hkJPttSBvpvve89ySXLcrRIEM8CtE+CmLZXjhIL+kDXYlf0SM8q615pTZ5uRXOwUywBehh7OYvAi9NJd1HA3wPKjmrsOg9Ek/c1fBXKG5o0AKcPekmbtK5gplCmQKrJECu2SLH/iHjXxoaa+WD3ysYQgBTfQaqZNfyxRYcAqo14zaRmt4YZglLvwn+vvCGaPD8GHBey1XP1NgIgrQWKEI8pSZPo71cFrANIczuCcaBznR1U4BC5KA0yRhK73on0M0AMmc+2oftrl9mQKZApkCmQJuvN/chkm3ZBbxOvdrpkCmQKZApkCmQKZApkCmQKZApkCmQKZApkCmQKZApkCmQKZApkCmQKZApkCmQKZApkCmQKZApsAiUeD/AZ4+17TdosWgAAAAAElFTkSuQmCC)"
   ]
  },
  {
   "cell_type": "markdown",
   "metadata": {
    "id": "sI_hqPfY4c3v"
   },
   "source": [
    "# **METODOS NUMERICOS II**"
   ]
  },
  {
   "cell_type": "markdown",
   "metadata": {
    "id": "kLmu6tUTxKud"
   },
   "source": [
    "## Mitsiu Alejandro Carreño Sarabia - E23S-18014"
   ]
  },
  {
   "cell_type": "markdown",
   "metadata": {
    "id": "47ypM2235jbA"
   },
   "source": [
    "**¿Por qué estudiar Estadística?**\n",
    "La estadística puede ser muy importante para una efectiva toma de decisiones. Existe una gran cantidad de valiosa información escondida entre los datos, pero esta información no suele ser fácilmente accesible, la estadística nos brinda los principios fundamentales que nos permiten extraer y entender esa información; tambien nos proporciona las herramientas necesarias para verificar la calidad de nuestros datos y nuestra información.\n",
    "\n",
    "Existen 2 tipos de Estadística:\n",
    "\n",
    "Estadística Descriptiva\n",
    "Estadística Inferencial"
   ]
  },
  {
   "cell_type": "markdown",
   "metadata": {
    "id": "J2zBFHfc54OP"
   },
   "source": [
    "## Conociendo la base de datos"
   ]
  },
  {
   "cell_type": "code",
   "execution_count": 1,
   "metadata": {
    "id": "LxIq1VK31EAI"
   },
   "outputs": [
    {
     "data": {
      "text/html": [
       "<div>\n",
       "<style scoped>\n",
       "    .dataframe tbody tr th:only-of-type {\n",
       "        vertical-align: middle;\n",
       "    }\n",
       "\n",
       "    .dataframe tbody tr th {\n",
       "        vertical-align: top;\n",
       "    }\n",
       "\n",
       "    .dataframe thead th {\n",
       "        text-align: right;\n",
       "    }\n",
       "</style>\n",
       "<table border=\"1\" class=\"dataframe\">\n",
       "  <thead>\n",
       "    <tr style=\"text-align: right;\">\n",
       "      <th></th>\n",
       "      <th>CodPostal</th>\n",
       "      <th>Sexo</th>\n",
       "      <th>Edad</th>\n",
       "      <th>Color</th>\n",
       "      <th>Años_Estudio</th>\n",
       "      <th>Renta</th>\n",
       "      <th>Altura</th>\n",
       "    </tr>\n",
       "  </thead>\n",
       "  <tbody>\n",
       "    <tr>\n",
       "      <th>0</th>\n",
       "      <td>11</td>\n",
       "      <td>0</td>\n",
       "      <td>23</td>\n",
       "      <td>8</td>\n",
       "      <td>12</td>\n",
       "      <td>800</td>\n",
       "      <td>1.603808</td>\n",
       "    </tr>\n",
       "    <tr>\n",
       "      <th>1</th>\n",
       "      <td>11</td>\n",
       "      <td>1</td>\n",
       "      <td>23</td>\n",
       "      <td>2</td>\n",
       "      <td>12</td>\n",
       "      <td>1150</td>\n",
       "      <td>1.739790</td>\n",
       "    </tr>\n",
       "    <tr>\n",
       "      <th>2</th>\n",
       "      <td>11</td>\n",
       "      <td>1</td>\n",
       "      <td>35</td>\n",
       "      <td>8</td>\n",
       "      <td>15</td>\n",
       "      <td>880</td>\n",
       "      <td>1.760444</td>\n",
       "    </tr>\n",
       "    <tr>\n",
       "      <th>3</th>\n",
       "      <td>11</td>\n",
       "      <td>0</td>\n",
       "      <td>46</td>\n",
       "      <td>2</td>\n",
       "      <td>6</td>\n",
       "      <td>3500</td>\n",
       "      <td>1.783158</td>\n",
       "    </tr>\n",
       "    <tr>\n",
       "      <th>4</th>\n",
       "      <td>11</td>\n",
       "      <td>1</td>\n",
       "      <td>47</td>\n",
       "      <td>8</td>\n",
       "      <td>9</td>\n",
       "      <td>150</td>\n",
       "      <td>1.690631</td>\n",
       "    </tr>\n",
       "    <tr>\n",
       "      <th>5</th>\n",
       "      <td>11</td>\n",
       "      <td>1</td>\n",
       "      <td>34</td>\n",
       "      <td>8</td>\n",
       "      <td>12</td>\n",
       "      <td>790</td>\n",
       "      <td>1.637906</td>\n",
       "    </tr>\n",
       "    <tr>\n",
       "      <th>6</th>\n",
       "      <td>11</td>\n",
       "      <td>0</td>\n",
       "      <td>57</td>\n",
       "      <td>8</td>\n",
       "      <td>12</td>\n",
       "      <td>3150</td>\n",
       "      <td>1.570078</td>\n",
       "    </tr>\n",
       "    <tr>\n",
       "      <th>7</th>\n",
       "      <td>11</td>\n",
       "      <td>1</td>\n",
       "      <td>60</td>\n",
       "      <td>8</td>\n",
       "      <td>12</td>\n",
       "      <td>1700</td>\n",
       "      <td>1.608495</td>\n",
       "    </tr>\n",
       "    <tr>\n",
       "      <th>8</th>\n",
       "      <td>11</td>\n",
       "      <td>1</td>\n",
       "      <td>50</td>\n",
       "      <td>4</td>\n",
       "      <td>14</td>\n",
       "      <td>1800</td>\n",
       "      <td>1.780329</td>\n",
       "    </tr>\n",
       "    <tr>\n",
       "      <th>9</th>\n",
       "      <td>11</td>\n",
       "      <td>0</td>\n",
       "      <td>26</td>\n",
       "      <td>8</td>\n",
       "      <td>12</td>\n",
       "      <td>1150</td>\n",
       "      <td>1.793203</td>\n",
       "    </tr>\n",
       "  </tbody>\n",
       "</table>\n",
       "</div>"
      ],
      "text/plain": [
       "   CodPostal  Sexo  Edad  Color  Años_Estudio  Renta    Altura\n",
       "0         11     0    23      8            12    800  1.603808\n",
       "1         11     1    23      2            12   1150  1.739790\n",
       "2         11     1    35      8            15    880  1.760444\n",
       "3         11     0    46      2             6   3500  1.783158\n",
       "4         11     1    47      8             9    150  1.690631\n",
       "5         11     1    34      8            12    790  1.637906\n",
       "6         11     0    57      8            12   3150  1.570078\n",
       "7         11     1    60      8            12   1700  1.608495\n",
       "8         11     1    50      4            14   1800  1.780329\n",
       "9         11     0    26      8            12   1150  1.793203"
      ]
     },
     "execution_count": 1,
     "metadata": {},
     "output_type": "execute_result"
    }
   ],
   "source": [
    "import pandas as pd\n",
    "\n",
    "df = pd.read_csv(\"s02_base.csv\")\n",
    "df.head(10)\n",
    "\n",
    "# Color de piel"
   ]
  },
  {
   "cell_type": "code",
   "execution_count": 2,
   "metadata": {},
   "outputs": [
    {
     "data": {
      "text/plain": [
       "CodPostal         int64\n",
       "Sexo              int64\n",
       "Edad              int64\n",
       "Color             int64\n",
       "Años_Estudio      int64\n",
       "Renta             int64\n",
       "Altura          float64\n",
       "dtype: object"
      ]
     },
     "execution_count": 2,
     "metadata": {},
     "output_type": "execute_result"
    }
   ],
   "source": [
    "df.dtypes"
   ]
  },
  {
   "cell_type": "markdown",
   "metadata": {
    "id": "Jj0tmfYH7Omm"
   },
   "source": [
    "0 = Femenino\n",
    "\n",
    "1 = Masculino"
   ]
  },
  {
   "cell_type": "markdown",
   "metadata": {
    "id": "j8wNlzjA7s9K"
   },
   "source": [
    "## Estadistica Descriptiva"
   ]
  },
  {
   "cell_type": "markdown",
   "metadata": {
    "id": "PGpfv7yM74MO"
   },
   "source": [
    "Se dedica a recolectar, ordenar, analizar y representar a un conjunto de datos, con el fin de describir apropiadamente sus características. Calcula los parámetros estadísticos que describen el conjunto estudiado. Algunas de las herramientas que utiliza son gráficos, distribuciones de frecuencias, medidas de centralización, medidas de posición, medidas de dispersión, entre otras."
   ]
  },
  {
   "cell_type": "markdown",
   "metadata": {
    "id": "d8_heZTI8A5y"
   },
   "source": [
    "### Distribuciones de frecuencia para una variable cualitativa"
   ]
  },
  {
   "cell_type": "code",
   "execution_count": 3,
   "metadata": {
    "id": "_mWZJo2I8CM_"
   },
   "outputs": [
    {
     "data": {
      "text/plain": [
       "0    53250\n",
       "1    23590\n",
       "Name: Sexo, dtype: int64"
      ]
     },
     "execution_count": 3,
     "metadata": {},
     "output_type": "execute_result"
    }
   ],
   "source": [
    "freq_sexo = df[\"Sexo\"].value_counts()\n",
    "freq_sexo"
   ]
  },
  {
   "cell_type": "code",
   "execution_count": 4,
   "metadata": {
    "id": "aiTTVqLa8CXX"
   },
   "outputs": [
    {
     "data": {
      "text/plain": [
       "0    69.299844\n",
       "1    30.700156\n",
       "Name: Sexo, dtype: float64"
      ]
     },
     "execution_count": 4,
     "metadata": {},
     "output_type": "execute_result"
    }
   ],
   "source": [
    "#porcent_sexo = df[\"Sexo\"].value_counts(\"normalize\")\n",
    "porcent_sexo = df[\"Sexo\"].value_counts(normalize = True) *100\n",
    "porcent_sexo"
   ]
  },
  {
   "cell_type": "code",
   "execution_count": 5,
   "metadata": {
    "id": "S10ljKJy8ChF"
   },
   "outputs": [
    {
     "data": {
      "text/html": [
       "<div>\n",
       "<style scoped>\n",
       "    .dataframe tbody tr th:only-of-type {\n",
       "        vertical-align: middle;\n",
       "    }\n",
       "\n",
       "    .dataframe tbody tr th {\n",
       "        vertical-align: top;\n",
       "    }\n",
       "\n",
       "    .dataframe thead th {\n",
       "        text-align: right;\n",
       "    }\n",
       "</style>\n",
       "<table border=\"1\" class=\"dataframe\">\n",
       "  <thead>\n",
       "    <tr style=\"text-align: right;\">\n",
       "      <th></th>\n",
       "      <th>Frecuencia</th>\n",
       "      <th>Porcentaje</th>\n",
       "    </tr>\n",
       "  </thead>\n",
       "  <tbody>\n",
       "    <tr>\n",
       "      <th>0</th>\n",
       "      <td>53250</td>\n",
       "      <td>69.299844</td>\n",
       "    </tr>\n",
       "    <tr>\n",
       "      <th>1</th>\n",
       "      <td>23590</td>\n",
       "      <td>30.700156</td>\n",
       "    </tr>\n",
       "  </tbody>\n",
       "</table>\n",
       "</div>"
      ],
      "text/plain": [
       "   Frecuencia  Porcentaje\n",
       "0       53250   69.299844\n",
       "1       23590   30.700156"
      ]
     },
     "execution_count": 5,
     "metadata": {},
     "output_type": "execute_result"
    }
   ],
   "source": [
    "distr_frec_cualitativa = pd.DataFrame({\"Frecuencia\": freq_sexo, \"Porcentaje\": porcent_sexo})\n",
    "distr_frec_cualitativa"
   ]
  },
  {
   "cell_type": "markdown",
   "metadata": {
    "id": "U18w19tN8nYn"
   },
   "source": [
    "### Distribuciones de frecuencia para más de una variable cualitativa"
   ]
  },
  {
   "cell_type": "code",
   "execution_count": 6,
   "metadata": {},
   "outputs": [
    {
     "data": {
      "text/plain": [
       "array([8, 2, 4, 6, 0])"
      ]
     },
     "execution_count": 6,
     "metadata": {},
     "output_type": "execute_result"
    }
   ],
   "source": [
    "df[\"Color\"].unique()"
   ]
  },
  {
   "cell_type": "code",
   "execution_count": 7,
   "metadata": {
    "id": "ngSmK1je-TBH"
   },
   "outputs": [],
   "source": [
    "dict_sexo = {0:\"Femenino\", 1:\"Masculino\"}\n",
    "dict_color = {0: \"Europeo\", \n",
    "              2: \"Americano\", \n",
    "              4: \"Africano\",\n",
    "              6: \"Asiatico\",\n",
    "              8: \"Latino\",\n",
    "              9: \"Otro\"}"
   ]
  },
  {
   "cell_type": "code",
   "execution_count": 8,
   "metadata": {
    "id": "XAmTvIAb-b4M"
   },
   "outputs": [
    {
     "data": {
      "text/html": [
       "<div>\n",
       "<style scoped>\n",
       "    .dataframe tbody tr th:only-of-type {\n",
       "        vertical-align: middle;\n",
       "    }\n",
       "\n",
       "    .dataframe tbody tr th {\n",
       "        vertical-align: top;\n",
       "    }\n",
       "\n",
       "    .dataframe thead th {\n",
       "        text-align: right;\n",
       "    }\n",
       "</style>\n",
       "<table border=\"1\" class=\"dataframe\">\n",
       "  <thead>\n",
       "    <tr style=\"text-align: right;\">\n",
       "      <th>Color</th>\n",
       "      <th>0</th>\n",
       "      <th>2</th>\n",
       "      <th>4</th>\n",
       "      <th>6</th>\n",
       "      <th>8</th>\n",
       "    </tr>\n",
       "    <tr>\n",
       "      <th>Sexo</th>\n",
       "      <th></th>\n",
       "      <th></th>\n",
       "      <th></th>\n",
       "      <th></th>\n",
       "      <th></th>\n",
       "    </tr>\n",
       "  </thead>\n",
       "  <tbody>\n",
       "    <tr>\n",
       "      <th>0</th>\n",
       "      <td>256</td>\n",
       "      <td>22194</td>\n",
       "      <td>5502</td>\n",
       "      <td>235</td>\n",
       "      <td>25063</td>\n",
       "    </tr>\n",
       "    <tr>\n",
       "      <th>1</th>\n",
       "      <td>101</td>\n",
       "      <td>9621</td>\n",
       "      <td>2889</td>\n",
       "      <td>117</td>\n",
       "      <td>10862</td>\n",
       "    </tr>\n",
       "  </tbody>\n",
       "</table>\n",
       "</div>"
      ],
      "text/plain": [
       "Color    0      2     4    6      8\n",
       "Sexo                               \n",
       "0      256  22194  5502  235  25063\n",
       "1      101   9621  2889  117  10862"
      ]
     },
     "execution_count": 8,
     "metadata": {},
     "output_type": "execute_result"
    }
   ],
   "source": [
    "freq_sexo_categ = pd.crosstab(df.Sexo, df.Color) # 1er param filas 2do param columnas\n",
    "freq_sexo_categ"
   ]
  },
  {
   "cell_type": "code",
   "execution_count": 9,
   "metadata": {
    "id": "MEoGsw5C_oCX"
   },
   "outputs": [
    {
     "data": {
      "text/html": [
       "<div>\n",
       "<style scoped>\n",
       "    .dataframe tbody tr th:only-of-type {\n",
       "        vertical-align: middle;\n",
       "    }\n",
       "\n",
       "    .dataframe tbody tr th {\n",
       "        vertical-align: top;\n",
       "    }\n",
       "\n",
       "    .dataframe thead th {\n",
       "        text-align: right;\n",
       "    }\n",
       "</style>\n",
       "<table border=\"1\" class=\"dataframe\">\n",
       "  <thead>\n",
       "    <tr style=\"text-align: right;\">\n",
       "      <th>Color</th>\n",
       "      <th>Europeo</th>\n",
       "      <th>Americano</th>\n",
       "      <th>Africano</th>\n",
       "      <th>Asiatico</th>\n",
       "      <th>Latino</th>\n",
       "    </tr>\n",
       "    <tr>\n",
       "      <th>Sexo</th>\n",
       "      <th></th>\n",
       "      <th></th>\n",
       "      <th></th>\n",
       "      <th></th>\n",
       "      <th></th>\n",
       "    </tr>\n",
       "  </thead>\n",
       "  <tbody>\n",
       "    <tr>\n",
       "      <th>Femenino</th>\n",
       "      <td>256</td>\n",
       "      <td>22194</td>\n",
       "      <td>5502</td>\n",
       "      <td>235</td>\n",
       "      <td>25063</td>\n",
       "    </tr>\n",
       "    <tr>\n",
       "      <th>Masculino</th>\n",
       "      <td>101</td>\n",
       "      <td>9621</td>\n",
       "      <td>2889</td>\n",
       "      <td>117</td>\n",
       "      <td>10862</td>\n",
       "    </tr>\n",
       "  </tbody>\n",
       "</table>\n",
       "</div>"
      ],
      "text/plain": [
       "Color      Europeo  Americano  Africano  Asiatico  Latino\n",
       "Sexo                                                     \n",
       "Femenino       256      22194      5502       235   25063\n",
       "Masculino      101       9621      2889       117   10862"
      ]
     },
     "execution_count": 9,
     "metadata": {},
     "output_type": "execute_result"
    }
   ],
   "source": [
    "#freq_sexo_categ = pd.crosstab(df.Sexo, df.Color, colnames=[\"a\", \"b\"]) # 1er param filas 2do param columnas\n",
    "freq_sexo_categ.rename(index = dict_sexo, inplace=True)\n",
    "freq_sexo_categ.rename(columns = dict_color, inplace=True)\n",
    "freq_sexo_categ"
   ]
  },
  {
   "cell_type": "code",
   "execution_count": 10,
   "metadata": {
    "id": "-u9e2Grd_oOs"
   },
   "outputs": [
    {
     "data": {
      "text/html": [
       "<div>\n",
       "<style scoped>\n",
       "    .dataframe tbody tr th:only-of-type {\n",
       "        vertical-align: middle;\n",
       "    }\n",
       "\n",
       "    .dataframe tbody tr th {\n",
       "        vertical-align: top;\n",
       "    }\n",
       "\n",
       "    .dataframe thead th {\n",
       "        text-align: right;\n",
       "    }\n",
       "</style>\n",
       "<table border=\"1\" class=\"dataframe\">\n",
       "  <thead>\n",
       "    <tr style=\"text-align: right;\">\n",
       "      <th>Color</th>\n",
       "      <th>Europeo</th>\n",
       "      <th>Americano</th>\n",
       "      <th>Africano</th>\n",
       "      <th>Asiatico</th>\n",
       "      <th>Latino</th>\n",
       "      <th>Subtotal Fila</th>\n",
       "    </tr>\n",
       "    <tr>\n",
       "      <th>Sexo</th>\n",
       "      <th></th>\n",
       "      <th></th>\n",
       "      <th></th>\n",
       "      <th></th>\n",
       "      <th></th>\n",
       "      <th></th>\n",
       "    </tr>\n",
       "  </thead>\n",
       "  <tbody>\n",
       "    <tr>\n",
       "      <th>Femenino</th>\n",
       "      <td>0.333160</td>\n",
       "      <td>28.883394</td>\n",
       "      <td>7.160333</td>\n",
       "      <td>0.305830</td>\n",
       "      <td>32.617126</td>\n",
       "      <td>69.299844</td>\n",
       "    </tr>\n",
       "    <tr>\n",
       "      <th>Masculino</th>\n",
       "      <td>0.131442</td>\n",
       "      <td>12.520822</td>\n",
       "      <td>3.759761</td>\n",
       "      <td>0.152264</td>\n",
       "      <td>14.135867</td>\n",
       "      <td>30.700156</td>\n",
       "    </tr>\n",
       "    <tr>\n",
       "      <th>Subtotal Columna</th>\n",
       "      <td>0.464602</td>\n",
       "      <td>41.404217</td>\n",
       "      <td>10.920094</td>\n",
       "      <td>0.458095</td>\n",
       "      <td>46.752993</td>\n",
       "      <td>100.000000</td>\n",
       "    </tr>\n",
       "  </tbody>\n",
       "</table>\n",
       "</div>"
      ],
      "text/plain": [
       "Color              Europeo  Americano   Africano  Asiatico     Latino  \\\n",
       "Sexo                                                                    \n",
       "Femenino          0.333160  28.883394   7.160333  0.305830  32.617126   \n",
       "Masculino         0.131442  12.520822   3.759761  0.152264  14.135867   \n",
       "Subtotal Columna  0.464602  41.404217  10.920094  0.458095  46.752993   \n",
       "\n",
       "Color             Subtotal Fila  \n",
       "Sexo                             \n",
       "Femenino              69.299844  \n",
       "Masculino             30.700156  \n",
       "Subtotal Columna     100.000000  "
      ]
     },
     "execution_count": 10,
     "metadata": {},
     "output_type": "execute_result"
    }
   ],
   "source": [
    "porcent_sexo_categ = pd.crosstab(df.Sexo, df.Color, normalize=True)*100\n",
    "porcent_sexo_categ.rename(index = dict_sexo, inplace=True)\n",
    "porcent_sexo_categ.rename(columns = dict_color, inplace=True)\n",
    "\n",
    "\n",
    "porcent_sexo_categ[\"Subtotal Fila\"] = porcent_sexo_categ.sum(axis=1)\n",
    "porcent_sexo_categ.loc[\"Subtotal Columna\"] = porcent_sexo_categ.sum()\n",
    "\n",
    "porcent_sexo_categ"
   ]
  },
  {
   "cell_type": "code",
   "execution_count": 11,
   "metadata": {
    "id": "-82bPxhIAQA-"
   },
   "outputs": [
    {
     "data": {
      "text/html": [
       "<div>\n",
       "<style scoped>\n",
       "    .dataframe tbody tr th:only-of-type {\n",
       "        vertical-align: middle;\n",
       "    }\n",
       "\n",
       "    .dataframe tbody tr th {\n",
       "        vertical-align: top;\n",
       "    }\n",
       "\n",
       "    .dataframe thead th {\n",
       "        text-align: right;\n",
       "    }\n",
       "</style>\n",
       "<table border=\"1\" class=\"dataframe\">\n",
       "  <thead>\n",
       "    <tr style=\"text-align: right;\">\n",
       "      <th>Color</th>\n",
       "      <th>Europeo</th>\n",
       "      <th>Americano</th>\n",
       "      <th>Africano</th>\n",
       "      <th>Asiatico</th>\n",
       "      <th>Latino</th>\n",
       "    </tr>\n",
       "    <tr>\n",
       "      <th>Sexo</th>\n",
       "      <th></th>\n",
       "      <th></th>\n",
       "      <th></th>\n",
       "      <th></th>\n",
       "      <th></th>\n",
       "    </tr>\n",
       "  </thead>\n",
       "  <tbody>\n",
       "    <tr>\n",
       "      <th>Femenino</th>\n",
       "      <td>1081.710938</td>\n",
       "      <td>2925.744435</td>\n",
       "      <td>1603.861687</td>\n",
       "      <td>4758.251064</td>\n",
       "      <td>1659.577425</td>\n",
       "    </tr>\n",
       "    <tr>\n",
       "      <th>Masculino</th>\n",
       "      <td>2464.386139</td>\n",
       "      <td>2109.866750</td>\n",
       "      <td>1134.596400</td>\n",
       "      <td>3027.341880</td>\n",
       "      <td>1176.758516</td>\n",
       "    </tr>\n",
       "  </tbody>\n",
       "</table>\n",
       "</div>"
      ],
      "text/plain": [
       "Color          Europeo    Americano     Africano     Asiatico       Latino\n",
       "Sexo                                                                      \n",
       "Femenino   1081.710938  2925.744435  1603.861687  4758.251064  1659.577425\n",
       "Masculino  2464.386139  2109.866750  1134.596400  3027.341880  1176.758516"
      ]
     },
     "execution_count": 11,
     "metadata": {},
     "output_type": "execute_result"
    }
   ],
   "source": [
    "renta = pd.crosstab(df.Sexo, df.Color, aggfunc=\"mean\", values=df.Renta)\n",
    "renta.rename(index=dict_sexo, inplace=True)\n",
    "renta.rename(columns = dict_color, inplace=True)\n",
    "renta"
   ]
  },
  {
   "cell_type": "code",
   "execution_count": 12,
   "metadata": {},
   "outputs": [
    {
     "data": {
      "text/html": [
       "<div>\n",
       "<style scoped>\n",
       "    .dataframe tbody tr th:only-of-type {\n",
       "        vertical-align: middle;\n",
       "    }\n",
       "\n",
       "    .dataframe tbody tr th {\n",
       "        vertical-align: top;\n",
       "    }\n",
       "\n",
       "    .dataframe thead th {\n",
       "        text-align: right;\n",
       "    }\n",
       "</style>\n",
       "<table border=\"1\" class=\"dataframe\">\n",
       "  <thead>\n",
       "    <tr style=\"text-align: right;\">\n",
       "      <th>Color</th>\n",
       "      <th>Europeo</th>\n",
       "      <th>Americano</th>\n",
       "      <th>Africano</th>\n",
       "      <th>Asiatico</th>\n",
       "      <th>Latino</th>\n",
       "    </tr>\n",
       "    <tr>\n",
       "      <th>Sexo</th>\n",
       "      <th></th>\n",
       "      <th></th>\n",
       "      <th></th>\n",
       "      <th></th>\n",
       "      <th></th>\n",
       "    </tr>\n",
       "  </thead>\n",
       "  <tbody>\n",
       "    <tr>\n",
       "      <th>Femenino</th>\n",
       "      <td>7.875000</td>\n",
       "      <td>10.140353</td>\n",
       "      <td>8.514540</td>\n",
       "      <td>12.587234</td>\n",
       "      <td>8.329929</td>\n",
       "    </tr>\n",
       "    <tr>\n",
       "      <th>Masculino</th>\n",
       "      <td>9.108911</td>\n",
       "      <td>11.297578</td>\n",
       "      <td>9.522326</td>\n",
       "      <td>12.495726</td>\n",
       "      <td>9.520714</td>\n",
       "    </tr>\n",
       "  </tbody>\n",
       "</table>\n",
       "</div>"
      ],
      "text/plain": [
       "Color       Europeo  Americano  Africano   Asiatico    Latino\n",
       "Sexo                                                         \n",
       "Femenino   7.875000  10.140353  8.514540  12.587234  8.329929\n",
       "Masculino  9.108911  11.297578  9.522326  12.495726  9.520714"
      ]
     },
     "execution_count": 12,
     "metadata": {},
     "output_type": "execute_result"
    }
   ],
   "source": [
    "\n",
    "estudio = pd.crosstab(df.Sexo, df.Color, aggfunc=\"mean\", values=df.Años_Estudio)\n",
    "estudio.rename(index=dict_sexo, inplace=True)\n",
    "estudio.rename(columns=dict_color, inplace=True)\n",
    "estudio"
   ]
  },
  {
   "cell_type": "markdown",
   "metadata": {},
   "source": [
    "Podemos inferir que entre más años de estudio, gana más y paga más de renta"
   ]
  },
  {
   "cell_type": "code",
   "execution_count": 13,
   "metadata": {},
   "outputs": [
    {
     "data": {
      "text/html": [
       "<div>\n",
       "<style scoped>\n",
       "    .dataframe tbody tr th:only-of-type {\n",
       "        vertical-align: middle;\n",
       "    }\n",
       "\n",
       "    .dataframe tbody tr th {\n",
       "        vertical-align: top;\n",
       "    }\n",
       "\n",
       "    .dataframe thead th {\n",
       "        text-align: right;\n",
       "    }\n",
       "</style>\n",
       "<table border=\"1\" class=\"dataframe\">\n",
       "  <thead>\n",
       "    <tr style=\"text-align: right;\">\n",
       "      <th>Color</th>\n",
       "      <th>Europeo</th>\n",
       "      <th>Americano</th>\n",
       "      <th>Africano</th>\n",
       "      <th>Asiatico</th>\n",
       "      <th>Latino</th>\n",
       "    </tr>\n",
       "    <tr>\n",
       "      <th>Sexo</th>\n",
       "      <th></th>\n",
       "      <th></th>\n",
       "      <th></th>\n",
       "      <th></th>\n",
       "      <th></th>\n",
       "    </tr>\n",
       "  </thead>\n",
       "  <tbody>\n",
       "    <tr>\n",
       "      <th>Femenino</th>\n",
       "      <td>1.701357</td>\n",
       "      <td>1.699400</td>\n",
       "      <td>1.700704</td>\n",
       "      <td>1.695750</td>\n",
       "      <td>1.699219</td>\n",
       "    </tr>\n",
       "    <tr>\n",
       "      <th>Masculino</th>\n",
       "      <td>1.698907</td>\n",
       "      <td>1.700432</td>\n",
       "      <td>1.698065</td>\n",
       "      <td>1.702507</td>\n",
       "      <td>1.699398</td>\n",
       "    </tr>\n",
       "  </tbody>\n",
       "</table>\n",
       "</div>"
      ],
      "text/plain": [
       "Color       Europeo  Americano  Africano  Asiatico    Latino\n",
       "Sexo                                                        \n",
       "Femenino   1.701357   1.699400  1.700704  1.695750  1.699219\n",
       "Masculino  1.698907   1.700432  1.698065  1.702507  1.699398"
      ]
     },
     "execution_count": 13,
     "metadata": {},
     "output_type": "execute_result"
    }
   ],
   "source": [
    "altura = pd.crosstab(df.Sexo, df.Color, aggfunc=\"mean\", values=df.Altura)\n",
    "altura.rename(index=dict_sexo, inplace=True)\n",
    "altura.rename(columns=dict_color, inplace=True)\n",
    "altura"
   ]
  },
  {
   "cell_type": "code",
   "execution_count": null,
   "metadata": {},
   "outputs": [],
   "source": []
  }
 ],
 "metadata": {
  "colab": {
   "provenance": []
  },
  "kernelspec": {
   "display_name": "Python 3 (ipykernel)",
   "language": "python",
   "name": "python3"
  },
  "language_info": {
   "codemirror_mode": {
    "name": "ipython",
    "version": 3
   },
   "file_extension": ".py",
   "mimetype": "text/x-python",
   "name": "python",
   "nbconvert_exporter": "python",
   "pygments_lexer": "ipython3",
   "version": "3.11.2"
  }
 },
 "nbformat": 4,
 "nbformat_minor": 1
}
