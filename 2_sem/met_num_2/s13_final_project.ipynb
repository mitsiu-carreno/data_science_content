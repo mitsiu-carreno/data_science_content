{
 "cells": [
  {
   "cell_type": "markdown",
   "metadata": {
    "id": "6hwohUtz4xFU"
   },
   "source": [
    "![image.png](data:image/png;base64,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)"
   ]
  },
  {
   "cell_type": "markdown",
   "metadata": {
    "id": "sI_hqPfY4c3v"
   },
   "source": [
    "# **METODOS NUMERICOS II**"
   ]
  },
  {
   "cell_type": "markdown",
   "metadata": {
    "id": "kLmu6tUTxKud"
   },
   "source": [
    "## Mitsiu Alejandro Carreño Sarabia - E23S-18014"
   ]
  },
  {
   "cell_type": "markdown",
   "metadata": {
    "id": "J2zBFHfc54OP"
   },
   "source": [
    "## Accesando a la base de datos"
   ]
  },
  {
   "cell_type": "code",
   "execution_count": 1,
   "metadata": {
    "id": "JmWTYgYsmcDO"
   },
   "outputs": [
    {
     "name": "stdout",
     "output_type": "stream",
     "text": [
      "(1000, 16)\n"
     ]
    },
    {
     "data": {
      "text/html": [
       "<div>\n",
       "<style scoped>\n",
       "    .dataframe tbody tr th:only-of-type {\n",
       "        vertical-align: middle;\n",
       "    }\n",
       "\n",
       "    .dataframe tbody tr th {\n",
       "        vertical-align: top;\n",
       "    }\n",
       "\n",
       "    .dataframe thead th {\n",
       "        text-align: right;\n",
       "    }\n",
       "</style>\n",
       "<table border=\"1\" class=\"dataframe\">\n",
       "  <thead>\n",
       "    <tr style=\"text-align: right;\">\n",
       "      <th></th>\n",
       "      <th>Poster_Link</th>\n",
       "      <th>Series_Title</th>\n",
       "      <th>Released_Year</th>\n",
       "      <th>Certificate</th>\n",
       "      <th>Runtime</th>\n",
       "      <th>Genre</th>\n",
       "      <th>IMDB_Rating</th>\n",
       "      <th>Overview</th>\n",
       "      <th>Meta_score</th>\n",
       "      <th>Director</th>\n",
       "      <th>Star1</th>\n",
       "      <th>Star2</th>\n",
       "      <th>Star3</th>\n",
       "      <th>Star4</th>\n",
       "      <th>No_of_Votes</th>\n",
       "      <th>Gross</th>\n",
       "    </tr>\n",
       "  </thead>\n",
       "  <tbody>\n",
       "    <tr>\n",
       "      <th>0</th>\n",
       "      <td>https://m.media-amazon.com/images/M/MV5BMDFkYT...</td>\n",
       "      <td>The Shawshank Redemption</td>\n",
       "      <td>1994</td>\n",
       "      <td>A</td>\n",
       "      <td>142 min</td>\n",
       "      <td>Drama</td>\n",
       "      <td>9.3</td>\n",
       "      <td>Two imprisoned men bond over a number of years...</td>\n",
       "      <td>80.0</td>\n",
       "      <td>Frank Darabont</td>\n",
       "      <td>Tim Robbins</td>\n",
       "      <td>Morgan Freeman</td>\n",
       "      <td>Bob Gunton</td>\n",
       "      <td>William Sadler</td>\n",
       "      <td>2343110</td>\n",
       "      <td>28,341,469</td>\n",
       "    </tr>\n",
       "    <tr>\n",
       "      <th>1</th>\n",
       "      <td>https://m.media-amazon.com/images/M/MV5BM2MyNj...</td>\n",
       "      <td>The Godfather</td>\n",
       "      <td>1972</td>\n",
       "      <td>A</td>\n",
       "      <td>175 min</td>\n",
       "      <td>Crime, Drama</td>\n",
       "      <td>9.2</td>\n",
       "      <td>An organized crime dynasty's aging patriarch t...</td>\n",
       "      <td>100.0</td>\n",
       "      <td>Francis Ford Coppola</td>\n",
       "      <td>Marlon Brando</td>\n",
       "      <td>Al Pacino</td>\n",
       "      <td>James Caan</td>\n",
       "      <td>Diane Keaton</td>\n",
       "      <td>1620367</td>\n",
       "      <td>134,966,411</td>\n",
       "    </tr>\n",
       "    <tr>\n",
       "      <th>2</th>\n",
       "      <td>https://m.media-amazon.com/images/M/MV5BMTMxNT...</td>\n",
       "      <td>The Dark Knight</td>\n",
       "      <td>2008</td>\n",
       "      <td>UA</td>\n",
       "      <td>152 min</td>\n",
       "      <td>Action, Crime, Drama</td>\n",
       "      <td>9.0</td>\n",
       "      <td>When the menace known as the Joker wreaks havo...</td>\n",
       "      <td>84.0</td>\n",
       "      <td>Christopher Nolan</td>\n",
       "      <td>Christian Bale</td>\n",
       "      <td>Heath Ledger</td>\n",
       "      <td>Aaron Eckhart</td>\n",
       "      <td>Michael Caine</td>\n",
       "      <td>2303232</td>\n",
       "      <td>534,858,444</td>\n",
       "    </tr>\n",
       "    <tr>\n",
       "      <th>3</th>\n",
       "      <td>https://m.media-amazon.com/images/M/MV5BMWMwMG...</td>\n",
       "      <td>The Godfather: Part II</td>\n",
       "      <td>1974</td>\n",
       "      <td>A</td>\n",
       "      <td>202 min</td>\n",
       "      <td>Crime, Drama</td>\n",
       "      <td>9.0</td>\n",
       "      <td>The early life and career of Vito Corleone in ...</td>\n",
       "      <td>90.0</td>\n",
       "      <td>Francis Ford Coppola</td>\n",
       "      <td>Al Pacino</td>\n",
       "      <td>Robert De Niro</td>\n",
       "      <td>Robert Duvall</td>\n",
       "      <td>Diane Keaton</td>\n",
       "      <td>1129952</td>\n",
       "      <td>57,300,000</td>\n",
       "    </tr>\n",
       "    <tr>\n",
       "      <th>4</th>\n",
       "      <td>https://m.media-amazon.com/images/M/MV5BMWU4N2...</td>\n",
       "      <td>12 Angry Men</td>\n",
       "      <td>1957</td>\n",
       "      <td>U</td>\n",
       "      <td>96 min</td>\n",
       "      <td>Crime, Drama</td>\n",
       "      <td>9.0</td>\n",
       "      <td>A jury holdout attempts to prevent a miscarria...</td>\n",
       "      <td>96.0</td>\n",
       "      <td>Sidney Lumet</td>\n",
       "      <td>Henry Fonda</td>\n",
       "      <td>Lee J. Cobb</td>\n",
       "      <td>Martin Balsam</td>\n",
       "      <td>John Fiedler</td>\n",
       "      <td>689845</td>\n",
       "      <td>4,360,000</td>\n",
       "    </tr>\n",
       "  </tbody>\n",
       "</table>\n",
       "</div>"
      ],
      "text/plain": [
       "                                         Poster_Link  \\\n",
       "0  https://m.media-amazon.com/images/M/MV5BMDFkYT...   \n",
       "1  https://m.media-amazon.com/images/M/MV5BM2MyNj...   \n",
       "2  https://m.media-amazon.com/images/M/MV5BMTMxNT...   \n",
       "3  https://m.media-amazon.com/images/M/MV5BMWMwMG...   \n",
       "4  https://m.media-amazon.com/images/M/MV5BMWU4N2...   \n",
       "\n",
       "               Series_Title Released_Year Certificate  Runtime  \\\n",
       "0  The Shawshank Redemption          1994           A  142 min   \n",
       "1             The Godfather          1972           A  175 min   \n",
       "2           The Dark Knight          2008          UA  152 min   \n",
       "3    The Godfather: Part II          1974           A  202 min   \n",
       "4              12 Angry Men          1957           U   96 min   \n",
       "\n",
       "                  Genre  IMDB_Rating  \\\n",
       "0                 Drama          9.3   \n",
       "1          Crime, Drama          9.2   \n",
       "2  Action, Crime, Drama          9.0   \n",
       "3          Crime, Drama          9.0   \n",
       "4          Crime, Drama          9.0   \n",
       "\n",
       "                                            Overview  Meta_score  \\\n",
       "0  Two imprisoned men bond over a number of years...        80.0   \n",
       "1  An organized crime dynasty's aging patriarch t...       100.0   \n",
       "2  When the menace known as the Joker wreaks havo...        84.0   \n",
       "3  The early life and career of Vito Corleone in ...        90.0   \n",
       "4  A jury holdout attempts to prevent a miscarria...        96.0   \n",
       "\n",
       "               Director           Star1           Star2          Star3  \\\n",
       "0        Frank Darabont     Tim Robbins  Morgan Freeman     Bob Gunton   \n",
       "1  Francis Ford Coppola   Marlon Brando       Al Pacino     James Caan   \n",
       "2     Christopher Nolan  Christian Bale    Heath Ledger  Aaron Eckhart   \n",
       "3  Francis Ford Coppola       Al Pacino  Robert De Niro  Robert Duvall   \n",
       "4          Sidney Lumet     Henry Fonda     Lee J. Cobb  Martin Balsam   \n",
       "\n",
       "            Star4  No_of_Votes        Gross  \n",
       "0  William Sadler      2343110   28,341,469  \n",
       "1    Diane Keaton      1620367  134,966,411  \n",
       "2   Michael Caine      2303232  534,858,444  \n",
       "3    Diane Keaton      1129952   57,300,000  \n",
       "4    John Fiedler       689845    4,360,000  "
      ]
     },
     "execution_count": 1,
     "metadata": {},
     "output_type": "execute_result"
    }
   ],
   "source": [
    "import pandas as pd\n",
    "\n",
    "df = pd.read_csv(\"s13_imdb.csv\")\n",
    "print(df.shape)\n",
    "df.head()"
   ]
  },
  {
   "cell_type": "code",
   "execution_count": 2,
   "metadata": {},
   "outputs": [
    {
     "data": {
      "text/plain": [
       "Poster_Link       object\n",
       "Series_Title      object\n",
       "Released_Year     object\n",
       "Certificate       object\n",
       "Runtime           object\n",
       "Genre             object\n",
       "IMDB_Rating      float64\n",
       "Overview          object\n",
       "Meta_score       float64\n",
       "Director          object\n",
       "Star1             object\n",
       "Star2             object\n",
       "Star3             object\n",
       "Star4             object\n",
       "No_of_Votes        int64\n",
       "Gross             object\n",
       "dtype: object"
      ]
     },
     "execution_count": 2,
     "metadata": {},
     "output_type": "execute_result"
    }
   ],
   "source": [
    "df.dtypes"
   ]
  },
  {
   "cell_type": "markdown",
   "metadata": {
    "id": "Jj0tmfYH7Omm"
   },
   "source": [
    "Content\n",
    "Data:-\n",
    "\n",
    "Poster_Link - Link of the poster that imdb using\n",
    "\n",
    "Series_Title = Name of the movie\n",
    "\n",
    "Released_Year - Year at which that movie released\n",
    "\n",
    "Certificate - Certificate earned by that movie\n",
    "\n",
    "Runtime - Total runtime of the movie\n",
    "\n",
    "Genre - Genre of the movie\n",
    "\n",
    "IMDB_Rating - Rating of the movie at IMDB site\n",
    "\n",
    "Overview - mini story/ summary\n",
    "\n",
    "Meta_score - Score earned by the movie\n",
    "\n",
    "Director - Name of the Director\n",
    "\n",
    "Star1,Star2,Star3,Star4 - Name of the Stars\n",
    "\n",
    "No_of_votes - Total number of votes\n",
    "\n",
    "Gross - Money earned by that movie $USD\n"
   ]
  },
  {
   "cell_type": "markdown",
   "metadata": {
    "id": "OW7TmCPsoDJM"
   },
   "source": [
    "## <font color=green>Frecuencia</font>\n",
    "***"
   ]
  },
  {
   "cell_type": "markdown",
   "metadata": {
    "id": "B7VAVEmroXMC"
   },
   "source": [
    "Separar la **columna de Genre en generos individuales**, y calcaular la frecuencia para cada uno de ellos."
   ]
  },
  {
   "cell_type": "code",
   "execution_count": 3,
   "metadata": {
    "id": "tTpmgX40nycG"
   },
   "outputs": [
    {
     "data": {
      "text/html": [
       "<div>\n",
       "<style scoped>\n",
       "    .dataframe tbody tr th:only-of-type {\n",
       "        vertical-align: middle;\n",
       "    }\n",
       "\n",
       "    .dataframe tbody tr th {\n",
       "        vertical-align: top;\n",
       "    }\n",
       "\n",
       "    .dataframe thead th {\n",
       "        text-align: right;\n",
       "    }\n",
       "</style>\n",
       "<table border=\"1\" class=\"dataframe\">\n",
       "  <thead>\n",
       "    <tr style=\"text-align: right;\">\n",
       "      <th></th>\n",
       "      <th>Poster_Link</th>\n",
       "      <th>Series_Title</th>\n",
       "      <th>Released_Year</th>\n",
       "      <th>Certificate</th>\n",
       "      <th>Runtime</th>\n",
       "      <th>Genre</th>\n",
       "      <th>IMDB_Rating</th>\n",
       "      <th>Overview</th>\n",
       "      <th>Meta_score</th>\n",
       "      <th>Director</th>\n",
       "      <th>Star1</th>\n",
       "      <th>Star2</th>\n",
       "      <th>Star3</th>\n",
       "      <th>Star4</th>\n",
       "      <th>No_of_Votes</th>\n",
       "      <th>Gross</th>\n",
       "    </tr>\n",
       "  </thead>\n",
       "  <tbody>\n",
       "    <tr>\n",
       "      <th>0</th>\n",
       "      <td>https://m.media-amazon.com/images/M/MV5BMDFkYT...</td>\n",
       "      <td>The Shawshank Redemption</td>\n",
       "      <td>1994</td>\n",
       "      <td>A</td>\n",
       "      <td>142 min</td>\n",
       "      <td>Drama</td>\n",
       "      <td>9.3</td>\n",
       "      <td>Two imprisoned men bond over a number of years...</td>\n",
       "      <td>80.0</td>\n",
       "      <td>Frank Darabont</td>\n",
       "      <td>Tim Robbins</td>\n",
       "      <td>Morgan Freeman</td>\n",
       "      <td>Bob Gunton</td>\n",
       "      <td>William Sadler</td>\n",
       "      <td>2343110</td>\n",
       "      <td>28,341,469</td>\n",
       "    </tr>\n",
       "    <tr>\n",
       "      <th>1</th>\n",
       "      <td>https://m.media-amazon.com/images/M/MV5BM2MyNj...</td>\n",
       "      <td>The Godfather</td>\n",
       "      <td>1972</td>\n",
       "      <td>A</td>\n",
       "      <td>175 min</td>\n",
       "      <td>Crime</td>\n",
       "      <td>9.2</td>\n",
       "      <td>An organized crime dynasty's aging patriarch t...</td>\n",
       "      <td>100.0</td>\n",
       "      <td>Francis Ford Coppola</td>\n",
       "      <td>Marlon Brando</td>\n",
       "      <td>Al Pacino</td>\n",
       "      <td>James Caan</td>\n",
       "      <td>Diane Keaton</td>\n",
       "      <td>1620367</td>\n",
       "      <td>134,966,411</td>\n",
       "    </tr>\n",
       "    <tr>\n",
       "      <th>1</th>\n",
       "      <td>https://m.media-amazon.com/images/M/MV5BM2MyNj...</td>\n",
       "      <td>The Godfather</td>\n",
       "      <td>1972</td>\n",
       "      <td>A</td>\n",
       "      <td>175 min</td>\n",
       "      <td>Drama</td>\n",
       "      <td>9.2</td>\n",
       "      <td>An organized crime dynasty's aging patriarch t...</td>\n",
       "      <td>100.0</td>\n",
       "      <td>Francis Ford Coppola</td>\n",
       "      <td>Marlon Brando</td>\n",
       "      <td>Al Pacino</td>\n",
       "      <td>James Caan</td>\n",
       "      <td>Diane Keaton</td>\n",
       "      <td>1620367</td>\n",
       "      <td>134,966,411</td>\n",
       "    </tr>\n",
       "    <tr>\n",
       "      <th>2</th>\n",
       "      <td>https://m.media-amazon.com/images/M/MV5BMTMxNT...</td>\n",
       "      <td>The Dark Knight</td>\n",
       "      <td>2008</td>\n",
       "      <td>UA</td>\n",
       "      <td>152 min</td>\n",
       "      <td>Action</td>\n",
       "      <td>9.0</td>\n",
       "      <td>When the menace known as the Joker wreaks havo...</td>\n",
       "      <td>84.0</td>\n",
       "      <td>Christopher Nolan</td>\n",
       "      <td>Christian Bale</td>\n",
       "      <td>Heath Ledger</td>\n",
       "      <td>Aaron Eckhart</td>\n",
       "      <td>Michael Caine</td>\n",
       "      <td>2303232</td>\n",
       "      <td>534,858,444</td>\n",
       "    </tr>\n",
       "    <tr>\n",
       "      <th>2</th>\n",
       "      <td>https://m.media-amazon.com/images/M/MV5BMTMxNT...</td>\n",
       "      <td>The Dark Knight</td>\n",
       "      <td>2008</td>\n",
       "      <td>UA</td>\n",
       "      <td>152 min</td>\n",
       "      <td>Crime</td>\n",
       "      <td>9.0</td>\n",
       "      <td>When the menace known as the Joker wreaks havo...</td>\n",
       "      <td>84.0</td>\n",
       "      <td>Christopher Nolan</td>\n",
       "      <td>Christian Bale</td>\n",
       "      <td>Heath Ledger</td>\n",
       "      <td>Aaron Eckhart</td>\n",
       "      <td>Michael Caine</td>\n",
       "      <td>2303232</td>\n",
       "      <td>534,858,444</td>\n",
       "    </tr>\n",
       "  </tbody>\n",
       "</table>\n",
       "</div>"
      ],
      "text/plain": [
       "                                         Poster_Link  \\\n",
       "0  https://m.media-amazon.com/images/M/MV5BMDFkYT...   \n",
       "1  https://m.media-amazon.com/images/M/MV5BM2MyNj...   \n",
       "1  https://m.media-amazon.com/images/M/MV5BM2MyNj...   \n",
       "2  https://m.media-amazon.com/images/M/MV5BMTMxNT...   \n",
       "2  https://m.media-amazon.com/images/M/MV5BMTMxNT...   \n",
       "\n",
       "               Series_Title Released_Year Certificate  Runtime   Genre  \\\n",
       "0  The Shawshank Redemption          1994           A  142 min   Drama   \n",
       "1             The Godfather          1972           A  175 min   Crime   \n",
       "1             The Godfather          1972           A  175 min   Drama   \n",
       "2           The Dark Knight          2008          UA  152 min  Action   \n",
       "2           The Dark Knight          2008          UA  152 min   Crime   \n",
       "\n",
       "   IMDB_Rating                                           Overview  Meta_score  \\\n",
       "0          9.3  Two imprisoned men bond over a number of years...        80.0   \n",
       "1          9.2  An organized crime dynasty's aging patriarch t...       100.0   \n",
       "1          9.2  An organized crime dynasty's aging patriarch t...       100.0   \n",
       "2          9.0  When the menace known as the Joker wreaks havo...        84.0   \n",
       "2          9.0  When the menace known as the Joker wreaks havo...        84.0   \n",
       "\n",
       "               Director           Star1           Star2          Star3  \\\n",
       "0        Frank Darabont     Tim Robbins  Morgan Freeman     Bob Gunton   \n",
       "1  Francis Ford Coppola   Marlon Brando       Al Pacino     James Caan   \n",
       "1  Francis Ford Coppola   Marlon Brando       Al Pacino     James Caan   \n",
       "2     Christopher Nolan  Christian Bale    Heath Ledger  Aaron Eckhart   \n",
       "2     Christopher Nolan  Christian Bale    Heath Ledger  Aaron Eckhart   \n",
       "\n",
       "            Star4  No_of_Votes        Gross  \n",
       "0  William Sadler      2343110   28,341,469  \n",
       "1    Diane Keaton      1620367  134,966,411  \n",
       "1    Diane Keaton      1620367  134,966,411  \n",
       "2   Michael Caine      2303232  534,858,444  \n",
       "2   Michael Caine      2303232  534,858,444  "
      ]
     },
     "execution_count": 3,
     "metadata": {},
     "output_type": "execute_result"
    }
   ],
   "source": [
    "df_expand_genres = df.assign(Genre=df['Genre'].str.split(', ')).explode('Genre')\n",
    "df_expand_genres.head()"
   ]
  },
  {
   "cell_type": "code",
   "execution_count": 4,
   "metadata": {
    "id": "DUKbN_RCnx1U"
   },
   "outputs": [
    {
     "data": {
      "text/plain": [
       "Genre\n",
       "Drama        724\n",
       "Comedy       233\n",
       "Crime        209\n",
       "Adventure    196\n",
       "Action       189\n",
       "Thriller     137\n",
       "Romance      125\n",
       "Biography    109\n",
       "Mystery       99\n",
       "Animation     82\n",
       "Sci-Fi        67\n",
       "Fantasy       66\n",
       "History       56\n",
       "Family        56\n",
       "War           51\n",
       "Music         35\n",
       "Horror        32\n",
       "Western       20\n",
       "Film-Noir     19\n",
       "Sport         19\n",
       "Musical       17\n",
       "Name: count, dtype: int64"
      ]
     },
     "execution_count": 4,
     "metadata": {},
     "output_type": "execute_result"
    }
   ],
   "source": [
    "freq_genres = df_expand_genres[\"Genre\"].value_counts(dropna=False)\n",
    "freq_genres"
   ]
  },
  {
   "cell_type": "code",
   "execution_count": 5,
   "metadata": {
    "id": "cEyqhoY1nxub"
   },
   "outputs": [
    {
     "data": {
      "text/plain": [
       "Genre\n",
       "Drama        28.492719\n",
       "Comedy        9.169618\n",
       "Crime         8.225108\n",
       "Adventure     7.713499\n",
       "Action        7.438017\n",
       "Thriller      5.391578\n",
       "Romance       4.919323\n",
       "Biography     4.289650\n",
       "Mystery       3.896104\n",
       "Animation     3.227076\n",
       "Sci-Fi        2.636757\n",
       "Fantasy       2.597403\n",
       "History       2.203857\n",
       "Family        2.203857\n",
       "War           2.007084\n",
       "Music         1.377410\n",
       "Horror        1.259347\n",
       "Western       0.787092\n",
       "Film-Noir     0.747737\n",
       "Sport         0.747737\n",
       "Musical       0.669028\n",
       "Name: proportion, dtype: float64"
      ]
     },
     "execution_count": 5,
     "metadata": {},
     "output_type": "execute_result"
    }
   ],
   "source": [
    "percent_genres = df_expand_genres[\"Genre\"].value_counts(dropna=False, normalize = True) * 100\n",
    "percent_genres"
   ]
  },
  {
   "cell_type": "code",
   "execution_count": 6,
   "metadata": {
    "id": "RY2hbuUureJX"
   },
   "outputs": [
    {
     "data": {
      "text/html": [
       "<div>\n",
       "<style scoped>\n",
       "    .dataframe tbody tr th:only-of-type {\n",
       "        vertical-align: middle;\n",
       "    }\n",
       "\n",
       "    .dataframe tbody tr th {\n",
       "        vertical-align: top;\n",
       "    }\n",
       "\n",
       "    .dataframe thead th {\n",
       "        text-align: right;\n",
       "    }\n",
       "</style>\n",
       "<table border=\"1\" class=\"dataframe\">\n",
       "  <thead>\n",
       "    <tr style=\"text-align: right;\">\n",
       "      <th></th>\n",
       "      <th>Frecuencia</th>\n",
       "      <th>Porcentaje</th>\n",
       "    </tr>\n",
       "    <tr>\n",
       "      <th>Genre</th>\n",
       "      <th></th>\n",
       "      <th></th>\n",
       "    </tr>\n",
       "  </thead>\n",
       "  <tbody>\n",
       "    <tr>\n",
       "      <th>Drama</th>\n",
       "      <td>724</td>\n",
       "      <td>28.492719</td>\n",
       "    </tr>\n",
       "    <tr>\n",
       "      <th>Comedy</th>\n",
       "      <td>233</td>\n",
       "      <td>9.169618</td>\n",
       "    </tr>\n",
       "    <tr>\n",
       "      <th>Crime</th>\n",
       "      <td>209</td>\n",
       "      <td>8.225108</td>\n",
       "    </tr>\n",
       "    <tr>\n",
       "      <th>Adventure</th>\n",
       "      <td>196</td>\n",
       "      <td>7.713499</td>\n",
       "    </tr>\n",
       "    <tr>\n",
       "      <th>Action</th>\n",
       "      <td>189</td>\n",
       "      <td>7.438017</td>\n",
       "    </tr>\n",
       "    <tr>\n",
       "      <th>Thriller</th>\n",
       "      <td>137</td>\n",
       "      <td>5.391578</td>\n",
       "    </tr>\n",
       "    <tr>\n",
       "      <th>Romance</th>\n",
       "      <td>125</td>\n",
       "      <td>4.919323</td>\n",
       "    </tr>\n",
       "    <tr>\n",
       "      <th>Biography</th>\n",
       "      <td>109</td>\n",
       "      <td>4.289650</td>\n",
       "    </tr>\n",
       "    <tr>\n",
       "      <th>Mystery</th>\n",
       "      <td>99</td>\n",
       "      <td>3.896104</td>\n",
       "    </tr>\n",
       "    <tr>\n",
       "      <th>Animation</th>\n",
       "      <td>82</td>\n",
       "      <td>3.227076</td>\n",
       "    </tr>\n",
       "    <tr>\n",
       "      <th>Sci-Fi</th>\n",
       "      <td>67</td>\n",
       "      <td>2.636757</td>\n",
       "    </tr>\n",
       "    <tr>\n",
       "      <th>Fantasy</th>\n",
       "      <td>66</td>\n",
       "      <td>2.597403</td>\n",
       "    </tr>\n",
       "    <tr>\n",
       "      <th>History</th>\n",
       "      <td>56</td>\n",
       "      <td>2.203857</td>\n",
       "    </tr>\n",
       "    <tr>\n",
       "      <th>Family</th>\n",
       "      <td>56</td>\n",
       "      <td>2.203857</td>\n",
       "    </tr>\n",
       "    <tr>\n",
       "      <th>War</th>\n",
       "      <td>51</td>\n",
       "      <td>2.007084</td>\n",
       "    </tr>\n",
       "    <tr>\n",
       "      <th>Music</th>\n",
       "      <td>35</td>\n",
       "      <td>1.377410</td>\n",
       "    </tr>\n",
       "    <tr>\n",
       "      <th>Horror</th>\n",
       "      <td>32</td>\n",
       "      <td>1.259347</td>\n",
       "    </tr>\n",
       "    <tr>\n",
       "      <th>Western</th>\n",
       "      <td>20</td>\n",
       "      <td>0.787092</td>\n",
       "    </tr>\n",
       "    <tr>\n",
       "      <th>Film-Noir</th>\n",
       "      <td>19</td>\n",
       "      <td>0.747737</td>\n",
       "    </tr>\n",
       "    <tr>\n",
       "      <th>Sport</th>\n",
       "      <td>19</td>\n",
       "      <td>0.747737</td>\n",
       "    </tr>\n",
       "    <tr>\n",
       "      <th>Musical</th>\n",
       "      <td>17</td>\n",
       "      <td>0.669028</td>\n",
       "    </tr>\n",
       "  </tbody>\n",
       "</table>\n",
       "</div>"
      ],
      "text/plain": [
       "           Frecuencia  Porcentaje\n",
       "Genre                            \n",
       "Drama             724   28.492719\n",
       "Comedy            233    9.169618\n",
       "Crime             209    8.225108\n",
       "Adventure         196    7.713499\n",
       "Action            189    7.438017\n",
       "Thriller          137    5.391578\n",
       "Romance           125    4.919323\n",
       "Biography         109    4.289650\n",
       "Mystery            99    3.896104\n",
       "Animation          82    3.227076\n",
       "Sci-Fi             67    2.636757\n",
       "Fantasy            66    2.597403\n",
       "History            56    2.203857\n",
       "Family             56    2.203857\n",
       "War                51    2.007084\n",
       "Music              35    1.377410\n",
       "Horror             32    1.259347\n",
       "Western            20    0.787092\n",
       "Film-Noir          19    0.747737\n",
       "Sport              19    0.747737\n",
       "Musical            17    0.669028"
      ]
     },
     "execution_count": 6,
     "metadata": {},
     "output_type": "execute_result"
    }
   ],
   "source": [
    "distr_genres = pd.DataFrame({\"Frecuencia\": freq_genres, \"Porcentaje\": percent_genres})\n",
    "distr_genres"
   ]
  },
  {
   "cell_type": "markdown",
   "metadata": {
    "id": "H7Jql1_hoDix"
   },
   "source": [
    "Calcular la frecuencia para la variable Certificate"
   ]
  },
  {
   "cell_type": "code",
   "execution_count": 7,
   "metadata": {
    "id": "Z-_Up3y5oJPP"
   },
   "outputs": [
    {
     "data": {
      "text/plain": [
       "Certificate\n",
       "U           234\n",
       "A           197\n",
       "UA          175\n",
       "R           146\n",
       "NaN         101\n",
       "PG-13        43\n",
       "PG           37\n",
       "Passed       34\n",
       "G            12\n",
       "Approved     11\n",
       "TV-PG         3\n",
       "GP            2\n",
       "TV-14         1\n",
       "16            1\n",
       "TV-MA         1\n",
       "Unrated       1\n",
       "U/A           1\n",
       "Name: count, dtype: int64"
      ]
     },
     "execution_count": 7,
     "metadata": {},
     "output_type": "execute_result"
    }
   ],
   "source": [
    "df[\"Certificate\"].value_counts(dropna=False)"
   ]
  },
  {
   "cell_type": "code",
   "execution_count": 8,
   "metadata": {},
   "outputs": [],
   "source": [
    "df.loc[df['Certificate'] == \"U/A\", 'Certificate'] = 'UA';"
   ]
  },
  {
   "cell_type": "code",
   "execution_count": 9,
   "metadata": {
    "id": "nWlYU0QSoJKJ"
   },
   "outputs": [
    {
     "data": {
      "text/html": [
       "<div>\n",
       "<style scoped>\n",
       "    .dataframe tbody tr th:only-of-type {\n",
       "        vertical-align: middle;\n",
       "    }\n",
       "\n",
       "    .dataframe tbody tr th {\n",
       "        vertical-align: top;\n",
       "    }\n",
       "\n",
       "    .dataframe thead th {\n",
       "        text-align: right;\n",
       "    }\n",
       "</style>\n",
       "<table border=\"1\" class=\"dataframe\">\n",
       "  <thead>\n",
       "    <tr style=\"text-align: right;\">\n",
       "      <th></th>\n",
       "      <th>Frecuencia</th>\n",
       "      <th>Porcentaje</th>\n",
       "    </tr>\n",
       "    <tr>\n",
       "      <th>Certificate</th>\n",
       "      <th></th>\n",
       "      <th></th>\n",
       "    </tr>\n",
       "  </thead>\n",
       "  <tbody>\n",
       "    <tr>\n",
       "      <th>U</th>\n",
       "      <td>234</td>\n",
       "      <td>23.4</td>\n",
       "    </tr>\n",
       "    <tr>\n",
       "      <th>A</th>\n",
       "      <td>197</td>\n",
       "      <td>19.7</td>\n",
       "    </tr>\n",
       "    <tr>\n",
       "      <th>UA</th>\n",
       "      <td>176</td>\n",
       "      <td>17.6</td>\n",
       "    </tr>\n",
       "    <tr>\n",
       "      <th>R</th>\n",
       "      <td>146</td>\n",
       "      <td>14.6</td>\n",
       "    </tr>\n",
       "    <tr>\n",
       "      <th>NaN</th>\n",
       "      <td>101</td>\n",
       "      <td>10.1</td>\n",
       "    </tr>\n",
       "    <tr>\n",
       "      <th>PG-13</th>\n",
       "      <td>43</td>\n",
       "      <td>4.3</td>\n",
       "    </tr>\n",
       "    <tr>\n",
       "      <th>PG</th>\n",
       "      <td>37</td>\n",
       "      <td>3.7</td>\n",
       "    </tr>\n",
       "    <tr>\n",
       "      <th>Passed</th>\n",
       "      <td>34</td>\n",
       "      <td>3.4</td>\n",
       "    </tr>\n",
       "    <tr>\n",
       "      <th>G</th>\n",
       "      <td>12</td>\n",
       "      <td>1.2</td>\n",
       "    </tr>\n",
       "    <tr>\n",
       "      <th>Approved</th>\n",
       "      <td>11</td>\n",
       "      <td>1.1</td>\n",
       "    </tr>\n",
       "    <tr>\n",
       "      <th>TV-PG</th>\n",
       "      <td>3</td>\n",
       "      <td>0.3</td>\n",
       "    </tr>\n",
       "    <tr>\n",
       "      <th>GP</th>\n",
       "      <td>2</td>\n",
       "      <td>0.2</td>\n",
       "    </tr>\n",
       "    <tr>\n",
       "      <th>TV-14</th>\n",
       "      <td>1</td>\n",
       "      <td>0.1</td>\n",
       "    </tr>\n",
       "    <tr>\n",
       "      <th>16</th>\n",
       "      <td>1</td>\n",
       "      <td>0.1</td>\n",
       "    </tr>\n",
       "    <tr>\n",
       "      <th>TV-MA</th>\n",
       "      <td>1</td>\n",
       "      <td>0.1</td>\n",
       "    </tr>\n",
       "    <tr>\n",
       "      <th>Unrated</th>\n",
       "      <td>1</td>\n",
       "      <td>0.1</td>\n",
       "    </tr>\n",
       "  </tbody>\n",
       "</table>\n",
       "</div>"
      ],
      "text/plain": [
       "             Frecuencia  Porcentaje\n",
       "Certificate                        \n",
       "U                   234        23.4\n",
       "A                   197        19.7\n",
       "UA                  176        17.6\n",
       "R                   146        14.6\n",
       "NaN                 101        10.1\n",
       "PG-13                43         4.3\n",
       "PG                   37         3.7\n",
       "Passed               34         3.4\n",
       "G                    12         1.2\n",
       "Approved             11         1.1\n",
       "TV-PG                 3         0.3\n",
       "GP                    2         0.2\n",
       "TV-14                 1         0.1\n",
       "16                    1         0.1\n",
       "TV-MA                 1         0.1\n",
       "Unrated               1         0.1"
      ]
     },
     "execution_count": 9,
     "metadata": {},
     "output_type": "execute_result"
    }
   ],
   "source": [
    "distr_certificates = pd.DataFrame({\n",
    "    \"Frecuencia\": df[\"Certificate\"].value_counts(dropna=False), \n",
    "    \"Porcentaje\": df[\"Certificate\"].value_counts(normalize=True, dropna=False)* 100})\n",
    "distr_certificates"
   ]
  },
  {
   "cell_type": "markdown",
   "metadata": {},
   "source": [
    "## Expandiendo UA \n",
    "Podemos notar que existen tanto clasificación \"U\" y \"A\" así como \"UA\" en caso de que \"UA\" represente lo mismo que \"U\" + \"A\" podemos transformar los datos de la siguiente manera"
   ]
  },
  {
   "cell_type": "code",
   "execution_count": 11,
   "metadata": {},
   "outputs": [
    {
     "data": {
      "text/html": [
       "<div>\n",
       "<style scoped>\n",
       "    .dataframe tbody tr th:only-of-type {\n",
       "        vertical-align: middle;\n",
       "    }\n",
       "\n",
       "    .dataframe tbody tr th {\n",
       "        vertical-align: top;\n",
       "    }\n",
       "\n",
       "    .dataframe thead th {\n",
       "        text-align: right;\n",
       "    }\n",
       "</style>\n",
       "<table border=\"1\" class=\"dataframe\">\n",
       "  <thead>\n",
       "    <tr style=\"text-align: right;\">\n",
       "      <th></th>\n",
       "      <th>Poster_Link</th>\n",
       "      <th>Series_Title</th>\n",
       "      <th>Released_Year</th>\n",
       "      <th>Certificate</th>\n",
       "      <th>Runtime</th>\n",
       "      <th>Genre</th>\n",
       "      <th>IMDB_Rating</th>\n",
       "      <th>Overview</th>\n",
       "      <th>Meta_score</th>\n",
       "      <th>Director</th>\n",
       "      <th>Star1</th>\n",
       "      <th>Star2</th>\n",
       "      <th>Star3</th>\n",
       "      <th>Star4</th>\n",
       "      <th>No_of_Votes</th>\n",
       "      <th>Gross</th>\n",
       "    </tr>\n",
       "  </thead>\n",
       "  <tbody>\n",
       "    <tr>\n",
       "      <th>0</th>\n",
       "      <td>https://m.media-amazon.com/images/M/MV5BMDFkYT...</td>\n",
       "      <td>The Shawshank Redemption</td>\n",
       "      <td>1994</td>\n",
       "      <td>A</td>\n",
       "      <td>142 min</td>\n",
       "      <td>Drama</td>\n",
       "      <td>9.3</td>\n",
       "      <td>Two imprisoned men bond over a number of years...</td>\n",
       "      <td>80.0</td>\n",
       "      <td>Frank Darabont</td>\n",
       "      <td>Tim Robbins</td>\n",
       "      <td>Morgan Freeman</td>\n",
       "      <td>Bob Gunton</td>\n",
       "      <td>William Sadler</td>\n",
       "      <td>2343110</td>\n",
       "      <td>28,341,469</td>\n",
       "    </tr>\n",
       "    <tr>\n",
       "      <th>1</th>\n",
       "      <td>https://m.media-amazon.com/images/M/MV5BM2MyNj...</td>\n",
       "      <td>The Godfather</td>\n",
       "      <td>1972</td>\n",
       "      <td>A</td>\n",
       "      <td>175 min</td>\n",
       "      <td>Crime, Drama</td>\n",
       "      <td>9.2</td>\n",
       "      <td>An organized crime dynasty's aging patriarch t...</td>\n",
       "      <td>100.0</td>\n",
       "      <td>Francis Ford Coppola</td>\n",
       "      <td>Marlon Brando</td>\n",
       "      <td>Al Pacino</td>\n",
       "      <td>James Caan</td>\n",
       "      <td>Diane Keaton</td>\n",
       "      <td>1620367</td>\n",
       "      <td>134,966,411</td>\n",
       "    </tr>\n",
       "    <tr>\n",
       "      <th>2</th>\n",
       "      <td>https://m.media-amazon.com/images/M/MV5BMTMxNT...</td>\n",
       "      <td>The Dark Knight</td>\n",
       "      <td>2008</td>\n",
       "      <td>U</td>\n",
       "      <td>152 min</td>\n",
       "      <td>Action, Crime, Drama</td>\n",
       "      <td>9.0</td>\n",
       "      <td>When the menace known as the Joker wreaks havo...</td>\n",
       "      <td>84.0</td>\n",
       "      <td>Christopher Nolan</td>\n",
       "      <td>Christian Bale</td>\n",
       "      <td>Heath Ledger</td>\n",
       "      <td>Aaron Eckhart</td>\n",
       "      <td>Michael Caine</td>\n",
       "      <td>2303232</td>\n",
       "      <td>534,858,444</td>\n",
       "    </tr>\n",
       "    <tr>\n",
       "      <th>2</th>\n",
       "      <td>https://m.media-amazon.com/images/M/MV5BMTMxNT...</td>\n",
       "      <td>The Dark Knight</td>\n",
       "      <td>2008</td>\n",
       "      <td>A</td>\n",
       "      <td>152 min</td>\n",
       "      <td>Action, Crime, Drama</td>\n",
       "      <td>9.0</td>\n",
       "      <td>When the menace known as the Joker wreaks havo...</td>\n",
       "      <td>84.0</td>\n",
       "      <td>Christopher Nolan</td>\n",
       "      <td>Christian Bale</td>\n",
       "      <td>Heath Ledger</td>\n",
       "      <td>Aaron Eckhart</td>\n",
       "      <td>Michael Caine</td>\n",
       "      <td>2303232</td>\n",
       "      <td>534,858,444</td>\n",
       "    </tr>\n",
       "    <tr>\n",
       "      <th>3</th>\n",
       "      <td>https://m.media-amazon.com/images/M/MV5BMWMwMG...</td>\n",
       "      <td>The Godfather: Part II</td>\n",
       "      <td>1974</td>\n",
       "      <td>A</td>\n",
       "      <td>202 min</td>\n",
       "      <td>Crime, Drama</td>\n",
       "      <td>9.0</td>\n",
       "      <td>The early life and career of Vito Corleone in ...</td>\n",
       "      <td>90.0</td>\n",
       "      <td>Francis Ford Coppola</td>\n",
       "      <td>Al Pacino</td>\n",
       "      <td>Robert De Niro</td>\n",
       "      <td>Robert Duvall</td>\n",
       "      <td>Diane Keaton</td>\n",
       "      <td>1129952</td>\n",
       "      <td>57,300,000</td>\n",
       "    </tr>\n",
       "  </tbody>\n",
       "</table>\n",
       "</div>"
      ],
      "text/plain": [
       "                                         Poster_Link  \\\n",
       "0  https://m.media-amazon.com/images/M/MV5BMDFkYT...   \n",
       "1  https://m.media-amazon.com/images/M/MV5BM2MyNj...   \n",
       "2  https://m.media-amazon.com/images/M/MV5BMTMxNT...   \n",
       "2  https://m.media-amazon.com/images/M/MV5BMTMxNT...   \n",
       "3  https://m.media-amazon.com/images/M/MV5BMWMwMG...   \n",
       "\n",
       "               Series_Title Released_Year Certificate  Runtime  \\\n",
       "0  The Shawshank Redemption          1994           A  142 min   \n",
       "1             The Godfather          1972           A  175 min   \n",
       "2           The Dark Knight          2008           U  152 min   \n",
       "2           The Dark Knight          2008           A  152 min   \n",
       "3    The Godfather: Part II          1974           A  202 min   \n",
       "\n",
       "                  Genre  IMDB_Rating  \\\n",
       "0                 Drama          9.3   \n",
       "1          Crime, Drama          9.2   \n",
       "2  Action, Crime, Drama          9.0   \n",
       "2  Action, Crime, Drama          9.0   \n",
       "3          Crime, Drama          9.0   \n",
       "\n",
       "                                            Overview  Meta_score  \\\n",
       "0  Two imprisoned men bond over a number of years...        80.0   \n",
       "1  An organized crime dynasty's aging patriarch t...       100.0   \n",
       "2  When the menace known as the Joker wreaks havo...        84.0   \n",
       "2  When the menace known as the Joker wreaks havo...        84.0   \n",
       "3  The early life and career of Vito Corleone in ...        90.0   \n",
       "\n",
       "               Director           Star1           Star2          Star3  \\\n",
       "0        Frank Darabont     Tim Robbins  Morgan Freeman     Bob Gunton   \n",
       "1  Francis Ford Coppola   Marlon Brando       Al Pacino     James Caan   \n",
       "2     Christopher Nolan  Christian Bale    Heath Ledger  Aaron Eckhart   \n",
       "2     Christopher Nolan  Christian Bale    Heath Ledger  Aaron Eckhart   \n",
       "3  Francis Ford Coppola       Al Pacino  Robert De Niro  Robert Duvall   \n",
       "\n",
       "            Star4  No_of_Votes        Gross  \n",
       "0  William Sadler      2343110   28,341,469  \n",
       "1    Diane Keaton      1620367  134,966,411  \n",
       "2   Michael Caine      2303232  534,858,444  \n",
       "2   Michael Caine      2303232  534,858,444  \n",
       "3    Diane Keaton      1129952   57,300,000  "
      ]
     },
     "execution_count": 11,
     "metadata": {},
     "output_type": "execute_result"
    }
   ],
   "source": [
    "df_expand_certs = df.copy()\n",
    "df_expand_certs.loc[df_expand_certs['Certificate'] == \"UA\", \"Certificate\"] = \"U, A\";\n",
    "df_expand_certs = df_expand_certs.assign(Certificate=df_expand_certs['Certificate'].str.split(\", \")).explode(\"Certificate\")\n",
    "df_expand_certs.head(5)"
   ]
  },
  {
   "cell_type": "code",
   "execution_count": 12,
   "metadata": {},
   "outputs": [
    {
     "data": {
      "text/html": [
       "<div>\n",
       "<style scoped>\n",
       "    .dataframe tbody tr th:only-of-type {\n",
       "        vertical-align: middle;\n",
       "    }\n",
       "\n",
       "    .dataframe tbody tr th {\n",
       "        vertical-align: top;\n",
       "    }\n",
       "\n",
       "    .dataframe thead th {\n",
       "        text-align: right;\n",
       "    }\n",
       "</style>\n",
       "<table border=\"1\" class=\"dataframe\">\n",
       "  <thead>\n",
       "    <tr style=\"text-align: right;\">\n",
       "      <th></th>\n",
       "      <th>Frecuencia</th>\n",
       "      <th>Porcentaje</th>\n",
       "    </tr>\n",
       "    <tr>\n",
       "      <th>Certificate</th>\n",
       "      <th></th>\n",
       "      <th></th>\n",
       "    </tr>\n",
       "  </thead>\n",
       "  <tbody>\n",
       "    <tr>\n",
       "      <th>U</th>\n",
       "      <td>410</td>\n",
       "      <td>34.863946</td>\n",
       "    </tr>\n",
       "    <tr>\n",
       "      <th>A</th>\n",
       "      <td>373</td>\n",
       "      <td>31.717687</td>\n",
       "    </tr>\n",
       "    <tr>\n",
       "      <th>R</th>\n",
       "      <td>146</td>\n",
       "      <td>12.414966</td>\n",
       "    </tr>\n",
       "    <tr>\n",
       "      <th>NaN</th>\n",
       "      <td>101</td>\n",
       "      <td>8.588435</td>\n",
       "    </tr>\n",
       "    <tr>\n",
       "      <th>PG-13</th>\n",
       "      <td>43</td>\n",
       "      <td>3.656463</td>\n",
       "    </tr>\n",
       "    <tr>\n",
       "      <th>PG</th>\n",
       "      <td>37</td>\n",
       "      <td>3.146259</td>\n",
       "    </tr>\n",
       "    <tr>\n",
       "      <th>Passed</th>\n",
       "      <td>34</td>\n",
       "      <td>2.891156</td>\n",
       "    </tr>\n",
       "    <tr>\n",
       "      <th>G</th>\n",
       "      <td>12</td>\n",
       "      <td>1.020408</td>\n",
       "    </tr>\n",
       "    <tr>\n",
       "      <th>Approved</th>\n",
       "      <td>11</td>\n",
       "      <td>0.935374</td>\n",
       "    </tr>\n",
       "    <tr>\n",
       "      <th>TV-PG</th>\n",
       "      <td>3</td>\n",
       "      <td>0.255102</td>\n",
       "    </tr>\n",
       "    <tr>\n",
       "      <th>GP</th>\n",
       "      <td>2</td>\n",
       "      <td>0.170068</td>\n",
       "    </tr>\n",
       "    <tr>\n",
       "      <th>TV-14</th>\n",
       "      <td>1</td>\n",
       "      <td>0.085034</td>\n",
       "    </tr>\n",
       "    <tr>\n",
       "      <th>16</th>\n",
       "      <td>1</td>\n",
       "      <td>0.085034</td>\n",
       "    </tr>\n",
       "    <tr>\n",
       "      <th>TV-MA</th>\n",
       "      <td>1</td>\n",
       "      <td>0.085034</td>\n",
       "    </tr>\n",
       "    <tr>\n",
       "      <th>Unrated</th>\n",
       "      <td>1</td>\n",
       "      <td>0.085034</td>\n",
       "    </tr>\n",
       "  </tbody>\n",
       "</table>\n",
       "</div>"
      ],
      "text/plain": [
       "             Frecuencia  Porcentaje\n",
       "Certificate                        \n",
       "U                   410   34.863946\n",
       "A                   373   31.717687\n",
       "R                   146   12.414966\n",
       "NaN                 101    8.588435\n",
       "PG-13                43    3.656463\n",
       "PG                   37    3.146259\n",
       "Passed               34    2.891156\n",
       "G                    12    1.020408\n",
       "Approved             11    0.935374\n",
       "TV-PG                 3    0.255102\n",
       "GP                    2    0.170068\n",
       "TV-14                 1    0.085034\n",
       "16                    1    0.085034\n",
       "TV-MA                 1    0.085034\n",
       "Unrated               1    0.085034"
      ]
     },
     "execution_count": 12,
     "metadata": {},
     "output_type": "execute_result"
    }
   ],
   "source": [
    "distr_certificates = pd.DataFrame({\n",
    "    \"Frecuencia\": df_expand_certs[\"Certificate\"].value_counts(dropna=False), \n",
    "    \"Porcentaje\": df_expand_certs[\"Certificate\"].value_counts(normalize=True, dropna=False)* 100})\n",
    "distr_certificates"
   ]
  },
  {
   "cell_type": "markdown",
   "metadata": {
    "id": "nGReM6AhoZYk"
   },
   "source": [
    "## <font color=green>Histograma</font>\n",
    "***"
   ]
  },
  {
   "cell_type": "markdown",
   "metadata": {
    "id": "7lZqOD6voZYt"
   },
   "source": [
    "Analizando las columnas de datos o variables que se tiene, realizar **2 histogramas** que dado a su criterio son significativos para un analisis de datos."
   ]
  },
  {
   "cell_type": "code",
   "execution_count": 14,
   "metadata": {
    "id": "kO5GCByWorZ8"
   },
   "outputs": [],
   "source": [
    "import seaborn as sns"
   ]
  },
  {
   "cell_type": "code",
   "execution_count": 21,
   "metadata": {
    "id": "gYU0XqQ_orUM"
   },
   "outputs": [
    {
     "data": {
      "text/plain": [
       "<seaborn.axisgrid.FacetGrid at 0x7fb8edf445d0>"
      ]
     },
     "execution_count": 21,
     "metadata": {},
     "output_type": "execute_result"
    },
    {
     "data": {
      "image/png": "[encoded data removed]",
      "text/plain": [
       "<Figure size 1800x600 with 1 Axes>"
      ]
     },
     "metadata": {},
     "output_type": "display_data"
    }
   ],
   "source": [
    "ax = sns.displot(df[\"Released_Year\"].sort_values())\n",
    "ax.figure.set_size_inches(18,6)\n",
    "ax.tick_params(axis='x', labelrotation=90)\n",
    "ax.fig.suptitle(\"1-Distribución de frecuencia - Año de lanzamiento\", fontsize=18)\n",
    "ax.set_xlabels(\"Año\", fontsize=14)\n",
    "ax.set_ylabels(\"Conteo\", fontsize=14)"
   ]
  },
  {
   "cell_type": "markdown",
   "metadata": {},
   "source": [
    "### Corrigiendo año PG"
   ]
  },
  {
   "cell_type": "code",
   "execution_count": 16,
   "metadata": {},
   "outputs": [
    {
     "data": {
      "text/html": [
       "<div>\n",
       "<style scoped>\n",
       "    .dataframe tbody tr th:only-of-type {\n",
       "        vertical-align: middle;\n",
       "    }\n",
       "\n",
       "    .dataframe tbody tr th {\n",
       "        vertical-align: top;\n",
       "    }\n",
       "\n",
       "    .dataframe thead th {\n",
       "        text-align: right;\n",
       "    }\n",
       "</style>\n",
       "<table border=\"1\" class=\"dataframe\">\n",
       "  <thead>\n",
       "    <tr style=\"text-align: right;\">\n",
       "      <th></th>\n",
       "      <th>Poster_Link</th>\n",
       "      <th>Series_Title</th>\n",
       "      <th>Released_Year</th>\n",
       "      <th>Certificate</th>\n",
       "      <th>Runtime</th>\n",
       "      <th>Genre</th>\n",
       "      <th>IMDB_Rating</th>\n",
       "      <th>Overview</th>\n",
       "      <th>Meta_score</th>\n",
       "      <th>Director</th>\n",
       "      <th>Star1</th>\n",
       "      <th>Star2</th>\n",
       "      <th>Star3</th>\n",
       "      <th>Star4</th>\n",
       "      <th>No_of_Votes</th>\n",
       "      <th>Gross</th>\n",
       "    </tr>\n",
       "  </thead>\n",
       "  <tbody>\n",
       "    <tr>\n",
       "      <th>966</th>\n",
       "      <td>https://m.media-amazon.com/images/M/MV5BNjEzYj...</td>\n",
       "      <td>Apollo 13</td>\n",
       "      <td>PG</td>\n",
       "      <td>U</td>\n",
       "      <td>140 min</td>\n",
       "      <td>Adventure, Drama, History</td>\n",
       "      <td>7.6</td>\n",
       "      <td>NASA must devise a strategy to return Apollo 1...</td>\n",
       "      <td>77.0</td>\n",
       "      <td>Ron Howard</td>\n",
       "      <td>Tom Hanks</td>\n",
       "      <td>Bill Paxton</td>\n",
       "      <td>Kevin Bacon</td>\n",
       "      <td>Gary Sinise</td>\n",
       "      <td>269197</td>\n",
       "      <td>173,837,933</td>\n",
       "    </tr>\n",
       "  </tbody>\n",
       "</table>\n",
       "</div>"
      ],
      "text/plain": [
       "                                           Poster_Link Series_Title  \\\n",
       "966  https://m.media-amazon.com/images/M/MV5BNjEzYj...    Apollo 13   \n",
       "\n",
       "    Released_Year Certificate  Runtime                      Genre  \\\n",
       "966            PG           U  140 min  Adventure, Drama, History   \n",
       "\n",
       "     IMDB_Rating                                           Overview  \\\n",
       "966          7.6  NASA must devise a strategy to return Apollo 1...   \n",
       "\n",
       "     Meta_score    Director      Star1        Star2        Star3        Star4  \\\n",
       "966        77.0  Ron Howard  Tom Hanks  Bill Paxton  Kevin Bacon  Gary Sinise   \n",
       "\n",
       "     No_of_Votes        Gross  \n",
       "966       269197  173,837,933  "
      ]
     },
     "execution_count": 16,
     "metadata": {},
     "output_type": "execute_result"
    }
   ],
   "source": [
    "df.query(\"Released_Year == 'PG'\")"
   ]
  },
  {
   "cell_type": "code",
   "execution_count": 17,
   "metadata": {},
   "outputs": [],
   "source": [
    "df.loc[df['Series_Title'] == \"Apollo 13\", 'Released_Year'] = '1995';"
   ]
  },
  {
   "cell_type": "code",
   "execution_count": 22,
   "metadata": {},
   "outputs": [
    {
     "data": {
      "text/plain": [
       "<seaborn.axisgrid.FacetGrid at 0x7fb8ed842a50>"
      ]
     },
     "execution_count": 22,
     "metadata": {},
     "output_type": "execute_result"
    },
    {
     "data": {
      "image/png": "[encoded data removed]",
      "text/plain": [
       "<Figure size 1800x600 with 1 Axes>"
      ]
     },
     "metadata": {},
     "output_type": "display_data"
    }
   ],
   "source": [
    "ax = sns.displot(df[\"Released_Year\"].sort_values())\n",
    "ax.figure.set_size_inches(18,6)\n",
    "ax.tick_params(axis='x', labelrotation=90)\n",
    "ax.fig.suptitle(\"1-Distribución de frecuencia - Año de lanzamiento (Corregida)\", fontsize=18)\n",
    "ax.set_xlabels(\"Año\", fontsize=14)\n",
    "ax.set_ylabels(\"Conteo\", fontsize=14)"
   ]
  },
  {
   "cell_type": "code",
   "execution_count": 23,
   "metadata": {},
   "outputs": [
    {
     "data": {
      "text/plain": [
       "<seaborn.axisgrid.FacetGrid at 0x7fb8ee1ea890>"
      ]
     },
     "execution_count": 23,
     "metadata": {},
     "output_type": "execute_result"
    },
    {
     "data": {
      "image/png": "[encoded data removed]",
      "text/plain": [
       "<Figure size 1200x700 with 1 Axes>"
      ]
     },
     "metadata": {},
     "output_type": "display_data"
    }
   ],
   "source": [
    "ax = sns.displot(df[\"IMDB_Rating\"])\n",
    "ax.figure.set_size_inches(12,7)\n",
    "ax.fig.suptitle(\"2-Distribución de frecuencia - Calificación IMDB\", fontsize=18)\n",
    "ax.set_xlabels(\"IMDB_Rating\", fontsize=14)\n",
    "ax.set_ylabels(\"Conteo\", fontsize=14)"
   ]
  },
  {
   "cell_type": "markdown",
   "metadata": {
    "id": "ngn-Cp8VpSIs"
   },
   "source": [
    "## <font color=green>Cuartiles & Boxplots</font>\n",
    "***"
   ]
  },
  {
   "cell_type": "markdown",
   "metadata": {
    "id": "iduN8-z2pSI2"
   },
   "source": [
    "Crear los cuartiles de las columnas Runtime, Release Year, No_of_Votes,Gross & IMDB_Rating"
   ]
  },
  {
   "cell_type": "code",
   "execution_count": null,
   "metadata": {
    "id": "tI_BHDmWpxnA"
   },
   "outputs": [],
   "source": []
  },
  {
   "cell_type": "code",
   "execution_count": null,
   "metadata": {
    "id": "YKLGyU1fpxkS"
   },
   "outputs": [],
   "source": []
  },
  {
   "cell_type": "code",
   "execution_count": null,
   "metadata": {
    "id": "jIyUrnDYpxh3"
   },
   "outputs": [],
   "source": []
  },
  {
   "cell_type": "code",
   "execution_count": null,
   "metadata": {
    "id": "iPnC725ypxeX"
   },
   "outputs": [],
   "source": []
  },
  {
   "cell_type": "code",
   "execution_count": null,
   "metadata": {
    "id": "gBgc96l2pxX_"
   },
   "outputs": [],
   "source": []
  },
  {
   "cell_type": "markdown",
   "metadata": {
    "id": "yUYOcXI4p0V0"
   },
   "source": [
    "Crear graficos **tipo Box Plot** de las columnas Runtime, Release Year, No_of_Votes,Gross & IMDB_Rating"
   ]
  },
  {
   "cell_type": "code",
   "execution_count": null,
   "metadata": {
    "id": "uJF9nnvsqAgC"
   },
   "outputs": [],
   "source": []
  },
  {
   "cell_type": "code",
   "execution_count": null,
   "metadata": {
    "id": "_snEWVXRqAX8"
   },
   "outputs": [],
   "source": []
  },
  {
   "cell_type": "code",
   "execution_count": null,
   "metadata": {
    "id": "Tep-SJ9eqAQ_"
   },
   "outputs": [],
   "source": []
  },
  {
   "cell_type": "code",
   "execution_count": null,
   "metadata": {
    "id": "mSR6DIATqAJW"
   },
   "outputs": [],
   "source": []
  },
  {
   "cell_type": "markdown",
   "metadata": {
    "id": "8MaOcRZuqrGu"
   },
   "source": [
    "## <font color=green>Desviación estandar</font>\n",
    "***"
   ]
  },
  {
   "cell_type": "markdown",
   "metadata": {
    "id": "wOVTINKHqrGv"
   },
   "source": [
    "Obtener la desviación estandar de las columnas  No_of_Votes, Meta_score & IMDB_Rating"
   ]
  },
  {
   "cell_type": "code",
   "execution_count": null,
   "metadata": {
    "id": "L8AR_O7jrG4k"
   },
   "outputs": [],
   "source": []
  },
  {
   "cell_type": "code",
   "execution_count": null,
   "metadata": {
    "id": "c7M8QHOcrGxx"
   },
   "outputs": [],
   "source": []
  },
  {
   "cell_type": "code",
   "execution_count": null,
   "metadata": {
    "id": "jMDps82frGos"
   },
   "outputs": [],
   "source": []
  },
  {
   "cell_type": "markdown",
   "metadata": {
    "id": "slb8GmxJrH1a"
   },
   "source": [
    "¿Existe alguna relación entre los resultados encontrados?\n",
    "\n",
    "R = *Escribir su respuesta aqui*"
   ]
  },
  {
   "cell_type": "markdown",
   "metadata": {
    "id": "-hR71BAO13Vn"
   },
   "source": [
    "## <font color=green>Poblacion y muestra</font>\n",
    "***"
   ]
  },
  {
   "cell_type": "markdown",
   "metadata": {
    "id": "S2jlBwwK13Vo"
   },
   "source": [
    "Obtener una muestra del 20% de la población total, y demostrar con metodos estadisticos que su muestra es significativa y de calidad, hacer uso del teorema del limite de confianza."
   ]
  },
  {
   "cell_type": "code",
   "execution_count": null,
   "metadata": {
    "id": "jkHa8sr05hQi"
   },
   "outputs": [],
   "source": []
  },
  {
   "cell_type": "code",
   "execution_count": null,
   "metadata": {
    "id": "64KQNkvJ5hNI"
   },
   "outputs": [],
   "source": []
  },
  {
   "cell_type": "code",
   "execution_count": null,
   "metadata": {
    "id": "ml-ZLbiB5g9s"
   },
   "outputs": [],
   "source": []
  },
  {
   "cell_type": "code",
   "execution_count": null,
   "metadata": {
    "id": "1UCPTzic5g6L"
   },
   "outputs": [],
   "source": []
  },
  {
   "cell_type": "code",
   "execution_count": null,
   "metadata": {
    "id": "3-QMrlsp5g3U"
   },
   "outputs": [],
   "source": []
  },
  {
   "cell_type": "code",
   "execution_count": null,
   "metadata": {},
   "outputs": [],
   "source": [
    "https://linuxhandbook.com/using-make/\n",
    "https://stackoverflow.com/questions/49382207/how-to-map-numeric-data-into-categories-bins-in-pandas-dataframe\n",
    "bins = [0, 2, 18, 35, 65, np.inf]\n",
    "names = ['<2', '2-18', '18-35', '35-65', '65+']\n",
    "\n",
    "df['AgeRange'] = pd.cut(df['Age'], bins, labels=names)"
   ]
  }
 ],
 "metadata": {
  "colab": {
   "provenance": []
  },
  "kernelspec": {
   "display_name": "Python 3 (ipykernel)",
   "language": "python",
   "name": "python3"
  },
  "language_info": {
   "codemirror_mode": {
    "name": "ipython",
    "version": 3
   },
   "file_extension": ".py",
   "mimetype": "text/x-python",
   "name": "python",
   "nbconvert_exporter": "python",
   "pygments_lexer": "ipython3",
   "version": "3.11.0rc1"
  }
 },
 "nbformat": 4,
 "nbformat_minor": 4
}
