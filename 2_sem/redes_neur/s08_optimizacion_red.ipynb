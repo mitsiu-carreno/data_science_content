{
 "cells": [
  {
   "cell_type": "markdown",
   "metadata": {
    "id": "15aoR9-Elf-W"
   },
   "source": [
    "# Optimización de la red\n",
    "\n",
    "\n",
    "## Dimensiones de una red neuronal\n",
    "A continuación discutiremos la importancia y parametrización de las dimensiones de la red neuronal artiﬁcial.\n",
    "En este sentido, debemos considerar:\n",
    "\n",
    "- La dimensión de la capa de entrada.\n",
    "- La dimensión de la capa de salida.\n",
    "- La topología y dimensiones de las capas ocultas.\n",
    "\n",
    "La dimensión de la capa de entrada se ﬁja inicialmente con el número de atributos que se consideran del conjunto de datos.\n",
    "\n",
    "Hay que recordar que las estrategias de selección de atributos o reducción de dimensionalidad permiten a su vez reducir el número de elementos a considerar sin una pérdida excesiva en la capacidad de predicción del modelo.\n",
    "\n",
    "Generalmente, en un problema de clasiﬁcación, se utiliza una neurona en la capa de salida para cada clase a representar, de modo que solo una neurona debería de «activarse» para cada instancia.\n",
    "\n",
    "La topología y dimensión de la capa oculta no es un problema trivial y no existe una solución única y óptima a priori para este problema.\n",
    "\n",
    "En general, añadir nuevas neuronas en las capas ocultas implica:\n",
    "\n",
    "1. Aumentar el poder predictivo de la red, es decir, su capacidad de reconocimiento y predicción. Pero también aumenta el peligro de sobreajuste a los datos de entrenamiento.\n",
    "2. Disminuir la posibilidad de caer en un mínimo local.\n",
    "3. Alterar el tiempo de aprendizaje. Este varía de forma inversa al número de neuronas de las capas ocultas.\n",
    "\n",
    "Por el contrario, una red con menos neuronas en las capas ocultas permite:\n",
    "\n",
    "1. Reducir el riesgo de sobreespecialización a los datos de entrenamiento, ya que al disponer de menos nodos se obtiene un modelo más general.\n",
    "\n",
    "En la práctica, se suele utilizar un número de neuronas en las capas ocultas que se encuentre entre una y dos veces el número de entradas de la red. Si se detecta que la red está sobreajustando, debemos reducir el número de neuronas en las capas ocultas. Por el contrario, si la evaluación del modelo no es satisfactoria, debemos aumentar el número de neuronas en las capas ocultas.\n",
    "[Bosch et. al. 2019](https://elibro.net/es/ereader/ucags/126167?page=61)\n",
    "\n"
   ]
  },
  {
   "cell_type": "markdown",
   "metadata": {
    "id": "pkGFCG-onhse"
   },
   "source": [
    "---\n",
    "\n",
    "\n",
    "La dificultad se centra en la capa oculta, ya que la definición del número de neuronas queda supeditada a la experticia del diseñador. Existen dos tendencias, empezar desde un muy alto número de neuronas y evaluar su funcionamiento y, luego, paulatinamente, ir decreciendo el número de neuronas hasta el instante en el cual, el error de aprendizaje y verificación se mantengan en el mínimo requerido.\n",
    "\n",
    "La otra es empezar por un número pequeño de neuronas en la capa oculta, por ejemplo, igual al 50% de la dimensión del vector de entrada y, depués, empezar a crecer el tamaño de esta capa oculta verificando si su desempeño mejora; llegará un momento en el cual, aunque incrementemos el número de neuronas en la capa oculta, los errores no van a decrecer sustancialmente, consideramos que en este instante hemos llegado a un buen diseño de red. Si este desempeño no es satisfactorio debemos revisar la arquitectura de la red, el algoritmo de aprendizaje o la calidad de los datos. [Caicedo et al 2009](https://elibro.net/es/ereader/ucags/129183?page=102)\n",
    "\n",
    "Finalmente, surge la pregunta ¿Cuántas capas ocultas debe tener un MLP?, para una gran cantidad de aplicaciones de alta complejidad, tres capas son suficientes, es decir solo una capa oculta. El utilizar más de una capa oculta, aumenta drásticamente la carga computacional de la red.\n",
    "\n",
    "En general se recomienda  aumentar el tamaño de la capa oculta y no incrementar el número de capas ocultas, por ejemplo, si se tiene una red neuronal con diez neuronas en la capa oculta, computacionalmente es mejor, incrementar a 20 neuronas en esta capa y no generar una nueva capa oculta con diez neuronas más.\n",
    "\n",
    "Por supuesto, que hay aplicaciones de alta complejidad, en las cuales es muy importante generar superficies de decisión altamente complejas y una segunda capa oculta es muy útil en este caso.[Caicedo et al 2009](https://elibro.net/es/ereader/ucags/129183?page=103)"
   ]
  },
  {
   "cell_type": "markdown",
   "metadata": {
    "id": "ec9umrbkpRua"
   },
   "source": [
    "## Implementación básica\n",
    "\n",
    "A continuación se presenta una implementación básica que va agregando neuronas a la capa oculta"
   ]
  },
  {
   "cell_type": "code",
   "execution_count": 1,
   "metadata": {
    "id": "bYWrt-8upom-"
   },
   "outputs": [
    {
     "name": "stderr",
     "output_type": "stream",
     "text": [
      "2023-10-07 09:33:40.034779: I tensorflow/tsl/cuda/cudart_stub.cc:28] Could not find cuda drivers on your machine, GPU will not be used.\n",
      "2023-10-07 09:33:40.427544: I tensorflow/tsl/cuda/cudart_stub.cc:28] Could not find cuda drivers on your machine, GPU will not be used.\n",
      "2023-10-07 09:33:40.429977: I tensorflow/core/platform/cpu_feature_guard.cc:182] This TensorFlow binary is optimized to use available CPU instructions in performance-critical operations.\n",
      "To enable the following instructions: AVX2 FMA, in other operations, rebuild TensorFlow with the appropriate compiler flags.\n",
      "2023-10-07 09:33:41.846716: W tensorflow/compiler/tf2tensorrt/utils/py_utils.cc:38] TF-TRT Warning: Could not find TensorRT\n"
     ]
    }
   ],
   "source": [
    "from sklearn.datasets import load_digits\n",
    "from sklearn.model_selection import train_test_split\n",
    "from sklearn.preprocessing import StandardScaler\n",
    "from tensorflow import keras\n",
    "from tensorflow.keras import layers\n",
    "import numpy as np\n",
    "from tqdm.notebook import tqdm\n",
    "import matplotlib.pyplot as plt"
   ]
  },
  {
   "cell_type": "code",
   "execution_count": 2,
   "metadata": {
    "id": "Enppl52dlen-"
   },
   "outputs": [],
   "source": [
    "# Cargar el conjunto de datos Digits\n",
    "datos_digitos = load_digits()\n",
    "\n",
    "# Dividir el conjunto de datos en características (X) y etiquetas (y)\n",
    "X = datos_digitos.data\n",
    "y = datos_digitos.target\n",
    "\n",
    "# Dividir el conjunto de datos en conjuntos de entrenamiento y prueba\n",
    "X_train, X_test, y_train, y_test = train_test_split(X, y, test_size=0.2)\n",
    "\n",
    "# Escalar las características para normalizarlas\n",
    "scaler = StandardScaler()\n",
    "X_train = scaler.fit_transform(X_train)\n",
    "X_test = scaler.transform(X_test)"
   ]
  },
  {
   "cell_type": "code",
   "execution_count": 3,
   "metadata": {
    "id": "Z1Iw2We1qOf2"
   },
   "outputs": [
    {
     "data": {
      "text/plain": [
       "array([ 32,  44,  56,  68,  80,  92, 104, 116, 128])"
      ]
     },
     "execution_count": 3,
     "metadata": {},
     "output_type": "execute_result"
    }
   ],
   "source": [
    "# Obten la lista de candidatos a numero de neuronas de la capa oculta\n",
    "lista_numero_neuronas = np.linspace(64/2, 64*2, 9).astype(int)\n",
    "\n",
    "lista_numero_neuronas"
   ]
  },
  {
   "cell_type": "code",
   "execution_count": 4,
   "metadata": {
    "id": "R_zrNCVLqyQ8"
   },
   "outputs": [
    {
     "data": {
      "application/vnd.jupyter.widget-view+json": {
       "model_id": "c1fb61404ab84fc686feb478a276cd98",
       "version_major": 2,
       "version_minor": 0
      },
      "text/plain": [
       "  0%|          | 0/9 [00:00<?, ?it/s]"
      ]
     },
     "metadata": {},
     "output_type": "display_data"
    }
   ],
   "source": [
    "entrenamientos = dict()\n",
    "for numero_neuronas in tqdm(lista_numero_neuronas):\n",
    "    #print(f\"Tamaño de capa oculta {numero_neuronas}\")\n",
    "    modelo = keras.Sequential([\n",
    "        layers.Dense(numero_neuronas, activation='relu', input_shape=(64,)),\n",
    "        layers.Dense(10, activation='softmax')\n",
    "    ])\n",
    "\n",
    "    modelo.compile(optimizer='adam', loss='sparse_categorical_crossentropy')\n",
    "\n",
    "    entrenamientos[numero_neuronas] = modelo.fit(X_train, y_train, epochs=100, validation_split=0.1, verbose=0)\n"
   ]
  },
  {
   "cell_type": "code",
   "execution_count": 5,
   "metadata": {
    "id": "0vhqHZh0tS7T"
   },
   "outputs": [
    {
     "data": {
      "text/plain": [
       "<matplotlib.legend.Legend at 0x7efdc66345d0>"
      ]
     },
     "execution_count": 5,
     "metadata": {},
     "output_type": "execute_result"
    },
    {
     "data": {
      "image/png": "[encoded data removed]",
      "text/plain": [
       "<Figure size 640x480 with 1 Axes>"
      ]
     },
     "metadata": {},
     "output_type": "display_data"
    }
   ],
   "source": [
    "for numero_neuronas in lista_numero_neuronas:\n",
    "    plt.semilogy(entrenamientos[numero_neuronas].history[\"val_loss\"], label=f\"{numero_neuronas}\")\n",
    "\n",
    "plt.xlabel('Epochs')\n",
    "plt.ylabel('Pérdida de validación')\n",
    "plt.legend()"
   ]
  },
  {
   "cell_type": "code",
   "execution_count": 11,
   "metadata": {
    "id": "WqHIGk89tTUR"
   },
   "outputs": [
    {
     "data": {
      "text/plain": [
       "<keras.src.callbacks.History at 0x7efd5826ded0>"
      ]
     },
     "execution_count": 11,
     "metadata": {},
     "output_type": "execute_result"
    }
   ],
   "source": [
    "#entrenamos solo con la mejor cantidad de neuronas\n",
    "#numero_neuronas = 128\n",
    "numero_neuronas = 92\n",
    "modelo = keras.Sequential([\n",
    "    layers.Dense(numero_neuronas, activation='relu', input_shape=(64,)),\n",
    "    layers.Dense(10, activation='softmax')\n",
    "])\n",
    "\n",
    "modelo.compile(optimizer='adam', loss='sparse_categorical_crossentropy', metrics=['accuracy'])\n",
    "\n",
    "modelo.fit(X_train, y_train, epochs=80, validation_split=0.1, verbose=0)"
   ]
  },
  {
   "cell_type": "code",
   "execution_count": 12,
   "metadata": {
    "id": "qFvQgxiyvEJG"
   },
   "outputs": [
    {
     "name": "stdout",
     "output_type": "stream",
     "text": [
      "Pérdida en el conjunto de prueba: 0.0766\n",
      "Precisión en el conjunto de prueba: 98.33%\n"
     ]
    }
   ],
   "source": [
    "loss, accuracy = modelo.evaluate(X_test, y_test, verbose=0)\n",
    "print(f\"Pérdida en el conjunto de prueba: {loss:.4f}\")\n",
    "print(f\"Precisión en el conjunto de prueba: {accuracy * 100:.2f}%\")"
   ]
  },
  {
   "cell_type": "markdown",
   "metadata": {
    "id": "p1S-Mm6vxJWk"
   },
   "source": [
    "## Utilizando herramientas de keras\n",
    "\n",
    "Keras Tuner es una biblioteca de Python que se utiliza para la optimización automática de hiperparámetros en modelos de aprendizaje automático, especialmente en modelos construidos con Keras.\n",
    "\n"
   ]
  },
  {
   "cell_type": "code",
   "execution_count": 13,
   "metadata": {
    "id": "Td0xIl58x1Xp"
   },
   "outputs": [
    {
     "name": "stdout",
     "output_type": "stream",
     "text": [
      "Defaulting to user installation because normal site-packages is not writeable\n",
      "Collecting keras-tuner\n",
      "  Downloading keras_tuner-1.4.3-py3-none-any.whl (127 kB)\n",
      "\u001b[2K     \u001b[38;2;114;156;31m━━━━━━━━━━━━━━━━━━━━━━━━━━━━━━━━━━━━━\u001b[0m \u001b[32m127.9/127.9 kB\u001b[0m \u001b[31m857.6 kB/s\u001b[0m eta \u001b[36m0:00:00\u001b[0m1m859.7 kB/s\u001b[0m eta \u001b[36m0:00:01\u001b[0m\n",
      "\u001b[?25hCollecting keras-core\n",
      "  Downloading keras_core-0.1.7-py3-none-any.whl (950 kB)\n",
      "\u001b[2K     \u001b[38;2;114;156;31m━━━━━━━━━━━━━━━━━━━━━━━━━━━━━━━━━━━━━━━\u001b[0m \u001b[32m950.8/950.8 kB\u001b[0m \u001b[31m3.6 MB/s\u001b[0m eta \u001b[36m0:00:00\u001b[0m[31m3.8 MB/s\u001b[0m eta \u001b[36m0:00:01\u001b[0m\n",
      "\u001b[?25hRequirement already satisfied: packaging in /usr/lib/python3/dist-packages (from keras-tuner) (23.0)\n",
      "Requirement already satisfied: requests in /usr/lib/python3/dist-packages (from keras-tuner) (2.28.1)\n",
      "Collecting kt-legacy\n",
      "  Downloading kt_legacy-1.0.5-py3-none-any.whl (9.6 kB)\n",
      "Requirement already satisfied: absl-py in /home/kincaid/.local/lib/python3.11/site-packages (from keras-core->keras-tuner) (1.4.0)\n",
      "Requirement already satisfied: numpy in /usr/lib/python3/dist-packages (from keras-core->keras-tuner) (1.24.2)\n",
      "Requirement already satisfied: rich in /usr/lib/python3/dist-packages (from keras-core->keras-tuner) (13.3.1)\n",
      "Collecting namex\n",
      "  Downloading namex-0.0.7-py3-none-any.whl (5.8 kB)\n",
      "Requirement already satisfied: h5py in /home/kincaid/.local/lib/python3.11/site-packages (from keras-core->keras-tuner) (3.9.0)\n",
      "Collecting dm-tree\n",
      "  Downloading dm_tree-0.1.8-cp311-cp311-manylinux_2_17_x86_64.manylinux2014_x86_64.whl (152 kB)\n",
      "\u001b[2K     \u001b[38;2;114;156;31m━━━━━━━━━━━━━━━━━━━━━━━━━━━━━━━━━━━━━━━\u001b[0m \u001b[32m152.8/152.8 kB\u001b[0m \u001b[31m3.4 MB/s\u001b[0m eta \u001b[36m0:00:00\u001b[0m MB/s\u001b[0m eta \u001b[36m0:00:01\u001b[0m\n",
      "\u001b[?25hRequirement already satisfied: markdown-it-py<3.0.0,>=2.1.0 in /usr/lib/python3/dist-packages (from rich->keras-core->keras-tuner) (2.1.0)\n",
      "Requirement already satisfied: pygments<3.0.0,>=2.14.0 in /usr/lib/python3/dist-packages (from rich->keras-core->keras-tuner) (2.14.0)\n",
      "Requirement already satisfied: mdurl~=0.1 in /usr/lib/python3/dist-packages (from markdown-it-py<3.0.0,>=2.1.0->rich->keras-core->keras-tuner) (0.1.2)\n",
      "Installing collected packages: namex, kt-legacy, dm-tree, keras-core, keras-tuner\n",
      "Successfully installed dm-tree-0.1.8 keras-core-0.1.7 keras-tuner-1.4.3 kt-legacy-1.0.5 namex-0.0.7\n"
     ]
    }
   ],
   "source": [
    "! pip install keras-tuner"
   ]
  },
  {
   "cell_type": "code",
   "execution_count": 14,
   "metadata": {
    "id": "YrwNbFJ5xy9L"
   },
   "outputs": [
    {
     "name": "stdout",
     "output_type": "stream",
     "text": [
      "Using TensorFlow backend\n"
     ]
    }
   ],
   "source": [
    "from keras_tuner import HyperParameters\n",
    "from keras_tuner.tuners import RandomSearch\n"
   ]
  },
  {
   "cell_type": "code",
   "execution_count": 15,
   "metadata": {
    "id": "a1yEhrb2xzgf"
   },
   "outputs": [],
   "source": [
    "def construir_modelo(hp):\n",
    "    modelo = keras.Sequential()\n",
    "    modelo.add(layers.Input(shape=(64,)))\n",
    "\n",
    "    # COnfigura el numero de capas ocultas\n",
    "    for i in range(hp.Int('num_capas', min_value=1, max_value=3)):\n",
    "        modelo.add(layers.Dense(units=hp.Int('neuroanas_capa_' + str(i), min_value=64/2, max_value=64*2, step=8),\n",
    "                               activation='relu'))\n",
    "\n",
    "    modelo.add(layers.Dense(10, activation='softmax'))\n",
    "    modelo.compile(optimizer='adam',\n",
    "                  loss='sparse_categorical_crossentropy',\n",
    "                  metrics=['accuracy'])\n",
    "    return modelo"
   ]
  },
  {
   "cell_type": "code",
   "execution_count": 16,
   "metadata": {
    "id": "fpjoJQZ-y3i2"
   },
   "outputs": [],
   "source": [
    "tuner = RandomSearch(\n",
    "    construir_modelo,\n",
    "    objective='val_accuracy',\n",
    "    max_trials=10, # dies intentos en general\n",
    "    executions_per_trial=3, # intentar tres veces para evitar chiripazos\n",
    "    directory='s08_datos_tunner',\n",
    "    project_name='proyecto_tunner_2'\n",
    ")"
   ]
  },
  {
   "cell_type": "code",
   "execution_count": 17,
   "metadata": {
    "id": "fm_v_iHbzSNq"
   },
   "outputs": [],
   "source": [
    "# Subdividir entrenamiento en entrenamiento y validación\n",
    "X_train, X_val, y_train, y_val = train_test_split(X_train, y_train, test_size=0.2)"
   ]
  },
  {
   "cell_type": "code",
   "execution_count": 18,
   "metadata": {
    "id": "vty29bBczPSV"
   },
   "outputs": [
    {
     "name": "stdout",
     "output_type": "stream",
     "text": [
      "Trial 10 Complete [00h 00m 18s]\n",
      "val_accuracy: 0.9884259104728699\n",
      "\n",
      "Best val_accuracy So Far: 0.9907407363255819\n",
      "Total elapsed time: 00h 03m 25s\n"
     ]
    }
   ],
   "source": [
    "tuner.search(X_train, y_train, validation_data=(X_val, y_val), epochs=50)"
   ]
  },
  {
   "cell_type": "code",
   "execution_count": 19,
   "metadata": {
    "id": "s6gx5D9Tz9cq"
   },
   "outputs": [
    {
     "name": "stdout",
     "output_type": "stream",
     "text": [
      "Model: \"sequential\"\n",
      "_________________________________________________________________\n",
      " Layer (type)                Output Shape              Param #   \n",
      "=================================================================\n",
      " dense (Dense)               (None, 120)               7800      \n",
      "                                                                 \n",
      " dense_1 (Dense)             (None, 10)                1210      \n",
      "                                                                 \n",
      "=================================================================\n",
      "Total params: 9010 (35.20 KB)\n",
      "Trainable params: 9010 (35.20 KB)\n",
      "Non-trainable params: 0 (0.00 Byte)\n",
      "_________________________________________________________________\n"
     ]
    }
   ],
   "source": [
    "mejor_modelo = tuner.get_best_models(num_models=1)[0]\n",
    "mejor_hiperparametros = tuner.get_best_hyperparameters(num_trials=1)[0]\n",
    "mejor_modelo.summary()"
   ]
  },
  {
   "cell_type": "code",
   "execution_count": 20,
   "metadata": {
    "id": "0iR9655h0NcJ"
   },
   "outputs": [
    {
     "data": {
      "text/plain": [
       "{'num_capas': 1,\n",
       " 'neuroanas_capa_0': 120,\n",
       " 'neuroanas_capa_1': 56,\n",
       " 'neuroanas_capa_2': 48}"
      ]
     },
     "execution_count": 20,
     "metadata": {},
     "output_type": "execute_result"
    }
   ],
   "source": [
    "mejor_hiperparametros.values"
   ]
  },
  {
   "cell_type": "code",
   "execution_count": 21,
   "metadata": {
    "id": "sMILz_gp08kA"
   },
   "outputs": [
    {
     "name": "stdout",
     "output_type": "stream",
     "text": [
      "Epoch 1/50\n",
      "36/36 [==============================] - 1s 7ms/step - loss: 0.0375 - accuracy: 0.9965 - val_loss: 0.0703 - val_accuracy: 0.9896\n",
      "Epoch 2/50\n",
      "36/36 [==============================] - 0s 4ms/step - loss: 0.0341 - accuracy: 0.9965 - val_loss: 0.0668 - val_accuracy: 0.9965\n",
      "Epoch 3/50\n",
      "36/36 [==============================] - 0s 3ms/step - loss: 0.0306 - accuracy: 0.9983 - val_loss: 0.0641 - val_accuracy: 0.9931\n",
      "Epoch 4/50\n",
      "36/36 [==============================] - 0s 3ms/step - loss: 0.0282 - accuracy: 0.9983 - val_loss: 0.0624 - val_accuracy: 0.9931\n",
      "Epoch 5/50\n",
      "36/36 [==============================] - 0s 3ms/step - loss: 0.0254 - accuracy: 0.9991 - val_loss: 0.0589 - val_accuracy: 0.9931\n",
      "Epoch 6/50\n",
      "36/36 [==============================] - 0s 3ms/step - loss: 0.0232 - accuracy: 1.0000 - val_loss: 0.0578 - val_accuracy: 0.9931\n",
      "Epoch 7/50\n",
      "36/36 [==============================] - 0s 3ms/step - loss: 0.0213 - accuracy: 1.0000 - val_loss: 0.0571 - val_accuracy: 0.9896\n",
      "Epoch 8/50\n",
      "36/36 [==============================] - 0s 3ms/step - loss: 0.0196 - accuracy: 1.0000 - val_loss: 0.0552 - val_accuracy: 0.9931\n",
      "Epoch 9/50\n",
      "36/36 [==============================] - 0s 3ms/step - loss: 0.0180 - accuracy: 1.0000 - val_loss: 0.0530 - val_accuracy: 0.9965\n",
      "Epoch 10/50\n",
      "36/36 [==============================] - 0s 3ms/step - loss: 0.0167 - accuracy: 1.0000 - val_loss: 0.0519 - val_accuracy: 0.9931\n",
      "Epoch 11/50\n",
      "36/36 [==============================] - 0s 3ms/step - loss: 0.0154 - accuracy: 1.0000 - val_loss: 0.0519 - val_accuracy: 0.9896\n",
      "Epoch 12/50\n",
      "36/36 [==============================] - 0s 3ms/step - loss: 0.0143 - accuracy: 1.0000 - val_loss: 0.0505 - val_accuracy: 0.9931\n",
      "Epoch 13/50\n",
      "36/36 [==============================] - 0s 3ms/step - loss: 0.0133 - accuracy: 1.0000 - val_loss: 0.0488 - val_accuracy: 0.9931\n",
      "Epoch 14/50\n",
      "36/36 [==============================] - 0s 3ms/step - loss: 0.0124 - accuracy: 1.0000 - val_loss: 0.0471 - val_accuracy: 0.9931\n",
      "Epoch 15/50\n",
      "36/36 [==============================] - 0s 4ms/step - loss: 0.0116 - accuracy: 1.0000 - val_loss: 0.0472 - val_accuracy: 0.9931\n",
      "Epoch 16/50\n",
      "36/36 [==============================] - 0s 4ms/step - loss: 0.0108 - accuracy: 1.0000 - val_loss: 0.0466 - val_accuracy: 0.9931\n",
      "Epoch 17/50\n",
      "36/36 [==============================] - 0s 3ms/step - loss: 0.0102 - accuracy: 1.0000 - val_loss: 0.0453 - val_accuracy: 0.9931\n",
      "Epoch 18/50\n",
      "36/36 [==============================] - 0s 3ms/step - loss: 0.0095 - accuracy: 1.0000 - val_loss: 0.0449 - val_accuracy: 0.9931\n",
      "Epoch 19/50\n",
      "36/36 [==============================] - 0s 3ms/step - loss: 0.0089 - accuracy: 1.0000 - val_loss: 0.0444 - val_accuracy: 0.9931\n",
      "Epoch 20/50\n",
      "36/36 [==============================] - 0s 3ms/step - loss: 0.0084 - accuracy: 1.0000 - val_loss: 0.0435 - val_accuracy: 0.9896\n",
      "Epoch 21/50\n",
      "36/36 [==============================] - 0s 3ms/step - loss: 0.0079 - accuracy: 1.0000 - val_loss: 0.0425 - val_accuracy: 0.9931\n",
      "Epoch 22/50\n",
      "36/36 [==============================] - 0s 3ms/step - loss: 0.0075 - accuracy: 1.0000 - val_loss: 0.0420 - val_accuracy: 0.9896\n",
      "Epoch 23/50\n",
      "36/36 [==============================] - 0s 3ms/step - loss: 0.0071 - accuracy: 1.0000 - val_loss: 0.0417 - val_accuracy: 0.9896\n",
      "Epoch 24/50\n",
      "36/36 [==============================] - 0s 3ms/step - loss: 0.0067 - accuracy: 1.0000 - val_loss: 0.0408 - val_accuracy: 0.9896\n",
      "Epoch 25/50\n",
      "36/36 [==============================] - 0s 3ms/step - loss: 0.0064 - accuracy: 1.0000 - val_loss: 0.0405 - val_accuracy: 0.9896\n",
      "Epoch 26/50\n",
      "36/36 [==============================] - 0s 3ms/step - loss: 0.0060 - accuracy: 1.0000 - val_loss: 0.0399 - val_accuracy: 0.9896\n",
      "Epoch 27/50\n",
      "36/36 [==============================] - 0s 3ms/step - loss: 0.0057 - accuracy: 1.0000 - val_loss: 0.0400 - val_accuracy: 0.9896\n",
      "Epoch 28/50\n",
      "36/36 [==============================] - 0s 3ms/step - loss: 0.0054 - accuracy: 1.0000 - val_loss: 0.0389 - val_accuracy: 0.9896\n",
      "Epoch 29/50\n",
      "36/36 [==============================] - 0s 3ms/step - loss: 0.0052 - accuracy: 1.0000 - val_loss: 0.0387 - val_accuracy: 0.9896\n",
      "Epoch 30/50\n",
      "36/36 [==============================] - 0s 3ms/step - loss: 0.0049 - accuracy: 1.0000 - val_loss: 0.0384 - val_accuracy: 0.9896\n",
      "Epoch 31/50\n",
      "36/36 [==============================] - 0s 3ms/step - loss: 0.0047 - accuracy: 1.0000 - val_loss: 0.0382 - val_accuracy: 0.9896\n",
      "Epoch 32/50\n",
      "36/36 [==============================] - 0s 3ms/step - loss: 0.0045 - accuracy: 1.0000 - val_loss: 0.0372 - val_accuracy: 0.9896\n",
      "Epoch 33/50\n",
      "36/36 [==============================] - 0s 3ms/step - loss: 0.0043 - accuracy: 1.0000 - val_loss: 0.0372 - val_accuracy: 0.9896\n",
      "Epoch 34/50\n",
      "36/36 [==============================] - 0s 3ms/step - loss: 0.0041 - accuracy: 1.0000 - val_loss: 0.0370 - val_accuracy: 0.9896\n",
      "Epoch 35/50\n",
      "36/36 [==============================] - 0s 3ms/step - loss: 0.0039 - accuracy: 1.0000 - val_loss: 0.0366 - val_accuracy: 0.9896\n",
      "Epoch 36/50\n",
      "36/36 [==============================] - 0s 3ms/step - loss: 0.0037 - accuracy: 1.0000 - val_loss: 0.0363 - val_accuracy: 0.9896\n",
      "Epoch 37/50\n",
      "36/36 [==============================] - 0s 3ms/step - loss: 0.0036 - accuracy: 1.0000 - val_loss: 0.0354 - val_accuracy: 0.9896\n",
      "Epoch 38/50\n",
      "36/36 [==============================] - 0s 3ms/step - loss: 0.0034 - accuracy: 1.0000 - val_loss: 0.0358 - val_accuracy: 0.9896\n",
      "Epoch 39/50\n",
      "36/36 [==============================] - 0s 3ms/step - loss: 0.0033 - accuracy: 1.0000 - val_loss: 0.0351 - val_accuracy: 0.9896\n",
      "Epoch 40/50\n",
      "36/36 [==============================] - 0s 3ms/step - loss: 0.0031 - accuracy: 1.0000 - val_loss: 0.0352 - val_accuracy: 0.9896\n",
      "Epoch 41/50\n",
      "36/36 [==============================] - 0s 3ms/step - loss: 0.0030 - accuracy: 1.0000 - val_loss: 0.0349 - val_accuracy: 0.9896\n",
      "Epoch 42/50\n",
      "36/36 [==============================] - 0s 3ms/step - loss: 0.0029 - accuracy: 1.0000 - val_loss: 0.0345 - val_accuracy: 0.9896\n",
      "Epoch 43/50\n",
      "36/36 [==============================] - 0s 3ms/step - loss: 0.0028 - accuracy: 1.0000 - val_loss: 0.0344 - val_accuracy: 0.9896\n",
      "Epoch 44/50\n",
      "36/36 [==============================] - 0s 3ms/step - loss: 0.0027 - accuracy: 1.0000 - val_loss: 0.0343 - val_accuracy: 0.9896\n",
      "Epoch 45/50\n",
      "36/36 [==============================] - 0s 3ms/step - loss: 0.0026 - accuracy: 1.0000 - val_loss: 0.0338 - val_accuracy: 0.9896\n",
      "Epoch 46/50\n",
      "36/36 [==============================] - 0s 3ms/step - loss: 0.0025 - accuracy: 1.0000 - val_loss: 0.0339 - val_accuracy: 0.9896\n",
      "Epoch 47/50\n",
      "36/36 [==============================] - 0s 3ms/step - loss: 0.0024 - accuracy: 1.0000 - val_loss: 0.0332 - val_accuracy: 0.9896\n",
      "Epoch 48/50\n",
      "36/36 [==============================] - 0s 3ms/step - loss: 0.0023 - accuracy: 1.0000 - val_loss: 0.0337 - val_accuracy: 0.9896\n",
      "Epoch 49/50\n",
      "36/36 [==============================] - 0s 3ms/step - loss: 0.0022 - accuracy: 1.0000 - val_loss: 0.0334 - val_accuracy: 0.9861\n",
      "Epoch 50/50\n",
      "36/36 [==============================] - 0s 3ms/step - loss: 0.0021 - accuracy: 1.0000 - val_loss: 0.0328 - val_accuracy: 0.9896\n"
     ]
    },
    {
     "data": {
      "text/plain": [
       "<keras.src.callbacks.History at 0x7efd34801dd0>"
      ]
     },
     "execution_count": 21,
     "metadata": {},
     "output_type": "execute_result"
    }
   ],
   "source": [
    "mejor_modelo.fit(X_train, y_train, epochs=50, validation_data=(X_val, y_val))\n"
   ]
  },
  {
   "cell_type": "code",
   "execution_count": 22,
   "metadata": {
    "id": "eevzbDf80PKC"
   },
   "outputs": [
    {
     "name": "stdout",
     "output_type": "stream",
     "text": [
      "12/12 [==============================] - 0s 2ms/step - loss: 0.0349 - accuracy: 0.9917\n",
      "Pérdida en el conjunto de prueba: 0.0349\n",
      "Precisión en el conjunto de prueba: 99.17%\n"
     ]
    }
   ],
   "source": [
    "test_loss, test_accuracy = mejor_modelo.evaluate(X_test, y_test)\n",
    "print(f\"Pérdida en el conjunto de prueba: {test_loss:.4f}\")\n",
    "print(f\"Precisión en el conjunto de prueba: {test_accuracy * 100:.2f}%\")"
   ]
  },
  {
   "cell_type": "markdown",
   "metadata": {
    "id": "jnvwhQ0RwZYT"
   },
   "source": [
    "## Seguimiento de experimientos\n",
    "\n",
    "El seguimiento de experimentos es el registro sistemático de todos los aspectos relevantes de un experimento o proyecto. El objetivo principal del seguimiento de experimentos es mantener un registro detallado y organizado de todas las etapas del proceso experimental, lo que incluye la recopilación de datos, la preparación de datos, la selección de modelos, la configuración de hiperparámetros, el entrenamiento de modelos, la evaluación de modelos y la generación de resultados.\n",
    "\n",
    "Algunos de los elementos clave que suelen registrarse durante el seguimiento de experimentos son:\n",
    "\n",
    "1. **Datos**: Información sobre la fuente de datos, cómo se recopilaron o se obtuvieron, cualquier preprocesamiento realizado y cómo se dividió en conjuntos de entrenamiento, validación y prueba.\n",
    "\n",
    "2. **Parámetros**: Los hiperparámetros del modelo, como la tasa de aprendizaje, el tamaño del lote, el número de capas y neuronas en una red neuronal, etc.\n",
    "\n",
    "3. **Métricas**: Resultados numéricos que evalúan el rendimiento del modelo, como la precisión, la pérdida, el error cuadrático medio, el F1-score, etc.\n",
    "\n",
    "4. **Artefactos**: Cualquier archivo o recurso externo generado durante el experimento, como modelos guardados, gráficos, imágenes, registros de entrenamiento, etc.\n",
    "\n",
    "5. **Comentarios y Notas**: Observaciones, comentarios y notas que explican las decisiones tomadas durante el proceso experimental, los problemas encontrados y cualquier otra información relevante.\n",
    "\n",
    "6. **Configuraciones de Hardware y Software**: Información sobre la configuración de hardware (por ejemplo, GPU utilizadas) y las versiones de software, bibliotecas y entornos utilizados durante el experimento.\n",
    "\n",
    "7. **Versionado**: Control de versiones de código y modelos para permitir la reproducción exacta de los resultados.\n",
    "\n",
    "8. **Fechar y Hora**: Registros de la fecha y hora de cada etapa del experimento para rastrear la secuencia de eventos.\n",
    "\n",
    "La práctica del seguimiento de experimentos es esencial para varios propósitos:\n",
    "\n",
    "- **Optimización de Hiperparámetros**: Ayuda a identificar la combinación óptima de hiperparámetros para un modelo.\n",
    "\n",
    "- **Reproducibilidad**: Permite que otros científicos de datos o colaboradores reproduzcan los resultados del experimento en un momento posterior.\n",
    "\n",
    "- **Comparación**: Facilita la comparación de múltiples configuraciones de modelos o enfoques para encontrar las mejores soluciones.\n",
    "\n"
   ]
  },
  {
   "cell_type": "markdown",
   "metadata": {
    "id": "MqbG4zKtx8qJ"
   },
   "source": [
    "[MLflow](https://mlflow.org) es una plataforma de código abierto diseñada para administrar todo el ciclo de vida de los proyectos de machine learning, desde la experimentación hasta la implementación y el monitoreo de modelos. Una de las características clave de MLflow es realizar seguimiento y registro de experimentos, lo que permite mantener un registro organizado de experimentos y resultados.\n",
    "\n",
    "A Continuación veremos un ejemplo oficial con keras\n"
   ]
  },
  {
   "cell_type": "code",
   "execution_count": 2,
   "metadata": {
    "id": "9VtnqLsLydZg"
   },
   "outputs": [
    {
     "name": "stdout",
     "output_type": "stream",
     "text": [
      "Defaulting to user installation because normal site-packages is not writeable\n",
      "Collecting mlflow\n",
      "  Downloading mlflow-2.7.1-py3-none-any.whl (18.5 MB)\n",
      "\u001b[2K     \u001b[38;2;114;156;31m━━━━━━━━━━━━━━━━━━━━━━━━━━━━━━━━━━━━━━━━\u001b[0m \u001b[32m18.5/18.5 MB\u001b[0m \u001b[31m6.0 MB/s\u001b[0m eta \u001b[36m0:00:00\u001b[0mm eta \u001b[36m0:00:01\u001b[0m0:01\u001b[0m:01\u001b[0m\n",
      "\u001b[?25hRequirement already satisfied: click<9,>=7.0 in /usr/lib/python3/dist-packages (from mlflow) (8.1.3)\n",
      "Collecting cloudpickle<3\n",
      "  Downloading cloudpickle-2.2.1-py3-none-any.whl (25 kB)\n",
      "Collecting databricks-cli<1,>=0.8.7\n",
      "  Downloading databricks_cli-0.18.0-py2.py3-none-any.whl (150 kB)\n",
      "\u001b[2K     \u001b[38;2;114;156;31m━━━━━━━━━━━━━━━━━━━━━━━━━━━━━━━━━━━━━━━\u001b[0m \u001b[32m150.3/150.3 kB\u001b[0m \u001b[31m6.6 MB/s\u001b[0m eta \u001b[36m0:00:00\u001b[0m\n",
      "\u001b[?25hCollecting entrypoints<1\n",
      "  Downloading entrypoints-0.4-py3-none-any.whl (5.3 kB)\n",
      "Requirement already satisfied: gitpython<4,>=2.1.0 in /usr/lib/python3/dist-packages (from mlflow) (3.1.30)\n",
      "Requirement already satisfied: pyyaml<7,>=5.1 in /usr/lib/python3/dist-packages (from mlflow) (6.0)\n",
      "Requirement already satisfied: protobuf<5,>=3.12.0 in /usr/lib/python3/dist-packages (from mlflow) (4.21.12)\n",
      "Requirement already satisfied: pytz<2024 in /usr/lib/python3/dist-packages (from mlflow) (2022.7.1)\n",
      "Requirement already satisfied: requests<3,>=2.17.3 in /usr/lib/python3/dist-packages (from mlflow) (2.28.1)\n",
      "Requirement already satisfied: packaging<24 in /usr/lib/python3/dist-packages (from mlflow) (23.0)\n",
      "Requirement already satisfied: importlib-metadata!=4.7.0,<7,>=3.7.0 in /usr/lib/python3/dist-packages (from mlflow) (4.12.0)\n",
      "Requirement already satisfied: sqlparse<1,>=0.4.0 in /usr/lib/python3/dist-packages (from mlflow) (0.4.2)\n",
      "Requirement already satisfied: alembic!=1.10.0,<2 in /usr/lib/python3/dist-packages (from mlflow) (1.8.1.dev0)\n",
      "Requirement already satisfied: docker<7,>=4.0.0 in /usr/lib/python3/dist-packages (from mlflow) (5.0.3)\n",
      "Requirement already satisfied: Flask<3 in /usr/lib/python3/dist-packages (from mlflow) (2.2.2)\n",
      "Requirement already satisfied: numpy<2 in /usr/lib/python3/dist-packages (from mlflow) (1.24.2)\n",
      "Requirement already satisfied: scipy<2 in /usr/lib/python3/dist-packages (from mlflow) (1.10.1)\n",
      "Requirement already satisfied: pandas<3 in /usr/lib/python3/dist-packages (from mlflow) (1.5.3)\n",
      "Collecting querystring-parser<2\n",
      "  Downloading querystring_parser-1.2.4-py2.py3-none-any.whl (7.9 kB)\n",
      "Requirement already satisfied: sqlalchemy<3,>=1.4.0 in /usr/lib/python3/dist-packages (from mlflow) (1.4.46)\n",
      "Requirement already satisfied: scikit-learn<2 in /home/kincaid/.local/lib/python3.11/site-packages (from mlflow) (1.2.2)\n",
      "Requirement already satisfied: pyarrow<14,>=4.0.0 in /home/kincaid/.local/lib/python3.11/site-packages (from mlflow) (12.0.1)\n",
      "Requirement already satisfied: markdown<4,>=3.3 in /usr/lib/python3/dist-packages (from mlflow) (3.4.1)\n",
      "Requirement already satisfied: matplotlib<4 in /usr/lib/python3/dist-packages (from mlflow) (3.6.3)\n",
      "Collecting gunicorn<22\n",
      "  Downloading gunicorn-21.2.0-py3-none-any.whl (80 kB)\n",
      "\u001b[2K     \u001b[38;2;114;156;31m━━━━━━━━━━━━━━━━━━━━━━━━━━━━━━━━━━━━━━━━\u001b[0m \u001b[32m80.2/80.2 kB\u001b[0m \u001b[31m4.8 MB/s\u001b[0m eta \u001b[36m0:00:00\u001b[0m\n",
      "\u001b[?25hRequirement already satisfied: Jinja2<4,>=2.11 in /usr/lib/python3/dist-packages (from mlflow) (3.1.2)\n",
      "Requirement already satisfied: pyjwt>=1.7.0 in /usr/lib/python3/dist-packages (from databricks-cli<1,>=0.8.7->mlflow) (2.6.0)\n",
      "Requirement already satisfied: oauthlib>=3.1.0 in /usr/lib/python3/dist-packages (from databricks-cli<1,>=0.8.7->mlflow) (3.2.2)\n",
      "Requirement already satisfied: tabulate>=0.7.7 in /usr/lib/python3/dist-packages (from databricks-cli<1,>=0.8.7->mlflow) (0.8.9)\n",
      "Requirement already satisfied: six>=1.10.0 in /usr/lib/python3/dist-packages (from databricks-cli<1,>=0.8.7->mlflow) (1.16.0)\n",
      "Requirement already satisfied: urllib3<3,>=1.26.7 in /usr/lib/python3/dist-packages (from databricks-cli<1,>=0.8.7->mlflow) (1.26.12)\n",
      "Requirement already satisfied: gitdb<5,>=4.0.1 in /usr/lib/python3/dist-packages (from gitpython<4,>=2.1.0->mlflow) (4.0.9)\n",
      "Requirement already satisfied: zipp>=0.5 in /usr/lib/python3/dist-packages (from importlib-metadata!=4.7.0,<7,>=3.7.0->mlflow) (1.0.0)\n",
      "Requirement already satisfied: joblib>=1.1.1 in /home/kincaid/.local/lib/python3.11/site-packages (from scikit-learn<2->mlflow) (1.2.0)\n",
      "Requirement already satisfied: threadpoolctl>=2.0.0 in /home/kincaid/.local/lib/python3.11/site-packages (from scikit-learn<2->mlflow) (3.1.0)\n",
      "Requirement already satisfied: greenlet!=0.4.17 in /usr/lib/python3/dist-packages (from sqlalchemy<3,>=1.4.0->mlflow) (2.0.2)\n",
      "Requirement already satisfied: more-itertools in /usr/lib/python3/dist-packages (from zipp>=0.5->importlib-metadata!=4.7.0,<7,>=3.7.0->mlflow) (8.10.0)\n",
      "Installing collected packages: querystring-parser, gunicorn, entrypoints, databricks-cli, cloudpickle, mlflow\n",
      "Successfully installed cloudpickle-2.2.1 databricks-cli-0.18.0 entrypoints-0.4 gunicorn-21.2.0 mlflow-2.7.1 querystring-parser-1.2.4\n"
     ]
    }
   ],
   "source": [
    "! pip install mlflow"
   ]
  },
  {
   "cell_type": "code",
   "execution_count": 3,
   "metadata": {
    "id": "admlGYDQ6lKx"
   },
   "outputs": [],
   "source": [
    "import numpy as np\n",
    "from tensorflow import keras\n",
    "from tensorflow.keras.datasets import reuters\n",
    "from tensorflow.keras.layers import Activation, Dense, Dropout\n",
    "from tensorflow.keras.models import Sequential\n",
    "from tensorflow.keras.preprocessing.text import Tokenizer\n",
    "\n",
    "import mlflow\n",
    "import os"
   ]
  },
  {
   "cell_type": "code",
   "execution_count": 4,
   "metadata": {
    "id": "pP4gFjkU8TZF"
   },
   "outputs": [],
   "source": [
    "mlflow.set_tracking_uri(\"http://158.101.3.227:83/\")\n",
    "mlflow.create_experiment(\"Mit\")\n",
    "os.environ[\"MLFLOW_EXPERIMENT_NAME\"] = \"Mit\"\n"
   ]
  },
  {
   "cell_type": "code",
   "execution_count": 8,
   "metadata": {
    "id": "NHfjL_q74GR_"
   },
   "outputs": [],
   "source": [
    "mlflow.tensorflow.autolog()\n",
    "\n",
    "max_words = 1000\n",
    "#batch_size = 32\n",
    "batch_size = 64\n",
    "epochs = 10\n",
    "\n",
    "print(\"Loading data...\")\n",
    "(x_train, y_train), (x_test, y_test) = reuters.load_data(num_words=max_words, test_split=0.2)\n",
    "\n",
    "print(len(x_train), \"train sequences\")\n",
    "print(len(x_test), \"test sequences\")\n",
    "\n",
    "num_classes = np.max(y_train) + 1\n",
    "print(num_classes, \"classes\")\n",
    "\n",
    "print(\"Vectorizing sequence data...\")\n",
    "tokenizer = Tokenizer(num_words=max_words)\n",
    "x_train = tokenizer.sequences_to_matrix(x_train, mode=\"binary\")\n",
    "x_test = tokenizer.sequences_to_matrix(x_test, mode=\"binary\")\n",
    "print(\"x_train shape:\", x_train.shape)\n",
    "print(\"x_test shape:\", x_test.shape)\n",
    "\n",
    "print(\"Convert class vector to binary class matrix (for use with categorical_crossentropy)\")\n",
    "y_train = keras.utils.to_categorical(y_train, num_classes)\n",
    "y_test = keras.utils.to_categorical(y_test, num_classes)\n",
    "print(\"y_train shape:\", y_train.shape)\n",
    "print(\"y_test shape:\", y_test.shape)\n",
    "\n",
    "print(\"Building model...\")\n",
    "model = Sequential()\n",
    "model.add(Dense(512, input_shape=(max_words,)))\n",
    "model.add(Activation(\"relu\"))\n",
    "model.add(Dropout(0.4))\n",
    "model.add(Dense(num_classes))\n",
    "model.add(Activation(\"softmax\"))\n",
    "\n",
    "model.compile(loss=\"categorical_crossentropy\", optimizer=\"adam\", metrics=[\"accuracy\"])\n",
    "\n",
    "history = model.fit(\n",
    "    x_train, y_train, batch_size=batch_size, epochs=epochs, verbose=1, validation_split=0.1\n",
    ")\n",
    "score = model.evaluate(x_test, y_test, batch_size=batch_size, verbose=1)\n",
    "print(\"Test score:\", score[0])\n",
    "print(\"Test accuracy:\", score[1])"
   ]
  },
  {
   "cell_type": "code",
   "execution_count": null,
   "metadata": {},
   "outputs": [],
   "source": []
  }
 ],
 "metadata": {
  "accelerator": "GPU",
  "colab": {
   "authorship_tag": "ABX9TyO3lrHjrlqLbAg9DxbwhCuw",
   "gpuType": "T4",
   "provenance": [],
   "toc_visible": true
  },
  "kernelspec": {
   "display_name": "Python 3 (ipykernel)",
   "language": "python",
   "name": "python3"
  },
  "language_info": {
   "codemirror_mode": {
    "name": "ipython",
    "version": 3
   },
   "file_extension": ".py",
   "mimetype": "text/x-python",
   "name": "python",
   "nbconvert_exporter": "python",
   "pygments_lexer": "ipython3",
   "version": "3.11.2"
  }
 },
 "nbformat": 4,
 "nbformat_minor": 1
}
