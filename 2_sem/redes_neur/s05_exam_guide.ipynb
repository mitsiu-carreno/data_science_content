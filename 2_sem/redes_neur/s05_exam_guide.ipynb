{
 "cells": [
  {
   "cell_type": "code",
   "execution_count": 1,
   "id": "0eebe8ec",
   "metadata": {},
   "outputs": [],
   "source": [
    "import numpy as np"
   ]
  },
  {
   "cell_type": "code",
   "execution_count": 3,
   "id": "682b0de4",
   "metadata": {},
   "outputs": [
    {
     "name": "stderr",
     "output_type": "stream",
     "text": [
      "2023-09-07 23:27:14.140243: I tensorflow/tsl/cuda/cudart_stub.cc:28] Could not find cuda drivers on your machine, GPU will not be used.\n",
      "2023-09-07 23:27:14.251540: I tensorflow/tsl/cuda/cudart_stub.cc:28] Could not find cuda drivers on your machine, GPU will not be used.\n",
      "2023-09-07 23:27:14.253729: I tensorflow/core/platform/cpu_feature_guard.cc:182] This TensorFlow binary is optimized to use available CPU instructions in performance-critical operations.\n",
      "To enable the following instructions: AVX2 FMA, in other operations, rebuild TensorFlow with the appropriate compiler flags.\n",
      "2023-09-07 23:27:15.491927: W tensorflow/compiler/tf2tensorrt/utils/py_utils.cc:38] TF-TRT Warning: Could not find TensorRT\n"
     ]
    }
   ],
   "source": [
    "# Funciones de activación\n",
    "from tensorflow.keras.activations import elu, exponential, gelu, hard_sigmoid, linear, relu, selu, sigmoid, softmax, softplus, softsign, swish, tanh"
   ]
  },
  {
   "cell_type": "code",
   "execution_count": 4,
   "id": "2b0d4860",
   "metadata": {},
   "outputs": [],
   "source": [
    "# Optimizadores\n",
    "from tensorflow.keras.models import Sequential\n",
    "from tensorflow.keras.layers import Dense\n",
    "from tensorflow.keras.optimizers import SGD, Adam, Adagrad"
   ]
  },
  {
   "cell_type": "code",
   "execution_count": 5,
   "id": "63d5507b",
   "metadata": {},
   "outputs": [],
   "source": [
    "# Funciones de perdida\n",
    "from tensorflow.keras.losses import binary_crossentropy, mean_squared_error, mean_absolute_error, mean_absolute_percentage_error"
   ]
  },
  {
   "cell_type": "code",
   "execution_count": 2,
   "id": "fd4b4d57",
   "metadata": {},
   "outputs": [],
   "source": [
    "class Neurona():\n",
    "    def __init__(self, n_features, func_activ):\n",
    "        self.pesos = np.random.rand(n_features)\n",
    "        self.bias = np.random.rand()\n",
    "        self.func_activ = func_activ\n",
    "    \n",
    "    def CalcEntradaNeta(self, entrada):\n",
    "        return np.dot(entrada, self.pesos) + self.bias\n",
    "    \n",
    "    def Salida(self, entrada):\n",
    "        return self.func_activ(self.CalcEntradaNeta(entrada))\n",
    "    \n",
    "    # FuncPerdida esta más relacionado con el proceso de entrenamiento \n",
    "    # pero lo estamos englobando en la neurona\n",
    "    def FuncPerdida(self, func_perdida):\n",
    "        self.func_perdida = func_perdida\n",
    "    \n",
    "    def CalcError(self, entrada, y_real):\n",
    "        return self.func_perdida([self.Salida(entrada)], y_real)"
   ]
  },
  {
   "cell_type": "code",
   "execution_count": null,
   "id": "d1fd9077",
   "metadata": {},
   "outputs": [],
   "source": []
  }
 ],
 "metadata": {
  "kernelspec": {
   "display_name": "Python 3 (ipykernel)",
   "language": "python",
   "name": "python3"
  },
  "language_info": {
   "codemirror_mode": {
    "name": "ipython",
    "version": 3
   },
   "file_extension": ".py",
   "mimetype": "text/x-python",
   "name": "python",
   "nbconvert_exporter": "python",
   "pygments_lexer": "ipython3",
   "version": "3.11.2"
  }
 },
 "nbformat": 4,
 "nbformat_minor": 5
}
