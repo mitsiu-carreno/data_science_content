{
 "cells": [
  {
   "cell_type": "markdown",
   "id": "7cdd37c4",
   "metadata": {},
   "source": [
    "## Mitsiu Alejandro Carreño Sarabia - E23S-18014"
   ]
  },
  {
   "cell_type": "markdown",
   "id": "251884b5",
   "metadata": {},
   "source": [
    "# Examen práctico del primer parcial\n",
    "Utiliza solo librerías de algebra matricial como numpy y scipy. Librerías de visualización y cualquier función que sea parte del core de Python.   \n",
    "                              \n",
    "1 Implementa una neurona con sus componentes básicos.       \n",
    "1.1 Enumera cuales son estos componentes, para cada uno      \n",
    "1.1.1 Cuáles son las posibles opciones de métodos       \n",
    "1.1.2 Porque se ha decidido en esta en particular         \n",
    "1.1.3 Qué ventajas o desventajas conlleva el método seleccionado        \n",
    "                       \n",
    "2 Agrega a la implementación necesaria para entrenar la neurona         \n",
    "2.1 De la misma manera que en el punto anterior, enumera cuales son estos componentes, para cada uno       \n",
    "2.1.1 Cuáles son las posibles opciones de métodos        \n",
    "2.1.2 Porque se ha decidido en esta en particular       \n",
    "2.1.3 Qué ventajas o desventajas conlleva el método seleccionado   \n",
    "                                   \n",
    "3 Utiliza tu implementación para clasificar la base de datos [digits](https://scikit-learn.org/stable/modules/generated/sklearn.datasets.load_digits.html#sklearn.datasets.load_digits) de sklearn         \n",
    "3.1 Utiliza solo dos clases, seleccionadas de manera aleatoria.         \n",
    "3.2 Realiza los pasos de pre-procesamiento que consideres necesarios para mejorar la calidad del clasificador.        \n",
    "3.3 Entrena la neurona para predecir cuál es el número de la imagen.         \n",
    "3.4 Explica las razones detrás de la selección de los distintos parámetros. Como pueden ser (no está limitado a solo esos):        \n",
    "3.4.1 Epochs       \n",
    "3.4.2 Tamaño de batch       \n",
    "3.4.3 Criterio de alto        \n",
    "3.4.4 Otras técnicas de entrenamiento      \n",
    "3.5 Obtén el valor de la pérdida (loss) y da una explicación de cuando y porque cambian estos valores (o porque no)          \n",
    "3.5.1 Pequeño bonus si realizas esta explicación con un gráfico          \n",
    "3.6 Evalúa el desempeño contra una muestra en la que nunca se haya entrenado.        \n",
    "3.6.1 Da los principales indicadores de calidad          \n",
    "3.6.2 Interpreta cuál es el significado cada valor de los indicadores           \n",
    "                                   \n",
    "4 Presenta una conclusión final del modelo creado. Cuales son las fortalezas y debilidades, así como sugerencias para mejorar su desempeño.           \n",
    "                               \n",
    "Presenta tus evidencias y resultados en un cuaderno de Colab. Debe incluir todas las variables y librerías para que pueda ser ejecutado de manera secuencial. Así también debe contener la documentación necesaria que explique el código y los aspectos tomados en cuenta para tomar esas decisiones. "
   ]
  },
  {
   "cell_type": "markdown",
   "id": "adfcbcf0",
   "metadata": {},
   "source": [
    "# 1 Implementa una neurona con sus componentes básicos.\n",
    "## 1.1 Enumera cuales son estos componentes, para cada uno"
   ]
  },
  {
   "cell_type": "code",
   "execution_count": 1,
   "id": "b2367d6f",
   "metadata": {},
   "outputs": [],
   "source": [
    "class Neurona():\n",
    "    '''\n",
    "    Constructor de la neurona:\n",
    "        Toda neurona requiere un conjunto de pesos que \n",
    "            aumentan, disminuyen o dejan igual una entrada(un peso para cada entrada)\n",
    "            inicialmente le asingnamos valores aleatorios\n",
    "        Un único valor de bías (sesgo), independiente de las entradas\n",
    "        Además, requiere una función de activación la cuál define dado cierta entrada neta\n",
    "            si la neurona genera o no una señal de salida y con cuanta intensidad.\n",
    "    '''\n",
    "    def __init__(self, n_features, func_activ):\n",
    "        self.pesos = np.random.rand(n_features)\n",
    "        self.bias = np.random.rand()\n",
    "        self.func_activ = func_activ\n",
    "        \n",
    "    '''\n",
    "    Entrada neta\n",
    "        Cada entrada se aumenta/disminuye con su peso correspondiente y se suman todas las \n",
    "            entradas modificadas (producto punto), además se suma el bios\n",
    "    '''\n",
    "    def CalcEntradaNeta(self, entrada):\n",
    "        return np.dot(entrada, self.pesos) + self.bias\n",
    "    \n",
    "    '''\n",
    "    Salida\n",
    "        La salida de la neurona se da evaluando la entrada neta en la función de activación\n",
    "    '''\n",
    "    def Salida(self, entrada):\n",
    "        return self.func_activ(self.CalcEntradaNeta(entrada))\n",
    "        \n",
    "    '''\n",
    "    Setters\n",
    "        Las siguientes funciones son para poder actualizar el valor de bias y peso entre epochs\n",
    "    '''\n",
    "    def SetBias(self, bias):\n",
    "        self.bias = bias\n",
    "        \n",
    "    def SetPesos(self, pesos):\n",
    "        self.pesos = pesos\n",
    "    \n",
    "    '''\n",
    "    Getters\n",
    "        Las siguientes funciones son para poder obtener el valora actúal de bias y peso entre epochs\n",
    "    '''\n",
    "    def GetBias(self):\n",
    "        return self.bias\n",
    "    def GetPesos(self):\n",
    "        return self.pesos"
   ]
  },
  {
   "cell_type": "markdown",
   "id": "126db382",
   "metadata": {},
   "source": [
    "### 1.1.1 Cuáles son las posibles opciones de métodos\n",
    "En nuestra implementación de neurona quedan pendientes los valores del constructor:\n",
    "- n_features (64)\n",
    "- func_activ (sigmoid)\n",
    "\n",
    "Cuando la comencemos a entrenar para clasificar el dataset digits n_features tomará el valor de 64 (cada imágen tiene 64 valores = 64 entradas)\n",
    "Respecto a la función de activación, existen distintas funciones (implementadas en Keras) como:\n",
    "- Elu\n",
    "- Exponential\n",
    "- Gelu\n",
    "- Sigmoid\n",
    "- Hard_sigmoid\n",
    "- Lineal\n",
    "- Relu\n",
    "- Selu\n",
    "\n",
    "En este caso por tratarse de una clasificación dicotómica elegiré una función sigmoidea que me permita estimar la probabilidad de que cierto input pertenezca a una categoría (un número) o rebasando cierto límite otra categoría (el otro número). Esta decisión esta basada totalmente en las caracteristicas del problema, así como en la restricción de usar librerías dedicadas al entrenamiento de redes neuronales, por lo que otro problema con diferentes caracteristicas (por ejemplo un problema de regresión) y restricciones probablemente pueda ser resuelto con otra función de activación."
   ]
  },
  {
   "cell_type": "markdown",
   "id": "221f86f5",
   "metadata": {},
   "source": [
    "# 2 Agrega a la implementación necesaria para entrenar la neurona"
   ]
  },
  {
   "cell_type": "code",
   "execution_count": 2,
   "id": "d9deeb51",
   "metadata": {},
   "outputs": [],
   "source": [
    "class Perceptron():\n",
    "    '''\n",
    "    Recordemos que un perceptron es una red neuronal de una única neurona (clase neurona) \n",
    "    en el que podemos realizar un aprendizaje supervisado para generar una clasificación binaria \n",
    "    '''\n",
    "     \n",
    "    '''\n",
    "    Constructor del perceptron: La tarea del perceptron es realizar el entrenamiento \n",
    "    de nuestra Neurona definida en el apartado 1, para ello debemos definir:\n",
    "        Epochs la cantidad de ciclos en los que se va a evaluar y mejorar el desempeño de nuestra \n",
    "            neurona (ajustando sus pesos y bias)\n",
    "        Learning rate impone un límite para el tamaño de cambio en el ajuste de pesos y bias \n",
    "            entre epochs\n",
    "        Función de perdida, similar a la función de activación, la función de perdida define \n",
    "            de que manera cuantificar la diferencia entre el valor predicho por la \n",
    "            neurona y el valor real de clasificación\n",
    "        Función optimizador, es el algoritmo para míminizar el resultado de nuestra función de \n",
    "            perdida\n",
    "        Finalmente nuestro Perceptron necesita una Neurona para operar y entrenar, por lo que \n",
    "            decidí emplear una relación de composición (Paradigma de Objetos) en el que\n",
    "            la Neurona se crea cuando se crea el perceptron.\n",
    "    '''\n",
    "    def __init__(self, epochs, learning_rate, func_perdida, func_optimizador, n_features, func_activ):\n",
    "        self.epochs = epochs\n",
    "        self.learning_rate = learning_rate\n",
    "        self.func_perdida = func_perdida\n",
    "        self.func_optimizador = func_optimizador\n",
    "        self.neurona = Neurona(n_features, func_activ)\n",
    "        \n",
    "    '''\n",
    "    Test\n",
    "        Una función que permite obtener los valores estimados dato un conjunto de entradas, \n",
    "        esta función permite evaluar el desempeño del perceptron\n",
    "    '''\n",
    "    def test(self, x_s):\n",
    "        return [self.neurona.Salida(example) for example in x_s]\n",
    "        \n",
    "    \n",
    "    '''\n",
    "    Entrenar\n",
    "        Esta función es para evaluar el desempeño actual de los pesos y bias y realizar \n",
    "        actualizaciones que ayuden a mejorar la precisión de las predicciones.\n",
    "    '''\n",
    "    def Entrenar(self, x_s, y_s):\n",
    "        # Iteramos epochs veces\n",
    "        for i in range(self.epochs):\n",
    "            escalar_pesos = np.empty(shape=(x_s.shape[1]))\n",
    "            escalar_bias = 0\n",
    "            print(f\"Epoch {i+1}\")\n",
    "            # Realizar todas las predicciones del dataset completo (epoch)\n",
    "            y_s_pred = [self.neurona.Salida(example) for example in x_s]\n",
    "            '''\n",
    "            Calcular Error \n",
    "            Aplicar la función de perdida para medir la diferencia entre los valores predicho por \n",
    "            la neurona y los valores real (Calcula el error del epoch)\n",
    "            '''\n",
    "            epoch_loss = self.func_perdida(y_s, y_s_pred)\n",
    "            for i in range(len(x_s)):\n",
    "                \n",
    "                # Para cada ejemplo (renglon), calcular pesos y bias\n",
    "                n_escalar_pesos, n_escalar_bias = gradient(\n",
    "                    x_s[i], \n",
    "                    self.neurona.GetPesos(),  \n",
    "                    (y_s[i] - y_s_pred[i]) **2, \n",
    "                    y_s_pred[i])\n",
    "                escalar_pesos = escalar_pesos + n_escalar_pesos\n",
    "                escalar_bias += n_escalar_bias\n",
    "                '''\n",
    "                Algunas otras versiones de actualización de pesos y bias\n",
    "                escalar_pesos += self.neurona.GetPesos()  * (y_s[i] - y_s_pred[i]) * x_s[i]\n",
    "                escalar_bias += self.neurona.GetBias()  * (y_s[i] - y_s_pred[i])\n",
    "                '''\n",
    "                '''\n",
    "                Algunas otras versiones de actualización de pesos y bias\n",
    "                escalar_pesos -= learning_rate * (-2 * y_s[i] - y_s_pred[i] ) \\\n",
    "                    * sigmoid_derivative(y_s_pred[i]) * x_s[i]\n",
    "                '''\n",
    "                \n",
    "            # Se actualizan los valores de pesos y bias de la neurona justo antes \n",
    "            # de comenzar el procesamiento del nuevo epoch\n",
    "            self.neurona.SetBias(escalar_bias * self.learning_rate /len(x_s))\n",
    "            self.neurona.SetPesos(escalar_pesos * self.learning_rate/len(x_s))\n",
    "            print(f\"Loss-->{epoch_loss}\")\n",
    "             "
   ]
  },
  {
   "cell_type": "markdown",
   "id": "147bb803",
   "metadata": {},
   "source": [
    "### 2.1.1 Cuáles son las posibles opciones de métodos\n",
    "Para nuestra implementación del perceptron además de los parametros iniciales (epochs y tasa de aprendizaje) requerimos dos funciones:\n",
    "- func_perdida\n",
    "- func_optimizador\n",
    "Ambas estan enfocadas en permitir y controlar el ajuste de pesos y bias de nuestra neurona durante el entrenamiento. \n",
    "Para la función de perdida (que se encarga de cuantificar la diferencia entre el valor real y el predicho) existen multiples opciones en librerías como Keras:\n",
    "#### Regresión:\n",
    "- Error Cuadrático Medio (MSE)\n",
    "- Error Absoluto Medio (MAE)\n",
    "- Error Huber\n",
    "#### Clasificación:\n",
    "- Entropía cruzada binaria\n",
    "- Entropía cruzada categórica\n",
    "- Hinge Loss\n",
    "         \n",
    "Respecto a la función de optimización, que se encarga de minimizar la función de perdida, en Keras existen implementaciones como:\n",
    "- SGD\n",
    "- RMSprop\n",
    "- Adam\n",
    "- AdamW\n",
    "- Adadelta\n",
    "- Adagrad\n",
    "- Adamax\n",
    "- Adafactor\n",
    "- Nadam\n",
    "- Ftrl\n",
    "\n",
    "Para este ejercicio, dada la restricción de liberrías, decidí emplear el método de error cuadrado medio (MSE) como función de perdida y emplear el descenso de gradiente como función de optmización, cabe resaltar que una de las grandes limitantes del descenso de gradiente es que debe ser posible derivar nuestra función de activación (regla que se cumple con la función sigmoidea), de otra manera (por ejemplo con hard sigmoid) no sería posible emplear el descenso de gradiente como función de optimización. "
   ]
  },
  {
   "cell_type": "markdown",
   "id": "25d45476",
   "metadata": {},
   "source": [
    "# 3 Utiliza tu implementación para clasificar la base de datos digits de sklearn"
   ]
  },
  {
   "cell_type": "code",
   "execution_count": 3,
   "id": "34d33ccd",
   "metadata": {},
   "outputs": [],
   "source": [
    "import numpy as np\n",
    "from sklearn.datasets import load_digits"
   ]
  },
  {
   "cell_type": "code",
   "execution_count": 4,
   "id": "203f7e82",
   "metadata": {},
   "outputs": [
    {
     "name": "stdout",
     "output_type": "stream",
     "text": [
      "(1797, 64)\n",
      "(1797,)\n"
     ]
    }
   ],
   "source": [
    "# Cargamos todos los datos de las 10 clases\n",
    "X, y = load_digits(return_X_y=True)\n",
    "print(X.shape)\n",
    "print(y.shape)"
   ]
  },
  {
   "cell_type": "markdown",
   "id": "8ce0e74b",
   "metadata": {},
   "source": [
    "## 3.1 Utiliza solo dos clases, seleccionadas de manera aleatoria."
   ]
  },
  {
   "cell_type": "code",
   "execution_count": 5,
   "id": "d6f6899b",
   "metadata": {},
   "outputs": [
    {
     "name": "stdout",
     "output_type": "stream",
     "text": [
      "Se va a entrenar para reconocer las clases: [0, 2]\n"
     ]
    }
   ],
   "source": [
    "import random\n",
    "# Preferí la implementación de random.sample porque me permite generar n valores random sin repetir\n",
    "classes = random.sample(range(y.min(), y.max()), 2)\n",
    "print(f\"Se va a entrenar para reconocer las clases: {classes}\")"
   ]
  },
  {
   "cell_type": "code",
   "execution_count": 6,
   "id": "7a5cbc71",
   "metadata": {},
   "outputs": [
    {
     "name": "stdout",
     "output_type": "stream",
     "text": [
      "¿El número de ejemplos en x filtrado (355) es igual al de y filtado? True\n",
      "Las clases filtradas son: [0 1]\n"
     ]
    }
   ],
   "source": [
    "#filtered_x = np.ndarray(shape=(0, X.shape[1])) Mala práctica según la documentación\n",
    "filtered_x = np.empty(shape=(0, X.shape[1]))\n",
    "filtered_y = np.empty(shape=0)\n",
    "\n",
    "for clas in classes:\n",
    "    mask_class = np.ma.masked_where(y == clas, y)\n",
    "    filtered_x = np.concatenate((filtered_x, X[mask_class.mask]))\n",
    "    filtered_y = np.concatenate((filtered_y, y[mask_class.mask]))\n",
    "# Cambio los targets a 0 o 1 para que sea acorde a lo que regresa nuestra función sigmoidea\n",
    "filtered_y= (filtered_y==classes[0]).astype(int)\n",
    "    \n",
    "\n",
    "#Validando filtro\n",
    "print(f\"¿El número de ejemplos en x filtrado ({filtered_x.shape[0]}) \\\n",
    "es igual al de y filtado? \\\n",
    "{filtered_x.shape[0] == filtered_y.shape[0]}\")\n",
    "print(f\"Las clases filtradas son: {np.unique(filtered_y)}\")\n"
   ]
  },
  {
   "cell_type": "markdown",
   "id": "ea61dad5",
   "metadata": {},
   "source": [
    "## 3.2 Realiza los pasos de pre-procesamiento que consideres necesarios para mejorar la calidad del clasificador. "
   ]
  },
  {
   "cell_type": "code",
   "execution_count": 7,
   "id": "b07ca614",
   "metadata": {},
   "outputs": [
    {
     "name": "stdout",
     "output_type": "stream",
     "text": [
      "El rango de valores por pixel se cambio a 0.0 - 1.0\n"
     ]
    }
   ],
   "source": [
    "from sklearn.preprocessing import MinMaxScaler\n",
    "# Normalizamos los datos para tener un rango 0-1 reemplazando 0-16\n",
    "scaler = MinMaxScaler().fit(filtered_x)\n",
    "normalized_x = scaler.transform(filtered_x)\n",
    "print(f\"El rango de valores por pixel se cambio a {normalized_x.min()} - {normalized_x.max()}\")\n"
   ]
  },
  {
   "cell_type": "code",
   "execution_count": 8,
   "id": "3b72291e",
   "metadata": {},
   "outputs": [
    {
     "name": "stdout",
     "output_type": "stream",
     "text": [
      "Cantidad de 0 = 117\n",
      "Cantidad de 2 = 0\n"
     ]
    }
   ],
   "source": [
    "from sklearn.model_selection import train_test_split\n",
    "# Generamos dos datasets (train 70% y test 30%) \n",
    "x_train, x_test, y_train, y_test = train_test_split(normalized_x, filtered_y, test_size=0.30)\n",
    "\n",
    "# Validando distribución de nuestras clases en train\n",
    "for clas in classes:\n",
    "    print(f\"Cantidad de {clas} = {np.count_nonzero(y_train == clas)}\")\n"
   ]
  },
  {
   "cell_type": "markdown",
   "id": "28d0da49",
   "metadata": {},
   "source": [
    "## 3.3 Entrena la neurona para predecir cuál es el número de la imagen."
   ]
  },
  {
   "cell_type": "code",
   "execution_count": 9,
   "id": "7e81c423",
   "metadata": {},
   "outputs": [],
   "source": [
    "# Función de activación\n",
    "def sigmoid(x):\n",
    "    return 1 / (1 + np.exp(-x))\n",
    "\n",
    "# Derivada de sigmoid (se usa para optimizar en gradiente)\n",
    "def sigmoid_derivative(x):\n",
    "    return sigmoid(x) * (1 - sigmoid(x))\n",
    "\n",
    "# Función de perdida\n",
    "'''\n",
    "    y_s y y_s_pred se espera que contengan todos los valores y y y_pred del dataset completo\n",
    "'''\n",
    "def mean_squared_error(y_s, y_s_pred): \n",
    "    #1/n * sum (y-y_pred)**2\n",
    "    return 1/len(y_s) * np.sum((y_s-y_s_pred)**2)\n",
    "    #return np.sum((y_s-y_s_pred)**2)\n",
    "\n",
    "# Función de optimización\n",
    "def gradient(x, weights, y, y_pred):\n",
    "    # new_w = w + learning_rate + (target - predict) + feature\n",
    "    # donde: \n",
    "    # predict = derivada de función de activacion para el valor actual\n",
    "    escalar_pesos = [ (y - sigmoid_derivative(y_pred)) * x[i] for i in range(len(weights))]\n",
    "    escalar_bias =  (y - sigmoid_derivative(y_pred))\n",
    "    return escalar_pesos, escalar_bias\n",
    " \n"
   ]
  },
  {
   "cell_type": "code",
   "execution_count": 10,
   "id": "3b32f6ee",
   "metadata": {},
   "outputs": [],
   "source": [
    "epochs = 100\n",
    "learning_rate = 0.1\n",
    "\n",
    "percep = Perceptron(\n",
    "    epochs, \n",
    "    learning_rate, \n",
    "    mean_squared_error,    # Func perdida\n",
    "    gradient,    # Func optimizador\n",
    "    normalized_x.shape[1], # n_features\n",
    "    sigmoid                # Func activ\n",
    ")\n"
   ]
  },
  {
   "cell_type": "code",
   "execution_count": 11,
   "id": "e8650873",
   "metadata": {},
   "outputs": [
    {
     "name": "stdout",
     "output_type": "stream",
     "text": [
      "Epoch 1\n",
      "Loss-->0.4716898612687641\n",
      "Epoch 2\n",
      "Loss-->0.2696257792354477\n",
      "Epoch 3\n",
      "Loss-->0.2525079322181528\n",
      "Epoch 4\n",
      "Loss-->0.2501146532131482\n",
      "Epoch 5\n",
      "Loss-->0.24986515796373776\n",
      "Epoch 6\n",
      "Loss-->0.2498350697431443\n",
      "Epoch 7\n",
      "Loss-->0.24983195965357954\n",
      "Epoch 8\n",
      "Loss-->0.24983158188341975\n",
      "Epoch 9\n",
      "Loss-->0.249831543151528\n",
      "Epoch 10\n",
      "Loss-->0.24983153840666378\n",
      "Epoch 11\n",
      "Loss-->0.24983153792453852\n",
      "Epoch 12\n",
      "Loss-->0.24983153786491757\n",
      "Epoch 13\n",
      "Loss-->0.24983153785891934\n",
      "Epoch 14\n",
      "Loss-->0.24983153785816983\n",
      "Epoch 15\n",
      "Loss-->0.24983153785809525\n",
      "Epoch 16\n",
      "Loss-->0.24983153785808582\n",
      "Epoch 17\n",
      "Loss-->0.2498315378580849\n",
      "Epoch 18\n",
      "Loss-->0.2498315378580848\n",
      "Epoch 19\n",
      "Loss-->0.2498315378580848\n",
      "Epoch 20\n",
      "Loss-->0.24983153785808476\n",
      "Epoch 21\n",
      "Loss-->0.24983153785808476\n",
      "Epoch 22\n",
      "Loss-->0.24983153785808476\n",
      "Epoch 23\n",
      "Loss-->0.24983153785808476\n",
      "Epoch 24\n",
      "Loss-->0.24983153785808476\n",
      "Epoch 25\n",
      "Loss-->0.24983153785808476\n",
      "Epoch 26\n",
      "Loss-->0.24983153785808476\n",
      "Epoch 27\n",
      "Loss-->0.24983153785808476\n",
      "Epoch 28\n",
      "Loss-->0.24983153785808476\n",
      "Epoch 29\n",
      "Loss-->0.24983153785808476\n",
      "Epoch 30\n",
      "Loss-->0.24983153785808476\n",
      "Epoch 31\n",
      "Loss-->0.24983153785808476\n",
      "Epoch 32\n",
      "Loss-->0.24983153785808476\n",
      "Epoch 33\n",
      "Loss-->0.24983153785808476\n",
      "Epoch 34\n",
      "Loss-->0.24983153785808476\n",
      "Epoch 35\n",
      "Loss-->0.24983153785808476\n",
      "Epoch 36\n",
      "Loss-->0.24983153785808476\n",
      "Epoch 37\n",
      "Loss-->0.24983153785808476\n",
      "Epoch 38\n",
      "Loss-->0.24983153785808476\n",
      "Epoch 39\n",
      "Loss-->0.24983153785808476\n",
      "Epoch 40\n",
      "Loss-->0.24983153785808476\n",
      "Epoch 41\n",
      "Loss-->0.24983153785808476\n",
      "Epoch 42\n",
      "Loss-->0.24983153785808476\n",
      "Epoch 43\n",
      "Loss-->0.24983153785808476\n",
      "Epoch 44\n",
      "Loss-->0.24983153785808476\n",
      "Epoch 45\n",
      "Loss-->0.24983153785808476\n",
      "Epoch 46\n",
      "Loss-->0.24983153785808476\n",
      "Epoch 47\n",
      "Loss-->0.24983153785808476\n",
      "Epoch 48\n",
      "Loss-->0.24983153785808476\n",
      "Epoch 49\n",
      "Loss-->0.24983153785808476\n",
      "Epoch 50\n",
      "Loss-->0.24983153785808476\n",
      "Epoch 51\n",
      "Loss-->0.24983153785808476\n",
      "Epoch 52\n",
      "Loss-->0.24983153785808476\n",
      "Epoch 53\n",
      "Loss-->0.24983153785808476\n",
      "Epoch 54\n",
      "Loss-->0.24983153785808476\n",
      "Epoch 55\n",
      "Loss-->0.24983153785808476\n",
      "Epoch 56\n",
      "Loss-->0.24983153785808476\n",
      "Epoch 57\n",
      "Loss-->0.24983153785808476\n",
      "Epoch 58\n",
      "Loss-->0.24983153785808476\n",
      "Epoch 59\n",
      "Loss-->0.24983153785808476\n",
      "Epoch 60\n",
      "Loss-->0.24983153785808476\n",
      "Epoch 61\n",
      "Loss-->0.24983153785808476\n",
      "Epoch 62\n",
      "Loss-->0.24983153785808476\n",
      "Epoch 63\n",
      "Loss-->0.24983153785808476\n",
      "Epoch 64\n",
      "Loss-->0.24983153785808476\n",
      "Epoch 65\n",
      "Loss-->0.24983153785808476\n",
      "Epoch 66\n",
      "Loss-->0.24983153785808476\n",
      "Epoch 67\n",
      "Loss-->0.24983153785808476\n",
      "Epoch 68\n",
      "Loss-->0.24983153785808476\n",
      "Epoch 69\n",
      "Loss-->0.24983153785808476\n",
      "Epoch 70\n",
      "Loss-->0.24983153785808476\n",
      "Epoch 71\n",
      "Loss-->0.24983153785808476\n",
      "Epoch 72\n",
      "Loss-->0.24983153785808476\n",
      "Epoch 73\n",
      "Loss-->0.24983153785808476\n",
      "Epoch 74\n",
      "Loss-->0.24983153785808476\n",
      "Epoch 75\n",
      "Loss-->0.24983153785808476\n",
      "Epoch 76\n",
      "Loss-->0.24983153785808476\n",
      "Epoch 77\n",
      "Loss-->0.24983153785808476\n",
      "Epoch 78\n",
      "Loss-->0.24983153785808476\n",
      "Epoch 79\n",
      "Loss-->0.24983153785808476\n",
      "Epoch 80\n",
      "Loss-->0.24983153785808476\n",
      "Epoch 81\n",
      "Loss-->0.24983153785808476\n",
      "Epoch 82\n",
      "Loss-->0.24983153785808476\n",
      "Epoch 83\n",
      "Loss-->0.24983153785808476\n",
      "Epoch 84\n",
      "Loss-->0.24983153785808476\n",
      "Epoch 85\n",
      "Loss-->0.24983153785808476\n",
      "Epoch 86\n",
      "Loss-->0.24983153785808476\n",
      "Epoch 87\n",
      "Loss-->0.24983153785808476\n",
      "Epoch 88\n",
      "Loss-->0.24983153785808476\n",
      "Epoch 89\n",
      "Loss-->0.24983153785808476\n",
      "Epoch 90\n",
      "Loss-->0.24983153785808476\n",
      "Epoch 91\n",
      "Loss-->0.24983153785808476\n",
      "Epoch 92\n",
      "Loss-->0.24983153785808476\n",
      "Epoch 93\n",
      "Loss-->0.24983153785808476\n",
      "Epoch 94\n",
      "Loss-->0.24983153785808476\n",
      "Epoch 95\n",
      "Loss-->0.24983153785808476\n",
      "Epoch 96\n",
      "Loss-->0.24983153785808476\n",
      "Epoch 97\n",
      "Loss-->0.24983153785808476\n",
      "Epoch 98\n",
      "Loss-->0.24983153785808476\n",
      "Epoch 99\n",
      "Loss-->0.24983153785808476\n",
      "Epoch 100\n",
      "Loss-->0.24983153785808476\n"
     ]
    }
   ],
   "source": [
    "percep.Entrenar(x_train, y_train)\n"
   ]
  },
  {
   "cell_type": "markdown",
   "id": "1071671d",
   "metadata": {},
   "source": [
    "## 3.4 Explica las razones detrás de la selección de los distintos parámetros.\n",
    "Se realizaron pruebas con distintas tasas de aprendizaje variando desde 0.5 hasta 0.01, desafortunadamente el problema no parece estar ahí, sino en la función de optimización de pesos y bias, también se eligieron 100 epochs, aunque el estado actual muestra una convergencia rápida (desde los primeros 5 epochs aprox)."
   ]
  },
  {
   "cell_type": "markdown",
   "id": "c06499ef",
   "metadata": {},
   "source": [
    "## 3.5 Obtén el valor de la pérdida (loss) y da una explicación de cuando y porque cambian estos valores (o porque no)\n",
    "La perdida es un calculo de la distancia entre los valores reales y los valores predichos, la perdida total del epoch es una ponderación de todos los ejemplos que se analizan durante el epoch, es normal que al principio el loss sea alto, ya que se parte de pesos aleatorios, conforme la optimización comienza a mejorar los pesos, se espera que el loss disminuya hasta que logre la convergencia, punto en el que se alcanzan puntos optimos (que pueden ser locales) en los parametros de peso y bias"
   ]
  },
  {
   "cell_type": "markdown",
   "id": "c4a0a04d",
   "metadata": {},
   "source": [
    "## 3.6 Evalúa el desempeño contra una muestra en la que nunca se haya entrenado."
   ]
  },
  {
   "cell_type": "code",
   "execution_count": 15,
   "id": "cb878d65",
   "metadata": {},
   "outputs": [
    {
     "name": "stdout",
     "output_type": "stream",
     "text": [
      "Precisión test: 0.5282258064516129\n",
      "Muestras mal clasificadas: 50\n"
     ]
    }
   ],
   "source": [
    "import sklearn\n",
    "#Primero realizo una evaluación del dataset de entrenamiento para estimar su accuracy\n",
    "test_acc = sklearn.metrics.accuracy_score(y_train, np.round(percep.test(x_train)))\n",
    "n_misses = (1-test_acc)*y_test.shape[0]\n",
    "print(f\"Precisión test: {test_acc}\\nMuestras mal clasificadas: {round(n_misses)}\")"
   ]
  },
  {
   "cell_type": "code",
   "execution_count": 13,
   "id": "6839a90f",
   "metadata": {},
   "outputs": [
    {
     "name": "stdout",
     "output_type": "stream",
     "text": [
      "Precisión test: 0.4392523364485981\n",
      "Muestras mal clasificadas: 60\n"
     ]
    }
   ],
   "source": [
    "# Este es un test con datos que el modelo no ha visto\n",
    "test_acc = sklearn.metrics.accuracy_score(y_test, np.round(percep.test(x_test)))\n",
    "n_misses = (1-test_acc)*y_test.shape[0]\n",
    "print(f\"Precisión test: {test_acc}\\nMuestras mal clasificadas: {round(n_misses)}\")"
   ]
  },
  {
   "cell_type": "markdown",
   "id": "ceff05e1",
   "metadata": {},
   "source": [
    "### 3.6.2 Interpreta cuál es el significado cada valor de los indicadores \n",
    "Desafortunadamente como el optimizador no esta funcionando correctamente, el modelo sobreclasifica en una categoría y como tenemos muestras que tienen a tener 50% de cada categoría, muestra un accuracy que ronda el 50% también, pero en realidad intenta categorizar todos los datos igual, entonces estas métricas no son muy informativas respecto al performance del perceptron, sino del muestreo mismo"
   ]
  },
  {
   "cell_type": "markdown",
   "id": "0894c6c3",
   "metadata": {},
   "source": [
    "# 4 Presenta una conclusión final del modelo creado. Cuales son las fortalezas y debilidades, así como sugerencias para mejorar su desempeño.     \n",
    "En general creo que las partes que componen al perceptron estan bien plasmadas en el código con la desafortunada excepción del optimizador, que prácticamente es el núcleo del sistema, la clara mejora esta en lograr entender porque no ajusta los metaparametros (pesos y bias) de manera correcta, y es entonces cuando se podrá realmente obtener métricas de perdida y accuracy realmente informativas y se podrá jugar un poco más con parametros como cambiar las funciones de activación o perdida. Una fortaleza técnica es que intenté generar las clases lo más polimorficas posibles con la idea de que cambiar incluso funciones de activación u optimización sea tan senicillo como cambiar un parametro tipo tasa de aprendizaje o cantidad de epochs. Seré malo en matematicas pero me defiendo en programación :/         \n",
    "Finalmente una mejora probablemente sea estudiar mejor el lenguaje Python para extraer el máximo performance, o realizar una implementación en un lenguaje a más bajo nivel (C/C++) para aplicar téncicas como mapeo de memoria o computo paralelo, creo que estos son los casos en que, implementar las mejores estratégias de performance pueden generar grandes recompensas."
   ]
  },
  {
   "cell_type": "code",
   "execution_count": 16,
   "id": "8a3ccb5a",
   "metadata": {},
   "outputs": [
    {
     "name": "stdout",
     "output_type": "stream",
     "text": [
      "0\n"
     ]
    },
    {
     "data": {
      "image/png": "[encoded data removed]",
      "text/plain": [
       "<Figure size 1200x400 with 1 Axes>"
      ]
     },
     "metadata": {},
     "output_type": "display_data"
    },
    {
     "name": "stdout",
     "output_type": "stream",
     "text": [
      "1\n"
     ]
    },
    {
     "data": {
      "image/png": "[encoded data removed]",
      "text/plain": [
       "<Figure size 1200x400 with 1 Axes>"
      ]
     },
     "metadata": {},
     "output_type": "display_data"
    },
    {
     "name": "stdout",
     "output_type": "stream",
     "text": [
      "2\n"
     ]
    },
    {
     "data": {
      "image/png": "[encoded data removed]",
      "text/plain": [
       "<Figure size 1200x400 with 1 Axes>"
      ]
     },
     "metadata": {},
     "output_type": "display_data"
    },
    {
     "name": "stdout",
     "output_type": "stream",
     "text": [
      "3\n"
     ]
    },
    {
     "data": {
      "image/png": "[encoded data removed]",
      "text/plain": [
       "<Figure size 1200x400 with 1 Axes>"
      ]
     },
     "metadata": {},
     "output_type": "display_data"
    },
    {
     "name": "stdout",
     "output_type": "stream",
     "text": [
      "4\n"
     ]
    },
    {
     "data": {
      "image/png": "[encoded data removed]",
      "text/plain": [
       "<Figure size 1200x400 with 1 Axes>"
      ]
     },
     "metadata": {},
     "output_type": "display_data"
    },
    {
     "name": "stdout",
     "output_type": "stream",
     "text": [
      "5\n"
     ]
    },
    {
     "data": {
      "image/png": "[encoded data removed]",
      "text/plain": [
       "<Figure size 1200x400 with 1 Axes>"
      ]
     },
     "metadata": {},
     "output_type": "display_data"
    },
    {
     "name": "stdout",
     "output_type": "stream",
     "text": [
      "6\n"
     ]
    },
    {
     "data": {
      "image/png": "[encoded data removed]",
      "text/plain": [
       "<Figure size 1200x400 with 1 Axes>"
      ]
     },
     "metadata": {},
     "output_type": "display_data"
    },
    {
     "name": "stdout",
     "output_type": "stream",
     "text": [
      "7\n"
     ]
    },
    {
     "data": {
      "image/png": "[encoded data removed]",
      "text/plain": [
       "<Figure size 1200x400 with 1 Axes>"
      ]
     },
     "metadata": {},
     "output_type": "display_data"
    },
    {
     "name": "stdout",
     "output_type": "stream",
     "text": [
      "8\n"
     ]
    },
    {
     "data": {
      "image/png": "[encoded data removed]",
      "text/plain": [
       "<Figure size 1200x400 with 1 Axes>"
      ]
     },
     "metadata": {},
     "output_type": "display_data"
    },
    {
     "name": "stdout",
     "output_type": "stream",
     "text": [
      "9\n"
     ]
    },
    {
     "data": {
      "image/png": "[encoded data removed]",
      "text/plain": [
       "<Figure size 1200x400 with 1 Axes>"
      ]
     },
     "metadata": {},
     "output_type": "display_data"
    }
   ],
   "source": [
    "import matplotlib.pyplot as plt\n",
    "for i in range(0, 10):\n",
    "    print(i)\n",
    "    plt.figure(figsize=(12, 4))\n",
    "    plt.imshow(normalized_x[i].reshape(8, 8), cmap='viridis')\n",
    "    plt.title(f'Predicción: Clase {filtered_y[i]}')\n",
    "    plt.axis('off')\n",
    "    plt.tight_layout()\n",
    "    plt.show()\n"
   ]
  },
  {
   "cell_type": "markdown",
   "id": "7263f7bb",
   "metadata": {},
   "source": []
  },
  {
   "cell_type": "code",
   "execution_count": null,
   "id": "796341a9",
   "metadata": {},
   "outputs": [],
   "source": []
  }
 ],
 "metadata": {
  "kernelspec": {
   "display_name": "Python 3 (ipykernel)",
   "language": "python",
   "name": "python3"
  },
  "language_info": {
   "codemirror_mode": {
    "name": "ipython",
    "version": 3
   },
   "file_extension": ".py",
   "mimetype": "text/x-python",
   "name": "python",
   "nbconvert_exporter": "python",
   "pygments_lexer": "ipython3",
   "version": "3.11.2"
  }
 },
 "nbformat": 4,
 "nbformat_minor": 5
}
