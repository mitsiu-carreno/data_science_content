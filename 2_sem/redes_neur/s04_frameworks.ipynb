{
 "cells": [
  {
   "cell_type": "markdown",
   "metadata": {},
   "source": [
    "- Tensorflow framework de google para sus inteligencias artificales          \n",
    "- PyTorch framework de Facebook (más nuevo) más integrado al workflow de pytons        \n",
    "- Keras librería encima de TensorFlow (optimizadores) tan popular que TensorFlow termina integrando Keras (el costo es abstracción, ¿Qué hace por dentro?)         \n",
    "- PyTorch no ha tenido esta gran librería           \n",
    "- ScikitLearn sale de una tesis doctoral, sabe hacer redes neuronales, pero no es su fuerte (Redes neuronales básicas) (hacer variables dummy, normalizar, todo el preprocesamiento)"
   ]
  },
  {
   "cell_type": "markdown",
   "metadata": {
    "id": "HOMRAS_9iy81"
   },
   "source": [
    "# PyTorch"
   ]
  },
  {
   "cell_type": "code",
   "execution_count": 1,
   "metadata": {},
   "outputs": [
    {
     "name": "stdout",
     "output_type": "stream",
     "text": [
      "Defaulting to user installation because normal site-packages is not writeable\n",
      "Requirement already satisfied: torchvision in /home/kincaid/.local/lib/python3.11/site-packages (0.15.2)\n",
      "Requirement already satisfied: numpy in /usr/lib/python3/dist-packages (from torchvision) (1.24.2)\n",
      "Requirement already satisfied: requests in /usr/lib/python3/dist-packages (from torchvision) (2.28.1)\n",
      "Requirement already satisfied: torch==2.0.1 in /home/kincaid/.local/lib/python3.11/site-packages (from torchvision) (2.0.1)\n",
      "Requirement already satisfied: pillow!=8.3.*,>=5.3.0 in /usr/lib/python3/dist-packages (from torchvision) (9.4.0)\n",
      "Requirement already satisfied: filelock in /usr/lib/python3/dist-packages (from torch==2.0.1->torchvision) (3.9.0)\n",
      "Requirement already satisfied: typing-extensions in /usr/lib/python3/dist-packages (from torch==2.0.1->torchvision) (4.4.0)\n",
      "Requirement already satisfied: sympy in /usr/lib/python3/dist-packages (from torch==2.0.1->torchvision) (1.11.1)\n",
      "Requirement already satisfied: networkx in /usr/lib/python3/dist-packages (from torch==2.0.1->torchvision) (2.8.8)\n",
      "Requirement already satisfied: jinja2 in /usr/lib/python3/dist-packages (from torch==2.0.1->torchvision) (3.1.2)\n",
      "Requirement already satisfied: nvidia-cuda-nvrtc-cu11==11.7.99 in /home/kincaid/.local/lib/python3.11/site-packages (from torch==2.0.1->torchvision) (11.7.99)\n",
      "Requirement already satisfied: nvidia-cuda-runtime-cu11==11.7.99 in /home/kincaid/.local/lib/python3.11/site-packages (from torch==2.0.1->torchvision) (11.7.99)\n",
      "Requirement already satisfied: nvidia-cuda-cupti-cu11==11.7.101 in /home/kincaid/.local/lib/python3.11/site-packages (from torch==2.0.1->torchvision) (11.7.101)\n",
      "Requirement already satisfied: nvidia-cudnn-cu11==8.5.0.96 in /home/kincaid/.local/lib/python3.11/site-packages (from torch==2.0.1->torchvision) (8.5.0.96)\n",
      "Requirement already satisfied: nvidia-cublas-cu11==11.10.3.66 in /home/kincaid/.local/lib/python3.11/site-packages (from torch==2.0.1->torchvision) (11.10.3.66)\n",
      "Requirement already satisfied: nvidia-cufft-cu11==10.9.0.58 in /home/kincaid/.local/lib/python3.11/site-packages (from torch==2.0.1->torchvision) (10.9.0.58)\n",
      "Requirement already satisfied: nvidia-curand-cu11==10.2.10.91 in /home/kincaid/.local/lib/python3.11/site-packages (from torch==2.0.1->torchvision) (10.2.10.91)\n",
      "Requirement already satisfied: nvidia-cusolver-cu11==11.4.0.1 in /home/kincaid/.local/lib/python3.11/site-packages (from torch==2.0.1->torchvision) (11.4.0.1)\n",
      "Requirement already satisfied: nvidia-cusparse-cu11==11.7.4.91 in /home/kincaid/.local/lib/python3.11/site-packages (from torch==2.0.1->torchvision) (11.7.4.91)\n",
      "Requirement already satisfied: nvidia-nccl-cu11==2.14.3 in /home/kincaid/.local/lib/python3.11/site-packages (from torch==2.0.1->torchvision) (2.14.3)\n",
      "Requirement already satisfied: nvidia-nvtx-cu11==11.7.91 in /home/kincaid/.local/lib/python3.11/site-packages (from torch==2.0.1->torchvision) (11.7.91)\n",
      "Requirement already satisfied: triton==2.0.0 in /home/kincaid/.local/lib/python3.11/site-packages (from torch==2.0.1->torchvision) (2.0.0)\n",
      "Requirement already satisfied: setuptools in /usr/lib/python3/dist-packages (from nvidia-cublas-cu11==11.10.3.66->torch==2.0.1->torchvision) (66.1.1)\n",
      "Requirement already satisfied: wheel in /usr/lib/python3/dist-packages (from nvidia-cublas-cu11==11.10.3.66->torch==2.0.1->torchvision) (0.38.4)\n",
      "Requirement already satisfied: cmake in /home/kincaid/.local/lib/python3.11/site-packages (from triton==2.0.0->torch==2.0.1->torchvision) (3.27.2)\n",
      "Requirement already satisfied: lit in /home/kincaid/.local/lib/python3.11/site-packages (from triton==2.0.0->torch==2.0.1->torchvision) (16.0.6)\n"
     ]
    }
   ],
   "source": [
    "!pip install torchvision"
   ]
  },
  {
   "cell_type": "code",
   "execution_count": 2,
   "metadata": {
    "id": "ghmJww9DhvYF"
   },
   "outputs": [],
   "source": [
    "# Librerias\n",
    "import torch\n",
    "import torch.nn as nn\n",
    "import torch.optim as optim"
   ]
  },
  {
   "cell_type": "code",
   "execution_count": 3,
   "metadata": {
    "id": "uvApYuGhhvKu"
   },
   "outputs": [],
   "source": [
    "# Datos entrenamiento (and lógico)\n",
    "X = torch.tensor([[0, 0], [0, 1], [1, 0], [1, 1]], dtype=torch.float32)\n",
    "y = torch.tensor([[0], [0], [0], [1]], dtype=torch.float32)"
   ]
  },
  {
   "cell_type": "code",
   "execution_count": 4,
   "metadata": {
    "id": "sr7GqUFFiBb3"
   },
   "outputs": [],
   "source": [
    "# Definición red/neurona\n",
    "class SingleNeuron(nn.Module):\n",
    "    def __init__(self):\n",
    "        super(SingleNeuron, self).__init__()\n",
    "        self.linear = nn.Linear(2, 1)   ## SUMATORIA input1 peso1 + bias\n",
    "\n",
    "    def forward(self, x):\n",
    "        return torch.sigmoid(self.linear(x))"
   ]
  },
  {
   "cell_type": "code",
   "execution_count": 5,
   "metadata": {
    "id": "QecmETmqaQkj"
   },
   "outputs": [
    {
     "name": "stdout",
     "output_type": "stream",
     "text": [
      "Epoch [500/10000], Loss: 0.2251\n",
      "Epoch [1000/10000], Loss: 0.1421\n",
      "Epoch [1500/10000], Loss: 0.1036\n",
      "Epoch [2000/10000], Loss: 0.0812\n",
      "Epoch [2500/10000], Loss: 0.0666\n",
      "Epoch [3000/10000], Loss: 0.0563\n",
      "Epoch [3500/10000], Loss: 0.0487\n",
      "Epoch [4000/10000], Loss: 0.0429\n",
      "Epoch [4500/10000], Loss: 0.0383\n",
      "Epoch [5000/10000], Loss: 0.0346\n",
      "Epoch [5500/10000], Loss: 0.0315\n",
      "Epoch [6000/10000], Loss: 0.0289\n",
      "Epoch [6500/10000], Loss: 0.0268\n",
      "Epoch [7000/10000], Loss: 0.0249\n",
      "Epoch [7500/10000], Loss: 0.0232\n",
      "Epoch [8000/10000], Loss: 0.0218\n",
      "Epoch [8500/10000], Loss: 0.0205\n",
      "Epoch [9000/10000], Loss: 0.0194\n",
      "Epoch [9500/10000], Loss: 0.0183\n",
      "Epoch [10000/10000], Loss: 0.0174\n"
     ]
    }
   ],
   "source": [
    "# Proceso de entrenamiento\n",
    "model = SingleNeuron()\n",
    "criterion = nn.BCELoss()   #BinaryCross Loss\n",
    "optimizer = optim.SGD(model.parameters(), lr=0.1)\n",
    "\n",
    "epochs = 10000\n",
    "for epoch in range(epochs):\n",
    "    ## Definir el modelo de entrenamiento\n",
    "    outputs = model(X)  ## Automaticamente genera gradientes\n",
    "\n",
    "    loss = criterion(outputs, y)\n",
    "\n",
    "    optimizer.zero_grad()\n",
    "    loss.backward()\n",
    "    optimizer.step()\n",
    "    # Aquí irian los batch size en caso de ocuparse\n",
    "\n",
    "    if (epoch + 1) % 500 == 0:\n",
    "        print(f'Epoch [{epoch + 1}/{epochs}], Loss: {loss.item():.4f}')\n"
   ]
  },
  {
   "cell_type": "code",
   "execution_count": 6,
   "metadata": {
    "id": "JghB0wwtidtG"
   },
   "outputs": [
    {
     "name": "stdout",
     "output_type": "stream",
     "text": [
      "Predictions: tensor([[1.2458e-05],\n",
      "        [2.0244e-02],\n",
      "        [2.0244e-02],\n",
      "        [9.7165e-01]])\n"
     ]
    }
   ],
   "source": [
    "# Evaluación del modelo\n",
    "model.eval()\n",
    "with torch.no_grad():\n",
    "    predictions = model(X)\n",
    "    print(\"Predictions:\", predictions)"
   ]
  },
  {
   "cell_type": "markdown",
   "metadata": {
    "id": "cBfl_T1rk48F"
   },
   "source": [
    "# Sklearn"
   ]
  },
  {
   "cell_type": "code",
   "execution_count": null,
   "metadata": {
    "id": "YnDZEqN_lDfl"
   },
   "outputs": [],
   "source": [
    "from sklearn.linear_model import Perceptron\n",
    "from sklearn.datasets import make_classification\n",
    "from sklearn.model_selection import train_test_split\n",
    "from sklearn.metrics import accuracy_score\n",
    "import numpy as np"
   ]
  },
  {
   "cell_type": "code",
   "execution_count": null,
   "metadata": {
    "id": "qtTNCqwllDWt"
   },
   "outputs": [],
   "source": [
    "# Datos entrenamiento\n",
    "X = np.array([[0, 0], [0, 1], [1, 0], [1, 1]])\n",
    "y = np.array([0, 0, 0, 1])"
   ]
  },
  {
   "cell_type": "code",
   "execution_count": null,
   "metadata": {
    "id": "mI4lhZwLlDM0"
   },
   "outputs": [],
   "source": [
    "# Create a Perceptron model\n",
    "model = Perceptron(max_iter=1000, verbose=1)"
   ]
  },
  {
   "cell_type": "code",
   "execution_count": null,
   "metadata": {
    "id": "qCqIVXFplORh"
   },
   "outputs": [],
   "source": [
    "# Train the model on the training data\n",
    "model.fit(X, y)"
   ]
  },
  {
   "cell_type": "code",
   "execution_count": null,
   "metadata": {
    "id": "Y_OtfnSgk5sz"
   },
   "outputs": [],
   "source": [
    "# Make predictions on the test data\n",
    "y_pred = model.predict(X)\n",
    "print (f\"Predicciones: {y_pred}\")\n",
    "\n",
    "# Calculate accuracy\n",
    "accuracy = accuracy_score(y, y_pred)\n",
    "print(f'Accuracy: {accuracy:.2f}')\n"
   ]
  }
 ],
 "metadata": {
  "colab": {
   "authorship_tag": "ABX9TyMWmgxv4GI4VZAhTfl3Zq5f",
   "provenance": []
  },
  "kernelspec": {
   "display_name": "Python 3 (ipykernel)",
   "language": "python",
   "name": "python3"
  },
  "language_info": {
   "codemirror_mode": {
    "name": "ipython",
    "version": 3
   },
   "file_extension": ".py",
   "mimetype": "text/x-python",
   "name": "python",
   "nbconvert_exporter": "python",
   "pygments_lexer": "ipython3",
   "version": "3.11.2"
  }
 },
 "nbformat": 4,
 "nbformat_minor": 1
}
